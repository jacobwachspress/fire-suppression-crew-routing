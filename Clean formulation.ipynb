{
 "cells": [
  {
   "cell_type": "code",
   "execution_count": 40,
   "id": "f0e9c2ed",
   "metadata": {},
   "outputs": [],
   "source": [
    "include(\"DCG.jl\")\n",
    "include(\"cluster_test_helper.jl\");"
   ]
  },
  {
   "cell_type": "code",
   "execution_count": 21,
   "id": "d8e93c41",
   "metadata": {},
   "outputs": [
    {
     "name": "stdout",
     "output_type": "stream",
     "text": [
      "Academic license - for non-commercial use only\r\n"
     ]
    },
    {
     "data": {
      "text/plain": [
       "Gurobi.Env(Ptr{Nothing} @0x000000007d29c6f0, false, 0)"
      ]
     },
     "execution_count": 21,
     "metadata": {},
     "output_type": "execute_result"
    }
   ],
   "source": [
    "const GRB_ENV = Gurobi.Env()"
   ]
  },
  {
   "cell_type": "code",
   "execution_count": 27,
   "id": "667f05b6",
   "metadata": {},
   "outputs": [
    {
     "name": "stdout",
     "output_type": "stream",
     "text": [
      "\u001b[32m\u001b[1m      Status\u001b[22m\u001b[39m `C:\\Users\\mit\\.julia\\environments\\v1.7\\Project.toml`\n",
      " \u001b[90m [2e9cd046] \u001b[39mGurobi v0.11.4\n"
     ]
    }
   ],
   "source": [
    "import Pkg;\n",
    "Pkg.status(\"Gurobi\")"
   ]
  },
  {
   "cell_type": "code",
   "execution_count": 22,
   "id": "bbf15f16",
   "metadata": {},
   "outputs": [
    {
     "name": "stdout",
     "output_type": "stream",
     "text": [
      "Gurobi Optimizer version 9.0.3 build v9.0.3rc0 (win64)\r\n",
      "Optimize a model with 0 rows, 1 columns and 0 nonzeros\r\n",
      "Model fingerprint: 0x449ace9c\r\n",
      "Coefficient statistics:\r\n",
      "  Matrix range     [0e+00, 0e+00]\r\n",
      "  Objective range  [1e+00, 1e+00]\r\n",
      "  Bounds range     [1e+00, 1e+00]\r\n",
      "  RHS range        [0e+00, 0e+00]\r\n",
      "Presolve removed 0 rows and 1 columns\r\n",
      "Presolve time: 0.01s\r\n",
      "Presolve: All rows and columns removed\r\n",
      "Iteration    Objective       Primal Inf.    Dual Inf.      Time\r\n",
      "       0    1.0000000e+00   0.000000e+00   0.000000e+00      0s\r\n",
      "\r\n",
      "Solved in 0 iterations and 0.01 seconds\r\n",
      "Optimal objective  1.000000000e+00\r\n",
      "\r\n",
      "User-callback calls 19, time in user-callback 0.00 sec\r\n"
     ]
    }
   ],
   "source": [
    "m = Model(() -> Gurobi.Optimizer(GRB_ENV))\n",
    "\n",
    "@variable(m, x >= 1)\n",
    "@objective(m, Min, x)\n",
    "optimize!(m)"
   ]
  },
  {
   "cell_type": "code",
   "execution_count": 24,
   "id": "65a311af",
   "metadata": {},
   "outputs": [
    {
     "data": {
      "text/plain": [
       "1.0"
      ]
     },
     "execution_count": 24,
     "metadata": {},
     "output_type": "execute_result"
    }
   ],
   "source": [
    "objective_bound(m)"
   ]
  },
  {
   "cell_type": "code",
   "execution_count": 41,
   "id": "b9734997",
   "metadata": {},
   "outputs": [],
   "source": [
    "using JSON"
   ]
  },
  {
   "cell_type": "code",
   "execution_count": 33,
   "id": "f6f6e15a",
   "metadata": {},
   "outputs": [
    {
     "data": {
      "text/plain": [
       "\"data/experiment_inputs/20221123/5.json\""
      ]
     },
     "execution_count": 33,
     "metadata": {},
     "output_type": "execute_result"
    }
   ],
   "source": [
    "date = \"20221123\"\n",
    "number = \"5\"\n",
    "\"data/experiment_inputs/\" * date * \"/\" * number * \".json\""
   ]
  },
  {
   "cell_type": "code",
   "execution_count": 3,
   "id": "9323b26d",
   "metadata": {},
   "outputs": [
    {
     "data": {
      "text/plain": [
       "Dict{String, Any} with 1 entry:\n",
       "  \"dcg\" => Dict{String, Any}(\"num_crews\"=>10, \"num_fires\"=>3, \"line_per_crew\"=>…"
      ]
     },
     "execution_count": 3,
     "metadata": {},
     "output_type": "execute_result"
    }
   ],
   "source": [
    "external_params = JSON.parse(open(\"data/experiment_inputs/20221121/1.json\"))"
   ]
  },
  {
   "cell_type": "code",
   "execution_count": 5,
   "id": "00340c4a",
   "metadata": {},
   "outputs": [
    {
     "data": {
      "text/plain": [
       "Dict{String, Any} with 3 entries:\n",
       "  \"num_crews\"     => 10\n",
       "  \"num_fires\"     => 3\n",
       "  \"line_per_crew\" => 17"
      ]
     },
     "execution_count": 5,
     "metadata": {},
     "output_type": "execute_result"
    }
   ],
   "source": [
    "input_params = JSON.parse(open(\"data/experiment_inputs/20221122/1.json\"))\n",
    "input_params[\"dcg\"]"
   ]
  },
  {
   "cell_type": "code",
   "execution_count": 82,
   "id": "d618a5d8",
   "metadata": {},
   "outputs": [
    {
     "data": {
      "text/plain": [
       "Any[]"
      ]
     },
     "execution_count": 82,
     "metadata": {},
     "output_type": "execute_result"
    }
   ],
   "source": [
    "logs = []"
   ]
  },
  {
   "cell_type": "code",
   "execution_count": 83,
   "id": "a4410336",
   "metadata": {},
   "outputs": [],
   "source": [
    "for file = 1:5\n",
    "    input_params = JSON.parsefile(\"data/experiment_inputs/20221123/\" * string(file) * \".json\")\n",
    "    output_params = JSON.parsefile(\"data/experiment_outputs/20221123/\" * string(file) * \".json\")\n",
    "\n",
    "    fires = input_params[\"dcg\"][\"num_fires\"]\n",
    "    crews = input_params[\"dcg\"][\"num_crews\"]\n",
    "    cg_time = sum(values(output_params[\"initial_DCG\"][\"times\"]))\n",
    "    ws_time = output_params[\"initial_DCG\"][\"times\"][\"ws\"]\n",
    "    cg_time = cg_time - ws_time\n",
    "    int_aware_time = sum(output_params[\"generate_additional_plans\"][\"timings\"])\n",
    "    restore_int_form_time = output_params[\"restore_integrality\"][\"formulation_time\" ]\n",
    "    restore_int_solve_time = output_params[\"restore_integrality\"][\"solve_time\" ]\n",
    "    mp_sol = output_params[\"initial_DCG\"][\"solutions\"][\"master_problem_reconstructed\"]\n",
    "    gap = (output_params[\"restore_integrality\"][\"pb_objective\"] - mp_sol) / mp_sol \n",
    "    pb_gap = output_params[\"restore_integrality\"][\"pb_objective\"] / output_params[\"restore_integrality\"][\"pb_objective_bound\"] - 1 \n",
    "\n",
    "    log = [fires, crews, ws_time, cg_time, int_aware_time, \n",
    "        restore_int_form_time, restore_int_solve_time, gap, pb_gap]\n",
    "    push!(logs, log)\n",
    "end"
   ]
  },
  {
   "cell_type": "code",
   "execution_count": 98,
   "id": "c3ef9cdf",
   "metadata": {},
   "outputs": [
    {
     "data": {
      "text/plain": [
       "2×1 Matrix{Array}:\n",
       " [\"fires\", \"crews\", \"t_ws\", \"t_dcg\", \"t_dcg2\", \"t_int_form\", \"t_int_solve\", \"gap\", \"int_gap\"]\n",
       " [3.0 10.0 … 0.052 0.0; 6.0 20.0 … 0.043 0.0; … ; 12.0 40.0 … 0.017 0.0; 15.0 50.0 … 0.071 0.059]"
      ]
     },
     "execution_count": 98,
     "metadata": {},
     "output_type": "execute_result"
    }
   ],
   "source": [
    "titles = [\"fires\", \"crews\", \"t_ws\", \"t_dcg\", \"t_dcg2\", \"t_int_form\", \"t_int_solve\", \"gap\", \"int_gap\"]\n",
    "\n",
    "data = round.(1000 * reduce(hcat, logs)') / 1000;"
   ]
  },
  {
   "cell_type": "code",
   "execution_count": 100,
   "id": "be849259",
   "metadata": {},
   "outputs": [
    {
     "name": "stdout",
     "output_type": "stream",
     "text": [
      "[\"fires\", \"crews\", \"t_ws\", \"t_dcg\", \"t_dcg2\", \"t_int_form\", \"t_int_solve\", \"gap\", \"int_gap\"]"
     ]
    }
   ],
   "source": [
    "print(titles)"
   ]
  },
  {
   "cell_type": "code",
   "execution_count": 105,
   "id": "f6eb9ef9",
   "metadata": {},
   "outputs": [
    {
     "data": {
      "text/plain": [
       "5×9 Matrix{Float64}:\n",
       "  3.0  10.0   0.638    2.001    5.211   0.434     0.441  0.052  0.0\n",
       "  6.0  20.0   4.656    8.234   33.569   3.811    19.565  0.043  0.0\n",
       "  9.0  30.0   9.312   19.216  116.571  12.125   247.506  0.033  0.0\n",
       " 12.0  40.0  13.51    58.403  300.228  29.857  1769.36   0.017  0.0\n",
       " 15.0  50.0  29.917  100.925  557.903  50.181  3550.06   0.071  0.059"
      ]
     },
     "execution_count": 105,
     "metadata": {},
     "output_type": "execute_result"
    }
   ],
   "source": [
    "data"
   ]
  },
  {
   "cell_type": "code",
   "execution_count": 54,
   "id": "03013621",
   "metadata": {},
   "outputs": [
    {
     "data": {
      "text/plain": [
       "3550.06170304"
      ]
     },
     "execution_count": 54,
     "metadata": {},
     "output_type": "execute_result"
    }
   ],
   "source": [
    "restore_int_form_time = output_params[\"restore_integrality\"][\"formulation_time\" ]\n",
    "restore_int_solve_time = output_params[\"restore_integrality\"][\"solve_time\" ]"
   ]
  },
  {
   "cell_type": "code",
   "execution_count": 57,
   "id": "f7c90f27",
   "metadata": {},
   "outputs": [
    {
     "data": {
      "text/plain": [
       "6.920234610090223e6"
      ]
     },
     "execution_count": 57,
     "metadata": {},
     "output_type": "execute_result"
    }
   ],
   "source": [
    "mp_sol = output_params[\"initial_DCG\"][\"solutions\"][\"master_problem_reconstructed\"]"
   ]
  },
  {
   "cell_type": "code",
   "execution_count": 61,
   "id": "4c27d743",
   "metadata": {},
   "outputs": [
    {
     "data": {
      "text/plain": [
       "0.07144262036235353"
      ]
     },
     "execution_count": 61,
     "metadata": {},
     "output_type": "execute_result"
    }
   ],
   "source": [
    "gap = (output_params[\"restore_integrality\"][\"pb_objective\"] - mp_sol) / mp_sol "
   ]
  },
  {
   "cell_type": "code",
   "execution_count": 63,
   "id": "d90d1634",
   "metadata": {},
   "outputs": [
    {
     "data": {
      "text/plain": [
       "0.058966928586088097"
      ]
     },
     "execution_count": 63,
     "metadata": {},
     "output_type": "execute_result"
    }
   ],
   "source": [
    "pb_gap = output_params[\"restore_integrality\"][\"pb_objective\"] / output_params[\"restore_integrality\"][\"pb_objective_bound\"] - 1 "
   ]
  },
  {
   "cell_type": "code",
   "execution_count": 66,
   "id": "364eec72",
   "metadata": {},
   "outputs": [
    {
     "data": {
      "text/plain": [
       "7-element Vector{Float64}:\n",
       "   29.916918834\n",
       "  100.92524869999997\n",
       "  557.903429961\n",
       "   50.181383677\n",
       " 3550.06170304\n",
       "    0.07144262036235353\n",
       "    0.058966928586088097"
      ]
     },
     "execution_count": 66,
     "metadata": {},
     "output_type": "execute_result"
    }
   ],
   "source": [
    "[ws_time, cg_time, int_aware_time, restore_int_form_time, restore_int_solve_time, gap, pb_gap]"
   ]
  },
  {
   "cell_type": "code",
   "execution_count": 37,
   "id": "c7d76dee",
   "metadata": {},
   "outputs": [
    {
     "data": {
      "text/plain": [
       "Dict{String, Any} with 6 entries:\n",
       "  \"iterations\"        => 75\n",
       "  \"allotments\"        => Dict{String, Any}(\"master_problem_reconstructed\"=>Any[…\n",
       "  \"allotment_history\" => Any[Any[Any[0.0, 0.0, 0.0, 0.0, 0.0, 0.0, 0.0, 0.0, 0.…\n",
       "  \"times\"             => Dict{String, Any}(\"mp_reformulate\"=>8.00982, \"init_cg\"…\n",
       "  \"solutions\"         => Dict{String, Any}(\"master_problem_reconstructed\"=>6.92…\n",
       "  \"rhos\"              => Any[Any[Any[0.0, 0.0, 0.0, 0.0, 0.0, 0.0, 0.0, 0.0, 0.…"
      ]
     },
     "execution_count": 37,
     "metadata": {},
     "output_type": "execute_result"
    }
   ],
   "source": [
    "output_params[\"initial_DCG\"]"
   ]
  },
  {
   "cell_type": "code",
   "execution_count": 38,
   "id": "d63556a8",
   "metadata": {},
   "outputs": [
    {
     "data": {
      "text/plain": [
       "6.920234569890007e6"
      ]
     },
     "execution_count": 38,
     "metadata": {},
     "output_type": "execute_result"
    }
   ],
   "source": [
    "output_params[\"initial_DCG\"][\"solutions\"][\"master_problem_reconstructed\"]"
   ]
  },
  {
   "cell_type": "code",
   "execution_count": 39,
   "id": "55e74163",
   "metadata": {},
   "outputs": [
    {
     "data": {
      "text/plain": [
       "Dict{String, Any} with 3 entries:\n",
       "  \"formulation_time\" => 72.0157\n",
       "  \"pb_objective\"     => 7.83762e6\n",
       "  \"solve_time\"       => 228.228"
      ]
     },
     "execution_count": 39,
     "metadata": {},
     "output_type": "execute_result"
    }
   ],
   "source": [
    "output_params[\"restore_integrality\"]"
   ]
  },
  {
   "cell_type": "code",
   "execution_count": null,
   "id": "e3ab5c6a",
   "metadata": {},
   "outputs": [],
   "source": []
  },
  {
   "cell_type": "code",
   "execution_count": 26,
   "id": "4b4483a5",
   "metadata": {},
   "outputs": [
    {
     "ename": "LoadError",
     "evalue": "UndefVarError: GRB_ENV not defined",
     "output_type": "error",
     "traceback": [
      "UndefVarError: GRB_ENV not defined",
      "",
      "Stacktrace:",
      " [1] top-level scope",
      "   @ :0",
      " [2] eval",
      "   @ .\\boot.jl:373 [inlined]",
      " [3] include_string(mapexpr::typeof(REPL.softscope), mod::Module, code::String, filename::String)",
      "   @ Base .\\loading.jl:1196"
     ]
    }
   ],
   "source": [
    "GRB_ENV"
   ]
  },
  {
   "cell_type": "code",
   "execution_count": 21,
   "id": "87a227e4",
   "metadata": {},
   "outputs": [
    {
     "data": {
      "text/plain": [
       "Dict{String, Any} with 2 entries:\n",
       "  \"master_problem_reconstructed\" => 1.1388e6\n",
       "  \"master_problem\"               => 1.13868e6"
      ]
     },
     "execution_count": 21,
     "metadata": {},
     "output_type": "execute_result"
    }
   ],
   "source": [
    "output_params[\"initial_DCG\"][\"solutions\"]"
   ]
  },
  {
   "cell_type": "code",
   "execution_count": 22,
   "id": "fae19c51",
   "metadata": {},
   "outputs": [
    {
     "data": {
      "text/plain": [
       "Dict{String, Any} with 5 entries:\n",
       "  \"mp_reformulate\" => 0.131685\n",
       "  \"init_cg\"        => 0.136646\n",
       "  \"cg\"             => 1.35469\n",
       "  \"mp_resolve\"     => 0.0043777\n",
       "  \"ws\"             => 0.564245"
      ]
     },
     "execution_count": 22,
     "metadata": {},
     "output_type": "execute_result"
    }
   ],
   "source": [
    "output_params[\"initial_DCG\"][\"times\"]"
   ]
  },
  {
   "cell_type": "code",
   "execution_count": 23,
   "id": "ad42c5b8",
   "metadata": {},
   "outputs": [
    {
     "data": {
      "text/plain": [
       "Dict{String, Any} with 2 entries:\n",
       "  \"iterations\" => Any[23, 21, 17, 36, 37]\n",
       "  \"timings\"    => Any[0.857676, 0.802969, 0.733287, 1.41918, 1.32183]"
      ]
     },
     "execution_count": 23,
     "metadata": {},
     "output_type": "execute_result"
    }
   ],
   "source": [
    "output_params[\"generate_additional_plans\"]"
   ]
  },
  {
   "cell_type": "code",
   "execution_count": 24,
   "id": "1ed11b7b",
   "metadata": {},
   "outputs": [
    {
     "data": {
      "text/plain": [
       "Dict{String, Any} with 3 entries:\n",
       "  \"formulation_time\" => 0.449316\n",
       "  \"pb_objective\"     => 1.16727e6\n",
       "  \"solve_time\"       => 0.459319"
      ]
     },
     "execution_count": 24,
     "metadata": {},
     "output_type": "execute_result"
    }
   ],
   "source": [
    "output_params[\"restore_integrality\"]"
   ]
  },
  {
   "cell_type": "code",
   "execution_count": 23,
   "id": "15e9d15d",
   "metadata": {},
   "outputs": [],
   "source": [
    "dcg_params = default_params()\n",
    "\n",
    "for key in keys(external_params[\"dcg\"])\n",
    "    dcg_params[key] = external_params[\"dcg\"][key]\n",
    "end"
   ]
  },
  {
   "cell_type": "code",
   "execution_count": 24,
   "id": "42ab1b74",
   "metadata": {},
   "outputs": [],
   "source": [
    "global NUM_FIRES = dcg_params[\"num_fires\"]\n",
    "global NUM_CREWS = dcg_params[\"num_crews\"]\n",
    "global LINE_PER_CREW = dcg_params[\"line_per_crew\"]\n",
    "\n",
    "capacity_perturbations = [-2, -1, 0, 1, 2]\n",
    "\n",
    "preprocessed_data = preprocess(dcg_params[\"in_path\"])\n",
    "\n",
    "t = @elapsed d, cg_data = single_DCG_node(dcg_params, deepcopy(preprocessed_data))\n",
    "@assert dcg_params != \"calculate\"\n",
    "\n",
    "dcg_params[\"int_aware_capacities\"] = d[\"allotments\"][\"master_problem_reconstructed\"]\n",
    "iterations, timings, cg_data = generate_new_plans(dcg_params, cg_data, capacity_perturbations, -1, -1)\n",
    "form_time, sol_time, pb = restore_integrality(cg_data, 300);"
   ]
  },
  {
   "cell_type": "code",
   "execution_count": 25,
   "id": "de53817d",
   "metadata": {},
   "outputs": [
    {
     "data": {
      "text/plain": [
       "3×14 Matrix{Int64}:\n",
       "  0   0  0  0  1  7  9  7  8  4  3  1  0  0\n",
       "  0  10  9  6  5  0  1  0  0  0  0  0  0  0\n",
       " 10   0  0  0  0  0  0  0  0  0  0  0  0  0"
      ]
     },
     "execution_count": 25,
     "metadata": {},
     "output_type": "execute_result"
    }
   ],
   "source": [
    "pb_allot = convert.(Int, round.(100 .* get_fire_allotments(pb, cg_data)) ./ 100)"
   ]
  },
  {
   "cell_type": "code",
   "execution_count": 26,
   "id": "c1ae0a22",
   "metadata": {},
   "outputs": [
    {
     "data": {
      "text/plain": [
       "(0.4555964, 0.5811179)"
      ]
     },
     "execution_count": 26,
     "metadata": {},
     "output_type": "execute_result"
    }
   ],
   "source": [
    "form_time, sol_time"
   ]
  },
  {
   "cell_type": "code",
   "execution_count": 27,
   "id": "69ce9ba3",
   "metadata": {},
   "outputs": [
    {
     "data": {
      "text/plain": [
       "(Dict(\"master_problem_reconstructed\" => 1.138800534771232e6, \"master_problem\" => 1.1386765294961422e6), 1.1672659340711462e6)"
      ]
     },
     "execution_count": 27,
     "metadata": {},
     "output_type": "execute_result"
    }
   ],
   "source": [
    "d[\"solutions\"], objective_value(pb[\"m\"])"
   ]
  },
  {
   "cell_type": "code",
   "execution_count": 13,
   "id": "f30b9b3d",
   "metadata": {},
   "outputs": [
    {
     "data": {
      "text/plain": [
       "10.4605879"
      ]
     },
     "execution_count": 13,
     "metadata": {},
     "output_type": "execute_result"
    }
   ],
   "source": [
    "t"
   ]
  },
  {
   "cell_type": "code",
   "execution_count": 14,
   "id": "2b558aa3",
   "metadata": {},
   "outputs": [
    {
     "data": {
      "text/plain": [
       "Dict{String, Any} with 7 entries:\n",
       "  \"iterations\"        => 46\n",
       "  \"mp\"                => Dict{String, Any}(\"sigma\"=>ConstraintRef{Model, MathOp…\n",
       "  \"allotment_history\" => Any[[0.0 0.0 … 0.0 0.0; 0.0 0.0 … 0.0 0.0; … ; 0.0 0.0…\n",
       "  \"allotments\"        => Dict{String, Any}(\"master_problem_reconstructed\"=>[0.0…\n",
       "  \"times\"             => Dict(\"mp_reformulate\"=>0.80025, \"init_cg\"=>0.599814, \"…\n",
       "  \"solutions\"         => Dict(\"master_problem_reconstructed\"=>2.67122e6, \"maste…\n",
       "  \"rhos\"              => Any[[0.0 0.0 … 0.0 0.0; 0.0 0.0 … 0.0 0.0; … ; 0.0 0.0…"
      ]
     },
     "execution_count": 14,
     "metadata": {},
     "output_type": "execute_result"
    }
   ],
   "source": [
    "d"
   ]
  },
  {
   "cell_type": "code",
   "execution_count": 12,
   "id": "d1aa8225",
   "metadata": {},
   "outputs": [
    {
     "data": {
      "text/plain": [
       "Dict{String, Any} with 7 entries:\n",
       "  \"iterations\"        => 46\n",
       "  \"mp\"                => Dict{String, Any}(\"sigma\"=>ConstraintRef{Model, MathOp…\n",
       "  \"allotment_history\" => Any[[0.0 0.0 … 0.0 0.0; 0.0 0.0 … 0.0 0.0; … ; 0.0 0.0…\n",
       "  \"allotments\"        => Dict{String, Any}(\"master_problem_reconstructed\"=>[0.0…\n",
       "  \"times\"             => Dict(\"mp_reformulate\"=>0.797122, \"init_cg\"=>0.945321, …\n",
       "  \"solutions\"         => Dict(\"master_problem_reconstructed\"=>2.67122e6, \"maste…\n",
       "  \"rhos\"              => Any[[0.0 0.0 … 0.0 0.0; 0.0 0.0 … 0.0 0.0; … ; 0.0 0.0…"
      ]
     },
     "execution_count": 12,
     "metadata": {},
     "output_type": "execute_result"
    }
   ],
   "source": [
    "d"
   ]
  },
  {
   "cell_type": "code",
   "execution_count": 261,
   "id": "0feece17",
   "metadata": {},
   "outputs": [
    {
     "data": {
      "text/plain": [
       "(Dict(\"master_problem_reconstructed\" => 1.138800534771232e6, \"master_problem\" => 1.1386765294961422e6), 1.1672659340711462e6)"
      ]
     },
     "execution_count": 261,
     "metadata": {},
     "output_type": "execute_result"
    }
   ],
   "source": [
    "d[\"solutions\"], objective_value(pb[\"m\"])"
   ]
  },
  {
   "cell_type": "code",
   "execution_count": 97,
   "id": "849d3b89",
   "metadata": {},
   "outputs": [],
   "source": [
    "existing_plans = [[cg_data.suppression_plans.crews_present[i, j, :] \n",
    "                     for j=1:cg_data.suppression_plans.plans_per_fire[i]\n",
    "                  ]\n",
    "                  for i=1:NUM_FIRES \n",
    "                 ];\n",
    "\n",
    "existing_routes = [[cg_data.routes.fires_fought[i, j, :, :] \n",
    "                     for j=1:cg_data.routes.routes_per_crew[i]\n",
    "                  ]\n",
    "                  for i=1:NUM_CREWS\n",
    "                 ]\n",
    "\n",
    "for excess in excesses\n",
    "\n",
    "    pattern = [(excess, 1e30)]\n",
    "    params[\"int_aware_price_adjustment\"] = [pattern for i in 1:params[\"max_iters\"]]\n",
    "\n",
    "    d2, cg_data2 = single_DCG_node(params, deepcopy(preprocessed_data))\n",
    "\n",
    "\n",
    "    for fire in 1:NUM_FIRES\n",
    "\n",
    "        for plan_ix in 1:cg_data2.suppression_plans.plans_per_fire[fire] \n",
    "\n",
    "            if value(d2[\"mp\"][\"plan\"][fire, plan_ix]) > fire_thresh\n",
    "\n",
    "                plan = cg_data2.suppression_plans.crews_present[fire, plan_ix, :]\n",
    "                cost = cg_data2.suppression_plans.plan_costs[fire, plan_ix]\n",
    "\n",
    "                if ~(plan in existing_plans[fire])\n",
    "\n",
    "                    push!(existing_plans[fire], plan)\n",
    "                    update_available_supp_plans(fire, cost, plan, cg_data.suppression_plans)\n",
    "\n",
    "                end\n",
    "            end\n",
    "        end\n",
    "    end \n",
    "\n",
    "\n",
    "    for crew in 1:NUM_CREWS\n",
    "\n",
    "        for route_ix in 1:cg_data2.routes.routes_per_crew[crew] \n",
    "\n",
    "            if value(d2[\"mp\"][\"route\"][crew, route_ix]) > crew_thresh\n",
    "\n",
    "                route = cg_data2.routes.fires_fought[crew, route_ix, :, :]\n",
    "                cost = cg_data2.routes.route_costs[crew, route_ix]\n",
    "                oo_region = cg_data2.routes.out_of_reg[crew, route_ix, :]\n",
    "\n",
    "                if ~(route in existing_routes[crew])\n",
    "\n",
    "                    push!(existing_routes[crew], route)\n",
    "                    update_available_crew_routes(crew, cost, route, oo_region, cg_data.routes)\n",
    "                end\n",
    "\n",
    "            end\n",
    "        end\n",
    "    end \n",
    "end\n",
    "\n",
    "\n"
   ]
  },
  {
   "cell_type": "code",
   "execution_count": 154,
   "id": "fa500833",
   "metadata": {},
   "outputs": [
    {
     "data": {
      "text/plain": [
       "true"
      ]
     },
     "execution_count": 154,
     "metadata": {},
     "output_type": "execute_result"
    }
   ],
   "source": [
    "verbose = true"
   ]
  },
  {
   "cell_type": "code",
   "execution_count": 191,
   "id": "7f759d9e",
   "metadata": {},
   "outputs": [
    {
     "name": "stdout",
     "output_type": "stream",
     "text": [
      "here\n",
      "Fires : 3\n",
      "Crews : 10\n",
      "\n",
      "Running first DCG\n",
      "__________\n",
      "Iterations: 48\n",
      "Objective values: Dict(\"price_and_branch\" => 1.409384091836006e6, \"master_problem\" => 1.138800534771232e6)\n",
      "Timings: Dict(\"init_cg\" => 0.1344548, \"price_and_branch\" => 0.1295728, \"cg\" => 1.533599100000001, \"ws\" => 0.5434583)\n",
      "\n",
      "Running integraity-aware DCG\n",
      "__________\n",
      "Iterations: 23\n",
      "Iterations: 21\n",
      "Iterations: 17\n",
      "Iterations: 36\n",
      "Iterations: 37\n",
      "\n",
      "Restore integrality\n",
      "___________________\n",
      "Number of variables: 1346\n",
      "Formulate time: 0.4596211\n",
      "Solve time: 0.5713301\n",
      "Objective value: 1.1672659340711462e6\n",
      "Gap : 0.024995948307692473\n",
      "\n",
      "*********************************************\n"
     ]
    }
   ],
   "source": [
    "fc = (3, 10)\n",
    "    \n",
    "output = Dict()\n",
    "\n",
    "fire_thresh = -1.0001\n",
    "crew_thresh = -1.0001\n",
    "\n",
    "params = Dict{String, Any}()\n",
    "params[\"gamma\"] = 0\n",
    "\n",
    "params[\"in_path\"] = \"data/raw/big_fire\"\n",
    "params[\"agg_prec\"] = 10\n",
    "params[\"passive_states\"] = 30\n",
    "params[\"num_fires\"] = fc[1]\n",
    "params[\"num_crews\"] = fc[2]\n",
    "params[\"line_per_crew\"] = 17\n",
    "params[\"fire_solver_type\"] = \"dp\"\n",
    "\n",
    "params[\"apply_warm_start\"] = false\n",
    "params[\"restore_cost\"] = false\n",
    "\n",
    "params[\"solve_explicit_lin_time_limit\"] = 0\n",
    "params[\"solve_explicit_int_time_limit\"] = 0\n",
    "params[\"cg_time_limit\"] = 300\n",
    "params[\"solve_net_flow_time_limit\"] = 0\n",
    "\n",
    "params[\"max_iters\"] = 1000\n",
    "\n",
    "params[\"dual_stab_type\"] = \"global\"\n",
    "params[\"dual_stab_anchor\"] = false\n",
    "params[\"dual_stab_eps\"] = 0.01\n",
    "params[\"dual_warm_start\"] = \"calculate\"\n",
    "\n",
    "params[\"ws_dual_weight\"] = zeros(params[\"max_iters\"])\n",
    "params[\"int_aware_dual_weight\"] = zeros(params[\"max_iters\"])\n",
    "\n",
    "pattern = [(0, 0)]\n",
    "params[\"int_aware_price_adjustment\"] = [pattern for i in 1:params[\"max_iters\"]]\n",
    "\n",
    "\n",
    "r_per_c = []\n",
    "p_per_f = []\n",
    "\n",
    "d, cg_data = run_tests(params)\n",
    "\n",
    "\n",
    "params[\"int_aware_capacities\"] = d[7][\"master_problem\"]\n",
    "\n",
    "if verbose\n",
    "    println(\"Fires : $(params[\"num_fires\"])\")\n",
    "    println(\"Crews : $(params[\"num_crews\"])\")\n",
    "    println()\n",
    "\n",
    "    println(\"Running first DCG\")\n",
    "    println(\"__________\")\n",
    "    println(\"Iterations: $(d[4])\")\n",
    "    println(\"Objective values: $(d[6])\")\n",
    "    println(\"Timings: $(d[5])\")\n",
    "    println()\n",
    "\n",
    "    println(\"Running integraity-aware DCG\")\n",
    "    println(\"__________\")\n",
    "end\n",
    "\n",
    "output[\"intital_DCG_iterations\"] = d[4]\n",
    "output[\"intital_DCG_timing\"] = d[5]\n",
    "output[\"intital_DCG_objectives\"] = d[6]\n",
    "flush(stdout)\n",
    "\n",
    "existing_plans = [[cg_data.suppression_plans.crews_present[i, j, :] \n",
    "                     for j=1:cg_data.suppression_plans.plans_per_fire[i]\n",
    "                  ]\n",
    "                  for i=1:NUM_FIRES \n",
    "                 ];\n",
    "\n",
    "existing_routes = [[cg_data.routes.fires_fought[i, j, :, :] \n",
    "                     for j=1:cg_data.routes.routes_per_crew[i]\n",
    "                  ]\n",
    "                  for i=1:NUM_CREWS\n",
    "                 ]\n",
    "\n",
    "for excess in [-2, -1, 0, 1, 2]\n",
    "\n",
    "    pattern = [(excess, 1e30)]\n",
    "    params[\"int_aware_price_adjustment\"] = [pattern for i in 1:params[\"max_iters\"]]\n",
    "\n",
    "    d2, cg_data2 = run_tests(params)\n",
    "    println(\"Iterations: $(d2[4])\")\n",
    "    flush(stdout)\n",
    "\n",
    "    for fire in 1:NUM_FIRES\n",
    "\n",
    "        for plan_ix in 1:cg_data2.suppression_plans.plans_per_fire[fire] \n",
    "\n",
    "            if value(d2[9][\"plan\"][fire, plan_ix]) > fire_thresh\n",
    "\n",
    "                plan = cg_data2.suppression_plans.crews_present[fire, plan_ix, :]\n",
    "                cost = cg_data2.suppression_plans.plan_costs[fire, plan_ix]\n",
    "\n",
    "                if ~(plan in existing_plans[fire])\n",
    "\n",
    "                    push!(existing_plans[fire], plan)\n",
    "\n",
    "                    update_available_supp_plans(fire, cost, plan, cg_data.suppression_plans)\n",
    "                    push!(p_per_f, ((fire, cg_data.suppression_plans.plans_per_fire[fire]), \n",
    "                                       value(d2[9][\"plan\"][fire, plan_ix])))\n",
    "                end\n",
    "            end\n",
    "        end\n",
    "    end \n",
    "\n",
    "\n",
    "    for crew in 1:NUM_CREWS\n",
    "\n",
    "        for route_ix in 1:cg_data2.routes.routes_per_crew[crew] \n",
    "\n",
    "            if value(d2[9][\"route\"][crew, route_ix]) > crew_thresh\n",
    "\n",
    "                route = cg_data2.routes.fires_fought[crew, route_ix, :, :]\n",
    "                cost = cg_data2.routes.route_costs[crew, route_ix]\n",
    "                oo_region = cg_data2.routes.out_of_reg[crew, route_ix, :]\n",
    "\n",
    "                if ~(route in existing_routes[crew])\n",
    "\n",
    "                    push!(existing_routes[crew], route)\n",
    "\n",
    "                    update_available_crew_routes(crew, cost, route, oo_region, cg_data.routes)\n",
    "                    push!(r_per_c, ((crew, cg_data.routes.routes_per_crew[crew]), \n",
    "                          value(d2[9][\"route\"][crew, route_ix])))\n",
    "                end\n",
    "\n",
    "            end\n",
    "        end\n",
    "    end \n",
    "end\n",
    "\n",
    "config = Dict{String,Any}(\"ws_dual\" => false)\n",
    "config[\"master_problem\"] = Dict{String,Any}()\n",
    "\n",
    "config[\"master_problem\"][\"dual_stabilization\"] = false\n",
    "config[\"master_problem\"][\"dual_secondary_eps\"] = false\n",
    "config[\"master_problem\"][\"dual_warm_start\"] = false\n",
    "\n",
    "r_data = RegionData(convert.(Int, ones(NUM_CREWS)), convert.(Int, ones(100)))\n",
    "rotation_order = get_rotation_orders(r_data.crew_regions)\n",
    "\n",
    "form_time = @elapsed pb = master_problem(config, cg_data.routes, cg_data.suppression_plans, \n",
    "                                         r_data, rotation_order, 0, true)\n",
    "set_optimizer_attribute(pb[\"m\"], \"TimeLimit\", 300)\n",
    "sol_time = @elapsed optimize!(pb[\"m\"])\n",
    "\n",
    "pb_allot = convert.(Int, round.(100 .* get_fire_allotments(pb, cg_data)) ./ 100)\n",
    "\n",
    "println()\n",
    "println(\"Restore integrality\")\n",
    "println(\"___________________\")\n",
    "num_vars = num_variables(pb[\"m\"])\n",
    "println(\"Number of variables: $num_vars\")\n",
    "println(\"Formulate time: $form_time\")\n",
    "println(\"Solve time: $sol_time\")\n",
    "val = objective_value(pb[\"m\"])\n",
    "println(\"Objective value: $val\")\n",
    "println(\"Gap : $(val/d[6][\"master_problem\"] - 1)\")\n",
    "println()\n",
    "println(\"*********************************************\")\n",
    "flush(stdout)"
   ]
  },
  {
   "cell_type": "code",
   "execution_count": 152,
   "id": "5c6d9b12",
   "metadata": {},
   "outputs": [
    {
     "data": {
      "text/plain": [
       "run_tests (generic function with 1 method)"
      ]
     },
     "execution_count": 152,
     "metadata": {},
     "output_type": "execute_result"
    }
   ],
   "source": [
    "function run_tests(test_features)\n",
    "    \n",
    "    in_path = test_features[\"in_path\"]\n",
    "\n",
    "    # get inital fire perimeters and no-suppression progression parameters\n",
    "    M = readdlm(in_path * \"/sample_growth_patterns.csv\", ',')\n",
    "    start_perims = M[:, 1]\n",
    "    progressions = M[:, 2:15]\n",
    "\n",
    "    global NUM_TIME_PERIODS = size(M)[2] - 1 \n",
    "    global NUM_FIRES = test_features[\"num_fires\"]\n",
    "    global NUM_CREWS = test_features[\"num_crews\"]\n",
    "    global LINE_PER_CREW = test_features[\"line_per_crew\"]\n",
    "\n",
    "    g_data, crew_status = load_data(in_path)\n",
    "    r_data = RegionData(convert.(Int, ones(NUM_CREWS)), convert.(Int, ones(100)))\n",
    "\n",
    "    rotation_order = get_rotation_orders(r_data.crew_regions)\n",
    "    A = generate_arcs(g_data, r_data, crew_status);\n",
    "\n",
    "    rest_pen = get_rest_penalties(crew_status.rest_by, 1e10, positive)\n",
    "    cost_params = Dict(\"cost_per_mile\"=> 1, \"rest_violation\" => rest_pen, \"fight_fire\" => ALPHA)\n",
    "    arc_costs = get_arc_costs(g_data, A, cost_params)\n",
    "\n",
    "    c_data = define_network_constraint_data(A)\n",
    "    \n",
    "    fire_configs = []\n",
    "    for fire in 1:NUM_FIRES\n",
    "        model_config = Dict(\"model_type\" => \"simple_linear\", \"progressions\" => progressions[fire, :], \n",
    "                            \"start_perim\" => start_perims[fire], \"line_per_crew\" => LINE_PER_CREW, \n",
    "                            \"beta\" => BETA)\n",
    "        push!(fire_configs, model_config)\n",
    "    end \n",
    "    \n",
    "    gamma = test_features[\"gamma\"]\n",
    "    \n",
    "    v_s = [0]\n",
    "    e_s = [0]\n",
    "    \n",
    "    rhos = []\n",
    "    allotment_history = []\n",
    "    \n",
    "    global AGG_PREC = test_features[\"agg_prec\"]\n",
    "    global PASSIVE_STATES =  test_features[\"passive_states\"]\n",
    "    \n",
    "    ts = Dict{String, Float64}()\n",
    "    best_sols = Dict{String, Float64}()\n",
    "    allotments = Dict{String, Any}()\n",
    "    \n",
    "    fire_solver_configs = [Dict{String,Any}(\"solver_type\" => test_features[\"fire_solver_type\"]) for fire in 1:NUM_FIRES]\n",
    "    \n",
    "    max_plans = 1000\n",
    "    ts[\"init_cg\"] = @elapsed col_gen_data = initialize_column_generation(A, arc_costs, c_data, fire_configs, \n",
    "                                                                        fire_solver_configs, max_plans)\n",
    "    \n",
    "    \n",
    "    if test_features[\"fire_solver_type\"] == \"dp\"\n",
    "        v_s = [size(col_gen_data.plan_sps[i][\"graphs\"][\"ceiling\"])[1] for i in 1:NUM_FIRES]\n",
    "\n",
    "        e_s = [sum([length(col_gen_data.plan_sps[k][\"graphs\"][\"ceiling\"][i, j]) \n",
    "                  for i in 1:size(col_gen_data.plan_sps[k][\"graphs\"][\"ceiling\"])[1],\n",
    "                      j in 1:size(col_gen_data.plan_sps[k][\"graphs\"][\"ceiling\"])[2]\n",
    "                      if isassigned(col_gen_data.plan_sps[k][\"graphs\"][\"ceiling\"], i, j)\n",
    "                    ]\n",
    "                   )\n",
    "               for k = 1:NUM_FIRES]\n",
    "    end\n",
    "    \n",
    "    global AGG_PREC = 30\n",
    "    global PASSIVE_STATES = 5\n",
    "    \n",
    "    if (test_features[\"apply_warm_start\"]) | (test_features[\"dual_warm_start\"] == \"calculate\")\n",
    "        \n",
    "        println(\"here\")\n",
    "        ts[\"ws\"] = @elapsed ws, ws_dict = warm_start_suppression_plans(10, fire_configs, r_data, c_data, rotation_order, arc_costs, \n",
    "                                                             gamma, false, false, 3600)\n",
    "\n",
    "        if test_features[\"dual_warm_start\"] == \"calculate\"\n",
    "            test_features[\"dual_warm_start\"] = dual.(ws_dict[\"f_linking\"])\n",
    "        end\n",
    "\n",
    "        if test_features[\"apply_warm_start\"]\n",
    "            for fire in 1:NUM_FIRES\n",
    "                ws_fire = ws[fire]\n",
    "                for plan in ws_fire\n",
    "                    cost = get_fire_cost(plan, fire_configs[fire])\n",
    "                    update_available_supp_plans(fire, cost, plan, col_gen_data.suppression_plans)\n",
    "                end\n",
    "            end\n",
    "        end\n",
    "    end\n",
    "\n",
    "    \n",
    "    global AGG_PREC = test_features[\"agg_prec\"]\n",
    "    global PASSIVE_STATES =  test_features[\"passive_states\"]\n",
    "\n",
    "\n",
    "\n",
    "    objs = []\n",
    "    max_iters = test_features[\"max_iters\"]\n",
    "    n_iters = 0\n",
    "    opt = false\n",
    "    ts[\"cg\"] = 0\n",
    "    max_time = test_features[\"cg_time_limit\"]\n",
    "    col_gen_config = Dict{String,Any}(\"ws_dual\" => false)\n",
    "    col_gen_config[\"master_problem\"] = Dict{String,Any}()\n",
    "    \n",
    "    col_gen_config[\"master_problem\"][\"dual_stabilization\"] = test_features[\"dual_stab_type\"]\n",
    "    col_gen_config[\"master_problem\"][\"dual_secondary_eps\"] = test_features[\"dual_stab_eps\"]\n",
    "    col_gen_config[\"master_problem\"][\"dual_warm_start\"] = test_features[\"dual_warm_start\"]\n",
    "        \n",
    "    if test_features[\"dual_stab_anchor\"] == \"all_ones\"\n",
    "        col_gen_config[\"master_problem\"][\"dual_warm_start\"] = ones(size(col_gen_config[\"master_problem\"][\"dual_warm_start\"]))\n",
    "    end\n",
    "    mp = master_problem(col_gen_config, col_gen_data.routes, col_gen_data.suppression_plans, \n",
    "                    r_data, rotation_order, 0, false)\n",
    "    \n",
    "    current_num_routes = copy(col_gen_data.routes.routes_per_crew)\n",
    "    current_num_plans = copy(col_gen_data.suppression_plans.plans_per_fire)\n",
    "        \n",
    "\n",
    "    \n",
    "    while (~opt) & (n_iters < max_iters) & (ts[\"cg\"] < max_time)\n",
    "\n",
    "        n_iters += 1\n",
    "        dual_stab_weight = test_features[\"ws_dual_weight\"][n_iters] + test_features[\"int_aware_dual_weight\"][n_iters]\n",
    "        col_gen_config[\"ws_dual_weight\"] = dual_stab_weight\n",
    "        col_gen_config[\"ws_dual\"] = test_features[\"ws_dual_weight\"][n_iters] * col_gen_config[\"master_problem\"][\"dual_warm_start\"]\n",
    "        if dual_stab_weight > 0\n",
    "            col_gen_config[\"ws_dual\"] = col_gen_config[\"ws_dual\"] / dual_stab_weight\n",
    "        end\n",
    "        \n",
    "        for fire in 1:NUM_FIRES\n",
    "            fire_solver_configs[fire][\"int_aware_adjustment_pattern\"] = test_features[\"int_aware_price_adjustment\"][n_iters]\n",
    "            if \"int_aware_capacities\" in keys(test_features)\n",
    "                fire_solver_configs[fire][\"int_aware_capacities\"] = test_features[\"int_aware_capacities\"]\n",
    "            end\n",
    "        end\n",
    "\n",
    "        ts[\"cg\"] += @elapsed mp, a, b, c = run_CG_step(col_gen_data, A, arc_costs, g_data, r_data, fire_configs, \n",
    "                                              fire_solver_configs, col_gen_config, rotation_order, gamma,  \n",
    "                                              test_features[\"restore_cost\"], mp)\n",
    "\n",
    "        push!(objs, a)\n",
    "        push!(rhos, b)\n",
    "        push!(allotment_history, c)\n",
    "\n",
    "        next_num_routes = col_gen_data.routes.routes_per_crew\n",
    "        next_num_plans = col_gen_data.suppression_plans.plans_per_fire\n",
    "\n",
    "        if (sum(next_num_routes) == sum(current_num_routes)) & (sum(next_num_plans) == sum(current_num_plans))\n",
    "            opt = true\n",
    "        end\n",
    "\n",
    "        current_num_routes = copy(next_num_routes)\n",
    "        current_num_plans = copy(next_num_plans)\n",
    "\n",
    "    end\n",
    "    \n",
    "    # no more stabilization for assessment\n",
    "    col_gen_config[\"master_problem\"][\"dual_stabilization\"] = false\n",
    "    \n",
    "    # get price and branch stats\n",
    "    pb = master_problem(col_gen_config, col_gen_data.routes, col_gen_data.suppression_plans, \n",
    "                        r_data, rotation_order, gamma, true)\n",
    "    ts[\"price_and_branch\"] = @elapsed optimize!(pb[\"m\"])\n",
    "    \n",
    "    best_sols[\"price_and_branch\"] = objective_value(pb[\"m\"])\n",
    "    \n",
    "    plans_chosen = [i for i in eachindex(pb[\"plan\"]) if value(pb[\"plan\"][i]) > 0.5]\n",
    "    \n",
    "    pb_allotment = convert.(Int8, zeros(size(col_gen_data.suppression_plans.crews_present[:, 1, :])))\n",
    "    for plan in plans_chosen\n",
    "        pb_allotment[plan[1], :] = col_gen_data.suppression_plans.crews_present[plan[1], plan[2], :]\n",
    "    end\n",
    "    \n",
    "    allotments[\"price_and_branch\"] = pb_allotment\n",
    "    \n",
    "    mp = master_problem(col_gen_config, col_gen_data.routes, col_gen_data.suppression_plans, \n",
    "                        r_data, rotation_order, gamma, false)\n",
    "    optimize!(mp[\"m\"])\n",
    "\n",
    "    best_sols[\"master_problem\"] = objective_value(mp[\"m\"])\n",
    "    allotments[\"master_problem\"] = get_fire_allotments(mp, col_gen_data)\n",
    "    \n",
    "    if test_features[\"solve_explicit_int_time_limit\"] > 0\n",
    "        \n",
    "        tl = test_features[\"solve_explicit_int_time_limit\"]\n",
    "        m, p, l, z, q, oor, linking = full_formulation(true, r_data, c_data, rotation_order, arc_costs, \n",
    "                                  progressions, start_perims, BETA, gamma, false, tl)\n",
    "        ts[\"explicit_int\"] = @elapsed optimize!(m)\n",
    "        \n",
    "        if has_values(m)\n",
    "            best_sols[\"explicit_int\"] = objective_value(m)\n",
    "            allotments[\"explicit_int\"] = convert.(Int8, ceil.(value.(l) / LINE_PER_CREW  .- 0.001))\n",
    "        else\n",
    "            best_sols[\"explicit_int\"] = false\n",
    "        end\n",
    "            \n",
    "    end\n",
    "\n",
    "    \n",
    "    if test_features[\"solve_explicit_lin_time_limit\"] > 0\n",
    "        \n",
    "        tl = test_features[\"solve_explicit_lin_time_limit\"]\n",
    "    \n",
    "        m2, p, l, z, q, oor, linking = full_formulation(false, r_data, c_data, rotation_order, arc_costs, \n",
    "                                  progressions, start_perims, BETA, gamma, false, tl)\n",
    "        ts[\"explicit_lr\"] = @elapsed optimize!(m2)\n",
    "        \n",
    "        if has_values(m2)\n",
    "            best_sols[\"explicit_lr\"] = objective_value(m2)\n",
    "            allotments[\"explicit_lr\"] = value.(l) / LINE_PER_CREW\n",
    "        else\n",
    "            best_sols[\"explicit_lr\"] = false\n",
    "        end\n",
    "    \n",
    "    end\n",
    "    \n",
    "    if test_features[\"solve_net_flow_time_limit\"] > 0\n",
    "        tl = test_features[\"solve_net_flow_time_limit\"]\n",
    "        ts[\"net_flow_int\"] = @elapsed ws, ws_dict = warm_start_suppression_plans(10, fire_configs, r_data, c_data, rotation_order, arc_costs, \n",
    "                                                     gamma, true, false, tl)\n",
    "        if has_values(ws_dict[\"m\"])\n",
    "            best_sols[\"net_flow_int\"] = objective_value(ws_dict[\"m\"])\n",
    "            best_sols[\"net_flow_int_bound\"] = objective_bound(ws_dict[\"m\"])\n",
    "            allotments[\"net_flow_int\"] = value.(ws_dict[\"d\"])\n",
    "            allotments[\"net_flow_int_full_data\"] = ws_dict\n",
    "        else\n",
    "            best_sols[\"net_flow_int\"] = false\n",
    "        end\n",
    "    end\n",
    "            \n",
    "    \n",
    "    return [fire_solver_configs[1][\"solver_type\"], sum(v_s), sum(e_s), n_iters, ts, best_sols, allotments, rhos, mp, allotment_history], col_gen_data\n",
    "\n",
    "end"
   ]
  },
  {
   "cell_type": "code",
   "execution_count": 6,
   "id": "558e706c",
   "metadata": {},
   "outputs": [
    {
     "name": "stdout",
     "output_type": "stream",
     "text": [
      "Fires : 6\n",
      "Crews : 20\n",
      "\n",
      "Running first DCG\n",
      "__________\n",
      "Iterations: 46\n",
      "Objective values: Dict(\"price_and_branch\" => 3.633108982511832e6, \"master_problem\" => 2.671221211544192e6)\n",
      "Timings: Dict(\"init_cg\" => 0.5733929, \"price_and_branch\" => 0.0979713, \"cg\" => 7.095825499999999, \"ws\" => 2.3538059)\n",
      "\n",
      "Running integraity-aware DCG\n",
      "__________\n",
      "Iterations: 30\n",
      "Iterations: 32\n",
      "Iterations: 34\n",
      "Iterations: 61\n",
      "Iterations: 52\n",
      "\n",
      "Restore integrality\n",
      "___________________\n",
      "Number of variables: 4730\n",
      "Formulate time: 3.6940849\n",
      "Solve time: 6.9258758\n",
      "Objective value: 2.761300847772844e6\n",
      "Gap : 0.033722267492993785\n",
      "\n",
      "*********************************************\n"
     ]
    }
   ],
   "source": [
    "fc = (6, 20)\n",
    "    \n",
    "fire_thresh = -0.0001\n",
    "crew_thresh = -0.0001\n",
    "\n",
    "params = Dict{String, Any}()\n",
    "params[\"gamma\"] = 0\n",
    "\n",
    "params[\"in_path\"] = \"data/raw/big_fire\"\n",
    "params[\"agg_prec\"] = 10\n",
    "params[\"passive_states\"] = 30\n",
    "params[\"num_fires\"] = fc[1]\n",
    "params[\"num_crews\"] = fc[2]\n",
    "params[\"fire_solver_type\"] = \"dp\"\n",
    "\n",
    "params[\"apply_warm_start\"] = false\n",
    "params[\"restore_cost\"] = false\n",
    "\n",
    "params[\"solve_explicit_lin_time_limit\"] = 0\n",
    "params[\"solve_explicit_int_time_limit\"] = 0\n",
    "params[\"cg_time_limit\"] = 300\n",
    "params[\"solve_net_flow_time_limit\"] = 0\n",
    "\n",
    "params[\"max_iters\"] = 1000\n",
    "\n",
    "params[\"dual_stab_type\"] = \"global\"\n",
    "params[\"dual_stab_anchor\"] = false\n",
    "params[\"dual_stab_eps\"] = 0.01\n",
    "\n",
    "params[\"ws_dual_weight\"] = zeros(params[\"max_iters\"])\n",
    "params[\"int_aware_dual_weight\"] = zeros(params[\"max_iters\"])\n",
    "\n",
    "pattern = [(0, 0)]\n",
    "params[\"int_aware_price_adjustment\"] = [pattern for i in 1:params[\"max_iters\"]]\n",
    "\n",
    "\n",
    "r_per_c = []\n",
    "p_per_f = []\n",
    "\n",
    "d, cg_data = run_tests(params)\n",
    "\n",
    "\n",
    "params[\"int_aware_capacities\"] = d[7][\"master_problem\"]\n",
    "\n",
    "println(\"Fires : $(params[\"num_fires\"])\")\n",
    "println(\"Crews : $(params[\"num_crews\"])\")\n",
    "println()\n",
    "\n",
    "println(\"Running first DCG\")\n",
    "println(\"__________\")\n",
    "println(\"Iterations: $(d[4])\")\n",
    "println(\"Objective values: $(d[6])\")\n",
    "println(\"Timings: $(d[5])\")\n",
    "println()\n",
    "\n",
    "println(\"Running integraity-aware DCG\")\n",
    "println(\"__________\")\n",
    "flush(stdout)\n",
    "\n",
    "existing_plans = [[cg_data.suppression_plans.crews_present[i, j, :] \n",
    "                     for j=1:cg_data.suppression_plans.plans_per_fire[i]\n",
    "                  ]\n",
    "                  for i=1:NUM_FIRES \n",
    "                 ];\n",
    "\n",
    "existing_routes = [[cg_data.routes.fires_fought[i, j, :, :] \n",
    "                     for j=1:cg_data.routes.routes_per_crew[i]\n",
    "                  ]\n",
    "                  for i=1:NUM_CREWS\n",
    "                 ]\n",
    "\n",
    "for excess in [-2, -1, 0, 1, 2]\n",
    "\n",
    "    pattern = [(excess, 1e30)]\n",
    "    params[\"int_aware_price_adjustment\"] = [pattern for i in 1:params[\"max_iters\"]]\n",
    "\n",
    "    d2, cg_data2 = run_tests(params)\n",
    "    println(\"Iterations: $(d2[4])\")\n",
    "    flush(stdout)\n",
    "\n",
    "    for fire in 1:NUM_FIRES\n",
    "\n",
    "        for plan_ix in 1:cg_data2.suppression_plans.plans_per_fire[fire] \n",
    "\n",
    "            if value(d2[9][\"plan\"][fire, plan_ix]) > fire_thresh\n",
    "\n",
    "                plan = cg_data2.suppression_plans.crews_present[fire, plan_ix, :]\n",
    "                cost = cg_data2.suppression_plans.plan_costs[fire, plan_ix]\n",
    "\n",
    "                if ~(plan in existing_plans[fire])\n",
    "\n",
    "                    push!(existing_plans[fire], plan)\n",
    "\n",
    "                    update_available_supp_plans(fire, cost, plan, cg_data.suppression_plans)\n",
    "                    push!(p_per_f, ((fire, cg_data.suppression_plans.plans_per_fire[fire]), \n",
    "                                       value(d2[9][\"plan\"][fire, plan_ix])))\n",
    "                end\n",
    "            end\n",
    "        end\n",
    "    end \n",
    "\n",
    "\n",
    "    for crew in 1:NUM_CREWS\n",
    "\n",
    "        for route_ix in 1:cg_data2.routes.routes_per_crew[crew] \n",
    "\n",
    "            if value(d2[9][\"route\"][crew, route_ix]) > crew_thresh\n",
    "\n",
    "                route = cg_data2.routes.fires_fought[crew, route_ix, :, :]\n",
    "                cost = cg_data2.routes.route_costs[crew, route_ix]\n",
    "                oo_region = cg_data2.routes.out_of_reg[crew, route_ix, :]\n",
    "\n",
    "                if ~(route in existing_routes[crew])\n",
    "\n",
    "                    push!(existing_routes[crew], route)\n",
    "\n",
    "                    update_available_crew_routes(crew, cost, route, oo_region, cg_data.routes)\n",
    "                    push!(r_per_c, ((crew, cg_data.routes.routes_per_crew[crew]), \n",
    "                          value(d2[9][\"route\"][crew, route_ix])))\n",
    "                end\n",
    "\n",
    "            end\n",
    "        end\n",
    "    end \n",
    "end\n",
    "\n",
    "config = Dict{String,Any}(\"ws_dual\" => false)\n",
    "config[\"master_problem\"] = Dict{String,Any}()\n",
    "\n",
    "config[\"master_problem\"][\"dual_stabilization\"] = false\n",
    "config[\"master_problem\"][\"dual_secondary_eps\"] = false\n",
    "config[\"master_problem\"][\"dual_warm_start\"] = false\n",
    "\n",
    "r_data = RegionData(convert.(Int, ones(NUM_CREWS)), convert.(Int, ones(100)))\n",
    "rotation_order = get_rotation_orders(r_data.crew_regions)\n",
    "\n",
    "form_time = @elapsed pb = master_problem(config, cg_data.routes, cg_data.suppression_plans, \n",
    "                                         r_data, rotation_order, 0, true)\n",
    "set_optimizer_attribute(pb[\"m\"], \"TimeLimit\", 300)\n",
    "sol_time = @elapsed optimize!(pb[\"m\"])\n",
    "\n",
    "pb_allot = convert.(Int, round.(100 .* get_fire_allotments(pb, cg_data)) ./ 100)\n",
    "\n",
    "println()\n",
    "println(\"Restore integrality\")\n",
    "println(\"___________________\")\n",
    "num_vars = num_variables(pb[\"m\"])\n",
    "println(\"Number of variables: $num_vars\")\n",
    "println(\"Formulate time: $form_time\")\n",
    "println(\"Solve time: $sol_time\")\n",
    "val = objective_value(pb[\"m\"])\n",
    "println(\"Objective value: $val\")\n",
    "println(\"Gap : $(val/d[6][\"master_problem\"] - 1)\")\n",
    "println()\n",
    "println(\"*********************************************\")\n",
    "flush(stdout)"
   ]
  },
  {
   "cell_type": "code",
   "execution_count": 178,
   "id": "218daf85",
   "metadata": {},
   "outputs": [
    {
     "name": "stdout",
     "output_type": "stream",
     "text": [
      "Fires : 9\n",
      "Crews : 30\n",
      "\n",
      "Running first DCG\n",
      "__________\n",
      "Iterations: 49\n",
      "Objective values: Dict(\"price_and_branch\" => 9.018218008705923e9, \"master_problem\" => 4.3067503718116e6)\n",
      "Timings: Dict(\"init_cg\" => 1.5190441, \"price_and_branch\" => 1.0377923, \"cg\" => 19.0913754, \"ws\" => 4.1544377)\n",
      "\n",
      "Running integraity-aware DCG\n",
      "__________\n",
      "Iterations: 53\n",
      "Iterations: 58\n",
      "Iterations: 67\n",
      "Iterations: 82\n",
      "Iterations: 69\n",
      "\n",
      "Restore integrality\n",
      "___________________\n",
      "Number of variables: 10646\n",
      "Formulate time: 13.3446283\n",
      "Solve time: 280.783688\n",
      "Objective value: 4.40189063268633e6\n",
      "Gap : 0.022090962480072696\n",
      "\n",
      "*********************************************\n"
     ]
    }
   ],
   "source": [
    "fc = (9, 30)\n",
    "    \n",
    "fire_thresh = -0.0001\n",
    "crew_thresh = -0.0001\n",
    "\n",
    "params = Dict{String, Any}()\n",
    "params[\"gamma\"] = 0\n",
    "\n",
    "params[\"in_path\"] = \"data/raw/big_fire\"\n",
    "params[\"agg_prec\"] = 10\n",
    "params[\"passive_states\"] = 30\n",
    "params[\"num_fires\"] = fc[1]\n",
    "params[\"num_crews\"] = fc[2]\n",
    "params[\"fire_solver_type\"] = \"dp\"\n",
    "\n",
    "params[\"apply_warm_start\"] = false\n",
    "params[\"restore_cost\"] = false\n",
    "\n",
    "params[\"solve_explicit_lin_time_limit\"] = 0\n",
    "params[\"solve_explicit_int_time_limit\"] = 0\n",
    "params[\"cg_time_limit\"] = 300\n",
    "params[\"solve_net_flow_time_limit\"] = 0\n",
    "\n",
    "params[\"max_iters\"] = 1000\n",
    "\n",
    "params[\"dual_stab_type\"] = \"global\"\n",
    "params[\"dual_stab_anchor\"] = false\n",
    "params[\"dual_stab_eps\"] = 0.01\n",
    "\n",
    "params[\"ws_dual_weight\"] = zeros(params[\"max_iters\"])\n",
    "params[\"int_aware_dual_weight\"] = zeros(params[\"max_iters\"])\n",
    "\n",
    "pattern = [(0, 0)]\n",
    "params[\"int_aware_price_adjustment\"] = [pattern for i in 1:params[\"max_iters\"]]\n",
    "\n",
    "\n",
    "r_per_c = []\n",
    "p_per_f = []\n",
    "\n",
    "d, cg_data = run_tests(params)\n",
    "\n",
    "\n",
    "params[\"int_aware_capacities\"] = d[7][\"master_problem\"]\n",
    "\n",
    "println(\"Fires : $(params[\"num_fires\"])\")\n",
    "println(\"Crews : $(params[\"num_crews\"])\")\n",
    "println()\n",
    "\n",
    "println(\"Running first DCG\")\n",
    "println(\"__________\")\n",
    "println(\"Iterations: $(d[4])\")\n",
    "println(\"Objective values: $(d[6])\")\n",
    "println(\"Timings: $(d[5])\")\n",
    "println()\n",
    "\n",
    "println(\"Running integraity-aware DCG\")\n",
    "println(\"__________\")\n",
    "flush(stdout)\n",
    "\n",
    "existing_plans = [[cg_data.suppression_plans.crews_present[i, j, :] \n",
    "                     for j=1:cg_data.suppression_plans.plans_per_fire[i]\n",
    "                  ]\n",
    "                  for i=1:NUM_FIRES \n",
    "                 ];\n",
    "\n",
    "existing_routes = [[cg_data.routes.fires_fought[i, j, :, :] \n",
    "                     for j=1:cg_data.routes.routes_per_crew[i]\n",
    "                  ]\n",
    "                  for i=1:NUM_CREWS\n",
    "                 ]\n",
    "\n",
    "for excess in [-2, -1, 0, 1, 2]\n",
    "\n",
    "    pattern = [(excess, 1e30)]\n",
    "    params[\"int_aware_price_adjustment\"] = [pattern for i in 1:params[\"max_iters\"]]\n",
    "\n",
    "    d2, cg_data2 = run_tests(params)\n",
    "    println(\"Iterations: $(d2[4])\")\n",
    "    flush(stdout)\n",
    "\n",
    "    for fire in 1:NUM_FIRES\n",
    "\n",
    "        for plan_ix in 1:cg_data2.suppression_plans.plans_per_fire[fire] \n",
    "\n",
    "            if value(d2[9][\"plan\"][fire, plan_ix]) > fire_thresh\n",
    "\n",
    "                plan = cg_data2.suppression_plans.crews_present[fire, plan_ix, :]\n",
    "                cost = cg_data2.suppression_plans.plan_costs[fire, plan_ix]\n",
    "\n",
    "                if ~(plan in existing_plans[fire])\n",
    "\n",
    "                    push!(existing_plans[fire], plan)\n",
    "\n",
    "                    update_available_supp_plans(fire, cost, plan, cg_data.suppression_plans)\n",
    "                    push!(p_per_f, ((fire, cg_data.suppression_plans.plans_per_fire[fire]), \n",
    "                                       value(d2[9][\"plan\"][fire, plan_ix])))\n",
    "                end\n",
    "            end\n",
    "        end\n",
    "    end \n",
    "\n",
    "\n",
    "    for crew in 1:NUM_CREWS\n",
    "\n",
    "        for route_ix in 1:cg_data2.routes.routes_per_crew[crew] \n",
    "\n",
    "            if value(d2[9][\"route\"][crew, route_ix]) > crew_thresh\n",
    "\n",
    "                route = cg_data2.routes.fires_fought[crew, route_ix, :, :]\n",
    "                cost = cg_data2.routes.route_costs[crew, route_ix]\n",
    "                oo_region = cg_data2.routes.out_of_reg[crew, route_ix, :]\n",
    "\n",
    "                if ~(route in existing_routes[crew])\n",
    "\n",
    "                    push!(existing_routes[crew], route)\n",
    "\n",
    "                    update_available_crew_routes(crew, cost, route, oo_region, cg_data.routes)\n",
    "                    push!(r_per_c, ((crew, cg_data.routes.routes_per_crew[crew]), \n",
    "                          value(d2[9][\"route\"][crew, route_ix])))\n",
    "                end\n",
    "\n",
    "            end\n",
    "        end\n",
    "    end \n",
    "end\n",
    "\n",
    "config = Dict{String,Any}(\"ws_dual\" => false)\n",
    "config[\"master_problem\"] = Dict{String,Any}()\n",
    "\n",
    "config[\"master_problem\"][\"dual_stabilization\"] = false\n",
    "config[\"master_problem\"][\"dual_secondary_eps\"] = false\n",
    "config[\"master_problem\"][\"dual_warm_start\"] = false\n",
    "\n",
    "r_data = RegionData(convert.(Int, ones(NUM_CREWS)), convert.(Int, ones(100)))\n",
    "rotation_order = get_rotation_orders(r_data.crew_regions)\n",
    "\n",
    "form_time = @elapsed pb = master_problem(config, cg_data.routes, cg_data.suppression_plans, \n",
    "                                         r_data, rotation_order, 0, true)\n",
    "set_optimizer_attribute(pb[\"m\"], \"TimeLimit\", 300)\n",
    "sol_time = @elapsed optimize!(pb[\"m\"])\n",
    "\n",
    "pb_allot = convert.(Int, round.(100 .* get_fire_allotments(pb, cg_data)) ./ 100)\n",
    "\n",
    "println()\n",
    "println(\"Restore integrality\")\n",
    "println(\"___________________\")\n",
    "num_vars = num_variables(pb[\"m\"])\n",
    "println(\"Number of variables: $num_vars\")\n",
    "println(\"Formulate time: $form_time\")\n",
    "println(\"Solve time: $sol_time\")\n",
    "val = objective_value(pb[\"m\"])\n",
    "println(\"Objective value: $val\")\n",
    "println(\"Gap : $(val/d[6][\"master_problem\"] - 1)\")\n",
    "println()\n",
    "println(\"*********************************************\")\n",
    "flush(stdout)"
   ]
  },
  {
   "cell_type": "code",
   "execution_count": 179,
   "id": "5f755ea4",
   "metadata": {},
   "outputs": [
    {
     "data": {
      "text/plain": [
       "Dict{String, Int64} with 3 entries:\n",
       "  \"later_dcg_used\"   => 2\n",
       "  \"later_dcg_unused\" => 20\n",
       "  \"original_dcg\"     => 8"
      ]
     },
     "execution_count": 179,
     "metadata": {},
     "output_type": "execute_result"
    }
   ],
   "source": [
    "routes_used = [i for i in eachindex(pb[\"route\"]) if value(pb[\"route\"][i]) > 0.9]\n",
    "routes_generated = [i for i in r_per_c if i[1] in routes_used]\n",
    "Dict(\"original_dcg\" => NUM_CREWS - length(routes_generated), \n",
    "     \"later_dcg_unused\" => length([i for i in routes_generated if i[2] < 0.001]),\n",
    "     \"later_dcg_used\" => length([i for i in routes_generated if i[2] >= 0.001]))"
   ]
  },
  {
   "cell_type": "code",
   "execution_count": 180,
   "id": "e15d07c9",
   "metadata": {
    "scrolled": true
   },
   "outputs": [
    {
     "data": {
      "text/plain": [
       "Dict{String, Int64} with 3 entries:\n",
       "  \"later_dcg_used\"   => 2\n",
       "  \"later_dcg_unused\" => 5\n",
       "  \"original_dcg\"     => 2"
      ]
     },
     "execution_count": 180,
     "metadata": {},
     "output_type": "execute_result"
    }
   ],
   "source": [
    "plans_used = [i for i in eachindex(pb[\"plan\"]) if value(pb[\"plan\"][i]) > 0.9]\n",
    "plans_generated = [i for i in p_per_f if i[1] in plans_used]\n",
    "Dict(\"original_dcg\" => NUM_FIRES - length(plans_generated), \n",
    "     \"later_dcg_unused\" => length([i for i in plans_generated if i[2] < 0.001]),\n",
    "     \"later_dcg_used\" => length([i for i in plans_generated if i[2] >= 0.001]))"
   ]
  },
  {
   "cell_type": "code",
   "execution_count": 181,
   "id": "e79e14ec",
   "metadata": {},
   "outputs": [
    {
     "name": "stdout",
     "output_type": "stream",
     "text": [
      "0.061855670103092786\n",
      "0.13385826771653545\n",
      "0.625\n",
      "0.43548387096774194\n",
      "0.13297872340425532\n",
      "0.031746031746031744\n",
      "0.1791044776119403\n",
      "0.4673913043478261\n",
      "0.2222222222222222\n"
     ]
    }
   ],
   "source": [
    "for fire in 1:NUM_FIRES\n",
    "    splans = cg_data.suppression_plans\n",
    "    num_plans = splans.plans_per_fire[fire]\n",
    "    adj_costs = splans.plan_costs[fire, 1:num_plans] .+ \n",
    "                splans.crews_present[fire, 1:num_plans, :] * dual.(d[9][\"rho\"])[fire, :] .-  dual.(d[9][\"pi\"])[fire, :]\n",
    "    println(mean(adj_costs .> val - d[6][\"master_problem\"]))\n",
    "end"
   ]
  },
  {
   "cell_type": "code",
   "execution_count": 182,
   "id": "ef51fbff",
   "metadata": {},
   "outputs": [
    {
     "name": "stdout",
     "output_type": "stream",
     "text": [
      "0.07947019867549669\n",
      "0.13915857605177995\n",
      "0.1437308868501529\n",
      "0.13975155279503104\n",
      "0.10097719869706841\n",
      "0.23510971786833856\n",
      "0.11510791366906475\n",
      "0.1245674740484429\n",
      "0.12666666666666668\n",
      "0.1258741258741259\n",
      "0.10033444816053512\n",
      "0.1794871794871795\n",
      "0.1519756838905775\n",
      "0.1437308868501529\n",
      "0.15178571428571427\n",
      "0.11935483870967742\n",
      "0.07835820895522388\n",
      "0.1391941391941392\n",
      "0.10508474576271186\n",
      "0.1347517730496454\n",
      "0.15457413249211358\n",
      "0.07419354838709677\n",
      "0.14423076923076922\n",
      "0.10060975609756098\n",
      "0.15555555555555556\n",
      "0.12152777777777778\n",
      "0.06551724137931035\n",
      "0.12\n",
      "0.10714285714285714\n",
      "0.10676156583629894\n"
     ]
    }
   ],
   "source": [
    "for crew in 1:NUM_CREWS\n",
    "    croutes = cg_data.routes\n",
    "    num_routes = croutes.routes_per_crew[crew]\n",
    "    adj_costs = [sum(croutes.fires_fought[crew, i, :, :]  .* dual.(d[9][\"rho\"])) for i in 1:num_routes]\n",
    "    adj_costs = croutes.route_costs[crew, 1:num_routes] .- adj_costs .-  dual.(d[9][\"sigma\"])[crew, :]\n",
    "    println(mean(adj_costs .> val - d[6][\"master_problem\"]))\n",
    "end"
   ]
  },
  {
   "cell_type": "code",
   "execution_count": 151,
   "id": "3e924f3a",
   "metadata": {},
   "outputs": [
    {
     "data": {
      "text/plain": [
       "1239.253248035122"
      ]
     },
     "execution_count": 151,
     "metadata": {},
     "output_type": "execute_result"
    }
   ],
   "source": [
    "adj_costs[22]"
   ]
  },
  {
   "cell_type": "code",
   "execution_count": 152,
   "id": "f6ad7f34",
   "metadata": {},
   "outputs": [
    {
     "data": {
      "text/plain": [
       "196-element Vector{Float64}:\n",
       " 241902.5773739722\n",
       "    595.1808524034277\n",
       "   2507.3682406253065\n",
       "  24000.19233253345\n",
       "  67046.88133109518\n",
       "   3404.2286069145775\n",
       "  23964.951536429493\n",
       "   5257.9885886562115\n",
       "  49708.636036850774\n",
       "  10742.417513684311\n",
       "  13786.772103347088\n",
       "   9482.30860202969\n",
       "   4802.467782525055\n",
       "      ⋮\n",
       "   1427.1775779320742\n",
       "   8927.517161652358\n",
       "   5298.937192458776\n",
       "    627.4172335651529\n",
       "    601.4681697984051\n",
       "    542.894138388423\n",
       "    544.1906126893882\n",
       "    156.3746872798074\n",
       "      3.536231066856999\n",
       "      0.0\n",
       "   8635.57134193179\n",
       "    151.2816001563624"
      ]
     },
     "execution_count": 152,
     "metadata": {},
     "output_type": "execute_result"
    }
   ],
   "source": [
    "adj_costs"
   ]
  },
  {
   "cell_type": "code",
   "execution_count": 143,
   "id": "7a072018",
   "metadata": {},
   "outputs": [
    {
     "data": {
      "text/plain": [
       "20-element Vector{Tuple{Int64, Int64}}:\n",
       " (16, 112)\n",
       " (2, 22)\n",
       " (12, 108)\n",
       " (18, 40)\n",
       " (13, 95)\n",
       " (7, 80)\n",
       " (6, 81)\n",
       " (9, 39)\n",
       " (1, 36)\n",
       " (10, 88)\n",
       " (20, 51)\n",
       " (17, 134)\n",
       " (8, 68)\n",
       " (5, 64)\n",
       " (11, 18)\n",
       " (14, 99)\n",
       " (15, 90)\n",
       " (4, 116)\n",
       " (3, 22)\n",
       " (19, 36)"
      ]
     },
     "execution_count": 143,
     "metadata": {},
     "output_type": "execute_result"
    }
   ],
   "source": [
    "[i for i in eachindex(pb[\"route\"]) if value(pb[\"route\"][i]) > 0.9]"
   ]
  },
  {
   "cell_type": "code",
   "execution_count": 69,
   "id": "eb6ed9cd",
   "metadata": {},
   "outputs": [
    {
     "data": {
      "text/plain": [
       "10-element Vector{Float64}:\n",
       "      8.510703824215365e9\n",
       "   5000.0\n",
       "      1.0189378215259777e8\n",
       "      1.0179738790686765e8\n",
       " 100248.5748380035\n",
       "  23947.36842105263\n",
       "   7105.263157894737\n",
       "  17631.57894736842\n",
       "  26052.631578947367\n",
       "  36578.94736842105"
      ]
     },
     "execution_count": 69,
     "metadata": {},
     "output_type": "execute_result"
    }
   ],
   "source": [
    "cg_data.suppression_plans.plan_costs[fire, 1:10]"
   ]
  },
  {
   "cell_type": "code",
   "execution_count": 63,
   "id": "6e6dc6ee",
   "metadata": {},
   "outputs": [
    {
     "data": {
      "text/plain": [
       "6-element Vector{Float64}:\n",
       "      1.1575909547738698e6\n",
       " 563610.8789418872\n",
       "      1.1536147257428574e6\n",
       "      2.150161696750889e6\n",
       "      1.1173799088774088e6\n",
       "      1.0289543824293832e6"
      ]
     },
     "execution_count": 63,
     "metadata": {},
     "output_type": "execute_result"
    }
   ],
   "source": [
    "dual.(d[9][\"pi\"])"
   ]
  },
  {
   "cell_type": "code",
   "execution_count": 67,
   "id": "42e864a0",
   "metadata": {},
   "outputs": [
    {
     "data": {
      "text/plain": [
       "14-element Vector{Float64}:\n",
       " 115163.7030038062\n",
       "  55018.06777535345\n",
       "  18217.75342593089\n",
       "      0.0\n",
       "      0.0\n",
       "      0.0\n",
       "      0.0\n",
       "      0.0\n",
       "      0.0\n",
       "      0.0\n",
       "      0.0\n",
       "      0.0\n",
       "      0.0\n",
       "      0.0"
      ]
     },
     "execution_count": 67,
     "metadata": {},
     "output_type": "execute_result"
    }
   ],
   "source": [
    "dual.(d[9][\"rho\"])[fire, :]"
   ]
  },
  {
   "cell_type": "markdown",
   "id": "ad035803",
   "metadata": {},
   "source": [
    "## Full procedure"
   ]
  },
  {
   "cell_type": "code",
   "execution_count": 56,
   "id": "cb60f17f",
   "metadata": {},
   "outputs": [
    {
     "name": "stdout",
     "output_type": "stream",
     "text": [
      "Fires : 6\n",
      "Crews : 20\n",
      "\n",
      "Running first DCG\n",
      "__________\n",
      "Iterations: 46\n",
      "Objective values: Dict(\"price_and_branch\" => 3.633108982511832e6, \"master_problem\" => 2.671221211544192e6)\n",
      "Timings: Dict(\"init_cg\" => 0.5608259, \"price_and_branch\" => 0.2708204, \"cg\" => 9.7143244, \"ws\" => 1.8870813)\n",
      "\n",
      "Running integraity-aware DCG\n",
      "__________\n",
      "Iterations: 30\n",
      "Iterations: 32\n",
      "Iterations: 34\n",
      "Iterations: 61\n",
      "Iterations: 52\n",
      "\n",
      "Restore integrality\n",
      "___________________\n",
      "Number of variables: 1669\n",
      "Formulate time: 0.7488398\n",
      "Solve time: 1.5407393\n",
      "Objective value: 2.792618766942195e6\n",
      "Gap : 0.04544646279138553\n",
      "\n",
      "*********************************************\n"
     ]
    }
   ],
   "source": [
    "for fc in [(6, 20)]\n",
    "    \n",
    "    fire_thresh = -0.0001\n",
    "    crew_thresh = 1.0001\n",
    "\n",
    "    params = Dict{String, Any}()\n",
    "    params[\"gamma\"] = 0\n",
    "\n",
    "    params[\"in_path\"] = \"data/raw/big_fire\"\n",
    "    params[\"agg_prec\"] = 10\n",
    "    params[\"passive_states\"] = 30\n",
    "    params[\"num_fires\"] = fc[1]\n",
    "    params[\"num_crews\"] = fc[2]\n",
    "    params[\"fire_solver_type\"] = \"dp\"\n",
    "\n",
    "    params[\"apply_warm_start\"] = false\n",
    "    params[\"restore_cost\"] = false\n",
    "\n",
    "    params[\"solve_explicit_lin_time_limit\"] = 0\n",
    "    params[\"solve_explicit_int_time_limit\"] = 0\n",
    "    params[\"cg_time_limit\"] = 300\n",
    "    params[\"solve_net_flow_time_limit\"] = 0\n",
    "\n",
    "    params[\"max_iters\"] = 1000\n",
    "\n",
    "    params[\"dual_stab_type\"] = \"global\"\n",
    "    params[\"dual_stab_anchor\"] = false\n",
    "    params[\"dual_stab_eps\"] = 0.01\n",
    "\n",
    "    params[\"ws_dual_weight\"] = zeros(params[\"max_iters\"])\n",
    "    params[\"int_aware_dual_weight\"] = zeros(params[\"max_iters\"])\n",
    "\n",
    "    pattern = [(0, 0)]\n",
    "    params[\"int_aware_price_adjustment\"] = [pattern for i in 1:params[\"max_iters\"]]\n",
    "\n",
    "    d, cg_data = run_tests(params)\n",
    "    params[\"int_aware_capacities\"] = d[7][\"master_problem\"]\n",
    "\n",
    "    println(\"Fires : $(params[\"num_fires\"])\")\n",
    "    println(\"Crews : $(params[\"num_crews\"])\")\n",
    "    println()\n",
    "\n",
    "    println(\"Running first DCG\")\n",
    "    println(\"__________\")\n",
    "    println(\"Iterations: $(d[4])\")\n",
    "    println(\"Objective values: $(d[6])\")\n",
    "    println(\"Timings: $(d[5])\")\n",
    "    println()\n",
    "\n",
    "    println(\"Running integraity-aware DCG\")\n",
    "    println(\"__________\")\n",
    "    flush(stdout)\n",
    "\n",
    "    existing_plans = [[cg_data.suppression_plans.crews_present[i, j, :] \n",
    "                         for j=1:cg_data.suppression_plans.plans_per_fire[i]\n",
    "                      ]\n",
    "                      for i=1:NUM_FIRES \n",
    "                     ];\n",
    "\n",
    "    existing_routes = [[cg_data.routes.fires_fought[i, j, :, :] \n",
    "                         for j=1:cg_data.routes.routes_per_crew[i]\n",
    "                      ]\n",
    "                      for i=1:NUM_CREWS\n",
    "                     ]\n",
    "\n",
    "    for excess in [-2, -1, 0, 1, 2]\n",
    "\n",
    "        pattern = [(excess, 1e30)]\n",
    "        params[\"int_aware_price_adjustment\"] = [pattern for i in 1:params[\"max_iters\"]]\n",
    "\n",
    "        d2, cg_data2 = run_tests(params)\n",
    "        println(\"Iterations: $(d2[4])\")\n",
    "        flush(stdout)\n",
    "\n",
    "        for fire in 1:NUM_FIRES\n",
    "\n",
    "            for plan_ix in 1:cg_data2.suppression_plans.plans_per_fire[fire] \n",
    "\n",
    "                if value(d2[9][\"plan\"][fire, plan_ix]) > fire_thresh\n",
    "\n",
    "                    plan = cg_data2.suppression_plans.crews_present[fire, plan_ix, :]\n",
    "                    cost = cg_data2.suppression_plans.plan_costs[fire, plan_ix]\n",
    "\n",
    "                    if ~(plan in existing_plans[fire])\n",
    "\n",
    "                        push!(existing_plans[fire], plan)\n",
    "\n",
    "                        update_available_supp_plans(fire, cost, plan, cg_data.suppression_plans)\n",
    "                    end\n",
    "                end\n",
    "            end\n",
    "        end \n",
    "\n",
    "\n",
    "        for crew in 1:NUM_CREWS\n",
    "\n",
    "            for route_ix in 1:cg_data2.routes.routes_per_crew[crew] \n",
    "\n",
    "                if value(d2[9][\"route\"][crew, route_ix]) > crew_thresh\n",
    "\n",
    "                    route = cg_data2.routes.fires_fought[crew, route_ix, :, :]\n",
    "                    cost = cg_data2.routes.route_costs[crew, route_ix]\n",
    "                    oo_region = cg_data2.routes.out_of_reg[crew, route_ix, :]\n",
    "\n",
    "                    if ~(route in existing_routes[crew])\n",
    "\n",
    "                        push!(existing_routes[crew], route)\n",
    "\n",
    "                        update_available_crew_routes(crew, cost, route, oo_region, cg_data.routes)\n",
    "                    end\n",
    "\n",
    "                end\n",
    "            end\n",
    "        end \n",
    "    end\n",
    "\n",
    "    config = Dict{String,Any}(\"ws_dual\" => false)\n",
    "    config[\"master_problem\"] = Dict{String,Any}()\n",
    "\n",
    "    config[\"master_problem\"][\"dual_stabilization\"] = false\n",
    "    config[\"master_problem\"][\"dual_secondary_eps\"] = false\n",
    "    config[\"master_problem\"][\"dual_warm_start\"] = false\n",
    "\n",
    "    r_data = RegionData(convert.(Int, ones(NUM_CREWS)), convert.(Int, ones(100)))\n",
    "    rotation_order = get_rotation_orders(r_data.crew_regions)\n",
    "\n",
    "    form_time = @elapsed pb = master_problem(config, cg_data.routes, cg_data.suppression_plans, \n",
    "                                             r_data, rotation_order, 0, true)\n",
    "    set_optimizer_attribute(pb[\"m\"], \"TimeLimit\", 300)\n",
    "    sol_time = @elapsed optimize!(pb[\"m\"])\n",
    "\n",
    "    pb_allot = convert.(Int, round.(100 .* get_fire_allotments(pb, cg_data)) ./ 100)\n",
    "\n",
    "    println()\n",
    "    println(\"Restore integrality\")\n",
    "    println(\"___________________\")\n",
    "    num_vars = num_variables(pb[\"m\"])\n",
    "    println(\"Number of variables: $num_vars\")\n",
    "    println(\"Formulate time: $form_time\")\n",
    "    println(\"Solve time: $sol_time\")\n",
    "    val = objective_value(pb[\"m\"])\n",
    "    println(\"Objective value: $val\")\n",
    "    println(\"Gap : $(val/d[6][\"master_problem\"] - 1)\")\n",
    "    println()\n",
    "    println(\"*********************************************\")\n",
    "    flush(stdout)\n",
    "end"
   ]
  },
  {
   "cell_type": "code",
   "execution_count": 235,
   "id": "9344882c",
   "metadata": {},
   "outputs": [
    {
     "name": "stdout",
     "output_type": "stream",
     "text": [
      "Fires : 3\n",
      "Crews : 10\n",
      "\n",
      "Running first DCG\n",
      "__________\n",
      "Iterations: 48\n",
      "Objective values: Dict(\"price_and_branch\" => 1.409384091836006e6, \"master_problem\" => 1.138800534771232e6)\n",
      "Timings: Dict(\"init_cg\" => 0.1235671, \"price_and_branch\" => 0.0330664, \"cg\" => 1.4205303999999996, \"ws\" => 0.5435866)\n",
      "\n",
      "Running integraity-aware DCG\n",
      "__________\n",
      "Iterations: 23\n",
      "Iterations: 21\n",
      "Iterations: 17\n",
      "Iterations: 36\n",
      "Iterations: 37\n",
      "\n",
      "Restore integrality\n",
      "___________________\n",
      "Number of variables: 690\n",
      "Formulate time: 0.133513\n",
      "Solve time: 0.2263785\n",
      "Objective value: 1.1873281507401261e6\n",
      "Gap : 0.04261291989877991\n",
      "\n",
      "*********************************************\n",
      "Fires : 6\n",
      "Crews : 20\n",
      "\n",
      "Running first DCG\n",
      "__________\n",
      "Iterations: 46\n",
      "Objective values: Dict(\"price_and_branch\" => 3.633108982511832e6, \"master_problem\" => 2.671221211544192e6)\n",
      "Timings: Dict(\"init_cg\" => 0.5337115, \"price_and_branch\" => 0.099827, \"cg\" => 6.560796400000001, \"ws\" => 1.9022789)\n",
      "\n",
      "Running integraity-aware DCG\n",
      "__________\n",
      "Iterations: 30\n",
      "Iterations: 32\n",
      "Iterations: 34\n",
      "Iterations: 61\n",
      "Iterations: 52\n",
      "\n",
      "Restore integrality\n",
      "___________________\n",
      "Number of variables: 1738\n",
      "Formulate time: 0.9583211\n",
      "Solve time: 5.3473767\n",
      "Objective value: 2.779419677806958e6\n",
      "Gap : 0.04050524374213782\n",
      "\n",
      "*********************************************\n",
      "Fires : 9\n",
      "Crews : 30\n",
      "\n",
      "Running first DCG\n",
      "__________\n",
      "Iterations: 49\n",
      "Objective values: Dict(\"price_and_branch\" => 9.018218008705923e9, \"master_problem\" => 4.3067503718116e6)\n",
      "Timings: Dict(\"init_cg\" => 1.4422782, \"price_and_branch\" => 1.1888965, \"cg\" => 18.8470099, \"ws\" => 5.1535252)\n",
      "\n",
      "Running integraity-aware DCG\n",
      "__________\n",
      "Iterations: 53\n",
      "Iterations: 58\n",
      "Iterations: 67\n",
      "Iterations: 82\n",
      "Iterations: 69\n",
      "\n",
      "Restore integrality\n",
      "___________________\n",
      "Number of variables: 2908\n",
      "Formulate time: 2.0908718\n",
      "Solve time: 28.5281205\n",
      "Objective value: 4.4440628072876325e6\n",
      "Gap : 0.03188307276288049\n",
      "\n",
      "*********************************************\n",
      "Fires : 12\n",
      "Crews : 40\n",
      "\n",
      "Running first DCG\n",
      "__________\n",
      "Iterations: 55\n",
      "Objective values: Dict(\"price_and_branch\" => 1.1008225241908188e10, \"master_problem\" => 4.8147408088395605e6)\n",
      "Timings: Dict(\"init_cg\" => 2.894158, \"price_and_branch\" => 143.8406038, \"cg\" => 53.1528626, \"ws\" => 18.5378468)\n",
      "\n",
      "Running integraity-aware DCG\n",
      "__________\n",
      "Iterations: 72\n",
      "Iterations: 68\n",
      "Iterations: 79\n",
      "Iterations: 129\n",
      "Iterations: 92\n",
      "\n",
      "Restore integrality\n",
      "___________________\n",
      "Number of variables: 4401\n",
      "Formulate time: 4.2648119\n",
      "Solve time: 300.0633615\n",
      "Objective value: 4.915381100084149e6\n",
      "Gap : 0.02090253561724853\n",
      "\n",
      "*********************************************\n"
     ]
    }
   ],
   "source": [
    "for fc in [(3, 10), (6, 20), (9, 30), (12, 40)]\n",
    "    \n",
    "    fire_thresh = -0.0001\n",
    "    crew_thresh = 0.0001\n",
    "\n",
    "    params = Dict{String, Any}()\n",
    "    params[\"gamma\"] = 0\n",
    "\n",
    "    params[\"in_path\"] = \"data/raw/big_fire\"\n",
    "    params[\"agg_prec\"] = 10\n",
    "    params[\"passive_states\"] = 30\n",
    "    params[\"num_fires\"] = fc[1]\n",
    "    params[\"num_crews\"] = fc[2]\n",
    "    params[\"fire_solver_type\"] = \"dp\"\n",
    "\n",
    "    params[\"apply_warm_start\"] = false\n",
    "    params[\"restore_cost\"] = false\n",
    "\n",
    "    params[\"solve_explicit_lin_time_limit\"] = 0\n",
    "    params[\"solve_explicit_int_time_limit\"] = 0\n",
    "    params[\"cg_time_limit\"] = 300\n",
    "    params[\"solve_net_flow_time_limit\"] = 0\n",
    "\n",
    "    params[\"max_iters\"] = 1000\n",
    "\n",
    "    params[\"dual_stab_type\"] = \"global\"\n",
    "    params[\"dual_stab_anchor\"] = false\n",
    "    params[\"dual_stab_eps\"] = 0.01\n",
    "\n",
    "    params[\"ws_dual_weight\"] = zeros(params[\"max_iters\"])\n",
    "    params[\"int_aware_dual_weight\"] = zeros(params[\"max_iters\"])\n",
    "\n",
    "    pattern = [(0, 0)]\n",
    "    params[\"int_aware_price_adjustment\"] = [pattern for i in 1:params[\"max_iters\"]]\n",
    "\n",
    "    d, cg_data = run_tests(params)\n",
    "    params[\"int_aware_capacities\"] = d[7][\"master_problem\"]\n",
    "\n",
    "    println(\"Fires : $(params[\"num_fires\"])\")\n",
    "    println(\"Crews : $(params[\"num_crews\"])\")\n",
    "    println()\n",
    "\n",
    "    println(\"Running first DCG\")\n",
    "    println(\"__________\")\n",
    "    println(\"Iterations: $(d[4])\")\n",
    "    println(\"Objective values: $(d[6])\")\n",
    "    println(\"Timings: $(d[5])\")\n",
    "    println()\n",
    "\n",
    "    println(\"Running integraity-aware DCG\")\n",
    "    println(\"__________\")\n",
    "    flush(stdout)\n",
    "\n",
    "    existing_plans = [[cg_data.suppression_plans.crews_present[i, j, :] \n",
    "                         for j=1:cg_data.suppression_plans.plans_per_fire[i]\n",
    "                      ]\n",
    "                      for i=1:NUM_FIRES \n",
    "                     ];\n",
    "\n",
    "    existing_routes = [[cg_data.routes.fires_fought[i, j, :, :] \n",
    "                         for j=1:cg_data.routes.routes_per_crew[i]\n",
    "                      ]\n",
    "                      for i=1:NUM_CREWS\n",
    "                     ]\n",
    "\n",
    "    for excess in [-2, -1, 0, 1, 2]\n",
    "\n",
    "        pattern = [(excess, 1e30)]\n",
    "        params[\"int_aware_price_adjustment\"] = [pattern for i in 1:params[\"max_iters\"]]\n",
    "\n",
    "        d2, cg_data2 = run_tests(params)\n",
    "        println(\"Iterations: $(d2[4])\")\n",
    "        flush(stdout)\n",
    "\n",
    "        for fire in 1:NUM_FIRES\n",
    "\n",
    "            for plan_ix in 1:cg_data2.suppression_plans.plans_per_fire[fire] \n",
    "\n",
    "                if value(d2[9][\"plan\"][fire, plan_ix]) > fire_thresh\n",
    "\n",
    "                    plan = cg_data2.suppression_plans.crews_present[fire, plan_ix, :]\n",
    "                    cost = cg_data2.suppression_plans.plan_costs[fire, plan_ix]\n",
    "\n",
    "                    if ~(plan in existing_plans[fire])\n",
    "\n",
    "                        push!(existing_plans[fire], plan)\n",
    "\n",
    "                        update_available_supp_plans(fire, cost, plan, cg_data.suppression_plans)\n",
    "                    end\n",
    "                end\n",
    "            end\n",
    "        end \n",
    "\n",
    "\n",
    "        for crew in 1:NUM_CREWS\n",
    "\n",
    "            for route_ix in 1:cg_data2.routes.routes_per_crew[crew] \n",
    "\n",
    "                if value(d2[9][\"route\"][crew, route_ix]) > crew_thresh\n",
    "\n",
    "                    route = cg_data2.routes.fires_fought[crew, route_ix, :, :]\n",
    "                    cost = cg_data2.routes.route_costs[crew, route_ix]\n",
    "                    oo_region = cg_data2.routes.out_of_reg[crew, route_ix, :]\n",
    "\n",
    "                    if ~(route in existing_routes[crew])\n",
    "\n",
    "                        push!(existing_routes[crew], route)\n",
    "\n",
    "                        update_available_crew_routes(crew, cost, route, oo_region, cg_data.routes)\n",
    "                    end\n",
    "\n",
    "                end\n",
    "            end\n",
    "        end \n",
    "    end\n",
    "\n",
    "    config = Dict{String,Any}(\"ws_dual\" => false)\n",
    "    config[\"master_problem\"] = Dict{String,Any}()\n",
    "\n",
    "    config[\"master_problem\"][\"dual_stabilization\"] = false\n",
    "    config[\"master_problem\"][\"dual_secondary_eps\"] = false\n",
    "    config[\"master_problem\"][\"dual_warm_start\"] = false\n",
    "\n",
    "    r_data = RegionData(convert.(Int, ones(NUM_CREWS)), convert.(Int, ones(100)))\n",
    "    rotation_order = get_rotation_orders(r_data.crew_regions)\n",
    "\n",
    "    form_time = @elapsed pb = master_problem(config, cg_data.routes, cg_data.suppression_plans, \n",
    "                                             r_data, rotation_order, 0, true)\n",
    "    set_optimizer_attribute(pb[\"m\"], \"TimeLimit\", 300)\n",
    "    sol_time = @elapsed optimize!(pb[\"m\"])\n",
    "\n",
    "    pb_allot = convert.(Int, round.(100 .* get_fire_allotments(pb, cg_data)) ./ 100)\n",
    "\n",
    "    println()\n",
    "    println(\"Restore integrality\")\n",
    "    println(\"___________________\")\n",
    "    num_vars = num_variables(pb[\"m\"])\n",
    "    println(\"Number of variables: $num_vars\")\n",
    "    println(\"Formulate time: $form_time\")\n",
    "    println(\"Solve time: $sol_time\")\n",
    "    val = objective_value(pb[\"m\"])\n",
    "    println(\"Objective value: $val\")\n",
    "    println(\"Gap : $(val/d[6][\"master_problem\"] - 1)\")\n",
    "    println()\n",
    "    println(\"*********************************************\")\n",
    "    flush(stdout)\n",
    "end"
   ]
  },
  {
   "cell_type": "code",
   "execution_count": 237,
   "id": "855700c6",
   "metadata": {},
   "outputs": [
    {
     "name": "stdout",
     "output_type": "stream",
     "text": [
      "Fires : 3\n",
      "Crews : 10\n",
      "\n",
      "Running first DCG\n",
      "__________\n",
      "Iterations: 48\n",
      "Objective values: Dict(\"price_and_branch\" => 1.409384091836006e6, \"master_problem\" => 1.138800534771232e6)\n",
      "Timings: Dict(\"init_cg\" => 1.210148, \"price_and_branch\" => 0.115581, \"cg\" => 1.8509999, \"ws\" => 4.5911759)\n",
      "\n",
      "Running integraity-aware DCG\n",
      "__________\n",
      "Iterations: 23\n",
      "Iterations: 21\n",
      "Iterations: 17\n",
      "Iterations: 36\n",
      "Iterations: 37\n",
      "\n",
      "Restore integrality\n",
      "___________________\n",
      "Number of variables: 1346\n",
      "Formulate time: 0.4650822\n",
      "Solve time: 0.5986755\n",
      "Objective value: 1.1672659340711462e6\n",
      "Gap : 0.024995948307692473\n",
      "\n",
      "*********************************************\n",
      "Fires : 6\n",
      "Crews : 20\n",
      "\n",
      "Running first DCG\n",
      "__________\n",
      "Iterations: 46\n",
      "Objective values: Dict(\"price_and_branch\" => 3.633108982511832e6, \"master_problem\" => 2.671221211544192e6)\n",
      "Timings: Dict(\"init_cg\" => 0.9284345, \"price_and_branch\" => 0.1234502, \"cg\" => 6.9157966, \"ws\" => 2.1628266)\n",
      "\n",
      "Running integraity-aware DCG\n",
      "__________\n",
      "Iterations: 30\n",
      "Iterations: 32\n",
      "Iterations: 34\n",
      "Iterations: 61\n",
      "Iterations: 52\n",
      "\n",
      "Restore integrality\n",
      "___________________\n",
      "Number of variables: 4730\n",
      "Formulate time: 4.034235\n",
      "Solve time: 8.1333836\n",
      "Objective value: 2.761300847772844e6\n",
      "Gap : 0.033722267492993785\n",
      "\n",
      "*********************************************\n",
      "Fires : 9\n",
      "Crews : 30\n",
      "\n",
      "Running first DCG\n",
      "__________\n",
      "Iterations: 49\n",
      "Objective values: Dict(\"price_and_branch\" => 9.018218008705923e9, \"master_problem\" => 4.3067503718116e6)\n",
      "Timings: Dict(\"init_cg\" => 1.4811322, \"price_and_branch\" => 1.1043641, \"cg\" => 19.2277906, \"ws\" => 4.4420079)\n",
      "\n",
      "Running integraity-aware DCG\n",
      "__________\n",
      "Iterations: 53\n",
      "Iterations: 58\n",
      "Iterations: 67\n",
      "Iterations: 82\n",
      "Iterations: 69\n",
      "\n",
      "Restore integrality\n",
      "___________________\n",
      "Number of variables: 10646\n",
      "Formulate time: 14.6197142\n",
      "Solve time: 300.346728\n",
      "Objective value: 4.401968486996733e6\n",
      "Gap : 0.022109039754974136\n",
      "\n",
      "*********************************************\n",
      "Fires : 12\n",
      "Crews : 40\n",
      "\n",
      "Running first DCG\n",
      "__________\n",
      "Iterations: 55\n",
      "Objective values: Dict(\"price_and_branch\" => 1.1008225241908188e10, \"master_problem\" => 4.8147408088395605e6)\n",
      "Timings: Dict(\"init_cg\" => 4.5749093, \"price_and_branch\" => 139.6899244, \"cg\" => 63.45352880000001, \"ws\" => 12.5249127)\n",
      "\n",
      "Running integraity-aware DCG\n",
      "__________\n",
      "Iterations: 72\n",
      "Iterations: 68\n",
      "Iterations: 79\n",
      "Iterations: 129\n",
      "Iterations: 92\n",
      "\n",
      "Restore integrality\n",
      "___________________\n",
      "Number of variables: 18765\n",
      "Formulate time: 34.5687968\n",
      "Solve time: 300.2523759\n",
      "Objective value: 4.913061581111036e6\n",
      "Gap : 0.020420781964205714\n",
      "\n",
      "*********************************************\n"
     ]
    }
   ],
   "source": [
    "for fc in [(3, 10), (6, 20), (9, 30), (12, 40)]\n",
    "    \n",
    "    fire_thresh = -0.0001\n",
    "    crew_thresh = -0.0001\n",
    "\n",
    "    params = Dict{String, Any}()\n",
    "    params[\"gamma\"] = 0\n",
    "\n",
    "    params[\"in_path\"] = \"data/raw/big_fire\"\n",
    "    params[\"agg_prec\"] = 10\n",
    "    params[\"passive_states\"] = 30\n",
    "    params[\"num_fires\"] = fc[1]\n",
    "    params[\"num_crews\"] = fc[2]\n",
    "    params[\"fire_solver_type\"] = \"dp\"\n",
    "\n",
    "    params[\"apply_warm_start\"] = false\n",
    "    params[\"restore_cost\"] = false\n",
    "\n",
    "    params[\"solve_explicit_lin_time_limit\"] = 0\n",
    "    params[\"solve_explicit_int_time_limit\"] = 0\n",
    "    params[\"cg_time_limit\"] = 300\n",
    "    params[\"solve_net_flow_time_limit\"] = 0\n",
    "\n",
    "    params[\"max_iters\"] = 1000\n",
    "\n",
    "    params[\"dual_stab_type\"] = \"global\"\n",
    "    params[\"dual_stab_anchor\"] = false\n",
    "    params[\"dual_stab_eps\"] = 0.01\n",
    "\n",
    "    params[\"ws_dual_weight\"] = zeros(params[\"max_iters\"])\n",
    "    params[\"int_aware_dual_weight\"] = zeros(params[\"max_iters\"])\n",
    "\n",
    "    pattern = [(0, 0)]\n",
    "    params[\"int_aware_price_adjustment\"] = [pattern for i in 1:params[\"max_iters\"]]\n",
    "\n",
    "    d, cg_data = run_tests(params)\n",
    "    params[\"int_aware_capacities\"] = d[7][\"master_problem\"]\n",
    "\n",
    "    println(\"Fires : $(params[\"num_fires\"])\")\n",
    "    println(\"Crews : $(params[\"num_crews\"])\")\n",
    "    println()\n",
    "\n",
    "    println(\"Running first DCG\")\n",
    "    println(\"__________\")\n",
    "    println(\"Iterations: $(d[4])\")\n",
    "    println(\"Objective values: $(d[6])\")\n",
    "    println(\"Timings: $(d[5])\")\n",
    "    println()\n",
    "\n",
    "    println(\"Running integraity-aware DCG\")\n",
    "    println(\"__________\")\n",
    "    flush(stdout)\n",
    "\n",
    "    existing_plans = [[cg_data.suppression_plans.crews_present[i, j, :] \n",
    "                         for j=1:cg_data.suppression_plans.plans_per_fire[i]\n",
    "                      ]\n",
    "                      for i=1:NUM_FIRES \n",
    "                     ];\n",
    "\n",
    "    existing_routes = [[cg_data.routes.fires_fought[i, j, :, :] \n",
    "                         for j=1:cg_data.routes.routes_per_crew[i]\n",
    "                      ]\n",
    "                      for i=1:NUM_CREWS\n",
    "                     ]\n",
    "\n",
    "    for excess in [-2, -1, 0, 1, 2]\n",
    "\n",
    "        pattern = [(excess, 1e30)]\n",
    "        params[\"int_aware_price_adjustment\"] = [pattern for i in 1:params[\"max_iters\"]]\n",
    "\n",
    "        d2, cg_data2 = run_tests(params)\n",
    "        println(\"Iterations: $(d2[4])\")\n",
    "        flush(stdout)\n",
    "\n",
    "        for fire in 1:NUM_FIRES\n",
    "\n",
    "            for plan_ix in 1:cg_data2.suppression_plans.plans_per_fire[fire] \n",
    "\n",
    "                if value(d2[9][\"plan\"][fire, plan_ix]) > fire_thresh\n",
    "\n",
    "                    plan = cg_data2.suppression_plans.crews_present[fire, plan_ix, :]\n",
    "                    cost = cg_data2.suppression_plans.plan_costs[fire, plan_ix]\n",
    "\n",
    "                    if ~(plan in existing_plans[fire])\n",
    "\n",
    "                        push!(existing_plans[fire], plan)\n",
    "\n",
    "                        update_available_supp_plans(fire, cost, plan, cg_data.suppression_plans)\n",
    "                    end\n",
    "                end\n",
    "            end\n",
    "        end \n",
    "\n",
    "\n",
    "        for crew in 1:NUM_CREWS\n",
    "\n",
    "            for route_ix in 1:cg_data2.routes.routes_per_crew[crew] \n",
    "\n",
    "                if value(d2[9][\"route\"][crew, route_ix]) > crew_thresh\n",
    "\n",
    "                    route = cg_data2.routes.fires_fought[crew, route_ix, :, :]\n",
    "                    cost = cg_data2.routes.route_costs[crew, route_ix]\n",
    "                    oo_region = cg_data2.routes.out_of_reg[crew, route_ix, :]\n",
    "\n",
    "                    if ~(route in existing_routes[crew])\n",
    "\n",
    "                        push!(existing_routes[crew], route)\n",
    "\n",
    "                        update_available_crew_routes(crew, cost, route, oo_region, cg_data.routes)\n",
    "                    end\n",
    "\n",
    "                end\n",
    "            end\n",
    "        end \n",
    "    end\n",
    "\n",
    "    config = Dict{String,Any}(\"ws_dual\" => false)\n",
    "    config[\"master_problem\"] = Dict{String,Any}()\n",
    "\n",
    "    config[\"master_problem\"][\"dual_stabilization\"] = false\n",
    "    config[\"master_problem\"][\"dual_secondary_eps\"] = false\n",
    "    config[\"master_problem\"][\"dual_warm_start\"] = false\n",
    "\n",
    "    r_data = RegionData(convert.(Int, ones(NUM_CREWS)), convert.(Int, ones(100)))\n",
    "    rotation_order = get_rotation_orders(r_data.crew_regions)\n",
    "\n",
    "    form_time = @elapsed pb = master_problem(config, cg_data.routes, cg_data.suppression_plans, \n",
    "                                             r_data, rotation_order, 0, true)\n",
    "    set_optimizer_attribute(pb[\"m\"], \"TimeLimit\", 300)\n",
    "    sol_time = @elapsed optimize!(pb[\"m\"])\n",
    "\n",
    "    pb_allot = convert.(Int, round.(100 .* get_fire_allotments(pb, cg_data)) ./ 100)\n",
    "\n",
    "    println()\n",
    "    println(\"Restore integrality\")\n",
    "    println(\"___________________\")\n",
    "    num_vars = num_variables(pb[\"m\"])\n",
    "    println(\"Number of variables: $num_vars\")\n",
    "    println(\"Formulate time: $form_time\")\n",
    "    println(\"Solve time: $sol_time\")\n",
    "    val = objective_value(pb[\"m\"])\n",
    "    println(\"Objective value: $val\")\n",
    "    println(\"Gap : $(val/d[6][\"master_problem\"] - 1)\")\n",
    "    println()\n",
    "    println(\"*********************************************\")\n",
    "    flush(stdout)\n",
    "end"
   ]
  },
  {
   "cell_type": "code",
   "execution_count": 205,
   "id": "1ae63548",
   "metadata": {},
   "outputs": [
    {
     "name": "stdout",
     "output_type": "stream",
     "text": [
      "23\n",
      "21\n",
      "17\n",
      "36\n",
      "37\n"
     ]
    }
   ],
   "source": [
    "for excess in [-2, -1, 0, 1, 2]\n",
    "    \n",
    "    pattern = [(excess, 1e30)]\n",
    "    params[\"int_aware_price_adjustment\"] = [pattern for i in 1:params[\"max_iters\"]]\n",
    "\n",
    "    d2, cg_data2 = run_tests(params)\n",
    "    println(d2[4])\n",
    "    \n",
    "    for fire in 1:NUM_FIRES\n",
    "    \n",
    "        for plan_ix in 1:cg_data2.suppression_plans.plans_per_fire[fire] \n",
    "\n",
    "            if value(d2[9][\"plan\"][fire, plan_ix]) > -0.0001\n",
    "\n",
    "                plan = cg_data2.suppression_plans.crews_present[fire, plan_ix, :]\n",
    "                cost = cg_data2.suppression_plans.plan_costs[fire, plan_ix]\n",
    "\n",
    "                if ~(plan in existing_plans[fire])\n",
    "\n",
    "                    push!(existing_plans[fire], plan)\n",
    "\n",
    "                    update_available_supp_plans(fire, cost, plan, cg_data.suppression_plans)\n",
    "                end\n",
    "            end\n",
    "        end\n",
    "    end \n",
    "\n",
    "\n",
    "    for crew in 1:NUM_CREWS\n",
    "\n",
    "        for route_ix in 1:cg_data2.routes.routes_per_crew[crew] \n",
    "\n",
    "            if value(d2[9][\"route\"][crew, route_ix]) > -0.0001\n",
    "\n",
    "                route = cg_data2.routes.fires_fought[crew, route_ix, :, :]\n",
    "                cost = cg_data2.routes.route_costs[crew, route_ix]\n",
    "                oo_region = cg_data2.routes.out_of_reg[crew, route_ix, :]\n",
    "\n",
    "                if ~(route in existing_routes[crew])\n",
    "\n",
    "                    push!(existing_routes[crew], route)\n",
    "\n",
    "                    update_available_crew_routes(crew, cost, route, oo_region, cg_data.routes)\n",
    "                end\n",
    "\n",
    "            end\n",
    "        end\n",
    "    end \n",
    "end"
   ]
  },
  {
   "cell_type": "code",
   "execution_count": 206,
   "id": "42bf3b16",
   "metadata": {},
   "outputs": [
    {
     "data": {
      "text/plain": [
       "3-element Vector{Int64}:\n",
       " 138\n",
       "  87\n",
       "  18"
      ]
     },
     "execution_count": 206,
     "metadata": {},
     "output_type": "execute_result"
    }
   ],
   "source": [
    "cg_data.suppression_plans.plans_per_fire"
   ]
  },
  {
   "cell_type": "code",
   "execution_count": 207,
   "id": "00d617c6",
   "metadata": {},
   "outputs": [
    {
     "data": {
      "text/plain": [
       "10-element Vector{Int64}:\n",
       " 111\n",
       "  92\n",
       "  96\n",
       " 100\n",
       " 103\n",
       "  90\n",
       "  84\n",
       "  92\n",
       "  98\n",
       "  87"
      ]
     },
     "execution_count": 207,
     "metadata": {},
     "output_type": "execute_result"
    }
   ],
   "source": [
    "cg_data.routes.routes_per_crew"
   ]
  },
  {
   "cell_type": "code",
   "execution_count": 208,
   "id": "f20e2a10",
   "metadata": {},
   "outputs": [
    {
     "data": {
      "text/plain": [
       "false"
      ]
     },
     "execution_count": 208,
     "metadata": {},
     "output_type": "execute_result"
    }
   ],
   "source": [
    "config = Dict{String,Any}(\"ws_dual\" => false)\n",
    "config[\"master_problem\"] = Dict{String,Any}()\n",
    "\n",
    "config[\"master_problem\"][\"dual_stabilization\"] = false\n",
    "config[\"master_problem\"][\"dual_secondary_eps\"] = false\n",
    "config[\"master_problem\"][\"dual_warm_start\"] = false"
   ]
  },
  {
   "cell_type": "code",
   "execution_count": 209,
   "id": "142069e7",
   "metadata": {},
   "outputs": [
    {
     "data": {
      "text/plain": [
       "(0.5131061, 0.5078937, 1.1672659340711462e6)"
      ]
     },
     "execution_count": 209,
     "metadata": {},
     "output_type": "execute_result"
    }
   ],
   "source": [
    "r_data = RegionData(convert.(Int, ones(NUM_CREWS)), convert.(Int, ones(100)))\n",
    "rotation_order = get_rotation_orders(r_data.crew_regions)\n",
    "\n",
    "form_time = @elapsed pb = master_problem(config, cg_data.routes, cg_data.suppression_plans, \n",
    "                                         r_data, rotation_order, 0, true)\n",
    "set_optimizer_attribute(pb[\"m\"], \"TimeLimit\", 300)\n",
    "sol_time = @elapsed optimize!(pb[\"m\"])\n",
    "\n",
    "pb_allot = convert.(Int, round.(100 .* get_fire_allotments(pb, cg_data)) ./ 100)\n",
    "\n",
    "form_time, sol_time, objective_value(pb[\"m\"])"
   ]
  },
  {
   "cell_type": "code",
   "execution_count": 170,
   "id": "bfec48c0",
   "metadata": {},
   "outputs": [
    {
     "data": {
      "text/plain": [
       "A JuMP Model\n",
       "Minimization problem with:\n",
       "Variables: 4730\n",
       "Objective function type: AffExpr\n",
       "`AffExpr`-in-`MathOptInterface.EqualTo{Float64}`: 20 constraints\n",
       "`AffExpr`-in-`MathOptInterface.GreaterThan{Float64}`: 390 constraints\n",
       "`VariableRef`-in-`MathOptInterface.GreaterThan{Float64}`: 4730 constraints\n",
       "`VariableRef`-in-`MathOptInterface.Integer`: 4730 constraints\n",
       "Model mode: AUTOMATIC\n",
       "CachingOptimizer state: ATTACHED_OPTIMIZER\n",
       "Solver name: Gurobi\n",
       "Names registered in the model: linking, out_of_region, plan, plan_per_fire, q, route, route_per_crew"
      ]
     },
     "execution_count": 170,
     "metadata": {},
     "output_type": "execute_result"
    }
   ],
   "source": [
    "pb[\"m\"]"
   ]
  },
  {
   "cell_type": "code",
   "execution_count": 512,
   "id": "ac2c1746",
   "metadata": {},
   "outputs": [
    {
     "data": {
      "text/plain": [
       "9×14 Matrix{Int64}:\n",
       " 0   0   0  0  0  0  0  0  0   0   0  13  1  0\n",
       " 0   0   0  6  3  3  6  6  6   0   0   0  0  0\n",
       " 9   2   0  0  0  0  0  0  0   0   0   0  0  0\n",
       " 9  13  17  2  0  0  0  0  0   0   0   0  0  0\n",
       " 0   0   0  6  6  6  6  8  8   5   8   8  0  0\n",
       " 3   0   0  0  1  0  0  0  0   0   2   1  0  0\n",
       " 0   0   0  6  5  3  5  5  6   1   0   0  0  0\n",
       " 9  15  13  2  0  0  0  0  0   0   0   0  0  0\n",
       " 0   0   0  0  3  3  5  3  3  16  16   6  1  1"
      ]
     },
     "execution_count": 512,
     "metadata": {},
     "output_type": "execute_result"
    }
   ],
   "source": [
    "pb_allot"
   ]
  },
  {
   "cell_type": "markdown",
   "id": "3419091b",
   "metadata": {},
   "source": [
    "### Setup"
   ]
  },
  {
   "cell_type": "code",
   "execution_count": 115,
   "id": "66731ced",
   "metadata": {},
   "outputs": [],
   "source": [
    "in_path = params[\"in_path\"]\n",
    "\n",
    "# get inital fire perimeters and no-suppression progression parameters\n",
    "M = readdlm(in_path * \"/sample_growth_patterns.csv\", ',')\n",
    "start_perims = M[:, 1]\n",
    "progressions = M[:, 2:15]\n",
    "\n",
    "global NUM_TIME_PERIODS = size(M)[2] - 1 \n",
    "global NUM_FIRES = params[\"num_fires\"]\n",
    "global NUM_CREWS = params[\"num_crews\"]\n",
    "\n",
    "g_data, crew_status = load_data(in_path)\n",
    "r_data = RegionData(convert.(Int, ones(NUM_CREWS)), convert.(Int, ones(100)))\n",
    "\n",
    "rotation_order = get_rotation_orders(r_data.crew_regions)\n",
    "A = generate_arcs(g_data, r_data, crew_status);\n",
    "\n",
    "rest_pen = get_rest_penalties(crew_status.rest_by, 1e10, positive)\n",
    "cost_params = Dict(\"cost_per_mile\"=> 1, \"rest_violation\" => rest_pen, \"fight_fire\" => ALPHA)\n",
    "arc_costs = get_arc_costs(g_data, A, cost_params)\n",
    "\n",
    "c_data = define_network_constraint_data(A)\n",
    "\n",
    "fire_configs = []\n",
    "for fire in 1:NUM_FIRES\n",
    "    model_config = Dict(\"model_type\" => \"simple_linear\", \"progressions\" => progressions[fire, :], \n",
    "                        \"start_perim\" => start_perims[fire], \"line_per_crew\" => LINE_PER_CREW, \n",
    "                        \"beta\" => BETA)\n",
    "    push!(fire_configs, model_config)\n",
    "end \n",
    "\n",
    "gamma = params[\"gamma\"]\n",
    "\n",
    "\n",
    "rhos = []\n",
    "allotment_history = []\n",
    "\n",
    "global AGG_PREC = params[\"agg_prec\"]\n",
    "global PASSIVE_STATES =  params[\"passive_states\"]\n",
    "\n",
    "ts = Dict{String, Float64}()\n",
    "best_sols = Dict{String, Float64}()\n",
    "allotments = Dict{String, Any}()\n",
    "\n",
    "fire_solver_configs = [Dict{String,Any}(\"solver_type\" => params[\"fire_solver_type\"]) for fire in 1:NUM_FIRES]\n",
    "\n",
    "max_plans = 1000\n",
    "ts[\"init_cg\"] = @elapsed col_gen_data = initialize_column_generation(A, arc_costs, c_data, fire_configs, \n",
    "                                                                    fire_solver_configs, max_plans)\n",
    "\n",
    "if params[\"fire_solver_type\"] == \"dp\"\n",
    "    v_s = [size(col_gen_data.plan_sps[i][\"graphs\"][\"ceiling\"])[1] for i in 1:NUM_FIRES]\n",
    "\n",
    "    e_s = [sum([length(col_gen_data.plan_sps[k][\"graphs\"][\"ceiling\"][i, j]) \n",
    "              for i in 1:size(col_gen_data.plan_sps[k][\"graphs\"][\"ceiling\"])[1],\n",
    "                  j in 1:size(col_gen_data.plan_sps[k][\"graphs\"][\"ceiling\"])[2]\n",
    "                  if isassigned(col_gen_data.plan_sps[k][\"graphs\"][\"ceiling\"], i, j)\n",
    "                ]\n",
    "               )\n",
    "           for k = 1:NUM_FIRES]\n",
    "end\n",
    "\n",
    "global AGG_PREC = 30\n",
    "global PASSIVE_STATES = 5\n",
    "\n",
    "ts[\"ws\"] = @elapsed ws, ws_dict = warm_start_suppression_plans(10, fire_configs, r_data, c_data, rotation_order, arc_costs, \n",
    "                                                     gamma, false, false, 3600)\n",
    "\n",
    "ws_duals = dual.(ws_dict[\"f_linking\"])\n",
    "int_aware_duals = ws_duals * 0\n",
    "\n",
    "\n",
    "if params[\"apply_warm_start\"]\n",
    "    for fire in 1:NUM_FIRES\n",
    "        ws_fire = ws[fire]\n",
    "        for plan in ws_fire\n",
    "            cost = get_fire_cost(plan, fire_configs[fire])\n",
    "            update_available_supp_plans(fire, cost, plan, col_gen_data.suppression_plans)\n",
    "        end\n",
    "    end\n",
    "end\n",
    "\n",
    "\n",
    "global AGG_PREC = params[\"agg_prec\"]\n",
    "global PASSIVE_STATES =  params[\"passive_states\"]\n",
    "\n",
    "\n",
    "current_num_routes = copy(col_gen_data.routes.routes_per_crew)\n",
    "current_num_plans = copy(col_gen_data.suppression_plans.plans_per_fire)\n",
    "\n",
    "objs = []\n",
    "max_iters = params[\"max_iters\"]\n",
    "n_iters = 0\n",
    "opt = false\n",
    "ts[\"cg\"] = 0\n",
    "max_time = params[\"cg_time_limit\"]\n",
    "col_gen_config = Dict{String,Any}(\"ws_dual\" => false)\n",
    "col_gen_config[\"master_problem\"] = Dict{String,Any}()\n",
    "\n",
    "col_gen_config[\"master_problem\"][\"dual_stabilization\"] = params[\"dual_stab_type\"]\n",
    "col_gen_config[\"master_problem\"][\"dual_secondary_eps\"] = params[\"dual_stab_eps\"]\n",
    "col_gen_config[\"master_problem\"][\"dual_warm_start\"] = ws_duals\n",
    "if params[\"dual_stab_anchor\"] == \"all_ones\"\n",
    "    col_gen_config[\"master_problem\"][\"dual_warm_start\"] = ones(size(col_gen_config[\"master_problem\"][\"dual_warm_start\"]))\n",
    "end"
   ]
  },
  {
   "cell_type": "code",
   "execution_count": 112,
   "id": "af452d6a",
   "metadata": {},
   "outputs": [],
   "source": [
    "mp = master_problem(col_gen_config, col_gen_data.routes, col_gen_data.suppression_plans, \n",
    "                    r_data, rotation_order, 0, false);"
   ]
  },
  {
   "cell_type": "code",
   "execution_count": 113,
   "id": "c4e0c640",
   "metadata": {},
   "outputs": [
    {
     "name": "stdout",
     "output_type": "stream",
     "text": [
      "solve\n",
      "0.0059503\n",
      "formulate\n",
      "0.0002928\n",
      "solve\n",
      "0.0083367\n",
      "formulate\n",
      "0.00138\n",
      "solve\n",
      "0.0077321\n",
      "formulate\n",
      "0.0013313\n",
      "solve\n",
      "0.0058867\n",
      "formulate\n",
      "0.0014403\n",
      "solve\n",
      "0.0096581\n",
      "formulate\n",
      "0.0017504999999999999\n",
      "solve\n",
      "0.0070498\n",
      "formulate\n",
      "0.0016098\n",
      "solve\n",
      "0.0074116\n",
      "formulate\n",
      "0.0014444\n",
      "solve\n",
      "0.0086142\n",
      "formulate\n",
      "0.0014015\n",
      "solve\n",
      "0.0135261\n",
      "formulate\n",
      "0.0014346\n",
      "solve\n",
      "0.0128624\n",
      "formulate\n",
      "0.001419\n",
      "solve\n",
      "0.0146614\n",
      "formulate\n",
      "0.0013922\n",
      "solve\n",
      "0.0134709\n",
      "formulate\n",
      "0.0014593\n",
      "solve\n",
      "0.0109402\n",
      "formulate\n",
      "0.0013790999999999999\n",
      "solve\n",
      "0.0109005\n",
      "formulate\n",
      "0.0014399\n",
      "solve\n",
      "0.0104213\n",
      "formulate\n",
      "0.0014054\n",
      "solve\n",
      "0.0078226\n",
      "formulate\n",
      "0.0014077\n",
      "solve\n",
      "0.0096743\n",
      "formulate\n",
      "0.0016017000000000002\n",
      "solve\n",
      "0.0146378\n",
      "formulate\n",
      "0.0020038\n",
      "solve\n",
      "0.0155088\n",
      "formulate\n",
      "0.0018457999999999999\n",
      "solve\n",
      "0.0139724\n",
      "formulate\n",
      "0.0014391\n",
      "solve\n",
      "0.0103284\n",
      "formulate\n",
      "0.0014674\n",
      "solve\n",
      "0.0105549\n",
      "formulate\n",
      "0.0014986\n",
      "solve\n",
      "0.0096624\n",
      "formulate\n",
      "0.0016885\n",
      "solve\n",
      "0.0103873\n",
      "formulate\n",
      "0.0014533\n",
      "solve\n",
      "0.0086312\n",
      "formulate\n",
      "0.0014586\n",
      "solve\n",
      "0.0078118\n",
      "formulate\n",
      "0.0014253\n",
      "solve\n",
      "0.0051438\n",
      "formulate\n",
      "0.0014256\n",
      "solve\n",
      "0.0049341\n",
      "formulate\n",
      "0.0014584\n",
      "solve\n",
      "0.0071264\n",
      "formulate\n",
      "0.0014725\n",
      "solve\n",
      "0.0065024\n",
      "formulate\n",
      "0.0014202\n",
      "solve\n",
      "0.0077134\n",
      "formulate\n",
      "0.0014302\n",
      "solve\n",
      "0.0056955\n",
      "formulate\n",
      "0.0019675\n",
      "solve\n",
      "0.0095087\n",
      "formulate\n",
      "0.0013594\n",
      "solve\n",
      "0.007191\n",
      "formulate\n",
      "0.0013736\n",
      "solve\n",
      "0.0050545\n",
      "formulate\n",
      "0.0019757\n",
      "solve\n",
      "0.0061562\n",
      "formulate\n",
      "0.001181\n",
      "solve\n",
      "0.01018\n",
      "formulate\n",
      "0.0015921\n",
      "solve\n",
      "0.0046358\n",
      "formulate\n",
      "0.0013252\n",
      "solve\n",
      "0.004808\n",
      "formulate\n",
      "0.0014197\n",
      "solve\n",
      "0.0069634\n",
      "formulate\n",
      "0.0006438\n",
      "solve\n",
      "0.0043678\n",
      "formulate\n",
      "0.0010410999999999999\n",
      "solve\n",
      "0.0054829\n",
      "formulate\n",
      "0.000709\n",
      "solve\n",
      "0.0042085\n",
      "formulate\n",
      "0.0005905\n",
      "solve\n",
      "0.0046596\n",
      "formulate\n",
      "0.00026599999999999996\n",
      "solve\n",
      "0.0028643\n",
      "formulate\n",
      "0.0002332\n",
      "solve\n",
      "0.0028554\n",
      "formulate\n",
      "4.2000000000000004e-6\n",
      "solve\n",
      "0.0001102\n",
      "formulate\n",
      "4.2000000000000004e-6\n",
      "solve\n",
      "0.0001107\n",
      "formulate\n",
      "4.0e-6\n",
      "solve\n",
      "0.0001177\n",
      "formulate\n",
      "4.2000000000000004e-6\n",
      "solve\n",
      "0.0001171\n",
      "formulate\n",
      "3.9e-6\n"
     ]
    }
   ],
   "source": [
    "models2 = []\n",
    "\n",
    "while n_iters < 50\n",
    "    push!(models2, deepcopy(mp))\n",
    "    n_iters += 1\n",
    "    dual_stab_weight = params[\"ws_dual_weight\"][n_iters] + params[\"int_aware_dual_weight\"][n_iters]\n",
    "    col_gen_config[\"ws_dual_weight\"] = dual_stab_weight\n",
    "    col_gen_config[\"ws_dual\"] = params[\"ws_dual_weight\"][n_iters] * ws_duals\n",
    "    if dual_stab_weight > 0\n",
    "        col_gen_config[\"ws_dual\"] = col_gen_config[\"ws_dual\"] / dual_stab_weight\n",
    "    end\n",
    "\n",
    "    for fire in 1:NUM_FIRES\n",
    "        fire_solver_configs[fire][\"int_aware_adjustment_pattern\"] = params[\"int_aware_price_adjustment\"][n_iters]\n",
    "\n",
    "        # no int-aware adjustment\n",
    "        fire_solver_configs[fire][\"int_aware_adjustment_pattern\"] = [(0, 0)]\n",
    "    end\n",
    "\n",
    "    last_num_routes = copy(col_gen_data.routes.routes_per_crew)\n",
    "    last_num_plans = copy(col_gen_data.suppression_plans.plans_per_fire)\n",
    "\n",
    "\n",
    "\n",
    "    ts[\"cg\"] += @elapsed mp, a, b, c = run_CG_step(col_gen_data, A, arc_costs, g_data, r_data, fire_configs, \n",
    "                                          fire_solver_configs, col_gen_config, rotation_order, gamma,  \n",
    "                                          params[\"restore_cost\"], mp)\n",
    "\n",
    "    push!(objs, a)\n",
    "    push!(rhos, b)\n",
    "    push!(allotment_history, c)\n",
    "end\n",
    "\n"
   ]
  },
  {
   "cell_type": "code",
   "execution_count": 117,
   "id": "00d5d034",
   "metadata": {},
   "outputs": [
    {
     "data": {
      "text/plain": [
       "2.670311016847217e6"
      ]
     },
     "execution_count": 117,
     "metadata": {},
     "output_type": "execute_result"
    }
   ],
   "source": [
    "objective_value(models[49][\"m\"])"
   ]
  },
  {
   "cell_type": "code",
   "execution_count": 118,
   "id": "5999875f",
   "metadata": {},
   "outputs": [
    {
     "data": {
      "text/plain": [
       "6×14 Matrix{Float64}:\n",
       " 0.0       0.0         0.0        …  16.866      1.65694   0.0  0.0\n",
       " 0.0       0.0130814   0.0130814      0.0        0.0       0.0  0.0\n",
       " 9.0       1.99496     0.0130814      0.0        0.0       0.0  0.0\n",
       " 5.50989  18.0312     19.3688         0.0        0.368824  0.0  0.0\n",
       " 0.0       0.0         0.0            0.0670716  1.0       0.0  0.0\n",
       " 5.46935   0.0130814   0.617338   …   0.0392442  0.617338  0.0  0.0"
      ]
     },
     "execution_count": 118,
     "metadata": {},
     "output_type": "execute_result"
    }
   ],
   "source": [
    "allotment_history[end]"
   ]
  },
  {
   "cell_type": "code",
   "execution_count": 114,
   "id": "18345847",
   "metadata": {},
   "outputs": [
    {
     "data": {
      "text/plain": [
       "2.6703110168472184e6"
      ]
     },
     "execution_count": 114,
     "metadata": {},
     "output_type": "execute_result"
    }
   ],
   "source": [
    "optimize!(models2[49][\"m\"])\n",
    "objective_value(models2[49][\"m\"])"
   ]
  },
  {
   "cell_type": "markdown",
   "id": "e3753191",
   "metadata": {},
   "source": [
    "### Run iteration"
   ]
  },
  {
   "cell_type": "code",
   "execution_count": 122,
   "id": "41fa098e",
   "metadata": {},
   "outputs": [
    {
     "name": "stdout",
     "output_type": "stream",
     "text": [
      "solve\n",
      "0.0001215\n",
      "formulate\n",
      "4.0e-6\n"
     ]
    }
   ],
   "source": [
    "\n",
    "n_iters += 1\n",
    "dual_stab_weight = params[\"ws_dual_weight\"][n_iters] + params[\"int_aware_dual_weight\"][n_iters]\n",
    "col_gen_config[\"ws_dual_weight\"] = dual_stab_weight\n",
    "col_gen_config[\"ws_dual\"] = params[\"ws_dual_weight\"][n_iters] * ws_duals\n",
    "if dual_stab_weight > 0\n",
    "    col_gen_config[\"ws_dual\"] = col_gen_config[\"ws_dual\"] / dual_stab_weight\n",
    "end\n",
    "\n",
    "for fire in 1:NUM_FIRES\n",
    "    fire_solver_configs[fire][\"int_aware_adjustment_pattern\"] = params[\"int_aware_price_adjustment\"][n_iters]\n",
    "\n",
    "    # no int-aware adjustment\n",
    "    fire_solver_configs[fire][\"int_aware_adjustment_pattern\"] = [(0, 0)]\n",
    "end\n",
    "\n",
    "last_num_routes = copy(col_gen_data.routes.routes_per_crew)\n",
    "last_num_plans = copy(col_gen_data.suppression_plans.plans_per_fire)\n",
    "\n",
    "if n_iters == 100000\n",
    "    ts[\"cg\"] += @elapsed mp = run_CG_step(col_gen_data, A, arc_costs, g_data, r_data, fire_configs, \n",
    "                                          fire_solver_configs, col_gen_config, rotation_order, gamma,  \n",
    "                                          params[\"restore_cost\"])\n",
    "        push!(objs, objective_value(mp[\"m\"]))\n",
    "        push!(rhos, dual.(mp[\"rho\"]))\n",
    "        push!(allotment_history, get_fire_allotments(mp, col_gen_data))\n",
    "\n",
    "else\n",
    "\n",
    "    ts[\"cg\"] += @elapsed mp, a, b, c = run_CG_step(col_gen_data, A, arc_costs, g_data, r_data, fire_configs, \n",
    "                                          fire_solver_configs, col_gen_config, rotation_order, gamma,  \n",
    "                                          params[\"restore_cost\"], mp)\n",
    "    \n",
    "    push!(objs, a)\n",
    "    push!(rhos, b)\n",
    "    push!(allotment_history, c)\n",
    "end;\n"
   ]
  },
  {
   "cell_type": "markdown",
   "id": "09fa4af1",
   "metadata": {},
   "source": [
    "### Get number of plans per fire"
   ]
  },
  {
   "cell_type": "code",
   "execution_count": 1315,
   "id": "32fb49a2",
   "metadata": {},
   "outputs": [
    {
     "data": {
      "text/plain": [
       "35"
      ]
     },
     "execution_count": 1315,
     "metadata": {},
     "output_type": "execute_result"
    }
   ],
   "source": [
    "n_iters"
   ]
  },
  {
   "cell_type": "code",
   "execution_count": 1316,
   "id": "c53abe8f",
   "metadata": {},
   "outputs": [],
   "source": [
    "close_iters = [i for i in 1:n_iters if objs[i] / last(objs) < 1.05];"
   ]
  },
  {
   "cell_type": "code",
   "execution_count": 1317,
   "id": "2f5af728",
   "metadata": {},
   "outputs": [
    {
     "data": {
      "text/plain": [
       "6-element Vector{Int64}:\n",
       " 28\n",
       " 30\n",
       "  3\n",
       " 30\n",
       " 35\n",
       " 21"
      ]
     },
     "execution_count": 1317,
     "metadata": {},
     "output_type": "execute_result"
    }
   ],
   "source": [
    "col_gen_data.suppression_plans.plans_per_fire"
   ]
  },
  {
   "cell_type": "code",
   "execution_count": 1319,
   "id": "90c4083d",
   "metadata": {},
   "outputs": [
    {
     "data": {
      "text/plain": [
       "6-element Vector{Int64}:\n",
       "  52\n",
       " 123\n",
       "   3\n",
       "  80\n",
       " 168\n",
       "  30"
      ]
     },
     "execution_count": 1319,
     "metadata": {},
     "output_type": "execute_result"
    }
   ],
   "source": [
    "col_gen_data.suppression_plans.plans_per_fire"
   ]
  },
  {
   "cell_type": "code",
   "execution_count": 1225,
   "id": "2da4a8c7",
   "metadata": {},
   "outputs": [],
   "source": [
    "using StatsBase"
   ]
  },
  {
   "cell_type": "code",
   "execution_count": 1318,
   "id": "91fc858a",
   "metadata": {},
   "outputs": [],
   "source": [
    "offsets = [-2, -1, 0, 1, 2]\n",
    "\n",
    "for fire in 1:NUM_FIRES\n",
    "    \n",
    "    plans = []\n",
    "    \n",
    "    for offset in offsets\n",
    "        existing_plans = [col_gen_data.suppression_plans.crews_present[fire, i, :] \n",
    "                          for i in 1:col_gen_data.suppression_plans.plans_per_fire[fire]]\n",
    "\n",
    "        sp_config = copy(fire_solver_configs[fire])\n",
    "        sp_config[\"model_data\"] = fire_configs[fire]\n",
    "        sp_config[\"solver_strategy\"] = \"ceiling\"\n",
    "        sp_config[\"warm_start\"] = false\n",
    "        sp_config[\"capacities\"] = max.(0, last(allotment_history)[fire, :] .+ offset)\n",
    "\n",
    "        sp_config[\"break_capacity_penalty\"] = 0\n",
    "\n",
    "        mean_rho = sum(last(rhos)[fire, :]) / length(last(rhos)[fire, :])\n",
    "\n",
    "        plans = []\n",
    "\n",
    "        for lambda in [0.8, 0.9, 1, 1.1, 1.2]\n",
    "            \n",
    "            ix = sample(close_iters)\n",
    "            \n",
    "            cost, rel_cost, plan =\n",
    "            run_fire_subproblem(col_gen_data.plan_sps[fire], sp_config, lambda * rhos[ix][fire, :])\n",
    "\n",
    "            cap_pens = exp.(LinRange(1, log(rel_cost), 25)) .- exp(1)\n",
    "            cap_pens[1] = 0\n",
    "\n",
    "\n",
    "            for cap_pen in cap_pens\n",
    "                sp_config[\"break_capacity_penalty\"] = cap_pen\n",
    "                cost, rel_cost, plan = run_fire_subproblem(col_gen_data.plan_sps[fire], sp_config, lambda * rhos[ix][fire, :])\n",
    "                if ~(plan in plans) & ~(plan in existing_plans)\n",
    "                    update_available_supp_plans(fire, cost, plan, col_gen_data.suppression_plans)\n",
    "                    push!(plans, plan)\n",
    "                end\n",
    "            end\n",
    "        end\n",
    "    end\n",
    "end"
   ]
  },
  {
   "cell_type": "code",
   "execution_count": 1321,
   "id": "58e7a9fc",
   "metadata": {},
   "outputs": [
    {
     "data": {
      "text/plain": [
       "Dict{String, Float64} with 5 entries:\n",
       "  \"init_cg\"                    => 0.752721\n",
       "  \"price_and_branch\"           => 5.9677\n",
       "  \"price_and_branch_formulate\" => 1.0134\n",
       "  \"cg\"                         => 19.7658\n",
       "  \"ws\"                         => 3.94017"
      ]
     },
     "execution_count": 1321,
     "metadata": {},
     "output_type": "execute_result"
    }
   ],
   "source": [
    "ts"
   ]
  },
  {
   "cell_type": "code",
   "execution_count": 1329,
   "id": "320d28de",
   "metadata": {},
   "outputs": [
    {
     "data": {
      "text/plain": [
       "6×14 Matrix{Int64}:\n",
       "  0   0   0   0  0  0  0  0   0   0   2  12  2  0\n",
       "  0   0   0   0  4  4  8  8  10   0   0   0  0  0\n",
       " 10   0   0   0  0  0  0  0   0   0   0   0  0  0\n",
       "  1  20  20  14  2  0  0  0   0   0   4   0  0  0\n",
       "  0   0   0   0  6  6  6  6   6  11  11   6  0  0\n",
       "  9   0   0   0  0  0  0  0   0   0   0   0  0  0"
      ]
     },
     "execution_count": 1329,
     "metadata": {},
     "output_type": "execute_result"
    }
   ],
   "source": [
    "tmp = deepcopy(col_gen_config[\"master_problem\"][\"dual_stabilization\"])\n",
    "col_gen_config[\"master_problem\"][\"dual_stabilization\"] = false\n",
    "ts[\"price_and_branch_formulate\"] = @elapsed pb = master_problem(col_gen_config, col_gen_data.routes, col_gen_data.suppression_plans, \n",
    "                    r_data, rotation_order, gamma, true)\n",
    "ts[\"price_and_branch\"] = @elapsed optimize!(pb[\"m\"])\n",
    "col_gen_config[\"master_problem\"][\"dual_stabilization\"] = tmp\n",
    "convert.(Int, round.(100 .* get_fire_allotments(pb, col_gen_data)) ./ 100)"
   ]
  },
  {
   "cell_type": "code",
   "execution_count": 1333,
   "id": "e35144fd",
   "metadata": {},
   "outputs": [
    {
     "data": {
      "text/plain": [
       "6-element Vector{Tuple{Int64, Int64}}:\n",
       " (1, 52)\n",
       " (2, 95)\n",
       " (6, 2)\n",
       " (5, 122)\n",
       " (4, 49)\n",
       " (3, 2)"
      ]
     },
     "execution_count": 1333,
     "metadata": {},
     "output_type": "execute_result"
    }
   ],
   "source": [
    "[i for i in eachindex(pb[\"plan\"]) if value(pb[\"plan\"][i]) > 0.001]"
   ]
  },
  {
   "cell_type": "code",
   "execution_count": 1304,
   "id": "16b1ac29",
   "metadata": {},
   "outputs": [
    {
     "data": {
      "text/plain": [
       "Dict{String, Float64} with 5 entries:\n",
       "  \"init_cg\"                    => 3.06647\n",
       "  \"price_and_branch\"           => 303.79\n",
       "  \"price_and_branch_formulate\" => 4.18953\n",
       "  \"cg\"                         => 185.12\n",
       "  \"ws\"                         => 9.22496"
      ]
     },
     "execution_count": 1304,
     "metadata": {},
     "output_type": "execute_result"
    }
   ],
   "source": [
    "ts"
   ]
  },
  {
   "cell_type": "code",
   "execution_count": 1330,
   "id": "f0d50291",
   "metadata": {},
   "outputs": [
    {
     "data": {
      "text/plain": [
       "A JuMP Model\n",
       "Minimization problem with:\n",
       "Variables: 1409\n",
       "Objective function type: AffExpr\n",
       "`AffExpr`-in-`MathOptInterface.EqualTo{Float64}`: 20 constraints\n",
       "`AffExpr`-in-`MathOptInterface.GreaterThan{Float64}`: 390 constraints\n",
       "`VariableRef`-in-`MathOptInterface.GreaterThan{Float64}`: 1409 constraints\n",
       "`VariableRef`-in-`MathOptInterface.Integer`: 1409 constraints\n",
       "Model mode: AUTOMATIC\n",
       "CachingOptimizer state: ATTACHED_OPTIMIZER\n",
       "Solver name: Gurobi\n",
       "Names registered in the model: linking, out_of_region, plan, plan_per_fire, q, route, route_per_crew"
      ]
     },
     "execution_count": 1330,
     "metadata": {},
     "output_type": "execute_result"
    }
   ],
   "source": [
    "pb[\"m\"]"
   ]
  },
  {
   "cell_type": "code",
   "execution_count": 1331,
   "id": "82444087",
   "metadata": {},
   "outputs": [
    {
     "data": {
      "text/plain": [
       "3.0399192719967533e6"
      ]
     },
     "execution_count": 1331,
     "metadata": {},
     "output_type": "execute_result"
    }
   ],
   "source": [
    "objective_value(pb[\"m\"])"
   ]
  },
  {
   "cell_type": "code",
   "execution_count": 1265,
   "id": "66b08475",
   "metadata": {},
   "outputs": [
    {
     "data": {
      "text/plain": [
       "21×14 Matrix{Int8}:\n",
       " 0  0  0  0   1  2  8  7  7   9   3  0  0  0\n",
       " 0  0  0  0   1  5  6  7  7   5   1  0  0  0\n",
       " 0  0  0  0   1  5  7  6  7   5   6  0  0  0\n",
       " 0  0  0  0   1  0  1  4  7   8   8  0  0  0\n",
       " 0  0  0  0   1  0  3  7  6   6   8  0  0  0\n",
       " 0  0  0  0   1  5  6  7  7   5   6  0  0  0\n",
       " 0  0  0  0   1  5  0  2  0  10  10  0  0  0\n",
       " 0  0  0  0   1  5  0  4  5  10   7  0  0  0\n",
       " 0  0  0  0   1  5  0  6  6   9   6  0  0  0\n",
       " 0  0  0  0   1  5  0  6  6   8   5  1  0  0\n",
       " 0  0  0  0   1  5  0  7  7   5   3  0  0  0\n",
       " 0  0  0  0   1  5  0  7  7   5   1  0  0  0\n",
       " 0  9  9  5  10  6  9  7  8   0   0  0  0  0\n",
       " 0  9  9  0   2  6  8  7  7   6   0  0  0  0\n",
       " 0  3  2  0   2  7  8  8  8   6   2  0  0  0\n",
       " 0  0  0  0   3  6  8  8  8   6   3  0  0  0\n",
       " 0  0  0  0   1  5  8  8  8   6   2  0  0  0\n",
       " 0  9  9  0   2  6  8  9  8   4   0  0  0  0\n",
       " 0  0  0  0   3  6  8  8  8   7   2  0  0  0\n",
       " 0  0  0  0   1  5  8  7  7   6   2  0  0  0\n",
       " 0  0  0  0   1  5  8  7  7   6   3  1  0  0"
      ]
     },
     "execution_count": 1265,
     "metadata": {},
     "output_type": "execute_result"
    }
   ],
   "source": [
    "col_gen_data.suppression_plans.crews_present[1, 80:100, :]"
   ]
  },
  {
   "cell_type": "markdown",
   "id": "d8032324",
   "metadata": {},
   "source": [
    "## Stabilized"
   ]
  },
  {
   "cell_type": "code",
   "execution_count": 571,
   "id": "0d9c8e2e",
   "metadata": {},
   "outputs": [],
   "source": [
    "params = Dict{String, Any}()\n",
    "params[\"gamma\"] = 0\n",
    "\n",
    "params[\"in_path\"] = \"data/raw/big_fire\"\n",
    "params[\"agg_prec\"] = 10\n",
    "params[\"passive_states\"] = 30\n",
    "\n",
    "params[\"agg_prec\"] = 30\n",
    "params[\"passive_states\"] = 5\n",
    "\n",
    "params[\"num_fires\"] = 6\n",
    "params[\"num_crews\"] = 20\n",
    "params[\"fire_solver_type\"] = \"dp\"\n",
    "\n",
    "params[\"apply_warm_start\"] = false\n",
    "params[\"restore_cost\"] = false\n",
    "\n",
    "params[\"solve_explicit_lin_time_limit\"] = 60\n",
    "params[\"solve_explicit_int_time_limit\"] = 0\n",
    "params[\"cg_time_limit\"] = 240\n",
    "params[\"solve_net_flow_time_limit\"] = 360\n",
    "\n",
    "params[\"max_iters\"] = 1000\n",
    "\n",
    "params[\"dual_stab_type\"] = \"global\"\n",
    "params[\"dual_stab_anchor\"] = false\n",
    "params[\"dual_stab_eps\"] = 0.01\n",
    "\n",
    "params[\"ws_dual_weight\"] = zeros(params[\"max_iters\"])\n",
    "params[\"int_aware_dual_weight\"] = zeros(params[\"max_iters\"])\n",
    "\n",
    "start_adj = 1000\n",
    "pattern = [(0, 1e30), (1, 1e30), (2, 1e30), (0, 0)]\n",
    "params[\"int_aware_price_adjustment\"] = [i <= start_adj ? [(0, 0)] : pattern for i in 1:params[\"max_iters\"]]\n",
    "\n",
    "d2, cg_data2 = run_tests(params);"
   ]
  },
  {
   "cell_type": "code",
   "execution_count": 9,
   "id": "f8087d4b",
   "metadata": {},
   "outputs": [
    {
     "ename": "LoadError",
     "evalue": "syntax: incomplete: \"function\" at In[9]:1 requires end",
     "output_type": "error",
     "traceback": [
      "syntax: incomplete: \"function\" at In[9]:1 requires end",
      "",
      "Stacktrace:",
      " [1] top-level scope",
      "   @ In[9]:1",
      " [2] eval",
      "   @ .\\boot.jl:373 [inlined]",
      " [3] include_string(mapexpr::typeof(REPL.softscope), mod::Module, code::String, filename::String)",
      "   @ Base .\\loading.jl:1196"
     ]
    }
   ],
   "source": [
    "function get_out_of_region_stats(region, arcs_used, region_data)\n",
    "    \"\"\"\n",
    "    \"\"\"\n",
    "    \n",
    "    # restrict to the arcs that exited the given region\n",
    "    out_of_region_ixs = [i for i in length(arcs_used[:, 1]) if arcs_used[i, 10] == region]\n",
    "    out_of_region_arcs = arcs_used[out_of_region_ixs, :]\n",
    "    \n",
    "    # get the crews associated with this region\n",
    "    crews = [i for i in 1:length(region_data.crew_regions) if region_data.crew_regions[i] == region]\n",
    "    \n",
    "    # initialize output array of indicator variables for crews exiting region\n",
    "    out_array = zeros(length(crews), NUM_TIME_PERIODS)\n",
    "    \n",
    "    # for each crew in the region\n",
    "    for i in 1:length(crews)\n",
    "        \n",
    "        # restrict to the arcs involving this crew\n",
    "        crew_ixs = [j for j in length(out_of_region_arcs[:, 1]) if arcs_used[j, 1] == crews[i]]\n",
    "        crew_arcs = out_of_region_arcs[crew_ixs, :]\n",
    "        \n",
    "        # get the times of rotation\n",
    "        rotation_times = [t in crew_arcs[:, 6] ? 1 : 0 for t in 1:NUM_TIME_PERIODS]\n",
    "        \n",
    "        # update output for crew\n",
    "        out_array[i, :] = rotation_times\n",
    "        \n",
    "    end\n",
    "    \n",
    "    return out_array\n",
    "end"
   ]
  }
 ],
 "metadata": {
  "kernelspec": {
   "display_name": "Julia 1.7.1",
   "language": "julia",
   "name": "julia-1.7"
  },
  "language_info": {
   "file_extension": ".jl",
   "mimetype": "application/julia",
   "name": "julia",
   "version": "1.7.1"
  }
 },
 "nbformat": 4,
 "nbformat_minor": 5
}
