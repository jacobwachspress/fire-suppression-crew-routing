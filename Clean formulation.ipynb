{
 "cells": [
  {
   "cell_type": "code",
   "execution_count": 1,
   "id": "34567121",
   "metadata": {},
   "outputs": [
    {
     "name": "stdout",
     "output_type": "stream",
     "text": [
      "Academic license - for non-commercial use only\r\n"
     ]
    },
    {
     "data": {
      "text/plain": [
       "Gurobi.Env(Ptr{Nothing} @0x0000000067d3a700, false, 0)"
      ]
     },
     "execution_count": 1,
     "metadata": {},
     "output_type": "execute_result"
    }
   ],
   "source": [
    "using DataFrames, CSV, DelimitedFiles, JuMP, Gurobi\n",
    "const GRB_ENV = Gurobi.Env()"
   ]
  },
  {
   "cell_type": "code",
   "execution_count": 2,
   "id": "81a26ef6",
   "metadata": {},
   "outputs": [
    {
     "data": {
      "text/plain": [
       "2"
      ]
     },
     "execution_count": 2,
     "metadata": {},
     "output_type": "execute_result"
    }
   ],
   "source": [
    "NUM_CREWS = 10                \n",
    "BREAK_LENGTH = 2       # how long at base to be considered \"rested\"\n",
    "\n",
    "# tradeoffs\n",
    "BETA = 100             # cost of one area unit burned / cost of mile traveled\n",
    "ALPHA = 200            # cost of crew-day of suppression / cost of mile traveled\n",
    "LINE_PER_CREW = 17     # how much perimeter prevented per crew per time period\n",
    "\n",
    "FIRE_CODE = 1\n",
    "BASE_CODE = 2"
   ]
  },
  {
   "cell_type": "code",
   "execution_count": 3,
   "id": "d08d7c6e",
   "metadata": {},
   "outputs": [],
   "source": [
    "struct GlobalData\n",
    "    \n",
    "    ff_dist::Matrix{Float64}\n",
    "    bf_dist::Matrix{Float64}\n",
    "    ff_tau::Matrix{Int64}\n",
    "    bf_tau::Matrix{Int64}\n",
    "    \n",
    "end\n",
    "\n",
    "struct CrewStatus\n",
    "    \n",
    "    rest_by::Vector{Int64}\n",
    "    current_fire::Vector{Int64}\n",
    "    rested_periods::Vector{Int64}\n",
    "    \n",
    "end\n",
    "\n",
    "struct RegionData\n",
    "    \n",
    "    crew_regions::Vector{Int64}\n",
    "    fire_regions::Vector{Int64}\n",
    "    \n",
    "end\n",
    "\n",
    "\n",
    "struct KeyArcIndices\n",
    "    \n",
    "    # fire flow data\n",
    "    f_out::Array{Vector{Int64}}\n",
    "    f_in::Array{Vector{Int64}}\n",
    "    \n",
    "    # base flow data\n",
    "    b_out::Array{Vector{Int64}}\n",
    "    b_in::Array{Vector{Int64}}\n",
    "    \n",
    "    # total crews suppressing each fire\n",
    "    supp_fire::Array{Vector{Int64}}\n",
    "    \n",
    "    # start constraints\n",
    "    start::Array{Vector{Int64}}\n",
    "    \n",
    "    # assignments out of region\n",
    "    out_of_region::Array{Vector{Int64}}\n",
    "    \n",
    "end \n",
    "\n",
    "mutable struct RouteData\n",
    "    \n",
    "    routes_per_crew::Vector{Int64} # could add in length\n",
    "    route_costs::Matrix{Float64}\n",
    "    fires_fought::BitArray{4}\n",
    "    out_of_reg::BitArray{3}\n",
    "    \n",
    "end\n",
    "\n",
    "mutable struct SuppressionPlanData\n",
    "    \n",
    "    plans_per_fire::Vector{Int64} # could add in length\n",
    "    plan_costs::Matrix{Float64}\n",
    "    crews_present::Array{Int8, 3}\n",
    "    \n",
    "end\n",
    "\n"
   ]
  },
  {
   "cell_type": "code",
   "execution_count": 4,
   "id": "d1488f93",
   "metadata": {},
   "outputs": [],
   "source": [
    "struct FireConstraintIndices\n",
    "    \n",
    "    # fire flow data\n",
    "    flow_out::Array{Vector{Int64}}\n",
    "    flow_in::Array{Vector{Int64}}\n",
    "    \n",
    "    # total crews suppressing each fire\n",
    "    crews_needed::Array{Vector{Int64}}\n",
    "    \n",
    "    # start constraints\n",
    "    start::Array{Vector{Int64}}\n",
    "    \n",
    "end"
   ]
  },
  {
   "cell_type": "code",
   "execution_count": 5,
   "id": "de4eca73",
   "metadata": {},
   "outputs": [],
   "source": [
    "struct ColumnGeneration\n",
    "    \n",
    "    route_sps::Vector{Any}\n",
    "    plan_sps::Vector{Any}\n",
    "    routes::RouteData\n",
    "    suppression_plans::SuppressionPlanData\n",
    "    \n",
    "end"
   ]
  },
  {
   "cell_type": "code",
   "execution_count": 6,
   "id": "ac38f149",
   "metadata": {},
   "outputs": [
    {
     "data": {
      "text/plain": [
       "get_rotation_orders (generic function with 1 method)"
      ]
     },
     "execution_count": 6,
     "metadata": {},
     "output_type": "execute_result"
    }
   ],
   "source": [
    "function get_rotation_orders(crew_regions)\n",
    "    \n",
    "    # initialize output\n",
    "    out = Dict()\n",
    "    \n",
    "    # get the unique regions where there are crews\n",
    "    regions = unique(crew_regions)\n",
    "    \n",
    "    # for each region\n",
    "    for region in regions\n",
    "        \n",
    "        # initialize dictionary corresponding to the order\n",
    "        out[region] = Dict() \n",
    "        crews_in_region = 0\n",
    "        \n",
    "        # for each crew in the region\n",
    "        for crew in 1:NUM_CREWS\n",
    "            \n",
    "            if crew_regions[crew] == region\n",
    "                \n",
    "                # update crew count, log rotation order \n",
    "                crews_in_region += 1\n",
    "                out[region][crew] = crews_in_region\n",
    "            end\n",
    "        end\n",
    "    end\n",
    "    \n",
    "    return out\n",
    "end"
   ]
  },
  {
   "cell_type": "code",
   "execution_count": 7,
   "id": "f4b512e5",
   "metadata": {},
   "outputs": [],
   "source": [
    "# crew, from_type, from_ix, to_type, to_ix, from_time, to_time, from_rested, to_rested, exited_region"
   ]
  },
  {
   "cell_type": "code",
   "execution_count": 8,
   "id": "3e851737",
   "metadata": {},
   "outputs": [
    {
     "data": {
      "text/plain": [
       "arc_exits_region (generic function with 1 method)"
      ]
     },
     "execution_count": 8,
     "metadata": {},
     "output_type": "execute_result"
    }
   ],
   "source": [
    "function arc_exits_region(crew, from_type, from_ix, to_type, to_ix, region_data)\n",
    "    \n",
    "    # get the region where the arc originates\n",
    "    from_region = 0\n",
    "    if from_type == FIRE_CODE\n",
    "        from_region = region_data.fire_regions[from_ix]\n",
    "    elseif from_type == BASE_CODE\n",
    "        from_region = region_data.crew_regions[from_ix]\n",
    "    else\n",
    "        throw(DomainError(from_type, \"from_type invalid\"))\n",
    "    end\n",
    "    \n",
    "    # get the region where the arc terminates\n",
    "    to_region = 0\n",
    "    if to_type == FIRE_CODE\n",
    "        to_region = region_data.fire_regions[to_ix]\n",
    "    elseif to_type == BASE_CODE\n",
    "        to_region = region_data.crew_regions[to_ix]\n",
    "    else\n",
    "        throw(DomainError(from_type, \"to_type invalid\"))\n",
    "    end\n",
    "    \n",
    "    # if these are different regions\n",
    "    if from_region != to_region\n",
    "        \n",
    "        # if the crew is leaving its home region\n",
    "        if region_data.crew_regions[crew] == from_region\n",
    "        \n",
    "            # return the region that the arc exited\n",
    "            return from_region\n",
    "        \n",
    "        end\n",
    "        \n",
    "    end\n",
    "    \n",
    "    # otherwise\n",
    "    return 0\n",
    "    \n",
    "end     "
   ]
  },
  {
   "cell_type": "code",
   "execution_count": 9,
   "id": "05fc0a5e",
   "metadata": {},
   "outputs": [
    {
     "data": {
      "text/plain": [
       "generate_arcs (generic function with 1 method)"
      ]
     },
     "execution_count": 9,
     "metadata": {},
     "output_type": "execute_result"
    }
   ],
   "source": [
    "function generate_arcs(gd, rd, cs)\n",
    "    \n",
    "    # get fire-to-fire arcs\n",
    "    ff = [[c, FIRE_CODE, f_from, FIRE_CODE, f_to, t_from, t_from + gd.ff_tau[f_to, f_from], rest, rest]\n",
    "          for c=1:NUM_CREWS, f_from=1:NUM_FIRES, f_to=1:NUM_FIRES, t_from=1:NUM_TIME_PERIODS, rest=0:1]\n",
    "    ff = copy(reduce(hcat, ff)')\n",
    "\n",
    "    # get fire-to-fire arcs from start, based on cs.current crew locations\n",
    "    from_start_ff = [[c, FIRE_CODE, cs.current_fire[c], FIRE_CODE, f_to, 0, gd.ff_tau[f_to, cs.current_fire[c]], 0, 0]\n",
    "                      for c=1:NUM_CREWS, f_to=1:NUM_FIRES if cs.current_fire[c] != -1]\n",
    "    from_start_ff = copy(reduce(hcat, from_start_ff)')\n",
    "\n",
    "    # get base-to-fire arcs\n",
    "    rf = [[c, BASE_CODE, c, FIRE_CODE, f_to, t_from, t_from + gd.bf_tau[c, f_to], rest, rest]\n",
    "           for c=1:NUM_CREWS, f_to=1:NUM_FIRES, t_from=1:NUM_TIME_PERIODS, rest=0:1]\n",
    "    rf = copy(reduce(hcat, rf)')\n",
    "\n",
    "    # get base-to-fire arcs from start\n",
    "    from_start_rf = [[c, BASE_CODE, c, FIRE_CODE, f_to, 0, gd.bf_tau[c, f_to], 0, 0]\n",
    "                      for c=1:NUM_CREWS, f_to=1:NUM_FIRES if cs.current_fire[c] == -1]\n",
    "    from_start_rf = copy(reduce(hcat, from_start_rf)')\n",
    "\n",
    "    # get fire-to-base arcs\n",
    "    fr = [[c, FIRE_CODE, f_from, BASE_CODE, c, t_from, t_from + gd.bf_tau[c, f_from], rest, rest]\n",
    "           for c=1:NUM_CREWS, f_from=1:NUM_FIRES, t_from=1:NUM_TIME_PERIODS, rest=0:1]\n",
    "    fr = copy(reduce(hcat, fr)')\n",
    "\n",
    "    # get fire-to-base arcs from start, based on cs.current crew locations\n",
    "    from_start_fr = [[c, FIRE_CODE, cs.current_fire[c], BASE_CODE, c, 0, gd.bf_tau[c, cs.current_fire[c]], 0, 0]\n",
    "                      for c=1:NUM_CREWS if cs.current_fire[c] != -1]\n",
    "    from_start_fr = copy(reduce(hcat, from_start_fr)')\n",
    "\n",
    "    # get base-to-base arcs\n",
    "    rr = [[c, BASE_CODE, c, BASE_CODE, c, t_from, t_from + 1 + (BREAK_LENGTH - 1) * rest, 0, rest]\n",
    "          for c=1:NUM_CREWS, t_from=1:NUM_TIME_PERIODS, rest=0:1]\n",
    "    rr = copy(reduce(hcat, rr)')\n",
    "    rr_rested = [[c, BASE_CODE, c, BASE_CODE, c, t_from, t_from + 1, 1, 1]\n",
    "          for c=1:NUM_CREWS, t_from=1:NUM_TIME_PERIODS]\n",
    "    rr_rested  = copy(reduce(hcat, rr_rested)')\n",
    "\n",
    "    # get base-to-base arcs from start, based on cs.current days rested\n",
    "    from_start_rr = [[c, BASE_CODE, c, BASE_CODE, c, 0, \n",
    "                      1 + (BREAK_LENGTH - max(cs.rested_periods[c], 0) - 1) * rest, 0, rest] \n",
    "                      for c=1:NUM_CREWS, rest=0:1 if cs.current_fire[c] == -1]\n",
    "    from_start_rr = copy(reduce(hcat, from_start_rr)')\n",
    "\n",
    "    A = vcat(ff, from_start_ff, rf, from_start_rf, fr, from_start_fr, rr, rr_rested, from_start_rr)\n",
    "\n",
    "    out_of_region = [arc_exits_region(A[i, 1], A[i, 2], A[i, 3], A[i, 4], A[i, 5], rd) \n",
    "                     for i in 1:length(A[:, 1])]\n",
    "    A = hcat(A, out_of_region)\n",
    "    \n",
    "    return A\n",
    "end"
   ]
  },
  {
   "cell_type": "code",
   "execution_count": 10,
   "id": "63e7f29a",
   "metadata": {},
   "outputs": [
    {
     "data": {
      "text/plain": [
       "get_distance (generic function with 1 method)"
      ]
     },
     "execution_count": 10,
     "metadata": {},
     "output_type": "execute_result"
    }
   ],
   "source": [
    "function get_distance(from_type, from_ix, to_type, to_ix, fire_fire, base_fire)\n",
    "    \n",
    "    dist = 0\n",
    "    \n",
    "    # if fire to fire\n",
    "    if (from_type == FIRE_CODE) & (to_type == FIRE_CODE)\n",
    "        dist = fire_fire[from_ix, to_ix]\n",
    "    \n",
    "    # if fire to base\n",
    "    elseif (from_type == FIRE_CODE) & (to_type == BASE_CODE)\n",
    "        dist = base_fire[to_ix, from_ix]\n",
    "    \n",
    "    # if base to fire\n",
    "    elseif (from_type == BASE_CODE) & (to_type == FIRE_CODE)\n",
    "        dist = base_fire[from_ix, to_ix]\n",
    "        \n",
    "    # otherwise dist still 0\n",
    "    end\n",
    "    \n",
    "    return dist\n",
    "end "
   ]
  },
  {
   "cell_type": "code",
   "execution_count": 11,
   "id": "c127417f",
   "metadata": {},
   "outputs": [
    {
     "data": {
      "text/plain": [
       "get_arc_costs (generic function with 1 method)"
      ]
     },
     "execution_count": 11,
     "metadata": {},
     "output_type": "execute_result"
    }
   ],
   "source": [
    "function get_arc_costs(gd, arcs, cost_param_dict)\n",
    "    \n",
    "    # get number of arcs\n",
    "    n_arcs = length(arcs[:, 1])\n",
    "    \n",
    "    # initialize costs to 0\n",
    "    costs = zeros(n_arcs)\n",
    "    \n",
    "    # if there is travel cost per mile\n",
    "    if \"cost_per_mile\" in keys(cost_param_dict)\n",
    "        \n",
    "        # find the miles for each arc\n",
    "        miles_per_arc =  [get_distance(arcs[i, 2], arcs[i, 3], \n",
    "                                       arcs[i, 4], arcs[i, 5], \n",
    "                                       gd.ff_dist, gd.bf_dist) for i in 1:n_arcs]\n",
    "        # add to costs\n",
    "        costs = costs .+ (cost_param_dict[\"cost_per_mile\"] * miles_per_arc)\n",
    "    end\n",
    "    \n",
    "    # if there are rest violations\n",
    "    if \"rest_violation\" in keys(cost_param_dict)\n",
    "        \n",
    "        # find the rest violation scores\n",
    "        rest_violation_matrix = cost_param_dict[\"rest_violation\"]\n",
    "        rest_violations = [(arcs[i, 8] == 0) & (arcs[i, 6] > 0) ? \n",
    "                           rest_violation_matrix[arcs[i, 1], arcs[i, 6]] : 0\n",
    "                           for i in 1:n_arcs]\n",
    "        \n",
    "        # add to costs\n",
    "        costs = costs .+ rest_violations\n",
    "    end\n",
    "    \n",
    "    if \"fight_fire\" in keys(cost_param_dict)\n",
    "        costs = costs .+ [(arcs[i, 4] == FIRE_CODE) ? cost_param_dict[\"fight_fire\"] : 0\n",
    "                          for i in 1:n_arcs]\n",
    "    end\n",
    "    \n",
    "    # if we have to adjust for linking dual constraints\n",
    "    if \"linking_dual\" in keys(cost_param_dict)\n",
    "        \n",
    "        # get the dual variables\n",
    "        rho = cost_param_dict[\"linking_dual\"]\n",
    "        \n",
    "        # get linking costs (really benefits) if arc goes to a fire\n",
    "        linking_costs = [((arcs[i, 4] == FIRE_CODE) & (arcs[i, 7] <= NUM_TIME_PERIODS)) ? \n",
    "                          - rho[arcs[i, 5], arcs[i, 7]] : 0\n",
    "                          for i in 1:n_arcs]\n",
    "        \n",
    "        # add to costs\n",
    "        costs = costs .+ linking_costs\n",
    "        \n",
    "    end\n",
    "    \n",
    "    # if we have to adjust for linking dual constraints\n",
    "    if \"out_of_region_dual\" in keys(cost_param_dict)\n",
    "        \n",
    "        # get needed regional info\n",
    "        regs = cost_param_dict[\"region_data\"].crew_regions\n",
    "        rot_order = cost_param_dict[\"rotation_order\"]\n",
    "        \n",
    "        # get the dual variables\n",
    "        eta = cost_param_dict[\"out_of_region_dual\"]\n",
    "\n",
    "        # get adjustment for crew allotment\n",
    "        c1 = [(arcs[i, 10] > 0) ? sum(eta[arcs[i, 1], t_0]\n",
    "                                        for t_0=arcs[i, 6]:NUM_TIME_PERIODS\n",
    "                                      ) : 0\n",
    "                                                   \n",
    "               for i in 1:n_arcs\n",
    "             ]\n",
    "        \n",
    "        # get adjustment for region average allotment\n",
    "        c2 = [(arcs[i, 10] > 0) ? sum(eta[c, t_0]\n",
    "                                            for c in keys(rot_order[regs[arcs[i, 1]]]),\n",
    "                                                t_0=arcs[i, 6]:NUM_TIME_PERIODS) /\n",
    "                                        length(keys(rot_order[regs[arcs[i, 1]]])) : 0\n",
    "                                                   \n",
    "               for i in 1:n_arcs\n",
    "             ]\n",
    "        \n",
    "        # get adjustment for big-M constraint\n",
    "        c3 = [(arcs[i, 10] > 0) ? NUM_TIME_PERIODS * eta[arcs[i, 1], arcs[i, 6]] : 0\n",
    "               for i in 1:n_arcs\n",
    "             ]\n",
    "            \n",
    "        # add to costs\n",
    "        costs = costs .+ c1 .- c2 .+ c3\n",
    "        \n",
    "    end   \n",
    "    \n",
    "    return costs\n",
    "end"
   ]
  },
  {
   "cell_type": "code",
   "execution_count": 12,
   "id": "413223fc",
   "metadata": {},
   "outputs": [
    {
     "data": {
      "text/plain": [
       "is_one (generic function with 1 method)"
      ]
     },
     "execution_count": 12,
     "metadata": {},
     "output_type": "execute_result"
    }
   ],
   "source": [
    "function positive(x)\n",
    "    \n",
    "    if x > 0\n",
    "        return 1\n",
    "    end\n",
    "    \n",
    "    return 0\n",
    "end\n",
    "\n",
    "function is_one(x)\n",
    "    \n",
    "    if x == 1\n",
    "        return 1\n",
    "    end\n",
    "    \n",
    "    return 0\n",
    "end"
   ]
  },
  {
   "cell_type": "code",
   "execution_count": 13,
   "id": "c6f31a82",
   "metadata": {},
   "outputs": [
    {
     "data": {
      "text/plain": [
       "get_rest_penalties (generic function with 1 method)"
      ]
     },
     "execution_count": 13,
     "metadata": {},
     "output_type": "execute_result"
    }
   ],
   "source": [
    "# should return matrix indexed by crew, time, \n",
    "function get_rest_penalties(rest_by_periods, lambda, accounting_func)\n",
    "    \n",
    "    penalties = zeros(NUM_CREWS, NUM_TIME_PERIODS)\n",
    "    \n",
    "    for c in 1:NUM_CREWS\n",
    "        penalties[c, :] = [lambda * accounting_func(t - rest_by_periods[c]) \n",
    "                           for t in 1:NUM_TIME_PERIODS]\n",
    "    end\n",
    "    \n",
    "    return penalties    \n",
    "end"
   ]
  },
  {
   "cell_type": "code",
   "execution_count": 14,
   "id": "846c1e8f",
   "metadata": {},
   "outputs": [
    {
     "data": {
      "text/plain": [
       "define_network_constraint_data (generic function with 1 method)"
      ]
     },
     "execution_count": 14,
     "metadata": {},
     "output_type": "execute_result"
    }
   ],
   "source": [
    "function define_network_constraint_data(arcs)\n",
    "    \n",
    "    # shorten some global variable names\n",
    "    C = NUM_CREWS\n",
    "    G = NUM_FIRES\n",
    "    T = NUM_TIME_PERIODS\n",
    "    \n",
    "    # get number of arcs\n",
    "    n_arcs = length(arcs[:, 1])\n",
    "      \n",
    "    ## flow balance ##\n",
    "    \n",
    "    # initialize arrays of vectors for flow balance\n",
    "    f_out = Array{Vector{Int64}}(undef, C, G, T, 2)\n",
    "    f_in = Array{Vector{Int64}}(undef, C, G, T, 2)\n",
    "    b_out = Array{Vector{Int64}}(undef, C, T, 2)\n",
    "    b_in = Array{Vector{Int64}}(undef, C, T, 2)\n",
    "    start = Array{Vector{Int64}}(undef, C)\n",
    "    out_of_region = Array{Vector{Int64}}(undef, C, T+1)\n",
    "    \n",
    "    # for each crew\n",
    "    for crew in 1:C\n",
    "        \n",
    "        # get indices of this crew's arcs only\n",
    "        crew_ixs = [i for i in 1:n_arcs if arcs[i, 1] == crew]\n",
    "        \n",
    "        # get time 0 indices\n",
    "        start[crew] = [i for i in crew_ixs if arcs[i, 6] == 0]\n",
    "        \n",
    "        # for each time period (including start)\n",
    "        for tm in 0:T\n",
    "        \n",
    "            # get indices for out of region assignments\n",
    "            out_of_region[crew, tm+1] = [i for i in crew_ixs if\n",
    "                                           (arcs[i, 6] == tm) &\n",
    "                                           (arcs[i, 10] > 0)\n",
    "                                        ]\n",
    "        end\n",
    "        \n",
    "        # for each time period\n",
    "        for tm in 1:T\n",
    "            \n",
    "            # for each rest state\n",
    "            for rest in 1:2\n",
    "                \n",
    "                # get arcs leaving crew base at this time with this rest\n",
    "                b_out[crew, tm, rest] = [i for i in crew_ixs if\n",
    "                                         (arcs[i, 2] == BASE_CODE) &\n",
    "                                         (arcs[i, 6] == tm) &\n",
    "                                         (arcs[i, 8] == rest-1)\n",
    "                                        ]\n",
    "                \n",
    "                # get arcs entering crew base at this time with this rest\n",
    "                b_in[crew, tm, rest] = [i for i in crew_ixs if\n",
    "                                        (arcs[i, 4] == BASE_CODE) &\n",
    "                                        (arcs[i, 7] == tm) &\n",
    "                                        (arcs[i, 9] == rest-1)\n",
    "                                       ]\n",
    "                # for each fire\n",
    "                for fire in 1:G\n",
    "                    \n",
    "                    # get arcs where this crew leaves this fire at this time\n",
    "                    # with this rest state\n",
    "                    f_out[crew, fire, tm, rest] = [i for i in crew_ixs if\n",
    "                                                   (arcs[i, 2] == FIRE_CODE) &\n",
    "                                                   (arcs[i, 3] == fire) &\n",
    "                                                   (arcs[i, 6] == tm) &\n",
    "                                                   (arcs[i, 8] == rest-1)\n",
    "                                                   ]\n",
    "                    \n",
    "                    # get arcs where this crew enters this fire at this time\n",
    "                    # with this rest state\n",
    "                    f_in[crew, fire, tm, rest] = [i for i in crew_ixs if\n",
    "                                                  (arcs[i, 4] == FIRE_CODE) &\n",
    "                                                  (arcs[i, 5] == fire) &\n",
    "                                                  (arcs[i, 7] == tm) &\n",
    "                                                  (arcs[i, 9] == rest-1)\n",
    "                                                  ]\n",
    "                end\n",
    "            end\n",
    "        end\n",
    "    end\n",
    "    \n",
    "    ## linking constraints ##\n",
    "    linking = Array{Vector{Int64}}(undef, G, T)\n",
    "    for fire in 1:G\n",
    "        for tm in 1:T\n",
    "            \n",
    "            # we count the crew as working *where they arrived* during this timestep\n",
    "            linking[fire, tm] = [i for i in 1:n_arcs if (arcs[i, 4] == FIRE_CODE) &\n",
    "                                                        (arcs[i, 5] == fire) &\n",
    "                                                        (arcs[i, 7] == tm)]\n",
    "        end\n",
    "    end\n",
    "    \n",
    "    \n",
    "    return KeyArcIndices(f_out, f_in, b_out, b_in, linking, start, out_of_region)\n",
    "end"
   ]
  },
  {
   "cell_type": "code",
   "execution_count": 15,
   "id": "85bb158f",
   "metadata": {},
   "outputs": [
    {
     "data": {
      "text/plain": [
       "get_route_stats (generic function with 1 method)"
      ]
     },
     "execution_count": 15,
     "metadata": {},
     "output_type": "execute_result"
    }
   ],
   "source": [
    "function get_route_stats(arc_ixs_used, arcs, costs)\n",
    "    \n",
    "    # get total cost\n",
    "    route_cost = sum(costs[arc_ixs_used])\n",
    "    \n",
    "    # initialize fires fought matrix\n",
    "    fires_fought =  falses(NUM_FIRES, NUM_TIME_PERIODS)\n",
    "    \n",
    "    # initialize out of region matrix\n",
    "    out_of_region = falses(NUM_TIME_PERIODS + 1)\n",
    "    \n",
    "    # for each arc used\n",
    "    for ix in arc_ixs_used\n",
    "        arc = arcs[ix, :]\n",
    "        \n",
    "        # update fires_fought\n",
    "        if (arc[4] == FIRE_CODE) & (arc[7] <= NUM_TIME_PERIODS)\n",
    "            @assert ~fires_fought[arc[5], arc[7]] \"Visited fire twice at same time\"\n",
    "            fires_fought[arc[5], arc[7]] = true\n",
    "        end\n",
    "        \n",
    "        # update out_of_region\n",
    "        if arc[10] > 0\n",
    "            @assert ~out_of_region[arc[6] + 1] \"Left region twice at same time\"\n",
    "            out_of_region[arc[6] + 1] = true\n",
    "        end\n",
    "    end\n",
    "    \n",
    "    return route_cost, fires_fought, out_of_region\n",
    "end"
   ]
  },
  {
   "cell_type": "code",
   "execution_count": 16,
   "id": "8a2f3da2",
   "metadata": {},
   "outputs": [
    {
     "data": {
      "text/plain": [
       "initialize_route_data (generic function with 1 method)"
      ]
     },
     "execution_count": 16,
     "metadata": {},
     "output_type": "execute_result"
    }
   ],
   "source": [
    "function initialize_route_data(max_routes)\n",
    "    \n",
    "    return RouteData(zeros(NUM_CREWS), Matrix{Float64}(undef, NUM_CREWS, max_routes),\n",
    "                     BitArray(undef, NUM_CREWS, max_routes, NUM_FIRES, NUM_TIME_PERIODS) .> 2,\n",
    "                     BitArray(undef, NUM_CREWS, max_routes, NUM_TIME_PERIODS + 1) .> 2)\n",
    "end"
   ]
  },
  {
   "cell_type": "code",
   "execution_count": 17,
   "id": "368b79c3",
   "metadata": {},
   "outputs": [
    {
     "data": {
      "text/plain": [
       "update_available_routes (generic function with 1 method)"
      ]
     },
     "execution_count": 17,
     "metadata": {},
     "output_type": "execute_result"
    }
   ],
   "source": [
    "function update_available_routes(crew, route_ixs, arcs, costs, route_data)\n",
    "    \n",
    "    # get the required information from the arcs used\n",
    "    route_cost, fires_fought, out_of_region = get_route_stats(route_ixs, arcs, costs)\n",
    "    \n",
    "    ## store this information to the route_data ##\n",
    "    \n",
    "    # add 1 to number of routes for this crew, store the index\n",
    "    route_data.routes_per_crew[crew] += 1\n",
    "    ix = route_data.routes_per_crew[crew]\n",
    "    \n",
    "    # append the route cost\n",
    "    route_data.route_costs[crew, ix] = route_cost\n",
    "    \n",
    "    # append the fires fought\n",
    "    route_data.fires_fought[crew, ix, :, :] = fires_fought\n",
    "    \n",
    "    # append the out-of-region assignments\n",
    "    route_data.out_of_reg[crew, ix, :] = out_of_region\n",
    "    \n",
    "    return 1\n",
    "\n",
    "end"
   ]
  },
  {
   "cell_type": "code",
   "execution_count": 18,
   "id": "05c56733",
   "metadata": {},
   "outputs": [
    {
     "data": {
      "text/plain": [
       "get_supp_plan_stats (generic function with 2 methods)"
      ]
     },
     "execution_count": 18,
     "metadata": {},
     "output_type": "execute_result"
    }
   ],
   "source": [
    "function get_supp_plan_stats(var_p, var_d, beta, tolerance=0.0001)\n",
    "    \n",
    "    # get the cost based on the perimeter progression\n",
    "    cost = beta * (sum(value.(var_p)) - value(var_p[1])/2 - value(var_p[NUM_TIME_PERIODS+1]/2))\n",
    "    \n",
    "    # get the number of crews present each time period from line constructed\n",
    "    crew_vector = value.(var_d)\n",
    "    int_crew_vector = convert.(Int64, round.(crew_vector))\n",
    "    @assert maximum(abs.(crew_vector - int_crew_vector)) < tolerance \"Not an integer plan\"\n",
    "    \n",
    "    return cost, int_crew_vector\n",
    "\n",
    "end"
   ]
  },
  {
   "cell_type": "code",
   "execution_count": 19,
   "id": "9a5695d4",
   "metadata": {},
   "outputs": [
    {
     "data": {
      "text/plain": [
       "initialize_supp_plan_data (generic function with 1 method)"
      ]
     },
     "execution_count": 19,
     "metadata": {},
     "output_type": "execute_result"
    }
   ],
   "source": [
    "function initialize_supp_plan_data(max_supp_plans)\n",
    "    \n",
    "    return SuppressionPlanData(zeros(NUM_FIRES), \n",
    "                               Matrix{Float64}(undef, NUM_FIRES, max_supp_plans),\n",
    "                               zeros(Int8, (NUM_FIRES, max_supp_plans, NUM_TIME_PERIODS))\n",
    "                              )\n",
    "end"
   ]
  },
  {
   "cell_type": "code",
   "execution_count": 20,
   "id": "8c279c56",
   "metadata": {},
   "outputs": [
    {
     "data": {
      "text/plain": [
       "update_available_supp_plans (generic function with 1 method)"
      ]
     },
     "execution_count": 20,
     "metadata": {},
     "output_type": "execute_result"
    }
   ],
   "source": [
    "function update_available_supp_plans(fire, p, d, beta, plan_data)\n",
    "    \n",
    "    # get the required information from the model decision variables\n",
    "    cost, crew_vector = get_supp_plan_stats(p, d, beta)\n",
    "    \n",
    "    ## store this information to the suppression plan data ##\n",
    "    \n",
    "    # add 1 to number of plans for this fire, store the index\n",
    "    plan_data.plans_per_fire[fire] += 1\n",
    "    ix = plan_data.plans_per_fire[fire]\n",
    "    \n",
    "    # append the route cost\n",
    "    plan_data.plan_costs[fire, ix] = cost\n",
    "    \n",
    "    # append the fires fought\n",
    "    plan_data.crews_present[fire, ix, :] = crew_vector\n",
    "    \n",
    "    return 1\n",
    "\n",
    "end"
   ]
  },
  {
   "cell_type": "code",
   "execution_count": 21,
   "id": "5f1302a9",
   "metadata": {},
   "outputs": [
    {
     "data": {
      "text/plain": [
       "full_formulation (generic function with 2 methods)"
      ]
     },
     "execution_count": 21,
     "metadata": {},
     "output_type": "execute_result"
    }
   ],
   "source": [
    "function full_formulation(integer_routes, region_data, constraint_data, rotation_order, \n",
    "                          costs, progs, perims, beta, gamma, verbose=false)\n",
    "    \n",
    "    # get number of arcs\n",
    "    n_arcs = length(costs)\n",
    "    \n",
    "    # shorten some global variable names\n",
    "    C = NUM_CREWS\n",
    "    G = NUM_FIRES\n",
    "    T = NUM_TIME_PERIODS\n",
    "    regs = region_data.crew_regions\n",
    "    \n",
    "    # intialize model\n",
    "    m = Model(() -> Gurobi.Optimizer(GRB_ENV))\n",
    "    \n",
    "    if ~verbose\n",
    "        set_optimizer_attribute(m, \"OutputFlag\", 0)\n",
    "    end\n",
    "\n",
    "    # fire suppression plan section\n",
    "    @variable(m, p[g=1:G, t=1:T+1] >= 0)\n",
    "    @variable(m, l[g=1:G, t=1:T])\n",
    "    @variable(m, d[g=1:G, t=1:T] >= 0)\n",
    "    @constraint(m, perim_growth[g=1:G, t=1:T], p[g, t+1] >= progs[g, t] * \n",
    "                                                           (p[g, t] - l[g, t] / 2) - l[g, t] / 2)\n",
    "    @constraint(m, perim_start[g=1:G], p[g, 1] == perims[g])\n",
    "\n",
    "    # routing plan section\n",
    "    if integer_routes\n",
    "        @variable(m, z[1:n_arcs] >= 0, Int)\n",
    "    else\n",
    "        @variable(m, z[1:n_arcs] >= 0)\n",
    "    end\n",
    "    \n",
    "    @variable(m, q[1:C, 0:T] >= 0, Int)\n",
    "    \n",
    "    # build out_of_region constraints\n",
    "    @constraint(m, out_of_region[c=1:C, t=0:T],\n",
    "    \n",
    "        # out of region penalty is at least\n",
    "        q[c, t] >=\n",
    "        \n",
    "            # this crew's cumulative rotations\n",
    "            sum(z[i] for t_0=0:t, i in constraint_data.out_of_region[c, t_0+1]) \n",
    "        \n",
    "        - \n",
    "        \n",
    "            # average cumulative rotations among all crews in same region\n",
    "            sum(z[i] for c_0 in keys(rotation_order[regs[c]]), t_0=0:t, \n",
    "                i in constraint_data.out_of_region[c_0, t_0+1]) /\n",
    "            length(keys(rotation_order[regs[c]]))\n",
    "        \n",
    "        -\n",
    "        \n",
    "            # normalizing factor for specific crew rotation order\n",
    "            (1 - rotation_order[regs[c]][c] / length(keys(rotation_order[regs[c]])))\n",
    "        \n",
    "        -\n",
    "            # big-M for if crew goes not leave region at this time\n",
    "            T * (1 - sum(z[i] for i in constraint_data.out_of_region[c, t+1]))\n",
    "        \n",
    "    )\n",
    "\n",
    "\n",
    "    @constraint(m, fire_flow[c=1:C, g=1:G, t=1:T, rest=1:2],\n",
    "\n",
    "            sum(z[constraint_data.f_out[c, g, t, rest]]) ==\n",
    "            sum(z[constraint_data.f_in[c, g, t, rest]])\n",
    "    \n",
    "    )\n",
    "    \n",
    "    @constraint(m, base_flow[c=1:C, t=1:T, rest=1:2],\n",
    "\n",
    "            sum(z[constraint_data.b_out[c, t, rest]]) ==\n",
    "            sum(z[constraint_data.b_in[c, t, rest]])\n",
    "    \n",
    "    )\n",
    "\n",
    "\n",
    "    @constraint(m, linking[g=1:G, t=1:T],\n",
    "\n",
    "        sum(z[constraint_data.supp_fire[g, t]]) >= d[g, t] \n",
    "    )\n",
    "    \n",
    "    @constraint(m, line_building[g=1:G, t=1:T], l[g, t] <= LINE_PER_CREW * d[g, t])\n",
    "\n",
    "    # build start constraint\n",
    "    @constraint(m, start[c=1:C], \n",
    "\n",
    "        sum(z[constraint_data.start[c]]) == 1\n",
    "    )\n",
    "    \n",
    "    \n",
    "    \n",
    "\n",
    "    @objective(m, Min, \n",
    "        beta * (sum(p) - sum(p[1:G, 1])/2 - sum(p[1:G, T+1])/2) + \n",
    "        sum(z .* costs) + sum(q) * gamma\n",
    "    )\n",
    "    \n",
    "    return m, p, d, z, q, out_of_region\n",
    "    \n",
    "end"
   ]
  },
  {
   "cell_type": "code",
   "execution_count": 22,
   "id": "28eeec56",
   "metadata": {},
   "outputs": [
    {
     "data": {
      "text/plain": [
       "load_data (generic function with 1 method)"
      ]
     },
     "execution_count": 22,
     "metadata": {},
     "output_type": "execute_result"
    }
   ],
   "source": [
    "function load_data(path)\n",
    "    \n",
    "    # get distance from fire f to fire g \n",
    "    fire_dists =  readdlm(path * \"/fire_distances.csv\", ',')\n",
    "\n",
    "    # get distance from base c to fire g (NUM_CREWS-by-NUM_FIRES)\n",
    "    base_fire_dists =  readdlm(path * \"/base_fire_distances.csv\", ',')\n",
    "\n",
    "    # initialize travel times (number of periods) from fire f to fire g\n",
    "    tau = convert(Array{Int}, ones(size(fire_dists)))\n",
    "\n",
    "    # initialize number of periods to travel from base c to fire g (NUM_CREWS-by-NUM_FIRES)\n",
    "    tau_base_to_fire = convert(Array{Int}, ones((size(base_fire_dists))))\n",
    "\n",
    "    # read intial crew statuses (location, period by which they must rest)\n",
    "    # (-1 in current_fire means crew is currently at base)\n",
    "    # (rested_periods is the amount of time crew has been at base, relevant for completing rest)\n",
    "    crew_starts = CSV.read(path * \"/sample_crew_starts.csv\", DataFrame)\n",
    "    rest_by = crew_starts[!, \"rest_by\"]\n",
    "    current_fire = crew_starts[!, \"current_fire\"]\n",
    "    rested_periods = crew_starts[!, \"rested_periods\"]\n",
    "\n",
    "\n",
    "    return (GlobalData(fire_dists, base_fire_dists, tau, tau_base_to_fire), \n",
    "            CrewStatus(rest_by, current_fire, rested_periods))\n",
    "end"
   ]
  },
  {
   "cell_type": "code",
   "execution_count": 23,
   "id": "6e68bf7e",
   "metadata": {},
   "outputs": [
    {
     "data": {
      "text/plain": [
       "master_problem (generic function with 2 methods)"
      ]
     },
     "execution_count": 23,
     "metadata": {},
     "output_type": "execute_result"
    }
   ],
   "source": [
    "function master_problem(route_data, supp_plan_data, region_data, rotation_order, gamma, price_branch=false)\n",
    "    \n",
    "    m = Model(() -> Gurobi.Optimizer(GRB_ENV))\n",
    "    set_optimizer_attribute(m, \"OutputFlag\", 0)\n",
    "    \n",
    "    regs = region_data.crew_regions\n",
    "    \n",
    "    # decision variables\n",
    "    if price_branch\n",
    "        @variable(m, route[c=1:NUM_CREWS, r=1:route_data.routes_per_crew[c]] >= 0, Int)\n",
    "        @variable(m, plan[g=1:NUM_FIRES, p=1:supp_plan_data.plans_per_fire[g]] >= 0, Int)\n",
    "        @variable(m, q[c=1:NUM_CREWS, t=0:NUM_TIME_PERIODS] >= 0, Int)\n",
    "    else\n",
    "        @variable(m, route[c=1:NUM_CREWS, r=1:route_data.routes_per_crew[c]] >= 0)\n",
    "        @variable(m, plan[g=1:NUM_FIRES, p=1:supp_plan_data.plans_per_fire[g]] >= 0)\n",
    "        @variable(m, q[c=1:NUM_CREWS, t=0:NUM_TIME_PERIODS] >= 0)\n",
    "    end\n",
    "    \n",
    "    # constraints that you must choose a plan per crew and per fire\n",
    "    @constraint(m, route_per_crew[c=1:NUM_CREWS], \n",
    "                sum(route[c, r] for r=1:route_data.routes_per_crew[c]) == 1)\n",
    "    @constraint(m, plan_per_fire[g=1:NUM_FIRES], \n",
    "                sum(plan[g, p] for p=1:supp_plan_data.plans_per_fire[g]) >= 1)\n",
    "    \n",
    "    # linking constraint\n",
    "    @constraint(m, linking[g=1:NUM_FIRES, t=1:NUM_TIME_PERIODS],\n",
    "                    \n",
    "                    # crews at fire\n",
    "                    sum(route[c, r] * route_data.fires_fought[c, r, g, t] \n",
    "                        for c=1:NUM_CREWS, r=1:route_data.routes_per_crew[c]) \n",
    "        \n",
    "                    >=\n",
    "        \n",
    "                    # crews suppressing\n",
    "                    sum(plan[g, p] * supp_plan_data.crews_present[g, p, t] \n",
    "                        for p=1:supp_plan_data.plans_per_fire[g]) \n",
    "        \n",
    "                )\n",
    "    \n",
    "    # out_of_region constraint\n",
    "    @constraint(m, out_of_region[c=1:NUM_CREWS, t=0:NUM_TIME_PERIODS],\n",
    "    \n",
    "        # out of region penalty is at least\n",
    "        q[c, t] >=\n",
    "        \n",
    "            # this crew's cumulative rotations\n",
    "            sum(route[c, r] * route_data.out_of_reg[c, r, t_0 + 1] \n",
    "            for r=1:route_data.routes_per_crew[c], t_0=0:t)\n",
    "        \n",
    "        - \n",
    "        \n",
    "            # average cumulative rotations among all crews in same region\n",
    "            sum(route[c_0, r] * route_data.out_of_reg[c_0, r, t_0 + 1] \n",
    "                for c_0 in keys(rotation_order[regs[c]]), r=1:route_data.routes_per_crew[c_0],\n",
    "                t_0=0:t) /\n",
    "            length(keys(rotation_order[regs[c]]))\n",
    "        \n",
    "        -\n",
    "        \n",
    "            # normalizing factor for specific crew rotation order\n",
    "            (1 - rotation_order[regs[c]][c] / length(keys(rotation_order[regs[c]])))\n",
    "        \n",
    "        -\n",
    "            # big-M for if crew goes not leave region at this time\n",
    "            NUM_TIME_PERIODS * (1 - sum(route[c, r] * route_data.out_of_reg[c, r, t+1]\n",
    "                                        for r=1:route_data.routes_per_crew[c])\n",
    "                               )\n",
    "        \n",
    "    )\n",
    "    \n",
    "    @objective(m, Min, \n",
    "        \n",
    "                  # route costs\n",
    "                  sum(route[c, r] * route_data.route_costs[c, r] \n",
    "                        for c=1:NUM_CREWS, r=1:route_data.routes_per_crew[c])\n",
    "        \n",
    "                  +\n",
    "                     \n",
    "                  # suppression plan costs\n",
    "                  sum(plan[g, p] * supp_plan_data.plan_costs[g, p] \n",
    "                     for g=1:NUM_FIRES, p=1:supp_plan_data.plans_per_fire[g]) \n",
    "        \n",
    "                  +\n",
    "        \n",
    "                  # rotational queueing violations cost\n",
    "                  sum(q) * gamma\n",
    "               )\n",
    "    \n",
    "    return Dict(\"m\" => m, \"q\" => q, \"sigma\" => route_per_crew, \"pi\" => plan_per_fire, \n",
    "                \"rho\" => linking, \"eta\" => out_of_region, \"route\" => route, \"plan\" => plan)\n",
    "end "
   ]
  },
  {
   "cell_type": "code",
   "execution_count": 24,
   "id": "b119f02d",
   "metadata": {},
   "outputs": [
    {
     "data": {
      "text/plain": [
       "init_route_subproblem (generic function with 2 methods)"
      ]
     },
     "execution_count": 24,
     "metadata": {},
     "output_type": "execute_result"
    }
   ],
   "source": [
    "function init_route_subproblem(crew_ixs, crew, constraint_data, integer_routes=false)\n",
    "    \n",
    "    # shorten some global variable names\n",
    "    C = NUM_CREWS\n",
    "    G = NUM_FIRES\n",
    "    T = NUM_TIME_PERIODS\n",
    "    \n",
    "    # intialize model\n",
    "    m = Model(() -> Gurobi.Optimizer(GRB_ENV))\n",
    "    set_optimizer_attribute(m, \"OutputFlag\", 0)\n",
    "\n",
    "    # routing plan section\n",
    "    if integer_routes\n",
    "        @variable(m, z[crew_ixs] >= 0, Int)\n",
    "    else\n",
    "        @variable(m, z[crew_ixs] >= 0)\n",
    "    end\n",
    "\n",
    "\n",
    "    @constraint(m, fire_flow[g=1:G, t=1:T, rest=1:2],\n",
    "\n",
    "            sum(z[constraint_data.f_out[crew, g, t, rest]]) ==\n",
    "            sum(z[constraint_data.f_in[crew, g, t, rest]])\n",
    "    \n",
    "    )\n",
    "    \n",
    "    @constraint(m, base_flow[t=1:T, rest=1:2],\n",
    "\n",
    "            sum(z[constraint_data.b_out[crew, t, rest]]) ==\n",
    "            sum(z[constraint_data.b_in[crew, t, rest]])\n",
    "    \n",
    "    )\n",
    "\n",
    "    # build start constraint\n",
    "    @constraint(m, start, \n",
    "\n",
    "        sum(z[constraint_data.start[crew]]) == 1\n",
    "    )\n",
    "    \n",
    "    return Dict(\"m\" => m, \"z\" => z, \"ff\" => fire_flow)\n",
    "    \n",
    "end"
   ]
  },
  {
   "cell_type": "code",
   "execution_count": 25,
   "id": "fccc53fc",
   "metadata": {},
   "outputs": [
    {
     "data": {
      "text/plain": [
       "init_suppression_plan_subproblem (generic function with 1 method)"
      ]
     },
     "execution_count": 25,
     "metadata": {},
     "output_type": "execute_result"
    }
   ],
   "source": [
    "function init_suppression_plan_subproblem(progs, perims, fire, beta)\n",
    "    \n",
    "    T = NUM_TIME_PERIODS\n",
    "    \n",
    "    m = Model(() -> Gurobi.Optimizer(GRB_ENV))\n",
    "    set_optimizer_attribute(m, \"OutputFlag\", 0)\n",
    "\n",
    "    # fire suppression plan section\n",
    "    @variable(m, p[t=1:T+1] >= 0)\n",
    "    @variable(m, l[t=1:T] >= 0)\n",
    "    @variable(m, NUM_CREWS >= d[t=1:T] >= 0, Int)\n",
    "    @constraint(m, suppression_per_crew[t=1:T], l[t] <= d[t] * LINE_PER_CREW)\n",
    "    @constraint(m, perim_growth[t=1:T], p[t+1] >= progs[fire, t] * (p[t] - l[t] / 2) - l[t] / 2)\n",
    "    @constraint(m, perim_start, p[1] == perims[fire])\n",
    "    \n",
    "#    \n",
    "    \n",
    "    return Dict(\"m\" => m, \"p\" => p, \"d\" => d, \"beta\" => beta)\n",
    "end"
   ]
  },
  {
   "cell_type": "code",
   "execution_count": 26,
   "id": "66a8f423",
   "metadata": {},
   "outputs": [
    {
     "data": {
      "text/plain": [
       "initialize_column_generation (generic function with 1 method)"
      ]
     },
     "execution_count": 26,
     "metadata": {},
     "output_type": "execute_result"
    }
   ],
   "source": [
    "function initialize_column_generation(arcs, costs, constraint_data, progs, perims, max_plans)\n",
    "    \n",
    "    # initialize subproblems\n",
    "    route_sps = []\n",
    "    for crew in 1:NUM_CREWS\n",
    "        ixs = [i for i in 1:length(arcs[:, 1]) if arcs[i, 1] == crew]\n",
    "        d = init_route_subproblem(ixs, crew, constraint_data)\n",
    "        d[\"arc_ixs\"] = ixs\n",
    "        push!(route_sps, d)\n",
    "    end\n",
    "\n",
    "    plan_sps = []\n",
    "    for fire in 1:NUM_FIRES\n",
    "        d = init_suppression_plan_subproblem(progs, perims, fire, BETA)\n",
    "        push!(plan_sps, d)\n",
    "    end\n",
    "    \n",
    "    # initialize routes and suppression plans to populate\n",
    "    routes = initialize_route_data(max_plans)\n",
    "    suppression_plans = initialize_supp_plan_data(max_plans)\n",
    "    \n",
    "    ## generate dummy plans (no suppression) to ensure feasibility at first step ##\n",
    "    \n",
    "    # for each crew\n",
    "    for crew in 1:NUM_CREWS\n",
    "        \n",
    "        # get the crew's subproblem instance\n",
    "        crew_sp = route_sps[crew]\n",
    "        m = crew_sp[\"m\"]\n",
    "        z = crew_sp[\"z\"]\n",
    "        crew_ixs = crew_sp[\"arc_ixs\"]\n",
    "\n",
    "        # set objective in light of dual variables\n",
    "        @objective(m, Min, sum(z[ix] * (costs[ix]) for ix in crew_ixs))\n",
    "\n",
    "        # optimize\n",
    "        optimize!(m)\n",
    "\n",
    "        # update crew routes\n",
    "        crew_arcs = [i for i in crew_ixs if (value(z[i]) > 0.5)]\n",
    "        update_available_routes(crew, crew_arcs, arcs, costs, routes)\n",
    "    \n",
    "    end\n",
    "    \n",
    "    # for each fire\n",
    "    for fire in 1:NUM_FIRES\n",
    "\n",
    "        # get the fire's subproblem instance\n",
    "        plan_sp = plan_sps[fire]\n",
    "        m = plan_sp[\"m\"]\n",
    "        p = plan_sp[\"p\"]\n",
    "        d = plan_sp[\"d\"]\n",
    "        beta = plan_sp[\"beta\"]\n",
    "\n",
    "        # set objective in light of dual variables\n",
    "        @objective(m, Min, sum(d))\n",
    "        optimize!(m)\n",
    "        \n",
    "        # update suppression plans\n",
    "        update_available_supp_plans(fire, p, d, beta, suppression_plans)\n",
    "\n",
    "    end\n",
    "    \n",
    "    return ColumnGeneration(route_sps, plan_sps, routes, suppression_plans)\n",
    "    \n",
    "end"
   ]
  },
  {
   "cell_type": "code",
   "execution_count": 27,
   "id": "dc13f373",
   "metadata": {},
   "outputs": [
    {
     "data": {
      "text/plain": [
       "run_crew_subproblem (generic function with 1 method)"
      ]
     },
     "execution_count": 27,
     "metadata": {},
     "output_type": "execute_result"
    }
   ],
   "source": [
    "function run_crew_subproblem(sps, crew, costs, local_costs)\n",
    "    \n",
    "    # get the crew's subproblem instance\n",
    "    crew_sp = sps[crew]\n",
    "    m = crew_sp[\"m\"]\n",
    "    z = crew_sp[\"z\"]\n",
    "    crew_ixs = crew_sp[\"arc_ixs\"]\n",
    "    \n",
    "    # set objective in light of dual variables\n",
    "    @objective(m, Min, sum(z[ix] * (local_costs[ix] + costs[ix]) for ix in crew_ixs))\n",
    "        \n",
    "    # optimize\n",
    "    optimize!(m)\n",
    "    \n",
    "    return objective_value(m), z\n",
    "end"
   ]
  },
  {
   "cell_type": "code",
   "execution_count": 28,
   "id": "f7846989",
   "metadata": {},
   "outputs": [
    {
     "data": {
      "text/plain": [
       "run_CG_step (generic function with 1 method)"
      ]
     },
     "execution_count": 28,
     "metadata": {},
     "output_type": "execute_result"
    }
   ],
   "source": [
    "function run_CG_step(cg, arcs, costs, global_data, region_data, rot_order, gamma)\n",
    "    \n",
    "    # formulate and solve the master problem\n",
    "    mp = master_problem(cg.routes, cg.suppression_plans, region_data, rot_order, gamma)\n",
    "    optimize!(mp[\"m\"])\n",
    "\n",
    "    # grab the dual variables\n",
    "    sigma = dual.(mp[\"sigma\"])\n",
    "    rho = dual.(mp[\"rho\"])\n",
    "    eta = dual.(mp[\"eta\"])\n",
    "    pie = dual.(mp[\"pi\"]) # lol can't overwrite \"pi\" in Julia\n",
    "\n",
    "    # using the dual variables, get the local adjustments to the arc costs in the route subproblems\n",
    "    d = Dict(\"out_of_region_dual\" => eta, \"region_data\"=> region_data, \"rotation_order\" => rot_order, \"linking_dual\" => rho)\n",
    "    local_costs = get_arc_costs(global_data, arcs, d)\n",
    "\n",
    "    ## run subproblems ##\n",
    "\n",
    "    # for each fire\n",
    "    for fire in 1:NUM_FIRES\n",
    "\n",
    "        # run the subproblem\n",
    "        plan_sp = cg.plan_sps[fire]\n",
    "        m = plan_sp[\"m\"]\n",
    "        p = plan_sp[\"p\"]\n",
    "        d = plan_sp[\"d\"]\n",
    "        beta = plan_sp[\"beta\"]\n",
    "        @objective(m, Min, beta * (sum(p) - p[1]/2 - p[NUM_TIME_PERIODS + 1]/2) + sum(d .* rho[fire, :]) + 0.0001 * sum(d))\n",
    "        optimize!(m)\n",
    "\n",
    "        # if there is an improving plan\n",
    "        if objective_value(m) < pie[fire]\n",
    "\n",
    "            # add it\n",
    "            update_available_supp_plans(fire, p, d, beta, cg.suppression_plans)\n",
    "\n",
    "        end\n",
    "    end\n",
    "\n",
    "    # for each crew\n",
    "    for crew in 1:NUM_CREWS\n",
    "\n",
    "        # run the crew subproblem\n",
    "        obj, assignments = run_crew_subproblem(cg.route_sps, crew, costs, local_costs)\n",
    "\n",
    "        # if there is an improving route\n",
    "        if obj < sigma[crew]\n",
    "\n",
    "            # add it\n",
    "            crew_arcs = [i for i in cg.route_sps[crew][\"arc_ixs\"] if (value(assignments[i]) > 0.5)]\n",
    "            update_available_routes(crew, crew_arcs, arcs, costs, cg.routes)\n",
    "\n",
    "        end\n",
    "\n",
    "    end \n",
    "    return mp\n",
    "end"
   ]
  },
  {
   "cell_type": "code",
   "execution_count": 29,
   "id": "d732c533",
   "metadata": {},
   "outputs": [],
   "source": [
    "in_path = \"data/processed\"\n",
    "\n",
    "# get inital fire perimeters and no-suppression progression parameters\n",
    "M = readdlm(in_path * \"/sample_growth_patterns.csv\", ',')\n",
    "start_perims = M[:, 1]\n",
    "progressions = M[:, 2:15]\n",
    "\n",
    "NUM_TIME_PERIODS = size(M)[2] - 1 \n",
    "NUM_FIRES = size(M)[1]      \n",
    "\n",
    "g_data, crew_status = load_data(in_path)\n",
    "r_data = RegionData([1, 1, 1, 1, 1, 2, 2, 2, 2, 2], [1, 1, 2, 2])\n",
    "rotation_order = get_rotation_orders(r_data.crew_regions)\n",
    "A = generate_arcs(g_data, r_data, crew_status);\n",
    "\n",
    "rest_pen = get_rest_penalties(crew_status.rest_by, 99999, positive)\n",
    "cost_params = Dict(\"cost_per_mile\"=> 1, \"rest_violation\" => rest_pen, \"fight_fire\" => ALPHA)\n",
    "arc_costs = get_arc_costs(g_data, A, cost_params)\n",
    "\n",
    "c_data = define_network_constraint_data(A);"
   ]
  },
  {
   "cell_type": "code",
   "execution_count": null,
   "id": "0ad2231d",
   "metadata": {},
   "outputs": [],
   "source": [
    "@variable(m, p[g=1:G, t=1:T+1] >= 0)\n",
    "@variable(m, l[g=1:G, t=1:T])\n",
    "@variable(m, d[g=1:G, t=1:T] >= 0)\n",
    "@constraint(m, perim_growth[g=1:G, t=1:T], p[g, t+1] >= progs[g, t] * \n",
    "                                                       (p[g, t] - l[g, t] / 2) - l[g, t] / 2)\n",
    "@constraint(m, perim_start[g=1:G], p[g, 1] == perims[g])\n",
    "\n",
    "@objective(m, Min, beta * (sum(p) - p[1]/2 - p[NUM_TIME_PERIODS + 1]/2))"
   ]
  },
  {
   "cell_type": "code",
   "execution_count": 30,
   "id": "b4218aac",
   "metadata": {},
   "outputs": [
    {
     "data": {
      "text/plain": [
       "update_fire_stats (generic function with 1 method)"
      ]
     },
     "execution_count": 30,
     "metadata": {},
     "output_type": "execute_result"
    }
   ],
   "source": [
    "function update_fire_stats(curr_stats, curr_time, crew_allocation, params)\n",
    "    \n",
    "    if params[\"model_type\"] == \"simple_linear\"\n",
    "        \n",
    "        line_per_crew = params[\"line_per_crew\"]\n",
    "        prog = params[\"progressions\"][curr_time]\n",
    "        line = line_per_crew * crew_allocation\n",
    "        next_stats = (curr_stats - line/2) * prog - line/2\n",
    "        next_stats = max(0, next_stats)\n",
    "        \n",
    "    else\n",
    "        error(\"Not implemented\")\n",
    "    end\n",
    "    \n",
    "    return next_stats\n",
    "end"
   ]
  },
  {
   "cell_type": "code",
   "execution_count": 31,
   "id": "a911b6f4",
   "metadata": {},
   "outputs": [
    {
     "data": {
      "text/plain": [
       "inverse_update_fire_stats (generic function with 1 method)"
      ]
     },
     "execution_count": 31,
     "metadata": {},
     "output_type": "execute_result"
    }
   ],
   "source": [
    "function inverse_update_fire_stats(stats_from, stats_to, time_from, time_to, params)\n",
    "    \"\"\" Returns number of crews needed for given fire transition \"\"\"\n",
    "    \n",
    "    if params[\"model_type\"] == \"simple_linear\"\n",
    "\n",
    "        line_per_crew = params[\"line_per_crew\"]\n",
    "        prog = params[\"progressions\"][time_from]\n",
    "        \n",
    "        crews = 2 / line_per_crew * (prog * stats_from - stats_to) / (1 + prog)\n",
    "        \n",
    "    else\n",
    "        error(\"Not implemented\")\n",
    "    end\n",
    "    \n",
    "    return crews\n",
    "    \n",
    "end"
   ]
  },
  {
   "cell_type": "code",
   "execution_count": 112,
   "id": "798206af",
   "metadata": {},
   "outputs": [
    {
     "data": {
      "text/plain": [
       "create_discrete_fire_states (generic function with 1 method)"
      ]
     },
     "execution_count": 112,
     "metadata": {},
     "output_type": "execute_result"
    }
   ],
   "source": [
    "function create_discrete_fire_states(params)\n",
    "    \n",
    "    if params[\"model_type\"] == \"simple_linear\"\n",
    "        \n",
    "        # get the no-suppression progression of this fire\n",
    "        progs = params[\"progressions\"]\n",
    "        start_perim = params[\"start_perim\"]\n",
    "        no_supp = [start_perim]\n",
    "        for i in 1:NUM_TIME_PERIODS\n",
    "            push!(no_supp, no_supp[i] * progs[i])\n",
    "        end\n",
    "        \n",
    "        # generalize this later\n",
    "        aggressive_precision = 1\n",
    "        num_aggressive_states = convert(Int, round(start_perim * 2 / aggressive_precision))\n",
    "        num_passive_states = 100\n",
    "\n",
    "        aggressive_states = LinRange(0, num_aggressive_states * aggressive_precision, num_aggressive_states)\n",
    "        passive_states = exp.(LinRange(log(num_aggressive_states * aggressive_precision + 1), \n",
    "                                       maximum(log.(no_supp .+ 1)), num_passive_states + 1)\n",
    "                             )\n",
    "        passive_states = passive_states[2:num_passive_states+1] .- 1\n",
    "        all_states = vcat(aggressive_states, passive_states)\n",
    "        all_states = vcat(all_states, 9999999)\n",
    "        \n",
    "        push!(all_states, start_perim)\n",
    "        \n",
    "    else\n",
    "        error(\"Not implemented\")\n",
    "    end\n",
    "    \n",
    "    return all_states\n",
    "end"
   ]
  },
  {
   "cell_type": "code",
   "execution_count": 73,
   "id": "ace478cc",
   "metadata": {},
   "outputs": [
    {
     "data": {
      "text/plain": [
       "generate_state_transition_crew_reqs (generic function with 1 method)"
      ]
     },
     "execution_count": 73,
     "metadata": {},
     "output_type": "execute_result"
    }
   ],
   "source": [
    "function generate_state_transition_crew_reqs(curr_stats, curr_time, sorted_states, params, round_types)\n",
    "    \n",
    "    if params[\"model_type\"] == \"simple_linear\"\n",
    "        \n",
    "        # get all possibly feasible states\n",
    "        min_state_val = update_fire_stats(curr_stats, curr_time, NUM_CREWS + 0.5, params)\n",
    "        max_state_val = update_fire_stats(curr_stats, curr_time, 0, params)\n",
    "        \n",
    "        # get min and max index of the possibly feasible states\n",
    "        min_state_ix = searchsorted(sorted_states, min_state_val).start\n",
    "        max_state_ix = searchsorted(sorted_states, max_state_val).start\n",
    "        \n",
    "        # inititalize output \n",
    "        output = Dict()\n",
    "        for round_type in round_types\n",
    "            output[round_type] = []\n",
    "        end\n",
    "        \n",
    "        # inititalize minimum crews needed so far, for trimming (explained below)\n",
    "        min_used = Dict()\n",
    "        for round_type in round_types\n",
    "            min_used[round_type] = NUM_CREWS + 1\n",
    "        end\n",
    "        \n",
    "        # for each feasible state\n",
    "        for state_ix in min_state_ix:max_state_ix\n",
    "            crews_needed = inverse_update_fire_stats(curr_stats, sorted_states[state_ix], curr_time, \n",
    "                                                     curr_time + 1, params)\n",
    "            \n",
    "            # for each round type\n",
    "            for round_type in round_types\n",
    "                \n",
    "                # round the number of crews\n",
    "                if round_type == \"ceiling\"\n",
    "                    crews = max(0, convert(Int, ceil(crews_needed - 0.0001)))\n",
    "                elseif round_type == \"floor\"\n",
    "                    crews = max(0, convert(Int, floor(crews_needed + 0.0001)))\n",
    "                elseif round_type == \"nearest\"\n",
    "                    crews = max(0, convert(Int, round(crews_needed)))\n",
    "                else\n",
    "                    error(\"Round type not implemented\")\n",
    "                end\n",
    "                \n",
    "                # since the states are sorted in increasing level of cost and risk\n",
    "                # we can trim arcs that are dominated\n",
    "                \n",
    "                # if this is a feasible number of crews and we do not have a dominating arc\n",
    "                if (crews <= NUM_CREWS) & (crews < min_used[round_type])\n",
    "                    \n",
    "                    # update the minimum crews used for this round type\n",
    "                    min_used[round_type] = crews\n",
    "                    \n",
    "                    # push the crew requirement for this transition to the corresponding list\n",
    "                    push!(output[round_type], (state_ix, crews))\n",
    "                end\n",
    "            end\n",
    "        end\n",
    "        \n",
    "        return output\n",
    "\n",
    "    \n",
    "    else\n",
    "        error(\"Model type not implemented\")\n",
    "    end\n",
    "    \n",
    "end\n",
    "        "
   ]
  },
  {
   "cell_type": "code",
   "execution_count": 74,
   "id": "dc1e3c8e",
   "metadata": {},
   "outputs": [
    {
     "data": {
      "text/plain": [
       "generate_graphs (generic function with 1 method)"
      ]
     },
     "execution_count": 74,
     "metadata": {},
     "output_type": "execute_result"
    }
   ],
   "source": [
    "function generate_graphs(states, params, round_types)\n",
    "    \n",
    "    # separate out non start states\n",
    "    non_start_states = states[1:length(states)-1]\n",
    "    \n",
    "    # initializations\n",
    "    n_states = length(non_start_states)\n",
    "    crews_needed = Dict()\n",
    "    \n",
    "    # for each round type\n",
    "    for round_type in round_types\n",
    "        \n",
    "        # init graph as array of vectors (each index is a state*time vertex, each vector holds edges out)\n",
    "        crews_needed[round_type] = Array{Vector{}}(undef, n_states + 1, NUM_TIME_PERIODS + 1)\n",
    "        \n",
    "        # initialize time, state indices to check next\n",
    "        curr_time = 1\n",
    "        next_to_check = [n_states + 1]\n",
    "        \n",
    "        # while we have not yet reached the end of the horizon\n",
    "        while curr_time < NUM_TIME_PERIODS + 1\n",
    "            \n",
    "            # copy the indices to check and reset next_to_check\n",
    "            to_check = copy(next_to_check)\n",
    "            next_to_check = []\n",
    "\n",
    "            # for each state index feasible to reach at this time period\n",
    "            for check in to_check\n",
    "\n",
    "                # if it is not the last (no return) state\n",
    "                if check != n_states\n",
    "                    \n",
    "                    # find the crew requirements for feasible edges\n",
    "                    edges = generate_state_transition_crew_reqs(states[check], curr_time, non_start_states, \n",
    "                                                                params, [round_type])[round_type]\n",
    "                \n",
    "                # otherwise stay at this state\n",
    "                else\n",
    "                    edges = [(n_states, 0)]\n",
    "                end\n",
    "\n",
    "                # update the crews needed for each edge coming out of this state\n",
    "                crews_needed[round_type][check, curr_time] = edges\n",
    "\n",
    "                # append the neighbors to next_to_check\n",
    "                next_to_check = vcat(next_to_check, [edges[i][1] for i in 1:length(edges) \n",
    "                                                     if ~(edges[i][1] in next_to_check)])\n",
    "            end\n",
    "            \n",
    "            # add one to the time\n",
    "            curr_time += 1\n",
    "        end\n",
    "    end\n",
    "    \n",
    "    return crews_needed\n",
    "end"
   ]
  },
  {
   "cell_type": "code",
   "execution_count": 75,
   "id": "aaf06bd6",
   "metadata": {},
   "outputs": [
    {
     "data": {
      "text/plain": [
       "([1.5 1.0 … 0.6 0.5; 1.0 1.0 … 2.0 2.0; 4.0 4.0 … 0.9 0.9], [1000.0, 500.0, 100.0])"
      ]
     },
     "execution_count": 75,
     "metadata": {},
     "output_type": "execute_result"
    }
   ],
   "source": [
    "progressions, start_perims"
   ]
  },
  {
   "cell_type": "code",
   "execution_count": 118,
   "id": "04fc264d",
   "metadata": {},
   "outputs": [
    {
     "data": {
      "text/plain": [
       "Dict{String, Any} with 4 entries:\n",
       "  \"model_type\"    => \"simple_linear\"\n",
       "  \"line_per_crew\" => 17\n",
       "  \"start_perim\"   => 1000.0\n",
       "  \"progressions\"  => [1.5, 1.0, 1.0, 0.9, 0.9, 0.9, 0.8, 0.8, 0.8, 0.7, 0.7, 0.…"
      ]
     },
     "execution_count": 118,
     "metadata": {},
     "output_type": "execute_result"
    }
   ],
   "source": [
    "d = Dict(\"model_type\" => \"simple_linear\", \"progressions\" => progressions[1, :], \n",
    "        \"start_perim\" => 1000., \"line_per_crew\" => LINE_PER_CREW)"
   ]
  },
  {
   "cell_type": "code",
   "execution_count": 119,
   "id": "bb2ac048",
   "metadata": {},
   "outputs": [
    {
     "name": "stdout",
     "output_type": "stream",
     "text": [
      "  0.000240 seconds (101 allocations: 72.633 KiB)\n"
     ]
    }
   ],
   "source": [
    "@time states = create_discrete_fire_states(d);"
   ]
  },
  {
   "cell_type": "code",
   "execution_count": 120,
   "id": "2f637ba0",
   "metadata": {},
   "outputs": [
    {
     "name": "stdout",
     "output_type": "stream",
     "text": [
      "  1.608785 seconds (31.63 M allocations: 526.460 MiB, 7.06% gc time)\n"
     ]
    }
   ],
   "source": [
    "@time f = generate_graphs(states, d, [\"ceiling\", \"floor\"])[\"floor\"];"
   ]
  },
  {
   "cell_type": "code",
   "execution_count": 121,
   "id": "11524a46",
   "metadata": {},
   "outputs": [
    {
     "name": "stdout",
     "output_type": "stream",
     "text": [
      "  0.096059 seconds (131.37 k allocations: 6.277 MiB, 98.16% compilation time)\n",
      "  0.031079 seconds (55.40 k allocations: 2.930 MiB, 95.92% compilation time)\n"
     ]
    },
    {
     "data": {
      "text/plain": [
       "46210"
      ]
     },
     "execution_count": 121,
     "metadata": {},
     "output_type": "execute_result"
    }
   ],
   "source": [
    "@time a = [(i, j) for i in 1:size(f)[1], j in 1:size(f)[2] if isassigned(f, i, j)]\n",
    "@time sum(length(f[a1...]) for a1 in a)"
   ]
  },
  {
   "cell_type": "code",
   "execution_count": 123,
   "id": "c3143c1a",
   "metadata": {},
   "outputs": [
    {
     "name": "stdout",
     "output_type": "stream",
     "text": [
      "  0.127661 seconds (236.09 k allocations: 12.734 MiB, 98.03% compilation time)\n",
      "  0.038878 seconds (312.85 k allocations: 6.274 MiB)\n"
     ]
    }
   ],
   "source": [
    "rho_test = ones(NUM_TIME_PERIODS) .* 5\n",
    "@time avail_nodes = Dict(i => [j for j in 1:size(f)[1] if isassigned(f, j, i)] for i in 1:size(f)[2])\n",
    "curr_time = NUM_TIME_PERIODS\n",
    "costs = zeros(length(states), NUM_TIME_PERIODS + 1) .+ 1.0e12\n",
    "costs[:, NUM_TIME_PERIODS + 1] = states / 2\n",
    "bests = zeros(length(states), NUM_TIME_PERIODS) .- 1\n",
    "\n",
    "@time while curr_time > 0\n",
    "    \n",
    "    state_costs = states\n",
    "    if curr_time == 1\n",
    "        state_costs = states/2\n",
    "    end\n",
    "    \n",
    "    nodes_to_check = avail_nodes[curr_time]\n",
    "    for node in nodes_to_check\n",
    "        current_cost = 1e10\n",
    "        current_best = -1\n",
    "        edges = f[node, curr_time]\n",
    "        for edge in edges\n",
    "            edge_cost = costs[edge[1], curr_time + 1] + rho_test[curr_time] * edge[2]\n",
    "            if edge_cost < current_cost\n",
    "                current_best = edge[1]\n",
    "                current_cost = edge_cost\n",
    "            end\n",
    "        end\n",
    "        costs[node, curr_time] = current_cost + state_costs[node]\n",
    "        bests[node, curr_time] = current_best\n",
    "    end\n",
    "    \n",
    "    curr_time -= 1\n",
    "end\n",
    "    \n",
    "    "
   ]
  },
  {
   "cell_type": "code",
   "execution_count": 124,
   "id": "b5639893",
   "metadata": {},
   "outputs": [
    {
     "data": {
      "text/plain": [
       "2102×15 Matrix{Float64}:\n",
       "    1.0e12  1.0e12  1.0e12  1.0e12  1.0e12  …   0.0      0.0       0.0\n",
       "    1.0e12  1.0e12  1.0e12  1.0e12  1.0e12      1.0005   1.0005    0.50025\n",
       "    1.0e12  1.0e12  1.0e12  1.0e12  1.0e12      2.001    2.001     1.0005\n",
       "    1.0e12  1.0e12  1.0e12  1.0e12  1.0e12      3.0015   3.0015    1.50075\n",
       "    1.0e12  1.0e12  1.0e12  1.0e12  1.0e12      4.002    4.002     2.001\n",
       "    1.0e12  1.0e12  1.0e12  1.0e12  1.0e12  …   5.0025   5.0025    2.50125\n",
       "    1.0e12  1.0e12  1.0e12  1.0e12  1.0e12      6.003    6.003     3.0015\n",
       "    1.0e12  1.0e12  1.0e12  1.0e12  1.0e12      7.0035   7.0035    3.50175\n",
       "    1.0e12  1.0e12  1.0e12  1.0e12  1.0e12      8.004    8.004     4.002\n",
       "    1.0e12  1.0e12  1.0e12  1.0e12  1.0e12      9.0045   9.0045    4.50225\n",
       "    1.0e12  1.0e12  1.0e12  1.0e12  1.0e12  …  10.005   10.005     5.0025\n",
       "    1.0e12  1.0e12  1.0e12  1.0e12  1.0e12     11.0055  11.0055    5.50275\n",
       "    1.0e12  1.0e12  1.0e12  1.0e12  1.0e12     12.006   12.006     6.003\n",
       "    ⋮                                       ⋱                    \n",
       "    1.0e12  1.0e12  1.0e12  1.0e12  1.0e12  …   1.0e12   1.0e12  769.674\n",
       "    1.0e12  1.0e12  1.0e12  1.0e12  1.0e12      1.0e12   1.0e12  767.462\n",
       "    1.0e12  1.0e12  1.0e12  1.0e12  1.0e12      1.0e12   1.0e12  765.258\n",
       "    1.0e12  1.0e12  1.0e12  1.0e12  1.0e12      1.0e12   1.0e12  763.059\n",
       "    1.0e12  1.0e12  1.0e12  1.0e12  1.0e12      1.0e12   1.0e12  760.867\n",
       "    1.0e12  1.0e12  1.0e12  1.0e12  1.0e12  …   1.0e12   1.0e12  758.681\n",
       "    1.0e12  1.0e12  1.0e12  1.0e12  1.0e12      1.0e12   1.0e12  756.501\n",
       "    1.0e12  1.0e12  1.0e12  1.0e12  1.0e12      1.0e12   1.0e12  754.328\n",
       "    1.0e12  1.0e12  1.0e12  1.0e12  1.0e12      1.0e12   1.0e12  752.161\n",
       "    1.0e12  1.0e12  1.0e12  1.0e12  1.0e12      1.0e12   1.0e12  750.0\n",
       "    1.0e12  1.0e12  1.0e12  1.0e12  1.0e12  …   1.0e12   1.0e12    5.0e6\n",
       " 5459.3     1.0e12  1.0e12  1.0e12  1.0e12      1.0e12   1.0e12  500.0"
      ]
     },
     "execution_count": 124,
     "metadata": {},
     "output_type": "execute_result"
    }
   ],
   "source": [
    "costs"
   ]
  },
  {
   "cell_type": "code",
   "execution_count": 111,
   "id": "4e09fd6d",
   "metadata": {},
   "outputs": [
    {
     "data": {
      "text/plain": [
       "0.0"
      ]
     },
     "execution_count": 111,
     "metadata": {},
     "output_type": "execute_result"
    }
   ],
   "source": [
    "states[1]"
   ]
  },
  {
   "cell_type": "code",
   "execution_count": 98,
   "id": "c80946f9",
   "metadata": {},
   "outputs": [
    {
     "data": {
      "text/plain": [
       "11×14 Matrix{Float64}:\n",
       " -1.0  -1.0   1.0  1.0  1.0  1.0  1.0  1.0  1.0   6.0   6.0   6.0   6.0   6.0\n",
       " -1.0  -1.0  -1.0  1.0  1.0  1.0  1.0  1.0  1.0   8.0   8.0   8.0   8.0   8.0\n",
       " -1.0  -1.0   1.0  1.0  1.0  1.0  1.0  1.0  1.0  10.0  10.0  10.0  10.0  10.0\n",
       " -1.0  -1.0  -1.0  1.0  1.0  1.0  1.0  1.0  1.0  12.0  12.0  12.0  12.0  12.0\n",
       " -1.0  -1.0   1.0  1.0  1.0  1.0  1.0  1.0  1.0  14.0  14.0  14.0  14.0  14.0\n",
       " -1.0  -1.0   1.0  1.0  1.0  1.0  1.0  1.0  1.0  16.0  16.0  16.0  16.0  16.0\n",
       " -1.0  -1.0   1.0  1.0  1.0  1.0  1.0  1.0  1.0  18.0  18.0  18.0  18.0  18.0\n",
       " -1.0  -1.0   2.0  2.0  2.0  2.0  2.0  2.0  2.0  20.0  20.0  20.0  20.0  20.0\n",
       " -1.0  -1.0   3.0  3.0  3.0  3.0  3.0  3.0  3.0  22.0  22.0  22.0  22.0  22.0\n",
       " -1.0  -1.0   4.0  4.0  4.0  4.0  4.0  4.0  4.0  24.0  24.0  24.0  24.0  24.0\n",
       " -1.0  -1.0   5.0  5.0  5.0  5.0  5.0  5.0  5.0  26.0  26.0  26.0  26.0  26.0"
      ]
     },
     "execution_count": 98,
     "metadata": {},
     "output_type": "execute_result"
    }
   ],
   "source": [
    "bests[30:40, :]"
   ]
  },
  {
   "cell_type": "code",
   "execution_count": 109,
   "id": "569d0650",
   "metadata": {},
   "outputs": [
    {
     "data": {
      "text/plain": [
       "1.0"
      ]
     },
     "execution_count": 109,
     "metadata": {},
     "output_type": "execute_result"
    }
   ],
   "source": [
    "bests[1, 4]"
   ]
  },
  {
   "cell_type": "code",
   "execution_count": 110,
   "id": "63b0cea4",
   "metadata": {},
   "outputs": [
    {
     "data": {
      "text/plain": [
       "1-element Vector{Any}:\n",
       " (1, 0)"
      ]
     },
     "execution_count": 110,
     "metadata": {},
     "output_type": "execute_result"
    }
   ],
   "source": [
    "f[1, 4]"
   ]
  },
  {
   "cell_type": "code",
   "execution_count": 58,
   "id": "7ed0d355",
   "metadata": {},
   "outputs": [
    {
     "data": {
      "text/plain": [
       "Dict{Int64, Vector{Int64}} with 15 entries:\n",
       "  5  => [1, 2, 3, 4, 5, 6, 7, 8, 9, 10  …  37, 38, 39, 40, 41, 42, 43, 44, 45, …\n",
       "  12 => [1, 2, 3, 4, 5, 6, 7, 8, 9, 10  …  99, 100, 101, 102, 103, 104, 105, 10…\n",
       "  8  => [1, 2, 3, 4, 5, 6, 7, 8, 9, 10  …  34, 35, 36, 37, 38, 39, 40, 41, 42, …\n",
       "  1  => [152]\n",
       "  6  => [1, 2, 3, 4, 5, 6, 7, 8, 9, 10  …  36, 37, 38, 39, 40, 41, 42, 43, 44, …\n",
       "  11 => [1, 2, 3, 4, 5, 6, 7, 8, 9, 10  …  69, 70, 71, 72, 73, 74, 75, 76, 77, …\n",
       "  9  => [1, 2, 3, 4, 5, 6, 7, 8, 9, 10  …  33, 34, 35, 36, 37, 38, 39, 40, 41, …\n",
       "  14 => [1, 2, 3, 4, 5, 6, 7, 8, 9, 10  …  125, 126, 127, 128, 129, 130, 131, 1…\n",
       "  3  => [16, 17, 18, 19, 20, 21, 22, 23, 24, 25  …  39, 40, 41, 42, 43, 44, 45,…\n",
       "  7  => [1, 2, 3, 4, 5, 6, 7, 8, 9, 10  …  35, 36, 37, 38, 39, 40, 41, 42, 43, …\n",
       "  4  => [1, 2, 3, 4, 5, 6, 7, 8, 9, 10  …  38, 39, 40, 41, 42, 43, 44, 45, 46, …\n",
       "  13 => [1, 2, 3, 4, 5, 6, 7, 8, 9, 10  …  112, 113, 114, 115, 116, 117, 118, 1…\n",
       "  15 => []\n",
       "  2  => [33, 34, 36, 38, 39, 41, 43, 44, 46, 48, 49]\n",
       "  10 => [1, 2, 3, 4, 5, 6, 7, 8, 9, 10  …  32, 33, 34, 35, 36, 37, 38, 39, 40, …"
      ]
     },
     "execution_count": 58,
     "metadata": {},
     "output_type": "execute_result"
    }
   ],
   "source": [
    "avail_nodes"
   ]
  },
  {
   "cell_type": "code",
   "execution_count": 57,
   "id": "1c0d25f3",
   "metadata": {},
   "outputs": [
    {
     "data": {
      "text/plain": [
       "152×15 Matrix{Float64}:\n",
       " 1.0e12  1.0e12  1.0e12  1.0e12  …  1.0e12  1.0e12  1.0e12     0.0\n",
       " 1.0e12  1.0e12  1.0e12  1.0e12     1.0e12  1.0e12  1.0e12     5.05051\n",
       " 1.0e12  1.0e12  1.0e12  1.0e12     1.0e12  1.0e12  1.0e12    10.101\n",
       " 1.0e12  1.0e12  1.0e12  1.0e12     1.0e12  1.0e12  1.0e12    15.1515\n",
       " 1.0e12  1.0e12  1.0e12  1.0e12     1.0e12  1.0e12  1.0e12    20.202\n",
       " 1.0e12  1.0e12  1.0e12  1.0e12  …  1.0e12  1.0e12  1.0e12    25.2525\n",
       " 1.0e12  1.0e12  1.0e12  1.0e12     1.0e12  1.0e12  1.0e12    30.303\n",
       " 1.0e12  1.0e12  1.0e12  1.0e12     1.0e12  1.0e12  1.0e12    35.3535\n",
       " 1.0e12  1.0e12  1.0e12  1.0e12     1.0e12  1.0e12  1.0e12    40.404\n",
       " 1.0e12  1.0e12  1.0e12  1.0e12     1.0e12  1.0e12  1.0e12    45.4545\n",
       " 1.0e12  1.0e12  1.0e12  1.0e12  …  1.0e12  1.0e12  1.0e12    50.5051\n",
       " 1.0e12  1.0e12  1.0e12  1.0e12     1.0e12  1.0e12  1.0e12    55.5556\n",
       " 1.0e12  1.0e12  1.0e12  1.0e12     1.0e12  1.0e12  1.0e12    60.6061\n",
       " ⋮                               ⋱                          \n",
       " 1.0e12  1.0e12  1.0e12  1.0e12  …  1.0e12  1.0e12  1.0e12  4857.4\n",
       " 1.0e12  1.0e12  1.0e12  1.0e12     1.0e12  1.0e12  1.0e12  5134.29\n",
       " 1.0e12  1.0e12  1.0e12  1.0e12     1.0e12  1.0e12  1.0e12  5426.97\n",
       " 1.0e12  1.0e12  1.0e12  1.0e12     1.0e12  1.0e12  1.0e12  5736.32\n",
       " 1.0e12  1.0e12  1.0e12  1.0e12     1.0e12  1.0e12  1.0e12  6063.31\n",
       " 1.0e12  1.0e12  1.0e12  1.0e12  …  1.0e12  1.0e12  1.0e12  6408.94\n",
       " 1.0e12  1.0e12  1.0e12  1.0e12     1.0e12  1.0e12  1.0e12  6774.27\n",
       " 1.0e12  1.0e12  1.0e12  1.0e12     1.0e12  1.0e12  1.0e12  7160.42\n",
       " 1.0e12  1.0e12  1.0e12  1.0e12     1.0e12  1.0e12  1.0e12  7568.58\n",
       " 1.0e12  1.0e12  1.0e12  1.0e12     1.0e12  1.0e12  1.0e12  8000.0\n",
       " 1.0e12  1.0e12  1.0e12  1.0e12  …  1.0e12  1.0e12  1.0e12     5.0e6\n",
       " 1.0e12  1.0e12  1.0e12  1.0e12     1.0e12  1.0e12  1.0e12   250.0"
      ]
     },
     "execution_count": 57,
     "metadata": {},
     "output_type": "execute_result"
    }
   ],
   "source": [
    "costs"
   ]
  },
  {
   "cell_type": "code",
   "execution_count": 820,
   "id": "20f1c123",
   "metadata": {},
   "outputs": [
    {
     "data": {
      "text/plain": [
       "152-element Vector{Float64}:\n",
       "    0.0\n",
       "    5.050505050505051\n",
       "   10.101010101010102\n",
       "   15.151515151515152\n",
       "   20.202020202020204\n",
       "   25.252525252525253\n",
       "   30.303030303030305\n",
       "   35.35353535353535\n",
       "   40.40404040404041\n",
       "   45.45454545454545\n",
       "   50.505050505050505\n",
       "   55.55555555555555\n",
       "   60.60606060606061\n",
       "    ⋮\n",
       " 4857.402353020311\n",
       " 5134.294199248329\n",
       " 5426.968391216569\n",
       " 5736.324494731868\n",
       " 6063.313349261811\n",
       " 6408.939990442711\n",
       " 6774.266739165433\n",
       " 7160.416466733641\n",
       " 7568.576046130221\n",
       " 8000.000000000001\n",
       "    4.9999995e6\n",
       "  250.0"
      ]
     },
     "execution_count": 820,
     "metadata": {},
     "output_type": "execute_result"
    }
   ],
   "source": [
    "state_costs = states / 2"
   ]
  },
  {
   "cell_type": "code",
   "execution_count": 807,
   "id": "f39b452f",
   "metadata": {},
   "outputs": [
    {
     "name": "stdout",
     "output_type": "stream",
     "text": [
      "  0.107884 seconds (199.01 k allocations: 11.685 MiB, 98.43% compilation time)\n"
     ]
    }
   ],
   "source": [
    "@time a = unique(reduce(vcat, [[j[1] for j in f[i, 14]] for i in 1:size(f)[1] if isassigned(f, i, 14)]));"
   ]
  },
  {
   "cell_type": "code",
   "execution_count": null,
   "id": "4b55373a",
   "metadata": {},
   "outputs": [],
   "source": [
    "function state_entrance_fixed_cost"
   ]
  },
  {
   "cell_type": "code",
   "execution_count": 561,
   "id": "43659401",
   "metadata": {},
   "outputs": [
    {
     "data": {
      "text/plain": [
       "get_cost (generic function with 2 methods)"
      ]
     },
     "execution_count": 561,
     "metadata": {},
     "output_type": "execute_result"
    }
   ],
   "source": [
    "function get_cost(fire_arc, states, dual_linking)\n",
    "    \n",
    "    cost = 0\n",
    "    if (fire_arc[3] == 1) | (fire_arc[3] == NUM_TIME_PERIODS) \n",
    "        cost = states[fire_arc[4]] / 2\n",
    "    else\n",
    "        cost = states[fire_arc[4]]\n",
    "    end\n",
    "    \n",
    "    cost += fire_arc[5] * dual_linking[fire_arc[1], fire_arc[3]]\n",
    "    \n",
    "    return cost\n",
    "end"
   ]
  },
  {
   "cell_type": "code",
   "execution_count": 751,
   "id": "e0cc4155",
   "metadata": {},
   "outputs": [
    {
     "data": {
      "text/plain": [
       "152×15 Matrix{Vector}:\n",
       " #undef  …     Any[(1, 0), (2, 0), (4, 2), (7, 4), (3, 1), (6, 3), (9, 6), (5, 3), (8, 5), (10, 7), (13, 9), (11, 7), (14, 10), (12, 8)]\n",
       " #undef        Any[(4, 1), (9, 5), (5, 2), (10, 6), (14, 9)]\n",
       " #undef        Any[(7, 3), (3, 0), (8, 4), (13, 8), (12, 7), (15, 10)]\n",
       " #undef        Any[(6, 2), (5, 1), (10, 5), (11, 6), (15, 9)]\n",
       " #undef        Any[(4, 0), (9, 4), (8, 3), (13, 7), (14, 8), (16, 10)]\n",
       " #undef  …     Any[(7, 2), (6, 1), (11, 5), (16, 9), (12, 6)]\n",
       " #undef        Any[(9, 3), (5, 0), (10, 4), (14, 7), (15, 8), (17, 10)]\n",
       " #undef        Any[(7, 1), (8, 2), (13, 6), (12, 5), (17, 9)]\n",
       " #undef        Any[(6, 0), (10, 3), (11, 4), (16, 8), (15, 7), (18, 10)]\n",
       " #undef        Any[(9, 2), (8, 1), (13, 5), (14, 6), (18, 9)]\n",
       " #undef  …     Any[(7, 0), (11, 3), (16, 7), (19, 10), (12, 4), (17, 8)]\n",
       " #undef        Any[(9, 1), (10, 2), (14, 5), (19, 9), (15, 6)]\n",
       " #undef        Any[(8, 0), (13, 4), (12, 3), (17, 7), (18, 8), (20, 10)]\n",
       "   ⋮     ⋱  \n",
       " #undef  …     Any[(128, 0)]\n",
       " #undef        Any[(129, 0)]\n",
       " #undef        Any[(130, 0)]\n",
       " #undef        Any[(131, 0)]\n",
       " #undef        Any[(132, 0)]\n",
       " #undef  …     Any[(133, 0)]\n",
       " #undef        Any[(134, 0)]\n",
       " #undef     #undef\n",
       " #undef     #undef\n",
       " #undef     #undef\n",
       " #undef  …  #undef\n",
       " #undef     #undef"
      ]
     },
     "execution_count": 751,
     "metadata": {},
     "output_type": "execute_result"
    }
   ],
   "source": [
    "f"
   ]
  },
  {
   "cell_type": "code",
   "execution_count": null,
   "id": "fde498b1",
   "metadata": {},
   "outputs": [],
   "source": [
    "# generate arcs\n",
    "states_appended = copy(all_states)\n",
    "push!(states_appended, start_perims[g])\n",
    "s = length(all_states)\n",
    "crews_needed = Array{Vector}(undef, s + 1, NUM_TIME_PERIODS + 1)\n",
    "curr_time = 1\n",
    "state_name = 0\n",
    "next_to_check = [s + 1]\n",
    "\n",
    "while curr_time < NUM_TIME_PERIODS + 1\n",
    "\n",
    "    to_check = copy(next_to_check)\n",
    "    next_to_check = []\n",
    "\n",
    "    for check in to_check\n",
    "        curr_state = states_appended[check]\n",
    "\n",
    "        if check != s\n",
    "            edges = get_alphas(curr_state, fire_progs[curr_time], all_states)\n",
    "        else\n",
    "            edges = [(s, 0)]\n",
    "        end\n",
    "\n",
    "        for edge in edges\n",
    "            crews_needed[check, curr_time] = edges\n",
    "        end\n",
    "        next_to_check = vcat(next_to_check, [edges[i][1] for i in 1:length(edges) if ~(edges[i][1] in next_to_check)])\n",
    "    end\n",
    "    curr_time += 1\n",
    "end"
   ]
  },
  {
   "cell_type": "code",
   "execution_count": 623,
   "id": "7aefc672",
   "metadata": {},
   "outputs": [
    {
     "data": {
      "text/plain": [
       "107.6923076923077"
      ]
     },
     "execution_count": 623,
     "metadata": {},
     "output_type": "execute_result"
    }
   ],
   "source": [
    "states[22]"
   ]
  },
  {
   "cell_type": "code",
   "execution_count": 624,
   "id": "e7f5ddec",
   "metadata": {},
   "outputs": [
    {
     "data": {
      "text/plain": [
       "2-element Vector{Any}:\n",
       " (50, 5)\n",
       " (51, 0)"
      ]
     },
     "execution_count": 624,
     "metadata": {},
     "output_type": "execute_result"
    }
   ],
   "source": [
    "e[\"ceiling\"]"
   ]
  },
  {
   "cell_type": "code",
   "execution_count": 625,
   "id": "152e56ae",
   "metadata": {},
   "outputs": [
    {
     "data": {
      "text/plain": [
       "2-element Vector{Any}:\n",
       " (50, 4)\n",
       " (51, 0)"
      ]
     },
     "execution_count": 625,
     "metadata": {},
     "output_type": "execute_result"
    }
   ],
   "source": [
    "e[\"floor\"]"
   ]
  },
  {
   "cell_type": "code",
   "execution_count": 311,
   "id": "76b3db4b",
   "metadata": {},
   "outputs": [
    {
     "data": {
      "text/plain": [
       "get_alphas (generic function with 1 method)"
      ]
     },
     "execution_count": 311,
     "metadata": {},
     "output_type": "execute_result"
    }
   ],
   "source": [
    "function get_alphas(state, prog, sorted_states)\n",
    "    \n",
    "    min_state_val = new_perim(state, prog, NUM_CREWS, LINE_PER_CREW)\n",
    "    max_state_val = new_perim(state, prog, 0, LINE_PER_CREW)\n",
    "    min_state_ix = searchsorted(sorted_states, min_state_val).start\n",
    "    max_state_ix = searchsorted(sorted_states, max_state_val).start\n",
    "    \n",
    "    edges = []\n",
    "    for state_ix in min_state_ix:max_state_ix\n",
    "        push!(edges, (state_ix, get_crews_needed_for_transition(state, \n",
    "                                                                 sorted_states[state_ix], \n",
    "                                                                 prog,\n",
    "                                                                 LINE_PER_CREW,\n",
    "                                                                 \"ceiling\")\n",
    "                       ))\n",
    "    end\n",
    "    \n",
    "    return edges\n",
    "\n",
    "end"
   ]
  },
  {
   "cell_type": "code",
   "execution_count": 562,
   "id": "4fc4e5ee",
   "metadata": {},
   "outputs": [
    {
     "data": {
      "text/plain": [
       "generate_fire_arcs (generic function with 1 method)"
      ]
     },
     "execution_count": 562,
     "metadata": {},
     "output_type": "execute_result"
    }
   ],
   "source": [
    "function generate_fire_arcs(g, progs, perims)\n",
    "    \n",
    "    # get the progressions for this specific fire\n",
    "    fire_progs = progs[g, :]\n",
    "    \n",
    "    no_supp = [perims[g]]\n",
    "    for i in 1:NUM_TIME_PERIODS\n",
    "        push!(no_supp, no_supp[i] * progs[i])\n",
    "    end\n",
    "\n",
    "    aggressive_precision = 15\n",
    "    num_aggressive_states = convert(Int, round(perims[g] * 2 / aggressive_precision))\n",
    "    num_passive_states = 30\n",
    "\n",
    "    aggressive_states = LinRange(0, num_aggressive_states * aggressive_precision, num_aggressive_states)\n",
    "    passive_states = exp.(LinRange(log(num_aggressive_states * aggressive_precision+ 1), maximum(log.(no_supp .+ 1)), num_passive_states + 1))\n",
    "    passive_states = passive_states[2:num_passive_states+1] .- 1\n",
    "    all_states = vcat(aggressive_states, passive_states)\n",
    "    all_states = vcat(all_states, 9999999)\n",
    "\n",
    "    # generate arcs\n",
    "    states_appended = copy(all_states)\n",
    "    push!(states_appended, start_perims[g])\n",
    "    s = length(all_states)\n",
    "    crews_needed = Array{Vector}(undef, s + 1, NUM_TIME_PERIODS + 1)\n",
    "    curr_time = 1\n",
    "    state_name = 0\n",
    "    next_to_check = [s + 1]\n",
    "\n",
    "    while curr_time < NUM_TIME_PERIODS + 1\n",
    "\n",
    "        to_check = copy(next_to_check)\n",
    "        next_to_check = []\n",
    "\n",
    "        for check in to_check\n",
    "            curr_state = states_appended[check]\n",
    "\n",
    "            if check != s\n",
    "                edges = get_alphas(curr_state, fire_progs[curr_time], all_states)\n",
    "            else\n",
    "                edges = [(s, 0)]\n",
    "            end\n",
    "\n",
    "            for edge in edges\n",
    "                crews_needed[check, curr_time] = edges\n",
    "            end\n",
    "            next_to_check = vcat(next_to_check, [edges[i][1] for i in 1:length(edges) if ~(edges[i][1] in next_to_check)])\n",
    "        end\n",
    "        curr_time += 1\n",
    "    end\n",
    "    \n",
    "    visitable = [(i,j) for i in 1:size(crews_needed)[1], j in 1:size(crews_needed)[2] if isassigned(crews_needed, i, j)]\n",
    "    \n",
    "    edges = []\n",
    "\n",
    "    for (i, j) in visitable\n",
    "        push!(edges, copy(reduce(hcat, [[i, j, a[1], a[2]] for a in crews_needed[i, j]])'))\n",
    "    end\n",
    "    \n",
    "    arc_array = reduce(vcat, edges)\n",
    "    \n",
    "    # add crew to front\n",
    "    arc_array = hcat(convert.(Int, zeros(length(arc_array[:, 1]))) .+ g, arc_array)\n",
    "    \n",
    "    return crews_needed, arc_array, states_appended\n",
    "end"
   ]
  },
  {
   "cell_type": "code",
   "execution_count": 59,
   "id": "48abde74",
   "metadata": {},
   "outputs": [
    {
     "data": {
      "text/plain": [
       "new_perim (generic function with 1 method)"
      ]
     },
     "execution_count": 59,
     "metadata": {},
     "output_type": "execute_result"
    }
   ],
   "source": [
    "function new_perim(old_perim, prog, num_crews, line_per_crew)\n",
    "    \n",
    "    line = line_per_crew * num_crews\n",
    "    return (old_perim - line/2) * prog - line/2\n",
    "\n",
    "end"
   ]
  },
  {
   "cell_type": "code",
   "execution_count": 194,
   "id": "6747129f",
   "metadata": {},
   "outputs": [
    {
     "data": {
      "text/plain": [
       "get_crews_needed_for_transition (generic function with 2 methods)"
      ]
     },
     "execution_count": 194,
     "metadata": {},
     "output_type": "execute_result"
    }
   ],
   "source": [
    "function get_crews_needed_for_transition(state_1, state_2, prog, line_per_crew, round_type)\n",
    "    \n",
    "    crews = 2 / line_per_crew * (prog * state_1 - state_2) / (1 + prog)\n",
    "    \n",
    "    if round_type == \"nearest\"\n",
    "        crews = convert(Int, round(crews))\n",
    "    \n",
    "    elseif round_type == \"ceiling\"\n",
    "        crews = convert(Int, ceil(crews - 0.0001))\n",
    "    end\n",
    "    \n",
    "    return max(crews, 0) \n",
    "    \n",
    "end "
   ]
  },
  {
   "cell_type": "code",
   "execution_count": 563,
   "id": "e2f5c89a",
   "metadata": {},
   "outputs": [],
   "source": [
    "graph, fire_arc_arr, fire_states = generate_fire_arcs(2, progressions, start_perims);"
   ]
  },
  {
   "cell_type": "code",
   "execution_count": 560,
   "id": "705f0030",
   "metadata": {},
   "outputs": [
    {
     "data": {
      "text/plain": [
       "5565×5 Matrix{Int64}:\n",
       " 2  99   1  23  10\n",
       " 2  99   1  24   9\n",
       " 2  99   1  25   8\n",
       " 2  99   1  26   8\n",
       " 2  99   1  27   7\n",
       " 2  99   1  28   6\n",
       " 2  99   1  29   5\n",
       " 2  99   1  30   4\n",
       " 2  99   1  31   3\n",
       " 2  99   1  32   2\n",
       " 2  99   1  33   1\n",
       " 2  99   1  34   0\n",
       " 2  23   2  12  10\n",
       " ⋮              \n",
       " 2  71  14  76   0\n",
       " 2  72  14  77   0\n",
       " 2  73  14  78   0\n",
       " 2  74  14  79   0\n",
       " 2  75  14  80   0\n",
       " 2  76  14  81   0\n",
       " 2  77  14  82   0\n",
       " 2  78  14  83   0\n",
       " 2  79  14  84   0\n",
       " 2  80  14  85   0\n",
       " 2  81  14  86   0\n",
       " 2  82  14  87   0"
      ]
     },
     "execution_count": 560,
     "metadata": {},
     "output_type": "execute_result"
    }
   ],
   "source": [
    "get_cost(fire_arc_arr[i, :] for i in length())"
   ]
  },
  {
   "cell_type": "code",
   "execution_count": 551,
   "id": "1186d584",
   "metadata": {},
   "outputs": [
    {
     "data": {
      "text/plain": [
       "(99, 15)"
      ]
     },
     "execution_count": 551,
     "metadata": {},
     "output_type": "execute_result"
    }
   ],
   "source": [
    "a[size(a)[1]"
   ]
  },
  {
   "cell_type": "code",
   "execution_count": 554,
   "id": "43616977",
   "metadata": {},
   "outputs": [],
   "source": [
    "graph = a;"
   ]
  },
  {
   "cell_type": "code",
   "execution_count": 555,
   "id": "3e8ee7a9",
   "metadata": {},
   "outputs": [
    {
     "data": {
      "text/plain": [
       "(99, 1)"
      ]
     },
     "execution_count": 555,
     "metadata": {},
     "output_type": "execute_result"
    }
   ],
   "source": [
    "current_node = (size(graph)[1], 1)"
   ]
  },
  {
   "cell_type": "code",
   "execution_count": 559,
   "id": "a0dae8fb",
   "metadata": {},
   "outputs": [
    {
     "data": {
      "text/plain": [
       "12-element Vector{Any}:\n",
       " (23, 10)\n",
       " (24, 9)\n",
       " (25, 8)\n",
       " (26, 8)\n",
       " (27, 7)\n",
       " (28, 6)\n",
       " (29, 5)\n",
       " (30, 4)\n",
       " (31, 3)\n",
       " (32, 2)\n",
       " (33, 1)\n",
       " (34, 0)"
      ]
     },
     "execution_count": 559,
     "metadata": {},
     "output_type": "execute_result"
    }
   ],
   "source": [
    "graph[current_node...]"
   ]
  },
  {
   "cell_type": "code",
   "execution_count": 529,
   "id": "1dfc667a",
   "metadata": {},
   "outputs": [
    {
     "data": {
      "text/plain": [
       "2273×4 Matrix{Int64}:\n",
       " 45   1   1  10\n",
       " 45   1   2  10\n",
       " 45   1   3   9\n",
       " 45   1   4   9\n",
       " 45   1   5   8\n",
       " 45   1   6   8\n",
       " 45   1   7   8\n",
       " 45   1   8   7\n",
       " 45   1   9   7\n",
       " 45   1  10   6\n",
       " 45   1  11   6\n",
       " 45   1  12   6\n",
       " 45   1  13   5\n",
       "  ⋮          \n",
       " 33  14  33   0\n",
       " 34  14  34   0\n",
       " 35  14  35   0\n",
       " 36  14  36   0\n",
       " 37  14  37   0\n",
       " 38  14  38   0\n",
       " 39  14  39   0\n",
       " 40  14  40   0\n",
       " 41  14  41   0\n",
       " 42  14  42   0\n",
       " 43  14  43   0\n",
       " 44  14  44   0"
      ]
     },
     "execution_count": 529,
     "metadata": {},
     "output_type": "execute_result"
    }
   ],
   "source": [
    "rho"
   ]
  },
  {
   "cell_type": "code",
   "execution_count": 493,
   "id": "70d3ac39",
   "metadata": {},
   "outputs": [],
   "source": [
    "g = 3\n",
    "fire_progs = progressions[g, :]\n",
    "\n",
    "no_supp = [start_perims[g]]\n",
    "for i in 1:NUM_TIME_PERIODS\n",
    "    push!(no_supp, no_supp[i] * fire_progs[i])\n",
    "end\n"
   ]
  },
  {
   "cell_type": "code",
   "execution_count": 448,
   "id": "f22dafc7",
   "metadata": {},
   "outputs": [],
   "source": [
    "g = 3\n",
    "fire_progs = progressions[g, :]\n",
    "\n",
    "\n",
    "aggressive_precision = 15\n",
    "num_aggressive_states = convert(Int, round(start_perims[g] * 2 / aggressive_precision))\n",
    "num_passive_states = 30\n",
    "\n",
    "aggressive_states = LinRange(0, num_aggressive_states * aggressive_precision, num_aggressive_states)\n",
    "passive_states = exp.(LinRange(log(num_aggressive_states * aggressive_precision+ 1), maximum(log.(states .+ 1)), num_passive_states + 1))\n",
    "passive_states = passive_states[2:num_passive_states+1] .- 1\n",
    "all_states = vcat(aggressive_states, passive_states)\n",
    "all_states = vcat(all_states, 9999999)\n",
    "\n",
    "# generate arcs\n",
    "states_appended = copy(all_states)\n",
    "push!(states_appended, start_perims[g])\n",
    "s = length(all_states)\n",
    "crews_needed = Array{Vector}(undef, s + 1, NUM_TIME_PERIODS + 1)\n",
    "curr_time = 1\n",
    "state_name = 0\n",
    "next_to_check = [s + 1]\n",
    "\n",
    "while curr_time < 15\n",
    "    \n",
    "    to_check = copy(next_to_check)\n",
    "    next_to_check = []\n",
    "    \n",
    "    for check in to_check\n",
    "        curr_state = states_appended[check]\n",
    "        \n",
    "        if check != s\n",
    "            edges = get_alphas(curr_state, fire_progs[curr_time], all_states)\n",
    "        else\n",
    "            edges = [(s, 0)]\n",
    "        end\n",
    "        \n",
    "        for edge in edges\n",
    "            crews_needed[check, curr_time] = edges\n",
    "        end\n",
    "        next_to_check = vcat(next_to_check, [edges[i][1] for i in 1:length(edges) if ~(edges[i][1] in next_to_check)])\n",
    "    end\n",
    "    curr_time += 1\n",
    "end"
   ]
  },
  {
   "cell_type": "code",
   "execution_count": 454,
   "id": "fe597553",
   "metadata": {},
   "outputs": [],
   "source": [
    "visitable = [(i,j) for i in 1:size(crews_needed)[1], j in 1:size(crews_needed)[2] if isassigned(crews_needed, i, j)];"
   ]
  },
  {
   "cell_type": "code",
   "execution_count": 480,
   "id": "9bd2326a",
   "metadata": {},
   "outputs": [
    {
     "data": {
      "text/plain": [
       "2291×4 Matrix{Int64}:\n",
       " 45   1   1  10\n",
       " 45   1   2  10\n",
       " 45   1   3   9\n",
       " 45   1   4   9\n",
       " 45   1   5   8\n",
       " 45   1   6   8\n",
       " 45   1   7   8\n",
       " 45   1   8   7\n",
       " 45   1   9   7\n",
       " 45   1  10   6\n",
       " 45   1  11   6\n",
       " 45   1  12   6\n",
       " 45   1  13   5\n",
       "  ⋮          \n",
       " 34  14  33  10\n",
       " 34  14  34   0\n",
       " 35  14  35   0\n",
       " 36  14  36   0\n",
       " 37  14  37   0\n",
       " 38  14  38   0\n",
       " 39  14  39   0\n",
       " 40  14  40   0\n",
       " 41  14  41   0\n",
       " 42  14  42   0\n",
       " 43  14  43   0\n",
       " 44  14  44   0"
      ]
     },
     "execution_count": 480,
     "metadata": {},
     "output_type": "execute_result"
    }
   ],
   "source": [
    "edges = []\n",
    "\n",
    "for (i, j) in visitable\n",
    "    push!(edges, copy(reduce(hcat, [[i, j, a[1], a[2]] for a in crews_needed[i, j]])'))\n",
    "end\n",
    "\n",
    "fire_arcs = reduce(vcat, edges)"
   ]
  },
  {
   "cell_type": "code",
   "execution_count": 487,
   "id": "0c11be25",
   "metadata": {},
   "outputs": [],
   "source": [
    "arc_costs = [get_cost(fire_arcs[i, :], states_appended) for i in 1:length(fire_arcs[:, 1])];"
   ]
  },
  {
   "cell_type": "code",
   "execution_count": null,
   "id": "ab206af4",
   "metadata": {},
   "outputs": [],
   "source": [
    "outs = []"
   ]
  },
  {
   "cell_type": "code",
   "execution_count": 481,
   "id": "9af26af5",
   "metadata": {},
   "outputs": [
    {
     "data": {
      "text/plain": [
       "45"
      ]
     },
     "execution_count": 481,
     "metadata": {},
     "output_type": "execute_result"
    }
   ],
   "source": [
    "s+1"
   ]
  },
  {
   "cell_type": "code",
   "execution_count": 482,
   "id": "47f6830d",
   "metadata": {},
   "outputs": [
    {
     "data": {
      "text/plain": [
       "45-element Vector{Float64}:\n",
       "     0.0\n",
       "    16.25\n",
       "    32.5\n",
       "    48.75\n",
       "    65.0\n",
       "    81.25\n",
       "    97.5\n",
       "   113.75000000000001\n",
       "   130.0\n",
       "   146.25\n",
       "   162.5\n",
       "   178.75\n",
       "   195.0\n",
       "     ⋮\n",
       "  4270.494082548608\n",
       "  4945.630954527102\n",
       "  5727.47751334962\n",
       "  6632.899905332529\n",
       "  7681.430078744905\n",
       "  8895.687130802577\n",
       " 10301.865251240823\n",
       " 11930.298788479486\n",
       " 13816.11662809794\n",
       " 16000.000000000002\n",
       "     9.999999e6\n",
       "   100.0"
      ]
     },
     "execution_count": 482,
     "metadata": {},
     "output_type": "execute_result"
    }
   ],
   "source": [
    "states_appended"
   ]
  },
  {
   "cell_type": "code",
   "execution_count": 475,
   "id": "e3b28062",
   "metadata": {},
   "outputs": [
    {
     "data": {
      "text/plain": [
       "14×4 Matrix{Int64}:\n",
       " 9  2   7  10\n",
       " 9  2   8  10\n",
       " 9  2   9  10\n",
       " 9  2  10   9\n",
       " 9  2  11   9\n",
       " 9  2  12   9\n",
       " 9  2  13   8\n",
       " 9  2  14   7\n",
       " 9  2  15   7\n",
       " 9  2  16   6\n",
       " 9  2  17   4\n",
       " 9  2  18   3\n",
       " 9  2  19   2\n",
       " 9  2  20   0"
      ]
     },
     "execution_count": 475,
     "metadata": {},
     "output_type": "execute_result"
    }
   ],
   "source": [
    "edgea"
   ]
  },
  {
   "cell_type": "code",
   "execution_count": 453,
   "id": "6859ebbd",
   "metadata": {},
   "outputs": [
    {
     "data": {
      "text/plain": [
       "18-element Vector{Any}:\n",
       " (1, 10)\n",
       " (2, 10)\n",
       " (3, 9)\n",
       " (4, 9)\n",
       " (5, 8)\n",
       " (6, 8)\n",
       " (7, 8)\n",
       " (8, 7)\n",
       " (9, 7)\n",
       " (10, 6)\n",
       " (11, 6)\n",
       " (12, 6)\n",
       " (13, 5)\n",
       " (14, 5)\n",
       " (15, 4)\n",
       " (16, 3)\n",
       " (17, 2)\n",
       " (18, 0)"
      ]
     },
     "execution_count": 453,
     "metadata": {},
     "output_type": "execute_result"
    }
   ],
   "source": [
    "crews_needed[45, 1]"
   ]
  },
  {
   "cell_type": "code",
   "execution_count": 411,
   "id": "4d24e735",
   "metadata": {},
   "outputs": [
    {
     "ename": "LoadError",
     "evalue": "UndefRefError: access to undefined reference",
     "output_type": "error",
     "traceback": [
      "UndefRefError: access to undefined reference",
      "",
      "Stacktrace:",
      "  [1] getindex",
      "    @ .\\array.jl:862 [inlined]",
      "  [2] getindex",
      "    @ .\\multidimensional.jl:644 [inlined]",
      "  [3] _broadcast_getindex",
      "    @ .\\broadcast.jl:636 [inlined]",
      "  [4] _getindex",
      "    @ .\\broadcast.jl:666 [inlined]",
      "  [5] _broadcast_getindex",
      "    @ .\\broadcast.jl:642 [inlined]",
      "  [6] getindex",
      "    @ .\\broadcast.jl:597 [inlined]",
      "  [7] macro expansion",
      "    @ .\\broadcast.jl:979 [inlined]",
      "  [8] macro expansion",
      "    @ .\\simdloop.jl:77 [inlined]",
      "  [9] copyto!",
      "    @ .\\broadcast.jl:978 [inlined]",
      " [10] copyto!",
      "    @ .\\broadcast.jl:913 [inlined]",
      " [11] copy",
      "    @ .\\broadcast.jl:885 [inlined]",
      " [12] materialize(bc::Base.Broadcast.Broadcasted{Base.Broadcast.DefaultArrayStyle{2}, Nothing, typeof(!=), Tuple{Matrix{Vector}, Int64}})",
      "    @ Base.Broadcast .\\broadcast.jl:860",
      " [13] top-level scope",
      "    @ In[411]:1",
      " [14] eval",
      "    @ .\\boot.jl:373 [inlined]",
      " [15] include_string(mapexpr::typeof(REPL.softscope), mod::Module, code::String, filename::String)",
      "    @ Base .\\loading.jl:1196"
     ]
    }
   ],
   "source": [
    "sum(crews_needed.!= -1)"
   ]
  },
  {
   "cell_type": "code",
   "execution_count": 387,
   "id": "91407b39",
   "metadata": {},
   "outputs": [
    {
     "data": {
      "text/plain": [
       "500.0"
      ]
     },
     "execution_count": 387,
     "metadata": {},
     "output_type": "execute_result"
    }
   ],
   "source": [
    "start_perims[g]"
   ]
  },
  {
   "cell_type": "code",
   "execution_count": 388,
   "id": "918b4011",
   "metadata": {},
   "outputs": [
    {
     "data": {
      "text/plain": [
       "14-element Vector{Float64}:\n",
       " 1.0\n",
       " 1.0\n",
       " 1.0\n",
       " 1.0\n",
       " 1.0\n",
       " 1.0\n",
       " 1.0\n",
       " 1.0\n",
       " 1.0\n",
       " 2.0\n",
       " 2.0\n",
       " 2.0\n",
       " 2.0\n",
       " 2.0"
      ]
     },
     "execution_count": 388,
     "metadata": {},
     "output_type": "execute_result"
    }
   ],
   "source": [
    "fire_progs"
   ]
  },
  {
   "cell_type": "code",
   "execution_count": 310,
   "id": "58463d8d",
   "metadata": {},
   "outputs": [
    {
     "data": {
      "text/plain": [
       "8677.520378070449"
      ]
     },
     "execution_count": 310,
     "metadata": {},
     "output_type": "execute_result"
    }
   ],
   "source": [
    "all_states[38]"
   ]
  },
  {
   "cell_type": "code",
   "execution_count": 307,
   "id": "81327354",
   "metadata": {},
   "outputs": [
    {
     "data": {
      "text/plain": [
       "12-element Vector{Float64}:\n",
       " -1.0\n",
       " -1.0\n",
       " -1.0\n",
       " -1.0\n",
       " -1.0\n",
       " -1.0\n",
       " -1.0\n",
       " -1.0\n",
       " -1.0\n",
       " -1.0\n",
       " -1.0\n",
       " -1.0"
      ]
     },
     "execution_count": 307,
     "metadata": {},
     "output_type": "execute_result"
    }
   ],
   "source": [
    "crews_needed[38, 30:41, 14]"
   ]
  },
  {
   "cell_type": "code",
   "execution_count": 160,
   "id": "8c0f7b6a",
   "metadata": {},
   "outputs": [
    {
     "data": {
      "text/plain": [
       "10.0"
      ]
     },
     "execution_count": 160,
     "metadata": {},
     "output_type": "execute_result"
    }
   ],
   "source": [
    "get_crews_needed_for_transition(curr_state, min_state_val, fire_progs[curr_time], LINE_PER_CREW)"
   ]
  },
  {
   "cell_type": "code",
   "execution_count": 148,
   "id": "91d315df",
   "metadata": {},
   "outputs": [
    {
     "ename": "LoadError",
     "evalue": "BoundsError: attempt to access 0-element UnitRange{Int64} at index [18]",
     "output_type": "error",
     "traceback": [
      "BoundsError: attempt to access 0-element UnitRange{Int64} at index [18]",
      "",
      "Stacktrace:",
      " [1] throw_boundserror(A::UnitRange{Int64}, I::Int64)",
      "   @ Base .\\abstractarray.jl:691",
      " [2] getindex(v::UnitRange{Int64}, i::Int64)",
      "   @ Base .\\range.jl:861",
      " [3] top-level scope",
      "   @ In[148]:1",
      " [4] eval",
      "   @ .\\boot.jl:373 [inlined]",
      " [5] include_string(mapexpr::typeof(REPL.softscope), mod::Module, code::String, filename::String)",
      "   @ Base .\\loading.jl:1196"
     ]
    }
   ],
   "source": [
    "min_state_ix[18]"
   ]
  },
  {
   "cell_type": "code",
   "execution_count": null,
   "id": "1dd0513a",
   "metadata": {},
   "outputs": [],
   "source": [
    "function discretize(fire_model_type, fire_model_data, num_total_crews)"
   ]
  },
  {
   "cell_type": "code",
   "execution_count": 78,
   "id": "324b74e1",
   "metadata": {},
   "outputs": [
    {
     "data": {
      "text/plain": [
       "10-element Vector{Float64}:\n",
       "   0.0\n",
       "   0.9951794800481719\n",
       "   2.9807411576052933\n",
       "   6.942293073037287\n",
       "  14.84630016385273\n",
       "  30.616212921602965\n",
       "  62.080019258016065\n",
       " 124.85596002463721\n",
       " 250.10522888291908\n",
       " 499.9999999999999"
      ]
     },
     "execution_count": 78,
     "metadata": {},
     "output_type": "execute_result"
    }
   ],
   "source": [
    "exp.(LinRange(0, minimum(log.(states .+ 1)), 10)) .- 1"
   ]
  },
  {
   "cell_type": "code",
   "execution_count": 57,
   "id": "ad151040",
   "metadata": {},
   "outputs": [
    {
     "data": {
      "text/plain": [
       "10"
      ]
     },
     "execution_count": 57,
     "metadata": {},
     "output_type": "execute_result"
    }
   ],
   "source": [
    "num_states = 10"
   ]
  },
  {
   "cell_type": "code",
   "execution_count": 58,
   "id": "1aca3694",
   "metadata": {},
   "outputs": [
    {
     "data": {
      "text/plain": [
       "10-element LinRange{Float64, Int64}:\n",
       " 0.0,166.667,333.333,500.0,666.667,833.333,1000.0,1166.67,1333.33,1500.0"
      ]
     },
     "execution_count": 58,
     "metadata": {},
     "output_type": "execute_result"
    }
   ],
   "source": [
    "LinRange(0, 1500, num_states)"
   ]
  },
  {
   "cell_type": "code",
   "execution_count": null,
   "id": "3d32ab8e",
   "metadata": {},
   "outputs": [],
   "source": [
    "struct FireProgression\n",
    "    \n",
    "    states::Vector"
   ]
  },
  {
   "cell_type": "code",
   "execution_count": 35,
   "id": "25180594",
   "metadata": {},
   "outputs": [
    {
     "data": {
      "text/plain": [
       "15-element Vector{Float64}:\n",
       " 1000.0\n",
       "    1.5\n",
       "    0.0\n",
       "    0.0\n",
       "    0.0\n",
       "    0.0\n",
       "    0.0\n",
       "    0.0\n",
       "    0.0\n",
       "    0.0\n",
       "    0.0\n",
       "    0.0\n",
       "    0.0\n",
       "    0.0\n",
       "    0.0"
      ]
     },
     "execution_count": 35,
     "metadata": {},
     "output_type": "execute_result"
    }
   ],
   "source": [
    "states"
   ]
  },
  {
   "cell_type": "code",
   "execution_count": 145,
   "id": "f8bca796",
   "metadata": {},
   "outputs": [
    {
     "data": {
      "text/plain": [
       "Nothing"
      ]
     },
     "execution_count": 145,
     "metadata": {},
     "output_type": "execute_result"
    }
   ],
   "source": [
    "mp = Nothing"
   ]
  },
  {
   "cell_type": "code",
   "execution_count": 153,
   "id": "5e877d89",
   "metadata": {},
   "outputs": [],
   "source": [
    "max_plans = 10000\n",
    "col_gen_data = initialize_column_generation(A, arc_costs, c_data, progressions, start_perims, max_plans)\n",
    "current_num_routes = copy(col_gen_data.routes.routes_per_crew)\n",
    "current_num_plans = copy(col_gen_data.suppression_plans.plans_per_fire)"
   ]
  },
  {
   "cell_type": "code",
   "execution_count": 161,
   "id": "235acbc8",
   "metadata": {},
   "outputs": [
    {
     "name": "stdout",
     "output_type": "stream",
     "text": [
      "0.0 67.0 8.3403557 61.0 0.1137069451359718 46.46200837797869 0.573370980375687\n",
      "1.0 45.0 5.3362232999999994 41.0 0.10706181654243085 97.9185179287727 0.5712305103596549\n",
      "10.0 200.0 49.64953460000002 198.0 0.15872186006808953 81.01399513080439 0.5728744706371858\n",
      "100.0 200.0 55.106949400000026 192.0 0.10306849747885316 55.11832148152911 0.5776160310800194\n",
      "1000.0 200.0 58.466874100000005 182.0 0.07140729942176627 72.23527377677108 0.5849664010603606\n",
      "10000.0 195.0 50.829066699999984 111.0 0.025047297145008862 72.68448077601126 0.5853636431418563\n"
     ]
    }
   ],
   "source": [
    "for gamma in [0, 1, 10, 100, 1000, 10000]\n",
    "\n",
    "    max_plans = 10000\n",
    "    col_gen_data = initialize_column_generation(A, arc_costs, c_data, progressions, start_perims, max_plans)\n",
    "    current_num_routes = copy(col_gen_data.routes.routes_per_crew)\n",
    "    current_num_plans = copy(col_gen_data.suppression_plans.plans_per_fire)\n",
    "\n",
    "    objs = []\n",
    "    max_iters = 200\n",
    "    n_iters = 0\n",
    "    opt = false\n",
    "    tot_time = 0\n",
    "\n",
    "    while (~opt) & (n_iters < max_iters)\n",
    "\n",
    "        n_iters += 1\n",
    "\n",
    "        tot_time += @elapsed mp = run_CG_step(col_gen_data, A, arc_costs, g_data, r_data, rotation_order, gamma)\n",
    "        push!(objs, objective_value(mp[\"m\"]))\n",
    "\n",
    "        next_num_routes = col_gen_data.routes.routes_per_crew\n",
    "        next_num_plans = col_gen_data.suppression_plans.plans_per_fire\n",
    "\n",
    "        if (sum(next_num_routes) == sum(current_num_routes)) & (sum(next_num_plans) == sum(current_num_plans))\n",
    "            opt = true\n",
    "        end\n",
    "\n",
    "        current_num_routes = copy(next_num_routes)\n",
    "        current_num_plans = copy(next_num_plans)\n",
    "\n",
    "    end\n",
    "    m, p, d, z, q, oor = full_formulation(true, r_data, c_data, rotation_order, arc_costs, \n",
    "                              progressions, start_perims, BETA, gamma)\n",
    "    optimize!(m)\n",
    "    \n",
    "    m2, p, d, z, q, oor = full_formulation(false, r_data, c_data, rotation_order, arc_costs, \n",
    "                              progressions, start_perims, BETA, 0)\n",
    "    optimize!(m2)\n",
    "    \n",
    "    pb = master_problem(col_gen_data.routes, col_gen_data.suppression_plans, r_data, rotation_order, gamma, true)\n",
    "    optimize!(pb[\"m\"])\n",
    "    pct_gap_30 = 100 * (objs[30] / objs[length(objs)] - 1)\n",
    "\n",
    "    pb_true_gap = 100 * (objective_value(pb[\"m\"]) / objective_value(m) - 1)\n",
    "    cg_lr_gap = 100 * (objs[length(objs)] / objective_value(m2) - 1)\n",
    "    \n",
    "    println(join([gamma, n_iters, tot_time, maximum(current_num_routes), pct_gap_30, pb_true_gap, cg_lr_gap], ' '))\n",
    "end"
   ]
  },
  {
   "cell_type": "code",
   "execution_count": 110,
   "id": "bc8b1fbf",
   "metadata": {},
   "outputs": [],
   "source": [
    "a = zeros(NUM_FIRES, NUM_TIME_PERIODS)\n",
    "for g=1:NUM_FIRES\n",
    "    for t=1:NUM_TIME_PERIODS\n",
    "        for c=1:NUM_CREWS\n",
    "            for r=1:col_gen_data.routes.routes_per_crew[c]-1\n",
    "                a[g, t] += value(pb[\"route\"][c, r]) * col_gen_data.routes.fires_fought[c, r, g, t] \n",
    "            end\n",
    "        end\n",
    "    end\n",
    "end"
   ]
  },
  {
   "cell_type": "code",
   "execution_count": 111,
   "id": "dbc39133",
   "metadata": {},
   "outputs": [
    {
     "data": {
      "text/plain": [
       "3×14 Matrix{Float64}:\n",
       "  0.0   0.0   0.0  0.0  2.0  1.0  0.0  3.0  8.0  0.0  0.0  0.0  0.0  0.0\n",
       "  0.0  10.0  10.0  7.0  4.0  4.0  9.0  2.0  0.0  1.0  0.0  0.0  0.0  0.0\n",
       " 10.0   0.0   0.0  0.0  0.0  0.0  0.0  0.0  0.0  0.0  0.0  0.0  0.0  0.0"
      ]
     },
     "execution_count": 111,
     "metadata": {},
     "output_type": "execute_result"
    }
   ],
   "source": [
    "a"
   ]
  },
  {
   "cell_type": "code",
   "execution_count": null,
   "id": "8ab9fd67",
   "metadata": {},
   "outputs": [],
   "source": []
  },
  {
   "cell_type": "code",
   "execution_count": 105,
   "id": "7ed60e76",
   "metadata": {},
   "outputs": [
    {
     "data": {
      "text/plain": [
       "67"
      ]
     },
     "execution_count": 105,
     "metadata": {},
     "output_type": "execute_result"
    }
   ],
   "source": [
    "n_iters"
   ]
  },
  {
   "cell_type": "code",
   "execution_count": 106,
   "id": "05b9a6fa",
   "metadata": {},
   "outputs": [
    {
     "data": {
      "text/plain": [
       "1.1510952749095825e6"
      ]
     },
     "execution_count": 106,
     "metadata": {},
     "output_type": "execute_result"
    }
   ],
   "source": [
    "objective_value(mp[\"m\"])"
   ]
  },
  {
   "cell_type": "code",
   "execution_count": 107,
   "id": "6742f08d",
   "metadata": {},
   "outputs": [
    {
     "data": {
      "text/plain": [
       "10-element Vector{Int64}:\n",
       " 43\n",
       " 46\n",
       " 49\n",
       " 39\n",
       " 47\n",
       " 53\n",
       " 40\n",
       " 44\n",
       " 61\n",
       " 44"
      ]
     },
     "execution_count": 107,
     "metadata": {},
     "output_type": "execute_result"
    }
   ],
   "source": [
    "current_num_routes"
   ]
  },
  {
   "cell_type": "code",
   "execution_count": 74,
   "id": "bbb00817",
   "metadata": {},
   "outputs": [
    {
     "data": {
      "text/plain": [
       "([35, 38, 34, 34, 34, 35, 33, 35, 38, 34], [40, 39, 12], 1.1512662246566217e6)"
      ]
     },
     "execution_count": 74,
     "metadata": {},
     "output_type": "execute_result"
    }
   ],
   "source": [
    "mp = run_CG_step(col_gen_data, A, arc_costs, g_data, r_data, rotation_order, 1000)\n",
    "objective_value(mp[\"m\"])"
   ]
  },
  {
   "cell_type": "code",
   "execution_count": 260,
   "id": "8300d883",
   "metadata": {},
   "outputs": [
    {
     "data": {
      "text/plain": [
       "([42, 36, 40, 35, 40, 40, 39, 32, 55, 43], [55, 34, 12], 1.1512388539353136e6)"
      ]
     },
     "execution_count": 260,
     "metadata": {},
     "output_type": "execute_result"
    }
   ],
   "source": [
    "routes.routes_per_crew, suppression_plans.plans_per_fire, objective_value(mp[\"m\"])"
   ]
  },
  {
   "cell_type": "code",
   "execution_count": 309,
   "id": "56c560fc",
   "metadata": {},
   "outputs": [],
   "source": [
    "a = zeros(NUM_FIRES, NUM_TIME_PERIODS)\n",
    "for g=1:NUM_FIRES\n",
    "    for t=1:NUM_TIME_PERIODS\n",
    "        for c=1:NUM_CREWS\n",
    "            for r=1:routes.routes_per_crew[c]-1\n",
    "                a[g, t] += value(mp[\"route\"][c, r]) * routes.fires_fought[c, r, g, t] \n",
    "            end\n",
    "        end\n",
    "    end\n",
    "end"
   ]
  },
  {
   "cell_type": "code",
   "execution_count": 308,
   "id": "656854ba",
   "metadata": {},
   "outputs": [
    {
     "name": "stdout",
     "output_type": "stream",
     "text": [
      "(1, 23)\n",
      "(2, 23)\n",
      "(2, 28)\n",
      "(3, 35)\n",
      "(4, 23)\n",
      "(4, 26)\n",
      "(5, 27)\n",
      "(6, 23)\n",
      "(7, 23)\n",
      "(8, 21)\n",
      "(9, 26)\n",
      "(9, 28)\n",
      "(10, 33)\n",
      "(10, 38)\n"
     ]
    }
   ],
   "source": [
    "for c=1:NUM_CREWS\n",
    "    for r=1:routes.routes_per_crew[c]-1\n",
    "        if value(mp[\"route\"][c, r]) > 0.001\n",
    "            println((c, r))\n",
    "        end\n",
    "    end\n",
    "end"
   ]
  },
  {
   "cell_type": "code",
   "execution_count": 316,
   "id": "8f31a34b",
   "metadata": {},
   "outputs": [
    {
     "data": {
      "text/plain": [
       "2.00453851178113e6"
      ]
     },
     "execution_count": 316,
     "metadata": {},
     "output_type": "execute_result"
    }
   ],
   "source": [
    "pb = master_problem(routes, suppression_plans, r_data, rotation_order, 10000, true)\n",
    "optimize!(pb[\"m\"])\n",
    "objective_value(pb[\"m\"])"
   ]
  },
  {
   "cell_type": "code",
   "execution_count": 318,
   "id": "d63ac244",
   "metadata": {},
   "outputs": [],
   "source": [
    "a = zeros(NUM_FIRES, NUM_TIME_PERIODS)\n",
    "for g=1:NUM_FIRES\n",
    "    for t=1:NUM_TIME_PERIODS\n",
    "        for c=1:NUM_CREWS\n",
    "            for r=1:routes.routes_per_crew[c]-1\n",
    "                a[g, t] += value(pb[\"route\"][c, r]) * routes.fires_fought[c, r, g, t] \n",
    "            end\n",
    "        end\n",
    "    end\n",
    "end"
   ]
  },
  {
   "cell_type": "code",
   "execution_count": 321,
   "id": "212f04c7",
   "metadata": {},
   "outputs": [
    {
     "data": {
      "text/plain": [
       "2.0"
      ]
     },
     "execution_count": 321,
     "metadata": {},
     "output_type": "execute_result"
    }
   ],
   "source": [
    "sum(value.(pb[\"q\"]))"
   ]
  },
  {
   "cell_type": "code",
   "execution_count": 319,
   "id": "cb433c17",
   "metadata": {},
   "outputs": [
    {
     "data": {
      "text/plain": [
       "3×14 Matrix{Float64}:\n",
       " 0.0  0.0   0.0   0.0  0.0  1.0  1.0  2.0  1.0  1.0  1.0  0.0  0.0  0.0\n",
       " 0.0  3.0  10.0  10.0  9.0  1.0  0.0  0.0  1.0  1.0  0.0  0.0  0.0  0.0\n",
       " 9.0  7.0   0.0   0.0  0.0  0.0  0.0  0.0  0.0  0.0  0.0  0.0  0.0  0.0"
      ]
     },
     "execution_count": 319,
     "metadata": {},
     "output_type": "execute_result"
    }
   ],
   "source": [
    "a"
   ]
  },
  {
   "cell_type": "code",
   "execution_count": 200,
   "id": "de21e5c7",
   "metadata": {},
   "outputs": [
    {
     "ename": "LoadError",
     "evalue": "ArgumentError: Indexing with `:` is not supported by Containers.SparseAxisArray",
     "output_type": "error",
     "traceback": [
      "ArgumentError: Indexing with `:` is not supported by Containers.SparseAxisArray",
      "",
      "Stacktrace:",
      "  [1] _colon_error(::Colon)",
      "    @ JuMP.Containers C:\\Users\\mit\\.julia\\packages\\JuMP\\lnUbA\\src\\Containers\\SparseAxisArray.jl:94",
      "  [2] _colon_error(#unused#::Int64, args::Function)",
      "    @ JuMP.Containers C:\\Users\\mit\\.julia\\packages\\JuMP\\lnUbA\\src\\Containers\\SparseAxisArray.jl:91",
      "  [3] getindex(::JuMP.Containers.SparseAxisArray{VariableRef, 2, Tuple{Int64, Int64}}, ::Int64, ::Function)",
      "    @ JuMP.Containers C:\\Users\\mit\\.julia\\packages\\JuMP\\lnUbA\\src\\Containers\\SparseAxisArray.jl:129",
      "  [4] (::var\"#481#482\"{Int64, Int64})(c::Int64)",
      "    @ Main .\\none:0",
      "  [5] MappingRF",
      "    @ .\\reduce.jl:95 [inlined]",
      "  [6] _foldl_impl(op::Base.MappingRF{var\"#481#482\"{Int64, Int64}, Base.BottomRF{typeof(Base.add_sum)}}, init::Base._InitialValue, itr::UnitRange{Int64})",
      "    @ Base .\\reduce.jl:58",
      "  [7] foldl_impl",
      "    @ .\\reduce.jl:48 [inlined]",
      "  [8] mapfoldl_impl",
      "    @ .\\reduce.jl:44 [inlined]",
      "  [9] #mapfoldl#244",
      "    @ .\\reduce.jl:162 [inlined]",
      " [10] mapfoldl",
      "    @ .\\reduce.jl:162 [inlined]",
      " [11] #mapreduce#248",
      "    @ .\\reduce.jl:289 [inlined]",
      " [12] mapreduce",
      "    @ .\\reduce.jl:289 [inlined]",
      " [13] #sum#251",
      "    @ .\\reduce.jl:503 [inlined]",
      " [14] sum",
      "    @ .\\reduce.jl:503 [inlined]",
      " [15] #sum#252",
      "    @ .\\reduce.jl:532 [inlined]",
      " [16] sum(a::Base.Generator{UnitRange{Int64}, var\"#481#482\"{Int64, Int64}})",
      "    @ Base .\\reduce.jl:532",
      " [17] top-level scope",
      "    @ In[200]:4",
      " [18] eval",
      "    @ .\\boot.jl:373 [inlined]",
      " [19] include_string(mapexpr::typeof(REPL.softscope), mod::Module, code::String, filename::String)",
      "    @ Base .\\loading.jl:1196"
     ]
    }
   ],
   "source": [
    "a = zeros(NUM_FIRES, NUM_TIME_PERIODS)\n",
    "for g=1:NUM_FIRES\n",
    "    for t=1:NUM_TIME_PERIODS\n",
    "        for \n",
    "        a[g, t] += sum(value(mp[\"route\"][c, :]) * routes.fires_fought[c, r, g, t] for c=1:NUM_CREWS, r=1:routes.routes_per_crew[c])\n",
    "    end\n",
    "end"
   ]
  },
  {
   "cell_type": "code",
   "execution_count": 864,
   "id": "601fc38a",
   "metadata": {},
   "outputs": [
    {
     "data": {
      "text/plain": [
       "0"
      ]
     },
     "execution_count": 864,
     "metadata": {},
     "output_type": "execute_result"
    }
   ],
   "source": [
    "sum(routes.fires_fought[:, 1, :, :])"
   ]
  },
  {
   "cell_type": "code",
   "execution_count": 1111,
   "id": "c4d623f4",
   "metadata": {},
   "outputs": [
    {
     "data": {
      "text/plain": [
       "2-dimensional DenseAxisArray{Float64,2,...} with index sets:\n",
       "    Dimension 1, Base.OneTo(10)\n",
       "    Dimension 2, 0:14\n",
       "And data, a 10×15 Matrix{Float64}:\n",
       " 0.0  0.0  0.0    0.0    0.0  0.0  …  0.0  0.0  0.0  0.0  0.0  0.0  0.0\n",
       " 0.0  0.0  0.0    0.0    0.0  0.0     0.0  0.0  0.0  0.0  0.0  0.0  0.0\n",
       " 0.0  0.0  0.0    0.0    0.0  0.0     0.0  0.0  0.0  0.0  0.0  0.0  0.0\n",
       " 0.0  0.0  0.0    0.0    0.0  0.0     0.0  0.0  0.0  0.0  0.0  0.0  0.0\n",
       " 0.0  0.0  0.0    0.0    0.0  0.0     0.0  0.0  0.0  0.0  0.0  0.0  0.0\n",
       " 0.0  0.0  0.0    0.0    0.0  0.0  …  0.0  0.0  0.0  0.0  0.0  0.0  0.0\n",
       " 0.0  0.0  0.0    0.0    0.0  0.0     0.0  0.0  0.0  0.0  0.0  0.0  0.0\n",
       " 0.0  0.0  0.0    0.0    0.0  0.0     0.0  0.0  0.0  0.0  0.0  0.0  0.0\n",
       " 0.0  0.0  0.0    0.0    0.0  0.0     0.0  0.0  0.0  0.0  0.0  0.0  0.0\n",
       " 0.0  0.0  0.0  501.153  0.0  0.0     0.0  0.0  0.0  0.0  0.0  0.0  0.0"
      ]
     },
     "execution_count": 1111,
     "metadata": {},
     "output_type": "execute_result"
    }
   ],
   "source": [
    "eta"
   ]
  },
  {
   "cell_type": "code",
   "execution_count": 114,
   "id": "d7a1a210",
   "metadata": {},
   "outputs": [
    {
     "data": {
      "text/plain": [
       "10×15 BitMatrix:\n",
       " 1  0  0  0  0  0  0  0  0  0  0  0  0  0  0\n",
       " 1  0  0  0  0  0  0  0  0  0  0  0  0  0  0\n",
       " 1  0  0  0  0  0  0  0  0  0  0  0  0  0  0\n",
       " 1  0  0  0  0  0  0  0  0  0  0  0  0  0  0\n",
       " 0  0  0  0  0  0  0  0  0  0  0  0  0  0  0\n",
       " 0  1  0  0  0  0  0  0  0  0  0  0  0  0  0\n",
       " 0  1  0  0  0  0  0  1  0  0  0  0  0  0  0\n",
       " 0  1  0  0  0  0  0  1  0  0  0  1  0  1  0\n",
       " 0  0  1  0  0  0  1  0  0  0  0  0  0  0  0\n",
       " 0  0  0  1  0  0  0  0  0  0  0  0  1  0  0"
      ]
     },
     "execution_count": 114,
     "metadata": {},
     "output_type": "execute_result"
    }
   ],
   "source": [
    "routes.out_of_reg[:, 1, :]"
   ]
  },
  {
   "cell_type": "code",
   "execution_count": 42,
   "id": "11e1f9f4",
   "metadata": {},
   "outputs": [],
   "source": [
    "crew_1_arcs = [i for i=1:length(A[:, 1]) if (value(z[i]) > 0.5) & (A[i, 1] == 1)];\n",
    "cost, ff, oor = get_route_stats(crew_1_arcs, A, arc_costs);"
   ]
  },
  {
   "cell_type": "code",
   "execution_count": 170,
   "id": "950b55a9",
   "metadata": {},
   "outputs": [
    {
     "data": {
      "text/plain": [
       "3×14 Matrix{Float64}:\n",
       " 0.0  0.0  0.0  0.0  3.0  7.0  8.0         8.0  8.0  5.0  3.0  3.0  4.0  4.0\n",
       " 0.0  7.0  9.0  9.0  4.0  0.0  4.11765e-7  0.0  0.0  1.0  1.0  2.0  0.0  3.0\n",
       " 9.0  2.0  0.0  0.0  0.0  0.0  0.0         0.0  0.0  0.0  1.0  1.0  1.0  1.0"
      ]
     },
     "execution_count": 170,
     "metadata": {},
     "output_type": "execute_result"
    }
   ],
   "source": [
    "value.(l) / LINE_PER_CREW"
   ]
  },
  {
   "cell_type": "code",
   "execution_count": 34,
   "id": "a0992d9d",
   "metadata": {},
   "outputs": [
    {
     "data": {
      "text/plain": [
       "3×14 Matrix{Float64}:\n",
       " 0.0  0.0  0.0  0.0  3.0  7.0  8.0  8.0  8.0  6.0  2.0  2.0  2.0  6.0\n",
       " 0.0  7.0  9.0  9.0  4.0  0.0  0.0  0.0  0.0  0.0  2.0  1.0  2.0  0.0\n",
       " 9.0  2.0  0.0  0.0  0.0  0.0  0.0  0.0  0.0  0.0  0.0  1.0  0.0  0.0"
      ]
     },
     "execution_count": 34,
     "metadata": {},
     "output_type": "execute_result"
    }
   ],
   "source": [
    "value.(l) / LINE_PER_CREW"
   ]
  },
  {
   "cell_type": "code",
   "execution_count": 33,
   "id": "5b684b30",
   "metadata": {},
   "outputs": [
    {
     "data": {
      "text/plain": [
       "2380.0"
      ]
     },
     "execution_count": 33,
     "metadata": {},
     "output_type": "execute_result"
    }
   ],
   "source": [
    "(sum(get_arc_costs(global_data, A2, Dict(\"cost_per_mile\"=>10, \"rest_violation\" => ones(NUM_CREWS, NUM_TIME_PERIODS)))) - \n",
    "    sum(get_arc_costs(global_data, A2, Dict(\"cost_per_mile\"=>10))))"
   ]
  },
  {
   "cell_type": "code",
   "execution_count": 9,
   "id": "f8087d4b",
   "metadata": {},
   "outputs": [
    {
     "ename": "LoadError",
     "evalue": "syntax: incomplete: \"function\" at In[9]:1 requires end",
     "output_type": "error",
     "traceback": [
      "syntax: incomplete: \"function\" at In[9]:1 requires end",
      "",
      "Stacktrace:",
      " [1] top-level scope",
      "   @ In[9]:1",
      " [2] eval",
      "   @ .\\boot.jl:373 [inlined]",
      " [3] include_string(mapexpr::typeof(REPL.softscope), mod::Module, code::String, filename::String)",
      "   @ Base .\\loading.jl:1196"
     ]
    }
   ],
   "source": [
    "function get_out_of_region_stats(region, arcs_used, region_data)\n",
    "    \"\"\"\n",
    "    \"\"\"\n",
    "    \n",
    "    # restrict to the arcs that exited the given region\n",
    "    out_of_region_ixs = [i for i in length(arcs_used[:, 1]) if arcs_used[i, 10] == region]\n",
    "    out_of_region_arcs = arcs_used[out_of_region_ixs, :]\n",
    "    \n",
    "    # get the crews associated with this region\n",
    "    crews = [i for i in 1:length(region_data.crew_regions) if region_data.crew_regions[i] == region]\n",
    "    \n",
    "    # initialize output array of indicator variables for crews exiting region\n",
    "    out_array = zeros(length(crews), NUM_TIME_PERIODS)\n",
    "    \n",
    "    # for each crew in the region\n",
    "    for i in 1:length(crews)\n",
    "        \n",
    "        # restrict to the arcs involving this crew\n",
    "        crew_ixs = [j for j in length(out_of_region_arcs[:, 1]) if arcs_used[j, 1] == crews[i]]\n",
    "        crew_arcs = out_of_region_arcs[crew_ixs, :]\n",
    "        \n",
    "        # get the times of rotation\n",
    "        rotation_times = [t in crew_arcs[:, 6] ? 1 : 0 for t in 1:NUM_TIME_PERIODS]\n",
    "        \n",
    "        # update output for crew\n",
    "        out_array[i, :] = rotation_times\n",
    "        \n",
    "    end\n",
    "    \n",
    "    return out_array\n",
    "end"
   ]
  }
 ],
 "metadata": {
  "kernelspec": {
   "display_name": "Julia 1.7.1",
   "language": "julia",
   "name": "julia-1.7"
  },
  "language_info": {
   "file_extension": ".jl",
   "mimetype": "application/julia",
   "name": "julia",
   "version": "1.7.1"
  }
 },
 "nbformat": 4,
 "nbformat_minor": 5
}
