{
 "cells": [
  {
   "cell_type": "code",
   "execution_count": 1,
   "id": "34567121",
   "metadata": {},
   "outputs": [
    {
     "name": "stdout",
     "output_type": "stream",
     "text": [
      "\r\n",
      "--------------------------------------------\r\n",
      "Warning: your license will expire in 9 days\r\n",
      "--------------------------------------------\r\n",
      "\r\n",
      "Academic license - for non-commercial use only\r\n"
     ]
    },
    {
     "data": {
      "text/plain": [
       "Gurobi.Env(Ptr{Nothing} @0x0000000067d35590, false, 0)"
      ]
     },
     "execution_count": 1,
     "metadata": {},
     "output_type": "execute_result"
    }
   ],
   "source": [
    "using DataFrames, CSV, DelimitedFiles, JuMP, Gurobi\n",
    "const GRB_ENV = Gurobi.Env()"
   ]
  },
  {
   "cell_type": "code",
   "execution_count": 2,
   "id": "81a26ef6",
   "metadata": {},
   "outputs": [
    {
     "data": {
      "text/plain": [
       "2"
      ]
     },
     "execution_count": 2,
     "metadata": {},
     "output_type": "execute_result"
    }
   ],
   "source": [
    "NUM_CREWS = 10                \n",
    "BREAK_LENGTH = 2       # how long at base to be considered \"rested\"\n",
    "\n",
    "# tradeoffs\n",
    "BETA = 100             # cost of one area unit burned / cost of mile traveled\n",
    "ALPHA = 200            # cost of crew-day of suppression / cost of mile traveled\n",
    "LINE_PER_CREW = 17     # how much perimeter prevented per crew per time period\n",
    "\n",
    "FIRE_CODE = 1\n",
    "BASE_CODE = 2"
   ]
  },
  {
   "cell_type": "code",
   "execution_count": 3,
   "id": "d08d7c6e",
   "metadata": {},
   "outputs": [],
   "source": [
    "struct GlobalData\n",
    "    \n",
    "    ff_dist::Matrix{Float64}\n",
    "    bf_dist::Matrix{Float64}\n",
    "    ff_tau::Matrix{Int64}\n",
    "    bf_tau::Matrix{Int64}\n",
    "    \n",
    "end"
   ]
  },
  {
   "cell_type": "code",
   "execution_count": 4,
   "id": "9d8be85a",
   "metadata": {},
   "outputs": [],
   "source": [
    "struct RegionData\n",
    "    \n",
    "    crew_regions::Vector{Int64}\n",
    "    fire_regions::Vector{Int64}\n",
    "    \n",
    "end\n",
    "\n",
    "mutable struct RouteData\n",
    "    \n",
    "    routes_per_crew::Vector{Int64} # could add in length\n",
    "    route_costs::Matrix{Real}\n",
    "    \n",
    "end\n",
    "\n",
    "mutable struct SuppressionPlanData\n",
    "    \n",
    "    plans_per_fire::Vector{Int64} # could add in length\n",
    "    plan_costs::Matrix{Real}\n",
    "    \n",
    "end"
   ]
  },
  {
   "cell_type": "code",
   "execution_count": 5,
   "id": "f7447e81",
   "metadata": {},
   "outputs": [
    {
     "name": "stdout",
     "output_type": "stream",
     "text": [
      "10\n"
     ]
    }
   ],
   "source": [
    "# set path to all input data\n",
    "in_path = \"data/processed\"\n",
    "\n",
    "# get inital fire perimeters and no-suppression progression parameters\n",
    "M = readdlm(in_path * \"/sample_growth_patterns.csv\", ',')\n",
    "start_perims = M[:, 1]\n",
    "progressions = M[:, 2:15]\n",
    "\n",
    "NUM_TIME_PERIODS = size(M)[2] - 1 \n",
    "NUM_FIRES = size(M)[1]       \n",
    "\n",
    "# get distance from fire f to fire g \n",
    "fire_dists =  readdlm(in_path * \"/fire_distances.csv\", ',')\n",
    "\n",
    "# get distance from base c to fire g (NUM_CREWS-by-NUM_FIRES)\n",
    "base_fire_dists =  readdlm(in_path * \"/base_fire_distances.csv\", ',')\n",
    "\n",
    "# initialize travel times (number of periods) from fire f to fire g\n",
    "tau = convert(Array{Int}, ones(size(fire_dists)))\n",
    "\n",
    "# initialize number of periods to travel from base c to fire g (NUM_CREWS-by-NUM_FIRES)\n",
    "tau_base_to_fire = convert(Array{Int}, ones((size(base_fire_dists))))\n",
    "\n",
    "global_data = GlobalData(fire_dists, base_fire_dists, tau, tau_base_to_fire)\n",
    "\n",
    "# read intial crew statuses (location, period by which they must rest)\n",
    "# (-1 in current_fire means crew is currently at base)\n",
    "# (rested_periods is the amount of time crew has been at base, relevant for completing rest)\n",
    "crew_starts = CSV.read(in_path * \"/sample_crew_starts.csv\", DataFrame)\n",
    "println(size(crew_starts)[1])\n",
    "rest_by = crew_starts[!, \"rest_by\"]\n",
    "current_fire = crew_starts[!, \"current_fire\"]\n",
    "rested_periods = crew_starts[!, \"rested_periods\"];"
   ]
  },
  {
   "cell_type": "code",
   "execution_count": 6,
   "id": "692a9077",
   "metadata": {},
   "outputs": [
    {
     "data": {
      "text/plain": [
       "RegionData([1, 1, 1, 1, 1, 2, 2, 2, 2, 2], [1, 1, 2, 2])"
      ]
     },
     "execution_count": 6,
     "metadata": {},
     "output_type": "execute_result"
    }
   ],
   "source": [
    "rd = RegionData([1, 1, 1, 1, 1, 2, 2, 2, 2, 2], [1, 1, 2, 2])"
   ]
  },
  {
   "cell_type": "code",
   "execution_count": 7,
   "id": "f4b512e5",
   "metadata": {},
   "outputs": [],
   "source": [
    "# crew, from_type, from_ix, to_type, to_ix, from_time, to_time, from_rested, to_rested, exited_region"
   ]
  },
  {
   "cell_type": "code",
   "execution_count": 9,
   "id": "3e851737",
   "metadata": {},
   "outputs": [
    {
     "data": {
      "text/plain": [
       "arc_exits_region (generic function with 1 method)"
      ]
     },
     "execution_count": 9,
     "metadata": {},
     "output_type": "execute_result"
    }
   ],
   "source": [
    "function arc_exits_region(crew, from_type, from_ix, to_type, to_ix, region_data)\n",
    "    \n",
    "    # get the region where the arc originates\n",
    "    from_region = 0\n",
    "    if from_type == FIRE_CODE\n",
    "        from_region = region_data.fire_regions[from_ix]\n",
    "    elseif from_type == BASE_CODE\n",
    "        from_region = region_data.crew_regions[from_ix]\n",
    "    else\n",
    "        throw(DomainError(from_type, \"from_type invalid\"))\n",
    "    end\n",
    "    \n",
    "    # get the region where the arc terminates\n",
    "    to_region = 0\n",
    "    if to_type == FIRE_CODE\n",
    "        to_region = region_data.fire_regions[to_ix]\n",
    "    elseif to_type == BASE_CODE\n",
    "        to_region = region_data.crew_regions[to_ix]\n",
    "    else\n",
    "        throw(DomainError(from_type, \"to_type invalid\"))\n",
    "    end\n",
    "    \n",
    "    # if these are different regions\n",
    "    if from_region != to_region\n",
    "        \n",
    "        # if the crew is leaving its home region\n",
    "        if region_data.crew_regions[crew] == from_region\n",
    "        \n",
    "            # return the region that the arc exited\n",
    "            return from_region\n",
    "        \n",
    "        end\n",
    "        \n",
    "    end\n",
    "    \n",
    "    # otherwise\n",
    "    return 0\n",
    "    \n",
    "end     "
   ]
  },
  {
   "cell_type": "code",
   "execution_count": 10,
   "id": "fcc74d4c",
   "metadata": {},
   "outputs": [],
   "source": [
    "gd = global_data;"
   ]
  },
  {
   "cell_type": "code",
   "execution_count": 11,
   "id": "4e802b81",
   "metadata": {},
   "outputs": [],
   "source": [
    "# get fire-to-fire arcs\n",
    "ff = [[c, FIRE_CODE, f_from, FIRE_CODE, f_to, t_from, t_from + gd.ff_tau[f_to, f_from], rest, rest]\n",
    "      for c=1:NUM_CREWS, f_from=1:NUM_FIRES, f_to=1:NUM_FIRES, t_from=1:NUM_TIME_PERIODS, rest=0:1]\n",
    "ff = copy(reduce(hcat, ff)')\n",
    "\n",
    "# get fire-to-fire arcs from start, based on current crew locations\n",
    "from_start_ff = [[c, FIRE_CODE, current_fire[c], FIRE_CODE, f_to, 0, gd.ff_tau[f_to, current_fire[c]], 0, 0]\n",
    "                  for c=1:NUM_CREWS, f_to=1:NUM_FIRES if current_fire[c] != -1]\n",
    "from_start_ff = copy(reduce(hcat, from_start_ff)')\n",
    "\n",
    "# get base-to-fire arcs\n",
    "rf = [[c, BASE_CODE, c, FIRE_CODE, f_to, t_from, t_from + gd.bf_tau[c, f_to], rest, rest]\n",
    "       for c=1:NUM_CREWS, f_to=1:NUM_FIRES, t_from=1:NUM_TIME_PERIODS, rest=0:1]\n",
    "rf = copy(reduce(hcat, rf)')\n",
    "\n",
    "# get base-to-fire arcs from start\n",
    "from_start_rf = [[c, BASE_CODE, c, FIRE_CODE, f_to, 0, gd.bf_tau[c, f_to], 0, 0]\n",
    "                  for c=1:NUM_CREWS, f_to=1:NUM_FIRES if current_fire[c] == -1]\n",
    "from_start_rf = copy(reduce(hcat, from_start_rf)')\n",
    "\n",
    "# get fire-to-base arcs\n",
    "fr = [[c, FIRE_CODE, f_from, BASE_CODE, c, t_from, t_from + gd.bf_tau[c, f_from], rest, rest]\n",
    "       for c=1:NUM_CREWS, f_from=1:NUM_FIRES, t_from=1:NUM_TIME_PERIODS, rest=0:1]\n",
    "fr = copy(reduce(hcat, fr)')\n",
    "\n",
    "# get fire-to-base arcs from start, based on current crew locations\n",
    "from_start_fr = [[c, FIRE_CODE, current_fire[c], BASE_CODE, c, 0, gd.bf_tau[c, current_fire[c]], 0, 0]\n",
    "                  for c=1:NUM_CREWS if current_fire[c] != -1]\n",
    "from_start_fr = copy(reduce(hcat, from_start_fr)')\n",
    "\n",
    "# get base-to-base arcs\n",
    "rr = [[c, BASE_CODE, c, BASE_CODE, c, t_from, t_from + 1 + (BREAK_LENGTH - 1) * rest, 0, rest]\n",
    "      for c=1:NUM_CREWS, t_from=1:NUM_TIME_PERIODS, rest=0:1]\n",
    "rr = copy(reduce(hcat, rr)')\n",
    "\n",
    "# get base-to-base arcs from start, based on current days rested\n",
    "from_start_rr = [[c, BASE_CODE, c, BASE_CODE, c, 0, \n",
    "                  1 + (BREAK_LENGTH - max(rested_periods[c], 0) - 1) * rest, 0, rest] \n",
    "                  for c=1:NUM_CREWS, rest=0:1 if current_fire[c] == -1]\n",
    "from_start_rr = copy(reduce(hcat, from_start_rr)')\n",
    "\n",
    "A = vcat(ff, from_start_ff, rf, from_start_rf, fr, from_start_fr, rr, from_start_rr)\n",
    "\n",
    "out_of_region = [arc_exits_region(A[i, 1], A[i, 2], A[i, 3], A[i, 4], A[i, 5], rd) \n",
    "                 for i in 1:length(A[:, 1])]\n",
    "A = hcat(A, out_of_region);"
   ]
  },
  {
   "cell_type": "code",
   "execution_count": 12,
   "id": "63e7f29a",
   "metadata": {},
   "outputs": [
    {
     "data": {
      "text/plain": [
       "get_distance (generic function with 1 method)"
      ]
     },
     "execution_count": 12,
     "metadata": {},
     "output_type": "execute_result"
    }
   ],
   "source": [
    "function get_distance(from_type, from_ix, to_type, to_ix, fire_fire, base_fire)\n",
    "    \n",
    "    dist = 0\n",
    "    \n",
    "    # if fire to fire\n",
    "    if from_type == FIRE_CODE & to_type == FIRE_CODE\n",
    "        dist = fire_fire[from_ix, to_ix]\n",
    "    \n",
    "    # if fire to base\n",
    "    elseif from_type == FIRE_CODE & to_type == BASE_CODE\n",
    "        dist = base_fire[to_ix, from_ix]\n",
    "    \n",
    "    # if base to fire\n",
    "    elseif from_type == BASE_CODE & to_type == FIRE_CODE\n",
    "        dist = base_fire[from_ix, to_ix]\n",
    "        \n",
    "    # otherwise dist still 0\n",
    "    end\n",
    "    \n",
    "    return dist\n",
    "end "
   ]
  },
  {
   "cell_type": "code",
   "execution_count": 13,
   "id": "c127417f",
   "metadata": {},
   "outputs": [
    {
     "data": {
      "text/plain": [
       "get_arc_costs (generic function with 1 method)"
      ]
     },
     "execution_count": 13,
     "metadata": {},
     "output_type": "execute_result"
    }
   ],
   "source": [
    "function get_arc_costs(gd, arc_matrix, cost_param_dict)\n",
    "    \n",
    "    # initialize costs to 0\n",
    "    costs = zeros(length(arc_matrix[:, 1]))\n",
    "    \n",
    "    # if there is travel cost per mile\n",
    "    if \"cost_per_mile\" in keys(cost_param_dict)\n",
    "        \n",
    "        # find the miles for each arc\n",
    "        miles_per_arc =  [get_distance(arc_matrix[i, 2], arc_matrix[i, 3], \n",
    "                                       arc_matrix[i, 4], arc_matrix[i, 5], \n",
    "                                       gd.ff_dist, gd.bf_dist) for i in 1:length(arc_matrix[:, 1])]\n",
    "        # add to costs\n",
    "        costs = costs .+ (cost_param_dict[\"cost_per_mile\"] * miles_per_arc)\n",
    "    end\n",
    "    \n",
    "    # if there are rest violations\n",
    "    if \"rest_violation\" in keys(cost_param_dict)\n",
    "        \n",
    "        # find the rest violation scores\n",
    "        rest_violation_matrix = cost_param_dict[\"rest_violation\"]\n",
    "        rest_violations = [(arc_matrix[i, 8] == 0) & (arc_matrix[i, 6] > 0) ? \n",
    "                           rest_violation_matrix[arc_matrix[i, 1], arc_matrix[i, 6]] : 0\n",
    "                           for i in 1:length(arc_matrix[:, 1])]\n",
    "        \n",
    "        # add to costs\n",
    "        costs = costs .+ rest_violations\n",
    "    end\n",
    "    \n",
    "    if \"fight_fire\" in keys(cost_param_dict)\n",
    "        costs = costs .+ [(arc_matrix[i, 4] == FIRE_CODE) ? cost_param_dict[\"fight_fire\"] : 0\n",
    "                          for i in 1:length(arc_matrix[:, 1])]\n",
    "    end\n",
    "    \n",
    "    return costs\n",
    "end"
   ]
  },
  {
   "cell_type": "code",
   "execution_count": 14,
   "id": "413223fc",
   "metadata": {},
   "outputs": [
    {
     "data": {
      "text/plain": [
       "is_one (generic function with 1 method)"
      ]
     },
     "execution_count": 14,
     "metadata": {},
     "output_type": "execute_result"
    }
   ],
   "source": [
    "function positive(x)\n",
    "    \n",
    "    if x > 0\n",
    "        return 1\n",
    "    end\n",
    "    \n",
    "    return 0\n",
    "end\n",
    "\n",
    "function is_one(x)\n",
    "    \n",
    "    if x == 1\n",
    "        return 1\n",
    "    end\n",
    "    \n",
    "    return 0\n",
    "end"
   ]
  },
  {
   "cell_type": "code",
   "execution_count": 15,
   "id": "c6f31a82",
   "metadata": {},
   "outputs": [
    {
     "data": {
      "text/plain": [
       "get_rest_penalties (generic function with 1 method)"
      ]
     },
     "execution_count": 15,
     "metadata": {},
     "output_type": "execute_result"
    }
   ],
   "source": [
    "# should return matrix indexed by crew, time, \n",
    "function get_rest_penalties(rest_by_periods, lambda, accounting_func)\n",
    "    \n",
    "    penalties = zeros(NUM_CREWS, NUM_TIME_PERIODS)\n",
    "    \n",
    "    for c in 1:NUM_CREWS\n",
    "        penalties[c, :] = [lambda * accounting_func(t - rest_by_periods[c]) \n",
    "                           for t in 1:NUM_TIME_PERIODS]\n",
    "    end\n",
    "    \n",
    "    return penalties    \n",
    "end"
   ]
  },
  {
   "cell_type": "code",
   "execution_count": 16,
   "id": "39408365",
   "metadata": {},
   "outputs": [],
   "source": [
    "rest_pen = get_rest_penalties(rest_by, 99999, positive);"
   ]
  },
  {
   "cell_type": "code",
   "execution_count": 17,
   "id": "bb2c2f80",
   "metadata": {},
   "outputs": [],
   "source": [
    "cost_params = Dict(\"cost_per_mile\"=> 1, \"rest_violation\" => rest_pen, \"fight_fire\" => ALPHA)\n",
    "arc_costs = get_arc_costs(global_data, A, cost_params);"
   ]
  },
  {
   "cell_type": "code",
   "execution_count": 18,
   "id": "0b131006",
   "metadata": {},
   "outputs": [],
   "source": [
    "struct KeyArcIndices\n",
    "    \n",
    "    # fire flow data\n",
    "    f_out::Array{Vector{Int64}}\n",
    "    f_in::Array{Vector{Int64}}\n",
    "    \n",
    "    # base flow data\n",
    "    b_out::Array{Vector{Int64}}\n",
    "    b_in::Array{Vector{Int64}}\n",
    "    \n",
    "    # total crews suppressing each fire\n",
    "    supp_fire::Array{Vector{Int64}}\n",
    "    \n",
    "    # start constraints\n",
    "    start::Array{Vector{Int64}}\n",
    "    \n",
    "    # assignments out of region\n",
    "    out_of_region::Array{Vector{Int64}}\n",
    "    \n",
    "end "
   ]
  },
  {
   "cell_type": "code",
   "execution_count": 26,
   "id": "846c1e8f",
   "metadata": {},
   "outputs": [
    {
     "data": {
      "text/plain": [
       "define_network_constraint_data (generic function with 1 method)"
      ]
     },
     "execution_count": 26,
     "metadata": {},
     "output_type": "execute_result"
    }
   ],
   "source": [
    "function define_network_constraint_data(arcs)\n",
    "    \n",
    "    # shorten some global variable names\n",
    "    C = NUM_CREWS\n",
    "    G = NUM_FIRES\n",
    "    T = NUM_TIME_PERIODS\n",
    "    \n",
    "    # get number of arcs\n",
    "    n_arcs = length(arcs[:, 1])\n",
    "      \n",
    "    ## flow balance ##\n",
    "    \n",
    "    # initialize arrays of vectors for flow balance\n",
    "    f_out = Array{Vector{Int64}}(undef, C, G, T, 2)\n",
    "    f_in = Array{Vector{Int64}}(undef, C, G, T, 2)\n",
    "    b_out = Array{Vector{Int64}}(undef, C, T, 2)\n",
    "    b_in = Array{Vector{Int64}}(undef, C, T, 2)\n",
    "    start = Array{Vector{Int64}}(undef, C)\n",
    "    out_of_region = Array{Vector{Int64}}(undef, C, T)\n",
    "    \n",
    "    # for each crew\n",
    "    for crew in 1:C\n",
    "        \n",
    "        # get indices of this crew's arcs only\n",
    "        crew_ixs = [i for i in 1:n_arcs if arcs[i, 1] == crew]\n",
    "        \n",
    "        # get time 0 indices\n",
    "        start[crew] = [i for i in crew_ixs if arcs[i, 6] == 0]\n",
    "        \n",
    "        # for each time period\n",
    "        for tm in 1:T\n",
    "            \n",
    "            # get indices for out of region assignments\n",
    "            out_of_region[crew, tm] = [i for i in crew_ixs if\n",
    "                                       (arcs[i, 6] == tm) &\n",
    "                                       (arcs[i, 10] > 0)\n",
    "                                      ]\n",
    "            \n",
    "            # for each rest state\n",
    "            for rest in 1:2\n",
    "                \n",
    "                # get arcs leaving crew base at this time with this rest\n",
    "                b_out[crew, tm, rest] = [i for i in crew_ixs if\n",
    "                                         (arcs[i, 2] == BASE_CODE) &\n",
    "                                         (arcs[i, 6] == tm) &\n",
    "                                         (arcs[i, 8] == rest-1)\n",
    "                                        ]\n",
    "                \n",
    "                # get arcs entering crew base at this time with this rest\n",
    "                b_in[crew, tm, rest] = [i for i in crew_ixs if\n",
    "                                        (arcs[i, 4] == BASE_CODE) &\n",
    "                                        (arcs[i, 7] == tm) &\n",
    "                                        (arcs[i, 9] == rest-1)\n",
    "                                       ]\n",
    "                # for each fire\n",
    "                for fire in 1:G\n",
    "                    \n",
    "                    # get arcs where this crew leaves this fire at this time\n",
    "                    # with this rest state\n",
    "                    f_out[crew, fire, tm, rest] = [i for i in crew_ixs if\n",
    "                                                   (arcs[i, 2] == FIRE_CODE) &\n",
    "                                                   (arcs[i, 3] == fire) &\n",
    "                                                   (arcs[i, 6] == tm) &\n",
    "                                                   (arcs[i, 8] == rest-1)\n",
    "                                                   ]\n",
    "                    \n",
    "                    # get arcs where this crew enters this fire at this time\n",
    "                    # with this rest state\n",
    "                    f_in[crew, fire, tm, rest] = [i for i in crew_ixs if\n",
    "                                                  (arcs[i, 4] == FIRE_CODE) &\n",
    "                                                  (arcs[i, 5] == fire) &\n",
    "                                                  (arcs[i, 7] == tm) &\n",
    "                                                  (arcs[i, 9] == rest-1)\n",
    "                                                  ]\n",
    "                end\n",
    "            end\n",
    "        end\n",
    "    end\n",
    "    \n",
    "    ## linking constraints ##\n",
    "    linking = Array{Vector{Int64}}(undef, G, T)\n",
    "    for fire in 1:G\n",
    "        for tm in 1:T\n",
    "            \n",
    "            # we count the crew as working *where they arrived* during this timestep\n",
    "            linking[fire, tm] = [i for i in 1:n_arcs if (arcs[i, 4] == FIRE_CODE) &\n",
    "                                                        (arcs[i, 5] == fire) &\n",
    "                                                        (arcs[i, 7] == tm)]\n",
    "        end\n",
    "    end\n",
    "    \n",
    "    \n",
    "    return KeyArcIndices(f_out, f_in, b_out, b_in, linking, start, out_of_region)\n",
    "end"
   ]
  },
  {
   "cell_type": "code",
   "execution_count": 29,
   "id": "5f1302a9",
   "metadata": {},
   "outputs": [
    {
     "data": {
      "text/plain": [
       "full_formulation (generic function with 1 method)"
      ]
     },
     "execution_count": 29,
     "metadata": {},
     "output_type": "execute_result"
    }
   ],
   "source": [
    "function full_formulation(integer_routes, constraint_data, costs, progs, perims, beta)\n",
    "    \n",
    "    # get number of arcs\n",
    "    n_arcs = length(costs)\n",
    "    \n",
    "    # shorten some global variable names\n",
    "    C = NUM_CREWS\n",
    "    G = NUM_FIRES\n",
    "    T = NUM_TIME_PERIODS\n",
    "    \n",
    "    # intialize model\n",
    "    m = Model(() -> Gurobi.Optimizer(GRB_ENV))\n",
    "\n",
    "    # fire suppression plan section\n",
    "    @variable(m, p[g=1:G, t=1:T+1] >= 0)\n",
    "    @variable(m, l[g=1:G, t=1:T] >= 0)\n",
    "    @constraint(m, perim_growth[g=1:G, t=1:T], p[g, t+1] >= progs[g, t] * \n",
    "                                                           (p[g, t] - l[g, t] / 2) - l[g, t] / 2)\n",
    "    @constraint(m, perim_start[g=1:G], p[g, 1] == perims[g])\n",
    "\n",
    "    # routing plan section\n",
    "    if integer_routes\n",
    "        @variable(m, z[1:n_arcs] >= 0, Int)\n",
    "    else\n",
    "        @variable(m, z[1:n_arcs] >= 0)\n",
    "    end\n",
    "\n",
    "\n",
    "    @constraint(m, fire_flow[c=1:C, g=1:G, t=1:T, rest=1:2],\n",
    "\n",
    "            sum(z[constraint_data.f_out[c, g, t, rest]]) ==\n",
    "            sum(z[constraint_data.f_in[c, g, t, rest]])\n",
    "    \n",
    "    )\n",
    "    \n",
    "    @constraint(m, base_flow[c=1:C, t=1:T, rest=1:2],\n",
    "\n",
    "            sum(z[constraint_data.b_out[c, t, rest]]) ==\n",
    "            sum(z[constraint_data.b_in[c, t, rest]])\n",
    "    \n",
    "    )\n",
    "\n",
    "\n",
    "    @constraint(m, linking[g=1:G, t=1:T],\n",
    "\n",
    "        sum(z[constraint_data.supp_fire[g, t]]) >= l[g, t] / LINE_PER_CREW\n",
    "    )\n",
    "\n",
    "    # build start constraint\n",
    "    @constraint(m, start[c=1:C], \n",
    "\n",
    "        sum(z[constraint_data.start[c]]) == 1\n",
    "    )\n",
    "\n",
    "    @objective(m, Min, \n",
    "        beta * (sum(p) - sum(p[1:G, 1])/2 - sum(p[1:G, T+1])/2) + \n",
    "        sum(z .* costs)\n",
    "    )\n",
    "    \n",
    "    return m, p, l, z\n",
    "    \n",
    "end"
   ]
  },
  {
   "cell_type": "code",
   "execution_count": 30,
   "id": "8869bd2a",
   "metadata": {},
   "outputs": [],
   "source": [
    "c_data = define_network_constraint_data(A);"
   ]
  },
  {
   "cell_type": "code",
   "execution_count": 32,
   "id": "ccb8fe8e",
   "metadata": {},
   "outputs": [],
   "source": [
    "m, p, l, z = full_formulation(true, c_data, arc_costs, progressions, start_perims, BETA);"
   ]
  },
  {
   "cell_type": "code",
   "execution_count": 33,
   "id": "c862fa00",
   "metadata": {},
   "outputs": [
    {
     "name": "stdout",
     "output_type": "stream",
     "text": [
      "Gurobi Optimizer version 9.0.3 build v9.0.3rc0 (win64)\r\n",
      "Optimize a model with 1217 rows, 4611 columns and 12039 nonzeros\r\n",
      "Model fingerprint: 0xabb08cba\r\n",
      "Variable types: 87 continuous, 4524 integer (0 binary)\r\n",
      "Coefficient statistics:\r\n",
      "  Matrix range     [6e-02, 4e+00]\r\n",
      "  Objective range  [5e+01, 1e+05]\r\n",
      "  Bounds range     [0e+00, 0e+00]\r\n",
      "  RHS range        [1e+00, 1e+03]\r\n",
      "Presolve removed 247 rows and 812 columns\r\n",
      "Presolve time: 0.24s\r\n",
      "Presolved: 970 rows, 3799 columns, 10216 nonzeros\r\n",
      "Variable types: 14 continuous, 3785 integer (350 binary)\r\n",
      "\r\n",
      "Root relaxation: objective 1.141535e+06, 1428 iterations, 0.02 seconds\r\n",
      "\r\n",
      "    Nodes    |    Current Node    |     Objective Bounds      |     Work\r\n",
      " Expl Unexpl |  Obj  Depth IntInf | Incumbent    BestBd   Gap | It/Node Time\r\n",
      "\r\n",
      "     0     0 1141534.62    0    8          - 1141534.62      -     -    0s\r\n",
      "     0     0 1145634.23    0   13          - 1145634.23      -     -    0s\r\n",
      "H    0     0                    1149202.8761 1145634.23  0.31%     -    0s\r\n",
      "     0     0 1145921.44    0   24 1149202.88 1145921.44  0.29%     -    0s\r\n",
      "     0     0 1145921.44    0    8 1149202.88 1145921.44  0.29%     -    0s\r\n",
      "     0     0 1146604.26    0   20 1149202.88 1146604.26  0.23%     -    0s\r\n",
      "H    0     0                    1148306.5801 1146604.26  0.15%     -    0s\r\n",
      "     0     0 1146971.13    0   12 1148306.58 1146971.13  0.12%     -    0s\r\n",
      "     0     0 1147425.82    0   26 1148306.58 1147425.82  0.08%     -    0s\r\n",
      "     0     0 1147525.77    0   11 1148306.58 1147525.77  0.07%     -    0s\r\n",
      "     0     0 1147525.77    0    7 1148306.58 1147525.77  0.07%     -    0s\r\n",
      "     0     0 1147525.77    0   12 1148306.58 1147525.77  0.07%     -    0s\r\n",
      "     0     0 1147525.77    0   17 1148306.58 1147525.77  0.07%     -    0s\r\n",
      "     0     0 1147525.77    0   20 1148306.58 1147525.77  0.07%     -    0s\r\n",
      "     0     0 1147525.77    0   12 1148306.58 1147525.77  0.07%     -    0s\r\n",
      "     0     0 1147797.59    0   34 1148306.58 1147797.59  0.04%     -    0s\r\n",
      "     0     0 1147821.79    0   31 1148306.58 1147821.79  0.04%     -    0s\r\n",
      "     0     0 1147825.94    0   37 1148306.58 1147825.94  0.04%     -    0s\r\n",
      "     0     0 1147827.15    0   39 1148306.58 1147827.15  0.04%     -    0s\r\n",
      "     0     0 1147827.21    0   39 1148306.58 1147827.21  0.04%     -    0s\r\n",
      "     0     0 1147844.53    0   29 1148306.58 1147844.53  0.04%     -    0s\r\n",
      "     0     0 1147846.39    0   38 1148306.58 1147846.39  0.04%     -    0s\r\n",
      "     0     0 1147846.39    0   37 1148306.58 1147846.39  0.04%     -    0s\r\n",
      "     0     0 1147846.39    0   28 1148306.58 1147846.39  0.04%     -    0s\r\n",
      "     0     0 1147885.97    0   25 1148306.58 1147885.97  0.04%     -    0s\r\n",
      "     0     0 1147885.97    0   27 1148306.58 1147885.97  0.04%     -    0s\r\n",
      "     0     0 1147885.97    0   25 1148306.58 1147885.97  0.04%     -    0s\r\n",
      "     0     0 1148063.79    0    8 1148306.58 1148063.79  0.02%     -    0s\r\n",
      "     0     0 1148063.79    0    8 1148306.58 1148063.79  0.02%     -    0s\r\n",
      "H    0     0                    1148256.5801 1148063.79  0.02%     -    0s\r\n",
      "     0     0 1148063.79    0    6 1148256.58 1148063.79  0.02%     -    0s\r\n",
      "     0     0 1148175.06    0   13 1148256.58 1148175.06  0.01%     -    0s\r\n",
      "\r\n",
      "Cutting planes:\r\n",
      "  Gomory: 2\r\n",
      "  Cover: 2\r\n",
      "  MIR: 1\r\n",
      "  StrongCG: 1\r\n",
      "  RLT: 2\r\n",
      "\r\n",
      "Explored 1 nodes (2475 simplex iterations) in 0.70 seconds\r\n",
      "Thread count was 8 (of 8 available processors)\r\n",
      "\r\n",
      "Solution count 4: 1.14826e+06 1.14826e+06 1.14831e+06 1.1492e+06 \r\n",
      "\r\n",
      "Optimal solution found (tolerance 1.00e-04)\r\n",
      "Best objective 1.148256580121e+06, best bound 1.148175059038e+06, gap 0.0071%\r\n",
      "\r\n",
      "User-callback calls 366, time in user-callback 0.00 sec\r\n"
     ]
    }
   ],
   "source": [
    "optimize!(m)"
   ]
  },
  {
   "cell_type": "code",
   "execution_count": 34,
   "id": "a0992d9d",
   "metadata": {},
   "outputs": [
    {
     "data": {
      "text/plain": [
       "3×14 Matrix{Float64}:\n",
       " 0.0  0.0  0.0  0.0  3.0  7.0  8.0  8.0  8.0  6.0  2.0  2.0  2.0  6.0\n",
       " 0.0  7.0  9.0  9.0  4.0  0.0  0.0  0.0  0.0  0.0  2.0  1.0  2.0  0.0\n",
       " 9.0  2.0  0.0  0.0  0.0  0.0  0.0  0.0  0.0  0.0  0.0  1.0  0.0  0.0"
      ]
     },
     "execution_count": 34,
     "metadata": {},
     "output_type": "execute_result"
    }
   ],
   "source": [
    "value.(l) / LINE_PER_CREW"
   ]
  },
  {
   "cell_type": "code",
   "execution_count": 19,
   "id": "4eaf9f76",
   "metadata": {},
   "outputs": [
    {
     "data": {
      "text/plain": [
       "0"
      ]
     },
     "execution_count": 19,
     "metadata": {},
     "output_type": "execute_result"
    }
   ],
   "source": [
    "A2 = copy(A)\n",
    "A = 0"
   ]
  },
  {
   "cell_type": "code",
   "execution_count": 20,
   "id": "597b8f5d",
   "metadata": {},
   "outputs": [
    {
     "data": {
      "text/plain": [
       "4524×10 Matrix{Int64}:\n",
       "  1  1   1  1   1   1   2  0  0  0\n",
       "  2  1   1  1   1   1   2  0  0  0\n",
       "  3  1   1  1   1   1   2  0  0  0\n",
       "  4  1   1  1   1   1   2  0  0  0\n",
       "  5  1   1  1   1   1   2  0  0  0\n",
       "  6  1   1  1   1   1   2  0  0  0\n",
       "  7  1   1  1   1   1   2  0  0  0\n",
       "  8  1   1  1   1   1   2  0  0  0\n",
       "  9  1   1  1   1   1   2  0  0  0\n",
       " 10  1   1  1   1   1   2  0  0  0\n",
       "  1  1   2  1   1   1   2  0  0  0\n",
       "  2  1   2  1   1   1   2  0  0  0\n",
       "  3  1   2  1   1   1   2  0  0  0\n",
       "  ⋮                 ⋮            \n",
       "  7  2   7  2   7  14  16  0  1  0\n",
       "  8  2   8  2   8  14  16  0  1  0\n",
       "  9  2   9  2   9  14  16  0  1  0\n",
       " 10  2  10  2  10  14  16  0  1  0\n",
       "  1  2   1  2   1   0   1  0  0  0\n",
       "  2  2   2  2   2   0   1  0  0  0\n",
       "  6  2   6  2   6   0   1  0  0  0\n",
       "  9  2   9  2   9   0   1  0  0  0\n",
       "  1  2   1  2   1   0   2  0  1  0\n",
       "  2  2   2  2   2   0   2  0  1  0\n",
       "  6  2   6  2   6   0   2  0  1  0\n",
       "  9  2   9  2   9   0   1  0  1  0"
      ]
     },
     "execution_count": 20,
     "metadata": {},
     "output_type": "execute_result"
    }
   ],
   "source": [
    "A2"
   ]
  },
  {
   "cell_type": "code",
   "execution_count": 33,
   "id": "ad112206",
   "metadata": {},
   "outputs": [
    {
     "data": {
      "text/plain": [
       "4-element Vector{Int64}:\n",
       "  203\n",
       "  233\n",
       "  263\n",
       " 3473"
      ]
     },
     "execution_count": 33,
     "metadata": {},
     "output_type": "execute_result"
    }
   ],
   "source": [
    "\n",
    "c_data.f_out[3, 3, 3, 1]"
   ]
  },
  {
   "cell_type": "code",
   "execution_count": 24,
   "id": "9f05704b",
   "metadata": {},
   "outputs": [
    {
     "data": {
      "text/plain": [
       "5-element Vector{Int64}:\n",
       " 3379\n",
       " 3383\n",
       " 3387\n",
       " 4517\n",
       " 4521"
      ]
     },
     "execution_count": 24,
     "metadata": {},
     "output_type": "execute_result"
    }
   ],
   "source": [
    "a.start[1]"
   ]
  },
  {
   "cell_type": "code",
   "execution_count": 39,
   "id": "9207dc96",
   "metadata": {},
   "outputs": [
    {
     "data": {
      "text/plain": [
       "6×10 Matrix{Int64}:\n",
       " 1  1  1  1  3  9  10  0  0  1\n",
       " 1  1  2  1  3  9  10  0  0  1\n",
       " 1  1  1  1  3  9  10  1  1  1\n",
       " 1  1  2  1  3  9  10  1  1  1\n",
       " 1  2  1  1  3  9  10  0  0  1\n",
       " 1  2  1  1  3  9  10  1  1  1"
      ]
     },
     "execution_count": 39,
     "metadata": {},
     "output_type": "execute_result"
    }
   ],
   "source": [
    "A[c_data.out_of_region[1, 9], :]"
   ]
  },
  {
   "cell_type": "code",
   "execution_count": 17,
   "id": "8886fd44",
   "metadata": {},
   "outputs": [
    {
     "data": {
      "text/plain": [
       "6×10 Matrix{Int64}:\n",
       "  9  1  1  1  1  1  2  0  0  0\n",
       " 10  1  1  1  1  1  2  0  0  0\n",
       "  1  1  2  1  1  1  2  0  0  0\n",
       "  2  1  2  1  1  1  2  0  0  0\n",
       "  3  1  2  1  1  1  2  0  0  0\n",
       "  4  1  2  1  1  1  2  0  0  0"
      ]
     },
     "execution_count": 17,
     "metadata": {},
     "output_type": "execute_result"
    }
   ],
   "source": [
    "A2[9:14, :]"
   ]
  },
  {
   "cell_type": "code",
   "execution_count": 33,
   "id": "5b684b30",
   "metadata": {},
   "outputs": [
    {
     "data": {
      "text/plain": [
       "2380.0"
      ]
     },
     "execution_count": 33,
     "metadata": {},
     "output_type": "execute_result"
    }
   ],
   "source": [
    "(sum(get_arc_costs(global_data, A2, Dict(\"cost_per_mile\"=>10, \"rest_violation\" => ones(NUM_CREWS, NUM_TIME_PERIODS)))) - \n",
    "    sum(get_arc_costs(global_data, A2, Dict(\"cost_per_mile\"=>10))))"
   ]
  },
  {
   "cell_type": "code",
   "execution_count": 41,
   "id": "ac79cb96",
   "metadata": {},
   "outputs": [
    {
     "data": {
      "text/plain": [
       "2380"
      ]
     },
     "execution_count": 41,
     "metadata": {},
     "output_type": "execute_result"
    }
   ],
   "source": [
    "sum(1 .- A2[:, 8]) - sum(A2[:, 6] .== 0)"
   ]
  },
  {
   "cell_type": "code",
   "execution_count": 32,
   "id": "30409a09",
   "metadata": {},
   "outputs": [
    {
     "data": {
      "text/plain": [
       "Dict{Int64, Char} with 1 entry:\n",
       "  3 => 'a'"
      ]
     },
     "execution_count": 32,
     "metadata": {},
     "output_type": "execute_result"
    }
   ],
   "source": [
    "d = Dict(3=>'a')"
   ]
  },
  {
   "cell_type": "code",
   "execution_count": 34,
   "id": "07c264c3",
   "metadata": {},
   "outputs": [
    {
     "data": {
      "text/plain": [
       "false"
      ]
     },
     "execution_count": 34,
     "metadata": {},
     "output_type": "execute_result"
    }
   ],
   "source": [
    "4 in keys(d)"
   ]
  },
  {
   "cell_type": "code",
   "execution_count": 8,
   "id": "e5797f90",
   "metadata": {},
   "outputs": [
    {
     "ename": "LoadError",
     "evalue": "syntax: incomplete: premature end of input",
     "output_type": "error",
     "traceback": [
      "syntax: incomplete: premature end of input",
      "",
      "Stacktrace:",
      " [1] top-level scope",
      "   @ In[8]:1",
      " [2] eval",
      "   @ .\\boot.jl:373 [inlined]",
      " [3] include_string(mapexpr::typeof(REPL.softscope), mod::Module, code::String, filename::String)",
      "   @ Base .\\loading.jl:1196"
     ]
    }
   ],
   "source": [
    "struct ArcData\n",
    "    \n",
    "# crew, from_type, from_ix, to_type, to_ix, from_time, to_time, from_rested, to_rested, exited_region"
   ]
  },
  {
   "cell_type": "code",
   "execution_count": 9,
   "id": "f8087d4b",
   "metadata": {},
   "outputs": [
    {
     "ename": "LoadError",
     "evalue": "syntax: incomplete: \"function\" at In[9]:1 requires end",
     "output_type": "error",
     "traceback": [
      "syntax: incomplete: \"function\" at In[9]:1 requires end",
      "",
      "Stacktrace:",
      " [1] top-level scope",
      "   @ In[9]:1",
      " [2] eval",
      "   @ .\\boot.jl:373 [inlined]",
      " [3] include_string(mapexpr::typeof(REPL.softscope), mod::Module, code::String, filename::String)",
      "   @ Base .\\loading.jl:1196"
     ]
    }
   ],
   "source": [
    "function get_out_of_region_stats(region, arcs_used, region_data)\n",
    "    \"\"\"\n",
    "    \"\"\"\n",
    "    \n",
    "    # restrict to the arcs that exited the given region\n",
    "    out_of_region_ixs = [i for i in length(arcs_used[:, 1]) if arcs_used[i, 10] == region]\n",
    "    out_of_region_arcs = arcs_used[out_of_region_ixs, :]\n",
    "    \n",
    "    # get the crews associated with this region\n",
    "    crews = [i for i in 1:length(region_data.crew_regions) if region_data.crew_regions[i] == region]\n",
    "    \n",
    "    # initialize output array of indicator variables for crews exiting region\n",
    "    out_array = zeros(length(crews), NUM_TIME_PERIODS)\n",
    "    \n",
    "    # for each crew in the region\n",
    "    for i in 1:length(crews)\n",
    "        \n",
    "        # restrict to the arcs involving this crew\n",
    "        crew_ixs = [j for j in length(out_of_region_arcs[:, 1]) if arcs_used[j, 1] == crews[i]]\n",
    "        crew_arcs = out_of_region_arcs[crew_ixs, :]\n",
    "        \n",
    "        # get the times of rotation\n",
    "        rotation_times = [t in crew_arcs[:, 6] ? 1 : 0 for t in 1:NUM_TIME_PERIODS]\n",
    "        \n",
    "        # update output for crew\n",
    "        out_array[i, :] = rotation_times\n",
    "        \n",
    "    end\n",
    "    \n",
    "    return out_array\n",
    "end"
   ]
  }
 ],
 "metadata": {
  "kernelspec": {
   "display_name": "Julia 1.7.1",
   "language": "julia",
   "name": "julia-1.7"
  },
  "language_info": {
   "file_extension": ".jl",
   "mimetype": "application/julia",
   "name": "julia",
   "version": "1.7.1"
  }
 },
 "nbformat": 4,
 "nbformat_minor": 5
}
