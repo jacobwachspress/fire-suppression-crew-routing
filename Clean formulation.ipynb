{
 "cells": [
  {
   "cell_type": "code",
   "execution_count": 44,
   "id": "85250e85",
   "metadata": {},
   "outputs": [],
   "source": [
    "using DataFrames, CSV, DelimitedFiles"
   ]
  },
  {
   "cell_type": "code",
   "execution_count": 45,
   "id": "c958267c",
   "metadata": {},
   "outputs": [
    {
     "data": {
      "text/plain": [
       "17"
      ]
     },
     "execution_count": 45,
     "metadata": {},
     "output_type": "execute_result"
    }
   ],
   "source": [
    "NUM_CREWS = 10                \n",
    "BREAK_LENGTH = 2       # how long at base to be considered \"rested\"\n",
    "\n",
    "# tradeoffs\n",
    "BETA = 100             # cost of one area unit burned / cost of mile traveled\n",
    "ALPHA = 200            # cost of crew-day of suppression / cost of mile traveled\n",
    "LINE_PER_CREW = 17     # how much perimeter prevented per crew per time period"
   ]
  },
  {
   "cell_type": "code",
   "execution_count": 46,
   "id": "edfb07c7",
   "metadata": {},
   "outputs": [
    {
     "name": "stdout",
     "output_type": "stream",
     "text": [
      "10\n"
     ]
    }
   ],
   "source": [
    "# set path to all input data\n",
    "in_path = \"data/processed\"\n",
    "\n",
    "# get inital fire perimeters and no-suppression progression parameters\n",
    "M = readdlm(in_path * \"/sample_growth_patterns.csv\", ',')\n",
    "start_perims = M[:, 1]\n",
    "progressions = M[:, 2:15]\n",
    "\n",
    "NUM_TIME_PERIODS = size(M)[2] - 1 \n",
    "NUM_FIRES = size(M)[1]       \n",
    "\n",
    "# get distance from fire f to fire g \n",
    "fire_dists =  readdlm(in_path * \"/fire_distances.csv\", ',')\n",
    "\n",
    "# get distance from base c to fire g (NUM_CREWS-by-NUM_FIRES)\n",
    "base_fire_dists =  readdlm(in_path * \"/base_fire_distances.csv\", ',')\n",
    "\n",
    "# initialize travel times (number of periods) from fire f to fire g\n",
    "tau = convert(Array{Int}, ones(size(fire_dists)))\n",
    "\n",
    "# initialize number of periods to travel from base c to fire g (NUM_CREWS-by-NUM_FIRES)\n",
    "tau_base_to_fire = convert(Array{Int}, ones((size(base_fire_dists))))\n",
    "\n",
    "# read intial crew statuses (location, period by which they must rest)\n",
    "# (-1 in current_fire means crew is currently at base)\n",
    "# (rested_periods is the amount of time crew has been at base, relevant for completing rest)\n",
    "crew_starts = CSV.read(in_path * \"/sample_crew_starts.csv\", DataFrame)\n",
    "println(size(crew_starts)[1])\n",
    "rest_by = crew_starts[!, \"rest_by\"]\n",
    "current_fire = crew_starts[!, \"current_fire\"]\n",
    "rested_periods = crew_starts[!, \"rested_periods\"];"
   ]
  },
  {
   "cell_type": "code",
   "execution_count": null,
   "id": "06209d9e",
   "metadata": {},
   "outputs": [],
   "source": [
    "# crew, from_type, from_ix, to_type, to_ix, from_time, to_time, from_rested, to_rested, exited_region"
   ]
  },
  {
   "cell_type": "code",
   "execution_count": 77,
   "id": "d84829ad",
   "metadata": {},
   "outputs": [
    {
     "data": {
      "text/plain": [
       "18×9 Matrix{Int64}:\n",
       "  3  1  1  1  1  0  1  0  0\n",
       "  4  1  1  1  1  0  1  0  0\n",
       "  5  1  4  1  1  0  1  0  0\n",
       "  7  1  4  1  1  0  1  0  0\n",
       "  8  1  4  1  1  0  1  0  0\n",
       " 10  1  4  1  1  0  1  0  0\n",
       "  3  1  1  1  2  0  1  0  0\n",
       "  4  1  1  1  2  0  1  0  0\n",
       "  5  1  4  1  2  0  1  0  0\n",
       "  7  1  4  1  2  0  1  0  0\n",
       "  8  1  4  1  2  0  1  0  0\n",
       " 10  1  4  1  2  0  1  0  0\n",
       "  3  1  1  1  3  0  1  0  0\n",
       "  4  1  1  1  3  0  1  0  0\n",
       "  5  1  4  1  3  0  1  0  0\n",
       "  7  1  4  1  3  0  1  0  0\n",
       "  8  1  4  1  3  0  1  0  0\n",
       " 10  1  4  1  3  0  1  0  0"
      ]
     },
     "execution_count": 77,
     "metadata": {},
     "output_type": "execute_result"
    }
   ],
   "source": [
    "# get fire-to-fire arcs\n",
    "ff = [[c, 1, f_from, 1, f_to, t_from, t_from + tau[f_to, f_from], rest, rest]\n",
    "      for c=1:NUM_CREWS, f_from=1:NUM_FIRES, f_to=1:NUM_FIRES, t_from=1:NUM_TIME_PERIODS, rest=0:1]\n",
    "ff = copy(reduce(hcat, ff)');\n",
    "\n",
    "# get fire-to-fire arcs from start, based on current crew locations\n",
    "from_start_ff = [[c, 1, current_fire[c], 1, f_to, 0, tau[f_to, current_fire[c]], 0, 0]\n",
    "                  for c=1:NUM_CREWS, f_to=1:NUM_FIRES if current_fire[c] != -1]\n",
    "from_start_ff = copy(reduce(hcat, from_start_ff)')"
   ]
  },
  {
   "cell_type": "code",
   "execution_count": 58,
   "id": "24a749d8",
   "metadata": {},
   "outputs": [
    {
     "data": {
      "text/plain": [
       "711×6 Matrix{Int64}:\n",
       "  1  1  1   1   2  0\n",
       "  2  1  1   1   2  0\n",
       "  3  1  1   1   2  0\n",
       "  4  1  1   1   2  0\n",
       "  5  1  1   1   2  0\n",
       "  6  1  1   1   2  0\n",
       "  7  1  1   1   2  0\n",
       "  8  1  1   1   2  0\n",
       "  9  1  1   1   2  0\n",
       " 10  1  1   1   2  0\n",
       "  1  2  1   1   2  0\n",
       "  2  2  1   1   2  0\n",
       "  3  2  1   1   2  0\n",
       "  ⋮                ⋮\n",
       "  1  1  2  14  15  0\n",
       "  2  1  2  14  15  0\n",
       "  1  2  2  14  15  0\n",
       "  2  2  2  14  15  0\n",
       "  1  3  2  14  15  0\n",
       "  2  3  2  14  15  0\n",
       "  1  1  3  14  15  0\n",
       "  2  1  3  14  15  0\n",
       "  1  2  3  14  15  0\n",
       "  2  2  3  14  15  0\n",
       "  1  3  3  14  15  0\n",
       "  2  3  3  14  15  0"
      ]
     },
     "execution_count": 58,
     "metadata": {},
     "output_type": "execute_result"
    }
   ],
   "source": [
    "\n"
   ]
  },
  {
   "cell_type": "code",
   "execution_count": 1,
   "id": "aa55ab8a",
   "metadata": {},
   "outputs": [],
   "source": [
    "struct RegionData\n",
    "    \n",
    "    crew_regions::Vector{Int64}\n",
    "    fire_regions::Vector{Int64}\n",
    "    \n",
    "end\n",
    "\n",
    "mutable struct RouteData\n",
    "    \n",
    "    routes_per_crew::Vector{Int64} # could add in length\n",
    "    route_costs::Matrix{Real}\n",
    "    \n",
    "end\n",
    "\n",
    "mutable struct SuppressionPlanData\n",
    "    \n",
    "    plans_per_fire::Vector{Int64} # could add in length\n",
    "    plan_costs::Matrix{Real}\n",
    "    \n",
    "end"
   ]
  },
  {
   "cell_type": "code",
   "execution_count": 59,
   "id": "91c08124",
   "metadata": {},
   "outputs": [
    {
     "data": {
      "text/plain": [
       "ArcExitsRegion (generic function with 1 method)"
      ]
     },
     "execution_count": 59,
     "metadata": {},
     "output_type": "execute_result"
    }
   ],
   "source": [
    "function ArcExitsRegion(from_type, from_ix, to_type, to_ix, region_data)\n",
    "    \n",
    "    # get the region where the arc originates\n",
    "    from_region = 0\n",
    "    if from_type == 1\n",
    "        from_region = region_data.fire_regions[from_ix]\n",
    "    elseif from_type == 2\n",
    "        from_region = region_data.crew_regions[from_ix]\n",
    "    else\n",
    "        throw(DomainError(from_type, \"from_type must be 1 or 2\"))\n",
    "    end\n",
    "    \n",
    "    # get the region where the arc terminates\n",
    "    to_region = 0\n",
    "    if to_type == 1\n",
    "        to_region = region_data.fire_regions[to_ix]\n",
    "    elseif to_type == 2\n",
    "        to_region = region_data.crew_regions[to_ix]\n",
    "    else\n",
    "        throw(DomainError(from_type, \"to_type must be 1 or 2\"))\n",
    "    end\n",
    "    \n",
    "    # if these are different regions\n",
    "    if from_region != to_region\n",
    "        \n",
    "        # return the region that the arc exited\n",
    "        return from_region\n",
    "        \n",
    "    end\n",
    "    \n",
    "    # otherwise\n",
    "    return 0\n",
    "    \n",
    "end     "
   ]
  },
  {
   "cell_type": "code",
   "execution_count": null,
   "id": "2ca768f9",
   "metadata": {},
   "outputs": [],
   "source": [
    "struct ArcData\n",
    "    \n",
    "# crew, from_type, from_ix, to_type, to_ix, from_time, to_time, from_rested, to_rested, exited_region"
   ]
  },
  {
   "cell_type": "code",
   "execution_count": null,
   "id": "5d98b11f",
   "metadata": {},
   "outputs": [],
   "source": [
    "function get_out_of_region_stats(region, arcs_used, region_data)\n",
    "    \"\"\"\n",
    "    \"\"\"\n",
    "    \n",
    "    # restrict to the arcs that exited the given region\n",
    "    out_of_region_ixs = [i for i in length(arcs_used[:, 1]) if arcs_used[i, 10] == region]\n",
    "    out_of_region_arcs = arcs_used[out_of_region_ixs, :]\n",
    "    \n",
    "    # get the crews associated with this region\n",
    "    crews = [i for i in 1:length(region_data.crew_regions) if region_data.crew_regions[i] == region]\n",
    "    \n",
    "    # initialize output array of indicator variables for crews exiting region\n",
    "    out_array = zeros(length(crews), NUM_TIME_PERIODS)\n",
    "    \n",
    "    # for each crew in the region\n",
    "    for i in 1:length(crews)\n",
    "        \n",
    "        # restrict to the arcs involving this crew\n",
    "        crew_ixs = [j for j in length(out_of_region_arcs[:, 1]) if arcs_used[j, 1] == crews[i]]\n",
    "        crew_arcs = out_of_region_arcs[crew_ixs, :]\n",
    "        \n",
    "        # get the times of rotation\n",
    "        rotation_times = [t in crew_arcs[:, 6] ? 1 : 0 for t in 1:NUM_TIME_PERIODS]\n",
    "        \n",
    "        # update output for crew\n",
    "        out_array[i, :] = rotation_times\n",
    "        \n",
    "    end\n",
    "    \n",
    "    return out_array"
   ]
  },
  {
   "cell_type": "code",
   "execution_count": 40,
   "id": "65dba29f",
   "metadata": {},
   "outputs": [
    {
     "data": {
      "text/plain": [
       "10-element Vector{Any}:\n",
       " 1\n",
       "  \"f\"\n",
       " 1\n",
       "  \"f\"\n",
       " 2\n",
       " 3\n",
       " 4\n",
       " 0\n",
       " 0\n",
       " 1"
      ]
     },
     "execution_count": 40,
     "metadata": {},
     "output_type": "execute_result"
    }
   ],
   "source": [
    "A = [1, \"f\", 1, \"f\", 2, 3, 4, 0, 0, 1]"
   ]
  },
  {
   "cell_type": "code",
   "execution_count": 39,
   "id": "14d50b95",
   "metadata": {},
   "outputs": [
    {
     "data": {
      "text/plain": [
       "3-element Vector{Int64}:\n",
       " 0\n",
       " 9\n",
       " 9"
      ]
     },
     "execution_count": 39,
     "metadata": {},
     "output_type": "execute_result"
    }
   ],
   "source": [
    "[i == 1 ? 0 : 9 for i in 1:3]"
   ]
  },
  {
   "cell_type": "code",
   "execution_count": 33,
   "id": "60688ddc",
   "metadata": {},
   "outputs": [
    {
     "data": {
      "text/plain": [
       "4×3 Matrix{Int64}:\n",
       " 2   4   6\n",
       " 3   6   9\n",
       " 4   8  12\n",
       " 5  10  15"
      ]
     },
     "execution_count": 33,
     "metadata": {},
     "output_type": "execute_result"
    }
   ],
   "source": [
    "A = [2, 3, 4, 5] .* [1, 2, 3]'"
   ]
  },
  {
   "cell_type": "code",
   "execution_count": 35,
   "id": "77df7138",
   "metadata": {},
   "outputs": [
    {
     "data": {
      "text/plain": [
       "4×3 Matrix{Int64}:\n",
       " 1   4   6\n",
       " 2   6   9\n",
       " 3   8  12\n",
       " 4  10  15"
      ]
     },
     "execution_count": 35,
     "metadata": {},
     "output_type": "execute_result"
    }
   ],
   "source": [
    "A[:, 1] = [1, 2, 3, 4]\n",
    "A"
   ]
  },
  {
   "cell_type": "code",
   "execution_count": 30,
   "id": "7e2a9ea6",
   "metadata": {},
   "outputs": [
    {
     "data": {
      "text/plain": [
       "2×4 Matrix{Int64}:\n",
       " 2  4  6   8\n",
       " 3  6  9  12"
      ]
     },
     "execution_count": 30,
     "metadata": {},
     "output_type": "execute_result"
    }
   ],
   "source": [
    "A[[i for i in 1:length(A[:, 1]) if A[i, 1] <= 3], :]"
   ]
  },
  {
   "cell_type": "code",
   "execution_count": 15,
   "id": "ec419054",
   "metadata": {},
   "outputs": [
    {
     "data": {
      "text/plain": [
       "Int64[]"
      ]
     },
     "execution_count": 15,
     "metadata": {},
     "output_type": "execute_result"
    }
   ],
   "source": [
    "A[findall(A[:, 1] == 1)]"
   ]
  },
  {
   "cell_type": "code",
   "execution_count": 5,
   "id": "4cb8ba43",
   "metadata": {},
   "outputs": [
    {
     "data": {
      "text/plain": [
       "RouteData([6], Real[0.0 0.0 0.0; 0.0 0.0 0.0; 0.0 0.0 0.0; 0.0 0.0 0.0])"
      ]
     },
     "execution_count": 5,
     "metadata": {},
     "output_type": "execute_result"
    }
   ],
   "source": [
    "test = RouteData([6], zeros(4, 3))"
   ]
  },
  {
   "cell_type": "code",
   "execution_count": 9,
   "id": "813af5a2",
   "metadata": {},
   "outputs": [
    {
     "data": {
      "text/plain": [
       "2-element Vector{Int64}:\n",
       " 6\n",
       " 7"
      ]
     },
     "execution_count": 9,
     "metadata": {},
     "output_type": "execute_result"
    }
   ],
   "source": [
    "push!(, 7)"
   ]
  },
  {
   "cell_type": "code",
   "execution_count": 6,
   "id": "4b600bc1",
   "metadata": {},
   "outputs": [
    {
     "data": {
      "text/plain": [
       "4×3 Matrix{Real}:\n",
       " 0.0  0.0  0.0\n",
       " 0.0  0.0  0.0\n",
       " 0.0  0.0  0.0\n",
       " 0.0  0.0  0.0"
      ]
     },
     "execution_count": 6,
     "metadata": {},
     "output_type": "execute_result"
    }
   ],
   "source": [
    "test.route_costs"
   ]
  }
 ],
 "metadata": {
  "kernelspec": {
   "display_name": "Julia 1.7.1",
   "language": "julia",
   "name": "julia-1.7"
  },
  "language_info": {
   "file_extension": ".jl",
   "mimetype": "application/julia",
   "name": "julia",
   "version": "1.7.1"
  }
 },
 "nbformat": 4,
 "nbformat_minor": 5
}
