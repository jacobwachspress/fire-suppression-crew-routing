{
 "cells": [
  {
   "cell_type": "code",
   "execution_count": 1,
   "id": "34567121",
   "metadata": {},
   "outputs": [
    {
     "name": "stdout",
     "output_type": "stream",
     "text": [
      "Academic license - for non-commercial use only\r\n"
     ]
    },
    {
     "data": {
      "text/plain": [
       "Gurobi.Env(Ptr{Nothing} @0x000000007c33aed0, false, 0)"
      ]
     },
     "execution_count": 1,
     "metadata": {},
     "output_type": "execute_result"
    }
   ],
   "source": [
    "using DataFrames, CSV, DelimitedFiles, JuMP, Gurobi\n",
    "const GRB_ENV = Gurobi.Env()"
   ]
  },
  {
   "cell_type": "code",
   "execution_count": 2,
   "id": "81a26ef6",
   "metadata": {},
   "outputs": [
    {
     "data": {
      "text/plain": [
       "2"
      ]
     },
     "execution_count": 2,
     "metadata": {},
     "output_type": "execute_result"
    }
   ],
   "source": [
    "NUM_CREWS = 10                \n",
    "BREAK_LENGTH = 2       # how long at base to be considered \"rested\"\n",
    "\n",
    "# tradeoffs\n",
    "BETA = 100             # cost of one area unit burned / cost of mile traveled\n",
    "ALPHA = 200            # cost of crew-day of suppression / cost of mile traveled\n",
    "LINE_PER_CREW = 17     # how much perimeter prevented per crew per time period\n",
    "\n",
    "FIRE_CODE = 1\n",
    "BASE_CODE = 2"
   ]
  },
  {
   "cell_type": "code",
   "execution_count": 3,
   "id": "d08d7c6e",
   "metadata": {},
   "outputs": [],
   "source": [
    "struct GlobalData\n",
    "    \n",
    "    ff_dist::Matrix{Float64}\n",
    "    bf_dist::Matrix{Float64}\n",
    "    ff_tau::Matrix{Int64}\n",
    "    bf_tau::Matrix{Int64}\n",
    "    \n",
    "end\n",
    "\n",
    "struct CrewStatus\n",
    "    \n",
    "    rest_by::Vector{Int64}\n",
    "    current_fire::Vector{Int64}\n",
    "    rested_periods::Vector{Int64}\n",
    "    \n",
    "end\n",
    "\n",
    "struct RegionData\n",
    "    \n",
    "    crew_regions::Vector{Int64}\n",
    "    fire_regions::Vector{Int64}\n",
    "    \n",
    "end\n",
    "\n",
    "\n",
    "struct KeyArcIndices\n",
    "    \n",
    "    # fire flow data\n",
    "    f_out::Array{Vector{Int64}}\n",
    "    f_in::Array{Vector{Int64}}\n",
    "    \n",
    "    # base flow data\n",
    "    b_out::Array{Vector{Int64}}\n",
    "    b_in::Array{Vector{Int64}}\n",
    "    \n",
    "    # total crews suppressing each fire\n",
    "    supp_fire::Array{Vector{Int64}}\n",
    "    \n",
    "    # start constraints\n",
    "    start::Array{Vector{Int64}}\n",
    "    \n",
    "    # assignments out of region\n",
    "    out_of_region::Array{Vector{Int64}}\n",
    "    \n",
    "end \n",
    "\n",
    "mutable struct RouteData\n",
    "    \n",
    "    routes_per_crew::Vector{Int64} # could add in length\n",
    "    route_costs::Matrix{Float64}\n",
    "    fires_fought::BitArray{4}\n",
    "    out_of_reg::BitArray{3}\n",
    "    \n",
    "end\n",
    "\n",
    "mutable struct SuppressionPlanData\n",
    "    \n",
    "    plans_per_fire::Vector{Int64} # could add in length\n",
    "    plan_costs::Matrix{Float64}\n",
    "    crews_present::Array{Int8, 3}\n",
    "    \n",
    "end\n",
    "\n"
   ]
  },
  {
   "cell_type": "code",
   "execution_count": 4,
   "id": "d4690c8a",
   "metadata": {},
   "outputs": [],
   "source": [
    "struct FireConstraintIndices\n",
    "    \n",
    "    # fire flow data\n",
    "    flow_out::Array{Vector{Int64}}\n",
    "    flow_in::Array{Vector{Int64}}\n",
    "    \n",
    "    # total crews suppressing each fire\n",
    "    crews_needed::Array{Vector{Int64}}\n",
    "    \n",
    "    # start constraints\n",
    "    start::Array{Vector{Int64}}\n",
    "    \n",
    "end"
   ]
  },
  {
   "cell_type": "code",
   "execution_count": 5,
   "id": "de4eca73",
   "metadata": {},
   "outputs": [],
   "source": [
    "struct ColumnGeneration\n",
    "    \n",
    "    route_sps::Vector{Any}\n",
    "    plan_sps::Vector{Any}\n",
    "    routes::RouteData\n",
    "    suppression_plans::SuppressionPlanData\n",
    "    \n",
    "end"
   ]
  },
  {
   "cell_type": "code",
   "execution_count": 6,
   "id": "ac38f149",
   "metadata": {},
   "outputs": [
    {
     "data": {
      "text/plain": [
       "get_rotation_orders (generic function with 1 method)"
      ]
     },
     "execution_count": 6,
     "metadata": {},
     "output_type": "execute_result"
    }
   ],
   "source": [
    "function get_rotation_orders(crew_regions)\n",
    "    \n",
    "    # initialize output\n",
    "    out = Dict()\n",
    "    \n",
    "    # get the unique regions where there are crews\n",
    "    regions = unique(crew_regions)\n",
    "    \n",
    "    # for each region\n",
    "    for region in regions\n",
    "        \n",
    "        # initialize dictionary corresponding to the order\n",
    "        out[region] = Dict() \n",
    "        crews_in_region = 0\n",
    "        \n",
    "        # for each crew in the region\n",
    "        for crew in 1:NUM_CREWS\n",
    "            \n",
    "            if crew_regions[crew] == region\n",
    "                \n",
    "                # update crew count, log rotation order \n",
    "                crews_in_region += 1\n",
    "                out[region][crew] = crews_in_region\n",
    "            end\n",
    "        end\n",
    "    end\n",
    "    \n",
    "    return out\n",
    "end"
   ]
  },
  {
   "cell_type": "code",
   "execution_count": 7,
   "id": "f4b512e5",
   "metadata": {},
   "outputs": [],
   "source": [
    "# crew, from_type, from_ix, to_type, to_ix, from_time, to_time, from_rested, to_rested, exited_region"
   ]
  },
  {
   "cell_type": "code",
   "execution_count": 8,
   "id": "3e851737",
   "metadata": {},
   "outputs": [
    {
     "data": {
      "text/plain": [
       "arc_exits_region (generic function with 1 method)"
      ]
     },
     "execution_count": 8,
     "metadata": {},
     "output_type": "execute_result"
    }
   ],
   "source": [
    "function arc_exits_region(crew, from_type, from_ix, to_type, to_ix, region_data)\n",
    "    \n",
    "    # get the region where the arc originates\n",
    "    from_region = 0\n",
    "    if from_type == FIRE_CODE\n",
    "        from_region = region_data.fire_regions[from_ix]\n",
    "    elseif from_type == BASE_CODE\n",
    "        from_region = region_data.crew_regions[from_ix]\n",
    "    else\n",
    "        throw(DomainError(from_type, \"from_type invalid\"))\n",
    "    end\n",
    "    \n",
    "    # get the region where the arc terminates\n",
    "    to_region = 0\n",
    "    if to_type == FIRE_CODE\n",
    "        to_region = region_data.fire_regions[to_ix]\n",
    "    elseif to_type == BASE_CODE\n",
    "        to_region = region_data.crew_regions[to_ix]\n",
    "    else\n",
    "        throw(DomainError(from_type, \"to_type invalid\"))\n",
    "    end\n",
    "    \n",
    "    # if these are different regions\n",
    "    if from_region != to_region\n",
    "        \n",
    "        # if the crew is leaving its home region\n",
    "        if region_data.crew_regions[crew] == from_region\n",
    "        \n",
    "            # return the region that the arc exited\n",
    "            return from_region\n",
    "        \n",
    "        end\n",
    "        \n",
    "    end\n",
    "    \n",
    "    # otherwise\n",
    "    return 0\n",
    "    \n",
    "end     "
   ]
  },
  {
   "cell_type": "code",
   "execution_count": 9,
   "id": "05fc0a5e",
   "metadata": {},
   "outputs": [
    {
     "data": {
      "text/plain": [
       "generate_arcs (generic function with 1 method)"
      ]
     },
     "execution_count": 9,
     "metadata": {},
     "output_type": "execute_result"
    }
   ],
   "source": [
    "function generate_arcs(gd, rd, cs)\n",
    "    \n",
    "    # get fire-to-fire arcs\n",
    "    ff = [[c, FIRE_CODE, f_from, FIRE_CODE, f_to, t_from, t_from + gd.ff_tau[f_to, f_from], rest, rest]\n",
    "          for c=1:NUM_CREWS, f_from=1:NUM_FIRES, f_to=1:NUM_FIRES, t_from=1:NUM_TIME_PERIODS, rest=0:1]\n",
    "    ff = copy(reduce(hcat, ff)')\n",
    "\n",
    "    # get fire-to-fire arcs from start, based on cs.current crew locations\n",
    "    from_start_ff = [[c, FIRE_CODE, cs.current_fire[c], FIRE_CODE, f_to, 0, gd.ff_tau[f_to, cs.current_fire[c]], 0, 0]\n",
    "                      for c=1:NUM_CREWS, f_to=1:NUM_FIRES if cs.current_fire[c] != -1]\n",
    "    from_start_ff = copy(reduce(hcat, from_start_ff)')\n",
    "\n",
    "    # get base-to-fire arcs\n",
    "    rf = [[c, BASE_CODE, c, FIRE_CODE, f_to, t_from, t_from + gd.bf_tau[c, f_to], rest, rest]\n",
    "           for c=1:NUM_CREWS, f_to=1:NUM_FIRES, t_from=1:NUM_TIME_PERIODS, rest=0:1]\n",
    "    rf = copy(reduce(hcat, rf)')\n",
    "\n",
    "    # get base-to-fire arcs from start\n",
    "    from_start_rf = [[c, BASE_CODE, c, FIRE_CODE, f_to, 0, gd.bf_tau[c, f_to], 0, 0]\n",
    "                      for c=1:NUM_CREWS, f_to=1:NUM_FIRES if cs.current_fire[c] == -1]\n",
    "    from_start_rf = copy(reduce(hcat, from_start_rf)')\n",
    "\n",
    "    # get fire-to-base arcs\n",
    "    fr = [[c, FIRE_CODE, f_from, BASE_CODE, c, t_from, t_from + gd.bf_tau[c, f_from], rest, rest]\n",
    "           for c=1:NUM_CREWS, f_from=1:NUM_FIRES, t_from=1:NUM_TIME_PERIODS, rest=0:1]\n",
    "    fr = copy(reduce(hcat, fr)')\n",
    "\n",
    "    # get fire-to-base arcs from start, based on cs.current crew locations\n",
    "    from_start_fr = [[c, FIRE_CODE, cs.current_fire[c], BASE_CODE, c, 0, gd.bf_tau[c, cs.current_fire[c]], 0, 0]\n",
    "                      for c=1:NUM_CREWS if cs.current_fire[c] != -1]\n",
    "    from_start_fr = copy(reduce(hcat, from_start_fr)')\n",
    "\n",
    "    # get base-to-base arcs\n",
    "    rr = [[c, BASE_CODE, c, BASE_CODE, c, t_from, t_from + 1 + (BREAK_LENGTH - 1) * rest, 0, rest]\n",
    "          for c=1:NUM_CREWS, t_from=1:NUM_TIME_PERIODS, rest=0:1]\n",
    "    rr = copy(reduce(hcat, rr)')\n",
    "    rr_rested = [[c, BASE_CODE, c, BASE_CODE, c, t_from, t_from + 1, 1, 1]\n",
    "          for c=1:NUM_CREWS, t_from=1:NUM_TIME_PERIODS]\n",
    "    rr_rested  = copy(reduce(hcat, rr_rested)')\n",
    "\n",
    "    # get base-to-base arcs from start, based on cs.current days rested\n",
    "    from_start_rr = [[c, BASE_CODE, c, BASE_CODE, c, 0, \n",
    "                      1 + (BREAK_LENGTH - max(cs.rested_periods[c], 0) - 1) * rest, 0, rest] \n",
    "                      for c=1:NUM_CREWS, rest=0:1 if cs.current_fire[c] == -1]\n",
    "    from_start_rr = copy(reduce(hcat, from_start_rr)')\n",
    "\n",
    "    A = vcat(ff, from_start_ff, rf, from_start_rf, fr, from_start_fr, rr, rr_rested, from_start_rr)\n",
    "\n",
    "    out_of_region = [arc_exits_region(A[i, 1], A[i, 2], A[i, 3], A[i, 4], A[i, 5], rd) \n",
    "                     for i in 1:length(A[:, 1])]\n",
    "    A = hcat(A, out_of_region)\n",
    "    \n",
    "    return A\n",
    "end"
   ]
  },
  {
   "cell_type": "code",
   "execution_count": 10,
   "id": "63e7f29a",
   "metadata": {},
   "outputs": [
    {
     "data": {
      "text/plain": [
       "get_distance (generic function with 1 method)"
      ]
     },
     "execution_count": 10,
     "metadata": {},
     "output_type": "execute_result"
    }
   ],
   "source": [
    "function get_distance(from_type, from_ix, to_type, to_ix, fire_fire, base_fire)\n",
    "    \n",
    "    dist = 0\n",
    "    \n",
    "    # if fire to fire\n",
    "    if (from_type == FIRE_CODE) & (to_type == FIRE_CODE)\n",
    "        dist = fire_fire[from_ix, to_ix]\n",
    "    \n",
    "    # if fire to base\n",
    "    elseif (from_type == FIRE_CODE) & (to_type == BASE_CODE)\n",
    "        dist = base_fire[to_ix, from_ix]\n",
    "    \n",
    "    # if base to fire\n",
    "    elseif (from_type == BASE_CODE) & (to_type == FIRE_CODE)\n",
    "        dist = base_fire[from_ix, to_ix]\n",
    "        \n",
    "    # otherwise dist still 0\n",
    "    end\n",
    "    \n",
    "    return dist\n",
    "end "
   ]
  },
  {
   "cell_type": "code",
   "execution_count": 11,
   "id": "85c85c6b",
   "metadata": {},
   "outputs": [],
   "source": [
    "# crew, from_type, from_ix, to_type, to_ix, from_time, to_time, from_rested, to_rested, exited_region"
   ]
  },
  {
   "cell_type": "code",
   "execution_count": 12,
   "id": "c127417f",
   "metadata": {},
   "outputs": [
    {
     "data": {
      "text/plain": [
       "get_arc_costs (generic function with 1 method)"
      ]
     },
     "execution_count": 12,
     "metadata": {},
     "output_type": "execute_result"
    }
   ],
   "source": [
    "function get_arc_costs(gd, arcs, cost_param_dict)\n",
    "    \n",
    "    # get number of arcs\n",
    "    n_arcs = length(arcs[:, 1])\n",
    "    \n",
    "    # initialize costs to 0\n",
    "    costs = zeros(n_arcs)\n",
    "    \n",
    "    # if there is travel cost per mile\n",
    "    if \"cost_per_mile\" in keys(cost_param_dict)\n",
    "        \n",
    "        # find the miles for each arc\n",
    "        miles_per_arc =  [get_distance(arcs[i, 2], arcs[i, 3], \n",
    "                                       arcs[i, 4], arcs[i, 5], \n",
    "                                       gd.ff_dist, gd.bf_dist) for i in 1:n_arcs]\n",
    "        # add to costs\n",
    "        costs = costs .+ (cost_param_dict[\"cost_per_mile\"] * miles_per_arc)\n",
    "    end\n",
    "    \n",
    "    # if there are rest violations\n",
    "    if \"rest_violation\" in keys(cost_param_dict)\n",
    "        \n",
    "        # find the rest violation scores\n",
    "        rest_violation_matrix = cost_param_dict[\"rest_violation\"]\n",
    "        rest_violations = [(arcs[i, 8] == 0) & (arcs[i, 6] > 0) ? \n",
    "                           rest_violation_matrix[arcs[i, 1], arcs[i, 6]] : 0\n",
    "                           for i in 1:n_arcs]\n",
    "        \n",
    "        # add to costs\n",
    "        costs = costs .+ rest_violations\n",
    "    end\n",
    "    \n",
    "    if \"fight_fire\" in keys(cost_param_dict)\n",
    "        costs = costs .+ [(arcs[i, 4] == FIRE_CODE) ? cost_param_dict[\"fight_fire\"] : 0\n",
    "                          for i in 1:n_arcs]\n",
    "    end\n",
    "    \n",
    "    # if we have to adjust for linking dual constraints\n",
    "    if \"linking_dual\" in keys(cost_param_dict)\n",
    "        \n",
    "        # get the dual variables\n",
    "        rho = cost_param_dict[\"linking_dual\"]\n",
    "        \n",
    "        # get linking costs (really benefits) if arc goes to a fire\n",
    "        linking_costs = [((arcs[i, 4] == FIRE_CODE) & (arcs[i, 7] <= NUM_TIME_PERIODS)) ? \n",
    "                          - rho[arcs[i, 5], arcs[i, 7]] : 0\n",
    "                          for i in 1:n_arcs]\n",
    "        \n",
    "        # add to costs\n",
    "        costs = costs .+ linking_costs\n",
    "        \n",
    "    end\n",
    "    \n",
    "    # if we have to adjust for linking dual constraints\n",
    "    if \"out_of_region_dual\" in keys(cost_param_dict)\n",
    "        \n",
    "        # get needed regional info\n",
    "        regs = cost_param_dict[\"region_data\"].crew_regions\n",
    "        rot_order = cost_param_dict[\"rotation_order\"]\n",
    "        \n",
    "        # get the dual variables\n",
    "        eta = cost_param_dict[\"out_of_region_dual\"]\n",
    "\n",
    "        # get adjustment for crew allotment\n",
    "        c1 = [(arcs[i, 10] > 0) ? sum(eta[arcs[i, 1], t_0]\n",
    "                                        for t_0=arcs[i, 6]:NUM_TIME_PERIODS\n",
    "                                      ) : 0\n",
    "                                                   \n",
    "               for i in 1:n_arcs\n",
    "             ]\n",
    "        \n",
    "        # get adjustment for region average allotment\n",
    "        c2 = [(arcs[i, 10] > 0) ? sum(eta[c, t_0]\n",
    "                                            for c in keys(rot_order[regs[arcs[i, 1]]]),\n",
    "                                                t_0=arcs[i, 6]:NUM_TIME_PERIODS) /\n",
    "                                        length(keys(rot_order[regs[arcs[i, 1]]])) : 0\n",
    "                                                   \n",
    "               for i in 1:n_arcs\n",
    "             ]\n",
    "        \n",
    "        # get adjustment for big-M constraint\n",
    "        c3 = [(arcs[i, 10] > 0) ? NUM_TIME_PERIODS * eta[arcs[i, 1], arcs[i, 6]] : 0\n",
    "               for i in 1:n_arcs\n",
    "             ]\n",
    "            \n",
    "        # add to costs\n",
    "        costs = costs .+ c1 .- c2 .+ c3\n",
    "        \n",
    "    end   \n",
    "    \n",
    "    return costs\n",
    "end"
   ]
  },
  {
   "cell_type": "code",
   "execution_count": 13,
   "id": "413223fc",
   "metadata": {},
   "outputs": [
    {
     "data": {
      "text/plain": [
       "is_one (generic function with 1 method)"
      ]
     },
     "execution_count": 13,
     "metadata": {},
     "output_type": "execute_result"
    }
   ],
   "source": [
    "function positive(x)\n",
    "    \n",
    "    if x > 0\n",
    "        return 1\n",
    "    end\n",
    "    \n",
    "    return 0\n",
    "end\n",
    "\n",
    "function is_one(x)\n",
    "    \n",
    "    if x == 1\n",
    "        return 1\n",
    "    end\n",
    "    \n",
    "    return 0\n",
    "end"
   ]
  },
  {
   "cell_type": "code",
   "execution_count": 14,
   "id": "c6f31a82",
   "metadata": {},
   "outputs": [
    {
     "data": {
      "text/plain": [
       "get_rest_penalties (generic function with 1 method)"
      ]
     },
     "execution_count": 14,
     "metadata": {},
     "output_type": "execute_result"
    }
   ],
   "source": [
    "# should return matrix indexed by crew, time, \n",
    "function get_rest_penalties(rest_by_periods, lambda, accounting_func)\n",
    "    \n",
    "    penalties = zeros(NUM_CREWS, NUM_TIME_PERIODS)\n",
    "    \n",
    "    for c in 1:NUM_CREWS\n",
    "        penalties[c, :] = [lambda * accounting_func(t - rest_by_periods[c]) \n",
    "                           for t in 1:NUM_TIME_PERIODS]\n",
    "    end\n",
    "    \n",
    "    return penalties    \n",
    "end"
   ]
  },
  {
   "cell_type": "code",
   "execution_count": 15,
   "id": "846c1e8f",
   "metadata": {},
   "outputs": [
    {
     "data": {
      "text/plain": [
       "define_network_constraint_data (generic function with 1 method)"
      ]
     },
     "execution_count": 15,
     "metadata": {},
     "output_type": "execute_result"
    }
   ],
   "source": [
    "function define_network_constraint_data(arcs)\n",
    "    \n",
    "    # shorten some global variable names\n",
    "    C = NUM_CREWS\n",
    "    G = NUM_FIRES\n",
    "    T = NUM_TIME_PERIODS\n",
    "    \n",
    "    # get number of arcs\n",
    "    n_arcs = length(arcs[:, 1])\n",
    "      \n",
    "    ## flow balance ##\n",
    "    \n",
    "    # initialize arrays of vectors for flow balance\n",
    "    f_out = Array{Vector{Int64}}(undef, C, G, T, 2)\n",
    "    f_in = Array{Vector{Int64}}(undef, C, G, T, 2)\n",
    "    b_out = Array{Vector{Int64}}(undef, C, T, 2)\n",
    "    b_in = Array{Vector{Int64}}(undef, C, T, 2)\n",
    "    start = Array{Vector{Int64}}(undef, C)\n",
    "    out_of_region = Array{Vector{Int64}}(undef, C, T+1)\n",
    "    \n",
    "    # for each crew\n",
    "    for crew in 1:C\n",
    "        \n",
    "        # get indices of this crew's arcs only\n",
    "        crew_ixs = [i for i in 1:n_arcs if arcs[i, 1] == crew]\n",
    "        \n",
    "        # get time 0 indices\n",
    "        start[crew] = [i for i in crew_ixs if arcs[i, 6] == 0]\n",
    "        \n",
    "        # for each time period (including start)\n",
    "        for tm in 0:T\n",
    "        \n",
    "            # get indices for out of region assignments\n",
    "            out_of_region[crew, tm+1] = [i for i in crew_ixs if\n",
    "                                           (arcs[i, 6] == tm) &\n",
    "                                           (arcs[i, 10] > 0)\n",
    "                                        ]\n",
    "        end\n",
    "        \n",
    "        # for each time period\n",
    "        for tm in 1:T\n",
    "            \n",
    "            # for each rest state\n",
    "            for rest in 1:2\n",
    "                \n",
    "                # get arcs leaving crew base at this time with this rest\n",
    "                b_out[crew, tm, rest] = [i for i in crew_ixs if\n",
    "                                         (arcs[i, 2] == BASE_CODE) &\n",
    "                                         (arcs[i, 6] == tm) &\n",
    "                                         (arcs[i, 8] == rest-1)\n",
    "                                        ]\n",
    "                \n",
    "                # get arcs entering crew base at this time with this rest\n",
    "                b_in[crew, tm, rest] = [i for i in crew_ixs if\n",
    "                                        (arcs[i, 4] == BASE_CODE) &\n",
    "                                        (arcs[i, 7] == tm) &\n",
    "                                        (arcs[i, 9] == rest-1)\n",
    "                                       ]\n",
    "                # for each fire\n",
    "                for fire in 1:G\n",
    "                    \n",
    "                    # get arcs where this crew leaves this fire at this time\n",
    "                    # with this rest state\n",
    "                    f_out[crew, fire, tm, rest] = [i for i in crew_ixs if\n",
    "                                                   (arcs[i, 2] == FIRE_CODE) &\n",
    "                                                   (arcs[i, 3] == fire) &\n",
    "                                                   (arcs[i, 6] == tm) &\n",
    "                                                   (arcs[i, 8] == rest-1)\n",
    "                                                   ]\n",
    "                    \n",
    "                    # get arcs where this crew enters this fire at this time\n",
    "                    # with this rest state\n",
    "                    f_in[crew, fire, tm, rest] = [i for i in crew_ixs if\n",
    "                                                  (arcs[i, 4] == FIRE_CODE) &\n",
    "                                                  (arcs[i, 5] == fire) &\n",
    "                                                  (arcs[i, 7] == tm) &\n",
    "                                                  (arcs[i, 9] == rest-1)\n",
    "                                                  ]\n",
    "                end\n",
    "            end\n",
    "        end\n",
    "    end\n",
    "    \n",
    "    ## linking constraints ##\n",
    "    linking = Array{Vector{Int64}}(undef, G, T)\n",
    "    for fire in 1:G\n",
    "        for tm in 1:T\n",
    "            \n",
    "            # we count the crew as working *where they arrived* during this timestep\n",
    "            linking[fire, tm] = [i for i in 1:n_arcs if (arcs[i, 4] == FIRE_CODE) &\n",
    "                                                        (arcs[i, 5] == fire) &\n",
    "                                                        (arcs[i, 7] == tm)]\n",
    "        end\n",
    "    end\n",
    "    \n",
    "    \n",
    "    return KeyArcIndices(f_out, f_in, b_out, b_in, linking, start, out_of_region)\n",
    "end"
   ]
  },
  {
   "cell_type": "code",
   "execution_count": 16,
   "id": "85bb158f",
   "metadata": {},
   "outputs": [
    {
     "data": {
      "text/plain": [
       "get_route_stats (generic function with 1 method)"
      ]
     },
     "execution_count": 16,
     "metadata": {},
     "output_type": "execute_result"
    }
   ],
   "source": [
    "function get_route_stats(arc_ixs_used, arcs, costs)\n",
    "    \n",
    "    # get total cost\n",
    "    route_cost = sum(costs[arc_ixs_used])\n",
    "    \n",
    "    # initialize fires fought matrix\n",
    "    fires_fought =  falses(NUM_FIRES, NUM_TIME_PERIODS)\n",
    "    \n",
    "    # initialize out of region matrix\n",
    "    out_of_region = falses(NUM_TIME_PERIODS + 1)\n",
    "    \n",
    "    # for each arc used\n",
    "    for ix in arc_ixs_used\n",
    "        arc = arcs[ix, :]\n",
    "        \n",
    "        # update fires_fought\n",
    "        if (arc[4] == FIRE_CODE) & (arc[7] <= NUM_TIME_PERIODS)\n",
    "            @assert ~fires_fought[arc[5], arc[7]] \"Visited fire twice at same time\"\n",
    "            fires_fought[arc[5], arc[7]] = true\n",
    "        end\n",
    "        \n",
    "        # update out_of_region\n",
    "        if arc[10] > 0\n",
    "            @assert ~out_of_region[arc[6] + 1] \"Left region twice at same time\"\n",
    "            out_of_region[arc[6] + 1] = true\n",
    "        end\n",
    "    end\n",
    "    \n",
    "    return route_cost, fires_fought, out_of_region\n",
    "end"
   ]
  },
  {
   "cell_type": "code",
   "execution_count": 17,
   "id": "8a2f3da2",
   "metadata": {},
   "outputs": [
    {
     "data": {
      "text/plain": [
       "initialize_route_data (generic function with 1 method)"
      ]
     },
     "execution_count": 17,
     "metadata": {},
     "output_type": "execute_result"
    }
   ],
   "source": [
    "function initialize_route_data(max_routes)\n",
    "    \n",
    "    return RouteData(zeros(NUM_CREWS), Matrix{Float64}(undef, NUM_CREWS, max_routes),\n",
    "                     BitArray(undef, NUM_CREWS, max_routes, NUM_FIRES, NUM_TIME_PERIODS) .> 2,\n",
    "                     BitArray(undef, NUM_CREWS, max_routes, NUM_TIME_PERIODS + 1) .> 2)\n",
    "end"
   ]
  },
  {
   "cell_type": "code",
   "execution_count": 245,
   "id": "368b79c3",
   "metadata": {},
   "outputs": [
    {
     "data": {
      "text/plain": [
       "update_available_routes (generic function with 1 method)"
      ]
     },
     "execution_count": 245,
     "metadata": {},
     "output_type": "execute_result"
    }
   ],
   "source": [
    "function update_available_routes(crew, route_ixs, arcs, costs, route_data)\n",
    "    \n",
    "    # get the required information from the arcs used\n",
    "    route_cost, fires_fought, out_of_region = get_route_stats(route_ixs, arcs, costs)\n",
    "    \n",
    "    ## store this information to the route_data ##\n",
    "    return update_available_crew_routes(crew, route_cost, fires_fought, out_of_region, route_data)\n",
    "\n",
    "end"
   ]
  },
  {
   "cell_type": "code",
   "execution_count": 250,
   "id": "f98f2573",
   "metadata": {},
   "outputs": [
    {
     "data": {
      "text/plain": [
       "update_available_crew_routes (generic function with 1 method)"
      ]
     },
     "execution_count": 250,
     "metadata": {},
     "output_type": "execute_result"
    }
   ],
   "source": [
    "function update_available_crew_routes(crew, cost, fires_fought, oor, route_data)\n",
    "    \n",
    "    # add 1 to number of routes for this crew, store the index\n",
    "    route_data.routes_per_crew[crew] += 1\n",
    "    ix = route_data.routes_per_crew[crew]\n",
    "    \n",
    "    # append the route cost\n",
    "    route_data.route_costs[crew, ix] = cost\n",
    "    \n",
    "    # append the fires fought\n",
    "    route_data.fires_fought[crew, ix, :, :] = fires_fought\n",
    "    \n",
    "    # append the out-of-region assignments\n",
    "    route_data.out_of_reg[crew, ix, :] = oor\n",
    "    \n",
    "    return 1\n",
    "\n",
    "end"
   ]
  },
  {
   "cell_type": "code",
   "execution_count": 19,
   "id": "05c56733",
   "metadata": {},
   "outputs": [
    {
     "data": {
      "text/plain": [
       "get_supp_plan_stats (generic function with 2 methods)"
      ]
     },
     "execution_count": 19,
     "metadata": {},
     "output_type": "execute_result"
    }
   ],
   "source": [
    "function get_supp_plan_stats(var_p, var_d, beta, tolerance=0.0001)\n",
    "    \n",
    "    # get the cost based on the perimeter progression\n",
    "    cost = beta * (sum(value.(var_p)) - value(var_p[1])/2 - value(var_p[NUM_TIME_PERIODS+1]/2))\n",
    "    \n",
    "    # get the number of crews present each time period from line constructed\n",
    "    crew_vector = value.(var_d)\n",
    "    int_crew_vector = convert.(Int64, round.(crew_vector))\n",
    "    @assert maximum(abs.(crew_vector - int_crew_vector)) < tolerance \"Not an integer plan\"\n",
    "    \n",
    "    return cost, int_crew_vector\n",
    "\n",
    "end"
   ]
  },
  {
   "cell_type": "code",
   "execution_count": 20,
   "id": "9a5695d4",
   "metadata": {},
   "outputs": [
    {
     "data": {
      "text/plain": [
       "initialize_supp_plan_data (generic function with 1 method)"
      ]
     },
     "execution_count": 20,
     "metadata": {},
     "output_type": "execute_result"
    }
   ],
   "source": [
    "function initialize_supp_plan_data(max_supp_plans)\n",
    "    \n",
    "    return SuppressionPlanData(zeros(NUM_FIRES), \n",
    "                               Matrix{Float64}(undef, NUM_FIRES, max_supp_plans),\n",
    "                               zeros(Int8, (NUM_FIRES, max_supp_plans, NUM_TIME_PERIODS))\n",
    "                              )\n",
    "end"
   ]
  },
  {
   "cell_type": "code",
   "execution_count": 21,
   "id": "8c279c56",
   "metadata": {},
   "outputs": [
    {
     "data": {
      "text/plain": [
       "update_available_supp_plans (generic function with 1 method)"
      ]
     },
     "execution_count": 21,
     "metadata": {},
     "output_type": "execute_result"
    }
   ],
   "source": [
    "function update_available_supp_plans(fire, cost, allotment, plan_data)\n",
    "    \n",
    "    # add 1 to number of plans for this fire, store the index\n",
    "    plan_data.plans_per_fire[fire] += 1\n",
    "    ix = plan_data.plans_per_fire[fire]\n",
    "    \n",
    "    # append the route cost\n",
    "    plan_data.plan_costs[fire, ix] = cost\n",
    "    \n",
    "    # append the fires fought\n",
    "    plan_data.crews_present[fire, ix, :] = allotment\n",
    "    \n",
    "    return 1\n",
    "\n",
    "end"
   ]
  },
  {
   "cell_type": "code",
   "execution_count": 22,
   "id": "5f1302a9",
   "metadata": {},
   "outputs": [
    {
     "data": {
      "text/plain": [
       "full_formulation (generic function with 1 method)"
      ]
     },
     "execution_count": 22,
     "metadata": {},
     "output_type": "execute_result"
    }
   ],
   "source": [
    "function full_formulation(integer_routes, region_data, constraint_data, rotation_order, \n",
    "                          costs, progs, perims, beta, gamma, verbose, time_limit)\n",
    "    \n",
    "    # get number of arcs\n",
    "    n_arcs = length(costs)\n",
    "    \n",
    "    # shorten some global variable names\n",
    "    C = NUM_CREWS\n",
    "    G = NUM_FIRES\n",
    "    T = NUM_TIME_PERIODS\n",
    "    regs = region_data.crew_regions\n",
    "    \n",
    "    # intialize model\n",
    "    m = Model(() -> Gurobi.Optimizer(GRB_ENV))\n",
    "    \n",
    "    if ~verbose\n",
    "        set_optimizer_attribute(m, \"OutputFlag\", 0)\n",
    "    end\n",
    "    \n",
    "    if time_limit != false\n",
    "        set_optimizer_attribute(m, \"TimeLimit\", time_limit)\n",
    "    end\n",
    "        \n",
    "\n",
    "    # fire suppression plan section\n",
    "    @variable(m, p[g=1:G, t=1:T+1] >= 0)\n",
    "    @variable(m, l[g=1:G, t=1:T])\n",
    "    @variable(m, d[g=1:G, t=1:T] >= 0)\n",
    "    @constraint(m, perim_growth[g=1:G, t=1:T], p[g, t+1] >= progs[g, t] * \n",
    "                                                           (p[g, t] - l[g, t] / 2) - l[g, t] / 2)\n",
    "    @constraint(m, perim_start[g=1:G], p[g, 1] == perims[g])\n",
    "\n",
    "    # routing plan section\n",
    "    if integer_routes\n",
    "        @variable(m, z[1:n_arcs] >= 0, Int)\n",
    "    else\n",
    "        @variable(m, z[1:n_arcs] >= 0)\n",
    "    end\n",
    "    \n",
    "    if integer_routes\n",
    "        @variable(m, q[1:C, 0:T] >= 0, Int)\n",
    "    else\n",
    "        @variable(m, q[1:C, 0:T] >= 0)\n",
    "    end\n",
    "    \n",
    "    # build out_of_region constraints\n",
    "    @constraint(m, out_of_region[c=1:C, t=0:T],\n",
    "    \n",
    "        # out of region penalty is at least\n",
    "        q[c, t] >=\n",
    "        \n",
    "            # this crew's cumulative rotations\n",
    "            sum(z[i] for t_0=0:t, i in constraint_data.out_of_region[c, t_0+1]) \n",
    "        \n",
    "        - \n",
    "        \n",
    "            # average cumulative rotations among all crews in same region\n",
    "            sum(z[i] for c_0 in keys(rotation_order[regs[c]]), t_0=0:t, \n",
    "                i in constraint_data.out_of_region[c_0, t_0+1]) /\n",
    "            length(keys(rotation_order[regs[c]]))\n",
    "        \n",
    "        -\n",
    "        \n",
    "            # normalizing factor for specific crew rotation order\n",
    "            (1 - rotation_order[regs[c]][c] / length(keys(rotation_order[regs[c]])))\n",
    "        \n",
    "        -\n",
    "            # big-M for if crew goes not leave region at this time\n",
    "            T * (1 - sum(z[i] for i in constraint_data.out_of_region[c, t+1]))\n",
    "        \n",
    "    )\n",
    "\n",
    "\n",
    "    @constraint(m, fire_flow[c=1:C, g=1:G, t=1:T, rest=1:2],\n",
    "\n",
    "            sum(z[constraint_data.f_out[c, g, t, rest]]) ==\n",
    "            sum(z[constraint_data.f_in[c, g, t, rest]])\n",
    "    \n",
    "    )\n",
    "    \n",
    "    @constraint(m, base_flow[c=1:C, t=1:T, rest=1:2],\n",
    "\n",
    "            sum(z[constraint_data.b_out[c, t, rest]]) ==\n",
    "            sum(z[constraint_data.b_in[c, t, rest]])\n",
    "    \n",
    "    )\n",
    "\n",
    "\n",
    "    @constraint(m, linking[g=1:G, t=1:T],\n",
    "\n",
    "        LINE_PER_CREW * sum(z[constraint_data.supp_fire[g, t]]) >= l[g, t]\n",
    "    )\n",
    "    \n",
    "\n",
    "    # build start constraint\n",
    "    @constraint(m, start[c=1:C], \n",
    "\n",
    "        sum(z[constraint_data.start[c]]) == 1\n",
    "    )\n",
    "    \n",
    "    \n",
    "    \n",
    "\n",
    "    @objective(m, Min, \n",
    "        beta * (sum(p) - sum(p[1:G, 1])/2 - sum(p[1:G, T+1])/2) + \n",
    "        sum(z .* costs) + sum(q) * gamma\n",
    "    )\n",
    "    \n",
    "    return m, p, l, z, q, out_of_region, linking\n",
    "    \n",
    "end"
   ]
  },
  {
   "cell_type": "code",
   "execution_count": 23,
   "id": "28eeec56",
   "metadata": {},
   "outputs": [
    {
     "data": {
      "text/plain": [
       "load_data (generic function with 1 method)"
      ]
     },
     "execution_count": 23,
     "metadata": {},
     "output_type": "execute_result"
    }
   ],
   "source": [
    "function load_data(path)\n",
    "    \n",
    "    # get distance from fire f to fire g \n",
    "    fire_dists =  readdlm(path * \"/fire_distances.csv\", ',')\n",
    "\n",
    "    # get distance from base c to fire g (NUM_CREWS-by-NUM_FIRES)\n",
    "    base_fire_dists =  readdlm(path * \"/base_fire_distances.csv\", ',')\n",
    "\n",
    "    # initialize travel times (number of periods) from fire f to fire g\n",
    "    tau = convert(Array{Int}, ones(size(fire_dists)))\n",
    "\n",
    "    # initialize number of periods to travel from base c to fire g (NUM_CREWS-by-NUM_FIRES)\n",
    "    tau_base_to_fire = convert(Array{Int}, ones((size(base_fire_dists))))\n",
    "\n",
    "    # read intial crew statuses (location, period by which they must rest)\n",
    "    # (-1 in current_fire means crew is currently at base)\n",
    "    # (rested_periods is the amount of time crew has been at base, relevant for completing rest)\n",
    "    crew_starts = CSV.read(path * \"/sample_crew_starts.csv\", DataFrame)\n",
    "    rest_by = crew_starts[!, \"rest_by\"]\n",
    "    current_fire = crew_starts[!, \"current_fire\"]\n",
    "    rested_periods = crew_starts[!, \"rested_periods\"]\n",
    "\n",
    "\n",
    "    return (GlobalData(fire_dists, base_fire_dists, tau, tau_base_to_fire), \n",
    "            CrewStatus(rest_by, current_fire, rested_periods))\n",
    "end"
   ]
  },
  {
   "cell_type": "code",
   "execution_count": 479,
   "id": "6e68bf7e",
   "metadata": {},
   "outputs": [
    {
     "data": {
      "text/plain": [
       "master_problem (generic function with 1 method)"
      ]
     },
     "execution_count": 479,
     "metadata": {},
     "output_type": "execute_result"
    }
   ],
   "source": [
    "function master_problem(col_gen_config, route_data, supp_plan_data, region_data, rotation_order, gamma, price_branch)\n",
    "    \n",
    "    m = Model(() -> Gurobi.Optimizer(GRB_ENV))\n",
    "    set_optimizer_attribute(m, \"OutputFlag\", 0)\n",
    "    \n",
    "    regs = region_data.crew_regions\n",
    "    \n",
    "    # decision variables\n",
    "    if price_branch\n",
    "        @variable(m, route[c=1:NUM_CREWS, r=1:route_data.routes_per_crew[c]] >= 0, Int)\n",
    "        @variable(m, plan[g=1:NUM_FIRES, p=1:supp_plan_data.plans_per_fire[g]] >= 0, Int)\n",
    "        @variable(m, q[c=1:NUM_CREWS, t=0:NUM_TIME_PERIODS] >= 0, Int)\n",
    "    else\n",
    "        @variable(m, route[c=1:NUM_CREWS, r=1:route_data.routes_per_crew[c]] >= 0)\n",
    "        @variable(m, plan[g=1:NUM_FIRES, p=1:supp_plan_data.plans_per_fire[g]] >= 0)\n",
    "        @variable(m, q[c=1:NUM_CREWS, t=0:NUM_TIME_PERIODS] >= 0)\n",
    "    end\n",
    "    \n",
    "    # if we are doing a dual_stabilization\n",
    "    if col_gen_config[\"master_problem\"][\"dual_stabilization\"] != false\n",
    "        \n",
    "        # should not do this in price-and-branch framework\n",
    "        @assert price_branch == false\n",
    "        \n",
    "        # linking constraint perturbations\n",
    "        @variable(m, delta_plus[g=1:NUM_FIRES, t=1:NUM_TIME_PERIODS] >= 0)\n",
    "        @variable(m, delta_minus[g=1:NUM_FIRES, t=1:NUM_TIME_PERIODS] >= 0)\n",
    "        \n",
    "    end\n",
    "    \n",
    "    # constraints that you must choose a plan per crew and per fire\n",
    "    @constraint(m, route_per_crew[c=1:NUM_CREWS], \n",
    "                sum(route[c, r] for r=1:route_data.routes_per_crew[c]) == 1)\n",
    "    @constraint(m, plan_per_fire[g=1:NUM_FIRES], \n",
    "                sum(plan[g, p] for p=1:supp_plan_data.plans_per_fire[g]) >= 1)\n",
    "    \n",
    "    # linking constraint\n",
    "    \n",
    "    if col_gen_config[\"master_problem\"][\"dual_stabilization\"] == false\n",
    "        @constraint(m, linking[g=1:NUM_FIRES, t=1:NUM_TIME_PERIODS],\n",
    "\n",
    "                        # crews at fire\n",
    "                        sum(route[c, r] * route_data.fires_fought[c, r, g, t] \n",
    "                            for c=1:NUM_CREWS, r=1:route_data.routes_per_crew[c]) \n",
    "\n",
    "                        >=\n",
    "\n",
    "                        # crews suppressing\n",
    "                        sum(plan[g, p] * supp_plan_data.crews_present[g, p, t] \n",
    "                            for p=1:supp_plan_data.plans_per_fire[g]) \n",
    "\n",
    "                    )\n",
    "    elseif col_gen_config[\"master_problem\"][\"dual_stabilization\"] == \"global\"\n",
    "       \n",
    "        # get expected dual value ratios\n",
    "        ratios = col_gen_config[\"master_problem\"][\"dual_warm_start\"]\n",
    "        ratios = ratios / sum(ratios)\n",
    "        \n",
    "        # get secondary dual objective epsilon\n",
    "        secondary_eps = col_gen_config[\"master_problem\"][\"dual_secondary_eps\"]\n",
    "        \n",
    "        @constraint(m, linking[g=1:NUM_FIRES, t=1:NUM_TIME_PERIODS],\n",
    "\n",
    "                # crews at fire\n",
    "                sum(route[c, r] * route_data.fires_fought[c, r, g, t] \n",
    "                    for c=1:NUM_CREWS, r=1:route_data.routes_per_crew[c]) \n",
    "            \n",
    "                +\n",
    "            \n",
    "                # perturbation\n",
    "                delta_plus[g, t] - delta_minus[g, t] - \n",
    "                sum(ratios .* delta_plus) + sum(ratios .* delta_minus)\n",
    "                \n",
    "                >=\n",
    "\n",
    "                # crews suppressing\n",
    "                sum(plan[g, p] * supp_plan_data.crews_present[g, p, t] \n",
    "                    for p=1:supp_plan_data.plans_per_fire[g]) \n",
    "\n",
    "            )\n",
    "        @constraint(m, perturb[g=1:NUM_FIRES, t=1:NUM_TIME_PERIODS], \n",
    "                    delta_plus[g, t] + delta_minus[g, t] <= secondary_eps)\n",
    "    else\n",
    "        error(\"Dual stabilization type not implemented\")\n",
    "    end\n",
    "    \n",
    "\n",
    "    # out_of_region constraint\n",
    "    @constraint(m, out_of_region[c=1:NUM_CREWS, t=0:NUM_TIME_PERIODS],\n",
    "    \n",
    "        # out of region penalty is at least\n",
    "        q[c, t] >=\n",
    "        \n",
    "            # this crew's cumulative rotations\n",
    "            sum(route[c, r] * route_data.out_of_reg[c, r, t_0 + 1] \n",
    "            for r=1:route_data.routes_per_crew[c], t_0=0:t)\n",
    "        \n",
    "        - \n",
    "        \n",
    "            # average cumulative rotations among all crews in same region\n",
    "            sum(route[c_0, r] * route_data.out_of_reg[c_0, r, t_0 + 1] \n",
    "                for c_0 in keys(rotation_order[regs[c]]), r=1:route_data.routes_per_crew[c_0],\n",
    "                t_0=0:t) /\n",
    "            length(keys(rotation_order[regs[c]]))\n",
    "        \n",
    "        -\n",
    "        \n",
    "            # normalizing factor for specific crew rotation order\n",
    "            (1 - rotation_order[regs[c]][c] / length(keys(rotation_order[regs[c]])))\n",
    "        \n",
    "        -\n",
    "            # big-M for if crew goes not leave region at this time\n",
    "            NUM_TIME_PERIODS * (1 - sum(route[c, r] * route_data.out_of_reg[c, r, t+1]\n",
    "                                        for r=1:route_data.routes_per_crew[c])\n",
    "                               )\n",
    "        \n",
    "    )\n",
    "    \n",
    "    @objective(m, Min, \n",
    "        \n",
    "                  # route costs\n",
    "                  sum(route[c, r] * route_data.route_costs[c, r] \n",
    "                        for c=1:NUM_CREWS, r=1:route_data.routes_per_crew[c])\n",
    "        \n",
    "                  +\n",
    "                     \n",
    "                  # suppression plan costs\n",
    "                  sum(plan[g, p] * supp_plan_data.plan_costs[g, p] \n",
    "                     for g=1:NUM_FIRES, p=1:supp_plan_data.plans_per_fire[g]) \n",
    "        \n",
    "                  +\n",
    "        \n",
    "                  # rotational queueing violations cost\n",
    "                  sum(q) * gamma\n",
    "               )\n",
    "    \n",
    "    return Dict(\"m\" => m, \"q\" => q, \"sigma\" => route_per_crew, \"pi\" => plan_per_fire, \n",
    "                \"rho\" => linking, \"eta\" => out_of_region, \"route\" => route, \"plan\" => plan)\n",
    "end "
   ]
  },
  {
   "cell_type": "code",
   "execution_count": 25,
   "id": "b119f02d",
   "metadata": {},
   "outputs": [
    {
     "data": {
      "text/plain": [
       "init_route_subproblem (generic function with 2 methods)"
      ]
     },
     "execution_count": 25,
     "metadata": {},
     "output_type": "execute_result"
    }
   ],
   "source": [
    "function init_route_subproblem(crew_ixs, crew, constraint_data, integer_routes=false)\n",
    "    \n",
    "    # shorten some global variable names\n",
    "    C = NUM_CREWS\n",
    "    G = NUM_FIRES\n",
    "    T = NUM_TIME_PERIODS\n",
    "    \n",
    "    # intialize model\n",
    "    m = Model(() -> Gurobi.Optimizer(GRB_ENV))\n",
    "    set_optimizer_attribute(m, \"OutputFlag\", 0)\n",
    "\n",
    "    # routing plan section\n",
    "    if integer_routes\n",
    "        @variable(m, z[crew_ixs] >= 0, Int)\n",
    "    else\n",
    "        @variable(m, z[crew_ixs] >= 0)\n",
    "    end\n",
    "\n",
    "\n",
    "    @constraint(m, fire_flow[g=1:G, t=1:T, rest=1:2],\n",
    "\n",
    "            sum(z[constraint_data.f_out[crew, g, t, rest]]) ==\n",
    "            sum(z[constraint_data.f_in[crew, g, t, rest]])\n",
    "    \n",
    "    )\n",
    "    \n",
    "    @constraint(m, base_flow[t=1:T, rest=1:2],\n",
    "\n",
    "            sum(z[constraint_data.b_out[crew, t, rest]]) ==\n",
    "            sum(z[constraint_data.b_in[crew, t, rest]])\n",
    "    \n",
    "    )\n",
    "\n",
    "    # build start constraint\n",
    "    @constraint(m, start, \n",
    "\n",
    "        sum(z[constraint_data.start[crew]]) == 1\n",
    "    )\n",
    "    \n",
    "    return Dict(\"m\" => m, \"z\" => z, \"ff\" => fire_flow)\n",
    "    \n",
    "end"
   ]
  },
  {
   "cell_type": "code",
   "execution_count": 26,
   "id": "fccc53fc",
   "metadata": {},
   "outputs": [
    {
     "data": {
      "text/plain": [
       "init_suppression_plan_subproblem (generic function with 1 method)"
      ]
     },
     "execution_count": 26,
     "metadata": {},
     "output_type": "execute_result"
    }
   ],
   "source": [
    "function init_suppression_plan_subproblem(progs, perims, fire, beta)\n",
    "    \n",
    "    T = NUM_TIME_PERIODS\n",
    "    \n",
    "    m = Model(() -> Gurobi.Optimizer(GRB_ENV))\n",
    "    set_optimizer_attribute(m, \"OutputFlag\", 0)\n",
    "\n",
    "    # fire suppression plan section\n",
    "    @variable(m, p[t=1:T+1] >= 0)\n",
    "    @variable(m, l[t=1:T] >= 0)\n",
    "    @variable(m, NUM_CREWS >= d[t=1:T] >= 0, Int)\n",
    "    @constraint(m, suppression_per_crew[t=1:T], l[t] <= d[t] * LINE_PER_CREW)\n",
    "    @constraint(m, perim_growth[t=1:T], p[t+1] >= progs[fire, t] * (p[t] - l[t] / 2) - l[t] / 2)\n",
    "    @constraint(m, perim_start, p[1] == perims[fire])\n",
    "    \n",
    "#    \n",
    "    \n",
    "    return Dict(\"m\" => m, \"p\" => p, \"d\" => d, \"beta\" => beta)\n",
    "end"
   ]
  },
  {
   "cell_type": "code",
   "execution_count": 27,
   "id": "f3e3cd99",
   "metadata": {},
   "outputs": [
    {
     "data": {
      "text/plain": [
       "full_network_flow (generic function with 3 methods)"
      ]
     },
     "execution_count": 27,
     "metadata": {},
     "output_type": "execute_result"
    }
   ],
   "source": [
    "function full_network_flow(region_data, constraint_data, rotation_order, \n",
    "                               r_arc_costs, f_arc_costs, crews_needed, fire_linking_arcs, \n",
    "                               fire_start_arcs, f_out_arcs, f_in_arcs, gamma, integer=false, verbose=false)\n",
    "    \n",
    "    # get number of arcs\n",
    "    n_arcs_route = length(r_arc_costs)\n",
    "    n_arcs_fire = length(f_arc_costs)\n",
    "    \n",
    "    # shorten some global variable names\n",
    "    C = NUM_CREWS\n",
    "    G = NUM_FIRES\n",
    "    T = NUM_TIME_PERIODS\n",
    "    regs = region_data.crew_regions\n",
    "    \n",
    "    # intialize model\n",
    "    m = Model(() -> Gurobi.Optimizer(GRB_ENV))\n",
    "    \n",
    "    if ~verbose\n",
    "        set_optimizer_attribute(m, \"OutputFlag\", 0)\n",
    "    end\n",
    "\n",
    "    # fire suppression plan section\n",
    "    \n",
    "    if integer\n",
    "        @variable(m, y[i=1:n_arcs_fire] >= 0, Int)\n",
    "    else\n",
    "        @variable(m, y[i=1:n_arcs_fire] >= 0)\n",
    "    end\n",
    "        \n",
    "    @variable(m, d[fire=1:NUM_FIRES, t=1:NUM_TIME_PERIODS] >= 0)\n",
    "\n",
    "    @constraint(m, fire_linking[fire=1:NUM_FIRES, t=1:NUM_TIME_PERIODS],\n",
    "\n",
    "        d[fire, t] >= sum(crews_needed[i] * y[i] for i in fire_linking_arcs[fire][t])\n",
    "\n",
    "                )\n",
    "    \n",
    "    @constraint(m, fire_start[fire=1:NUM_FIRES], y[fire_start_arcs[fire]] == 1)\n",
    "    \n",
    "    n_states = size(f_out_arcs)[1]\n",
    "    @constraint(m, state_flow[s=1:n_states, t=1:NUM_TIME_PERIODS], sum(y[f_out_arcs[s, t]]) == sum(y[f_in_arcs[s, t]]))\n",
    "\n",
    "    if integer\n",
    "        @variable(m, z[1:n_arcs_route] >= 0, Int)\n",
    "    else\n",
    "        @variable(m, z[1:n_arcs_route] >= 0)\n",
    "    end\n",
    "    \n",
    "    @variable(m, q[1:C, 0:T] >= 0)\n",
    "    \n",
    "    # build out_of_region constraints\n",
    "    @constraint(m, out_of_region[c=1:C, t=0:T],\n",
    "    \n",
    "        # out of region penalty is at least\n",
    "        q[c, t] >=\n",
    "        \n",
    "            # this crew's cumulative rotations\n",
    "            sum(z[i] for t_0=0:t, i in constraint_data.out_of_region[c, t_0+1]) \n",
    "        \n",
    "        - \n",
    "        \n",
    "            # average cumulative rotations among all crews in same region\n",
    "            sum(z[i] for c_0 in keys(rotation_order[regs[c]]), t_0=0:t, \n",
    "                i in constraint_data.out_of_region[c_0, t_0+1]) /\n",
    "            length(keys(rotation_order[regs[c]]))\n",
    "        \n",
    "        -\n",
    "        \n",
    "            # normalizing factor for specific crew rotation order\n",
    "            (1 - rotation_order[regs[c]][c] / length(keys(rotation_order[regs[c]])))\n",
    "        \n",
    "        -\n",
    "            # big-M for if crew goes not leave region at this time\n",
    "            T * (1 - sum(z[i] for i in constraint_data.out_of_region[c, t+1]))\n",
    "        \n",
    "    )\n",
    "\n",
    "\n",
    "    @constraint(m, fire_flow[c=1:C, g=1:G, t=1:T, rest=1:2],\n",
    "\n",
    "            sum(z[constraint_data.f_out[c, g, t, rest]]) ==\n",
    "            sum(z[constraint_data.f_in[c, g, t, rest]])\n",
    "    \n",
    "    )\n",
    "    \n",
    "    @constraint(m, base_flow[c=1:C, t=1:T, rest=1:2],\n",
    "\n",
    "            sum(z[constraint_data.b_out[c, t, rest]]) ==\n",
    "            sum(z[constraint_data.b_in[c, t, rest]])\n",
    "    \n",
    "    )\n",
    "\n",
    "\n",
    "    @constraint(m, route_linking[g=1:G, t=1:T],\n",
    "\n",
    "        sum(z[constraint_data.supp_fire[g, t]]) >= d[g, t] \n",
    "    )\n",
    "    \n",
    "    # build start constraint\n",
    "    @constraint(m, start[c=1:C], \n",
    "\n",
    "        sum(z[constraint_data.start[c]]) == 1\n",
    "    )\n",
    "    \n",
    "    \n",
    "    \n",
    "    \n",
    "\n",
    "    @objective(m, Min, \n",
    "        sum(y .* f_arc_costs) + \n",
    "        sum(z .* r_arc_costs) + sum(q) * gamma\n",
    "    )\n",
    "    \n",
    "    return Dict(\"m\" => m, \"d\" => d, \"z\" => z, \"y\" => y, \"q\" => q, \"oor\" => out_of_region, \n",
    "                \"r_linking\" => route_linking, \"f_linking\" => fire_linking)\n",
    "    \n",
    "end"
   ]
  },
  {
   "cell_type": "code",
   "execution_count": 28,
   "id": "c58c178a",
   "metadata": {},
   "outputs": [
    {
     "data": {
      "text/plain": [
       "warm_start_suppression_plans (generic function with 1 method)"
      ]
     },
     "execution_count": 28,
     "metadata": {},
     "output_type": "execute_result"
    }
   ],
   "source": [
    "function warm_start_suppression_plans(plans_per_fire, fire_model_configs, region_data, constraint_data, rotation_order, \n",
    "                               r_arc_costs, gamma, integer, verbose, time_limit)\n",
    "    \n",
    "    all_fire_configs = [Dict{String,Any}(\"solver_type\" => \"network_flow_gurobi\") for fire in 1:NUM_FIRES]\n",
    "    \n",
    "    fire_sps = []\n",
    "    for fire in 1:NUM_FIRES\n",
    "        config = all_fire_configs[fire]\n",
    "        config[\"model_data\"] = fire_model_configs[fire]\n",
    "        config[\"warm_start\"] = \"lp_relax\"\n",
    "        d = init_suppression_plan_subproblem(config)\n",
    "        push!(fire_sps, d)\n",
    "    end\n",
    "    \n",
    "    round_type = \"ceiling\"\n",
    "    arcs_per_sp = [size(fire_sps[fire][round_type][\"arcs\"])[1] for fire in 1:NUM_FIRES]\n",
    "    \n",
    "    for fire in 1:NUM_FIRES\n",
    "        fire_arcs = fire_sps[fire][round_type][\"arcs\"]\n",
    "        fire_arcs[:, 1] .= fire\n",
    "    end\n",
    "    concat_fire_arcs = reduce(vcat, [fire_sps[fire][round_type][\"arcs\"] for fire in 1:NUM_FIRES])\n",
    "    n_fire_arc = size(concat_fire_arcs)[1]\n",
    "\n",
    "\n",
    "    fire_linking = []\n",
    "    for fire in 1:NUM_FIRES\n",
    "        fire_arcs = fire_sps[fire][round_type][\"arcs\"]\n",
    "        push!(fire_linking, [[j for j in 1:size(fire_arcs)[1] if fire_arcs[j, 3] == i] for i in 1:NUM_TIME_PERIODS])\n",
    "    end\n",
    "\n",
    "\n",
    "    offset = 0\n",
    "    for fire in 1:NUM_FIRES\n",
    "        for i in 1:length(fire_linking[fire])\n",
    "            fire_linking[fire][i] = fire_linking[fire][i] .+ offset\n",
    "        end\n",
    "        offset = offset + arcs_per_sp[fire]\n",
    "    end\n",
    "    \n",
    "    all_out_arcs = reduce(vcat, [fire_sps[fire][round_type][\"out_arcs\"] for fire in 1:NUM_FIRES])\n",
    "    all_in_arcs = reduce(vcat, [fire_sps[fire][round_type][\"in_arcs\"] for fire in 1:NUM_FIRES])\n",
    "\n",
    "    state_offsets = [size(fire_sps[fire][round_type][\"out_arcs\"])[1] for fire in 1:NUM_FIRES]\n",
    "    state_offsets  = cumsum(state_offsets)\n",
    "\n",
    "    for all_arcs in [all_out_arcs, all_in_arcs]\n",
    "        for i in 1:size(all_arcs)[1]\n",
    "            for fire in 1:NUM_FIRES\n",
    "                if i > state_offsets[fire]\n",
    "                    for j in 1:NUM_TIME_PERIODS\n",
    "                        all_arcs[i, j] = all_arcs[i, j] .+ arcs_per_sp[fire]\n",
    "                    end\n",
    "                end\n",
    "            end\n",
    "        end\n",
    "    end\n",
    "    \n",
    "    crew_requirements = concat_fire_arcs[:, 6]\n",
    "    fire_arc_costs = reduce(vcat, [fire_sps[fire][round_type][\"costs\"] for fire in 1:NUM_FIRES])\n",
    "    start_arcs = reduce(vcat, all_in_arcs[:, 1])\n",
    "    \n",
    "    network_flow_model = full_network_flow(region_data, constraint_data, rotation_order, \n",
    "                               r_arc_costs, fire_arc_costs, crew_requirements, fire_linking, \n",
    "                               start_arcs, all_out_arcs, all_in_arcs, gamma, integer, verbose)\n",
    "    \n",
    "    if integer\n",
    "        set_optimizer_attribute(network_flow_model[\"m\"], \"TimeLimit\", time_limit)\n",
    "        set_optimizer_attribute(network_flow_model[\"m\"], \"MIPFocus\", 1)\n",
    "    end\n",
    "        \n",
    "    optimize!(network_flow_model[\"m\"])\n",
    "    \n",
    "    d = network_flow_model[\"d\"]\n",
    "    network_flow_model[\"arcs\"] = concat_fire_arcs\n",
    "    network_flow_model[\"arc_costs\"] = fire_arc_costs\n",
    "    \n",
    "    return [suppression_plan_perturbations(ceil.(value.(d[fire, :]) .- 0.00001), plans_per_fire) for fire in 1:NUM_FIRES], network_flow_model\n",
    "end"
   ]
  },
  {
   "cell_type": "code",
   "execution_count": 29,
   "id": "ce1eb6e2",
   "metadata": {},
   "outputs": [
    {
     "data": {
      "text/plain": [
       "arcs_from_state_graph (generic function with 1 method)"
      ]
     },
     "execution_count": 29,
     "metadata": {},
     "output_type": "execute_result"
    }
   ],
   "source": [
    "function arcs_from_state_graph(graph)\n",
    "    \n",
    "    visitable = [(i,j) for i in 1:size(graph)[1], j in 1:size(graph)[2] if isassigned(graph, i, j)]\n",
    "    edges = []\n",
    "\n",
    "    for (i, j) in visitable\n",
    "        push!(edges, copy(reduce(hcat, [[i, j, j+1, a[1], a[2]] for a in graph[i, j]])'))\n",
    "    end\n",
    "\n",
    "    return vcat([size(graph)[1], 0, 1, size(graph)[1], 0]', reduce(vcat, edges))\n",
    "end"
   ]
  },
  {
   "cell_type": "code",
   "execution_count": 30,
   "id": "ea854f5a",
   "metadata": {},
   "outputs": [
    {
     "data": {
      "text/plain": [
       "get_fire_cost (generic function with 1 method)"
      ]
     },
     "execution_count": 30,
     "metadata": {},
     "output_type": "execute_result"
    }
   ],
   "source": [
    "function get_fire_cost(crew_allocations, params)\n",
    "    \n",
    "    if params[\"model_type\"] == \"simple_linear\"\n",
    "        \n",
    "        perims = zeros(NUM_TIME_PERIODS + 1)\n",
    "        perims[1] = params[\"start_perim\"]\n",
    "        for i in 1:NUM_TIME_PERIODS\n",
    "            perims[i+1] = update_fire_stats(perims[i], i, crew_allocations[i], params)\n",
    "        end\n",
    "        \n",
    "        return params[\"beta\"] * (sum(perims) - 0.5 * perims[1] - 0.5 * perims[end])\n",
    "        \n",
    "    else\n",
    "        error(\"Model type not implemented\")\n",
    "    end\n",
    "end"
   ]
  },
  {
   "cell_type": "code",
   "execution_count": 31,
   "id": "bf5f66cc",
   "metadata": {},
   "outputs": [
    {
     "data": {
      "text/plain": [
       "update_fire_stats (generic function with 1 method)"
      ]
     },
     "execution_count": 31,
     "metadata": {},
     "output_type": "execute_result"
    }
   ],
   "source": [
    "function update_fire_stats(curr_stats, curr_time, crew_allocation, params)\n",
    "    \n",
    "    if params[\"model_type\"] == \"simple_linear\"\n",
    "        \n",
    "        line_per_crew = params[\"line_per_crew\"]\n",
    "        prog = params[\"progressions\"][curr_time]\n",
    "        line = line_per_crew * crew_allocation\n",
    "        next_stats = (curr_stats - line/2) * prog - line/2\n",
    "        next_stats = max(0, next_stats)\n",
    "        \n",
    "    else\n",
    "        error(\"Not implemented\")\n",
    "    end\n",
    "    \n",
    "    return next_stats\n",
    "end"
   ]
  },
  {
   "cell_type": "code",
   "execution_count": 32,
   "id": "bc9b4b8e",
   "metadata": {},
   "outputs": [
    {
     "data": {
      "text/plain": [
       "inverse_update_fire_stats (generic function with 1 method)"
      ]
     },
     "execution_count": 32,
     "metadata": {},
     "output_type": "execute_result"
    }
   ],
   "source": [
    "function inverse_update_fire_stats(stats_from, stats_to, time_from, time_to, params)\n",
    "    \"\"\" Returns number of crews needed for given fire transition \"\"\"\n",
    "    \n",
    "    if params[\"model_type\"] == \"simple_linear\"\n",
    "\n",
    "        line_per_crew = params[\"line_per_crew\"]\n",
    "        prog = params[\"progressions\"][time_from]\n",
    "        \n",
    "        crews = 2 / line_per_crew * (prog * stats_from - stats_to) / (1 + prog)\n",
    "        \n",
    "    else\n",
    "        error(\"Not implemented\")\n",
    "    end\n",
    "    \n",
    "    return crews\n",
    "    \n",
    "end"
   ]
  },
  {
   "cell_type": "code",
   "execution_count": 33,
   "id": "2ee8793e",
   "metadata": {},
   "outputs": [
    {
     "data": {
      "text/plain": [
       "create_discrete_fire_states (generic function with 1 method)"
      ]
     },
     "execution_count": 33,
     "metadata": {},
     "output_type": "execute_result"
    }
   ],
   "source": [
    "function create_discrete_fire_states(params)\n",
    "    \n",
    "    if params[\"model_type\"] == \"simple_linear\"\n",
    "        \n",
    "        # get the no-suppression progression of this fire\n",
    "        progs = params[\"progressions\"]\n",
    "        start_perim = params[\"start_perim\"]\n",
    "        no_supp = [start_perim]\n",
    "        for i in 1:NUM_TIME_PERIODS\n",
    "            push!(no_supp, no_supp[i] * progs[i])\n",
    "        end\n",
    "        \n",
    "        # generalize this later\n",
    "        aggressive_precision = AGG_PREC\n",
    "        num_aggressive_states = convert(Int, round(start_perim * 2 / aggressive_precision))\n",
    "        num_passive_states = PASSIVE_STATES\n",
    "\n",
    "        aggressive_states = LinRange(0, num_aggressive_states * aggressive_precision, num_aggressive_states)\n",
    "        passive_states = exp.(LinRange(log(num_aggressive_states * aggressive_precision + 1), \n",
    "                                       maximum(log.(no_supp .+ 1)), num_passive_states + 1)\n",
    "                             )\n",
    "        passive_states = passive_states[2:num_passive_states+1] .- 1\n",
    "        all_states = vcat(aggressive_states, passive_states)\n",
    "        all_states = vcat(all_states, 9999999)\n",
    "        \n",
    "        push!(all_states, start_perim)\n",
    "        \n",
    "    else\n",
    "        error(\"Not implemented\")\n",
    "    end\n",
    "    \n",
    "    return all_states\n",
    "end"
   ]
  },
  {
   "cell_type": "code",
   "execution_count": 34,
   "id": "487a4435",
   "metadata": {},
   "outputs": [
    {
     "data": {
      "text/plain": [
       "generate_state_transition_crew_reqs (generic function with 1 method)"
      ]
     },
     "execution_count": 34,
     "metadata": {},
     "output_type": "execute_result"
    }
   ],
   "source": [
    "function generate_state_transition_crew_reqs(curr_stats, curr_time, sorted_states, params, round_types)\n",
    "    \n",
    "    if params[\"model_type\"] == \"simple_linear\"\n",
    "        \n",
    "        # get all possibly feasible states\n",
    "        min_state_val = update_fire_stats(curr_stats, curr_time, NUM_CREWS + 0.5, params)\n",
    "        max_state_val = update_fire_stats(curr_stats, curr_time, 0, params)\n",
    "        \n",
    "        # get min and max index of the possibly feasible states\n",
    "        min_state_ix = searchsorted(sorted_states, min_state_val).start\n",
    "        max_state_ix = searchsorted(sorted_states, max_state_val).start\n",
    "        \n",
    "        # inititalize output \n",
    "        output = Dict()\n",
    "        for round_type in round_types\n",
    "            output[round_type] = []\n",
    "        end\n",
    "        \n",
    "        # inititalize minimum crews needed so far, for trimming (explained below)\n",
    "        min_used = Dict()\n",
    "        for round_type in round_types\n",
    "            min_used[round_type] = NUM_CREWS + 1\n",
    "        end\n",
    "        \n",
    "        # for each feasible state\n",
    "        for state_ix in min_state_ix:max_state_ix\n",
    "            crews_needed = inverse_update_fire_stats(curr_stats, sorted_states[state_ix], curr_time, \n",
    "                                                     curr_time + 1, params)\n",
    "            \n",
    "            # for each round type\n",
    "            for round_type in round_types\n",
    "                \n",
    "                # round the number of crews\n",
    "                if round_type == \"ceiling\"\n",
    "                    crews = max(0, convert(Int, ceil(crews_needed - 0.0001)))\n",
    "                elseif round_type == \"floor\"\n",
    "                    crews = max(0, convert(Int, floor(crews_needed + 0.0001)))\n",
    "                elseif round_type == \"nearest\"\n",
    "                    crews = max(0, convert(Int, round(crews_needed)))\n",
    "                else\n",
    "                    error(\"Round type not implemented\")\n",
    "                end\n",
    "                \n",
    "                # since the states are sorted in increasing level of cost and risk\n",
    "                # we can trim arcs that are dominated\n",
    "                \n",
    "                # if this is a feasible number of crews and we do not have a dominating arc\n",
    "                if (crews <= NUM_CREWS) & (crews < min_used[round_type])\n",
    "                    \n",
    "                    # update the minimum crews used for this round type\n",
    "                    min_used[round_type] = crews\n",
    "                    \n",
    "                    # push the crew requirement for this transition to the corresponding list\n",
    "                    push!(output[round_type], (state_ix, crews))\n",
    "                end\n",
    "            end\n",
    "        end\n",
    "        \n",
    "        return output\n",
    "\n",
    "    \n",
    "    else\n",
    "        error(\"Model type not implemented\")\n",
    "    end\n",
    "    \n",
    "end\n",
    "        "
   ]
  },
  {
   "cell_type": "code",
   "execution_count": 35,
   "id": "39a34e4a",
   "metadata": {},
   "outputs": [
    {
     "data": {
      "text/plain": [
       "generate_graphs (generic function with 1 method)"
      ]
     },
     "execution_count": 35,
     "metadata": {},
     "output_type": "execute_result"
    }
   ],
   "source": [
    "function generate_graphs(states, params, round_types)\n",
    "    \n",
    "    # separate out non start states\n",
    "    non_start_states = states[1:length(states)-1]\n",
    "    \n",
    "    # initializations\n",
    "    n_states = length(non_start_states)\n",
    "    crews_needed = Dict()\n",
    "    \n",
    "    # for each round type\n",
    "    for round_type in round_types\n",
    "        \n",
    "        # init graph as array of vectors (each index is a state*time vertex, each vector holds edges out)\n",
    "        crews_needed[round_type] = Array{Vector{}}(undef, n_states + 1, NUM_TIME_PERIODS + 1)\n",
    "        \n",
    "        # initialize time, state indices to check next\n",
    "        curr_time = 1\n",
    "        next_to_check = [n_states + 1]\n",
    "        \n",
    "        # while we have not yet reached the end of the horizon\n",
    "        while curr_time < NUM_TIME_PERIODS + 1\n",
    "            \n",
    "            # copy the indices to check and reset next_to_check\n",
    "            to_check = copy(next_to_check)\n",
    "            next_to_check = []\n",
    "\n",
    "            # for each state index feasible to reach at this time period\n",
    "            for check in to_check\n",
    "\n",
    "                # if it is not the last (no return) state\n",
    "                if check != n_states\n",
    "                    \n",
    "                    # find the crew requirements for feasible edges\n",
    "                    edges = generate_state_transition_crew_reqs(states[check], curr_time, non_start_states, \n",
    "                                                                params, [round_type])[round_type]\n",
    "                \n",
    "                # otherwise stay at this state\n",
    "                else\n",
    "                    edges = [(n_states, 0)]\n",
    "                end\n",
    "\n",
    "                # update the crews needed for each edge coming out of this state\n",
    "                crews_needed[round_type][check, curr_time] = edges\n",
    "\n",
    "                # append the neighbors to next_to_check\n",
    "                next_to_check = vcat(next_to_check, [edges[i][1] for i in 1:length(edges) \n",
    "                                                     if ~(edges[i][1] in next_to_check)])\n",
    "            end\n",
    "            \n",
    "            # add one to the time\n",
    "            curr_time += 1\n",
    "        end\n",
    "    end\n",
    "    \n",
    "    return crews_needed\n",
    "end"
   ]
  },
  {
   "cell_type": "code",
   "execution_count": 36,
   "id": "01fd9968",
   "metadata": {},
   "outputs": [
    {
     "data": {
      "text/plain": [
       "create_local_edge_price_func (generic function with 1 method)"
      ]
     },
     "execution_count": 36,
     "metadata": {},
     "output_type": "execute_result"
    }
   ],
   "source": [
    "function create_local_edge_price_func(rho, edge_caps, break_cap_penalty)\n",
    "\n",
    "    function local_edge_price(curr_time, num_crews)\n",
    "    \n",
    "        out = rho[curr_time] * num_crews\n",
    "        if num_crews > edge_caps[curr_time]\n",
    "            out += break_cap_penalty * (num_crews - edge_caps[curr_time])\n",
    "        end\n",
    "        \n",
    "        return out\n",
    "    end\n",
    "    \n",
    "    return local_edge_price\n",
    "end "
   ]
  },
  {
   "cell_type": "code",
   "execution_count": 37,
   "id": "44ce89cb",
   "metadata": {},
   "outputs": [
    {
     "data": {
      "text/plain": [
       "solve_fire_dp (generic function with 1 method)"
      ]
     },
     "execution_count": 37,
     "metadata": {},
     "output_type": "execute_result"
    }
   ],
   "source": [
    "function solve_fire_dp(graph, avail_nodes, state_enter_costs, local_edge_price_func)\n",
    "    \n",
    "    n_states = size(state_enter_costs)[1]\n",
    "    \n",
    "    curr_time = NUM_TIME_PERIODS\n",
    "    costs = zeros(n_states, NUM_TIME_PERIODS + 1) .+ 1.0e12\n",
    "    costs[:, NUM_TIME_PERIODS + 1] = state_enter_costs[:, NUM_TIME_PERIODS + 1]\n",
    "    bests = Dict()\n",
    "    \n",
    "    # backward induction\n",
    "    while curr_time > 0\n",
    "    \n",
    "        state_time_costs = state_enter_costs[:, curr_time]\n",
    "        nodes_to_check = avail_nodes[curr_time]\n",
    "        \n",
    "        for node in nodes_to_check\n",
    "            current_cost = 1e30\n",
    "            current_best = -1\n",
    "            current_allot = -1\n",
    "            edges = graph[node, curr_time]\n",
    "            for edge in edges\n",
    "                edge_cost = costs[edge[1], curr_time + 1] + local_edge_price_func(curr_time, edge[2])\n",
    "                if edge_cost < current_cost\n",
    "                    current_best = edge[1]\n",
    "                    current_allot = edge[2]\n",
    "                    current_cost = edge_cost\n",
    "                end\n",
    "            end\n",
    "            costs[node, curr_time] = current_cost + state_time_costs[node]\n",
    "            bests[(node, curr_time)] = (current_best, current_allot);\n",
    "        end\n",
    "\n",
    "        curr_time -= 1\n",
    "    end\n",
    "    \n",
    "    # recreate path\n",
    "    curr_state = n_states\n",
    "    curr_time = 1\n",
    "    curr_cost = state_enter_costs[curr_state, curr_time]\n",
    "    allotments = convert.(Int, zeros(NUM_TIME_PERIODS))\n",
    "    all_states = convert.(Int, zeros(NUM_TIME_PERIODS + 1))\n",
    "    all_states[1] = curr_state\n",
    "\n",
    "    while curr_time < NUM_TIME_PERIODS + 1\n",
    "\n",
    "        next_state = bests[(curr_state, curr_time)]\n",
    "        curr_state = next_state[1]\n",
    "        allotments[curr_time] = next_state[2]\n",
    "        curr_time += 1\n",
    "        all_states[curr_time] = curr_state\n",
    "        curr_cost += state_enter_costs[curr_state, curr_time]\n",
    "    end\n",
    "    \n",
    "    return allotments, all_states, curr_cost, costs[n_states, 1]\n",
    "end"
   ]
  },
  {
   "cell_type": "code",
   "execution_count": 38,
   "id": "17c73aaf",
   "metadata": {},
   "outputs": [
    {
     "data": {
      "text/plain": [
       "get_state_entrance_cost (generic function with 1 method)"
      ]
     },
     "execution_count": 38,
     "metadata": {},
     "output_type": "execute_result"
    }
   ],
   "source": [
    "function get_state_entrance_cost(state, enter_time, params)\n",
    "    \n",
    "    if params[\"model_type\"] == \"simple_linear\"\n",
    "        \n",
    "        if (enter_time == 1) | (enter_time == NUM_TIME_PERIODS + 1)\n",
    "            return params[\"beta\"] * state / 2\n",
    "        elseif (enter_time > 1) & (enter_time < NUM_TIME_PERIODS + 1)\n",
    "            return params[\"beta\"] * state\n",
    "        else\n",
    "            error(\"Invalid time\")\n",
    "        end\n",
    "    else\n",
    "        error(\"Not implemented\")\n",
    "    end\n",
    "end"
   ]
  },
  {
   "cell_type": "code",
   "execution_count": 39,
   "id": "cdb02b2d",
   "metadata": {},
   "outputs": [
    {
     "data": {
      "text/plain": [
       "init_suppression_plan_subproblem (generic function with 2 methods)"
      ]
     },
     "execution_count": 39,
     "metadata": {},
     "output_type": "execute_result"
    }
   ],
   "source": [
    "function init_suppression_plan_subproblem(config)\n",
    "             \n",
    "    if config[\"solver_type\"] == \"dp\"\n",
    "\n",
    "        states = create_discrete_fire_states(config[\"model_data\"])\n",
    "        graphs = generate_graphs(states, config[\"model_data\"], [\"ceiling\", \"floor\"])\n",
    "        nodes_avail = Dict()\n",
    "        nodes_avail[\"floor\"] = Dict(i => [j for j in 1:size(graphs[\"floor\"])[1] \n",
    "                                          if isassigned(graphs[\"floor\"], j, i)] \n",
    "                                    for i in 1:size(graphs[\"floor\"])[2])\n",
    "        nodes_avail[\"ceiling\"] = Dict(i => [j for j in 1:size(graphs[\"ceiling\"])[1] \n",
    "                                            if isassigned(graphs[\"ceiling\"], j, i)] \n",
    "                                      for i in 1:size(graphs[\"ceiling\"])[2])\n",
    "        state_costs = zeros(length(states), NUM_TIME_PERIODS + 1)\n",
    "        for i = 1:length(states)\n",
    "            for j = 1:NUM_TIME_PERIODS + 1\n",
    "                state_costs[i, j] = get_state_entrance_cost(states[i], j, config[\"model_data\"])\n",
    "            end\n",
    "        end\n",
    "        \n",
    "        return Dict(\"graphs\" => graphs, \"avail_nodes\" => nodes_avail, \"state_costs\" => state_costs)\n",
    "        \n",
    "    elseif config[\"solver_type\"] == \"network_flow_gurobi\"\n",
    "        \n",
    "        # get graph formulation\n",
    "        d = copy(config)\n",
    "        d[\"solver_type\"] = \"dp\"\n",
    "        sp_dp = init_suppression_plan_subproblem(d)\n",
    "        \n",
    "        output = Dict{String, Any}()\n",
    "        \n",
    "        for strategy in keys(sp_dp[\"graphs\"])\n",
    "            \n",
    "            graph = sp_dp[\"graphs\"][strategy]\n",
    "\n",
    "            arc_array = arcs_from_state_graph(graph)\n",
    "            n_arcs = length(arc_array[:, 1])\n",
    "\n",
    "            # add crew to front (actually, this is deprecated, adding just -1's to keep column order)\n",
    "            arc_array = hcat(convert.(Int, zeros(length(arc_array[:, 1]))) .- 1, arc_array)\n",
    "\n",
    "            state_costs = sp_dp[\"state_costs\"]\n",
    "            arc_costs = [state_costs[arc_array[i, 5], arc_array[i, 4]] for i in 1:n_arcs]\n",
    "\n",
    "\n",
    "            n_states = size(state_costs)[1]  \n",
    "\n",
    "            out_arcs = Array{Vector{Int64}}(undef, n_states, NUM_TIME_PERIODS)\n",
    "            in_arcs = Array{Vector{Int64}}(undef, n_states, NUM_TIME_PERIODS)\n",
    "\n",
    "            for s in 1:n_states\n",
    "                state_arcs = [i for i in 1:n_arcs if arc_array[i, 2] == s]\n",
    "                for t in 1:NUM_TIME_PERIODS\n",
    "                    out_arcs[s, t] = [i for i in state_arcs if arc_array[i, 3] == t]\n",
    "                end\n",
    "            end\n",
    "\n",
    "            for s in 1:n_states\n",
    "                state_arcs = [i for i in 1:n_arcs if arc_array[i, 5] == s]\n",
    "                for t in 1:NUM_TIME_PERIODS\n",
    "                    in_arcs[s, t] = [i for i in state_arcs if arc_array[i, 4] == t]\n",
    "                end\n",
    "            end\n",
    "\n",
    "            if config[\"warm_start\"] == \"lp_relax\"\n",
    "                output[strategy] = Dict(\"arcs\" => arc_array, \"costs\" => arc_costs, \n",
    "                                        \"out_arcs\" => out_arcs, \"in_arcs\" => in_arcs)\n",
    "            else\n",
    "                # intialize model\n",
    "                m = Model(() -> Gurobi.Optimizer(GRB_ENV))\n",
    "                set_optimizer_attribute(m, \"OutputFlag\", 0)\n",
    "\n",
    "                @variable(m, z[1:n_arcs] >= 0, Int)\n",
    "                @constraint(m, flow[s=1:n_states, t=1:NUM_TIME_PERIODS], sum(z[out_arcs[s, t]]) == sum(z[in_arcs[s, t]]))\n",
    "                @constraint(m, start, z[1] == 1)\n",
    "\n",
    "\n",
    "                output[strategy] = Dict(\"arcs\" => arc_array, \"costs\" => arc_costs, \"m\" => m, \"z\" => z, \n",
    "                                        \"out_arcs\" => out_arcs, \"in_arcs\" => in_arcs)\n",
    "            end\n",
    "        end\n",
    "        \n",
    "        return output\n",
    "        \n",
    "    elseif config[\"solver_type\"] == \"gurobi\"\n",
    "        \n",
    "        if config[\"model_data\"][\"model_type\"] == \"simple_linear\"\n",
    "\n",
    "            progs = config[\"model_data\"][\"progressions\"]\n",
    "            perim = config[\"model_data\"][\"start_perim\"]\n",
    "            beta = config[\"model_data\"][\"beta\"]\n",
    "\n",
    "            T = NUM_TIME_PERIODS\n",
    "\n",
    "            m = Model(() -> Gurobi.Optimizer(GRB_ENV))\n",
    "            set_optimizer_attribute(m, \"OutputFlag\", 0)\n",
    "\n",
    "            # fire suppression plan section\n",
    "            @variable(m, p[t=1:T+1] >= 0)\n",
    "            @variable(m, l[t=1:T] >= 0)\n",
    "            @variable(m, NUM_CREWS >= d[t=1:T] >= 0, Int)\n",
    "            @constraint(m, suppression_per_crew[t=1:T], l[t] <= d[t] * LINE_PER_CREW)\n",
    "            @constraint(m, perim_growth[t=1:T], p[t+1] >= progs[t] * (p[t] - l[t] / 2) - l[t] / 2)\n",
    "            @constraint(m, perim_start, p[1] == perim)\n",
    "\n",
    "\n",
    "            return Dict(\"m\" => m, \"p\" => p, \"d\" => d, \"beta\" => beta)\n",
    "        else\n",
    "            error(\"Model type not implemented for Gurobi\")\n",
    "        end\n",
    "    else\n",
    "        error(\"Solver type not implemented\")\n",
    "    end\n",
    "end"
   ]
  },
  {
   "cell_type": "code",
   "execution_count": 40,
   "id": "7f8c4cbe",
   "metadata": {},
   "outputs": [
    {
     "data": {
      "text/plain": [
       "run_fire_subproblem (generic function with 1 method)"
      ]
     },
     "execution_count": 40,
     "metadata": {},
     "output_type": "execute_result"
    }
   ],
   "source": [
    "function run_fire_subproblem(sp, config, rho)\n",
    "    \n",
    "    if config[\"solver_type\"] == \"gurobi\"\n",
    "        \n",
    "        if config[\"model_data\"][\"model_type\"] == \"simple_linear\"\n",
    "            \n",
    "            m = sp[\"m\"]\n",
    "            p = sp[\"p\"]\n",
    "            d = sp[\"d\"]\n",
    "            beta = sp[\"beta\"]\n",
    "            \n",
    "            if config[\"warm_start\"] == \"dummy\"\n",
    "                @objective(m, Min, sum(d))\n",
    "            elseif config[\"warm_start\"] == false\n",
    "                @objective(m, Min, beta * (sum(p) - p[1]/2 - p[NUM_TIME_PERIODS + 1]/2) + \n",
    "                                   sum(d .* rho) + 0.0001 * sum(d))\n",
    "            else\n",
    "                error(\"warm start type not implemented\")\n",
    "            end\n",
    "            \n",
    "            optimize!(m)\n",
    "            \n",
    "            # get the required information from the model decision variables\n",
    "            cost, crew_vector = get_supp_plan_stats(p, d, beta)\n",
    "            \n",
    "            return cost, objective_value(m), crew_vector\n",
    "        else\n",
    "            error(\"model type not implemented\")\n",
    "        end\n",
    "        \n",
    "    elseif config[\"solver_type\"] == \"dp\"\n",
    "        strategy = config[\"solver_strategy\"]\n",
    "        graph = sp[\"graphs\"][strategy]\n",
    "        avail_nodes = sp[\"avail_nodes\"][strategy]\n",
    "        state_enter_costs = sp[\"state_costs\"]\n",
    "        \n",
    "        if config[\"warm_start\"] == \"dummy\"\n",
    "            duals = zeros(length(rho)) .+ 1e30\n",
    "        elseif config[\"warm_start\"] == false\n",
    "            duals = rho\n",
    "        else\n",
    "            error(\"warm start type not implemented\")\n",
    "        end\n",
    "        \n",
    "        # get capacities\n",
    "        capacities = config[\"capacities\"]\n",
    "        break_capacity_penalty = config[\"break_capacity_penalty\"]\n",
    "    \n",
    "        # make edge price function\n",
    "        edge_prices = create_local_edge_price_func(duals, capacities, break_capacity_penalty)\n",
    "        \n",
    "        # solve dp\n",
    "        allotments, states, cost, rel_cost = solve_fire_dp(graph, avail_nodes, state_enter_costs, edge_prices)\n",
    "        \n",
    "        return cost, rel_cost, allotments\n",
    "        \n",
    "    elseif config[\"solver_type\"] == \"network_flow_gurobi\"\n",
    "        strategy = config[\"solver_strategy\"]\n",
    "        model_data = sp[strategy]\n",
    "        m = model_data[\"m\"]\n",
    "        z = model_data[\"z\"]\n",
    "        arc_costs = model_data[\"costs\"]\n",
    "        arc_array = model_data[\"arcs\"]\n",
    "        \n",
    "        if config[\"warm_start\"] == \"dummy\"\n",
    "            duals = zeros(length(rho)) .+ 1e30\n",
    "        elseif config[\"warm_start\"] == false\n",
    "            duals = rho\n",
    "        else\n",
    "            error(\"warm start type not implemented\")\n",
    "        end\n",
    "        \n",
    "        # no cost to start edge\n",
    "        duals = vcat([0], duals)\n",
    "        \n",
    "        adj_costs = arc_costs .+ [arc_array[i, 6] * duals[arc_array[i, 3] + 1] for i in 1:length(arc_costs)]\n",
    "        @objective(m, Min, sum(adj_costs .* z))\n",
    "        optimize!(m)\n",
    "        \n",
    "        rel_cost = objective_value(m)\n",
    "        arcs_used = [i for i in 1:length(adj_costs) if value(z[i]) > 0.9]\n",
    "        cost = sum(arc_costs[arcs_used])\n",
    "        allotments = arc_array[arcs_used[2:length(arcs_used)], 6]\n",
    "\n",
    "        return cost, rel_cost, allotments\n",
    "    else\n",
    "        error(\"solver type not implemented\")\n",
    "    end\n",
    "end"
   ]
  },
  {
   "cell_type": "code",
   "execution_count": 41,
   "id": "4e8cc7c3",
   "metadata": {},
   "outputs": [
    {
     "data": {
      "text/plain": [
       "initialize_column_generation (generic function with 1 method)"
      ]
     },
     "execution_count": 41,
     "metadata": {},
     "output_type": "execute_result"
    }
   ],
   "source": [
    "function initialize_column_generation(arcs, costs, constraint_data, fire_model_configs, solver_configs, max_plans)\n",
    "    \n",
    "    # initialize subproblems\n",
    "    route_sps = []\n",
    "    for crew in 1:NUM_CREWS\n",
    "        ixs = [i for i in 1:length(arcs[:, 1]) if arcs[i, 1] == crew]\n",
    "        d = init_route_subproblem(ixs, crew, constraint_data)\n",
    "        d[\"arc_ixs\"] = ixs\n",
    "        push!(route_sps, d)\n",
    "    end\n",
    "    \n",
    "    plan_sps = []\n",
    "    for fire in 1:NUM_FIRES\n",
    "        config = copy(solver_configs[fire])\n",
    "        config[\"model_data\"] = fire_model_configs[fire]\n",
    "        config[\"warm_start\"] = false\n",
    "        d = init_suppression_plan_subproblem(config)\n",
    "        push!(plan_sps, d)\n",
    "    end\n",
    "    \n",
    "    # initialize routes and suppression plans to populate\n",
    "    routes = initialize_route_data(max_plans)\n",
    "    suppression_plans = initialize_supp_plan_data(max_plans)\n",
    "    \n",
    "    ## generate dummy plans (no suppression) to ensure feasibility at first step ##\n",
    "    \n",
    "    # for each crew\n",
    "    for crew in 1:NUM_CREWS\n",
    "        \n",
    "        # get the crew's subproblem instance\n",
    "        crew_sp = route_sps[crew]\n",
    "        m = crew_sp[\"m\"]\n",
    "        z = crew_sp[\"z\"]\n",
    "        crew_ixs = crew_sp[\"arc_ixs\"]\n",
    "\n",
    "        # set objective in light of dual variables\n",
    "        @objective(m, Min, sum(z[ix] * (costs[ix]) for ix in crew_ixs))\n",
    "\n",
    "        # optimize\n",
    "        optimize!(m)\n",
    "\n",
    "        # update crew routes\n",
    "        crew_arcs = [i for i in crew_ixs if (value(z[i]) > 0.5)]\n",
    "        update_available_routes(crew, crew_arcs, arcs, costs, routes)\n",
    "    \n",
    "    end\n",
    "    \n",
    "    # for each fire\n",
    "    for fire in 1:NUM_FIRES\n",
    "        \n",
    "        sp_config = copy(solver_configs[fire])\n",
    "        sp_config[\"model_data\"] = fire_model_configs[fire]\n",
    "        sp_config[\"solver_strategy\"] = \"ceiling\"\n",
    "        sp_config[\"warm_start\"] = \"dummy\"\n",
    "        \n",
    "        if sp_config[\"solver_type\"] == \"dp\"\n",
    "            sp_config[\"capacities\"] = zeros(NUM_TIME_PERIODS)\n",
    "            sp_config[\"break_capacity_penalty\"] = 0\n",
    "        end\n",
    "        \n",
    "        cost, rel_cost, allotment = run_fire_subproblem(plan_sps[fire], sp_config, zeros(NUM_TIME_PERIODS))\n",
    "\n",
    "        # update suppression plans\n",
    "        update_available_supp_plans(fire, cost, allotment, suppression_plans)\n",
    "\n",
    "    end\n",
    "    \n",
    "    return ColumnGeneration(route_sps, plan_sps, routes, suppression_plans)\n",
    "    \n",
    "end"
   ]
  },
  {
   "cell_type": "code",
   "execution_count": 42,
   "id": "dc13f373",
   "metadata": {},
   "outputs": [
    {
     "data": {
      "text/plain": [
       "run_crew_subproblem (generic function with 1 method)"
      ]
     },
     "execution_count": 42,
     "metadata": {},
     "output_type": "execute_result"
    }
   ],
   "source": [
    "function run_crew_subproblem(sps, crew, costs, local_costs)\n",
    "    \n",
    "    # get the crew's subproblem instance\n",
    "    crew_sp = sps[crew]\n",
    "    m = crew_sp[\"m\"]\n",
    "    z = crew_sp[\"z\"]\n",
    "    crew_ixs = crew_sp[\"arc_ixs\"]\n",
    "    \n",
    "    # set objective in light of dual variables\n",
    "    @objective(m, Min, sum(z[ix] * (local_costs[ix] + costs[ix]) for ix in crew_ixs))\n",
    "        \n",
    "    # optimize\n",
    "    optimize!(m)\n",
    "    \n",
    "    return objective_value(m), z\n",
    "end"
   ]
  },
  {
   "cell_type": "code",
   "execution_count": 467,
   "id": "f7846989",
   "metadata": {},
   "outputs": [
    {
     "data": {
      "text/plain": [
       "run_CG_step (generic function with 1 method)"
      ]
     },
     "execution_count": 467,
     "metadata": {},
     "output_type": "execute_result"
    }
   ],
   "source": [
    "function run_CG_step(cg, arcs, costs, global_data, region_data, fire_model_configs, solver_configs, cg_config,\n",
    "                     rot_order, gamma, recover_fire_sp_cost)\n",
    "    \n",
    "    # formulate and solve the master problem\n",
    "    mp = master_problem(cg_config, cg.routes, cg.suppression_plans, region_data, rot_order, gamma, false)\n",
    "    optimize!(mp[\"m\"])\n",
    "\n",
    "    # grab the dual variables\n",
    "    sigma = dual.(mp[\"sigma\"])\n",
    "    rho = dual.(mp[\"rho\"])\n",
    "    eta = dual.(mp[\"eta\"])\n",
    "    pie = dual.(mp[\"pi\"]) # lol can't overwrite \"pi\" in Julia\n",
    "    \n",
    "\n",
    "    \n",
    "    true_rho = copy(rho)\n",
    "    \n",
    "    if cg_config[\"ws_dual_weight\"] > 0\n",
    "        lambda = cg_config[\"ws_dual_weight\"]\n",
    "        ws_dual_values = cg_config[\"ws_dual\"]\n",
    "        rho = (lambda * (ws_dual_values)) .+ ((1 - lambda) * rho)\n",
    "    end\n",
    "    \n",
    "    \n",
    "\n",
    "    # using the dual variables, get the local adjustments to the arc costs in the route subproblems\n",
    "    d = Dict(\"out_of_region_dual\" => eta, \"region_data\"=> region_data, \"rotation_order\" => rot_order, \"linking_dual\" => rho)\n",
    "    local_costs = get_arc_costs(global_data, arcs, d)\n",
    "\n",
    "    ## run subproblems ##\n",
    "\n",
    "    # for each fire\n",
    "    for fire in 1:NUM_FIRES\n",
    "\n",
    "        # run the subproblem\n",
    "        sp_config = copy(solver_configs[fire])\n",
    "        sp_config[\"model_data\"] = fire_model_configs[fire]\n",
    "        sp_config[\"solver_strategy\"] = \"ceiling\"\n",
    "        sp_config[\"warm_start\"] = false\n",
    "        \n",
    "        found_plan = false\n",
    "        for adjust_price in sp_config[\"int_aware_adjustment_pattern\"]\n",
    "            \n",
    "            if ~found_plan\n",
    "                if \"int_aware_capacities\" in keys(sp_config)\n",
    "                    allotments = sp_config[\"int_aware_capacities\"]\n",
    "                else\n",
    "                    # grab the allotments\n",
    "                    allotments = get_fire_allotments(mp, cg) \n",
    "                end\n",
    "                \n",
    "                sp_config[\"capacities\"] = (allotments .+ adjust_price[1])[fire, :]\n",
    "                sp_config[\"capacities\"] = max.(sp_config[\"capacities\"], 0)\n",
    "                sp_config[\"break_capacity_penalty\"] = adjust_price[2]\n",
    "\n",
    "        \n",
    "                cost, modified_rel_cost, allotment = run_fire_subproblem(cg.plan_sps[fire], sp_config, rho[fire, :])\n",
    "\n",
    "                rel_cost = cost + sum(allotment .* true_rho[fire, :])\n",
    "\n",
    "                # if there is an improving plan\n",
    "                if rel_cost < pie[fire] - 0.0001\n",
    "\n",
    "                    found_plan = true\n",
    "\n",
    "                    # adjust cost to true value if needed\n",
    "                    if recover_fire_sp_cost\n",
    "                        cost = get_fire_cost(allotment, fire_model_configs[fire])\n",
    "                    end\n",
    "\n",
    "                    # add the plan\n",
    "                    update_available_supp_plans(fire, cost, allotment, cg.suppression_plans)\n",
    "                end\n",
    "            end\n",
    "        end\n",
    "    end\n",
    "\n",
    "    # for each crew\n",
    "    for crew in 1:NUM_CREWS\n",
    "\n",
    "        # run the crew subproblem\n",
    "        obj, assignments = run_crew_subproblem(cg.route_sps, crew, costs, local_costs)\n",
    "\n",
    "        # if there is an improving route\n",
    "        if obj < sigma[crew] - 0.0001\n",
    "\n",
    "            # add it\n",
    "            crew_arcs = [i for i in cg.route_sps[crew][\"arc_ixs\"] if (value(assignments[i]) > 0.5)]\n",
    "            update_available_routes(crew, crew_arcs, arcs, costs, cg.routes)\n",
    "\n",
    "        end\n",
    "\n",
    "    end \n",
    "    return mp\n",
    "end"
   ]
  },
  {
   "cell_type": "code",
   "execution_count": 45,
   "id": "433fdcd8",
   "metadata": {},
   "outputs": [
    {
     "data": {
      "text/plain": [
       "suppression_plan_perturbations (generic function with 1 method)"
      ]
     },
     "execution_count": 45,
     "metadata": {},
     "output_type": "execute_result"
    }
   ],
   "source": [
    "function suppression_plan_perturbations(start_plan, count)\n",
    "    \n",
    "    # get the indices we may perturb, chosen to be anything at most one index away\n",
    "    # from a time period when suppression was >0 for the start_plan\n",
    "    ixs = [i for i in 1:NUM_TIME_PERIODS if start_plan[i] > 0]\n",
    "    ixs_1 = [i+1 for i in 1:NUM_TIME_PERIODS-1 if start_plan[i] > 0]\n",
    "    ixs_2 = [i-1 for i in 2:NUM_TIME_PERIODS if start_plan[i] > 0]\n",
    "    ixs_to_perturb = sort(unique(vcat(ixs, ixs_1, ixs_2)))\n",
    "    \n",
    "    start_plan_copy = copy(start_plan)\n",
    "    \n",
    "    # hack if no fire suppression\n",
    "    if length(ixs) == 0\n",
    "        start_plan_copy[1] += 1\n",
    "        ixs_to_perturb = 1:NUM_TIME_PERIODS\n",
    "        ixs = [1]\n",
    "    end\n",
    "    \n",
    "    found = []\n",
    "    \n",
    "    # perturbing the total number of crews by 0, -1, or 1\n",
    "    for perturb in [0, 1, -1]\n",
    "        \n",
    "        # make sure we don't explode\n",
    "        curr_length = length(found)\n",
    "        \n",
    "        # push a new possible plan\n",
    "        new_plan = copy(start_plan_copy)\n",
    "        new_plan[ixs[1]] = new_plan[ixs[1]] + perturb\n",
    "        push!(found, copy(new_plan))\n",
    "        \n",
    "        # find all ways to perturb the valid indices while saying within\n",
    "        # prescribed crew bounds and keeping total crews unchanged\n",
    "        for current_arr in found\n",
    "            if length(found) < curr_length + 500\n",
    "                nonzero = [ix for ix in ixs_to_perturb if current_arr[ix] > 0]\n",
    "                nonfull = [ix for ix in ixs_to_perturb if current_arr[ix] < NUM_CREWS]\n",
    "                for ix in nonzero\n",
    "                    for ix2 in nonfull\n",
    "                        if ix2 != ix\n",
    "                            next_arr = copy(current_arr)\n",
    "                            next_arr[ix] -= 1\n",
    "                            next_arr[ix2] += 1\n",
    "                            if !(next_arr in found)\n",
    "                                push!(found, copy(next_arr))\n",
    "                            end\n",
    "                        end\n",
    "                    end\n",
    "                end\n",
    "            end\n",
    "        end\n",
    "    end\n",
    "    \n",
    "    # get the closest plans to the original, using L1 norm\n",
    "    ixs_to_keep = sortperm([sum(abs.(i - start_plan)) for i in found])[1:min(count, length(found))]\n",
    "    \n",
    "    return found[ixs_to_keep]\n",
    "\n",
    "end "
   ]
  },
  {
   "cell_type": "code",
   "execution_count": 46,
   "id": "d732c533",
   "metadata": {},
   "outputs": [],
   "source": [
    "in_path = \"data/raw/big_fire\"\n",
    "\n",
    "# get inital fire perimeters and no-suppression progression parameters\n",
    "M = readdlm(in_path * \"/sample_growth_patterns.csv\", ',')\n",
    "start_perims = M[:, 1]\n",
    "progressions = M[:, 2:15]\n",
    "\n",
    "NUM_TIME_PERIODS = size(M)[2] - 1 \n",
    "NUM_FIRES = size(M)[1] \n",
    "NUM_FIRES = 6\n",
    "NUM_CREWS = 20\n",
    "\n",
    "g_data, crew_status = load_data(in_path)\n",
    "# r_data = RegionData([1, 1, 1, 1, 1, 2, 2, 2, 2, 2], [1, 1, 2, 2, 2, 2, 2])\n",
    "r_data = RegionData([1, 1, 1, 1, 1, 1, 1, 1, 1, 1, 2, 2, 2, 2, 2, 2, 2, 2, 2, 2], [1, 1, 2, 2, 2, 2, 2])\n",
    "# r_data = RegionData([1, 1, 1, 1, 1, 1, 1, 1, 2, 2, 2, 2, 2, 2, 2], [1, 1, 2, 2, 2, 2, 2])\n",
    "# r_data = RegionData([1, 1, 1, 1, 1], [1, 1, 2, 2, 2, 2, 2])\n",
    "r_data = RegionData(convert.(Int, ones(NUM_CREWS)), convert.(Int, ones(100)))\n",
    "\n",
    "rotation_order = get_rotation_orders(r_data.crew_regions)\n",
    "A = generate_arcs(g_data, r_data, crew_status);\n",
    "\n",
    "rest_pen = get_rest_penalties(crew_status.rest_by, 1e10, positive)\n",
    "cost_params = Dict(\"cost_per_mile\"=> 1, \"rest_violation\" => rest_pen, \"fight_fire\" => ALPHA)\n",
    "arc_costs = get_arc_costs(g_data, A, cost_params)\n",
    "\n",
    "c_data = define_network_constraint_data(A);"
   ]
  },
  {
   "cell_type": "code",
   "execution_count": 47,
   "id": "8162c0d9",
   "metadata": {},
   "outputs": [],
   "source": [
    "fire_configs = []\n",
    "for fire in 1:NUM_FIRES\n",
    "    model_config = Dict(\"model_type\" => \"simple_linear\", \"progressions\" => progressions[fire, :], \n",
    "                        \"start_perim\" => start_perims[fire], \"line_per_crew\" => LINE_PER_CREW, \n",
    "                        \"beta\" => BETA)\n",
    "    push!(fire_configs, model_config)\n",
    "end "
   ]
  },
  {
   "cell_type": "code",
   "execution_count": 48,
   "id": "e4339291",
   "metadata": {},
   "outputs": [
    {
     "data": {
      "text/plain": [
       "0"
      ]
     },
     "execution_count": 48,
     "metadata": {},
     "output_type": "execute_result"
    }
   ],
   "source": [
    "AGG_PREC = 0\n",
    "PASSIVE_STATES = 0"
   ]
  },
  {
   "cell_type": "code",
   "execution_count": 49,
   "id": "ecdd5bc4",
   "metadata": {},
   "outputs": [
    {
     "data": {
      "text/plain": [
       "get_fire_allotments (generic function with 1 method)"
      ]
     },
     "execution_count": 49,
     "metadata": {},
     "output_type": "execute_result"
    }
   ],
   "source": [
    "function get_fire_allotments(solved_mp, cg_data_object)\n",
    "    \n",
    "    mp_allotment = zeros(size(cg_data_object.suppression_plans.crews_present[:, 1, :]))\n",
    "    \n",
    "    for plan in eachindex(solved_mp[\"plan\"])\n",
    "        new_allot = cg_data_object.suppression_plans.crews_present[plan[1], plan[2], :] * value(solved_mp[\"plan\"][plan])\n",
    "        mp_allotment[plan[1], :] += new_allot\n",
    "    end\n",
    "    \n",
    "    return mp_allotment\n",
    "end"
   ]
  },
  {
   "cell_type": "code",
   "execution_count": 468,
   "id": "5c6d9b12",
   "metadata": {},
   "outputs": [
    {
     "data": {
      "text/plain": [
       "run_tests (generic function with 1 method)"
      ]
     },
     "execution_count": 468,
     "metadata": {},
     "output_type": "execute_result"
    }
   ],
   "source": [
    "function run_tests(test_features)\n",
    "    \n",
    "    in_path = test_features[\"in_path\"]\n",
    "\n",
    "    # get inital fire perimeters and no-suppression progression parameters\n",
    "    M = readdlm(in_path * \"/sample_growth_patterns.csv\", ',')\n",
    "    start_perims = M[:, 1]\n",
    "    progressions = M[:, 2:15]\n",
    "\n",
    "    global NUM_TIME_PERIODS = size(M)[2] - 1 \n",
    "    global NUM_FIRES = test_features[\"num_fires\"]\n",
    "    global NUM_CREWS = test_features[\"num_crews\"]\n",
    "\n",
    "    g_data, crew_status = load_data(in_path)\n",
    "    r_data = RegionData(convert.(Int, ones(NUM_CREWS)), convert.(Int, ones(100)))\n",
    "\n",
    "    rotation_order = get_rotation_orders(r_data.crew_regions)\n",
    "    A = generate_arcs(g_data, r_data, crew_status);\n",
    "\n",
    "    rest_pen = get_rest_penalties(crew_status.rest_by, 1e10, positive)\n",
    "    cost_params = Dict(\"cost_per_mile\"=> 1, \"rest_violation\" => rest_pen, \"fight_fire\" => ALPHA)\n",
    "    arc_costs = get_arc_costs(g_data, A, cost_params)\n",
    "\n",
    "    c_data = define_network_constraint_data(A)\n",
    "    \n",
    "    fire_configs = []\n",
    "    for fire in 1:NUM_FIRES\n",
    "        model_config = Dict(\"model_type\" => \"simple_linear\", \"progressions\" => progressions[fire, :], \n",
    "                            \"start_perim\" => start_perims[fire], \"line_per_crew\" => LINE_PER_CREW, \n",
    "                            \"beta\" => BETA)\n",
    "        push!(fire_configs, model_config)\n",
    "    end \n",
    "    \n",
    "    gamma = test_features[\"gamma\"]\n",
    "    \n",
    "    v_s = [0]\n",
    "    e_s = [0]\n",
    "    \n",
    "    rhos = []\n",
    "    allotment_history = []\n",
    "    \n",
    "    global AGG_PREC = test_features[\"agg_prec\"]\n",
    "    global PASSIVE_STATES =  test_features[\"passive_states\"]\n",
    "    \n",
    "    ts = Dict{String, Float64}()\n",
    "    best_sols = Dict{String, Float64}()\n",
    "    allotments = Dict{String, Any}()\n",
    "    \n",
    "    fire_solver_configs = [Dict{String,Any}(\"solver_type\" => test_features[\"fire_solver_type\"]) for fire in 1:NUM_FIRES]\n",
    "    \n",
    "    max_plans = 1000\n",
    "    ts[\"init_cg\"] = @elapsed col_gen_data = initialize_column_generation(A, arc_costs, c_data, fire_configs, \n",
    "                                                                        fire_solver_configs, max_plans)\n",
    "    \n",
    "    \n",
    "    if test_features[\"fire_solver_type\"] == \"dp\"\n",
    "        v_s = [size(col_gen_data.plan_sps[i][\"graphs\"][\"ceiling\"])[1] for i in 1:NUM_FIRES]\n",
    "\n",
    "        e_s = [sum([length(col_gen_data.plan_sps[k][\"graphs\"][\"ceiling\"][i, j]) \n",
    "                  for i in 1:size(col_gen_data.plan_sps[k][\"graphs\"][\"ceiling\"])[1],\n",
    "                      j in 1:size(col_gen_data.plan_sps[k][\"graphs\"][\"ceiling\"])[2]\n",
    "                      if isassigned(col_gen_data.plan_sps[k][\"graphs\"][\"ceiling\"], i, j)\n",
    "                    ]\n",
    "                   )\n",
    "               for k = 1:NUM_FIRES]\n",
    "    end\n",
    "    \n",
    "    global AGG_PREC = 30\n",
    "    global PASSIVE_STATES = 5\n",
    "    \n",
    "    ts[\"ws\"] = @elapsed ws, ws_dict = warm_start_suppression_plans(10, fire_configs, r_data, c_data, rotation_order, arc_costs, \n",
    "                                                         gamma, false, false, 3600)\n",
    "    \n",
    "    ws_duals = dual.(ws_dict[\"f_linking\"])\n",
    "    int_aware_duals = ws_duals * 0\n",
    "    \n",
    "\n",
    "    if test_features[\"apply_warm_start\"]\n",
    "        for fire in 1:NUM_FIRES\n",
    "            ws_fire = ws[fire]\n",
    "            for plan in ws_fire\n",
    "                cost = get_fire_cost(plan, fire_configs[fire])\n",
    "                update_available_supp_plans(fire, cost, plan, col_gen_data.suppression_plans)\n",
    "            end\n",
    "        end\n",
    "    end\n",
    "    \n",
    "    \n",
    "    global AGG_PREC = test_features[\"agg_prec\"]\n",
    "    global PASSIVE_STATES =  test_features[\"passive_states\"]\n",
    "\n",
    "    \n",
    "    current_num_routes = copy(col_gen_data.routes.routes_per_crew)\n",
    "    current_num_plans = copy(col_gen_data.suppression_plans.plans_per_fire)\n",
    "\n",
    "    objs = []\n",
    "    max_iters = test_features[\"max_iters\"]\n",
    "    n_iters = 0\n",
    "    opt = false\n",
    "    ts[\"cg\"] = 0\n",
    "    max_time = test_features[\"cg_time_limit\"]\n",
    "    col_gen_config = Dict{String,Any}(\"ws_dual\" => false)\n",
    "    col_gen_config[\"master_problem\"] = Dict{String,Any}()\n",
    "    \n",
    "    col_gen_config[\"master_problem\"][\"dual_stabilization\"] = test_features[\"dual_stab_type\"]\n",
    "    col_gen_config[\"master_problem\"][\"dual_secondary_eps\"] = test_features[\"dual_stab_eps\"]\n",
    "    col_gen_config[\"master_problem\"][\"dual_warm_start\"] = ws_duals\n",
    "    if test_features[\"dual_stab_anchor\"] == \"all_ones\"\n",
    "        col_gen_config[\"master_problem\"][\"dual_warm_start\"] = ones(size(col_gen_config[\"master_problem\"][\"dual_warm_start\"]))\n",
    "    end\n",
    "        \n",
    "    \n",
    "    while (~opt) & (n_iters < max_iters) & (ts[\"cg\"] < max_time)\n",
    "\n",
    "        n_iters += 1\n",
    "        dual_stab_weight = test_features[\"ws_dual_weight\"][n_iters] + test_features[\"int_aware_dual_weight\"][n_iters]\n",
    "        col_gen_config[\"ws_dual_weight\"] = dual_stab_weight\n",
    "        col_gen_config[\"ws_dual\"] = test_features[\"ws_dual_weight\"][n_iters] * ws_duals\n",
    "        if dual_stab_weight > 0\n",
    "            col_gen_config[\"ws_dual\"] = col_gen_config[\"ws_dual\"] / dual_stab_weight\n",
    "        end\n",
    "        \n",
    "        for fire in 1:NUM_FIRES\n",
    "            fire_solver_configs[fire][\"int_aware_adjustment_pattern\"] = test_features[\"int_aware_price_adjustment\"][n_iters]\n",
    "            if \"int_aware_capacities\" in keys(test_features)\n",
    "                fire_solver_configs[fire][\"int_aware_capacities\"] = test_features[\"int_aware_capacities\"]\n",
    "            end\n",
    "        end\n",
    "        \n",
    "        ts[\"cg\"] += @elapsed mp = run_CG_step(col_gen_data, A, arc_costs, g_data, r_data, fire_configs, \n",
    "                                              fire_solver_configs, col_gen_config, rotation_order, gamma,  \n",
    "                                              test_features[\"restore_cost\"])\n",
    "        \n",
    "        push!(objs, objective_value(mp[\"m\"]))\n",
    "        push!(rhos, dual.(mp[\"rho\"]))\n",
    "        push!(allotment_history, get_fire_allotments(mp, col_gen_data))\n",
    "\n",
    "        next_num_routes = col_gen_data.routes.routes_per_crew\n",
    "        next_num_plans = col_gen_data.suppression_plans.plans_per_fire\n",
    "\n",
    "        if (sum(next_num_routes) == sum(current_num_routes)) & (sum(next_num_plans) == sum(current_num_plans))\n",
    "            opt = true\n",
    "        end\n",
    "\n",
    "        current_num_routes = copy(next_num_routes)\n",
    "        current_num_plans = copy(next_num_plans)\n",
    "\n",
    "    end\n",
    "    \n",
    "    # no more stabilization for assessment\n",
    "    col_gen_config[\"master_problem\"][\"dual_stabilization\"] = false\n",
    "    \n",
    "    # get price and branch stats\n",
    "    pb = master_problem(col_gen_config, col_gen_data.routes, col_gen_data.suppression_plans, \n",
    "                        r_data, rotation_order, gamma, true)\n",
    "    ts[\"price_and_branch\"] = @elapsed optimize!(pb[\"m\"])\n",
    "    \n",
    "    best_sols[\"price_and_branch\"] = objective_value(pb[\"m\"])\n",
    "    \n",
    "    plans_chosen = [i for i in eachindex(pb[\"plan\"]) if value(pb[\"plan\"][i]) > 0.5]\n",
    "    \n",
    "    pb_allotment = convert.(Int8, zeros(size(col_gen_data.suppression_plans.crews_present[:, 1, :])))\n",
    "    for plan in plans_chosen\n",
    "        pb_allotment[plan[1], :] = col_gen_data.suppression_plans.crews_present[plan[1], plan[2], :]\n",
    "    end\n",
    "    \n",
    "    allotments[\"price_and_branch\"] = pb_allotment\n",
    "    \n",
    "    mp = master_problem(col_gen_config, col_gen_data.routes, col_gen_data.suppression_plans, \n",
    "                        r_data, rotation_order, gamma, false)\n",
    "    optimize!(mp[\"m\"])\n",
    "\n",
    "    best_sols[\"master_problem\"] = objective_value(mp[\"m\"])\n",
    "    allotments[\"master_problem\"] = get_fire_allotments(mp, col_gen_data)\n",
    "    \n",
    "    if test_features[\"solve_explicit_int_time_limit\"] > 0\n",
    "        \n",
    "        tl = test_features[\"solve_explicit_int_time_limit\"]\n",
    "        m, p, l, z, q, oor, linking = full_formulation(true, r_data, c_data, rotation_order, arc_costs, \n",
    "                                  progressions, start_perims, BETA, gamma, false, tl)\n",
    "        ts[\"explicit_int\"] = @elapsed optimize!(m)\n",
    "        \n",
    "        if has_values(m)\n",
    "            best_sols[\"explicit_int\"] = objective_value(m)\n",
    "            allotments[\"explicit_int\"] = convert.(Int8, ceil.(value.(l) / LINE_PER_CREW  .- 0.001))\n",
    "        else\n",
    "            best_sols[\"explicit_int\"] = false\n",
    "        end\n",
    "            \n",
    "    end\n",
    "\n",
    "    \n",
    "    if test_features[\"solve_explicit_lin_time_limit\"] > 0\n",
    "        \n",
    "        tl = test_features[\"solve_explicit_lin_time_limit\"]\n",
    "    \n",
    "        m2, p, l, z, q, oor, linking = full_formulation(false, r_data, c_data, rotation_order, arc_costs, \n",
    "                                  progressions, start_perims, BETA, gamma, false, tl)\n",
    "        ts[\"explicit_lr\"] = @elapsed optimize!(m2)\n",
    "        \n",
    "        if has_values(m2)\n",
    "            best_sols[\"explicit_lr\"] = objective_value(m2)\n",
    "            allotments[\"explicit_lr\"] = value.(l) / LINE_PER_CREW\n",
    "        else\n",
    "            best_sols[\"explicit_lr\"] = false\n",
    "        end\n",
    "    \n",
    "    end\n",
    "    \n",
    "    if test_features[\"solve_net_flow_time_limit\"] > 0\n",
    "        tl = test_features[\"solve_net_flow_time_limit\"]\n",
    "        ts[\"net_flow_int\"] = @elapsed ws, ws_dict = warm_start_suppression_plans(10, fire_configs, r_data, c_data, rotation_order, arc_costs, \n",
    "                                                     gamma, true, false, tl)\n",
    "        if has_values(ws_dict[\"m\"])\n",
    "            best_sols[\"net_flow_int\"] = objective_value(ws_dict[\"m\"])\n",
    "            best_sols[\"net_flow_int_bound\"] = objective_bound(ws_dict[\"m\"])\n",
    "            allotments[\"net_flow_int\"] = value.(ws_dict[\"d\"])\n",
    "            allotments[\"net_flow_int_full_data\"] = ws_dict\n",
    "        else\n",
    "            best_sols[\"net_flow_int\"] = false\n",
    "        end\n",
    "    end\n",
    "            \n",
    "    \n",
    "    return [fire_solver_configs[1][\"solver_type\"], sum(v_s), sum(e_s), n_iters, ts, best_sols, allotments, rhos, mp, allotment_history], col_gen_data\n",
    "\n",
    "end"
   ]
  },
  {
   "cell_type": "markdown",
   "id": "ad035803",
   "metadata": {},
   "source": [
    "## Stabilized"
   ]
  },
  {
   "cell_type": "code",
   "execution_count": 501,
   "id": "cb60f17f",
   "metadata": {},
   "outputs": [],
   "source": [
    "params = Dict{String, Any}()\n",
    "params[\"gamma\"] = 0\n",
    "\n",
    "params[\"in_path\"] = \"data/raw/big_fire\"\n",
    "params[\"agg_prec\"] = 10\n",
    "params[\"passive_states\"] = 30\n",
    "params[\"num_fires\"] = 9\n",
    "params[\"num_crews\"] = 30\n",
    "params[\"fire_solver_type\"] = \"dp\"\n",
    "\n",
    "params[\"apply_warm_start\"] = false\n",
    "params[\"restore_cost\"] = false\n",
    "\n",
    "params[\"solve_explicit_lin_time_limit\"] = 0\n",
    "params[\"solve_explicit_int_time_limit\"] = 0\n",
    "params[\"cg_time_limit\"] = 300\n",
    "params[\"solve_net_flow_time_limit\"] = 0\n",
    "\n",
    "params[\"max_iters\"] = 1000\n",
    "\n",
    "\n",
    "\n",
    "params[\"dual_stab_type\"] = \"global\"\n",
    "params[\"dual_stab_anchor\"] = false\n",
    "params[\"dual_stab_eps\"] = 0.01\n",
    "\n",
    "params[\"ws_dual_weight\"] = zeros(params[\"max_iters\"])\n",
    "params[\"int_aware_dual_weight\"] = zeros(params[\"max_iters\"])\n",
    "\n",
    "start_adj = 15\n",
    "fin_adj = 30\n",
    "pattern = [(0, 0)]\n",
    "# pattern = [(0, 1e30), (1, 1e30), (2, 1e30), (0, 0)]\n",
    "params[\"int_aware_price_adjustment\"] = [(i <= start_adj) | (i >= fin_adj) ? [(0, 0)] : pattern for i in 1:params[\"max_iters\"]]\n",
    "\n",
    "d, cg_data = run_tests(params);"
   ]
  },
  {
   "cell_type": "code",
   "execution_count": 502,
   "id": "d5035bda",
   "metadata": {},
   "outputs": [
    {
     "data": {
      "text/plain": [
       "47"
      ]
     },
     "execution_count": 502,
     "metadata": {},
     "output_type": "execute_result"
    }
   ],
   "source": [
    "d[4]"
   ]
  },
  {
   "cell_type": "code",
   "execution_count": 503,
   "id": "ba4544d8",
   "metadata": {},
   "outputs": [
    {
     "data": {
      "text/plain": [
       "Dict{String, Float64} with 2 entries:\n",
       "  \"price_and_branch\" => 9.01855e9\n",
       "  \"master_problem\"   => 4.30675e6"
      ]
     },
     "execution_count": 503,
     "metadata": {},
     "output_type": "execute_result"
    }
   ],
   "source": [
    "d[6]"
   ]
  },
  {
   "cell_type": "code",
   "execution_count": 504,
   "id": "a24db943",
   "metadata": {},
   "outputs": [],
   "source": [
    "existing_plans = [[cg_data.suppression_plans.crews_present[i, j, :] \n",
    "                     for j=1:cg_data.suppression_plans.plans_per_fire[i]\n",
    "                  ]\n",
    "                  for i=1:NUM_FIRES \n",
    "                 ];\n",
    "\n",
    "existing_routes = [[cg_data.routes.fires_fought[i, j, :, :] \n",
    "                     for j=1:cg_data.routes.routes_per_crew[i]\n",
    "                  ]\n",
    "                  for i=1:NUM_CREWS\n",
    "                 ];"
   ]
  },
  {
   "cell_type": "code",
   "execution_count": 505,
   "id": "a398a8d4",
   "metadata": {},
   "outputs": [
    {
     "data": {
      "text/plain": [
       "9×14 Matrix{Float64}:\n",
       "  0.0   0.0   0.0  0.0       0.0      …   0.0      13.5      0.5       0.0\n",
       "  0.0   0.0   0.0  5.10526   3.63158      0.0       0.0      0.0       0.0\n",
       "  9.0   2.0   0.0  0.0       0.0          0.0       0.0      0.0       0.0\n",
       "  8.0  15.0  17.0  0.421053  0.0          0.0       0.0      0.0       0.0\n",
       "  0.0   0.0   0.0  5.98795   5.98795      7.17269   7.17269  0.184739  0.0\n",
       "  3.0   0.0   0.0  0.0       1.0      …   1.0       2.0      0.0       0.0\n",
       "  0.0   0.0   0.0  5.8345    4.38047      0.0       0.0      0.0       0.0\n",
       " 10.0  13.0  13.0  0.526316  0.0          0.0       0.0      0.0       0.0\n",
       "  0.0   0.0   0.0  4.12492   3.0         17.8273    5.32731  0.262629  0.0"
      ]
     },
     "execution_count": 505,
     "metadata": {},
     "output_type": "execute_result"
    }
   ],
   "source": [
    "params[\"int_aware_capacities\"] = d[7][\"master_problem\"]"
   ]
  },
  {
   "cell_type": "code",
   "execution_count": 506,
   "id": "5135162a",
   "metadata": {},
   "outputs": [
    {
     "name": "stdout",
     "output_type": "stream",
     "text": [
      "56\n",
      "59\n",
      "58\n",
      "79\n",
      "76\n"
     ]
    }
   ],
   "source": [
    "for excess in [-2, -1, 0, 1, 2]\n",
    "    \n",
    "    pattern = [(excess, 1e30)]\n",
    "    params[\"int_aware_price_adjustment\"] = [pattern for i in 1:params[\"max_iters\"]]\n",
    "\n",
    "    d2, cg_data2 = run_tests(params)\n",
    "    println(d2[4])\n",
    "    \n",
    "    for fire in 1:NUM_FIRES\n",
    "    \n",
    "        for plan_ix in 1:cg_data2.suppression_plans.plans_per_fire[fire] \n",
    "\n",
    "            if value(d2[9][\"plan\"][fire, plan_ix]) > -0.0001\n",
    "\n",
    "                plan = cg_data2.suppression_plans.crews_present[fire, plan_ix, :]\n",
    "                cost = cg_data2.suppression_plans.plan_costs[fire, plan_ix]\n",
    "\n",
    "                if ~(plan in existing_plans[fire])\n",
    "\n",
    "                    push!(existing_plans[fire], plan)\n",
    "\n",
    "                    update_available_supp_plans(fire, cost, plan, cg_data.suppression_plans)\n",
    "                end\n",
    "            end\n",
    "        end\n",
    "    end \n",
    "\n",
    "\n",
    "    for crew in 1:NUM_CREWS\n",
    "\n",
    "        for route_ix in 1:cg_data2.routes.routes_per_crew[crew] \n",
    "\n",
    "            if value(d2[9][\"route\"][crew, route_ix]) > -0.0001\n",
    "\n",
    "                route = cg_data2.routes.fires_fought[crew, route_ix, :, :]\n",
    "                cost = cg_data2.routes.route_costs[crew, route_ix]\n",
    "                oo_region = cg_data2.routes.out_of_reg[crew, route_ix, :]\n",
    "\n",
    "                if ~(route in existing_routes[crew])\n",
    "\n",
    "                    push!(existing_routes[crew], route)\n",
    "\n",
    "                    update_available_crew_routes(crew, cost, route, oo_region, cg_data.routes)\n",
    "                end\n",
    "\n",
    "            end\n",
    "        end\n",
    "    end \n",
    "end"
   ]
  },
  {
   "cell_type": "code",
   "execution_count": 507,
   "id": "517a0be6",
   "metadata": {},
   "outputs": [
    {
     "data": {
      "text/plain": [
       "9-element Vector{Int64}:\n",
       " 101\n",
       " 129\n",
       "  17\n",
       " 123\n",
       " 185\n",
       " 127\n",
       " 139\n",
       "  98\n",
       " 190"
      ]
     },
     "execution_count": 507,
     "metadata": {},
     "output_type": "execute_result"
    }
   ],
   "source": [
    "cg_data.suppression_plans.plans_per_fire"
   ]
  },
  {
   "cell_type": "code",
   "execution_count": 508,
   "id": "290281b1",
   "metadata": {},
   "outputs": [
    {
     "data": {
      "text/plain": [
       "30-element Vector{Int64}:\n",
       " 305\n",
       " 315\n",
       " 323\n",
       " 316\n",
       " 308\n",
       " 320\n",
       " 282\n",
       " 290\n",
       " 304\n",
       " 277\n",
       " 302\n",
       " 311\n",
       " 322\n",
       "   ⋮\n",
       " 292\n",
       " 273\n",
       " 316\n",
       " 310\n",
       " 313\n",
       " 320\n",
       " 306\n",
       " 282\n",
       " 289\n",
       " 263\n",
       " 302\n",
       " 269"
      ]
     },
     "execution_count": 508,
     "metadata": {},
     "output_type": "execute_result"
    }
   ],
   "source": [
    "cg_data.routes.routes_per_crew"
   ]
  },
  {
   "cell_type": "code",
   "execution_count": 509,
   "id": "f1f07561",
   "metadata": {},
   "outputs": [
    {
     "data": {
      "text/plain": [
       "false"
      ]
     },
     "execution_count": 509,
     "metadata": {},
     "output_type": "execute_result"
    }
   ],
   "source": [
    "config = Dict{String,Any}(\"ws_dual\" => false)\n",
    "config[\"master_problem\"] = Dict{String,Any}()\n",
    "\n",
    "config[\"master_problem\"][\"dual_stabilization\"] = false\n",
    "config[\"master_problem\"][\"dual_secondary_eps\"] = false\n",
    "config[\"master_problem\"][\"dual_warm_start\"] = false"
   ]
  },
  {
   "cell_type": "code",
   "execution_count": 510,
   "id": "7e7696b4",
   "metadata": {},
   "outputs": [
    {
     "data": {
      "text/plain": [
       "(13.4334496, 238.2895557, 4.3988589390079435e6)"
      ]
     },
     "execution_count": 510,
     "metadata": {},
     "output_type": "execute_result"
    }
   ],
   "source": [
    "r_data = RegionData(convert.(Int, ones(NUM_CREWS)), convert.(Int, ones(100)))\n",
    "rotation_order = get_rotation_orders(r_data.crew_regions)\n",
    "\n",
    "form_time = @elapsed pb = master_problem(config, cg_data.routes, cg_data.suppression_plans, \n",
    "                                         r_data, rotation_order, 0, true)\n",
    "set_optimizer_attribute(pb[\"m\"], \"TimeLimit\", 300)\n",
    "sol_time = @elapsed optimize!(pb[\"m\"])\n",
    "\n",
    "pb_allot = convert.(Int, round.(100 .* get_fire_allotments(pb, cg_data)) ./ 100)\n",
    "\n",
    "form_time, sol_time, objective_value(pb[\"m\"])"
   ]
  },
  {
   "cell_type": "code",
   "execution_count": 511,
   "id": "17ba7650",
   "metadata": {},
   "outputs": [
    {
     "data": {
      "text/plain": [
       "A JuMP Model\n",
       "Minimization problem with:\n",
       "Variables: 10572\n",
       "Objective function type: AffExpr\n",
       "`AffExpr`-in-`MathOptInterface.EqualTo{Float64}`: 30 constraints\n",
       "`AffExpr`-in-`MathOptInterface.GreaterThan{Float64}`: 585 constraints\n",
       "`VariableRef`-in-`MathOptInterface.GreaterThan{Float64}`: 10572 constraints\n",
       "`VariableRef`-in-`MathOptInterface.Integer`: 10572 constraints\n",
       "Model mode: AUTOMATIC\n",
       "CachingOptimizer state: ATTACHED_OPTIMIZER\n",
       "Solver name: Gurobi\n",
       "Names registered in the model: linking, out_of_region, plan, plan_per_fire, q, route, route_per_crew"
      ]
     },
     "execution_count": 511,
     "metadata": {},
     "output_type": "execute_result"
    }
   ],
   "source": [
    "pb[\"m\"]"
   ]
  },
  {
   "cell_type": "code",
   "execution_count": 512,
   "id": "bf88631f",
   "metadata": {},
   "outputs": [
    {
     "data": {
      "text/plain": [
       "9×14 Matrix{Int64}:\n",
       " 0   0   0  0  0  0  0  0  0   0   0  13  1  0\n",
       " 0   0   0  6  3  3  6  6  6   0   0   0  0  0\n",
       " 9   2   0  0  0  0  0  0  0   0   0   0  0  0\n",
       " 9  13  17  2  0  0  0  0  0   0   0   0  0  0\n",
       " 0   0   0  6  6  6  6  8  8   5   8   8  0  0\n",
       " 3   0   0  0  1  0  0  0  0   0   2   1  0  0\n",
       " 0   0   0  6  5  3  5  5  6   1   0   0  0  0\n",
       " 9  15  13  2  0  0  0  0  0   0   0   0  0  0\n",
       " 0   0   0  0  3  3  5  3  3  16  16   6  1  1"
      ]
     },
     "execution_count": 512,
     "metadata": {},
     "output_type": "execute_result"
    }
   ],
   "source": [
    "pb_allot"
   ]
  },
  {
   "cell_type": "code",
   "execution_count": 216,
   "id": "e0286a8a",
   "metadata": {},
   "outputs": [
    {
     "data": {
      "text/plain": [
       "36"
      ]
     },
     "execution_count": 216,
     "metadata": {},
     "output_type": "execute_result"
    }
   ],
   "source": [
    "d2[4]"
   ]
  },
  {
   "cell_type": "code",
   "execution_count": 217,
   "id": "fcc88a0b",
   "metadata": {},
   "outputs": [
    {
     "data": {
      "text/plain": [
       "Dict{String, Float64} with 2 entries:\n",
       "  \"price_and_branch\" => 4.45611e6\n",
       "  \"master_problem\"   => 4.45567e6"
      ]
     },
     "execution_count": 217,
     "metadata": {},
     "output_type": "execute_result"
    }
   ],
   "source": [
    "d2[6]"
   ]
  },
  {
   "cell_type": "code",
   "execution_count": 188,
   "id": "18986e65",
   "metadata": {},
   "outputs": [
    {
     "data": {
      "text/plain": [
       "6×14 Matrix{Float64}:\n",
       "  0.0       0.0   0.0       0.0       0.0  …   0.0      13.0      2.0  0.0\n",
       "  0.0       0.0   0.0       2.0       1.0      0.0       0.0      0.0  0.0\n",
       " 10.0       0.0   0.0       0.0       0.0      0.0       0.0      0.0  0.0\n",
       "  2.73913  20.0  18.5217   12.5652    2.0      4.52174   1.13043  0.0  0.0\n",
       "  0.0       0.0   0.0       0.434783  9.0     12.4783    3.86957  0.0  0.0\n",
       "  7.26087   0.0   1.47826   0.0       0.0  …   0.0       0.0      0.0  0.0"
      ]
     },
     "execution_count": 188,
     "metadata": {},
     "output_type": "execute_result"
    }
   ],
   "source": [
    "d2[7][\"master_problem\"]"
   ]
  },
  {
   "cell_type": "code",
   "execution_count": 193,
   "id": "f63058cf",
   "metadata": {},
   "outputs": [
    {
     "data": {
      "text/plain": [
       "6×14 Matrix{Float64}:\n",
       "  0.0       0.0   0.0         0.0       …   0.0       0.0      12.0  2.0  0.0\n",
       "  0.0       0.0   0.0         0.142857      0.0       0.0       0.0  0.0  0.0\n",
       " 10.0       0.0   0.0         0.0           0.0       0.0       0.0  0.0  0.0\n",
       "  2.04762  20.0  19.9048     14.8571        1.57143   5.57143   0.0  0.0  0.0\n",
       "  0.0       0.0   0.0         0.0          10.4286   11.4286    6.0  0.0  0.0\n",
       "  7.95238   0.0   0.0952381   0.0       …   2.0       0.0       0.0  0.0  0.0"
      ]
     },
     "execution_count": 193,
     "metadata": {},
     "output_type": "execute_result"
    }
   ],
   "source": [
    "d[7][\"master_problem\"]"
   ]
  },
  {
   "cell_type": "code",
   "execution_count": 190,
   "id": "8c8c4caf",
   "metadata": {},
   "outputs": [
    {
     "data": {
      "text/plain": [
       "6-element Vector{Int64}:\n",
       " 25\n",
       " 29\n",
       "  3\n",
       " 35\n",
       " 34\n",
       " 20"
      ]
     },
     "execution_count": 190,
     "metadata": {},
     "output_type": "execute_result"
    }
   ],
   "source": [
    "cg_data2.suppression_plans.plans_per_fire"
   ]
  },
  {
   "cell_type": "code",
   "execution_count": 73,
   "id": "176554a0",
   "metadata": {},
   "outputs": [
    {
     "data": {
      "text/plain": [
       "35"
      ]
     },
     "execution_count": 73,
     "metadata": {},
     "output_type": "execute_result"
    }
   ],
   "source": [
    "d[4]"
   ]
  },
  {
   "cell_type": "code",
   "execution_count": 74,
   "id": "3456dee9",
   "metadata": {},
   "outputs": [
    {
     "data": {
      "text/plain": [
       "Dict{String, Float64} with 4 entries:\n",
       "  \"init_cg\"          => 0.428969\n",
       "  \"price_and_branch\" => 0.151757\n",
       "  \"cg\"               => 15.9318\n",
       "  \"ws\"               => 2.81873"
      ]
     },
     "execution_count": 74,
     "metadata": {},
     "output_type": "execute_result"
    }
   ],
   "source": [
    "d[5]"
   ]
  },
  {
   "cell_type": "code",
   "execution_count": 75,
   "id": "31215eab",
   "metadata": {},
   "outputs": [
    {
     "data": {
      "text/plain": [
       "6-element Vector{Int64}:\n",
       " 28\n",
       " 30\n",
       "  3\n",
       " 30\n",
       " 35\n",
       " 21"
      ]
     },
     "execution_count": 75,
     "metadata": {},
     "output_type": "execute_result"
    }
   ],
   "source": [
    "cg_data.suppression_plans.plans_per_fire"
   ]
  },
  {
   "cell_type": "code",
   "execution_count": 76,
   "id": "2e88f411",
   "metadata": {},
   "outputs": [
    {
     "data": {
      "text/plain": [
       "Dict{String, Float64} with 2 entries:\n",
       "  \"price_and_branch\" => 3.60955e6\n",
       "  \"master_problem\"   => 2.80255e6"
      ]
     },
     "execution_count": 76,
     "metadata": {},
     "output_type": "execute_result"
    }
   ],
   "source": [
    "d[6]"
   ]
  },
  {
   "cell_type": "code",
   "execution_count": 66,
   "id": "54be13f1",
   "metadata": {},
   "outputs": [
    {
     "data": {
      "text/plain": [
       "6×14 Matrix{Float64}:\n",
       "  0.0       0.0   0.0         0.0       …   0.0       0.0      12.0  2.0  0.0\n",
       "  0.0       0.0   0.0         0.142857      0.0       0.0       0.0  0.0  0.0\n",
       " 10.0       0.0   0.0         0.0           0.0       0.0       0.0  0.0  0.0\n",
       "  2.04762  20.0  19.9048     14.8571        1.57143   5.57143   0.0  0.0  0.0\n",
       "  0.0       0.0   0.0         0.0          10.4286   11.4286    6.0  0.0  0.0\n",
       "  7.95238   0.0   0.0952381   0.0       …   2.0       0.0       0.0  0.0  0.0"
      ]
     },
     "execution_count": 66,
     "metadata": {},
     "output_type": "execute_result"
    }
   ],
   "source": [
    "d[7][\"master_problem\"]"
   ]
  },
  {
   "cell_type": "markdown",
   "id": "3419091b",
   "metadata": {},
   "source": [
    "### Setup"
   ]
  },
  {
   "cell_type": "code",
   "execution_count": 1312,
   "id": "66731ced",
   "metadata": {},
   "outputs": [],
   "source": [
    "in_path = params[\"in_path\"]\n",
    "\n",
    "# get inital fire perimeters and no-suppression progression parameters\n",
    "M = readdlm(in_path * \"/sample_growth_patterns.csv\", ',')\n",
    "start_perims = M[:, 1]\n",
    "progressions = M[:, 2:15]\n",
    "\n",
    "global NUM_TIME_PERIODS = size(M)[2] - 1 \n",
    "global NUM_FIRES = params[\"num_fires\"]\n",
    "global NUM_CREWS = params[\"num_crews\"]\n",
    "\n",
    "g_data, crew_status = load_data(in_path)\n",
    "r_data = RegionData(convert.(Int, ones(NUM_CREWS)), convert.(Int, ones(100)))\n",
    "\n",
    "rotation_order = get_rotation_orders(r_data.crew_regions)\n",
    "A = generate_arcs(g_data, r_data, crew_status);\n",
    "\n",
    "rest_pen = get_rest_penalties(crew_status.rest_by, 1e10, positive)\n",
    "cost_params = Dict(\"cost_per_mile\"=> 1, \"rest_violation\" => rest_pen, \"fight_fire\" => ALPHA)\n",
    "arc_costs = get_arc_costs(g_data, A, cost_params)\n",
    "\n",
    "c_data = define_network_constraint_data(A)\n",
    "\n",
    "fire_configs = []\n",
    "for fire in 1:NUM_FIRES\n",
    "    model_config = Dict(\"model_type\" => \"simple_linear\", \"progressions\" => progressions[fire, :], \n",
    "                        \"start_perim\" => start_perims[fire], \"line_per_crew\" => LINE_PER_CREW, \n",
    "                        \"beta\" => BETA)\n",
    "    push!(fire_configs, model_config)\n",
    "end \n",
    "\n",
    "gamma = params[\"gamma\"]\n",
    "\n",
    "\n",
    "rhos = []\n",
    "allotment_history = []\n",
    "\n",
    "global AGG_PREC = params[\"agg_prec\"]\n",
    "global PASSIVE_STATES =  params[\"passive_states\"]\n",
    "\n",
    "ts = Dict{String, Float64}()\n",
    "best_sols = Dict{String, Float64}()\n",
    "allotments = Dict{String, Any}()\n",
    "\n",
    "fire_solver_configs = [Dict{String,Any}(\"solver_type\" => params[\"fire_solver_type\"]) for fire in 1:NUM_FIRES]\n",
    "\n",
    "max_plans = 1000\n",
    "ts[\"init_cg\"] = @elapsed col_gen_data = initialize_column_generation(A, arc_costs, c_data, fire_configs, \n",
    "                                                                    fire_solver_configs, max_plans)\n",
    "\n",
    "if params[\"fire_solver_type\"] == \"dp\"\n",
    "    v_s = [size(col_gen_data.plan_sps[i][\"graphs\"][\"ceiling\"])[1] for i in 1:NUM_FIRES]\n",
    "\n",
    "    e_s = [sum([length(col_gen_data.plan_sps[k][\"graphs\"][\"ceiling\"][i, j]) \n",
    "              for i in 1:size(col_gen_data.plan_sps[k][\"graphs\"][\"ceiling\"])[1],\n",
    "                  j in 1:size(col_gen_data.plan_sps[k][\"graphs\"][\"ceiling\"])[2]\n",
    "                  if isassigned(col_gen_data.plan_sps[k][\"graphs\"][\"ceiling\"], i, j)\n",
    "                ]\n",
    "               )\n",
    "           for k = 1:NUM_FIRES]\n",
    "end\n",
    "\n",
    "global AGG_PREC = 30\n",
    "global PASSIVE_STATES = 5\n",
    "\n",
    "ts[\"ws\"] = @elapsed ws, ws_dict = warm_start_suppression_plans(10, fire_configs, r_data, c_data, rotation_order, arc_costs, \n",
    "                                                     gamma, false, false, 3600)\n",
    "\n",
    "ws_duals = dual.(ws_dict[\"f_linking\"])\n",
    "int_aware_duals = ws_duals * 0\n",
    "\n",
    "\n",
    "if params[\"apply_warm_start\"]\n",
    "    for fire in 1:NUM_FIRES\n",
    "        ws_fire = ws[fire]\n",
    "        for plan in ws_fire\n",
    "            cost = get_fire_cost(plan, fire_configs[fire])\n",
    "            update_available_supp_plans(fire, cost, plan, col_gen_data.suppression_plans)\n",
    "        end\n",
    "    end\n",
    "end\n",
    "\n",
    "\n",
    "global AGG_PREC = params[\"agg_prec\"]\n",
    "global PASSIVE_STATES =  params[\"passive_states\"]\n",
    "\n",
    "\n",
    "current_num_routes = copy(col_gen_data.routes.routes_per_crew)\n",
    "current_num_plans = copy(col_gen_data.suppression_plans.plans_per_fire)\n",
    "\n",
    "objs = []\n",
    "max_iters = params[\"max_iters\"]\n",
    "n_iters = 0\n",
    "opt = false\n",
    "ts[\"cg\"] = 0\n",
    "max_time = params[\"cg_time_limit\"]\n",
    "col_gen_config = Dict{String,Any}(\"ws_dual\" => false)\n",
    "col_gen_config[\"master_problem\"] = Dict{String,Any}()\n",
    "\n",
    "col_gen_config[\"master_problem\"][\"dual_stabilization\"] = params[\"dual_stab_type\"]\n",
    "col_gen_config[\"master_problem\"][\"dual_secondary_eps\"] = params[\"dual_stab_eps\"]\n",
    "col_gen_config[\"master_problem\"][\"dual_warm_start\"] = ws_duals\n",
    "if params[\"dual_stab_anchor\"] == \"all_ones\"\n",
    "    col_gen_config[\"master_problem\"][\"dual_warm_start\"] = ones(size(col_gen_config[\"master_problem\"][\"dual_warm_start\"]))\n",
    "end"
   ]
  },
  {
   "cell_type": "markdown",
   "id": "e3753191",
   "metadata": {},
   "source": [
    "### Run iteration"
   ]
  },
  {
   "cell_type": "code",
   "execution_count": 1313,
   "id": "41fa098e",
   "metadata": {},
   "outputs": [],
   "source": [
    "while n_iters < 35\n",
    "    n_iters += 1\n",
    "    dual_stab_weight = params[\"ws_dual_weight\"][n_iters] + params[\"int_aware_dual_weight\"][n_iters]\n",
    "    col_gen_config[\"ws_dual_weight\"] = dual_stab_weight\n",
    "    col_gen_config[\"ws_dual\"] = params[\"ws_dual_weight\"][n_iters] * ws_duals\n",
    "    if dual_stab_weight > 0\n",
    "        col_gen_config[\"ws_dual\"] = col_gen_config[\"ws_dual\"] / dual_stab_weight\n",
    "    end\n",
    "\n",
    "    for fire in 1:NUM_FIRES\n",
    "        fire_solver_configs[fire][\"int_aware_adjustment_pattern\"] = params[\"int_aware_price_adjustment\"][n_iters]\n",
    "\n",
    "        # no int-aware adjustment\n",
    "        fire_solver_configs[fire][\"int_aware_adjustment_pattern\"] = [(0, 0)]\n",
    "    end\n",
    "\n",
    "\n",
    "    last_num_routes = copy(col_gen_data.routes.routes_per_crew)\n",
    "    last_num_plans = copy(col_gen_data.suppression_plans.plans_per_fire)\n",
    "\n",
    "    ts[\"cg\"] += @elapsed mp = run_CG_step(col_gen_data, A, arc_costs, g_data, r_data, fire_configs, \n",
    "                                          fire_solver_configs, col_gen_config, rotation_order, gamma,  \n",
    "                                          params[\"restore_cost\"])\n",
    "\n",
    "    push!(objs, objective_value(mp[\"m\"]))\n",
    "    push!(rhos, dual.(mp[\"rho\"]))\n",
    "    push!(allotment_history, get_fire_allotments(mp, col_gen_data))\n",
    "end"
   ]
  },
  {
   "cell_type": "code",
   "execution_count": 1314,
   "id": "0169ad81",
   "metadata": {},
   "outputs": [
    {
     "data": {
      "text/plain": [
       "2.802554028874161e6"
      ]
     },
     "execution_count": 1314,
     "metadata": {},
     "output_type": "execute_result"
    }
   ],
   "source": [
    "last(objs)"
   ]
  },
  {
   "cell_type": "markdown",
   "id": "09fa4af1",
   "metadata": {},
   "source": [
    "### Get number of plans per fire"
   ]
  },
  {
   "cell_type": "code",
   "execution_count": 1315,
   "id": "32fb49a2",
   "metadata": {},
   "outputs": [
    {
     "data": {
      "text/plain": [
       "35"
      ]
     },
     "execution_count": 1315,
     "metadata": {},
     "output_type": "execute_result"
    }
   ],
   "source": [
    "n_iters"
   ]
  },
  {
   "cell_type": "code",
   "execution_count": 1316,
   "id": "c53abe8f",
   "metadata": {},
   "outputs": [],
   "source": [
    "close_iters = [i for i in 1:n_iters if objs[i] / last(objs) < 1.05];"
   ]
  },
  {
   "cell_type": "code",
   "execution_count": 1317,
   "id": "2f5af728",
   "metadata": {},
   "outputs": [
    {
     "data": {
      "text/plain": [
       "6-element Vector{Int64}:\n",
       " 28\n",
       " 30\n",
       "  3\n",
       " 30\n",
       " 35\n",
       " 21"
      ]
     },
     "execution_count": 1317,
     "metadata": {},
     "output_type": "execute_result"
    }
   ],
   "source": [
    "col_gen_data.suppression_plans.plans_per_fire"
   ]
  },
  {
   "cell_type": "code",
   "execution_count": 1319,
   "id": "90c4083d",
   "metadata": {},
   "outputs": [
    {
     "data": {
      "text/plain": [
       "6-element Vector{Int64}:\n",
       "  52\n",
       " 123\n",
       "   3\n",
       "  80\n",
       " 168\n",
       "  30"
      ]
     },
     "execution_count": 1319,
     "metadata": {},
     "output_type": "execute_result"
    }
   ],
   "source": [
    "col_gen_data.suppression_plans.plans_per_fire"
   ]
  },
  {
   "cell_type": "code",
   "execution_count": 1225,
   "id": "2da4a8c7",
   "metadata": {},
   "outputs": [],
   "source": [
    "using StatsBase"
   ]
  },
  {
   "cell_type": "code",
   "execution_count": 1318,
   "id": "91fc858a",
   "metadata": {},
   "outputs": [],
   "source": [
    "offsets = [-2, -1, 0, 1, 2]\n",
    "\n",
    "for fire in 1:NUM_FIRES\n",
    "    \n",
    "    plans = []\n",
    "    \n",
    "    for offset in offsets\n",
    "        existing_plans = [col_gen_data.suppression_plans.crews_present[fire, i, :] \n",
    "                          for i in 1:col_gen_data.suppression_plans.plans_per_fire[fire]]\n",
    "\n",
    "        sp_config = copy(fire_solver_configs[fire])\n",
    "        sp_config[\"model_data\"] = fire_configs[fire]\n",
    "        sp_config[\"solver_strategy\"] = \"ceiling\"\n",
    "        sp_config[\"warm_start\"] = false\n",
    "        sp_config[\"capacities\"] = max.(0, last(allotment_history)[fire, :] .+ offset)\n",
    "\n",
    "        sp_config[\"break_capacity_penalty\"] = 0\n",
    "\n",
    "        mean_rho = sum(last(rhos)[fire, :]) / length(last(rhos)[fire, :])\n",
    "\n",
    "        plans = []\n",
    "\n",
    "        for lambda in [0.8, 0.9, 1, 1.1, 1.2]\n",
    "            \n",
    "            ix = sample(close_iters)\n",
    "            \n",
    "            cost, rel_cost, plan =\n",
    "            run_fire_subproblem(col_gen_data.plan_sps[fire], sp_config, lambda * rhos[ix][fire, :])\n",
    "\n",
    "            cap_pens = exp.(LinRange(1, log(rel_cost), 25)) .- exp(1)\n",
    "            cap_pens[1] = 0\n",
    "\n",
    "\n",
    "            for cap_pen in cap_pens\n",
    "                sp_config[\"break_capacity_penalty\"] = cap_pen\n",
    "                cost, rel_cost, plan = run_fire_subproblem(col_gen_data.plan_sps[fire], sp_config, lambda * rhos[ix][fire, :])\n",
    "                if ~(plan in plans) & ~(plan in existing_plans)\n",
    "                    update_available_supp_plans(fire, cost, plan, col_gen_data.suppression_plans)\n",
    "                    push!(plans, plan)\n",
    "                end\n",
    "            end\n",
    "        end\n",
    "    end\n",
    "end"
   ]
  },
  {
   "cell_type": "code",
   "execution_count": 1321,
   "id": "58e7a9fc",
   "metadata": {},
   "outputs": [
    {
     "data": {
      "text/plain": [
       "Dict{String, Float64} with 5 entries:\n",
       "  \"init_cg\"                    => 0.752721\n",
       "  \"price_and_branch\"           => 5.9677\n",
       "  \"price_and_branch_formulate\" => 1.0134\n",
       "  \"cg\"                         => 19.7658\n",
       "  \"ws\"                         => 3.94017"
      ]
     },
     "execution_count": 1321,
     "metadata": {},
     "output_type": "execute_result"
    }
   ],
   "source": [
    "ts"
   ]
  },
  {
   "cell_type": "code",
   "execution_count": 1329,
   "id": "320d28de",
   "metadata": {},
   "outputs": [
    {
     "data": {
      "text/plain": [
       "6×14 Matrix{Int64}:\n",
       "  0   0   0   0  0  0  0  0   0   0   2  12  2  0\n",
       "  0   0   0   0  4  4  8  8  10   0   0   0  0  0\n",
       " 10   0   0   0  0  0  0  0   0   0   0   0  0  0\n",
       "  1  20  20  14  2  0  0  0   0   0   4   0  0  0\n",
       "  0   0   0   0  6  6  6  6   6  11  11   6  0  0\n",
       "  9   0   0   0  0  0  0  0   0   0   0   0  0  0"
      ]
     },
     "execution_count": 1329,
     "metadata": {},
     "output_type": "execute_result"
    }
   ],
   "source": [
    "tmp = deepcopy(col_gen_config[\"master_problem\"][\"dual_stabilization\"])\n",
    "col_gen_config[\"master_problem\"][\"dual_stabilization\"] = false\n",
    "ts[\"price_and_branch_formulate\"] = @elapsed pb = master_problem(col_gen_config, col_gen_data.routes, col_gen_data.suppression_plans, \n",
    "                    r_data, rotation_order, gamma, true)\n",
    "ts[\"price_and_branch\"] = @elapsed optimize!(pb[\"m\"])\n",
    "col_gen_config[\"master_problem\"][\"dual_stabilization\"] = tmp\n",
    "convert.(Int, round.(100 .* get_fire_allotments(pb, col_gen_data)) ./ 100)"
   ]
  },
  {
   "cell_type": "code",
   "execution_count": 1333,
   "id": "e35144fd",
   "metadata": {},
   "outputs": [
    {
     "data": {
      "text/plain": [
       "6-element Vector{Tuple{Int64, Int64}}:\n",
       " (1, 52)\n",
       " (2, 95)\n",
       " (6, 2)\n",
       " (5, 122)\n",
       " (4, 49)\n",
       " (3, 2)"
      ]
     },
     "execution_count": 1333,
     "metadata": {},
     "output_type": "execute_result"
    }
   ],
   "source": [
    "[i for i in eachindex(pb[\"plan\"]) if value(pb[\"plan\"][i]) > 0.001]"
   ]
  },
  {
   "cell_type": "code",
   "execution_count": 1304,
   "id": "16b1ac29",
   "metadata": {},
   "outputs": [
    {
     "data": {
      "text/plain": [
       "Dict{String, Float64} with 5 entries:\n",
       "  \"init_cg\"                    => 3.06647\n",
       "  \"price_and_branch\"           => 303.79\n",
       "  \"price_and_branch_formulate\" => 4.18953\n",
       "  \"cg\"                         => 185.12\n",
       "  \"ws\"                         => 9.22496"
      ]
     },
     "execution_count": 1304,
     "metadata": {},
     "output_type": "execute_result"
    }
   ],
   "source": [
    "ts"
   ]
  },
  {
   "cell_type": "code",
   "execution_count": 1330,
   "id": "f0d50291",
   "metadata": {},
   "outputs": [
    {
     "data": {
      "text/plain": [
       "A JuMP Model\n",
       "Minimization problem with:\n",
       "Variables: 1409\n",
       "Objective function type: AffExpr\n",
       "`AffExpr`-in-`MathOptInterface.EqualTo{Float64}`: 20 constraints\n",
       "`AffExpr`-in-`MathOptInterface.GreaterThan{Float64}`: 390 constraints\n",
       "`VariableRef`-in-`MathOptInterface.GreaterThan{Float64}`: 1409 constraints\n",
       "`VariableRef`-in-`MathOptInterface.Integer`: 1409 constraints\n",
       "Model mode: AUTOMATIC\n",
       "CachingOptimizer state: ATTACHED_OPTIMIZER\n",
       "Solver name: Gurobi\n",
       "Names registered in the model: linking, out_of_region, plan, plan_per_fire, q, route, route_per_crew"
      ]
     },
     "execution_count": 1330,
     "metadata": {},
     "output_type": "execute_result"
    }
   ],
   "source": [
    "pb[\"m\"]"
   ]
  },
  {
   "cell_type": "code",
   "execution_count": 1331,
   "id": "82444087",
   "metadata": {},
   "outputs": [
    {
     "data": {
      "text/plain": [
       "3.0399192719967533e6"
      ]
     },
     "execution_count": 1331,
     "metadata": {},
     "output_type": "execute_result"
    }
   ],
   "source": [
    "objective_value(pb[\"m\"])"
   ]
  },
  {
   "cell_type": "code",
   "execution_count": 1265,
   "id": "66b08475",
   "metadata": {},
   "outputs": [
    {
     "data": {
      "text/plain": [
       "21×14 Matrix{Int8}:\n",
       " 0  0  0  0   1  2  8  7  7   9   3  0  0  0\n",
       " 0  0  0  0   1  5  6  7  7   5   1  0  0  0\n",
       " 0  0  0  0   1  5  7  6  7   5   6  0  0  0\n",
       " 0  0  0  0   1  0  1  4  7   8   8  0  0  0\n",
       " 0  0  0  0   1  0  3  7  6   6   8  0  0  0\n",
       " 0  0  0  0   1  5  6  7  7   5   6  0  0  0\n",
       " 0  0  0  0   1  5  0  2  0  10  10  0  0  0\n",
       " 0  0  0  0   1  5  0  4  5  10   7  0  0  0\n",
       " 0  0  0  0   1  5  0  6  6   9   6  0  0  0\n",
       " 0  0  0  0   1  5  0  6  6   8   5  1  0  0\n",
       " 0  0  0  0   1  5  0  7  7   5   3  0  0  0\n",
       " 0  0  0  0   1  5  0  7  7   5   1  0  0  0\n",
       " 0  9  9  5  10  6  9  7  8   0   0  0  0  0\n",
       " 0  9  9  0   2  6  8  7  7   6   0  0  0  0\n",
       " 0  3  2  0   2  7  8  8  8   6   2  0  0  0\n",
       " 0  0  0  0   3  6  8  8  8   6   3  0  0  0\n",
       " 0  0  0  0   1  5  8  8  8   6   2  0  0  0\n",
       " 0  9  9  0   2  6  8  9  8   4   0  0  0  0\n",
       " 0  0  0  0   3  6  8  8  8   7   2  0  0  0\n",
       " 0  0  0  0   1  5  8  7  7   6   2  0  0  0\n",
       " 0  0  0  0   1  5  8  7  7   6   3  1  0  0"
      ]
     },
     "execution_count": 1265,
     "metadata": {},
     "output_type": "execute_result"
    }
   ],
   "source": [
    "col_gen_data.suppression_plans.crews_present[1, 80:100, :]"
   ]
  },
  {
   "cell_type": "code",
   "execution_count": 699,
   "id": "11f4b1b3",
   "metadata": {},
   "outputs": [
    {
     "data": {
      "text/plain": [
       "6×14 Matrix{Float64}:\n",
       " 44536.2        20745.4  14036.3  …  2665.14  1523.21   153.0   0.0\n",
       " 39673.6        18289.9  16743.0     1298.09     0.0      0.0   4.0\n",
       "     1.47874e5  43312.1  11666.7        0.0      0.0      0.0   0.0\n",
       "     1.47156e5  62012.2  27518.6     2992.41  1292.41     0.0   0.0\n",
       " 32651.5        27047.4  18762.8     3051.29  1454.98     0.0  71.2503\n",
       "     1.47315e5  60395.9  27521.4  …  2356.15   956.154    0.0   0.0"
      ]
     },
     "execution_count": 699,
     "metadata": {},
     "output_type": "execute_result"
    }
   ],
   "source": [
    "last(rhos)"
   ]
  },
  {
   "cell_type": "markdown",
   "id": "9a3dec5f",
   "metadata": {},
   "source": [
    "### Incumbent MP sol"
   ]
  },
  {
   "cell_type": "code",
   "execution_count": 695,
   "id": "96f7e7c9",
   "metadata": {},
   "outputs": [
    {
     "name": "stdout",
     "output_type": "stream",
     "text": [
      "6×14 Matrix{Float64}:\n",
      "  0.0    0.0    0.0    0.0   0.0   0.0   0.0   0.0   0.0    0.0    0.0   11.99  2.01  0.0\n",
      "  0.0    0.0    0.0    0.25  3.99  3.99  6.99  7.99  8.8    0.0    0.0    0.0   0.0   0.0\n",
      " 10.0    0.01   0.0    0.0   0.0   0.0   0.0   0.0   0.0    0.0    0.0    0.0   0.0   0.0\n",
      "  2.08  20.0   19.86  14.73  1.99  0.99  0.99  0.0   0.0    1.54   5.54   0.0   0.0   0.0\n",
      "  0.0    0.0    0.0    0.01  5.99  5.99  6.99  6.99  6.18  10.43  11.43   6.0   0.0   0.0\n",
      "  7.93   0.01   0.11   0.0   0.0   0.0   0.0   0.0   0.0    1.99   0.01   0.01  0.0   0.0"
     ]
    }
   ],
   "source": [
    "show(stdout, \"text/plain\", round.(100 .* get_fire_allotments(mp, col_gen_data)) ./ 100)"
   ]
  },
  {
   "cell_type": "markdown",
   "id": "c670ef48",
   "metadata": {},
   "source": [
    "### Incumbent integer sol"
   ]
  },
  {
   "cell_type": "code",
   "execution_count": 697,
   "id": "a10f1206",
   "metadata": {},
   "outputs": [
    {
     "data": {
      "text/plain": [
       "6×14 Matrix{Int64}:\n",
       "  0   0   0   0   0  0  0   0  1  3  1  12  0  0\n",
       "  0   0   0  11  11  0  0  10  0  0  0   0  0  0\n",
       " 10   0   0   0   0  0  0   0  0  0  0   0  0  0\n",
       "  6  20  15   0   0  0  0   0  0  0  0   0  0  0\n",
       "  0   0   0   0   0  0  0   0  0  0  0   0  0  0\n",
       "  4   0   4   0   0  0  0   0  0  2  0   0  3  0"
      ]
     },
     "execution_count": 697,
     "metadata": {},
     "output_type": "execute_result"
    }
   ],
   "source": [
    "tmp = deepcopy(col_gen_config[\"master_problem\"][\"dual_stabilization\"])\n",
    "col_gen_config[\"master_problem\"][\"dual_stabilization\"] = false\n",
    "pb = master_problem(col_gen_config, col_gen_data.routes, col_gen_data.suppression_plans, \n",
    "                    r_data, rotation_order, gamma, true)\n",
    "ts[\"price_and_branch\"] = @elapsed optimize!(pb[\"m\"])\n",
    "col_gen_config[\"master_problem\"][\"dual_stabilization\"] = tmp\n",
    "convert.(Int, round.(100 .* get_fire_allotments(pb, col_gen_data)) ./ 100)"
   ]
  },
  {
   "cell_type": "markdown",
   "id": "3c0da81f",
   "metadata": {},
   "source": [
    "### New plans at this iteration"
   ]
  },
  {
   "cell_type": "code",
   "execution_count": 464,
   "id": "bdb444f0",
   "metadata": {},
   "outputs": [
    {
     "data": {
      "text/plain": [
       "6×14 Matrix{Int8}:\n",
       " 0   0   0  0  0  0  0  1  0  1  6  9  0  0\n",
       " 0   0   0  6  3  0  6  9  3  4  0  0  0  0\n",
       " 0   0   0  0  0  0  0  0  0  0  0  0  0  0\n",
       " 7  17  17  1  0  0  0  0  1  1  0  0  0  0\n",
       " 0   0   0  3  9  8  9  0  0  8  9  3  4  1\n",
       " 3   1   3  0  1  1  0  0  3  0  1  0  0  0"
      ]
     },
     "execution_count": 464,
     "metadata": {},
     "output_type": "execute_result"
    }
   ],
   "source": [
    "col_gen_data.suppression_plans.crews_present[:, n_iters+1, :]"
   ]
  },
  {
   "cell_type": "markdown",
   "id": "d8032324",
   "metadata": {},
   "source": [
    "## Stabilized"
   ]
  },
  {
   "cell_type": "code",
   "execution_count": 571,
   "id": "0d9c8e2e",
   "metadata": {},
   "outputs": [],
   "source": [
    "params = Dict{String, Any}()\n",
    "params[\"gamma\"] = 0\n",
    "\n",
    "params[\"in_path\"] = \"data/raw/big_fire\"\n",
    "params[\"agg_prec\"] = 10\n",
    "params[\"passive_states\"] = 30\n",
    "\n",
    "params[\"agg_prec\"] = 30\n",
    "params[\"passive_states\"] = 5\n",
    "\n",
    "params[\"num_fires\"] = 6\n",
    "params[\"num_crews\"] = 20\n",
    "params[\"fire_solver_type\"] = \"dp\"\n",
    "\n",
    "params[\"apply_warm_start\"] = false\n",
    "params[\"restore_cost\"] = false\n",
    "\n",
    "params[\"solve_explicit_lin_time_limit\"] = 60\n",
    "params[\"solve_explicit_int_time_limit\"] = 0\n",
    "params[\"cg_time_limit\"] = 240\n",
    "params[\"solve_net_flow_time_limit\"] = 360\n",
    "\n",
    "params[\"max_iters\"] = 1000\n",
    "\n",
    "params[\"dual_stab_type\"] = \"global\"\n",
    "params[\"dual_stab_anchor\"] = false\n",
    "params[\"dual_stab_eps\"] = 0.01\n",
    "\n",
    "params[\"ws_dual_weight\"] = zeros(params[\"max_iters\"])\n",
    "params[\"int_aware_dual_weight\"] = zeros(params[\"max_iters\"])\n",
    "\n",
    "start_adj = 1000\n",
    "pattern = [(0, 1e30), (1, 1e30), (2, 1e30), (0, 0)]\n",
    "params[\"int_aware_price_adjustment\"] = [i <= start_adj ? [(0, 0)] : pattern for i in 1:params[\"max_iters\"]]\n",
    "\n",
    "d2, cg_data2 = run_tests(params);"
   ]
  },
  {
   "cell_type": "code",
   "execution_count": 572,
   "id": "54f68fee",
   "metadata": {},
   "outputs": [],
   "source": [
    "num_iters = d2[4]\n",
    "timings = d2[5]\n",
    "obj_values = d2[6]\n",
    "allotments = d2[7]\n",
    "rhos = d2[8]\n",
    "mp = d2[9]\n",
    "mp_history = d2[10];"
   ]
  },
  {
   "cell_type": "code",
   "execution_count": 1158,
   "id": "83db663e",
   "metadata": {},
   "outputs": [
    {
     "data": {
      "text/plain": [
       "Dict{String, Float64} with 5 entries:\n",
       "  \"net_flow_int_bound\" => 2.85906e6\n",
       "  \"explicit_lr\"        => 2.48759e6\n",
       "  \"price_and_branch\"   => 3.60955e6\n",
       "  \"master_problem\"     => 2.80255e6\n",
       "  \"net_flow_int\"       => 2.86677e6"
      ]
     },
     "execution_count": 1158,
     "metadata": {},
     "output_type": "execute_result"
    }
   ],
   "source": [
    "obj_values"
   ]
  },
  {
   "cell_type": "code",
   "execution_count": 573,
   "id": "179c1789",
   "metadata": {},
   "outputs": [],
   "source": [
    "arcs_spent = value.(allotments[\"net_flow_int_full_data\"][\"y\"] .* allotments[\"net_flow_int_full_data\"][\"arc_costs\"])\n",
    "cost_per_fire = [sum(arcs_spent[allotments[\"net_flow_int_full_data\"][\"arcs\"][:, 1] .== i]) for i in 1:NUM_FIRES];"
   ]
  },
  {
   "cell_type": "code",
   "execution_count": 576,
   "id": "76e95094",
   "metadata": {
    "scrolled": false
   },
   "outputs": [
    {
     "name": "stdout",
     "output_type": "stream",
     "text": [
      "1\n",
      "\n",
      "0.8\n",
      "Int8[0, 0, 0, 0, 0, 0, 0, 0, 0, 0, 0, 15, 0, 0]\n",
      "1.179863636363636e6\n",
      "0.2\n",
      "Int8[0, 0, 0, 0, 0, 0, 0, 0, 0, 0, 0, 0, 10, 0]\n",
      "1.201181818181818e6\n",
      "\n",
      "MP allotment\n",
      "[0.0, 0.0, 0.0, 0.0, 0.0, 0.0, 0.0, 0.0, 0.0, 0.0, 0.0, 11.99, 2.01, 0.0]\n",
      "1.1841272727272725e6\n",
      "\n",
      "Integer optimal allotment\n",
      "[0.0, 0.0, 0.0, 0.0, 1.0, 0.0, 0.0, 0.0, 0.0, 0.0, 0.0, 0.0, 10.0, 0.0]\n",
      "1.1920454453055565e6\n",
      "\n",
      "2\n",
      "\n",
      "0.01\n",
      "Int8[0, 0, 0, 11, 11, 0, 0, 10, 0, 0, 0, 0, 0, 0]\n",
      "263218.75\n",
      "0.57\n",
      "Int8[0, 0, 0, 0, 0, 0, 11, 11, 10, 0, 0, 0, 0, 0]\n",
      "390062.5\n",
      "0.06\n",
      "Int8[0, 0, 0, 0, 0, 11, 11, 10, 0, 0, 0, 0, 0, 0]\n",
      "337468.75\n",
      "0.05\n",
      "Int8[0, 0, 0, 0, 11, 0, 0, 19, 2, 0, 0, 0, 0, 0]\n",
      "340562.5\n",
      "0.3\n",
      "Int8[0, 0, 0, 0, 11, 11, 0, 0, 10, 0, 0, 0, 0, 0]\n",
      "315812.5\n",
      "\n",
      "MP allotment\n",
      "[0.0, 0.0, 0.0, 0.25, 3.99, 3.99, 6.99, 7.99, 8.8, 0.0, 0.0, 0.0, 0.0, 0.0]\n",
      "360330.3571428571\n",
      "\n",
      "Integer optimal allotment\n",
      "[0.0, 0.0, 0.0, 0.0, 11.0, 11.0, 0.0, 2.0, 4.0, 5.0, 0.0, 0.0, 0.0, 0.0]\n",
      "318906.24055508955\n",
      "\n",
      "3\n",
      "\n",
      "1.0\n",
      "Int8[10, 0, 0, 0, 0, 0, 0, 0, 0, 0, 0, 0, 0, 0]\n",
      "5000.0\n",
      "\n",
      "MP allotment\n",
      "[10.0, 0.01, 0.0, 0.0, 0.0, 0.0, 0.0, 0.0, 0.0, 0.0, 0.0, 0.0, 0.0, 0.0]\n",
      "5000.0\n",
      "\n",
      "Integer optimal allotment\n",
      "[10.0, 0.0, 0.0, 0.0, 0.0, 0.0, 0.0, 0.0, 0.0, 0.0, 0.0, 0.0, 0.0, 0.0]\n",
      "5000.0\n",
      "\n",
      "4\n",
      "\n",
      "0.13\n",
      "Int8[1, 20, 20, 20, 15, 0, 0, 0, 0, 0, 0, 0, 0, 0]\n",
      "168687.5\n",
      "0.07\n",
      "Int8[1, 20, 20, 20, 0, 0, 15, 0, 0, 0, 0, 0, 0, 0]\n",
      "219687.5\n",
      "0.1\n",
      "Int8[1, 20, 20, 20, 0, 0, 0, 0, 0, 15, 0, 0, 0, 0]\n",
      "296187.5\n",
      "0.24\n",
      "Int8[5, 20, 20, 0, 0, 0, 0, 0, 0, 0, 0, 0, 0, 0]\n",
      "76250.0\n",
      "0.37\n",
      "Int8[1, 20, 20, 20, 0, 0, 0, 0, 0, 0, 15, 0, 0, 0]\n",
      "321687.5\n",
      "0.07\n",
      "Int8[1, 20, 20, 20, 0, 15, 0, 0, 0, 0, 0, 0, 0, 0]\n",
      "194187.5\n",
      "0.02\n",
      "Int8[6, 20, 15, 0, 0, 0, 0, 0, 0, 0, 0, 0, 0, 0]\n",
      "66687.5\n",
      "\n",
      "MP allotment\n",
      "[2.08, 20.0, 19.86, 14.73, 1.99, 0.99, 0.99, 0.0, 0.0, 1.54, 5.54, 0.0, 0.0, 0.0]\n",
      "220021.42857142852\n",
      "\n",
      "Integer optimal allotment\n",
      "[1.0, 20.0, 20.0, 15.0, 0.0, 0.0, 15.0, 4.0, 2.0, 0.0, 2.0, 0.0, 0.0, 0.0]\n",
      "283437.47029823443\n",
      "\n",
      "5\n",
      "\n",
      "0.02\n",
      "Int8[0, 0, 0, 0, 0, 18, 0, 0, 0, 18, 18, 6, 0, 0]\n",
      "881409.090909091\n",
      "0.17\n",
      "Int8[0, 0, 0, 0, 0, 18, 0, 18, 0, 0, 18, 6, 0, 0]\n",
      "820500.0\n",
      "0.25\n",
      "Int8[0, 0, 0, 0, 18, 0, 18, 0, 0, 0, 18, 6, 0, 0]\n",
      "759590.909090909\n",
      "0.08\n",
      "Int8[0, 0, 0, 0, 18, 0, 0, 18, 0, 18, 0, 6, 0, 0]\n",
      "759590.9090909091\n",
      "0.14\n",
      "Int8[0, 0, 0, 0, 0, 0, 18, 18, 0, 18, 0, 6, 0, 0]\n",
      "820500.0\n",
      "0.2\n",
      "Int8[0, 0, 0, 0, 0, 0, 0, 0, 18, 18, 18, 6, 0, 0]\n",
      "972772.7272727273\n",
      "0.15\n",
      "Int8[0, 0, 0, 0, 0, 18, 0, 0, 18, 18, 0, 6, 0, 0]\n",
      "820500.0000000001\n",
      "\n",
      "MP allotment\n",
      "[0.0, 0.0, 0.0, 0.01, 5.99, 5.99, 6.99, 6.99, 6.18, 10.43, 11.43, 6.0, 0.0, 0.0]\n",
      "831134.9206349207\n",
      "\n",
      "Integer optimal allotment\n",
      "[0.0, 0.0, 0.0, 0.0, 0.0, 0.0, 0.0, 9.0, 9.0, 9.0, 15.0, 18.0, 0.0, 0.0]\n",
      "994090.7765299319\n",
      "\n",
      "6\n",
      "\n",
      "0.95\n",
      "Int8[8, 0, 0, 0, 0, 0, 0, 0, 0, 2, 0, 0, 0, 0]\n",
      "134568.5313654026\n",
      "0.05\n",
      "Int8[7, 0, 2, 0, 0, 0, 0, 0, 0, 2, 0, 0, 0, 0]\n",
      "226840.5808545156\n",
      "\n",
      "MP allotment\n",
      "[7.93, 0.01, 0.11, 0.0, 0.0, 0.0, 0.0, 0.0, 0.0, 1.99, 0.01, 0.01, 0.0, 0.0]\n",
      "138962.43848393188\n",
      "\n",
      "Integer optimal allotment\n",
      "[9.0, 0.0, 0.0, 0.0, 0.0, 0.0, 0.0, 0.0, 0.0, 0.0, 0.0, 0.0, 0.0, 0.0]\n",
      "5000.0\n",
      "\n"
     ]
    }
   ],
   "source": [
    "used_plans = [i for i in eachindex(mp[\"plan\"]) if value.(mp[\"plan\"][i]) > 0.0001]\n",
    "\n",
    "for i in 1:NUM_FIRES\n",
    "    mp_cost = 0\n",
    "    println(i)\n",
    "    println()\n",
    "    for plan in used_plans\n",
    "        if plan[1] == i\n",
    "            println(round(100 * value.(mp[\"plan\"][plan])) / 100)\n",
    "            println(cg_data2.suppression_plans.crews_present[i, plan[2], :])\n",
    "            println(cg_data2.suppression_plans.plan_costs[i, plan[2]])\n",
    "            mp_cost += value(mp[\"plan\"][plan]) * cg_data2.suppression_plans.plan_costs[i, plan[2]]\n",
    "        end\n",
    "    end\n",
    "    println()\n",
    "    println(\"MP allotment\")\n",
    "    println(round.(100 * mp_history[num_iters][i, :]) / 100)\n",
    "    println(mp_cost)\n",
    "    println()\n",
    "    println(\"Integer optimal allotment\")\n",
    "    println(round.(100 * allotments[\"net_flow_int\"][i, :]) / 100)\n",
    "    println(cost_per_fire[i])\n",
    "    println()\n",
    "end\n",
    "    "
   ]
  },
  {
   "cell_type": "code",
   "execution_count": 491,
   "id": "558baefb",
   "metadata": {},
   "outputs": [
    {
     "data": {
      "text/plain": [
       "1.121356783919598e6"
      ]
     },
     "execution_count": 491,
     "metadata": {},
     "output_type": "execute_result"
    }
   ],
   "source": [
    "cg_data2.suppression_plans.plan_costs[1, 30]"
   ]
  },
  {
   "cell_type": "code",
   "execution_count": 473,
   "id": "868ca2de",
   "metadata": {},
   "outputs": [
    {
     "data": {
      "text/plain": [
       "50"
      ]
     },
     "execution_count": 473,
     "metadata": {},
     "output_type": "execute_result"
    }
   ],
   "source": [
    "num_iters"
   ]
  },
  {
   "cell_type": "code",
   "execution_count": null,
   "id": "0a5fec04",
   "metadata": {},
   "outputs": [],
   "source": []
  },
  {
   "cell_type": "code",
   "execution_count": 248,
   "id": "a7d56c84",
   "metadata": {},
   "outputs": [
    {
     "data": {
      "text/plain": [
       "Dict{String, Float64} with 6 entries:\n",
       "  \"explicit_lr\"      => 0.440205\n",
       "  \"init_cg\"          => 1.52668\n",
       "  \"price_and_branch\" => 0.636677\n",
       "  \"explicit_int\"     => 21.9254\n",
       "  \"cg\"               => 36.2774\n",
       "  \"ws\"               => 3.48019"
      ]
     },
     "execution_count": 248,
     "metadata": {},
     "output_type": "execute_result"
    }
   ],
   "source": [
    "timings"
   ]
  },
  {
   "cell_type": "code",
   "execution_count": 249,
   "id": "de8c2cd4",
   "metadata": {},
   "outputs": [
    {
     "data": {
      "text/plain": [
       "Dict{String, Float64} with 4 entries:\n",
       "  \"explicit_lr\"      => 2.48759e6\n",
       "  \"price_and_branch\" => 5.05546e8\n",
       "  \"explicit_int\"     => 2.55842e6\n",
       "  \"master_problem\"   => 2.67122e6"
      ]
     },
     "execution_count": 249,
     "metadata": {},
     "output_type": "execute_result"
    }
   ],
   "source": [
    "obj_values"
   ]
  },
  {
   "cell_type": "code",
   "execution_count": 250,
   "id": "e2005b1a",
   "metadata": {},
   "outputs": [
    {
     "name": "stdout",
     "output_type": "stream",
     "text": [
      "6×14 Matrix{Float64}:\n",
      " 0.0    0.0   0.0   0.0   0.0   0.0  0.0  0.0  0.0   1.57  16.93  1.63  0.0  0.0\n",
      " 0.0    0.0   0.0   4.0   4.0   4.0  6.0  6.0  6.0   0.0    0.0   0.0   0.0  0.0\n",
      " 9.0    2.0   0.0   0.0   0.0   0.0  0.0  0.0  0.0   0.0    0.0   0.0   0.0  0.0\n",
      " 5.53  18.0  19.38  4.97  0.0   0.0  0.0  0.0  0.0   0.0    0.0   0.38  0.0  0.0\n",
      " 0.0    0.0   0.0   6.03  7.62  7.0  9.0  9.0  9.0  11.28   0.07  1.0   0.0  0.0\n",
      " 5.47   0.0   0.62  0.0   0.38  0.0  0.0  0.0  0.0   1.14   0.0   0.62  0.0  0.0"
     ]
    }
   ],
   "source": [
    "show(stdout, \"text/plain\", round.(allotments[\"master_problem\"] * 100) / 100)"
   ]
  },
  {
   "cell_type": "code",
   "execution_count": 130,
   "id": "6b3cb002",
   "metadata": {},
   "outputs": [
    {
     "name": "stdout",
     "output_type": "stream",
     "text": [
      "6×14 Matrix{Int8}:\n",
      "  0   0   0  0  1  0  0  5  5  1  6  6  0  0\n",
      "  0   0   0  0  0  0  0  0  0  0  0  0  0  0\n",
      " 10   0   0  0  0  0  0  0  0  0  0  0  0  0\n",
      "  7  17  18  0  0  0  0  0  0  0  0  0  0  0\n",
      "  0   0   0  0  0  0  0  0  0  0  0  0  0  0\n",
      "  3   1   0  0  1  1  0  0  5  0  0  0  0  0"
     ]
    }
   ],
   "source": [
    "show(stdout, \"text/plain\", allotments[\"price_and_branch\"])"
   ]
  },
  {
   "cell_type": "markdown",
   "id": "e90750c4",
   "metadata": {},
   "source": [
    "## Stablized + integrality awareness"
   ]
  },
  {
   "cell_type": "code",
   "execution_count": 131,
   "id": "f619f1a0",
   "metadata": {},
   "outputs": [],
   "source": [
    "params = Dict{String, Any}()\n",
    "params[\"gamma\"] = 0\n",
    "\n",
    "params[\"in_path\"] = \"data/raw/big_fire\"\n",
    "params[\"agg_prec\"] = 10\n",
    "params[\"passive_states\"] = 30\n",
    "params[\"num_fires\"] = 6\n",
    "params[\"num_crews\"] = 20\n",
    "params[\"fire_solver_type\"] = \"dp\"\n",
    "\n",
    "params[\"apply_warm_start\"] = false\n",
    "params[\"restore_cost\"] = false\n",
    "\n",
    "params[\"solve_explicit_lin_time_limit\"] = 60\n",
    "params[\"solve_explicit_int_time_limit\"] = 240\n",
    "params[\"cg_time_limit\"] = 240\n",
    "params[\"solve_net_flow_time_limit\"] = 0\n",
    "\n",
    "params[\"max_iters\"] = 1000\n",
    "\n",
    "params[\"dual_stab_type\"] = \"global\"\n",
    "params[\"dual_stab_eps\"] = 0.01\n",
    "\n",
    "params[\"ws_dual_weight\"] = zeros(params[\"max_iters\"])\n",
    "params[\"int_aware_dual_weight\"] = zeros(params[\"max_iters\"])\n",
    "\n",
    "start_adj = 15\n",
    "pattern = [(0, 1e30), (1, 1e30), (2, 1e30), (0, 0)]\n",
    "params[\"int_aware_price_adjustment\"] = [i <= start_adj ? [(0, 0)] : pattern for i in 1:params[\"max_iters\"]]\n",
    "\n",
    "d3, cg_data3 = run_tests(params);"
   ]
  },
  {
   "cell_type": "code",
   "execution_count": 132,
   "id": "713ae0d4",
   "metadata": {},
   "outputs": [],
   "source": [
    "num_iters = d3[4]\n",
    "timings = d3[5]\n",
    "obj_values = d3[6]\n",
    "allotments = d3[7]\n",
    "rhos = d3[8];"
   ]
  },
  {
   "cell_type": "code",
   "execution_count": 133,
   "id": "28343e5e",
   "metadata": {},
   "outputs": [
    {
     "data": {
      "text/plain": [
       "52"
      ]
     },
     "execution_count": 133,
     "metadata": {},
     "output_type": "execute_result"
    }
   ],
   "source": [
    "num_iters"
   ]
  },
  {
   "cell_type": "code",
   "execution_count": 134,
   "id": "d82aeb28",
   "metadata": {},
   "outputs": [
    {
     "data": {
      "text/plain": [
       "Dict{String, Float64} with 6 entries:\n",
       "  \"explicit_lr\"      => 0.390816\n",
       "  \"init_cg\"          => 0.55885\n",
       "  \"price_and_branch\" => 1.59159\n",
       "  \"explicit_int\"     => 19.5031\n",
       "  \"cg\"               => 37.8683\n",
       "  \"ws\"               => 1.95445"
      ]
     },
     "execution_count": 134,
     "metadata": {},
     "output_type": "execute_result"
    }
   ],
   "source": [
    "timings"
   ]
  },
  {
   "cell_type": "code",
   "execution_count": 135,
   "id": "599fab77",
   "metadata": {},
   "outputs": [
    {
     "data": {
      "text/plain": [
       "Dict{String, Float64} with 4 entries:\n",
       "  \"explicit_lr\"      => 2.48759e6\n",
       "  \"price_and_branch\" => 2.89269e6\n",
       "  \"explicit_int\"     => 2.55842e6\n",
       "  \"master_problem\"   => 2.67122e6"
      ]
     },
     "execution_count": 135,
     "metadata": {},
     "output_type": "execute_result"
    }
   ],
   "source": [
    "obj_values"
   ]
  },
  {
   "cell_type": "code",
   "execution_count": 136,
   "id": "a4e950bf",
   "metadata": {},
   "outputs": [
    {
     "name": "stdout",
     "output_type": "stream",
     "text": [
      "6×14 Matrix{Float64}:\n",
      " 0.0    0.0   0.0   0.0   0.0   0.0  0.0  0.0  0.0   1.57  16.93  1.63  0.0  0.0\n",
      " 0.0    0.0   0.0   4.0   4.0   4.0  6.0  6.0  6.0   0.0    0.0   0.0   0.0  0.0\n",
      " 9.0    2.0   0.0   0.0   0.0   0.0  0.0  0.0  0.0   0.0    0.0   0.0   0.0  0.0\n",
      " 5.53  18.0  19.38  4.97  0.0   0.0  0.0  0.0  0.0   0.0    0.0   0.38  0.0  0.0\n",
      " 0.0    0.0   0.0   6.03  7.62  7.0  9.0  9.0  9.0  11.28   0.07  1.0   0.0  0.0\n",
      " 5.47   0.0   0.62  0.0   0.38  0.0  0.0  0.0  0.0   1.14   0.0   0.62  0.0  0.0"
     ]
    }
   ],
   "source": [
    "show(stdout, \"text/plain\", round.(allotments[\"master_problem\"] * 100) / 100)"
   ]
  },
  {
   "cell_type": "code",
   "execution_count": 137,
   "id": "6722194c",
   "metadata": {},
   "outputs": [
    {
     "name": "stdout",
     "output_type": "stream",
     "text": [
      "6×14 Matrix{Int8}:\n",
      "  0   0   0  0  0  0  0  1  1  2  8  7  0  0\n",
      "  0   0   0  6  3  3  5  6  3  6  0  0  0  0\n",
      " 10   0   0  0  0  0  0  0  0  0  0  0  0  0\n",
      "  7  18  16  0  0  0  0  0  2  0  0  0  0  0\n",
      "  0   0   0  9  9  6  9  6  9  6  6  0  0  0\n",
      "  3   1   0  0  1  0  1  0  0  0  2  0  0  0"
     ]
    }
   ],
   "source": [
    "show(stdout, \"text/plain\", allotments[\"price_and_branch\"])"
   ]
  },
  {
   "cell_type": "code",
   "execution_count": null,
   "id": "93e19bb4",
   "metadata": {},
   "outputs": [],
   "source": [
    "cg_data.suppression_plans.crews_present[5, 1:30, :]"
   ]
  },
  {
   "cell_type": "markdown",
   "id": "0304a96b",
   "metadata": {},
   "source": [
    "## Dual warm start"
   ]
  },
  {
   "cell_type": "code",
   "execution_count": 222,
   "id": "49ea2c36",
   "metadata": {},
   "outputs": [],
   "source": [
    "params = Dict{String, Any}()\n",
    "params[\"gamma\"] = 0\n",
    "\n",
    "params[\"in_path\"] = \"data/raw/big_fire\"\n",
    "params[\"agg_prec\"] = 10\n",
    "params[\"passive_states\"] = 30\n",
    "params[\"num_fires\"] = 6\n",
    "params[\"num_crews\"] = 20\n",
    "params[\"fire_solver_type\"] = \"dp\"\n",
    "params[\"rho\"] = false\n",
    "\n",
    "params[\"apply_warm_start\"] = false\n",
    "params[\"restore_cost\"] = true\n",
    "\n",
    "params[\"solve_explicit_lin_time_limit\"] = 0\n",
    "params[\"solve_explicit_int_time_limit\"] = 0\n",
    "params[\"cg_time_limit\"] = 60\n",
    "params[\"solve_net_flow_time_limit\"] = 0\n",
    "\n",
    "params[\"max_iters\"] = 500\n",
    "\n",
    "params[\"ws_dual_weight\"] = zeros(params[\"max_iters\"])\n",
    "for i in 11:19\n",
    "    params[\"ws_dual_weight\"][i] = (20 - i) / 10.0 \n",
    "end\n",
    "\n",
    "params[\"int_aware_dual_weight\"] = zeros(params[\"max_iters\"])\n",
    "\n",
    "d3, cg_data3 = run_tests(params);"
   ]
  },
  {
   "cell_type": "code",
   "execution_count": 223,
   "id": "84e2b458",
   "metadata": {},
   "outputs": [
    {
     "data": {
      "text/plain": [
       "Dict{String, Float64} with 2 entries:\n",
       "  \"price_and_branch\" => 3.83216e6\n",
       "  \"master_problem\"   => 2.61385e6"
      ]
     },
     "execution_count": 223,
     "metadata": {},
     "output_type": "execute_result"
    }
   ],
   "source": [
    "obj_values = d3[6]"
   ]
  },
  {
   "cell_type": "markdown",
   "id": "6779832f",
   "metadata": {},
   "source": [
    "## Dual warm start and integrality-aware generation"
   ]
  },
  {
   "cell_type": "code",
   "execution_count": 225,
   "id": "8fa6a199",
   "metadata": {},
   "outputs": [],
   "source": [
    "params = Dict{String, Any}()\n",
    "params[\"gamma\"] = 0\n",
    "\n",
    "params[\"in_path\"] = \"data/raw/big_fire\"\n",
    "params[\"agg_prec\"] = 10\n",
    "params[\"passive_states\"] = 30\n",
    "params[\"num_fires\"] = 6\n",
    "params[\"num_crews\"] = 20\n",
    "params[\"fire_solver_type\"] = \"dp\"\n",
    "params[\"rho\"] = false\n",
    "\n",
    "params[\"apply_warm_start\"] = false\n",
    "params[\"restore_cost\"] = true\n",
    "\n",
    "params[\"solve_explicit_lin_time_limit\"] = 0\n",
    "params[\"solve_explicit_int_time_limit\"] = 0\n",
    "params[\"cg_time_limit\"] = 60\n",
    "params[\"solve_net_flow_time_limit\"] = 0\n",
    "\n",
    "params[\"max_iters\"] = 500\n",
    "\n",
    "params[\"ws_dual_weight\"] = zeros(params[\"max_iters\"])\n",
    "params[\"int_aware_dual_weight\"] = zeros(params[\"max_iters\"])\n",
    "\n",
    "for i in 11:19\n",
    "    params[\"ws_dual_weight\"][i] = (20 - i) / 20.0 \n",
    "    params[\"int_aware_dual_weight\"][i] = (20 - i) / 20.0 \n",
    "end\n",
    "\n",
    "\n",
    "\n",
    "d4, cg_data4 = run_tests(params);"
   ]
  },
  {
   "cell_type": "code",
   "execution_count": 226,
   "id": "fe79ad1c",
   "metadata": {},
   "outputs": [
    {
     "data": {
      "text/plain": [
       "Dict{String, Float64} with 2 entries:\n",
       "  \"price_and_branch\" => 3.6737e6\n",
       "  \"master_problem\"   => 2.60075e6"
      ]
     },
     "execution_count": 226,
     "metadata": {},
     "output_type": "execute_result"
    }
   ],
   "source": [
    "obj_values = d4[6]"
   ]
  },
  {
   "cell_type": "markdown",
   "id": "507bf77e",
   "metadata": {},
   "source": [
    "Eventually want cost update param to go to false, need to nix warm start perturbations if so"
   ]
  },
  {
   "cell_type": "code",
   "execution_count": 129,
   "id": "a14afa06",
   "metadata": {},
   "outputs": [],
   "source": [
    "AGG_PREC = 30\n",
    "PASSIVE_STATES = 5\n",
    "ws, e = warm_start_suppression_plans(10, fire_configs, r_data, c_data, rotation_order, arc_costs, \n",
    "                                                         0, false, false, 60);"
   ]
  },
  {
   "cell_type": "code",
   "execution_count": null,
   "id": "991559f0",
   "metadata": {},
   "outputs": [],
   "source": []
  },
  {
   "cell_type": "code",
   "execution_count": 134,
   "id": "8345e7e1",
   "metadata": {},
   "outputs": [
    {
     "ename": "LoadError",
     "evalue": "MethodError: no method matching master_problem(::RouteData, ::SuppressionPlanData, ::RegionData, ::Dict{Any, Any}, ::Int64, ::Bool)\n\u001b[0mClosest candidates are:\n\u001b[0m  master_problem(::Any, ::Any, ::Any, ::Any, ::Any, ::Any, \u001b[91m::Any\u001b[39m) at In[23]:1",
     "output_type": "error",
     "traceback": [
      "MethodError: no method matching master_problem(::RouteData, ::SuppressionPlanData, ::RegionData, ::Dict{Any, Any}, ::Int64, ::Bool)\n\u001b[0mClosest candidates are:\n\u001b[0m  master_problem(::Any, ::Any, ::Any, ::Any, ::Any, ::Any, \u001b[91m::Any\u001b[39m) at In[23]:1",
      "",
      "Stacktrace:",
      " [1] top-level scope",
      "   @ In[134]:1",
      " [2] eval",
      "   @ .\\boot.jl:373 [inlined]",
      " [3] include_string(mapexpr::typeof(REPL.softscope), mod::Module, code::String, filename::String)",
      "   @ Base .\\loading.jl:1196"
     ]
    }
   ],
   "source": [
    "mp = master_problem(cg_data.routes, cg_data.suppression_plans, r_data, rotation_order, 0, false)\n",
    "optimize!(mp[\"m\"])"
   ]
  },
  {
   "cell_type": "code",
   "execution_count": 236,
   "id": "025d082f",
   "metadata": {},
   "outputs": [
    {
     "data": {
      "text/plain": [
       "(1.233421684173805e6, 953997.392347177)"
      ]
     },
     "execution_count": 236,
     "metadata": {},
     "output_type": "execute_result"
    }
   ],
   "source": [
    "sum(dual.(e[\"f_linking\"])), sum(dual.(mp[\"rho\"]))"
   ]
  },
  {
   "cell_type": "code",
   "execution_count": 237,
   "id": "1c40aeba",
   "metadata": {},
   "outputs": [
    {
     "data": {
      "text/plain": [
       "(2.802550118532975e6, 2.6239251503669736e6)"
      ]
     },
     "execution_count": 237,
     "metadata": {},
     "output_type": "execute_result"
    }
   ],
   "source": [
    "objective_value(e[\"m\"]), objective_value(mp[\"m\"])"
   ]
  },
  {
   "cell_type": "code",
   "execution_count": 131,
   "id": "da09e627",
   "metadata": {
    "scrolled": true
   },
   "outputs": [
    {
     "ename": "LoadError",
     "evalue": "MethodError: no method matching getindex(::Int64, ::String)\n\u001b[0mClosest candidates are:\n\u001b[0m  getindex(::Number) at C:\\Users\\mit\\AppData\\Local\\Programs\\Julia-1.7.1\\share\\julia\\base\\number.jl:95\n\u001b[0m  getindex(::Union{AbstractChar, Number}, \u001b[91m::CartesianIndex{0}\u001b[39m) at C:\\Users\\mit\\AppData\\Local\\Programs\\Julia-1.7.1\\share\\julia\\base\\multidimensional.jl:831\n\u001b[0m  getindex(::Number, \u001b[91m::Integer\u001b[39m) at C:\\Users\\mit\\AppData\\Local\\Programs\\Julia-1.7.1\\share\\julia\\base\\number.jl:96\n\u001b[0m  ...",
     "output_type": "error",
     "traceback": [
      "MethodError: no method matching getindex(::Int64, ::String)\n\u001b[0mClosest candidates are:\n\u001b[0m  getindex(::Number) at C:\\Users\\mit\\AppData\\Local\\Programs\\Julia-1.7.1\\share\\julia\\base\\number.jl:95\n\u001b[0m  getindex(::Union{AbstractChar, Number}, \u001b[91m::CartesianIndex{0}\u001b[39m) at C:\\Users\\mit\\AppData\\Local\\Programs\\Julia-1.7.1\\share\\julia\\base\\multidimensional.jl:831\n\u001b[0m  getindex(::Number, \u001b[91m::Integer\u001b[39m) at C:\\Users\\mit\\AppData\\Local\\Programs\\Julia-1.7.1\\share\\julia\\base\\number.jl:96\n\u001b[0m  ...",
      "",
      "Stacktrace:",
      " [1] top-level scope",
      "   @ In[131]:1",
      " [2] eval",
      "   @ .\\boot.jl:373 [inlined]",
      " [3] include_string(mapexpr::typeof(REPL.softscope), mod::Module, code::String, filename::String)",
      "   @ Base .\\loading.jl:1196"
     ]
    }
   ],
   "source": [
    "dual.(mp[\"rho\"])[:, 1:7]"
   ]
  },
  {
   "cell_type": "code",
   "execution_count": 136,
   "id": "d92329cd",
   "metadata": {},
   "outputs": [
    {
     "data": {
      "text/plain": [
       "6×7 Matrix{Float64}:\n",
       " 6947.79  5425.06  3902.33  2665.23  1523.34   153.196   0.0\n",
       " 8165.02  6618.15  4226.06  1298.14     0.0      0.0     4.41113\n",
       "    0.0      0.0      0.0      0.0      0.0      0.0     0.0\n",
       " 8092.24  6392.24  4692.24  2992.24  1292.24     0.0     0.0\n",
       " 8126.87  6434.95  4743.03  3051.11  1455.92     0.0    71.1542\n",
       " 6782.41  6445.02  4695.02  2356.01   956.014    0.0     0.0"
      ]
     },
     "execution_count": 136,
     "metadata": {},
     "output_type": "execute_result"
    }
   ],
   "source": [
    "dual.(e[\"f_linking\"])[:, 8:14]"
   ]
  },
  {
   "cell_type": "code",
   "execution_count": 240,
   "id": "3f6f4fb0",
   "metadata": {},
   "outputs": [],
   "source": [
    "using Statistics"
   ]
  },
  {
   "cell_type": "code",
   "execution_count": 241,
   "id": "4329d419",
   "metadata": {},
   "outputs": [
    {
     "data": {
      "text/plain": [
       "0.9858512890371494"
      ]
     },
     "execution_count": 241,
     "metadata": {},
     "output_type": "execute_result"
    }
   ],
   "source": [
    "cor(vec(dual.(mp[\"rho\"])), vec(dual.(e[\"f_linking\"])))"
   ]
  },
  {
   "cell_type": "code",
   "execution_count": 561,
   "id": "79bf64a1",
   "metadata": {},
   "outputs": [
    {
     "data": {
      "text/plain": [
       "get_cost (generic function with 2 methods)"
      ]
     },
     "execution_count": 561,
     "metadata": {},
     "output_type": "execute_result"
    }
   ],
   "source": [
    "function get_cost(fire_arc, states, dual_linking)\n",
    "    \n",
    "    cost = 0\n",
    "    if (fire_arc[3] == 1) | (fire_arc[3] == NUM_TIME_PERIODS) \n",
    "        cost = states[fire_arc[4]] / 2\n",
    "    else\n",
    "        cost = states[fire_arc[4]]\n",
    "    end\n",
    "    \n",
    "    cost += fire_arc[5] * dual_linking[fire_arc[1], fire_arc[3]]\n",
    "    \n",
    "    return cost\n",
    "end"
   ]
  },
  {
   "cell_type": "code",
   "execution_count": 562,
   "id": "592c7ad3",
   "metadata": {},
   "outputs": [
    {
     "data": {
      "text/plain": [
       "generate_fire_arcs (generic function with 1 method)"
      ]
     },
     "execution_count": 562,
     "metadata": {},
     "output_type": "execute_result"
    }
   ],
   "source": [
    "function generate_fire_arcs(g, progs, perims)\n",
    "    \n",
    "    # get the progressions for this specific fire\n",
    "    fire_progs = progs[g, :]\n",
    "    \n",
    "    no_supp = [perims[g]]\n",
    "    for i in 1:NUM_TIME_PERIODS\n",
    "        push!(no_supp, no_supp[i] * progs[i])\n",
    "    end\n",
    "\n",
    "    aggressive_precision = 15\n",
    "    num_aggressive_states = convert(Int, round(perims[g] * 2 / aggressive_precision))\n",
    "    num_passive_states = 30\n",
    "\n",
    "    aggressive_states = LinRange(0, num_aggressive_states * aggressive_precision, num_aggressive_states)\n",
    "    passive_states = exp.(LinRange(log(num_aggressive_states * aggressive_precision+ 1), maximum(log.(no_supp .+ 1)), num_passive_states + 1))\n",
    "    passive_states = passive_states[2:num_passive_states+1] .- 1\n",
    "    all_states = vcat(aggressive_states, passive_states)\n",
    "    all_states = vcat(all_states, 9999999)\n",
    "\n",
    "    # generate arcs\n",
    "    states_appended = copy(all_states)\n",
    "    push!(states_appended, start_perims[g])\n",
    "    s = length(all_states)\n",
    "    crews_needed = Array{Vector}(undef, s + 1, NUM_TIME_PERIODS + 1)\n",
    "    curr_time = 1\n",
    "    state_name = 0\n",
    "    next_to_check = [s + 1]\n",
    "\n",
    "    while curr_time < NUM_TIME_PERIODS + 1\n",
    "\n",
    "        to_check = copy(next_to_check)\n",
    "        next_to_check = []\n",
    "\n",
    "        for check in to_check\n",
    "            curr_state = states_appended[check]\n",
    "\n",
    "            if check != s\n",
    "                edges = get_alphas(curr_state, fire_progs[curr_time], all_states)\n",
    "            else\n",
    "                edges = [(s, 0)]\n",
    "            end\n",
    "\n",
    "            for edge in edges\n",
    "                crews_needed[check, curr_time] = edges\n",
    "            end\n",
    "            next_to_check = vcat(next_to_check, [edges[i][1] for i in 1:length(edges) if ~(edges[i][1] in next_to_check)])\n",
    "        end\n",
    "        curr_time += 1\n",
    "    end\n",
    "    \n",
    "    visitable = [(i,j) for i in 1:size(crews_needed)[1], j in 1:size(crews_needed)[2] if isassigned(crews_needed, i, j)]\n",
    "    \n",
    "    edges = []\n",
    "\n",
    "    for (i, j) in visitable\n",
    "        push!(edges, copy(reduce(hcat, [[i, j, a[1], a[2]] for a in crews_needed[i, j]])'))\n",
    "    end\n",
    "    \n",
    "    arc_array = reduce(vcat, edges)\n",
    "    \n",
    "    # add crew to front\n",
    "    arc_array = hcat(convert.(Int, zeros(length(arc_array[:, 1]))) .+ g, arc_array)\n",
    "    \n",
    "    return crews_needed, arc_array, states_appended\n",
    "end"
   ]
  },
  {
   "cell_type": "code",
   "execution_count": 194,
   "id": "810e9668",
   "metadata": {},
   "outputs": [
    {
     "data": {
      "text/plain": [
       "get_crews_needed_for_transition (generic function with 2 methods)"
      ]
     },
     "execution_count": 194,
     "metadata": {},
     "output_type": "execute_result"
    }
   ],
   "source": [
    "function get_crews_needed_for_transition(state_1, state_2, prog, line_per_crew, round_type)\n",
    "    \n",
    "    crews = 2 / line_per_crew * (prog * state_1 - state_2) / (1 + prog)\n",
    "    \n",
    "    if round_type == \"nearest\"\n",
    "        crews = convert(Int, round(crews))\n",
    "    \n",
    "    elseif round_type == \"ceiling\"\n",
    "        crews = convert(Int, ceil(crews - 0.0001))\n",
    "    end\n",
    "    \n",
    "    return max(crews, 0) \n",
    "    \n",
    "end "
   ]
  },
  {
   "cell_type": "code",
   "execution_count": 563,
   "id": "dd84cca6",
   "metadata": {},
   "outputs": [],
   "source": [
    "graph, fire_arc_arr, fire_states = generate_fire_arcs(2, progressions, start_perims);"
   ]
  },
  {
   "cell_type": "code",
   "execution_count": 9,
   "id": "f8087d4b",
   "metadata": {},
   "outputs": [
    {
     "ename": "LoadError",
     "evalue": "syntax: incomplete: \"function\" at In[9]:1 requires end",
     "output_type": "error",
     "traceback": [
      "syntax: incomplete: \"function\" at In[9]:1 requires end",
      "",
      "Stacktrace:",
      " [1] top-level scope",
      "   @ In[9]:1",
      " [2] eval",
      "   @ .\\boot.jl:373 [inlined]",
      " [3] include_string(mapexpr::typeof(REPL.softscope), mod::Module, code::String, filename::String)",
      "   @ Base .\\loading.jl:1196"
     ]
    }
   ],
   "source": [
    "function get_out_of_region_stats(region, arcs_used, region_data)\n",
    "    \"\"\"\n",
    "    \"\"\"\n",
    "    \n",
    "    # restrict to the arcs that exited the given region\n",
    "    out_of_region_ixs = [i for i in length(arcs_used[:, 1]) if arcs_used[i, 10] == region]\n",
    "    out_of_region_arcs = arcs_used[out_of_region_ixs, :]\n",
    "    \n",
    "    # get the crews associated with this region\n",
    "    crews = [i for i in 1:length(region_data.crew_regions) if region_data.crew_regions[i] == region]\n",
    "    \n",
    "    # initialize output array of indicator variables for crews exiting region\n",
    "    out_array = zeros(length(crews), NUM_TIME_PERIODS)\n",
    "    \n",
    "    # for each crew in the region\n",
    "    for i in 1:length(crews)\n",
    "        \n",
    "        # restrict to the arcs involving this crew\n",
    "        crew_ixs = [j for j in length(out_of_region_arcs[:, 1]) if arcs_used[j, 1] == crews[i]]\n",
    "        crew_arcs = out_of_region_arcs[crew_ixs, :]\n",
    "        \n",
    "        # get the times of rotation\n",
    "        rotation_times = [t in crew_arcs[:, 6] ? 1 : 0 for t in 1:NUM_TIME_PERIODS]\n",
    "        \n",
    "        # update output for crew\n",
    "        out_array[i, :] = rotation_times\n",
    "        \n",
    "    end\n",
    "    \n",
    "    return out_array\n",
    "end"
   ]
  }
 ],
 "metadata": {
  "kernelspec": {
   "display_name": "Julia 1.7.1",
   "language": "julia",
   "name": "julia-1.7"
  },
  "language_info": {
   "file_extension": ".jl",
   "mimetype": "application/julia",
   "name": "julia",
   "version": "1.7.1"
  }
 },
 "nbformat": 4,
 "nbformat_minor": 5
}
