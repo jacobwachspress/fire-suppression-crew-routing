{
 "cells": [
  {
   "cell_type": "code",
   "execution_count": 1,
   "id": "34567121",
   "metadata": {},
   "outputs": [
    {
     "name": "stdout",
     "output_type": "stream",
     "text": [
      "\r\n",
      "--------------------------------------------\r\n",
      "Warning: your license will expire in 6 days\r\n",
      "--------------------------------------------\r\n",
      "\r\n",
      "Academic license - for non-commercial use only\r\n"
     ]
    },
    {
     "data": {
      "text/plain": [
       "Gurobi.Env(Ptr{Nothing} @0x000000007fff0080, false, 0)"
      ]
     },
     "execution_count": 1,
     "metadata": {},
     "output_type": "execute_result"
    }
   ],
   "source": [
    "using DataFrames, CSV, DelimitedFiles, JuMP, Gurobi\n",
    "const GRB_ENV = Gurobi.Env()"
   ]
  },
  {
   "cell_type": "code",
   "execution_count": 2,
   "id": "81a26ef6",
   "metadata": {},
   "outputs": [
    {
     "data": {
      "text/plain": [
       "2"
      ]
     },
     "execution_count": 2,
     "metadata": {},
     "output_type": "execute_result"
    }
   ],
   "source": [
    "NUM_CREWS = 10                \n",
    "BREAK_LENGTH = 2       # how long at base to be considered \"rested\"\n",
    "\n",
    "# tradeoffs\n",
    "BETA = 100             # cost of one area unit burned / cost of mile traveled\n",
    "ALPHA = 200            # cost of crew-day of suppression / cost of mile traveled\n",
    "LINE_PER_CREW = 17     # how much perimeter prevented per crew per time period\n",
    "\n",
    "FIRE_CODE = 1\n",
    "BASE_CODE = 2"
   ]
  },
  {
   "cell_type": "code",
   "execution_count": 3,
   "id": "d08d7c6e",
   "metadata": {},
   "outputs": [],
   "source": [
    "struct GlobalData\n",
    "    \n",
    "    ff_dist::Matrix{Float64}\n",
    "    bf_dist::Matrix{Float64}\n",
    "    ff_tau::Matrix{Int64}\n",
    "    bf_tau::Matrix{Int64}\n",
    "    \n",
    "end"
   ]
  },
  {
   "cell_type": "code",
   "execution_count": 4,
   "id": "9d8be85a",
   "metadata": {},
   "outputs": [],
   "source": [
    "struct RegionData\n",
    "    \n",
    "    crew_regions::Vector{Int64}\n",
    "    fire_regions::Vector{Int64}\n",
    "    \n",
    "end\n",
    "\n",
    "mutable struct RouteData\n",
    "    \n",
    "    routes_per_crew::Vector{Int64} # could add in length\n",
    "    route_costs::Matrix{Float64}\n",
    "    fires_fought::BitArray{4}\n",
    "    out_of_reg::BitArray{3}\n",
    "    \n",
    "end\n",
    "\n",
    "mutable struct SuppressionPlanData\n",
    "    \n",
    "    plans_per_fire::Vector{Int64} # could add in length\n",
    "    plan_costs::Matrix{Float64}\n",
    "    crews_present::Array{Int8, 3}\n",
    "    \n",
    "end"
   ]
  },
  {
   "cell_type": "code",
   "execution_count": 5,
   "id": "3488a26e",
   "metadata": {},
   "outputs": [
    {
     "data": {
      "text/plain": [
       "get_rotation_orders (generic function with 1 method)"
      ]
     },
     "execution_count": 5,
     "metadata": {},
     "output_type": "execute_result"
    }
   ],
   "source": [
    "function get_rotation_orders(crew_regions)\n",
    "    \n",
    "    # initialize output\n",
    "    out = Dict()\n",
    "    \n",
    "    # get the unique regions where there are crews\n",
    "    regions = unique(crew_regions)\n",
    "    \n",
    "    # for each region\n",
    "    for region in regions\n",
    "        \n",
    "        # initialize dictionary corresponding to the order\n",
    "        out[region] = Dict() \n",
    "        crews_in_region = 0\n",
    "        \n",
    "        # for each crew in the region\n",
    "        for crew in 1:NUM_CREWS\n",
    "            \n",
    "            if crew_regions[crew] == region\n",
    "                \n",
    "                # update crew count, log rotation order \n",
    "                crews_in_region += 1\n",
    "                out[region][crew] = crews_in_region\n",
    "            end\n",
    "        end\n",
    "    end\n",
    "    \n",
    "    return out\n",
    "end"
   ]
  },
  {
   "cell_type": "code",
   "execution_count": 6,
   "id": "f7447e81",
   "metadata": {},
   "outputs": [
    {
     "name": "stdout",
     "output_type": "stream",
     "text": [
      "10\n"
     ]
    }
   ],
   "source": [
    "# set path to all input data\n",
    "in_path = \"data/processed\"\n",
    "\n",
    "# get inital fire perimeters and no-suppression progression parameters\n",
    "M = readdlm(in_path * \"/sample_growth_patterns.csv\", ',')\n",
    "start_perims = M[:, 1]\n",
    "progressions = M[:, 2:15]\n",
    "\n",
    "NUM_TIME_PERIODS = size(M)[2] - 1 \n",
    "NUM_FIRES = size(M)[1]       \n",
    "\n",
    "# get distance from fire f to fire g \n",
    "fire_dists =  readdlm(in_path * \"/fire_distances.csv\", ',')\n",
    "\n",
    "# get distance from base c to fire g (NUM_CREWS-by-NUM_FIRES)\n",
    "base_fire_dists =  readdlm(in_path * \"/base_fire_distances.csv\", ',')\n",
    "\n",
    "# initialize travel times (number of periods) from fire f to fire g\n",
    "tau = convert(Array{Int}, ones(size(fire_dists)))\n",
    "\n",
    "# initialize number of periods to travel from base c to fire g (NUM_CREWS-by-NUM_FIRES)\n",
    "tau_base_to_fire = convert(Array{Int}, ones((size(base_fire_dists))))\n",
    "\n",
    "\n",
    "\n",
    "global_data = GlobalData(fire_dists, base_fire_dists, tau, tau_base_to_fire)\n",
    "\n",
    "fire_dists = 0\n",
    "base_fire_dists = 0\n",
    "tau = 0\n",
    "tau_base_to_fire = 0\n",
    "\n",
    "# read intial crew statuses (location, period by which they must rest)\n",
    "# (-1 in current_fire means crew is currently at base)\n",
    "# (rested_periods is the amount of time crew has been at base, relevant for completing rest)\n",
    "crew_starts = CSV.read(in_path * \"/sample_crew_starts.csv\", DataFrame)\n",
    "println(size(crew_starts)[1])\n",
    "rest_by = crew_starts[!, \"rest_by\"]\n",
    "current_fire = crew_starts[!, \"current_fire\"]\n",
    "rested_periods = crew_starts[!, \"rested_periods\"];"
   ]
  },
  {
   "cell_type": "code",
   "execution_count": 7,
   "id": "692a9077",
   "metadata": {},
   "outputs": [
    {
     "data": {
      "text/plain": [
       "Dict{Any, Any} with 2 entries:\n",
       "  2 => Dict{Any, Any}(6=>1, 7=>2, 10=>5, 9=>4, 8=>3)\n",
       "  1 => Dict{Any, Any}(5=>5, 4=>4, 2=>2, 3=>3, 1=>1)"
      ]
     },
     "execution_count": 7,
     "metadata": {},
     "output_type": "execute_result"
    }
   ],
   "source": [
    "rd = RegionData([1, 1, 1, 1, 1, 2, 2, 2, 2, 2], [1, 1, 2, 2])\n",
    "rot_order = get_rotation_orders(rd.crew_regions)"
   ]
  },
  {
   "cell_type": "code",
   "execution_count": 8,
   "id": "f4b512e5",
   "metadata": {},
   "outputs": [],
   "source": [
    "# crew, from_type, from_ix, to_type, to_ix, from_time, to_time, from_rested, to_rested, exited_region"
   ]
  },
  {
   "cell_type": "code",
   "execution_count": 9,
   "id": "3e851737",
   "metadata": {},
   "outputs": [
    {
     "data": {
      "text/plain": [
       "arc_exits_region (generic function with 1 method)"
      ]
     },
     "execution_count": 9,
     "metadata": {},
     "output_type": "execute_result"
    }
   ],
   "source": [
    "function arc_exits_region(crew, from_type, from_ix, to_type, to_ix, region_data)\n",
    "    \n",
    "    # get the region where the arc originates\n",
    "    from_region = 0\n",
    "    if from_type == FIRE_CODE\n",
    "        from_region = region_data.fire_regions[from_ix]\n",
    "    elseif from_type == BASE_CODE\n",
    "        from_region = region_data.crew_regions[from_ix]\n",
    "    else\n",
    "        throw(DomainError(from_type, \"from_type invalid\"))\n",
    "    end\n",
    "    \n",
    "    # get the region where the arc terminates\n",
    "    to_region = 0\n",
    "    if to_type == FIRE_CODE\n",
    "        to_region = region_data.fire_regions[to_ix]\n",
    "    elseif to_type == BASE_CODE\n",
    "        to_region = region_data.crew_regions[to_ix]\n",
    "    else\n",
    "        throw(DomainError(from_type, \"to_type invalid\"))\n",
    "    end\n",
    "    \n",
    "    # if these are different regions\n",
    "    if from_region != to_region\n",
    "        \n",
    "        # if the crew is leaving its home region\n",
    "        if region_data.crew_regions[crew] == from_region\n",
    "        \n",
    "            # return the region that the arc exited\n",
    "            return from_region\n",
    "        \n",
    "        end\n",
    "        \n",
    "    end\n",
    "    \n",
    "    # otherwise\n",
    "    return 0\n",
    "    \n",
    "end     "
   ]
  },
  {
   "cell_type": "code",
   "execution_count": 10,
   "id": "fcc74d4c",
   "metadata": {},
   "outputs": [],
   "source": [
    "gd = global_data;"
   ]
  },
  {
   "cell_type": "code",
   "execution_count": 11,
   "id": "4e802b81",
   "metadata": {},
   "outputs": [],
   "source": [
    "# get fire-to-fire arcs\n",
    "ff = [[c, FIRE_CODE, f_from, FIRE_CODE, f_to, t_from, t_from + gd.ff_tau[f_to, f_from], rest, rest]\n",
    "      for c=1:NUM_CREWS, f_from=1:NUM_FIRES, f_to=1:NUM_FIRES, t_from=1:NUM_TIME_PERIODS, rest=0:1]\n",
    "ff = copy(reduce(hcat, ff)')\n",
    "\n",
    "# get fire-to-fire arcs from start, based on current crew locations\n",
    "from_start_ff = [[c, FIRE_CODE, current_fire[c], FIRE_CODE, f_to, 0, gd.ff_tau[f_to, current_fire[c]], 0, 0]\n",
    "                  for c=1:NUM_CREWS, f_to=1:NUM_FIRES if current_fire[c] != -1]\n",
    "from_start_ff = copy(reduce(hcat, from_start_ff)')\n",
    "\n",
    "# get base-to-fire arcs\n",
    "rf = [[c, BASE_CODE, c, FIRE_CODE, f_to, t_from, t_from + gd.bf_tau[c, f_to], rest, rest]\n",
    "       for c=1:NUM_CREWS, f_to=1:NUM_FIRES, t_from=1:NUM_TIME_PERIODS, rest=0:1]\n",
    "rf = copy(reduce(hcat, rf)')\n",
    "\n",
    "# get base-to-fire arcs from start\n",
    "from_start_rf = [[c, BASE_CODE, c, FIRE_CODE, f_to, 0, gd.bf_tau[c, f_to], 0, 0]\n",
    "                  for c=1:NUM_CREWS, f_to=1:NUM_FIRES if current_fire[c] == -1]\n",
    "from_start_rf = copy(reduce(hcat, from_start_rf)')\n",
    "\n",
    "# get fire-to-base arcs\n",
    "fr = [[c, FIRE_CODE, f_from, BASE_CODE, c, t_from, t_from + gd.bf_tau[c, f_from], rest, rest]\n",
    "       for c=1:NUM_CREWS, f_from=1:NUM_FIRES, t_from=1:NUM_TIME_PERIODS, rest=0:1]\n",
    "fr = copy(reduce(hcat, fr)')\n",
    "\n",
    "# get fire-to-base arcs from start, based on current crew locations\n",
    "from_start_fr = [[c, FIRE_CODE, current_fire[c], BASE_CODE, c, 0, gd.bf_tau[c, current_fire[c]], 0, 0]\n",
    "                  for c=1:NUM_CREWS if current_fire[c] != -1]\n",
    "from_start_fr = copy(reduce(hcat, from_start_fr)')\n",
    "\n",
    "# get base-to-base arcs\n",
    "rr = [[c, BASE_CODE, c, BASE_CODE, c, t_from, t_from + 1 + (BREAK_LENGTH - 1) * rest, 0, rest]\n",
    "      for c=1:NUM_CREWS, t_from=1:NUM_TIME_PERIODS, rest=0:1]\n",
    "rr = copy(reduce(hcat, rr)')\n",
    "\n",
    "# get base-to-base arcs from start, based on current days rested\n",
    "from_start_rr = [[c, BASE_CODE, c, BASE_CODE, c, 0, \n",
    "                  1 + (BREAK_LENGTH - max(rested_periods[c], 0) - 1) * rest, 0, rest] \n",
    "                  for c=1:NUM_CREWS, rest=0:1 if current_fire[c] == -1]\n",
    "from_start_rr = copy(reduce(hcat, from_start_rr)')\n",
    "\n",
    "A = vcat(ff, from_start_ff, rf, from_start_rf, fr, from_start_fr, rr, from_start_rr)\n",
    "\n",
    "out_of_region = [arc_exits_region(A[i, 1], A[i, 2], A[i, 3], A[i, 4], A[i, 5], rd) \n",
    "                 for i in 1:length(A[:, 1])]\n",
    "A = hcat(A, out_of_region);"
   ]
  },
  {
   "cell_type": "code",
   "execution_count": 12,
   "id": "63e7f29a",
   "metadata": {},
   "outputs": [
    {
     "data": {
      "text/plain": [
       "get_distance (generic function with 1 method)"
      ]
     },
     "execution_count": 12,
     "metadata": {},
     "output_type": "execute_result"
    }
   ],
   "source": [
    "function get_distance(from_type, from_ix, to_type, to_ix, fire_fire, base_fire)\n",
    "    \n",
    "    dist = 0\n",
    "    \n",
    "    # if fire to fire\n",
    "    if (from_type == FIRE_CODE) & (to_type == FIRE_CODE)\n",
    "        dist = fire_fire[from_ix, to_ix]\n",
    "    \n",
    "    # if fire to base\n",
    "    elseif (from_type == FIRE_CODE) & (to_type == BASE_CODE)\n",
    "        dist = base_fire[to_ix, from_ix]\n",
    "    \n",
    "    # if base to fire\n",
    "    elseif (from_type == BASE_CODE) & (to_type == FIRE_CODE)\n",
    "        dist = base_fire[from_ix, to_ix]\n",
    "        \n",
    "    # otherwise dist still 0\n",
    "    end\n",
    "    \n",
    "    return dist\n",
    "end "
   ]
  },
  {
   "cell_type": "code",
   "execution_count": 13,
   "id": "c127417f",
   "metadata": {},
   "outputs": [
    {
     "data": {
      "text/plain": [
       "get_arc_costs (generic function with 1 method)"
      ]
     },
     "execution_count": 13,
     "metadata": {},
     "output_type": "execute_result"
    }
   ],
   "source": [
    "function get_arc_costs(gd, arc_matrix, cost_param_dict)\n",
    "    \n",
    "    # initialize costs to 0\n",
    "    costs = zeros(length(arc_matrix[:, 1]))\n",
    "    \n",
    "    # if there is travel cost per mile\n",
    "    if \"cost_per_mile\" in keys(cost_param_dict)\n",
    "        \n",
    "        # find the miles for each arc\n",
    "        miles_per_arc =  [get_distance(arc_matrix[i, 2], arc_matrix[i, 3], \n",
    "                                       arc_matrix[i, 4], arc_matrix[i, 5], \n",
    "                                       gd.ff_dist, gd.bf_dist) for i in 1:length(arc_matrix[:, 1])]\n",
    "        # add to costs\n",
    "        costs = costs .+ (cost_param_dict[\"cost_per_mile\"] * miles_per_arc)\n",
    "    end\n",
    "    \n",
    "    # if there are rest violations\n",
    "    if \"rest_violation\" in keys(cost_param_dict)\n",
    "        \n",
    "        # find the rest violation scores\n",
    "        rest_violation_matrix = cost_param_dict[\"rest_violation\"]\n",
    "        rest_violations = [(arc_matrix[i, 8] == 0) & (arc_matrix[i, 6] > 0) ? \n",
    "                           rest_violation_matrix[arc_matrix[i, 1], arc_matrix[i, 6]] : 0\n",
    "                           for i in 1:length(arc_matrix[:, 1])]\n",
    "        \n",
    "        # add to costs\n",
    "        costs = costs .+ rest_violations\n",
    "    end\n",
    "    \n",
    "    if \"fight_fire\" in keys(cost_param_dict)\n",
    "        costs = costs .+ [(arc_matrix[i, 4] == FIRE_CODE) ? cost_param_dict[\"fight_fire\"] : 0\n",
    "                          for i in 1:length(arc_matrix[:, 1])]\n",
    "    end\n",
    "    \n",
    "    return costs\n",
    "end"
   ]
  },
  {
   "cell_type": "code",
   "execution_count": 14,
   "id": "413223fc",
   "metadata": {},
   "outputs": [
    {
     "data": {
      "text/plain": [
       "is_one (generic function with 1 method)"
      ]
     },
     "execution_count": 14,
     "metadata": {},
     "output_type": "execute_result"
    }
   ],
   "source": [
    "function positive(x)\n",
    "    \n",
    "    if x > 0\n",
    "        return 1\n",
    "    end\n",
    "    \n",
    "    return 0\n",
    "end\n",
    "\n",
    "function is_one(x)\n",
    "    \n",
    "    if x == 1\n",
    "        return 1\n",
    "    end\n",
    "    \n",
    "    return 0\n",
    "end"
   ]
  },
  {
   "cell_type": "code",
   "execution_count": 15,
   "id": "c6f31a82",
   "metadata": {},
   "outputs": [
    {
     "data": {
      "text/plain": [
       "get_rest_penalties (generic function with 1 method)"
      ]
     },
     "execution_count": 15,
     "metadata": {},
     "output_type": "execute_result"
    }
   ],
   "source": [
    "# should return matrix indexed by crew, time, \n",
    "function get_rest_penalties(rest_by_periods, lambda, accounting_func)\n",
    "    \n",
    "    penalties = zeros(NUM_CREWS, NUM_TIME_PERIODS)\n",
    "    \n",
    "    for c in 1:NUM_CREWS\n",
    "        penalties[c, :] = [lambda * accounting_func(t - rest_by_periods[c]) \n",
    "                           for t in 1:NUM_TIME_PERIODS]\n",
    "    end\n",
    "    \n",
    "    return penalties    \n",
    "end"
   ]
  },
  {
   "cell_type": "code",
   "execution_count": 16,
   "id": "39408365",
   "metadata": {},
   "outputs": [],
   "source": [
    "rest_pen = get_rest_penalties(rest_by, 99999, positive);"
   ]
  },
  {
   "cell_type": "code",
   "execution_count": 17,
   "id": "bb2c2f80",
   "metadata": {},
   "outputs": [],
   "source": [
    "cost_params = Dict(\"cost_per_mile\"=> 1, \"rest_violation\" => rest_pen, \"fight_fire\" => ALPHA)\n",
    "arc_costs = get_arc_costs(global_data, A, cost_params);"
   ]
  },
  {
   "cell_type": "code",
   "execution_count": 18,
   "id": "0b131006",
   "metadata": {},
   "outputs": [],
   "source": [
    "struct KeyArcIndices\n",
    "    \n",
    "    # fire flow data\n",
    "    f_out::Array{Vector{Int64}}\n",
    "    f_in::Array{Vector{Int64}}\n",
    "    \n",
    "    # base flow data\n",
    "    b_out::Array{Vector{Int64}}\n",
    "    b_in::Array{Vector{Int64}}\n",
    "    \n",
    "    # total crews suppressing each fire\n",
    "    supp_fire::Array{Vector{Int64}}\n",
    "    \n",
    "    # start constraints\n",
    "    start::Array{Vector{Int64}}\n",
    "    \n",
    "    # assignments out of region\n",
    "    out_of_region::Array{Vector{Int64}}\n",
    "    \n",
    "end "
   ]
  },
  {
   "cell_type": "code",
   "execution_count": 19,
   "id": "846c1e8f",
   "metadata": {},
   "outputs": [
    {
     "data": {
      "text/plain": [
       "define_network_constraint_data (generic function with 1 method)"
      ]
     },
     "execution_count": 19,
     "metadata": {},
     "output_type": "execute_result"
    }
   ],
   "source": [
    "function define_network_constraint_data(arcs)\n",
    "    \n",
    "    # shorten some global variable names\n",
    "    C = NUM_CREWS\n",
    "    G = NUM_FIRES\n",
    "    T = NUM_TIME_PERIODS\n",
    "    \n",
    "    # get number of arcs\n",
    "    n_arcs = length(arcs[:, 1])\n",
    "      \n",
    "    ## flow balance ##\n",
    "    \n",
    "    # initialize arrays of vectors for flow balance\n",
    "    f_out = Array{Vector{Int64}}(undef, C, G, T, 2)\n",
    "    f_in = Array{Vector{Int64}}(undef, C, G, T, 2)\n",
    "    b_out = Array{Vector{Int64}}(undef, C, T, 2)\n",
    "    b_in = Array{Vector{Int64}}(undef, C, T, 2)\n",
    "    start = Array{Vector{Int64}}(undef, C)\n",
    "    out_of_region = Array{Vector{Int64}}(undef, C, T+1)\n",
    "    \n",
    "    # for each crew\n",
    "    for crew in 1:C\n",
    "        \n",
    "        # get indices of this crew's arcs only\n",
    "        crew_ixs = [i for i in 1:n_arcs if arcs[i, 1] == crew]\n",
    "        \n",
    "        # get time 0 indices\n",
    "        start[crew] = [i for i in crew_ixs if arcs[i, 6] == 0]\n",
    "        \n",
    "        # for each time period (including start)\n",
    "        for tm in 0:T\n",
    "        \n",
    "            # get indices for out of region assignments\n",
    "            out_of_region[crew, tm+1] = [i for i in crew_ixs if\n",
    "                                           (arcs[i, 6] == tm) &\n",
    "                                           (arcs[i, 10] > 0)\n",
    "                                        ]\n",
    "        end\n",
    "        \n",
    "        # for each time period\n",
    "        for tm in 1:T\n",
    "            \n",
    "            # for each rest state\n",
    "            for rest in 1:2\n",
    "                \n",
    "                # get arcs leaving crew base at this time with this rest\n",
    "                b_out[crew, tm, rest] = [i for i in crew_ixs if\n",
    "                                         (arcs[i, 2] == BASE_CODE) &\n",
    "                                         (arcs[i, 6] == tm) &\n",
    "                                         (arcs[i, 8] == rest-1)\n",
    "                                        ]\n",
    "                \n",
    "                # get arcs entering crew base at this time with this rest\n",
    "                b_in[crew, tm, rest] = [i for i in crew_ixs if\n",
    "                                        (arcs[i, 4] == BASE_CODE) &\n",
    "                                        (arcs[i, 7] == tm) &\n",
    "                                        (arcs[i, 9] == rest-1)\n",
    "                                       ]\n",
    "                # for each fire\n",
    "                for fire in 1:G\n",
    "                    \n",
    "                    # get arcs where this crew leaves this fire at this time\n",
    "                    # with this rest state\n",
    "                    f_out[crew, fire, tm, rest] = [i for i in crew_ixs if\n",
    "                                                   (arcs[i, 2] == FIRE_CODE) &\n",
    "                                                   (arcs[i, 3] == fire) &\n",
    "                                                   (arcs[i, 6] == tm) &\n",
    "                                                   (arcs[i, 8] == rest-1)\n",
    "                                                   ]\n",
    "                    \n",
    "                    # get arcs where this crew enters this fire at this time\n",
    "                    # with this rest state\n",
    "                    f_in[crew, fire, tm, rest] = [i for i in crew_ixs if\n",
    "                                                  (arcs[i, 4] == FIRE_CODE) &\n",
    "                                                  (arcs[i, 5] == fire) &\n",
    "                                                  (arcs[i, 7] == tm) &\n",
    "                                                  (arcs[i, 9] == rest-1)\n",
    "                                                  ]\n",
    "                end\n",
    "            end\n",
    "        end\n",
    "    end\n",
    "    \n",
    "    ## linking constraints ##\n",
    "    linking = Array{Vector{Int64}}(undef, G, T)\n",
    "    for fire in 1:G\n",
    "        for tm in 1:T\n",
    "            \n",
    "            # we count the crew as working *where they arrived* during this timestep\n",
    "            linking[fire, tm] = [i for i in 1:n_arcs if (arcs[i, 4] == FIRE_CODE) &\n",
    "                                                        (arcs[i, 5] == fire) &\n",
    "                                                        (arcs[i, 7] == tm)]\n",
    "        end\n",
    "    end\n",
    "    \n",
    "    \n",
    "    return KeyArcIndices(f_out, f_in, b_out, b_in, linking, start, out_of_region)\n",
    "end"
   ]
  },
  {
   "cell_type": "code",
   "execution_count": 38,
   "id": "04a85a54",
   "metadata": {},
   "outputs": [
    {
     "data": {
      "text/plain": [
       "get_route_stats (generic function with 1 method)"
      ]
     },
     "execution_count": 38,
     "metadata": {},
     "output_type": "execute_result"
    }
   ],
   "source": [
    "function get_route_stats(arc_ixs_used, arcs, costs)\n",
    "    \n",
    "    # get total cost\n",
    "    route_cost = sum(costs[arc_ixs_used])\n",
    "    \n",
    "    # initialize fires fought matrix\n",
    "    fires_fought =  falses(NUM_FIRES, NUM_TIME_PERIODS)\n",
    "    \n",
    "    # initialize out of region matrix\n",
    "    out_of_region = falses(NUM_TIME_PERIODS + 1)\n",
    "    \n",
    "    # for each arc used\n",
    "    for ix in arc_ixs_used\n",
    "        arc = arcs[ix, :]\n",
    "        \n",
    "        # update fires_fought\n",
    "        if (arc[4] == FIRE_CODE) & (arc[7] <= NUM_TIME_PERIODS)\n",
    "            @assert ~fires_fought[arc[5], arc[7]] \"Visited fire twice at same time\"\n",
    "            fires_fought[arc[5], arc[7]] = true\n",
    "        end\n",
    "        \n",
    "        # update out_of_region\n",
    "        if arc[10] > 0\n",
    "            @assert ~out_of_region[arc[6] + 1] \"Left region twice at same time\"\n",
    "            out_of_region[arc[6] + 1] = true\n",
    "        end\n",
    "    end\n",
    "    \n",
    "    return route_cost, fires_fought, out_of_region\n",
    "end"
   ]
  },
  {
   "cell_type": "code",
   "execution_count": 21,
   "id": "f23116e5",
   "metadata": {},
   "outputs": [
    {
     "data": {
      "text/plain": [
       "initialize_route_data (generic function with 1 method)"
      ]
     },
     "execution_count": 21,
     "metadata": {},
     "output_type": "execute_result"
    }
   ],
   "source": [
    "function initialize_route_data(max_routes)\n",
    "    \n",
    "    return RouteData(zeros(NUM_CREWS), Matrix{Float64}(undef, NUM_CREWS, max_routes),\n",
    "                     BitArray(undef, NUM_CREWS, max_routes, NUM_FIRES, NUM_TIME_PERIODS) .> 2,\n",
    "                     BitArray(undef, NUM_CREWS, max_routes, NUM_TIME_PERIODS + 1) .> 2)\n",
    "end"
   ]
  },
  {
   "cell_type": "code",
   "execution_count": 22,
   "id": "309ccf3b",
   "metadata": {},
   "outputs": [
    {
     "data": {
      "text/plain": [
       "update_available_routes (generic function with 1 method)"
      ]
     },
     "execution_count": 22,
     "metadata": {},
     "output_type": "execute_result"
    }
   ],
   "source": [
    "function update_available_routes(crew, route_ixs, arcs, costs, route_data)\n",
    "    \n",
    "    # get the required information from the arcs used\n",
    "    route_cost, fires_fought, out_of_region = get_route_stats(route_ixs, arcs, costs)\n",
    "    \n",
    "    ## store this information to the route_data ##\n",
    "    \n",
    "    # add 1 to number of routes for this crew, store the index\n",
    "    route_data.routes_per_crew[crew] += 1\n",
    "    ix = route_data.routes_per_crew[crew]\n",
    "    \n",
    "    # append the route cost\n",
    "    route_data.route_costs[crew, ix] = route_cost\n",
    "    \n",
    "    # append the fires fought\n",
    "    route_data.fires_fought[crew, ix, :, :] = fires_fought\n",
    "    \n",
    "    # append the out-of-region assignments\n",
    "    route_data.out_of_reg[crew, ix, :] = out_of_region\n",
    "    \n",
    "    return 1\n",
    "\n",
    "end"
   ]
  },
  {
   "cell_type": "code",
   "execution_count": 23,
   "id": "1af717f5",
   "metadata": {},
   "outputs": [
    {
     "data": {
      "text/plain": [
       "get_supp_plan_stats (generic function with 1 method)"
      ]
     },
     "execution_count": 23,
     "metadata": {},
     "output_type": "execute_result"
    }
   ],
   "source": [
    "function get_supp_plan_stats(var_p, var_l, line_per_crew, beta)\n",
    "    \n",
    "    # get the cost based on the perimeter progression\n",
    "    cost = beta * (sum(value.(var_p)) - value(var_p[1])/2 - value(var_p[NUM_TIME_PERIODS+1]/2))\n",
    "    \n",
    "    # get the number of crews present each time period from line constructed\n",
    "    crew_vector = value.(var_l) / line_per_crew\n",
    "    \n",
    "    return cost, crew_vector\n",
    "\n",
    "end"
   ]
  },
  {
   "cell_type": "code",
   "execution_count": 24,
   "id": "d2770a30",
   "metadata": {},
   "outputs": [
    {
     "data": {
      "text/plain": [
       "initialize_supp_plan_data (generic function with 1 method)"
      ]
     },
     "execution_count": 24,
     "metadata": {},
     "output_type": "execute_result"
    }
   ],
   "source": [
    "function initialize_supp_plan_data(max_supp_plans)\n",
    "    \n",
    "    return SuppressionPlanData(zeros(NUM_FIRES), \n",
    "                               Matrix{Float64}(undef, NUM_FIRES, max_supp_plans),\n",
    "                               zeros(Int8, (NUM_FIRES, max_supp_plans, NUM_TIME_PERIODS))\n",
    "                              )\n",
    "end"
   ]
  },
  {
   "cell_type": "code",
   "execution_count": 27,
   "id": "1c63ca33",
   "metadata": {},
   "outputs": [
    {
     "data": {
      "text/plain": [
       "update_available_supp_plans (generic function with 1 method)"
      ]
     },
     "execution_count": 27,
     "metadata": {},
     "output_type": "execute_result"
    }
   ],
   "source": [
    "function update_available_supp_plans(fire, p, l, line_per_crew, beta, plan_data)\n",
    "    \n",
    "    # get the required information from the model decision variables\n",
    "    cost, crew_vector = get_supp_plan_stats(p, l, line_per_crew, beta)\n",
    "    \n",
    "    ## store this information to the suppression plan data ##\n",
    "    \n",
    "    # add 1 to number of plans for this fire, store the index\n",
    "    plan_data.plans_per_fire[fire] += 1\n",
    "    ix = plan_data.plans_per_fire[fire]\n",
    "    \n",
    "    # append the route cost\n",
    "    plan_data.plan_costs[fire, ix] = cost\n",
    "    \n",
    "    # append the fires fought\n",
    "    plan_data.crews_present[fire, ix, :] = crew_vector\n",
    "    \n",
    "    return 1\n",
    "\n",
    "end"
   ]
  },
  {
   "cell_type": "code",
   "execution_count": 29,
   "id": "5f1302a9",
   "metadata": {},
   "outputs": [
    {
     "data": {
      "text/plain": [
       "full_formulation (generic function with 1 method)"
      ]
     },
     "execution_count": 29,
     "metadata": {},
     "output_type": "execute_result"
    }
   ],
   "source": [
    "function full_formulation(integer_routes, region_data, constraint_data, rotation_order, \n",
    "                          costs, progs, perims, beta, gamma)\n",
    "    \n",
    "    # get number of arcs\n",
    "    n_arcs = length(costs)\n",
    "    \n",
    "    # shorten some global variable names\n",
    "    C = NUM_CREWS\n",
    "    G = NUM_FIRES\n",
    "    T = NUM_TIME_PERIODS\n",
    "    regs = region_data.crew_regions\n",
    "    \n",
    "    # intialize model\n",
    "    m = Model(() -> Gurobi.Optimizer(GRB_ENV))\n",
    "\n",
    "    # fire suppression plan section\n",
    "    @variable(m, p[g=1:G, t=1:T+1] >= 0)\n",
    "    @variable(m, l[g=1:G, t=1:T] >= 0)\n",
    "    @constraint(m, perim_growth[g=1:G, t=1:T], p[g, t+1] >= progs[g, t] * \n",
    "                                                           (p[g, t] - l[g, t] / 2) - l[g, t] / 2)\n",
    "    @constraint(m, perim_start[g=1:G], p[g, 1] == perims[g])\n",
    "\n",
    "    # routing plan section\n",
    "    if integer_routes\n",
    "        @variable(m, z[1:n_arcs] >= 0, Int)\n",
    "    else\n",
    "        @variable(m, z[1:n_arcs] >= 0)\n",
    "    end\n",
    "    \n",
    "    @variable(m, q[1:C, 0:T] >= 0, Int)\n",
    "    \n",
    "    # build out_of_region constraints\n",
    "    @constraint(m, out_of_region[c=1:C, t=0:T],\n",
    "    \n",
    "        # out of region penalty is at least\n",
    "        q[c, t] >=\n",
    "        \n",
    "            # this crew's cumulative rotations\n",
    "            sum(z[i] for t_0=0:t, i in constraint_data.out_of_region[c, t_0+1]) \n",
    "        \n",
    "        - \n",
    "        \n",
    "            # average cumulative rotations among all crews in same region\n",
    "            sum(z[i] for c_0 in keys(rotation_order[regs[c]]), t_0=0:t, \n",
    "                i in constraint_data.out_of_region[c_0, t_0+1]) /\n",
    "            length(keys(rotation_order[regs[c]]))\n",
    "        \n",
    "        -\n",
    "        \n",
    "            # normalizing factor for specific crew rotation order\n",
    "            (1 - rotation_order[regs[c]][c] / length(keys(rotation_order[regs[c]])))\n",
    "        \n",
    "        -\n",
    "            # big-M for if crew goes not leave region at this time\n",
    "            T * (1 - sum(z[i] for i in constraint_data.out_of_region[c, t+1]))\n",
    "        \n",
    "    )\n",
    "\n",
    "\n",
    "    @constraint(m, fire_flow[c=1:C, g=1:G, t=1:T, rest=1:2],\n",
    "\n",
    "            sum(z[constraint_data.f_out[c, g, t, rest]]) ==\n",
    "            sum(z[constraint_data.f_in[c, g, t, rest]])\n",
    "    \n",
    "    )\n",
    "    \n",
    "    @constraint(m, base_flow[c=1:C, t=1:T, rest=1:2],\n",
    "\n",
    "            sum(z[constraint_data.b_out[c, t, rest]]) ==\n",
    "            sum(z[constraint_data.b_in[c, t, rest]])\n",
    "    \n",
    "    )\n",
    "\n",
    "\n",
    "    @constraint(m, linking[g=1:G, t=1:T],\n",
    "\n",
    "        sum(z[constraint_data.supp_fire[g, t]]) >= l[g, t] / LINE_PER_CREW\n",
    "    )\n",
    "\n",
    "    # build start constraint\n",
    "    @constraint(m, start[c=1:C], \n",
    "\n",
    "        sum(z[constraint_data.start[c]]) == 1\n",
    "    )\n",
    "    \n",
    "    \n",
    "    \n",
    "\n",
    "    @objective(m, Min, \n",
    "        beta * (sum(p) - sum(p[1:G, 1])/2 - sum(p[1:G, T+1])/2) + \n",
    "        sum(z .* costs) + sum(q) * gamma\n",
    "    )\n",
    "    \n",
    "    return m, p, l, z, q, out_of_region\n",
    "    \n",
    "end"
   ]
  },
  {
   "cell_type": "code",
   "execution_count": 57,
   "id": "8869bd2a",
   "metadata": {},
   "outputs": [],
   "source": [
    "c_data = define_network_constraint_data(A);"
   ]
  },
  {
   "cell_type": "code",
   "execution_count": 58,
   "id": "0caa0e45",
   "metadata": {},
   "outputs": [],
   "source": [
    "routes = initialize_route_data(1000)\n",
    "suppression_plans = initialize_supp_plan_data(1000);"
   ]
  },
  {
   "cell_type": "code",
   "execution_count": 59,
   "id": "9d5d77f7",
   "metadata": {},
   "outputs": [
    {
     "name": "stdout",
     "output_type": "stream",
     "text": [
      "Gurobi Optimizer version 9.0.3 build v9.0.3rc0 (win64)\r\n",
      "Optimize a model with 1367 rows, 4761 columns and 49989 nonzeros\r\n",
      "Model fingerprint: 0x3df2a1cc\r\n",
      "Variable types: 87 continuous, 4674 integer (0 binary)\r\n",
      "Coefficient statistics:\r\n",
      "  Matrix range     [6e-02, 1e+01]\r\n",
      "  Objective range  [1e+01, 1e+05]\r\n",
      "  Bounds range     [0e+00, 0e+00]\r\n",
      "  RHS range        [1e+00, 1e+03]\r\n",
      "Presolve removed 201 rows and 691 columns\r\n",
      "Presolve time: 0.39s\r\n",
      "Presolved: 1166 rows, 4070 columns, 43461 nonzeros\r\n",
      "Variable types: 14 continuous, 4056 integer (353 binary)\r\n",
      "\r\n",
      "Root relaxation: objective 1.150633e+06, 1905 iterations, 0.05 seconds\r\n",
      "\r\n",
      "    Nodes    |    Current Node    |     Objective Bounds      |     Work\r\n",
      " Expl Unexpl |  Obj  Depth IntInf | Incumbent    BestBd   Gap | It/Node Time\r\n",
      "\r\n",
      "     0     0 1150633.35    0   31          - 1150633.35      -     -    0s\r\n",
      "     0     0 1154715.90    0   21          - 1154715.90      -     -    0s\r\n",
      "     0     0 1154721.57    0   22          - 1154721.57      -     -    1s\r\n",
      "     0     0 1155816.23    0   35          - 1155816.23      -     -    1s\r\n",
      "H    0     0                    1158531.8564 1155816.23  0.23%     -    1s\r\n",
      "     0     0 1155816.23    0   37 1158531.86 1155816.23  0.23%     -    1s\r\n",
      "     0     0 1155816.23    0   22 1158531.86 1155816.23  0.23%     -    1s\r\n",
      "     0     0 1155816.23    0   30 1158531.86 1155816.23  0.23%     -    1s\r\n",
      "H    0     0                    1158161.4860 1155816.23  0.20%     -    1s\r\n",
      "H    0     0                    1158151.4860 1155816.23  0.20%     -    1s\r\n",
      "     0     0 1156038.15    0   31 1158151.49 1156038.15  0.18%     -    1s\r\n",
      "H    0     0                    1158146.9007 1156038.15  0.18%     -    1s\r\n",
      "H    0     0                    1157243.4286 1156038.15  0.10%     -    1s\r\n",
      "     0     0 1156633.02    0   15 1157243.43 1156633.02  0.05%     -    1s\r\n",
      "     0     0 1156633.02    0   19 1157243.43 1156633.02  0.05%     -    1s\r\n",
      "H    0     0                    1157236.7389 1156633.02  0.05%     -    1s\r\n",
      "     0     0 1156633.02    0   20 1157236.74 1156633.02  0.05%     -    1s\r\n",
      "     0     0 1156633.02    0   20 1157236.74 1156633.02  0.05%     -    1s\r\n",
      "     0     0 1156633.02    0   20 1157236.74 1156633.02  0.05%     -    1s\r\n",
      "     0     0 1156633.02    0   26 1157236.74 1156633.02  0.05%     -    1s\r\n",
      "H    0     0                    1157050.1900 1156633.02  0.04%     -    1s\r\n",
      "\r\n",
      "Cutting planes:\r\n",
      "  Gomory: 3\r\n",
      "  MIR: 9\r\n",
      "  StrongCG: 2\r\n",
      "\r\n",
      "Explored 1 nodes (2601 simplex iterations) in 1.68 seconds\r\n",
      "Thread count was 8 (of 8 available processors)\r\n",
      "\r\n",
      "Solution count 8: 1.15705e+06 1.15724e+06 1.15724e+06 ... 1.15853e+06\r\n",
      "\r\n",
      "Optimal solution found (tolerance 1.00e-04)\r\n",
      "Best objective 1.157050190047e+06, best bound 1.156985761012e+06, gap 0.0056%\r\n",
      "\r\n",
      "User-callback calls 422, time in user-callback 0.00 sec\r\n"
     ]
    }
   ],
   "source": [
    "m, p, l, z, q, oor = full_formulation(true, rd, c_data, rot_order, arc_costs, \n",
    "                              progressions, start_perims, BETA, 10);\n",
    "optimize!(m)"
   ]
  },
  {
   "cell_type": "code",
   "execution_count": 60,
   "id": "e4e33ad7",
   "metadata": {},
   "outputs": [],
   "source": [
    "for crew in 1:NUM_CREWS\n",
    "    crew_arcs = [i for i=1:length(A[:, 1]) if (value(z[i]) > 0.5) & (A[i, 1] == crew)]\n",
    "    update_available_routes(crew, crew_arcs, A, arc_costs, routes)\n",
    "end\n",
    "\n",
    "for fire in 1:NUM_FIRES\n",
    "    update_available_supp_plans(fire, p[fire, :], l[fire, :], LINE_PER_CREW, BETA, \n",
    "                                suppression_plans)\n",
    "end\n",
    "    "
   ]
  },
  {
   "cell_type": "code",
   "execution_count": 108,
   "id": "6cc970d2",
   "metadata": {},
   "outputs": [
    {
     "data": {
      "text/plain": [
       "master_problem (generic function with 3 methods)"
      ]
     },
     "execution_count": 108,
     "metadata": {},
     "output_type": "execute_result"
    }
   ],
   "source": [
    "function master_problem(route_data, supp_plan_data, region_data, rotation_order, gamma)\n",
    "    \n",
    "    m = Model(() -> Gurobi.Optimizer(GRB_ENV))\n",
    "    set_optimizer_attribute(m, \"OutputFlag\", 0)\n",
    "    \n",
    "    regs = region_data.crew_regions\n",
    "    \n",
    "    # decision variables\n",
    "    @variable(m, route[c=1:NUM_CREWS, r=1:route_data.routes_per_crew[c]] >= 0)\n",
    "    @variable(m, plan[g=1:NUM_FIRES, p=1:supp_plan_data.plans_per_fire[g]] >= 0)\n",
    "    @variable(m, q[c=1:NUM_CREWS, t=0:NUM_TIME_PERIODS] >= 0)\n",
    "    \n",
    "    # constraints that you must choose a plan per crew and per fire\n",
    "    @constraint(m, route_per_crew[c=1:NUM_CREWS], \n",
    "                sum(route[c, r] for r=1:route_data.routes_per_crew[c]) == 1)\n",
    "    @constraint(m, plan_per_fire[g=1:NUM_FIRES], \n",
    "                sum(plan[g, p] for p=1:supp_plan_data.plans_per_fire[g]) >= 1)\n",
    "    \n",
    "    # linking constraint\n",
    "    @constraint(m, linking[g=1:NUM_FIRES, t=1:NUM_TIME_PERIODS],\n",
    "                    \n",
    "                    # crews at fire\n",
    "                    sum(route[c, r] * route_data.fires_fought[c, r, g, t] \n",
    "                        for c=1:NUM_CREWS, r=1:route_data.routes_per_crew[c]) \n",
    "        \n",
    "                    >=\n",
    "        \n",
    "                    # crews suppressing\n",
    "                    sum(plan[g, p] * supp_plan_data.crews_present[g, p, t] \n",
    "                        for p=1:supp_plan_data.plans_per_fire[g]) \n",
    "        \n",
    "                )\n",
    "    \n",
    "    # out_of_region constraint\n",
    "    @constraint(m, out_of_region[c=1:NUM_CREWS, t=0:NUM_TIME_PERIODS],\n",
    "    \n",
    "        # out of region penalty is at least\n",
    "        q[c, t] >=\n",
    "        \n",
    "            # this crew's cumulative rotations\n",
    "            sum(route[c, r] * route_data.out_of_reg[c, r, t_0 + 1] \n",
    "            for r=1:route_data.routes_per_crew[c], t_0=0:t)\n",
    "        \n",
    "        - \n",
    "        \n",
    "            # average cumulative rotations among all crews in same region\n",
    "            sum(route[c_0, r] * route_data.out_of_reg[c_0, r, t_0 + 1] \n",
    "                for c_0 in keys(rotation_order[regs[c]]), r=1:route_data.routes_per_crew[c_0],\n",
    "                t_0=0:t) /\n",
    "            length(keys(rotation_order[regs[c]]))\n",
    "        \n",
    "        -\n",
    "        \n",
    "            # normalizing factor for specific crew rotation order\n",
    "            (1 - rotation_order[regs[c]][c] / length(keys(rotation_order[regs[c]])))\n",
    "        \n",
    "        -\n",
    "            # big-M for if crew goes not leave region at this time\n",
    "            NUM_TIME_PERIODS * (1 - sum(route[c, r] * route_data.out_of_reg[c, r, t+1]\n",
    "                                        for r=1:route_data.routes_per_crew[c])\n",
    "                               )\n",
    "        \n",
    "    )\n",
    "    \n",
    "    return out_of_region\n",
    "end "
   ]
  },
  {
   "cell_type": "code",
   "execution_count": 119,
   "id": "17a5998c",
   "metadata": {},
   "outputs": [
    {
     "data": {
      "text/latex": [
       "out_of_region[1,0] : $ -14.8 route_{1,1} + 0.2 route_{2,1} + 0.2 route_{3,1} + 0.2 route_{4,1} + q_{1,0} \\geq -14.8 $"
      ],
      "text/plain": [
       "out_of_region[1,0] : -14.8 route[1,1] + 0.2 route[2,1] + 0.2 route[3,1] + 0.2 route[4,1] + q[1,0] >= -14.8"
      ]
     },
     "execution_count": 119,
     "metadata": {},
     "output_type": "execute_result"
    }
   ],
   "source": [
    "a = master_problem(routes, suppression_plans, rd, rot_order, 1)\n",
    "a[1, 0]"
   ]
  },
  {
   "cell_type": "code",
   "execution_count": 89,
   "id": "a20c79a1",
   "metadata": {},
   "outputs": [
    {
     "data": {
      "text/plain": [
       "3×14 Matrix{Int8}:\n",
       " 0  0  0  0  3  7  8  8  8  5  3  2  4  4\n",
       " 0  7  9  9  4  0  0  0  0  1  1  2  1  3\n",
       " 9  2  0  0  0  0  0  0  0  0  1  1  1  1"
      ]
     },
     "execution_count": 89,
     "metadata": {},
     "output_type": "execute_result"
    }
   ],
   "source": [
    "suppression_plans.crews_present[:, 1, :]"
   ]
  },
  {
   "cell_type": "code",
   "execution_count": 114,
   "id": "9081415a",
   "metadata": {},
   "outputs": [
    {
     "data": {
      "text/plain": [
       "10×15 BitMatrix:\n",
       " 1  0  0  0  0  0  0  0  0  0  0  0  0  0  0\n",
       " 1  0  0  0  0  0  0  0  0  0  0  0  0  0  0\n",
       " 1  0  0  0  0  0  0  0  0  0  0  0  0  0  0\n",
       " 1  0  0  0  0  0  0  0  0  0  0  0  0  0  0\n",
       " 0  0  0  0  0  0  0  0  0  0  0  0  0  0  0\n",
       " 0  1  0  0  0  0  0  0  0  0  0  0  0  0  0\n",
       " 0  1  0  0  0  0  0  1  0  0  0  0  0  0  0\n",
       " 0  1  0  0  0  0  0  1  0  0  0  1  0  1  0\n",
       " 0  0  1  0  0  0  1  0  0  0  0  0  0  0  0\n",
       " 0  0  0  1  0  0  0  0  0  0  0  0  1  0  0"
      ]
     },
     "execution_count": 114,
     "metadata": {},
     "output_type": "execute_result"
    }
   ],
   "source": [
    "routes.out_of_reg[:, 1, :]"
   ]
  },
  {
   "cell_type": "code",
   "execution_count": 42,
   "id": "0459783e",
   "metadata": {},
   "outputs": [],
   "source": [
    "crew_1_arcs = [i for i=1:length(A[:, 1]) if (value(z[i]) > 0.5) & (A[i, 1] == 1)];\n",
    "cost, ff, oor = get_route_stats(crew_1_arcs, A, arc_costs);"
   ]
  },
  {
   "cell_type": "code",
   "execution_count": null,
   "id": "3233d4ea",
   "metadata": {},
   "outputs": [],
   "source": [
    "function init_suppression_plan_subproblem(progs, perims, fire)\n",
    "    \n",
    "    T = NUM_TIME_PERIODS\n",
    "    \n",
    "    m = Model(() -> Gurobi.Optimizer(GRB_ENV))\n",
    "    set_optimizer_attribute(m, \"OutputFlag\", 0)\n",
    "\n",
    "    # fire suppression plan section\n",
    "    @variable(m, p[t=1:T+1] >= 0)\n",
    "    @variable(m, l[t=1:T] >= 0)\n",
    "    @variable(m, NUM_CREWS >= d[t=1:T] >= 0, Int)\n",
    "    @constraint(m, suppression_per_crew[t=1:T], l[t] <= d[t] * LINE_PER_CREW)\n",
    "    @constraint(m, perim_growth[t=1:T], p[t+1] >= progs[fire, t] * (p[t] - l[t] / 2) - l[t] / 2)\n",
    "    @constraint(m, perim_start, p[1] == perims[fire])\n",
    "    \n",
    "#    @objective(m, Min, BETA * (sum(p) - p[1]/2 - p[T+1]/2))\n",
    "    \n",
    "    return Dict(\"m\" => m, \"p\" => p, \"d\" => d)\n",
    "end"
   ]
  },
  {
   "cell_type": "code",
   "execution_count": 127,
   "id": "35e3beed",
   "metadata": {},
   "outputs": [
    {
     "data": {
      "text/plain": [
       "init_route_subproblem (generic function with 2 methods)"
      ]
     },
     "execution_count": 127,
     "metadata": {},
     "output_type": "execute_result"
    }
   ],
   "source": [
    "function init_route_subproblem(crew_ixs, crew, constraint_data, integer_routes=false)\n",
    "    \n",
    "    # shorten some global variable names\n",
    "    C = NUM_CREWS\n",
    "    G = NUM_FIRES\n",
    "    T = NUM_TIME_PERIODS\n",
    "    \n",
    "    # intialize model\n",
    "    m = Model(() -> Gurobi.Optimizer(GRB_ENV))\n",
    "\n",
    "    # routing plan section\n",
    "    if integer_routes\n",
    "        @variable(m, z[crew_ixs] >= 0, Int)\n",
    "    else\n",
    "        @variable(m, z[crew_ixs] >= 0)\n",
    "    end\n",
    "\n",
    "\n",
    "    @constraint(m, fire_flow[g=1:G, t=1:T, rest=1:2],\n",
    "\n",
    "            sum(z[constraint_data.f_out[crew, g, t, rest]]) ==\n",
    "            sum(z[constraint_data.f_in[crew, g, t, rest]])\n",
    "    \n",
    "    )\n",
    "    \n",
    "    @constraint(m, base_flow[t=1:T, rest=1:2],\n",
    "\n",
    "            sum(z[constraint_data.b_out[crew, t, rest]]) ==\n",
    "            sum(z[constraint_data.b_in[crew, t, rest]])\n",
    "    \n",
    "    )\n",
    "\n",
    "    # build start constraint\n",
    "    @constraint(m, start, \n",
    "\n",
    "        sum(z[constraint_data.start[crew]]) == 1\n",
    "    )\n",
    "    \n",
    "    return Dict(\"m\" => m, \"z\" => z, \"ff\" => fire_flow)\n",
    "    \n",
    "end"
   ]
  },
  {
   "cell_type": "code",
   "execution_count": 130,
   "id": "430bcf60",
   "metadata": {},
   "outputs": [],
   "source": [
    "crew = 1\n",
    "ixs = [i for i in 1:length(A[:, 1]) if A[i, 1] == crew]\n",
    "d = init_route_subproblem(ixs, crew, c_data);"
   ]
  },
  {
   "cell_type": "code",
   "execution_count": 132,
   "id": "86175574",
   "metadata": {},
   "outputs": [
    {
     "data": {
      "text/latex": [
       "fire_flow[1,1,1] : $ z_{1} + z_{31} + z_{61} - z_{3379} + z_{3391} = 0.0 $"
      ],
      "text/plain": [
       "fire_flow[1,1,1] : z[1] + z[31] + z[61] - z[3379] + z[3391] == 0.0"
      ]
     },
     "execution_count": 132,
     "metadata": {},
     "output_type": "execute_result"
    }
   ],
   "source": [
    "d[\"ff\"][1, 1, 1]"
   ]
  },
  {
   "cell_type": "code",
   "execution_count": 133,
   "id": "ea2a258b",
   "metadata": {},
   "outputs": [
    {
     "data": {
      "text/plain": [
       "5×10 Matrix{Int64}:\n",
       " 1  1  1  1  1  1  2  0  0  0\n",
       " 1  1  1  1  2  1  2  0  0  0\n",
       " 1  1  1  1  3  1  2  0  0  1\n",
       " 1  2  1  1  1  0  1  0  0  0\n",
       " 1  1  1  2  1  1  2  0  0  0"
      ]
     },
     "execution_count": 133,
     "metadata": {},
     "output_type": "execute_result"
    }
   ],
   "source": [
    "A[[1, 31, 61, 3379, 3391], :]"
   ]
  },
  {
   "cell_type": "code",
   "execution_count": 122,
   "id": "4b180d94",
   "metadata": {},
   "outputs": [
    {
     "data": {
      "text/plain": [
       "1.0"
      ]
     },
     "execution_count": 122,
     "metadata": {},
     "output_type": "execute_result"
    }
   ],
   "source": [
    "value(q[9, 6])"
   ]
  },
  {
   "cell_type": "code",
   "execution_count": 111,
   "id": "c862fa00",
   "metadata": {},
   "outputs": [
    {
     "name": "stdout",
     "output_type": "stream",
     "text": [
      "Gurobi Optimizer version 9.0.3 build v9.0.3rc0 (win64)\r\n",
      "Optimize a model with 1367 rows, 4761 columns and 49989 nonzeros\r\n",
      "Model fingerprint: 0xbfb53cd0\r\n",
      "Variable types: 87 continuous, 4674 integer (0 binary)\r\n",
      "Coefficient statistics:\r\n",
      "  Matrix range     [6e-02, 1e+01]\r\n",
      "  Objective range  [5e+01, 1e+05]\r\n",
      "  Bounds range     [0e+00, 0e+00]\r\n",
      "  RHS range        [1e+00, 1e+03]\r\n",
      "Presolve removed 201 rows and 683 columns\r\n",
      "Presolve time: 0.34s\r\n",
      "Presolved: 1166 rows, 4078 columns, 43469 nonzeros\r\n",
      "Variable types: 14 continuous, 4064 integer (353 binary)\r\n",
      "\r\n",
      "Root relaxation: objective 1.141712e+06, 1637 iterations, 0.03 seconds\r\n",
      "\r\n",
      "    Nodes    |    Current Node    |     Objective Bounds      |     Work\r\n",
      " Expl Unexpl |  Obj  Depth IntInf | Incumbent    BestBd   Gap | It/Node Time\r\n",
      "\r\n",
      "     0     0 1141711.79    0   31          - 1141711.79      -     -    0s\r\n",
      "     0     0 1146563.52    0   45          - 1146563.52      -     -    1s\r\n",
      "     0     0 1146611.24    0   12          - 1146611.24      -     -    1s\r\n",
      "     0     0 1146611.24    0   24          - 1146611.24      -     -    1s\r\n",
      "H    0     0                    1151079.7142 1146611.24  0.39%     -    1s\r\n",
      "H    0     0                    1150552.9099 1146611.24  0.34%     -    1s\r\n",
      "H    0     0                    1149682.8138 1146611.24  0.27%     -    1s\r\n",
      "H    0     0                    1149226.8138 1146611.24  0.23%     -    1s\r\n",
      "     0     0 1146611.24    0    8 1149226.81 1146611.24  0.23%     -    1s\r\n",
      "     0     0 1146611.24    0    8 1149226.81 1146611.24  0.23%     -    1s\r\n",
      "     0     0 1147097.39    0   21 1149226.81 1147097.39  0.19%     -    1s\r\n",
      "H    0     0                    1149226.8137 1147097.39  0.19%     -    1s\r\n",
      "     0     0 1147463.30    0   17 1149226.81 1147463.30  0.15%     -    1s\r\n",
      "     0     0 1147524.82    0   23 1149226.81 1147524.82  0.15%     -    1s\r\n",
      "     0     0 1147643.17    0   34 1149226.81 1147643.17  0.14%     -    1s\r\n",
      "     0     0 1147704.26    0   34 1149226.81 1147704.26  0.13%     -    1s\r\n",
      "     0     0 1147704.26    0   38 1149226.81 1147704.26  0.13%     -    1s\r\n",
      "     0     0 1147704.26    0   28 1149226.81 1147704.26  0.13%     -    1s\r\n",
      "     0     0 1147704.26    0   27 1149226.81 1147704.26  0.13%     -    1s\r\n",
      "     0     0 1147704.26    0   26 1149226.81 1147704.26  0.13%     -    1s\r\n",
      "     0     0 1147704.26    0   28 1149226.81 1147704.26  0.13%     -    1s\r\n",
      "     0     0 1147704.26    0   29 1149226.81 1147704.26  0.13%     -    1s\r\n",
      "     0     0 1147706.95    0   26 1149226.81 1147706.95  0.13%     -    1s\r\n",
      "     0     0 1147706.95    0   26 1149226.81 1147706.95  0.13%     -    1s\r\n",
      "     0     0 1147706.95    0   22 1149226.81 1147706.95  0.13%     -    1s\r\n",
      "     0     0 1147706.95    0   44 1149226.81 1147706.95  0.13%     -    1s\r\n",
      "     0     0 1147706.95    0   47 1149226.81 1147706.95  0.13%     -    1s\r\n",
      "     0     0 1147706.95    0   46 1149226.81 1147706.95  0.13%     -    1s\r\n",
      "     0     0 1147706.95    0   42 1149226.81 1147706.95  0.13%     -    1s\r\n",
      "     0     2 1147706.95    0   34 1149226.81 1147706.95  0.13%     -    2s\r\n",
      "H  265   175                    1149226.8125 1147715.80  0.13%   2.5    2s\r\n",
      "\r\n",
      "Cutting planes:\r\n",
      "  Gomory: 2\r\n",
      "  Cover: 1\r\n",
      "  MIR: 2\r\n",
      "  StrongCG: 1\r\n",
      "  Flow cover: 1\r\n",
      "  GUB cover: 1\r\n",
      "  Zero half: 1\r\n",
      "\r\n",
      "Explored 1739 nodes (7963 simplex iterations) in 2.28 seconds\r\n",
      "Thread count was 8 (of 8 available processors)\r\n",
      "\r\n",
      "Solution count 8: 1.14923e+06 1.14923e+06 1.14923e+06 ... 1.15108e+06\r\n",
      "\r\n",
      "Optimal solution found (tolerance 1.00e-04)\r\n",
      "Best objective 1.149226812509e+06, best bound 1.149189143861e+06, gap 0.0033%\r\n",
      "\r\n",
      "User-callback calls 4116, time in user-callback 0.00 sec\r\n"
     ]
    }
   ],
   "source": [
    "optimize!(m)"
   ]
  },
  {
   "cell_type": "code",
   "execution_count": 170,
   "id": "c4b46677",
   "metadata": {},
   "outputs": [
    {
     "data": {
      "text/plain": [
       "3×14 Matrix{Float64}:\n",
       " 0.0  0.0  0.0  0.0  3.0  7.0  8.0         8.0  8.0  5.0  3.0  3.0  4.0  4.0\n",
       " 0.0  7.0  9.0  9.0  4.0  0.0  4.11765e-7  0.0  0.0  1.0  1.0  2.0  0.0  3.0\n",
       " 9.0  2.0  0.0  0.0  0.0  0.0  0.0         0.0  0.0  0.0  1.0  1.0  1.0  1.0"
      ]
     },
     "execution_count": 170,
     "metadata": {},
     "output_type": "execute_result"
    }
   ],
   "source": [
    "value.(l) / LINE_PER_CREW"
   ]
  },
  {
   "cell_type": "code",
   "execution_count": 34,
   "id": "a0992d9d",
   "metadata": {},
   "outputs": [
    {
     "data": {
      "text/plain": [
       "3×14 Matrix{Float64}:\n",
       " 0.0  0.0  0.0  0.0  3.0  7.0  8.0  8.0  8.0  6.0  2.0  2.0  2.0  6.0\n",
       " 0.0  7.0  9.0  9.0  4.0  0.0  0.0  0.0  0.0  0.0  2.0  1.0  2.0  0.0\n",
       " 9.0  2.0  0.0  0.0  0.0  0.0  0.0  0.0  0.0  0.0  0.0  1.0  0.0  0.0"
      ]
     },
     "execution_count": 34,
     "metadata": {},
     "output_type": "execute_result"
    }
   ],
   "source": [
    "value.(l) / LINE_PER_CREW"
   ]
  },
  {
   "cell_type": "code",
   "execution_count": 19,
   "id": "4eaf9f76",
   "metadata": {},
   "outputs": [
    {
     "data": {
      "text/plain": [
       "0"
      ]
     },
     "execution_count": 19,
     "metadata": {},
     "output_type": "execute_result"
    }
   ],
   "source": [
    "A2 = copy(A)\n",
    "A = 0"
   ]
  },
  {
   "cell_type": "code",
   "execution_count": 20,
   "id": "597b8f5d",
   "metadata": {},
   "outputs": [
    {
     "data": {
      "text/plain": [
       "4524×10 Matrix{Int64}:\n",
       "  1  1   1  1   1   1   2  0  0  0\n",
       "  2  1   1  1   1   1   2  0  0  0\n",
       "  3  1   1  1   1   1   2  0  0  0\n",
       "  4  1   1  1   1   1   2  0  0  0\n",
       "  5  1   1  1   1   1   2  0  0  0\n",
       "  6  1   1  1   1   1   2  0  0  0\n",
       "  7  1   1  1   1   1   2  0  0  0\n",
       "  8  1   1  1   1   1   2  0  0  0\n",
       "  9  1   1  1   1   1   2  0  0  0\n",
       " 10  1   1  1   1   1   2  0  0  0\n",
       "  1  1   2  1   1   1   2  0  0  0\n",
       "  2  1   2  1   1   1   2  0  0  0\n",
       "  3  1   2  1   1   1   2  0  0  0\n",
       "  ⋮                 ⋮            \n",
       "  7  2   7  2   7  14  16  0  1  0\n",
       "  8  2   8  2   8  14  16  0  1  0\n",
       "  9  2   9  2   9  14  16  0  1  0\n",
       " 10  2  10  2  10  14  16  0  1  0\n",
       "  1  2   1  2   1   0   1  0  0  0\n",
       "  2  2   2  2   2   0   1  0  0  0\n",
       "  6  2   6  2   6   0   1  0  0  0\n",
       "  9  2   9  2   9   0   1  0  0  0\n",
       "  1  2   1  2   1   0   2  0  1  0\n",
       "  2  2   2  2   2   0   2  0  1  0\n",
       "  6  2   6  2   6   0   2  0  1  0\n",
       "  9  2   9  2   9   0   1  0  1  0"
      ]
     },
     "execution_count": 20,
     "metadata": {},
     "output_type": "execute_result"
    }
   ],
   "source": [
    "A2"
   ]
  },
  {
   "cell_type": "code",
   "execution_count": 33,
   "id": "5b684b30",
   "metadata": {},
   "outputs": [
    {
     "data": {
      "text/plain": [
       "2380.0"
      ]
     },
     "execution_count": 33,
     "metadata": {},
     "output_type": "execute_result"
    }
   ],
   "source": [
    "(sum(get_arc_costs(global_data, A2, Dict(\"cost_per_mile\"=>10, \"rest_violation\" => ones(NUM_CREWS, NUM_TIME_PERIODS)))) - \n",
    "    sum(get_arc_costs(global_data, A2, Dict(\"cost_per_mile\"=>10))))"
   ]
  },
  {
   "cell_type": "code",
   "execution_count": 8,
   "id": "e5797f90",
   "metadata": {},
   "outputs": [
    {
     "ename": "LoadError",
     "evalue": "syntax: incomplete: premature end of input",
     "output_type": "error",
     "traceback": [
      "syntax: incomplete: premature end of input",
      "",
      "Stacktrace:",
      " [1] top-level scope",
      "   @ In[8]:1",
      " [2] eval",
      "   @ .\\boot.jl:373 [inlined]",
      " [3] include_string(mapexpr::typeof(REPL.softscope), mod::Module, code::String, filename::String)",
      "   @ Base .\\loading.jl:1196"
     ]
    }
   ],
   "source": [
    "struct ArcData\n",
    "    \n",
    "# crew, from_type, from_ix, to_type, to_ix, from_time, to_time, from_rested, to_rested, exited_region"
   ]
  },
  {
   "cell_type": "code",
   "execution_count": 9,
   "id": "f8087d4b",
   "metadata": {},
   "outputs": [
    {
     "ename": "LoadError",
     "evalue": "syntax: incomplete: \"function\" at In[9]:1 requires end",
     "output_type": "error",
     "traceback": [
      "syntax: incomplete: \"function\" at In[9]:1 requires end",
      "",
      "Stacktrace:",
      " [1] top-level scope",
      "   @ In[9]:1",
      " [2] eval",
      "   @ .\\boot.jl:373 [inlined]",
      " [3] include_string(mapexpr::typeof(REPL.softscope), mod::Module, code::String, filename::String)",
      "   @ Base .\\loading.jl:1196"
     ]
    }
   ],
   "source": [
    "function get_out_of_region_stats(region, arcs_used, region_data)\n",
    "    \"\"\"\n",
    "    \"\"\"\n",
    "    \n",
    "    # restrict to the arcs that exited the given region\n",
    "    out_of_region_ixs = [i for i in length(arcs_used[:, 1]) if arcs_used[i, 10] == region]\n",
    "    out_of_region_arcs = arcs_used[out_of_region_ixs, :]\n",
    "    \n",
    "    # get the crews associated with this region\n",
    "    crews = [i for i in 1:length(region_data.crew_regions) if region_data.crew_regions[i] == region]\n",
    "    \n",
    "    # initialize output array of indicator variables for crews exiting region\n",
    "    out_array = zeros(length(crews), NUM_TIME_PERIODS)\n",
    "    \n",
    "    # for each crew in the region\n",
    "    for i in 1:length(crews)\n",
    "        \n",
    "        # restrict to the arcs involving this crew\n",
    "        crew_ixs = [j for j in length(out_of_region_arcs[:, 1]) if arcs_used[j, 1] == crews[i]]\n",
    "        crew_arcs = out_of_region_arcs[crew_ixs, :]\n",
    "        \n",
    "        # get the times of rotation\n",
    "        rotation_times = [t in crew_arcs[:, 6] ? 1 : 0 for t in 1:NUM_TIME_PERIODS]\n",
    "        \n",
    "        # update output for crew\n",
    "        out_array[i, :] = rotation_times\n",
    "        \n",
    "    end\n",
    "    \n",
    "    return out_array\n",
    "end"
   ]
  }
 ],
 "metadata": {
  "kernelspec": {
   "display_name": "Julia 1.7.1",
   "language": "julia",
   "name": "julia-1.7"
  },
  "language_info": {
   "file_extension": ".jl",
   "mimetype": "application/julia",
   "name": "julia",
   "version": "1.7.1"
  }
 },
 "nbformat": 4,
 "nbformat_minor": 5
}
