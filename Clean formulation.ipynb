{
 "cells": [
  {
   "cell_type": "code",
   "execution_count": 1,
   "id": "34567121",
   "metadata": {},
   "outputs": [
    {
     "name": "stdout",
     "output_type": "stream",
     "text": [
      "Academic license - for non-commercial use only\r\n"
     ]
    },
    {
     "data": {
      "text/plain": [
       "Gurobi.Env(Ptr{Nothing} @0x0000000067d32d20, false, 0)"
      ]
     },
     "execution_count": 1,
     "metadata": {},
     "output_type": "execute_result"
    }
   ],
   "source": [
    "using DataFrames, CSV, DelimitedFiles, JuMP, Gurobi\n",
    "const GRB_ENV = Gurobi.Env()"
   ]
  },
  {
   "cell_type": "code",
   "execution_count": 2,
   "id": "81a26ef6",
   "metadata": {},
   "outputs": [
    {
     "data": {
      "text/plain": [
       "2"
      ]
     },
     "execution_count": 2,
     "metadata": {},
     "output_type": "execute_result"
    }
   ],
   "source": [
    "NUM_CREWS = 10                \n",
    "BREAK_LENGTH = 2       # how long at base to be considered \"rested\"\n",
    "\n",
    "# tradeoffs\n",
    "BETA = 100             # cost of one area unit burned / cost of mile traveled\n",
    "ALPHA = 200            # cost of crew-day of suppression / cost of mile traveled\n",
    "LINE_PER_CREW = 17     # how much perimeter prevented per crew per time period\n",
    "\n",
    "FIRE_CODE = 1\n",
    "BASE_CODE = 2"
   ]
  },
  {
   "cell_type": "code",
   "execution_count": 3,
   "id": "d08d7c6e",
   "metadata": {},
   "outputs": [],
   "source": [
    "struct GlobalData\n",
    "    \n",
    "    ff_dist::Matrix{Float64}\n",
    "    bf_dist::Matrix{Float64}\n",
    "    ff_tau::Matrix{Int64}\n",
    "    bf_tau::Matrix{Int64}\n",
    "    \n",
    "end\n",
    "\n",
    "struct CrewStatus\n",
    "    \n",
    "    rest_by::Vector{Int64}\n",
    "    current_fire::Vector{Int64}\n",
    "    rested_periods::Vector{Int64}\n",
    "    \n",
    "end\n",
    "\n",
    "struct RegionData\n",
    "    \n",
    "    crew_regions::Vector{Int64}\n",
    "    fire_regions::Vector{Int64}\n",
    "    \n",
    "end\n",
    "\n",
    "\n",
    "struct KeyArcIndices\n",
    "    \n",
    "    # fire flow data\n",
    "    f_out::Array{Vector{Int64}}\n",
    "    f_in::Array{Vector{Int64}}\n",
    "    \n",
    "    # base flow data\n",
    "    b_out::Array{Vector{Int64}}\n",
    "    b_in::Array{Vector{Int64}}\n",
    "    \n",
    "    # total crews suppressing each fire\n",
    "    supp_fire::Array{Vector{Int64}}\n",
    "    \n",
    "    # start constraints\n",
    "    start::Array{Vector{Int64}}\n",
    "    \n",
    "    # assignments out of region\n",
    "    out_of_region::Array{Vector{Int64}}\n",
    "    \n",
    "end \n",
    "\n",
    "mutable struct RouteData\n",
    "    \n",
    "    routes_per_crew::Vector{Int64} # could add in length\n",
    "    route_costs::Matrix{Float64}\n",
    "    fires_fought::BitArray{4}\n",
    "    out_of_reg::BitArray{3}\n",
    "    \n",
    "end\n",
    "\n",
    "mutable struct SuppressionPlanData\n",
    "    \n",
    "    plans_per_fire::Vector{Int64} # could add in length\n",
    "    plan_costs::Matrix{Float64}\n",
    "    crews_present::Array{Int8, 3}\n",
    "    \n",
    "end\n",
    "\n"
   ]
  },
  {
   "cell_type": "code",
   "execution_count": 4,
   "id": "d4690c8a",
   "metadata": {},
   "outputs": [],
   "source": [
    "struct FireConstraintIndices\n",
    "    \n",
    "    # fire flow data\n",
    "    flow_out::Array{Vector{Int64}}\n",
    "    flow_in::Array{Vector{Int64}}\n",
    "    \n",
    "    # total crews suppressing each fire\n",
    "    crews_needed::Array{Vector{Int64}}\n",
    "    \n",
    "    # start constraints\n",
    "    start::Array{Vector{Int64}}\n",
    "    \n",
    "end"
   ]
  },
  {
   "cell_type": "code",
   "execution_count": 5,
   "id": "de4eca73",
   "metadata": {},
   "outputs": [],
   "source": [
    "struct ColumnGeneration\n",
    "    \n",
    "    route_sps::Vector{Any}\n",
    "    plan_sps::Vector{Any}\n",
    "    routes::RouteData\n",
    "    suppression_plans::SuppressionPlanData\n",
    "    \n",
    "end"
   ]
  },
  {
   "cell_type": "code",
   "execution_count": 6,
   "id": "ac38f149",
   "metadata": {},
   "outputs": [
    {
     "data": {
      "text/plain": [
       "get_rotation_orders (generic function with 1 method)"
      ]
     },
     "execution_count": 6,
     "metadata": {},
     "output_type": "execute_result"
    }
   ],
   "source": [
    "function get_rotation_orders(crew_regions)\n",
    "    \n",
    "    # initialize output\n",
    "    out = Dict()\n",
    "    \n",
    "    # get the unique regions where there are crews\n",
    "    regions = unique(crew_regions)\n",
    "    \n",
    "    # for each region\n",
    "    for region in regions\n",
    "        \n",
    "        # initialize dictionary corresponding to the order\n",
    "        out[region] = Dict() \n",
    "        crews_in_region = 0\n",
    "        \n",
    "        # for each crew in the region\n",
    "        for crew in 1:NUM_CREWS\n",
    "            \n",
    "            if crew_regions[crew] == region\n",
    "                \n",
    "                # update crew count, log rotation order \n",
    "                crews_in_region += 1\n",
    "                out[region][crew] = crews_in_region\n",
    "            end\n",
    "        end\n",
    "    end\n",
    "    \n",
    "    return out\n",
    "end"
   ]
  },
  {
   "cell_type": "code",
   "execution_count": 7,
   "id": "f4b512e5",
   "metadata": {},
   "outputs": [],
   "source": [
    "# crew, from_type, from_ix, to_type, to_ix, from_time, to_time, from_rested, to_rested, exited_region"
   ]
  },
  {
   "cell_type": "code",
   "execution_count": 8,
   "id": "3e851737",
   "metadata": {},
   "outputs": [
    {
     "data": {
      "text/plain": [
       "arc_exits_region (generic function with 1 method)"
      ]
     },
     "execution_count": 8,
     "metadata": {},
     "output_type": "execute_result"
    }
   ],
   "source": [
    "function arc_exits_region(crew, from_type, from_ix, to_type, to_ix, region_data)\n",
    "    \n",
    "    # get the region where the arc originates\n",
    "    from_region = 0\n",
    "    if from_type == FIRE_CODE\n",
    "        from_region = region_data.fire_regions[from_ix]\n",
    "    elseif from_type == BASE_CODE\n",
    "        from_region = region_data.crew_regions[from_ix]\n",
    "    else\n",
    "        throw(DomainError(from_type, \"from_type invalid\"))\n",
    "    end\n",
    "    \n",
    "    # get the region where the arc terminates\n",
    "    to_region = 0\n",
    "    if to_type == FIRE_CODE\n",
    "        to_region = region_data.fire_regions[to_ix]\n",
    "    elseif to_type == BASE_CODE\n",
    "        to_region = region_data.crew_regions[to_ix]\n",
    "    else\n",
    "        throw(DomainError(from_type, \"to_type invalid\"))\n",
    "    end\n",
    "    \n",
    "    # if these are different regions\n",
    "    if from_region != to_region\n",
    "        \n",
    "        # if the crew is leaving its home region\n",
    "        if region_data.crew_regions[crew] == from_region\n",
    "        \n",
    "            # return the region that the arc exited\n",
    "            return from_region\n",
    "        \n",
    "        end\n",
    "        \n",
    "    end\n",
    "    \n",
    "    # otherwise\n",
    "    return 0\n",
    "    \n",
    "end     "
   ]
  },
  {
   "cell_type": "code",
   "execution_count": 9,
   "id": "05fc0a5e",
   "metadata": {},
   "outputs": [
    {
     "data": {
      "text/plain": [
       "generate_arcs (generic function with 1 method)"
      ]
     },
     "execution_count": 9,
     "metadata": {},
     "output_type": "execute_result"
    }
   ],
   "source": [
    "function generate_arcs(gd, rd, cs)\n",
    "    \n",
    "    # get fire-to-fire arcs\n",
    "    ff = [[c, FIRE_CODE, f_from, FIRE_CODE, f_to, t_from, t_from + gd.ff_tau[f_to, f_from], rest, rest]\n",
    "          for c=1:NUM_CREWS, f_from=1:NUM_FIRES, f_to=1:NUM_FIRES, t_from=1:NUM_TIME_PERIODS, rest=0:1]\n",
    "    ff = copy(reduce(hcat, ff)')\n",
    "\n",
    "    # get fire-to-fire arcs from start, based on cs.current crew locations\n",
    "    from_start_ff = [[c, FIRE_CODE, cs.current_fire[c], FIRE_CODE, f_to, 0, gd.ff_tau[f_to, cs.current_fire[c]], 0, 0]\n",
    "                      for c=1:NUM_CREWS, f_to=1:NUM_FIRES if cs.current_fire[c] != -1]\n",
    "    from_start_ff = copy(reduce(hcat, from_start_ff)')\n",
    "\n",
    "    # get base-to-fire arcs\n",
    "    rf = [[c, BASE_CODE, c, FIRE_CODE, f_to, t_from, t_from + gd.bf_tau[c, f_to], rest, rest]\n",
    "           for c=1:NUM_CREWS, f_to=1:NUM_FIRES, t_from=1:NUM_TIME_PERIODS, rest=0:1]\n",
    "    rf = copy(reduce(hcat, rf)')\n",
    "\n",
    "    # get base-to-fire arcs from start\n",
    "    from_start_rf = [[c, BASE_CODE, c, FIRE_CODE, f_to, 0, gd.bf_tau[c, f_to], 0, 0]\n",
    "                      for c=1:NUM_CREWS, f_to=1:NUM_FIRES if cs.current_fire[c] == -1]\n",
    "    from_start_rf = copy(reduce(hcat, from_start_rf)')\n",
    "\n",
    "    # get fire-to-base arcs\n",
    "    fr = [[c, FIRE_CODE, f_from, BASE_CODE, c, t_from, t_from + gd.bf_tau[c, f_from], rest, rest]\n",
    "           for c=1:NUM_CREWS, f_from=1:NUM_FIRES, t_from=1:NUM_TIME_PERIODS, rest=0:1]\n",
    "    fr = copy(reduce(hcat, fr)')\n",
    "\n",
    "    # get fire-to-base arcs from start, based on cs.current crew locations\n",
    "    from_start_fr = [[c, FIRE_CODE, cs.current_fire[c], BASE_CODE, c, 0, gd.bf_tau[c, cs.current_fire[c]], 0, 0]\n",
    "                      for c=1:NUM_CREWS if cs.current_fire[c] != -1]\n",
    "    from_start_fr = copy(reduce(hcat, from_start_fr)')\n",
    "\n",
    "    # get base-to-base arcs\n",
    "    rr = [[c, BASE_CODE, c, BASE_CODE, c, t_from, t_from + 1 + (BREAK_LENGTH - 1) * rest, 0, rest]\n",
    "          for c=1:NUM_CREWS, t_from=1:NUM_TIME_PERIODS, rest=0:1]\n",
    "    rr = copy(reduce(hcat, rr)')\n",
    "    rr_rested = [[c, BASE_CODE, c, BASE_CODE, c, t_from, t_from + 1, 1, 1]\n",
    "          for c=1:NUM_CREWS, t_from=1:NUM_TIME_PERIODS]\n",
    "    rr_rested  = copy(reduce(hcat, rr_rested)')\n",
    "\n",
    "    # get base-to-base arcs from start, based on cs.current days rested\n",
    "    from_start_rr = [[c, BASE_CODE, c, BASE_CODE, c, 0, \n",
    "                      1 + (BREAK_LENGTH - max(cs.rested_periods[c], 0) - 1) * rest, 0, rest] \n",
    "                      for c=1:NUM_CREWS, rest=0:1 if cs.current_fire[c] == -1]\n",
    "    from_start_rr = copy(reduce(hcat, from_start_rr)')\n",
    "\n",
    "    A = vcat(ff, from_start_ff, rf, from_start_rf, fr, from_start_fr, rr, rr_rested, from_start_rr)\n",
    "\n",
    "    out_of_region = [arc_exits_region(A[i, 1], A[i, 2], A[i, 3], A[i, 4], A[i, 5], rd) \n",
    "                     for i in 1:length(A[:, 1])]\n",
    "    A = hcat(A, out_of_region)\n",
    "    \n",
    "    return A\n",
    "end"
   ]
  },
  {
   "cell_type": "code",
   "execution_count": 10,
   "id": "63e7f29a",
   "metadata": {},
   "outputs": [
    {
     "data": {
      "text/plain": [
       "get_distance (generic function with 1 method)"
      ]
     },
     "execution_count": 10,
     "metadata": {},
     "output_type": "execute_result"
    }
   ],
   "source": [
    "function get_distance(from_type, from_ix, to_type, to_ix, fire_fire, base_fire)\n",
    "    \n",
    "    dist = 0\n",
    "    \n",
    "    # if fire to fire\n",
    "    if (from_type == FIRE_CODE) & (to_type == FIRE_CODE)\n",
    "        dist = fire_fire[from_ix, to_ix]\n",
    "    \n",
    "    # if fire to base\n",
    "    elseif (from_type == FIRE_CODE) & (to_type == BASE_CODE)\n",
    "        dist = base_fire[to_ix, from_ix]\n",
    "    \n",
    "    # if base to fire\n",
    "    elseif (from_type == BASE_CODE) & (to_type == FIRE_CODE)\n",
    "        dist = base_fire[from_ix, to_ix]\n",
    "        \n",
    "    # otherwise dist still 0\n",
    "    end\n",
    "    \n",
    "    return dist\n",
    "end "
   ]
  },
  {
   "cell_type": "code",
   "execution_count": 11,
   "id": "c127417f",
   "metadata": {},
   "outputs": [
    {
     "data": {
      "text/plain": [
       "get_arc_costs (generic function with 1 method)"
      ]
     },
     "execution_count": 11,
     "metadata": {},
     "output_type": "execute_result"
    }
   ],
   "source": [
    "function get_arc_costs(gd, arcs, cost_param_dict)\n",
    "    \n",
    "    # get number of arcs\n",
    "    n_arcs = length(arcs[:, 1])\n",
    "    \n",
    "    # initialize costs to 0\n",
    "    costs = zeros(n_arcs)\n",
    "    \n",
    "    # if there is travel cost per mile\n",
    "    if \"cost_per_mile\" in keys(cost_param_dict)\n",
    "        \n",
    "        # find the miles for each arc\n",
    "        miles_per_arc =  [get_distance(arcs[i, 2], arcs[i, 3], \n",
    "                                       arcs[i, 4], arcs[i, 5], \n",
    "                                       gd.ff_dist, gd.bf_dist) for i in 1:n_arcs]\n",
    "        # add to costs\n",
    "        costs = costs .+ (cost_param_dict[\"cost_per_mile\"] * miles_per_arc)\n",
    "    end\n",
    "    \n",
    "    # if there are rest violations\n",
    "    if \"rest_violation\" in keys(cost_param_dict)\n",
    "        \n",
    "        # find the rest violation scores\n",
    "        rest_violation_matrix = cost_param_dict[\"rest_violation\"]\n",
    "        rest_violations = [(arcs[i, 8] == 0) & (arcs[i, 6] > 0) ? \n",
    "                           rest_violation_matrix[arcs[i, 1], arcs[i, 6]] : 0\n",
    "                           for i in 1:n_arcs]\n",
    "        \n",
    "        # add to costs\n",
    "        costs = costs .+ rest_violations\n",
    "    end\n",
    "    \n",
    "    if \"fight_fire\" in keys(cost_param_dict)\n",
    "        costs = costs .+ [(arcs[i, 4] == FIRE_CODE) ? cost_param_dict[\"fight_fire\"] : 0\n",
    "                          for i in 1:n_arcs]\n",
    "    end\n",
    "    \n",
    "    # if we have to adjust for linking dual constraints\n",
    "    if \"linking_dual\" in keys(cost_param_dict)\n",
    "        \n",
    "        # get the dual variables\n",
    "        rho = cost_param_dict[\"linking_dual\"]\n",
    "        \n",
    "        # get linking costs (really benefits) if arc goes to a fire\n",
    "        linking_costs = [((arcs[i, 4] == FIRE_CODE) & (arcs[i, 7] <= NUM_TIME_PERIODS)) ? \n",
    "                          - rho[arcs[i, 5], arcs[i, 7]] : 0\n",
    "                          for i in 1:n_arcs]\n",
    "        \n",
    "        # add to costs\n",
    "        costs = costs .+ linking_costs\n",
    "        \n",
    "    end\n",
    "    \n",
    "    # if we have to adjust for linking dual constraints\n",
    "    if \"out_of_region_dual\" in keys(cost_param_dict)\n",
    "        \n",
    "        # get needed regional info\n",
    "        regs = cost_param_dict[\"region_data\"].crew_regions\n",
    "        rot_order = cost_param_dict[\"rotation_order\"]\n",
    "        \n",
    "        # get the dual variables\n",
    "        eta = cost_param_dict[\"out_of_region_dual\"]\n",
    "\n",
    "        # get adjustment for crew allotment\n",
    "        c1 = [(arcs[i, 10] > 0) ? sum(eta[arcs[i, 1], t_0]\n",
    "                                        for t_0=arcs[i, 6]:NUM_TIME_PERIODS\n",
    "                                      ) : 0\n",
    "                                                   \n",
    "               for i in 1:n_arcs\n",
    "             ]\n",
    "        \n",
    "        # get adjustment for region average allotment\n",
    "        c2 = [(arcs[i, 10] > 0) ? sum(eta[c, t_0]\n",
    "                                            for c in keys(rot_order[regs[arcs[i, 1]]]),\n",
    "                                                t_0=arcs[i, 6]:NUM_TIME_PERIODS) /\n",
    "                                        length(keys(rot_order[regs[arcs[i, 1]]])) : 0\n",
    "                                                   \n",
    "               for i in 1:n_arcs\n",
    "             ]\n",
    "        \n",
    "        # get adjustment for big-M constraint\n",
    "        c3 = [(arcs[i, 10] > 0) ? NUM_TIME_PERIODS * eta[arcs[i, 1], arcs[i, 6]] : 0\n",
    "               for i in 1:n_arcs\n",
    "             ]\n",
    "            \n",
    "        # add to costs\n",
    "        costs = costs .+ c1 .- c2 .+ c3\n",
    "        \n",
    "    end   \n",
    "    \n",
    "    return costs\n",
    "end"
   ]
  },
  {
   "cell_type": "code",
   "execution_count": 12,
   "id": "413223fc",
   "metadata": {},
   "outputs": [
    {
     "data": {
      "text/plain": [
       "is_one (generic function with 1 method)"
      ]
     },
     "execution_count": 12,
     "metadata": {},
     "output_type": "execute_result"
    }
   ],
   "source": [
    "function positive(x)\n",
    "    \n",
    "    if x > 0\n",
    "        return 1\n",
    "    end\n",
    "    \n",
    "    return 0\n",
    "end\n",
    "\n",
    "function is_one(x)\n",
    "    \n",
    "    if x == 1\n",
    "        return 1\n",
    "    end\n",
    "    \n",
    "    return 0\n",
    "end"
   ]
  },
  {
   "cell_type": "code",
   "execution_count": 13,
   "id": "c6f31a82",
   "metadata": {},
   "outputs": [
    {
     "data": {
      "text/plain": [
       "get_rest_penalties (generic function with 1 method)"
      ]
     },
     "execution_count": 13,
     "metadata": {},
     "output_type": "execute_result"
    }
   ],
   "source": [
    "# should return matrix indexed by crew, time, \n",
    "function get_rest_penalties(rest_by_periods, lambda, accounting_func)\n",
    "    \n",
    "    penalties = zeros(NUM_CREWS, NUM_TIME_PERIODS)\n",
    "    \n",
    "    for c in 1:NUM_CREWS\n",
    "        penalties[c, :] = [lambda * accounting_func(t - rest_by_periods[c]) \n",
    "                           for t in 1:NUM_TIME_PERIODS]\n",
    "    end\n",
    "    \n",
    "    return penalties    \n",
    "end"
   ]
  },
  {
   "cell_type": "code",
   "execution_count": 14,
   "id": "846c1e8f",
   "metadata": {},
   "outputs": [
    {
     "data": {
      "text/plain": [
       "define_network_constraint_data (generic function with 1 method)"
      ]
     },
     "execution_count": 14,
     "metadata": {},
     "output_type": "execute_result"
    }
   ],
   "source": [
    "function define_network_constraint_data(arcs)\n",
    "    \n",
    "    # shorten some global variable names\n",
    "    C = NUM_CREWS\n",
    "    G = NUM_FIRES\n",
    "    T = NUM_TIME_PERIODS\n",
    "    \n",
    "    # get number of arcs\n",
    "    n_arcs = length(arcs[:, 1])\n",
    "      \n",
    "    ## flow balance ##\n",
    "    \n",
    "    # initialize arrays of vectors for flow balance\n",
    "    f_out = Array{Vector{Int64}}(undef, C, G, T, 2)\n",
    "    f_in = Array{Vector{Int64}}(undef, C, G, T, 2)\n",
    "    b_out = Array{Vector{Int64}}(undef, C, T, 2)\n",
    "    b_in = Array{Vector{Int64}}(undef, C, T, 2)\n",
    "    start = Array{Vector{Int64}}(undef, C)\n",
    "    out_of_region = Array{Vector{Int64}}(undef, C, T+1)\n",
    "    \n",
    "    # for each crew\n",
    "    for crew in 1:C\n",
    "        \n",
    "        # get indices of this crew's arcs only\n",
    "        crew_ixs = [i for i in 1:n_arcs if arcs[i, 1] == crew]\n",
    "        \n",
    "        # get time 0 indices\n",
    "        start[crew] = [i for i in crew_ixs if arcs[i, 6] == 0]\n",
    "        \n",
    "        # for each time period (including start)\n",
    "        for tm in 0:T\n",
    "        \n",
    "            # get indices for out of region assignments\n",
    "            out_of_region[crew, tm+1] = [i for i in crew_ixs if\n",
    "                                           (arcs[i, 6] == tm) &\n",
    "                                           (arcs[i, 10] > 0)\n",
    "                                        ]\n",
    "        end\n",
    "        \n",
    "        # for each time period\n",
    "        for tm in 1:T\n",
    "            \n",
    "            # for each rest state\n",
    "            for rest in 1:2\n",
    "                \n",
    "                # get arcs leaving crew base at this time with this rest\n",
    "                b_out[crew, tm, rest] = [i for i in crew_ixs if\n",
    "                                         (arcs[i, 2] == BASE_CODE) &\n",
    "                                         (arcs[i, 6] == tm) &\n",
    "                                         (arcs[i, 8] == rest-1)\n",
    "                                        ]\n",
    "                \n",
    "                # get arcs entering crew base at this time with this rest\n",
    "                b_in[crew, tm, rest] = [i for i in crew_ixs if\n",
    "                                        (arcs[i, 4] == BASE_CODE) &\n",
    "                                        (arcs[i, 7] == tm) &\n",
    "                                        (arcs[i, 9] == rest-1)\n",
    "                                       ]\n",
    "                # for each fire\n",
    "                for fire in 1:G\n",
    "                    \n",
    "                    # get arcs where this crew leaves this fire at this time\n",
    "                    # with this rest state\n",
    "                    f_out[crew, fire, tm, rest] = [i for i in crew_ixs if\n",
    "                                                   (arcs[i, 2] == FIRE_CODE) &\n",
    "                                                   (arcs[i, 3] == fire) &\n",
    "                                                   (arcs[i, 6] == tm) &\n",
    "                                                   (arcs[i, 8] == rest-1)\n",
    "                                                   ]\n",
    "                    \n",
    "                    # get arcs where this crew enters this fire at this time\n",
    "                    # with this rest state\n",
    "                    f_in[crew, fire, tm, rest] = [i for i in crew_ixs if\n",
    "                                                  (arcs[i, 4] == FIRE_CODE) &\n",
    "                                                  (arcs[i, 5] == fire) &\n",
    "                                                  (arcs[i, 7] == tm) &\n",
    "                                                  (arcs[i, 9] == rest-1)\n",
    "                                                  ]\n",
    "                end\n",
    "            end\n",
    "        end\n",
    "    end\n",
    "    \n",
    "    ## linking constraints ##\n",
    "    linking = Array{Vector{Int64}}(undef, G, T)\n",
    "    for fire in 1:G\n",
    "        for tm in 1:T\n",
    "            \n",
    "            # we count the crew as working *where they arrived* during this timestep\n",
    "            linking[fire, tm] = [i for i in 1:n_arcs if (arcs[i, 4] == FIRE_CODE) &\n",
    "                                                        (arcs[i, 5] == fire) &\n",
    "                                                        (arcs[i, 7] == tm)]\n",
    "        end\n",
    "    end\n",
    "    \n",
    "    \n",
    "    return KeyArcIndices(f_out, f_in, b_out, b_in, linking, start, out_of_region)\n",
    "end"
   ]
  },
  {
   "cell_type": "code",
   "execution_count": 15,
   "id": "85bb158f",
   "metadata": {},
   "outputs": [
    {
     "data": {
      "text/plain": [
       "get_route_stats (generic function with 1 method)"
      ]
     },
     "execution_count": 15,
     "metadata": {},
     "output_type": "execute_result"
    }
   ],
   "source": [
    "function get_route_stats(arc_ixs_used, arcs, costs)\n",
    "    \n",
    "    # get total cost\n",
    "    route_cost = sum(costs[arc_ixs_used])\n",
    "    \n",
    "    # initialize fires fought matrix\n",
    "    fires_fought =  falses(NUM_FIRES, NUM_TIME_PERIODS)\n",
    "    \n",
    "    # initialize out of region matrix\n",
    "    out_of_region = falses(NUM_TIME_PERIODS + 1)\n",
    "    \n",
    "    # for each arc used\n",
    "    for ix in arc_ixs_used\n",
    "        arc = arcs[ix, :]\n",
    "        \n",
    "        # update fires_fought\n",
    "        if (arc[4] == FIRE_CODE) & (arc[7] <= NUM_TIME_PERIODS)\n",
    "            @assert ~fires_fought[arc[5], arc[7]] \"Visited fire twice at same time\"\n",
    "            fires_fought[arc[5], arc[7]] = true\n",
    "        end\n",
    "        \n",
    "        # update out_of_region\n",
    "        if arc[10] > 0\n",
    "            @assert ~out_of_region[arc[6] + 1] \"Left region twice at same time\"\n",
    "            out_of_region[arc[6] + 1] = true\n",
    "        end\n",
    "    end\n",
    "    \n",
    "    return route_cost, fires_fought, out_of_region\n",
    "end"
   ]
  },
  {
   "cell_type": "code",
   "execution_count": 16,
   "id": "8a2f3da2",
   "metadata": {},
   "outputs": [
    {
     "data": {
      "text/plain": [
       "initialize_route_data (generic function with 1 method)"
      ]
     },
     "execution_count": 16,
     "metadata": {},
     "output_type": "execute_result"
    }
   ],
   "source": [
    "function initialize_route_data(max_routes)\n",
    "    \n",
    "    return RouteData(zeros(NUM_CREWS), Matrix{Float64}(undef, NUM_CREWS, max_routes),\n",
    "                     BitArray(undef, NUM_CREWS, max_routes, NUM_FIRES, NUM_TIME_PERIODS) .> 2,\n",
    "                     BitArray(undef, NUM_CREWS, max_routes, NUM_TIME_PERIODS + 1) .> 2)\n",
    "end"
   ]
  },
  {
   "cell_type": "code",
   "execution_count": 17,
   "id": "368b79c3",
   "metadata": {},
   "outputs": [
    {
     "data": {
      "text/plain": [
       "update_available_routes (generic function with 1 method)"
      ]
     },
     "execution_count": 17,
     "metadata": {},
     "output_type": "execute_result"
    }
   ],
   "source": [
    "function update_available_routes(crew, route_ixs, arcs, costs, route_data)\n",
    "    \n",
    "    # get the required information from the arcs used\n",
    "    route_cost, fires_fought, out_of_region = get_route_stats(route_ixs, arcs, costs)\n",
    "    \n",
    "    ## store this information to the route_data ##\n",
    "    \n",
    "    # add 1 to number of routes for this crew, store the index\n",
    "    route_data.routes_per_crew[crew] += 1\n",
    "    ix = route_data.routes_per_crew[crew]\n",
    "    \n",
    "    # append the route cost\n",
    "    route_data.route_costs[crew, ix] = route_cost\n",
    "    \n",
    "    # append the fires fought\n",
    "    route_data.fires_fought[crew, ix, :, :] = fires_fought\n",
    "    \n",
    "    # append the out-of-region assignments\n",
    "    route_data.out_of_reg[crew, ix, :] = out_of_region\n",
    "    \n",
    "    return 1\n",
    "\n",
    "end"
   ]
  },
  {
   "cell_type": "code",
   "execution_count": 18,
   "id": "05c56733",
   "metadata": {},
   "outputs": [
    {
     "data": {
      "text/plain": [
       "get_supp_plan_stats (generic function with 2 methods)"
      ]
     },
     "execution_count": 18,
     "metadata": {},
     "output_type": "execute_result"
    }
   ],
   "source": [
    "function get_supp_plan_stats(var_p, var_d, beta, tolerance=0.0001)\n",
    "    \n",
    "    # get the cost based on the perimeter progression\n",
    "    cost = beta * (sum(value.(var_p)) - value(var_p[1])/2 - value(var_p[NUM_TIME_PERIODS+1]/2))\n",
    "    \n",
    "    # get the number of crews present each time period from line constructed\n",
    "    crew_vector = value.(var_d)\n",
    "    int_crew_vector = convert.(Int64, round.(crew_vector))\n",
    "    @assert maximum(abs.(crew_vector - int_crew_vector)) < tolerance \"Not an integer plan\"\n",
    "    \n",
    "    return cost, int_crew_vector\n",
    "\n",
    "end"
   ]
  },
  {
   "cell_type": "code",
   "execution_count": 19,
   "id": "9a5695d4",
   "metadata": {},
   "outputs": [
    {
     "data": {
      "text/plain": [
       "initialize_supp_plan_data (generic function with 1 method)"
      ]
     },
     "execution_count": 19,
     "metadata": {},
     "output_type": "execute_result"
    }
   ],
   "source": [
    "function initialize_supp_plan_data(max_supp_plans)\n",
    "    \n",
    "    return SuppressionPlanData(zeros(NUM_FIRES), \n",
    "                               Matrix{Float64}(undef, NUM_FIRES, max_supp_plans),\n",
    "                               zeros(Int8, (NUM_FIRES, max_supp_plans, NUM_TIME_PERIODS))\n",
    "                              )\n",
    "end"
   ]
  },
  {
   "cell_type": "code",
   "execution_count": 20,
   "id": "8c279c56",
   "metadata": {},
   "outputs": [
    {
     "data": {
      "text/plain": [
       "update_available_supp_plans (generic function with 1 method)"
      ]
     },
     "execution_count": 20,
     "metadata": {},
     "output_type": "execute_result"
    }
   ],
   "source": [
    "function update_available_supp_plans(fire, cost, allotment, plan_data)\n",
    "    \n",
    "    # add 1 to number of plans for this fire, store the index\n",
    "    plan_data.plans_per_fire[fire] += 1\n",
    "    ix = plan_data.plans_per_fire[fire]\n",
    "    \n",
    "    # append the route cost\n",
    "    plan_data.plan_costs[fire, ix] = cost\n",
    "    \n",
    "    # append the fires fought\n",
    "    plan_data.crews_present[fire, ix, :] = allotment\n",
    "    \n",
    "    return 1\n",
    "\n",
    "end"
   ]
  },
  {
   "cell_type": "code",
   "execution_count": 21,
   "id": "5f1302a9",
   "metadata": {},
   "outputs": [
    {
     "data": {
      "text/plain": [
       "full_formulation (generic function with 2 methods)"
      ]
     },
     "execution_count": 21,
     "metadata": {},
     "output_type": "execute_result"
    }
   ],
   "source": [
    "function full_formulation(integer_routes, region_data, constraint_data, rotation_order, \n",
    "                          costs, progs, perims, beta, gamma, verbose=false)\n",
    "    \n",
    "    # get number of arcs\n",
    "    n_arcs = length(costs)\n",
    "    \n",
    "    # shorten some global variable names\n",
    "    C = NUM_CREWS\n",
    "    G = NUM_FIRES\n",
    "    T = NUM_TIME_PERIODS\n",
    "    regs = region_data.crew_regions\n",
    "    \n",
    "    # intialize model\n",
    "    m = Model(() -> Gurobi.Optimizer(GRB_ENV))\n",
    "    \n",
    "    if ~verbose\n",
    "        set_optimizer_attribute(m, \"OutputFlag\", 0)\n",
    "    end\n",
    "\n",
    "    # fire suppression plan section\n",
    "    @variable(m, p[g=1:G, t=1:T+1] >= 0)\n",
    "    @variable(m, l[g=1:G, t=1:T])\n",
    "    @variable(m, d[g=1:G, t=1:T] >= 0)\n",
    "    @constraint(m, perim_growth[g=1:G, t=1:T], p[g, t+1] >= progs[g, t] * \n",
    "                                                           (p[g, t] - l[g, t] / 2) - l[g, t] / 2)\n",
    "    @constraint(m, perim_start[g=1:G], p[g, 1] == perims[g])\n",
    "\n",
    "    # routing plan section\n",
    "    if integer_routes\n",
    "        @variable(m, z[1:n_arcs] >= 0, Int)\n",
    "    else\n",
    "        @variable(m, z[1:n_arcs] >= 0)\n",
    "    end\n",
    "    \n",
    "    @variable(m, q[1:C, 0:T] >= 0, Int)\n",
    "    \n",
    "    # build out_of_region constraints\n",
    "    @constraint(m, out_of_region[c=1:C, t=0:T],\n",
    "    \n",
    "        # out of region penalty is at least\n",
    "        q[c, t] >=\n",
    "        \n",
    "            # this crew's cumulative rotations\n",
    "            sum(z[i] for t_0=0:t, i in constraint_data.out_of_region[c, t_0+1]) \n",
    "        \n",
    "        - \n",
    "        \n",
    "            # average cumulative rotations among all crews in same region\n",
    "            sum(z[i] for c_0 in keys(rotation_order[regs[c]]), t_0=0:t, \n",
    "                i in constraint_data.out_of_region[c_0, t_0+1]) /\n",
    "            length(keys(rotation_order[regs[c]]))\n",
    "        \n",
    "        -\n",
    "        \n",
    "            # normalizing factor for specific crew rotation order\n",
    "            (1 - rotation_order[regs[c]][c] / length(keys(rotation_order[regs[c]])))\n",
    "        \n",
    "        -\n",
    "            # big-M for if crew goes not leave region at this time\n",
    "            T * (1 - sum(z[i] for i in constraint_data.out_of_region[c, t+1]))\n",
    "        \n",
    "    )\n",
    "\n",
    "\n",
    "    @constraint(m, fire_flow[c=1:C, g=1:G, t=1:T, rest=1:2],\n",
    "\n",
    "            sum(z[constraint_data.f_out[c, g, t, rest]]) ==\n",
    "            sum(z[constraint_data.f_in[c, g, t, rest]])\n",
    "    \n",
    "    )\n",
    "    \n",
    "    @constraint(m, base_flow[c=1:C, t=1:T, rest=1:2],\n",
    "\n",
    "            sum(z[constraint_data.b_out[c, t, rest]]) ==\n",
    "            sum(z[constraint_data.b_in[c, t, rest]])\n",
    "    \n",
    "    )\n",
    "\n",
    "\n",
    "    @constraint(m, linking[g=1:G, t=1:T],\n",
    "\n",
    "        sum(z[constraint_data.supp_fire[g, t]]) >= d[g, t] \n",
    "    )\n",
    "    \n",
    "    @constraint(m, line_building[g=1:G, t=1:T], l[g, t] <= LINE_PER_CREW * d[g, t])\n",
    "\n",
    "    # build start constraint\n",
    "    @constraint(m, start[c=1:C], \n",
    "\n",
    "        sum(z[constraint_data.start[c]]) == 1\n",
    "    )\n",
    "    \n",
    "    \n",
    "    \n",
    "\n",
    "    @objective(m, Min, \n",
    "        beta * (sum(p) - sum(p[1:G, 1])/2 - sum(p[1:G, T+1])/2) + \n",
    "        sum(z .* costs) + sum(q) * gamma\n",
    "    )\n",
    "    \n",
    "    return m, p, d, z, q, out_of_region\n",
    "    \n",
    "end"
   ]
  },
  {
   "cell_type": "code",
   "execution_count": 22,
   "id": "28eeec56",
   "metadata": {},
   "outputs": [
    {
     "data": {
      "text/plain": [
       "load_data (generic function with 1 method)"
      ]
     },
     "execution_count": 22,
     "metadata": {},
     "output_type": "execute_result"
    }
   ],
   "source": [
    "function load_data(path)\n",
    "    \n",
    "    # get distance from fire f to fire g \n",
    "    fire_dists =  readdlm(path * \"/fire_distances.csv\", ',')\n",
    "\n",
    "    # get distance from base c to fire g (NUM_CREWS-by-NUM_FIRES)\n",
    "    base_fire_dists =  readdlm(path * \"/base_fire_distances.csv\", ',')\n",
    "\n",
    "    # initialize travel times (number of periods) from fire f to fire g\n",
    "    tau = convert(Array{Int}, ones(size(fire_dists)))\n",
    "\n",
    "    # initialize number of periods to travel from base c to fire g (NUM_CREWS-by-NUM_FIRES)\n",
    "    tau_base_to_fire = convert(Array{Int}, ones((size(base_fire_dists))))\n",
    "\n",
    "    # read intial crew statuses (location, period by which they must rest)\n",
    "    # (-1 in current_fire means crew is currently at base)\n",
    "    # (rested_periods is the amount of time crew has been at base, relevant for completing rest)\n",
    "    crew_starts = CSV.read(path * \"/sample_crew_starts.csv\", DataFrame)\n",
    "    rest_by = crew_starts[!, \"rest_by\"]\n",
    "    current_fire = crew_starts[!, \"current_fire\"]\n",
    "    rested_periods = crew_starts[!, \"rested_periods\"]\n",
    "\n",
    "\n",
    "    return (GlobalData(fire_dists, base_fire_dists, tau, tau_base_to_fire), \n",
    "            CrewStatus(rest_by, current_fire, rested_periods))\n",
    "end"
   ]
  },
  {
   "cell_type": "code",
   "execution_count": 23,
   "id": "6e68bf7e",
   "metadata": {},
   "outputs": [
    {
     "data": {
      "text/plain": [
       "master_problem (generic function with 2 methods)"
      ]
     },
     "execution_count": 23,
     "metadata": {},
     "output_type": "execute_result"
    }
   ],
   "source": [
    "function master_problem(route_data, supp_plan_data, region_data, rotation_order, gamma, price_branch=false)\n",
    "    \n",
    "    m = Model(() -> Gurobi.Optimizer(GRB_ENV))\n",
    "    set_optimizer_attribute(m, \"OutputFlag\", 0)\n",
    "    \n",
    "    regs = region_data.crew_regions\n",
    "    \n",
    "    # decision variables\n",
    "    if price_branch\n",
    "        @variable(m, route[c=1:NUM_CREWS, r=1:route_data.routes_per_crew[c]] >= 0, Int)\n",
    "        @variable(m, plan[g=1:NUM_FIRES, p=1:supp_plan_data.plans_per_fire[g]] >= 0, Int)\n",
    "        @variable(m, q[c=1:NUM_CREWS, t=0:NUM_TIME_PERIODS] >= 0, Int)\n",
    "    else\n",
    "        @variable(m, route[c=1:NUM_CREWS, r=1:route_data.routes_per_crew[c]] >= 0)\n",
    "        @variable(m, plan[g=1:NUM_FIRES, p=1:supp_plan_data.plans_per_fire[g]] >= 0)\n",
    "        @variable(m, q[c=1:NUM_CREWS, t=0:NUM_TIME_PERIODS] >= 0)\n",
    "    end\n",
    "    \n",
    "    # constraints that you must choose a plan per crew and per fire\n",
    "    @constraint(m, route_per_crew[c=1:NUM_CREWS], \n",
    "                sum(route[c, r] for r=1:route_data.routes_per_crew[c]) == 1)\n",
    "    @constraint(m, plan_per_fire[g=1:NUM_FIRES], \n",
    "                sum(plan[g, p] for p=1:supp_plan_data.plans_per_fire[g]) >= 1)\n",
    "    \n",
    "    # linking constraint\n",
    "    @constraint(m, linking[g=1:NUM_FIRES, t=1:NUM_TIME_PERIODS],\n",
    "                    \n",
    "                    # crews at fire\n",
    "                    sum(route[c, r] * route_data.fires_fought[c, r, g, t] \n",
    "                        for c=1:NUM_CREWS, r=1:route_data.routes_per_crew[c]) \n",
    "        \n",
    "                    >=\n",
    "        \n",
    "                    # crews suppressing\n",
    "                    sum(plan[g, p] * supp_plan_data.crews_present[g, p, t] \n",
    "                        for p=1:supp_plan_data.plans_per_fire[g]) \n",
    "        \n",
    "                )\n",
    "    \n",
    "    # out_of_region constraint\n",
    "    @constraint(m, out_of_region[c=1:NUM_CREWS, t=0:NUM_TIME_PERIODS],\n",
    "    \n",
    "        # out of region penalty is at least\n",
    "        q[c, t] >=\n",
    "        \n",
    "            # this crew's cumulative rotations\n",
    "            sum(route[c, r] * route_data.out_of_reg[c, r, t_0 + 1] \n",
    "            for r=1:route_data.routes_per_crew[c], t_0=0:t)\n",
    "        \n",
    "        - \n",
    "        \n",
    "            # average cumulative rotations among all crews in same region\n",
    "            sum(route[c_0, r] * route_data.out_of_reg[c_0, r, t_0 + 1] \n",
    "                for c_0 in keys(rotation_order[regs[c]]), r=1:route_data.routes_per_crew[c_0],\n",
    "                t_0=0:t) /\n",
    "            length(keys(rotation_order[regs[c]]))\n",
    "        \n",
    "        -\n",
    "        \n",
    "            # normalizing factor for specific crew rotation order\n",
    "            (1 - rotation_order[regs[c]][c] / length(keys(rotation_order[regs[c]])))\n",
    "        \n",
    "        -\n",
    "            # big-M for if crew goes not leave region at this time\n",
    "            NUM_TIME_PERIODS * (1 - sum(route[c, r] * route_data.out_of_reg[c, r, t+1]\n",
    "                                        for r=1:route_data.routes_per_crew[c])\n",
    "                               )\n",
    "        \n",
    "    )\n",
    "    \n",
    "    @objective(m, Min, \n",
    "        \n",
    "                  # route costs\n",
    "                  sum(route[c, r] * route_data.route_costs[c, r] \n",
    "                        for c=1:NUM_CREWS, r=1:route_data.routes_per_crew[c])\n",
    "        \n",
    "                  +\n",
    "                     \n",
    "                  # suppression plan costs\n",
    "                  sum(plan[g, p] * supp_plan_data.plan_costs[g, p] \n",
    "                     for g=1:NUM_FIRES, p=1:supp_plan_data.plans_per_fire[g]) \n",
    "        \n",
    "                  +\n",
    "        \n",
    "                  # rotational queueing violations cost\n",
    "                  sum(q) * gamma\n",
    "               )\n",
    "    \n",
    "    return Dict(\"m\" => m, \"q\" => q, \"sigma\" => route_per_crew, \"pi\" => plan_per_fire, \n",
    "                \"rho\" => linking, \"eta\" => out_of_region, \"route\" => route, \"plan\" => plan)\n",
    "end "
   ]
  },
  {
   "cell_type": "code",
   "execution_count": 24,
   "id": "b119f02d",
   "metadata": {},
   "outputs": [
    {
     "data": {
      "text/plain": [
       "init_route_subproblem (generic function with 2 methods)"
      ]
     },
     "execution_count": 24,
     "metadata": {},
     "output_type": "execute_result"
    }
   ],
   "source": [
    "function init_route_subproblem(crew_ixs, crew, constraint_data, integer_routes=false)\n",
    "    \n",
    "    # shorten some global variable names\n",
    "    C = NUM_CREWS\n",
    "    G = NUM_FIRES\n",
    "    T = NUM_TIME_PERIODS\n",
    "    \n",
    "    # intialize model\n",
    "    m = Model(() -> Gurobi.Optimizer(GRB_ENV))\n",
    "    set_optimizer_attribute(m, \"OutputFlag\", 0)\n",
    "\n",
    "    # routing plan section\n",
    "    if integer_routes\n",
    "        @variable(m, z[crew_ixs] >= 0, Int)\n",
    "    else\n",
    "        @variable(m, z[crew_ixs] >= 0)\n",
    "    end\n",
    "\n",
    "\n",
    "    @constraint(m, fire_flow[g=1:G, t=1:T, rest=1:2],\n",
    "\n",
    "            sum(z[constraint_data.f_out[crew, g, t, rest]]) ==\n",
    "            sum(z[constraint_data.f_in[crew, g, t, rest]])\n",
    "    \n",
    "    )\n",
    "    \n",
    "    @constraint(m, base_flow[t=1:T, rest=1:2],\n",
    "\n",
    "            sum(z[constraint_data.b_out[crew, t, rest]]) ==\n",
    "            sum(z[constraint_data.b_in[crew, t, rest]])\n",
    "    \n",
    "    )\n",
    "\n",
    "    # build start constraint\n",
    "    @constraint(m, start, \n",
    "\n",
    "        sum(z[constraint_data.start[crew]]) == 1\n",
    "    )\n",
    "    \n",
    "    return Dict(\"m\" => m, \"z\" => z, \"ff\" => fire_flow)\n",
    "    \n",
    "end"
   ]
  },
  {
   "cell_type": "code",
   "execution_count": 25,
   "id": "fccc53fc",
   "metadata": {},
   "outputs": [
    {
     "data": {
      "text/plain": [
       "init_suppression_plan_subproblem (generic function with 1 method)"
      ]
     },
     "execution_count": 25,
     "metadata": {},
     "output_type": "execute_result"
    }
   ],
   "source": [
    "function init_suppression_plan_subproblem(progs, perims, fire, beta)\n",
    "    \n",
    "    T = NUM_TIME_PERIODS\n",
    "    \n",
    "    m = Model(() -> Gurobi.Optimizer(GRB_ENV))\n",
    "    set_optimizer_attribute(m, \"OutputFlag\", 0)\n",
    "\n",
    "    # fire suppression plan section\n",
    "    @variable(m, p[t=1:T+1] >= 0)\n",
    "    @variable(m, l[t=1:T] >= 0)\n",
    "    @variable(m, NUM_CREWS >= d[t=1:T] >= 0, Int)\n",
    "    @constraint(m, suppression_per_crew[t=1:T], l[t] <= d[t] * LINE_PER_CREW)\n",
    "    @constraint(m, perim_growth[t=1:T], p[t+1] >= progs[fire, t] * (p[t] - l[t] / 2) - l[t] / 2)\n",
    "    @constraint(m, perim_start, p[1] == perims[fire])\n",
    "    \n",
    "#    \n",
    "    \n",
    "    return Dict(\"m\" => m, \"p\" => p, \"d\" => d, \"beta\" => beta)\n",
    "end"
   ]
  },
  {
   "cell_type": "code",
   "execution_count": 26,
   "id": "cdb02b2d",
   "metadata": {},
   "outputs": [
    {
     "data": {
      "text/plain": [
       "init_suppression_plan_subproblem (generic function with 2 methods)"
      ]
     },
     "execution_count": 26,
     "metadata": {},
     "output_type": "execute_result"
    }
   ],
   "source": [
    "function init_suppression_plan_subproblem(config)\n",
    "             \n",
    "    if config[\"solver_type\"] == \"dp\"\n",
    "\n",
    "        states = create_discrete_fire_states(config[\"model_data\"])\n",
    "        graphs = generate_graphs(states, config[\"model_data\"], [\"ceiling\", \"floor\"])\n",
    "        nodes_avail = Dict()\n",
    "        nodes_avail[\"floor\"] = Dict(i => [j for j in 1:size(graphs[\"floor\"])[1] \n",
    "                                          if isassigned(graphs[\"floor\"], j, i)] \n",
    "                                    for i in 1:size(graphs[\"floor\"])[2])\n",
    "        nodes_avail[\"ceiling\"] = Dict(i => [j for j in 1:size(graphs[\"ceiling\"])[1] \n",
    "                                            if isassigned(graphs[\"ceiling\"], j, i)] \n",
    "                                      for i in 1:size(graphs[\"ceiling\"])[2])\n",
    "        state_costs = zeros(length(states), NUM_TIME_PERIODS + 1)\n",
    "        for i = 1:length(states)\n",
    "            for j = 1:NUM_TIME_PERIODS + 1\n",
    "                state_costs[i, j] = get_state_entrance_cost(states[i], j, config[\"model_data\"])\n",
    "            end\n",
    "        end\n",
    "        \n",
    "        return Dict(\"graphs\" => graphs, \"avail_nodes\" => nodes_avail, \"state_costs\" => state_costs)\n",
    "        \n",
    "    elseif config[\"solver_type\"] == \"gurobi\"\n",
    "        \n",
    "        if config[\"model_data\"][\"model_type\"] == \"simple_linear\"\n",
    "\n",
    "            progs = config[\"model_data\"][\"progressions\"]\n",
    "            perim = config[\"model_data\"][\"start_perim\"]\n",
    "            beta = config[\"model_data\"][\"beta\"]\n",
    "\n",
    "            T = NUM_TIME_PERIODS\n",
    "\n",
    "            m = Model(() -> Gurobi.Optimizer(GRB_ENV))\n",
    "            set_optimizer_attribute(m, \"OutputFlag\", 0)\n",
    "\n",
    "            # fire suppression plan section\n",
    "            @variable(m, p[t=1:T+1] >= 0)\n",
    "            @variable(m, l[t=1:T] >= 0)\n",
    "            @variable(m, NUM_CREWS >= d[t=1:T] >= 0, Int)\n",
    "            @constraint(m, suppression_per_crew[t=1:T], l[t] <= d[t] * LINE_PER_CREW)\n",
    "            @constraint(m, perim_growth[t=1:T], p[t+1] >= progs[t] * (p[t] - l[t] / 2) - l[t] / 2)\n",
    "            @constraint(m, perim_start, p[1] == perim)\n",
    "\n",
    "\n",
    "            return Dict(\"m\" => m, \"p\" => p, \"d\" => d, \"beta\" => beta)\n",
    "        else\n",
    "            error(\"Model type not implemented for Gurobi\")\n",
    "        end\n",
    "    else\n",
    "        error(\"Solver type not implemented\")\n",
    "    end\n",
    "end"
   ]
  },
  {
   "cell_type": "code",
   "execution_count": 76,
   "id": "7f8c4cbe",
   "metadata": {},
   "outputs": [
    {
     "data": {
      "text/plain": [
       "run_fire_subproblem (generic function with 1 method)"
      ]
     },
     "execution_count": 76,
     "metadata": {},
     "output_type": "execute_result"
    }
   ],
   "source": [
    "function run_fire_subproblem(sp, config, rho)\n",
    "    \n",
    "    if config[\"solver_type\"] == \"gurobi\"\n",
    "        \n",
    "        if config[\"model_data\"][\"model_type\"] == \"simple_linear\"\n",
    "            \n",
    "            m = sp[\"m\"]\n",
    "            p = sp[\"p\"]\n",
    "            d = sp[\"d\"]\n",
    "            beta = sp[\"beta\"]\n",
    "            \n",
    "            if config[\"warm_start\"] == \"dummy\"\n",
    "                @objective(m, Min, sum(d))\n",
    "            elseif config[\"warm_start\"] == false\n",
    "                @objective(m, Min, beta * (sum(p) - p[1]/2 - p[NUM_TIME_PERIODS + 1]/2) + \n",
    "                                   sum(d .* rho) + 0.0001 * sum(d))\n",
    "            else\n",
    "                error(\"warm start type not implemented\")\n",
    "            end\n",
    "            \n",
    "            optimize!(m)\n",
    "            \n",
    "            # get the required information from the model decision variables\n",
    "            cost, crew_vector = get_supp_plan_stats(p, d, beta)\n",
    "            \n",
    "            return cost, objective_value(m), crew_vector\n",
    "        else\n",
    "            error(\"model type not implemented\")\n",
    "        end\n",
    "    elseif config[\"solver_type\"] == \"dp\"\n",
    "        strategy = config[\"solver_strategy\"]\n",
    "        graph = sp[\"graphs\"][strategy]\n",
    "        avail_nodes = sp[\"avail_nodes\"][strategy]\n",
    "        state_enter_costs = sp[\"state_costs\"]\n",
    "        \n",
    "        if config[\"warm_start\"] == \"dummy\"\n",
    "            duals = zeros(length(rho)) .+ 1e12\n",
    "        elseif config[\"warm_start\"] == false\n",
    "            duals = rho\n",
    "        else\n",
    "            error(\"warm start type not implemented\")\n",
    "        end\n",
    "            \n",
    "        allotments, states, cost, rel_cost = solve_fire_dp(graph, avail_nodes, duals, state_enter_costs)\n",
    "        return cost, rel_cost, allotments\n",
    "    else\n",
    "        error(\"solver type not implemented\")\n",
    "    end\n",
    "end"
   ]
  },
  {
   "cell_type": "code",
   "execution_count": 112,
   "id": "4e8cc7c3",
   "metadata": {},
   "outputs": [
    {
     "data": {
      "text/plain": [
       "initialize_column_generation (generic function with 2 methods)"
      ]
     },
     "execution_count": 112,
     "metadata": {},
     "output_type": "execute_result"
    }
   ],
   "source": [
    "function initialize_column_generation(arcs, costs, constraint_data, fire_model_configs, solver_configs, max_plans)\n",
    "    \n",
    "    # initialize subproblems\n",
    "    route_sps = []\n",
    "    for crew in 1:NUM_CREWS\n",
    "        ixs = [i for i in 1:length(arcs[:, 1]) if arcs[i, 1] == crew]\n",
    "        d = init_route_subproblem(ixs, crew, constraint_data)\n",
    "        d[\"arc_ixs\"] = ixs\n",
    "        push!(route_sps, d)\n",
    "    end\n",
    "    \n",
    "    plan_sps = []\n",
    "    for fire in 1:NUM_FIRES\n",
    "        config = solver_configs[fire]\n",
    "        config[\"model_data\"] = fire_model_configs[fire]\n",
    "        d = init_suppression_plan_subproblem(config)\n",
    "        push!(plan_sps, d)\n",
    "    end\n",
    "    \n",
    "    # initialize routes and suppression plans to populate\n",
    "    routes = initialize_route_data(max_plans)\n",
    "    suppression_plans = initialize_supp_plan_data(max_plans)\n",
    "    \n",
    "    ## generate dummy plans (no suppression) to ensure feasibility at first step ##\n",
    "    \n",
    "    # for each crew\n",
    "    for crew in 1:NUM_CREWS\n",
    "        \n",
    "        # get the crew's subproblem instance\n",
    "        crew_sp = route_sps[crew]\n",
    "        m = crew_sp[\"m\"]\n",
    "        z = crew_sp[\"z\"]\n",
    "        crew_ixs = crew_sp[\"arc_ixs\"]\n",
    "\n",
    "        # set objective in light of dual variables\n",
    "        @objective(m, Min, sum(z[ix] * (costs[ix]) for ix in crew_ixs))\n",
    "\n",
    "        # optimize\n",
    "        optimize!(m)\n",
    "\n",
    "        # update crew routes\n",
    "        crew_arcs = [i for i in crew_ixs if (value(z[i]) > 0.5)]\n",
    "        update_available_routes(crew, crew_arcs, arcs, costs, routes)\n",
    "    \n",
    "    end\n",
    "    \n",
    "    # for each fire\n",
    "    for fire in 1:NUM_FIRES\n",
    "        \n",
    "        sp_config = solver_configs[fire]\n",
    "        sp_config[\"model_data\"] = fire_model_configs[fire]\n",
    "        sp_config[\"solver_strategy\"] = \"ceiling\"\n",
    "        sp_config[\"warm_start\"] = \"dummy\"\n",
    "        \n",
    "        cost, rel_cost, allotment = run_fire_subproblem(plan_sps[fire], sp_config, zeros(NUM_TIME_PERIODS))\n",
    "\n",
    "        # update suppression plans\n",
    "        update_available_supp_plans(fire, cost, allotment, suppression_plans)\n",
    "\n",
    "    end\n",
    "    \n",
    "    return ColumnGeneration(route_sps, plan_sps, routes, suppression_plans)\n",
    "    \n",
    "end"
   ]
  },
  {
   "cell_type": "code",
   "execution_count": 113,
   "id": "dc13f373",
   "metadata": {},
   "outputs": [
    {
     "data": {
      "text/plain": [
       "run_crew_subproblem (generic function with 1 method)"
      ]
     },
     "execution_count": 113,
     "metadata": {},
     "output_type": "execute_result"
    }
   ],
   "source": [
    "function run_crew_subproblem(sps, crew, costs, local_costs)\n",
    "    \n",
    "    # get the crew's subproblem instance\n",
    "    crew_sp = sps[crew]\n",
    "    m = crew_sp[\"m\"]\n",
    "    z = crew_sp[\"z\"]\n",
    "    crew_ixs = crew_sp[\"arc_ixs\"]\n",
    "    \n",
    "    # set objective in light of dual variables\n",
    "    @objective(m, Min, sum(z[ix] * (local_costs[ix] + costs[ix]) for ix in crew_ixs))\n",
    "        \n",
    "    # optimize\n",
    "    optimize!(m)\n",
    "    \n",
    "    return objective_value(m), z\n",
    "end"
   ]
  },
  {
   "cell_type": "code",
   "execution_count": 114,
   "id": "f7846989",
   "metadata": {},
   "outputs": [
    {
     "data": {
      "text/plain": [
       "run_CG_step (generic function with 2 methods)"
      ]
     },
     "execution_count": 114,
     "metadata": {},
     "output_type": "execute_result"
    }
   ],
   "source": [
    "function run_CG_step(cg, arcs, costs, global_data, region_data, fire_model_configs, solver_configs, rot_order, gamma)\n",
    "    \n",
    "    # formulate and solve the master problem\n",
    "    mp = master_problem(cg.routes, cg.suppression_plans, region_data, rot_order, gamma)\n",
    "    optimize!(mp[\"m\"])\n",
    "\n",
    "    # grab the dual variables\n",
    "    sigma = dual.(mp[\"sigma\"])\n",
    "    rho = dual.(mp[\"rho\"])\n",
    "    eta = dual.(mp[\"eta\"])\n",
    "    pie = dual.(mp[\"pi\"]) # lol can't overwrite \"pi\" in Julia\n",
    "\n",
    "    # using the dual variables, get the local adjustments to the arc costs in the route subproblems\n",
    "    d = Dict(\"out_of_region_dual\" => eta, \"region_data\"=> region_data, \"rotation_order\" => rot_order, \"linking_dual\" => rho)\n",
    "    local_costs = get_arc_costs(global_data, arcs, d)\n",
    "\n",
    "    ## run subproblems ##\n",
    "\n",
    "    # for each fire\n",
    "    for fire in 1:NUM_FIRES\n",
    "\n",
    "        # run the subproblem\n",
    "        sp_config = solver_configs[fire]\n",
    "        sp_config[\"model_data\"] = fire_model_configs[fire]\n",
    "        sp_config[\"solver_strategy\"] = \"ceiling\"\n",
    "        sp_config[\"warm_start\"] = false\n",
    "        \n",
    "        cost, rel_cost, allotment = run_fire_subproblem(cg.plan_sps[fire], sp_config, rho[fire, :])\n",
    "\n",
    "        # if there is an improving plan\n",
    "        if rel_cost < pie[fire]\n",
    "\n",
    "            # add it\n",
    "            update_available_supp_plans(fire, cost, allotment, cg.suppression_plans)\n",
    "\n",
    "        end\n",
    "    end\n",
    "\n",
    "    # for each crew\n",
    "    for crew in 1:NUM_CREWS\n",
    "\n",
    "        # run the crew subproblem\n",
    "        obj, assignments = run_crew_subproblem(cg.route_sps, crew, costs, local_costs)\n",
    "\n",
    "        # if there is an improving route\n",
    "        if obj < sigma[crew]\n",
    "\n",
    "            # add it\n",
    "            crew_arcs = [i for i in cg.route_sps[crew][\"arc_ixs\"] if (value(assignments[i]) > 0.5)]\n",
    "            update_available_routes(crew, crew_arcs, arcs, costs, cg.routes)\n",
    "\n",
    "        end\n",
    "\n",
    "    end \n",
    "    return mp\n",
    "end"
   ]
  },
  {
   "cell_type": "code",
   "execution_count": 126,
   "id": "d732c533",
   "metadata": {},
   "outputs": [],
   "source": [
    "in_path = \"data/processed\"\n",
    "\n",
    "# get inital fire perimeters and no-suppression progression parameters\n",
    "M = readdlm(in_path * \"/sample_growth_patterns.csv\", ',')\n",
    "start_perims = M[:, 1]\n",
    "progressions = M[:, 2:15]\n",
    "\n",
    "NUM_TIME_PERIODS = size(M)[2] - 1 \n",
    "NUM_FIRES = size(M)[1]      \n",
    "\n",
    "\n",
    "g_data, crew_status = load_data(in_path)\n",
    "r_data = RegionData([1, 1, 1, 1, 1, 2, 2, 2, 2, 2], [1, 1, 2, 2])\n",
    "rotation_order = get_rotation_orders(r_data.crew_regions)\n",
    "A = generate_arcs(g_data, r_data, crew_status);\n",
    "\n",
    "rest_pen = get_rest_penalties(crew_status.rest_by, 99999, positive)\n",
    "cost_params = Dict(\"cost_per_mile\"=> 1, \"rest_violation\" => rest_pen, \"fight_fire\" => ALPHA)\n",
    "arc_costs = get_arc_costs(g_data, A, cost_params)\n",
    "\n",
    "c_data = define_network_constraint_data(A);"
   ]
  },
  {
   "cell_type": "code",
   "execution_count": 133,
   "id": "fa991850",
   "metadata": {},
   "outputs": [
    {
     "data": {
      "text/plain": [
       "0"
      ]
     },
     "execution_count": 133,
     "metadata": {},
     "output_type": "execute_result"
    }
   ],
   "source": [
    "AGG_PREC = 0\n",
    "PASSIVE_STATES = 0"
   ]
  },
  {
   "cell_type": "code",
   "execution_count": 164,
   "id": "f920c6b9",
   "metadata": {},
   "outputs": [
    {
     "data": {
      "text/plain": [
       "true"
      ]
     },
     "execution_count": 164,
     "metadata": {},
     "output_type": "execute_result"
    }
   ],
   "source": [
    "isassigned(col_gen_data.plan_sps[1][\"graphs\"][\"ceiling\"], 1102, 1)"
   ]
  },
  {
   "cell_type": "code",
   "execution_count": 165,
   "id": "b55575a0",
   "metadata": {},
   "outputs": [
    {
     "ename": "LoadError",
     "evalue": "KeyError: key (1102, 1) not found",
     "output_type": "error",
     "traceback": [
      "KeyError: key (1102, 1) not found",
      "",
      "Stacktrace:",
      " [1] getindex",
      "   @ .\\dict.jl:481 [inlined]",
      " [2] getindex(::Dict{Any, Any}, ::Int64, ::Int64)",
      "   @ Base .\\abstractdict.jl:506",
      " [3] top-level scope",
      "   @ In[165]:1",
      " [4] eval",
      "   @ .\\boot.jl:373 [inlined]",
      " [5] include_string(mapexpr::typeof(REPL.softscope), mod::Module, code::String, filename::String)",
      "   @ Base .\\loading.jl:1196"
     ]
    }
   ],
   "source": [
    "col_gen_data.plan_sps[1][\"graphs\"][1102, 1]"
   ]
  },
  {
   "cell_type": "code",
   "execution_count": 170,
   "id": "b9535dde",
   "metadata": {},
   "outputs": [
    {
     "data": {
      "text/plain": [
       "3-element Vector{Int64}:\n",
       " 29060\n",
       " 27302\n",
       "  9881"
      ]
     },
     "execution_count": 170,
     "metadata": {},
     "output_type": "execute_result"
    }
   ],
   "source": []
  },
  {
   "cell_type": "code",
   "execution_count": 175,
   "id": "235acbc8",
   "metadata": {},
   "outputs": [
    {
     "name": "stdout",
     "output_type": "stream",
     "text": [
      "100.0 12.5960881 75.0 0.15435821360454405 51.576331068380334 5.113853500827381\n",
      "100.0 12.5209388 71.0 0.4480304593628581 53.364797688250846 3.5418279143036635\n",
      "100.0 13.636112099999998 81.0 0.4081990783041167 19.24332738245189 1.5729993358919225\n",
      "100.0 13.290726 74.0 0.2369273923334747 49.16312540468106 3.5418279143036857\n",
      "100.0 16.656246500000005 67.0 0.23655912637314813 26.834865296962818 1.1680454607065016\n",
      "100.0 12.450651900000006 76.0 0.5166391436996154 26.469901748371715 1.5729993358919003\n",
      "100.0 17.373140100000004 83.0 0.32492136529587157 25.971022766510533 0.9135886937204241\n",
      "100.0 14.389953799999999 62.0 0.5256027007091602 26.78322990958899 1.1680454607064794\n",
      "100.0 23.008736000000006 71.0 0.0746409992447461 76.957109332205 0.7957642612639093\n"
     ]
    },
    {
     "data": {
      "text/html": [
       "<div class=\"data-frame\"><p>9 rows × 7 columns</p><table class=\"data-frame\"><thead><tr><th></th><th>fire_sp_type</th><th>total_V</th><th>total_E</th><th>iters</th><th>time</th><th>lr_pct_gap</th><th>pb_pct_gap</th></tr><tr><th></th><th title=\"Any\">Any</th><th title=\"Any\">Any</th><th title=\"Any\">Any</th><th title=\"Any\">Any</th><th title=\"Any\">Any</th><th title=\"Any\">Any</th><th title=\"Any\">Any</th></tr></thead><tbody><tr><th>1</th><td>dp</td><td>196</td><td>6409</td><td>100</td><td>12.5961</td><td>5.11385</td><td>51.5763</td></tr><tr><th>2</th><td>dp</td><td>309</td><td>10585</td><td>100</td><td>12.5209</td><td>3.54183</td><td>53.3648</td></tr><tr><th>3</th><td>dp</td><td>416</td><td>15270</td><td>100</td><td>13.6361</td><td>1.573</td><td>19.2433</td></tr><tr><th>4</th><td>dp</td><td>369</td><td>11548</td><td>100</td><td>13.2907</td><td>3.54183</td><td>49.1631</td></tr><tr><th>5</th><td>dp</td><td>736</td><td>28273</td><td>100</td><td>16.6562</td><td>1.16805</td><td>26.8349</td></tr><tr><th>6</th><td>dp</td><td>476</td><td>16298</td><td>100</td><td>12.4507</td><td>1.573</td><td>26.4699</td></tr><tr><th>7</th><td>dp</td><td>1696</td><td>58789</td><td>100</td><td>17.3731</td><td>0.913589</td><td>25.971</td></tr><tr><th>8</th><td>dp</td><td>946</td><td>33218</td><td>100</td><td>14.39</td><td>1.16805</td><td>26.7832</td></tr><tr><th>9</th><td>dp</td><td>3506</td><td>114674</td><td>100</td><td>23.0087</td><td>0.795764</td><td>76.9571</td></tr></tbody></table></div>"
      ],
      "text/latex": [
       "\\begin{tabular}{r|ccccccc}\n",
       "\t& fire\\_sp\\_type & total\\_V & total\\_E & iters & time & lr\\_pct\\_gap & pb\\_pct\\_gap\\\\\n",
       "\t\\hline\n",
       "\t& Any & Any & Any & Any & Any & Any & Any\\\\\n",
       "\t\\hline\n",
       "\t1 & dp & 196 & 6409 & 100 & 12.5961 & 5.11385 & 51.5763 \\\\\n",
       "\t2 & dp & 309 & 10585 & 100 & 12.5209 & 3.54183 & 53.3648 \\\\\n",
       "\t3 & dp & 416 & 15270 & 100 & 13.6361 & 1.573 & 19.2433 \\\\\n",
       "\t4 & dp & 369 & 11548 & 100 & 13.2907 & 3.54183 & 49.1631 \\\\\n",
       "\t5 & dp & 736 & 28273 & 100 & 16.6562 & 1.16805 & 26.8349 \\\\\n",
       "\t6 & dp & 476 & 16298 & 100 & 12.4507 & 1.573 & 26.4699 \\\\\n",
       "\t7 & dp & 1696 & 58789 & 100 & 17.3731 & 0.913589 & 25.971 \\\\\n",
       "\t8 & dp & 946 & 33218 & 100 & 14.39 & 1.16805 & 26.7832 \\\\\n",
       "\t9 & dp & 3506 & 114674 & 100 & 23.0087 & 0.795764 & 76.9571 \\\\\n",
       "\\end{tabular}\n"
      ],
      "text/plain": [
       "\u001b[1m9×7 DataFrame\u001b[0m\n",
       "\u001b[1m Row \u001b[0m│\u001b[1m fire_sp_type \u001b[0m\u001b[1m total_V \u001b[0m\u001b[1m total_E \u001b[0m\u001b[1m iters \u001b[0m\u001b[1m time    \u001b[0m\u001b[1m lr_pct_gap \u001b[0m\u001b[1m pb_pct_gap \u001b[0m\n",
       "\u001b[1m     \u001b[0m│\u001b[90m Any          \u001b[0m\u001b[90m Any     \u001b[0m\u001b[90m Any     \u001b[0m\u001b[90m Any   \u001b[0m\u001b[90m Any     \u001b[0m\u001b[90m Any        \u001b[0m\u001b[90m Any        \u001b[0m\n",
       "─────┼────────────────────────────────────────────────────────────────────────\n",
       "   1 │ dp            196      6409     100    12.5961  5.11385     51.5763\n",
       "   2 │ dp            309      10585    100    12.5209  3.54183     53.3648\n",
       "   3 │ dp            416      15270    100    13.6361  1.573       19.2433\n",
       "   4 │ dp            369      11548    100    13.2907  3.54183     49.1631\n",
       "   5 │ dp            736      28273    100    16.6562  1.16805     26.8349\n",
       "   6 │ dp            476      16298    100    12.4507  1.573       26.4699\n",
       "   7 │ dp            1696     58789    100    17.3731  0.913589    25.971\n",
       "   8 │ dp            946      33218    100    14.39    1.16805     26.7832\n",
       "   9 │ dp            3506     114674   100    23.0087  0.795764    76.9571"
      ]
     },
     "execution_count": 175,
     "metadata": {},
     "output_type": "execute_result"
    }
   ],
   "source": [
    "\n",
    "gamma = 0\n",
    "\n",
    "fire_configs = []\n",
    "for fire in 1:NUM_FIRES\n",
    "    model_config = Dict(\"model_type\" => \"simple_linear\", \"progressions\" => progressions[fire, :], \n",
    "                        \"start_perim\" => start_perims[fire], \"line_per_crew\" => LINE_PER_CREW, \n",
    "                        \"beta\" => BETA)\n",
    "    push!(fire_configs, model_config)\n",
    "end \n",
    "\n",
    "fire_solver_configs = [Dict{String,Any}(\"solver_type\" => \"dp\") for fire in 1:NUM_FIRES]\n",
    "\n",
    "agg_pass = [(20, 10), (15, 30), (10, 30), (15, 50), (5, 30), (10, 50), (2, 30), (5, 100), (1, 100)] \n",
    "\n",
    "df = DataFrame(fire_sp_type=[], total_V=[], total_E=[], iters=[], time=[], lr_pct_gap=[], pb_pct_gap=[])\n",
    "for param in agg_pass\n",
    "    \n",
    "    AGG_PREC = param[1]\n",
    "    PASSIVE_STATES = param[2]\n",
    "\n",
    "    max_plans = 1000\n",
    "    col_gen_data = initialize_column_generation(A, arc_costs, c_data, fire_configs, fire_solver_configs, max_plans)\n",
    "    \n",
    "    v_s = [size(col_gen_data.plan_sps[i][\"graphs\"][\"ceiling\"])[1] for i in 1:NUM_FIRES]\n",
    "\n",
    "    e_s = [sum([length(col_gen_data.plan_sps[k][\"graphs\"][\"ceiling\"][i, j]) \n",
    "              for i in 1:size(col_gen_data.plan_sps[k][\"graphs\"][\"ceiling\"])[1],\n",
    "                  j in 1:size(col_gen_data.plan_sps[k][\"graphs\"][\"ceiling\"])[2]\n",
    "                  if isassigned(col_gen_data.plan_sps[k][\"graphs\"][\"ceiling\"], i, j)\n",
    "                ]\n",
    "               )\n",
    "           for k = 1:NUM_FIRES]\n",
    "    \n",
    "    current_num_routes = copy(col_gen_data.routes.routes_per_crew)\n",
    "    current_num_plans = copy(col_gen_data.suppression_plans.plans_per_fire)\n",
    "\n",
    "    objs = []\n",
    "    max_iters = 100\n",
    "    n_iters = 0\n",
    "    opt = false\n",
    "    tot_time = 0\n",
    "\n",
    "    while (~opt) & (n_iters < max_iters)\n",
    "\n",
    "        n_iters += 1\n",
    "\n",
    "        tot_time += @elapsed mp = run_CG_step(col_gen_data, A, arc_costs, g_data, r_data, fire_configs, \n",
    "                                              fire_solver_configs, rotation_order, gamma)\n",
    "        push!(objs, objective_value(mp[\"m\"]))\n",
    "\n",
    "        next_num_routes = col_gen_data.routes.routes_per_crew\n",
    "        next_num_plans = col_gen_data.suppression_plans.plans_per_fire\n",
    "\n",
    "        if (sum(next_num_routes) == sum(current_num_routes)) & (sum(next_num_plans) == sum(current_num_plans))\n",
    "            opt = true\n",
    "        end\n",
    "\n",
    "        current_num_routes = copy(next_num_routes)\n",
    "        current_num_plans = copy(next_num_plans)\n",
    "\n",
    "    end\n",
    "    m, p, d, z, q, oor = full_formulation(true, r_data, c_data, rotation_order, arc_costs, \n",
    "                              progressions, start_perims, BETA, gamma)\n",
    "    optimize!(m)\n",
    "    \n",
    "    m2, p, d, z, q, oor = full_formulation(false, r_data, c_data, rotation_order, arc_costs, \n",
    "                              progressions, start_perims, BETA, 0)\n",
    "    optimize!(m2)\n",
    "    \n",
    "    pb = master_problem(col_gen_data.routes, col_gen_data.suppression_plans, r_data, rotation_order, gamma, true)\n",
    "    optimize!(pb[\"m\"])\n",
    "    pct_gap_30 = 100 * (objs[30] / objs[length(objs)] - 1)\n",
    "\n",
    "    pb_true_gap = 100 * (objective_value(pb[\"m\"]) / objective_value(m) - 1)\n",
    "    cg_lr_gap = 100 * (objs[length(objs)] / objective_value(m2) - 1)\n",
    "    \n",
    "    push!(df, [fire_solver_configs[1][\"solver_type\"], sum(v_s), sum(e_s), n_iters, tot_time, cg_lr_gap, pb_true_gap])\n",
    "end\n",
    "\n",
    "df"
   ]
  },
  {
   "cell_type": "code",
   "execution_count": null,
   "id": "50263dc0",
   "metadata": {},
   "outputs": [],
   "source": [
    "0.0 100.0 24.26995010000001 72.0 0.0746409992447461 76.95710933220496 0.7957642612639093"
   ]
  },
  {
   "cell_type": "code",
   "execution_count": null,
   "id": "90c545d0",
   "metadata": {},
   "outputs": [],
   "source": [
    "0.0 67.0 8.5660698 61.0 0.1137069451359718 46.46200837797869 0.573370980375687"
   ]
  },
  {
   "cell_type": "code",
   "execution_count": 123,
   "id": "ad9ce683",
   "metadata": {},
   "outputs": [
    {
     "data": {
      "text/plain": [
       "Dict{String, String} with 1 entry:\n",
       "  \"solver_type\" => \"dp\""
      ]
     },
     "execution_count": 123,
     "metadata": {},
     "output_type": "execute_result"
    }
   ],
   "source": [
    "fire_solver_configs[1]"
   ]
  },
  {
   "cell_type": "code",
   "execution_count": 44,
   "id": "bf5f66cc",
   "metadata": {},
   "outputs": [
    {
     "data": {
      "text/plain": [
       "update_fire_stats (generic function with 1 method)"
      ]
     },
     "execution_count": 44,
     "metadata": {},
     "output_type": "execute_result"
    }
   ],
   "source": [
    "function update_fire_stats(curr_stats, curr_time, crew_allocation, params)\n",
    "    \n",
    "    if params[\"model_type\"] == \"simple_linear\"\n",
    "        \n",
    "        line_per_crew = params[\"line_per_crew\"]\n",
    "        prog = params[\"progressions\"][curr_time]\n",
    "        line = line_per_crew * crew_allocation\n",
    "        next_stats = (curr_stats - line/2) * prog - line/2\n",
    "        next_stats = max(0, next_stats)\n",
    "        \n",
    "    else\n",
    "        error(\"Not implemented\")\n",
    "    end\n",
    "    \n",
    "    return next_stats\n",
    "end"
   ]
  },
  {
   "cell_type": "code",
   "execution_count": 45,
   "id": "bc9b4b8e",
   "metadata": {},
   "outputs": [
    {
     "data": {
      "text/plain": [
       "inverse_update_fire_stats (generic function with 1 method)"
      ]
     },
     "execution_count": 45,
     "metadata": {},
     "output_type": "execute_result"
    }
   ],
   "source": [
    "function inverse_update_fire_stats(stats_from, stats_to, time_from, time_to, params)\n",
    "    \"\"\" Returns number of crews needed for given fire transition \"\"\"\n",
    "    \n",
    "    if params[\"model_type\"] == \"simple_linear\"\n",
    "\n",
    "        line_per_crew = params[\"line_per_crew\"]\n",
    "        prog = params[\"progressions\"][time_from]\n",
    "        \n",
    "        crews = 2 / line_per_crew * (prog * stats_from - stats_to) / (1 + prog)\n",
    "        \n",
    "    else\n",
    "        error(\"Not implemented\")\n",
    "    end\n",
    "    \n",
    "    return crews\n",
    "    \n",
    "end"
   ]
  },
  {
   "cell_type": "code",
   "execution_count": 134,
   "id": "2ee8793e",
   "metadata": {},
   "outputs": [
    {
     "data": {
      "text/plain": [
       "create_discrete_fire_states (generic function with 1 method)"
      ]
     },
     "execution_count": 134,
     "metadata": {},
     "output_type": "execute_result"
    }
   ],
   "source": [
    "function create_discrete_fire_states(params)\n",
    "    \n",
    "    if params[\"model_type\"] == \"simple_linear\"\n",
    "        \n",
    "        # get the no-suppression progression of this fire\n",
    "        progs = params[\"progressions\"]\n",
    "        start_perim = params[\"start_perim\"]\n",
    "        no_supp = [start_perim]\n",
    "        for i in 1:NUM_TIME_PERIODS\n",
    "            push!(no_supp, no_supp[i] * progs[i])\n",
    "        end\n",
    "        \n",
    "        # generalize this later\n",
    "        aggressive_precision = AGG_PREC\n",
    "        num_aggressive_states = convert(Int, round(start_perim * 2 / aggressive_precision))\n",
    "        num_passive_states = PASSIVE_STATES\n",
    "\n",
    "        aggressive_states = LinRange(0, num_aggressive_states * aggressive_precision, num_aggressive_states)\n",
    "        passive_states = exp.(LinRange(log(num_aggressive_states * aggressive_precision + 1), \n",
    "                                       maximum(log.(no_supp .+ 1)), num_passive_states + 1)\n",
    "                             )\n",
    "        passive_states = passive_states[2:num_passive_states+1] .- 1\n",
    "        all_states = vcat(aggressive_states, passive_states)\n",
    "        all_states = vcat(all_states, 9999999)\n",
    "        \n",
    "        push!(all_states, start_perim)\n",
    "        \n",
    "    else\n",
    "        error(\"Not implemented\")\n",
    "    end\n",
    "    \n",
    "    return all_states\n",
    "end"
   ]
  },
  {
   "cell_type": "code",
   "execution_count": 47,
   "id": "487a4435",
   "metadata": {},
   "outputs": [
    {
     "data": {
      "text/plain": [
       "generate_state_transition_crew_reqs (generic function with 1 method)"
      ]
     },
     "execution_count": 47,
     "metadata": {},
     "output_type": "execute_result"
    }
   ],
   "source": [
    "function generate_state_transition_crew_reqs(curr_stats, curr_time, sorted_states, params, round_types)\n",
    "    \n",
    "    if params[\"model_type\"] == \"simple_linear\"\n",
    "        \n",
    "        # get all possibly feasible states\n",
    "        min_state_val = update_fire_stats(curr_stats, curr_time, NUM_CREWS + 0.5, params)\n",
    "        max_state_val = update_fire_stats(curr_stats, curr_time, 0, params)\n",
    "        \n",
    "        # get min and max index of the possibly feasible states\n",
    "        min_state_ix = searchsorted(sorted_states, min_state_val).start\n",
    "        max_state_ix = searchsorted(sorted_states, max_state_val).start\n",
    "        \n",
    "        # inititalize output \n",
    "        output = Dict()\n",
    "        for round_type in round_types\n",
    "            output[round_type] = []\n",
    "        end\n",
    "        \n",
    "        # inititalize minimum crews needed so far, for trimming (explained below)\n",
    "        min_used = Dict()\n",
    "        for round_type in round_types\n",
    "            min_used[round_type] = NUM_CREWS + 1\n",
    "        end\n",
    "        \n",
    "        # for each feasible state\n",
    "        for state_ix in min_state_ix:max_state_ix\n",
    "            crews_needed = inverse_update_fire_stats(curr_stats, sorted_states[state_ix], curr_time, \n",
    "                                                     curr_time + 1, params)\n",
    "            \n",
    "            # for each round type\n",
    "            for round_type in round_types\n",
    "                \n",
    "                # round the number of crews\n",
    "                if round_type == \"ceiling\"\n",
    "                    crews = max(0, convert(Int, ceil(crews_needed - 0.0001)))\n",
    "                elseif round_type == \"floor\"\n",
    "                    crews = max(0, convert(Int, floor(crews_needed + 0.0001)))\n",
    "                elseif round_type == \"nearest\"\n",
    "                    crews = max(0, convert(Int, round(crews_needed)))\n",
    "                else\n",
    "                    error(\"Round type not implemented\")\n",
    "                end\n",
    "                \n",
    "                # since the states are sorted in increasing level of cost and risk\n",
    "                # we can trim arcs that are dominated\n",
    "                \n",
    "                # if this is a feasible number of crews and we do not have a dominating arc\n",
    "                if (crews <= NUM_CREWS) & (crews < min_used[round_type])\n",
    "                    \n",
    "                    # update the minimum crews used for this round type\n",
    "                    min_used[round_type] = crews\n",
    "                    \n",
    "                    # push the crew requirement for this transition to the corresponding list\n",
    "                    push!(output[round_type], (state_ix, crews))\n",
    "                end\n",
    "            end\n",
    "        end\n",
    "        \n",
    "        return output\n",
    "\n",
    "    \n",
    "    else\n",
    "        error(\"Model type not implemented\")\n",
    "    end\n",
    "    \n",
    "end\n",
    "        "
   ]
  },
  {
   "cell_type": "code",
   "execution_count": 48,
   "id": "39a34e4a",
   "metadata": {},
   "outputs": [
    {
     "data": {
      "text/plain": [
       "generate_graphs (generic function with 1 method)"
      ]
     },
     "execution_count": 48,
     "metadata": {},
     "output_type": "execute_result"
    }
   ],
   "source": [
    "function generate_graphs(states, params, round_types)\n",
    "    \n",
    "    # separate out non start states\n",
    "    non_start_states = states[1:length(states)-1]\n",
    "    \n",
    "    # initializations\n",
    "    n_states = length(non_start_states)\n",
    "    crews_needed = Dict()\n",
    "    \n",
    "    # for each round type\n",
    "    for round_type in round_types\n",
    "        \n",
    "        # init graph as array of vectors (each index is a state*time vertex, each vector holds edges out)\n",
    "        crews_needed[round_type] = Array{Vector{}}(undef, n_states + 1, NUM_TIME_PERIODS + 1)\n",
    "        \n",
    "        # initialize time, state indices to check next\n",
    "        curr_time = 1\n",
    "        next_to_check = [n_states + 1]\n",
    "        \n",
    "        # while we have not yet reached the end of the horizon\n",
    "        while curr_time < NUM_TIME_PERIODS + 1\n",
    "            \n",
    "            # copy the indices to check and reset next_to_check\n",
    "            to_check = copy(next_to_check)\n",
    "            next_to_check = []\n",
    "\n",
    "            # for each state index feasible to reach at this time period\n",
    "            for check in to_check\n",
    "\n",
    "                # if it is not the last (no return) state\n",
    "                if check != n_states\n",
    "                    \n",
    "                    # find the crew requirements for feasible edges\n",
    "                    edges = generate_state_transition_crew_reqs(states[check], curr_time, non_start_states, \n",
    "                                                                params, [round_type])[round_type]\n",
    "                \n",
    "                # otherwise stay at this state\n",
    "                else\n",
    "                    edges = [(n_states, 0)]\n",
    "                end\n",
    "\n",
    "                # update the crews needed for each edge coming out of this state\n",
    "                crews_needed[round_type][check, curr_time] = edges\n",
    "\n",
    "                # append the neighbors to next_to_check\n",
    "                next_to_check = vcat(next_to_check, [edges[i][1] for i in 1:length(edges) \n",
    "                                                     if ~(edges[i][1] in next_to_check)])\n",
    "            end\n",
    "            \n",
    "            # add one to the time\n",
    "            curr_time += 1\n",
    "        end\n",
    "    end\n",
    "    \n",
    "    return crews_needed\n",
    "end"
   ]
  },
  {
   "cell_type": "code",
   "execution_count": 49,
   "id": "c2fb11eb",
   "metadata": {},
   "outputs": [
    {
     "data": {
      "text/plain": [
       "solve_fire_dp (generic function with 1 method)"
      ]
     },
     "execution_count": 49,
     "metadata": {},
     "output_type": "execute_result"
    }
   ],
   "source": [
    "function solve_fire_dp(graph, avail_nodes, rho, state_enter_costs)\n",
    "    \n",
    "    n_states = size(state_enter_costs)[1]\n",
    "    \n",
    "    curr_time = NUM_TIME_PERIODS\n",
    "    costs = zeros(n_states, NUM_TIME_PERIODS + 1) .+ 1.0e12\n",
    "    costs[:, NUM_TIME_PERIODS + 1] = state_enter_costs[:, NUM_TIME_PERIODS + 1]\n",
    "    bests = Dict()\n",
    "    \n",
    "    # backward induction\n",
    "    while curr_time > 0\n",
    "    \n",
    "        state_time_costs = state_enter_costs[:, curr_time]\n",
    "        nodes_to_check = avail_nodes[curr_time]\n",
    "        \n",
    "        for node in nodes_to_check\n",
    "            current_cost = 1e10\n",
    "            current_best = -1\n",
    "            current_allot = -1\n",
    "            edges = graph[node, curr_time]\n",
    "            for edge in edges\n",
    "                edge_cost = costs[edge[1], curr_time + 1] + rho[curr_time] * edge[2]\n",
    "                if edge_cost < current_cost\n",
    "                    current_best = edge[1]\n",
    "                    current_allot = edge[2]\n",
    "                    current_cost = edge_cost\n",
    "                end\n",
    "            end\n",
    "            costs[node, curr_time] = current_cost + state_time_costs[node]\n",
    "            bests[(node, curr_time)] = (current_best, current_allot);\n",
    "        end\n",
    "\n",
    "        curr_time -= 1\n",
    "    end\n",
    "    \n",
    "    # recreate path\n",
    "    curr_state = n_states\n",
    "    curr_time = 1\n",
    "    curr_cost = state_enter_costs[curr_state, curr_time]\n",
    "    allotments = convert.(Int, zeros(NUM_TIME_PERIODS))\n",
    "    all_states = convert.(Int, zeros(NUM_TIME_PERIODS + 1))\n",
    "    all_states[1] = curr_state\n",
    "\n",
    "    while curr_time < NUM_TIME_PERIODS + 1\n",
    "\n",
    "        next_state = bests[(curr_state, curr_time)]\n",
    "        curr_state = next_state[1]\n",
    "        allotments[curr_time] = next_state[2]\n",
    "        curr_time += 1\n",
    "        all_states[curr_time] = curr_state\n",
    "        curr_cost += state_enter_costs[curr_state, curr_time]\n",
    "    end\n",
    "    \n",
    "    return allotments, all_states, curr_cost, costs[n_states, 1]\n",
    "end"
   ]
  },
  {
   "cell_type": "code",
   "execution_count": 50,
   "id": "17c73aaf",
   "metadata": {},
   "outputs": [
    {
     "data": {
      "text/plain": [
       "get_state_entrance_cost (generic function with 1 method)"
      ]
     },
     "execution_count": 50,
     "metadata": {},
     "output_type": "execute_result"
    }
   ],
   "source": [
    "function get_state_entrance_cost(state, enter_time, params)\n",
    "    \n",
    "    if params[\"model_type\"] == \"simple_linear\"\n",
    "        \n",
    "        if (enter_time == 1) | (enter_time == NUM_TIME_PERIODS + 1)\n",
    "            return params[\"beta\"] * state / 2\n",
    "        elseif (enter_time > 1) & (enter_time < NUM_TIME_PERIODS + 1)\n",
    "            return params[\"beta\"] * state\n",
    "        else\n",
    "            error(\"Invalid time\")\n",
    "        end\n",
    "    else\n",
    "        error(\"Not implemented\")\n",
    "    end\n",
    "end"
   ]
  },
  {
   "cell_type": "code",
   "execution_count": 561,
   "id": "79bf64a1",
   "metadata": {},
   "outputs": [
    {
     "data": {
      "text/plain": [
       "get_cost (generic function with 2 methods)"
      ]
     },
     "execution_count": 561,
     "metadata": {},
     "output_type": "execute_result"
    }
   ],
   "source": [
    "function get_cost(fire_arc, states, dual_linking)\n",
    "    \n",
    "    cost = 0\n",
    "    if (fire_arc[3] == 1) | (fire_arc[3] == NUM_TIME_PERIODS) \n",
    "        cost = states[fire_arc[4]] / 2\n",
    "    else\n",
    "        cost = states[fire_arc[4]]\n",
    "    end\n",
    "    \n",
    "    cost += fire_arc[5] * dual_linking[fire_arc[1], fire_arc[3]]\n",
    "    \n",
    "    return cost\n",
    "end"
   ]
  },
  {
   "cell_type": "code",
   "execution_count": 311,
   "id": "beac2bd4",
   "metadata": {},
   "outputs": [
    {
     "data": {
      "text/plain": [
       "get_alphas (generic function with 1 method)"
      ]
     },
     "execution_count": 311,
     "metadata": {},
     "output_type": "execute_result"
    }
   ],
   "source": [
    "function get_alphas(state, prog, sorted_states)\n",
    "    \n",
    "    min_state_val = new_perim(state, prog, NUM_CREWS, LINE_PER_CREW)\n",
    "    max_state_val = new_perim(state, prog, 0, LINE_PER_CREW)\n",
    "    min_state_ix = searchsorted(sorted_states, min_state_val).start\n",
    "    max_state_ix = searchsorted(sorted_states, max_state_val).start\n",
    "    \n",
    "    edges = []\n",
    "    for state_ix in min_state_ix:max_state_ix\n",
    "        push!(edges, (state_ix, get_crews_needed_for_transition(state, \n",
    "                                                                 sorted_states[state_ix], \n",
    "                                                                 prog,\n",
    "                                                                 LINE_PER_CREW,\n",
    "                                                                 \"ceiling\")\n",
    "                       ))\n",
    "    end\n",
    "    \n",
    "    return edges\n",
    "\n",
    "end"
   ]
  },
  {
   "cell_type": "code",
   "execution_count": 562,
   "id": "592c7ad3",
   "metadata": {},
   "outputs": [
    {
     "data": {
      "text/plain": [
       "generate_fire_arcs (generic function with 1 method)"
      ]
     },
     "execution_count": 562,
     "metadata": {},
     "output_type": "execute_result"
    }
   ],
   "source": [
    "function generate_fire_arcs(g, progs, perims)\n",
    "    \n",
    "    # get the progressions for this specific fire\n",
    "    fire_progs = progs[g, :]\n",
    "    \n",
    "    no_supp = [perims[g]]\n",
    "    for i in 1:NUM_TIME_PERIODS\n",
    "        push!(no_supp, no_supp[i] * progs[i])\n",
    "    end\n",
    "\n",
    "    aggressive_precision = 15\n",
    "    num_aggressive_states = convert(Int, round(perims[g] * 2 / aggressive_precision))\n",
    "    num_passive_states = 30\n",
    "\n",
    "    aggressive_states = LinRange(0, num_aggressive_states * aggressive_precision, num_aggressive_states)\n",
    "    passive_states = exp.(LinRange(log(num_aggressive_states * aggressive_precision+ 1), maximum(log.(no_supp .+ 1)), num_passive_states + 1))\n",
    "    passive_states = passive_states[2:num_passive_states+1] .- 1\n",
    "    all_states = vcat(aggressive_states, passive_states)\n",
    "    all_states = vcat(all_states, 9999999)\n",
    "\n",
    "    # generate arcs\n",
    "    states_appended = copy(all_states)\n",
    "    push!(states_appended, start_perims[g])\n",
    "    s = length(all_states)\n",
    "    crews_needed = Array{Vector}(undef, s + 1, NUM_TIME_PERIODS + 1)\n",
    "    curr_time = 1\n",
    "    state_name = 0\n",
    "    next_to_check = [s + 1]\n",
    "\n",
    "    while curr_time < NUM_TIME_PERIODS + 1\n",
    "\n",
    "        to_check = copy(next_to_check)\n",
    "        next_to_check = []\n",
    "\n",
    "        for check in to_check\n",
    "            curr_state = states_appended[check]\n",
    "\n",
    "            if check != s\n",
    "                edges = get_alphas(curr_state, fire_progs[curr_time], all_states)\n",
    "            else\n",
    "                edges = [(s, 0)]\n",
    "            end\n",
    "\n",
    "            for edge in edges\n",
    "                crews_needed[check, curr_time] = edges\n",
    "            end\n",
    "            next_to_check = vcat(next_to_check, [edges[i][1] for i in 1:length(edges) if ~(edges[i][1] in next_to_check)])\n",
    "        end\n",
    "        curr_time += 1\n",
    "    end\n",
    "    \n",
    "    visitable = [(i,j) for i in 1:size(crews_needed)[1], j in 1:size(crews_needed)[2] if isassigned(crews_needed, i, j)]\n",
    "    \n",
    "    edges = []\n",
    "\n",
    "    for (i, j) in visitable\n",
    "        push!(edges, copy(reduce(hcat, [[i, j, a[1], a[2]] for a in crews_needed[i, j]])'))\n",
    "    end\n",
    "    \n",
    "    arc_array = reduce(vcat, edges)\n",
    "    \n",
    "    # add crew to front\n",
    "    arc_array = hcat(convert.(Int, zeros(length(arc_array[:, 1]))) .+ g, arc_array)\n",
    "    \n",
    "    return crews_needed, arc_array, states_appended\n",
    "end"
   ]
  },
  {
   "cell_type": "code",
   "execution_count": 59,
   "id": "ae61a2c1",
   "metadata": {},
   "outputs": [
    {
     "data": {
      "text/plain": [
       "new_perim (generic function with 1 method)"
      ]
     },
     "execution_count": 59,
     "metadata": {},
     "output_type": "execute_result"
    }
   ],
   "source": [
    "function new_perim(old_perim, prog, num_crews, line_per_crew)\n",
    "    \n",
    "    line = line_per_crew * num_crews\n",
    "    return (old_perim - line/2) * prog - line/2\n",
    "\n",
    "end"
   ]
  },
  {
   "cell_type": "code",
   "execution_count": 194,
   "id": "810e9668",
   "metadata": {},
   "outputs": [
    {
     "data": {
      "text/plain": [
       "get_crews_needed_for_transition (generic function with 2 methods)"
      ]
     },
     "execution_count": 194,
     "metadata": {},
     "output_type": "execute_result"
    }
   ],
   "source": [
    "function get_crews_needed_for_transition(state_1, state_2, prog, line_per_crew, round_type)\n",
    "    \n",
    "    crews = 2 / line_per_crew * (prog * state_1 - state_2) / (1 + prog)\n",
    "    \n",
    "    if round_type == \"nearest\"\n",
    "        crews = convert(Int, round(crews))\n",
    "    \n",
    "    elseif round_type == \"ceiling\"\n",
    "        crews = convert(Int, ceil(crews - 0.0001))\n",
    "    end\n",
    "    \n",
    "    return max(crews, 0) \n",
    "    \n",
    "end "
   ]
  },
  {
   "cell_type": "code",
   "execution_count": 563,
   "id": "dd84cca6",
   "metadata": {},
   "outputs": [],
   "source": [
    "graph, fire_arc_arr, fire_states = generate_fire_arcs(2, progressions, start_perims);"
   ]
  },
  {
   "cell_type": "code",
   "execution_count": 9,
   "id": "f8087d4b",
   "metadata": {},
   "outputs": [
    {
     "ename": "LoadError",
     "evalue": "syntax: incomplete: \"function\" at In[9]:1 requires end",
     "output_type": "error",
     "traceback": [
      "syntax: incomplete: \"function\" at In[9]:1 requires end",
      "",
      "Stacktrace:",
      " [1] top-level scope",
      "   @ In[9]:1",
      " [2] eval",
      "   @ .\\boot.jl:373 [inlined]",
      " [3] include_string(mapexpr::typeof(REPL.softscope), mod::Module, code::String, filename::String)",
      "   @ Base .\\loading.jl:1196"
     ]
    }
   ],
   "source": [
    "function get_out_of_region_stats(region, arcs_used, region_data)\n",
    "    \"\"\"\n",
    "    \"\"\"\n",
    "    \n",
    "    # restrict to the arcs that exited the given region\n",
    "    out_of_region_ixs = [i for i in length(arcs_used[:, 1]) if arcs_used[i, 10] == region]\n",
    "    out_of_region_arcs = arcs_used[out_of_region_ixs, :]\n",
    "    \n",
    "    # get the crews associated with this region\n",
    "    crews = [i for i in 1:length(region_data.crew_regions) if region_data.crew_regions[i] == region]\n",
    "    \n",
    "    # initialize output array of indicator variables for crews exiting region\n",
    "    out_array = zeros(length(crews), NUM_TIME_PERIODS)\n",
    "    \n",
    "    # for each crew in the region\n",
    "    for i in 1:length(crews)\n",
    "        \n",
    "        # restrict to the arcs involving this crew\n",
    "        crew_ixs = [j for j in length(out_of_region_arcs[:, 1]) if arcs_used[j, 1] == crews[i]]\n",
    "        crew_arcs = out_of_region_arcs[crew_ixs, :]\n",
    "        \n",
    "        # get the times of rotation\n",
    "        rotation_times = [t in crew_arcs[:, 6] ? 1 : 0 for t in 1:NUM_TIME_PERIODS]\n",
    "        \n",
    "        # update output for crew\n",
    "        out_array[i, :] = rotation_times\n",
    "        \n",
    "    end\n",
    "    \n",
    "    return out_array\n",
    "end"
   ]
  }
 ],
 "metadata": {
  "kernelspec": {
   "display_name": "Julia 1.7.1",
   "language": "julia",
   "name": "julia-1.7"
  },
  "language_info": {
   "file_extension": ".jl",
   "mimetype": "application/julia",
   "name": "julia",
   "version": "1.7.1"
  }
 },
 "nbformat": 4,
 "nbformat_minor": 5
}
