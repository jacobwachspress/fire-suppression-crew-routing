{
 "cells": [
  {
   "cell_type": "code",
   "execution_count": 4,
   "id": "967fad38",
   "metadata": {},
   "outputs": [],
   "source": [
    "import pandas as pd\n",
    "import numpy as np"
   ]
  },
  {
   "cell_type": "code",
   "execution_count": 2,
   "id": "c4face01",
   "metadata": {},
   "outputs": [],
   "source": [
    "demands = pd.read_csv(\"data/processed/demands.csv\")"
   ]
  },
  {
   "cell_type": "code",
   "execution_count": 3,
   "id": "7eb8f19a",
   "metadata": {},
   "outputs": [
    {
     "data": {
      "text/html": [
       "<div>\n",
       "<style scoped>\n",
       "    .dataframe tbody tr th:only-of-type {\n",
       "        vertical-align: middle;\n",
       "    }\n",
       "\n",
       "    .dataframe tbody tr th {\n",
       "        vertical-align: top;\n",
       "    }\n",
       "\n",
       "    .dataframe thead th {\n",
       "        text-align: right;\n",
       "    }\n",
       "</style>\n",
       "<table border=\"1\" class=\"dataframe\">\n",
       "  <thead>\n",
       "    <tr style=\"text-align: right;\">\n",
       "      <th></th>\n",
       "      <th>day</th>\n",
       "      <th>fire_id</th>\n",
       "      <th>demand</th>\n",
       "      <th>outside_gacc</th>\n",
       "    </tr>\n",
       "  </thead>\n",
       "  <tbody>\n",
       "    <tr>\n",
       "      <th>0</th>\n",
       "      <td>1</td>\n",
       "      <td>1</td>\n",
       "      <td>1</td>\n",
       "      <td>False</td>\n",
       "    </tr>\n",
       "    <tr>\n",
       "      <th>1</th>\n",
       "      <td>19</td>\n",
       "      <td>2</td>\n",
       "      <td>1</td>\n",
       "      <td>False</td>\n",
       "    </tr>\n",
       "    <tr>\n",
       "      <th>2</th>\n",
       "      <td>20</td>\n",
       "      <td>3</td>\n",
       "      <td>2</td>\n",
       "      <td>False</td>\n",
       "    </tr>\n",
       "    <tr>\n",
       "      <th>3</th>\n",
       "      <td>21</td>\n",
       "      <td>3</td>\n",
       "      <td>2</td>\n",
       "      <td>False</td>\n",
       "    </tr>\n",
       "    <tr>\n",
       "      <th>4</th>\n",
       "      <td>22</td>\n",
       "      <td>3</td>\n",
       "      <td>2</td>\n",
       "      <td>False</td>\n",
       "    </tr>\n",
       "    <tr>\n",
       "      <th>...</th>\n",
       "      <td>...</td>\n",
       "      <td>...</td>\n",
       "      <td>...</td>\n",
       "      <td>...</td>\n",
       "    </tr>\n",
       "    <tr>\n",
       "      <th>418</th>\n",
       "      <td>186</td>\n",
       "      <td>102</td>\n",
       "      <td>1</td>\n",
       "      <td>False</td>\n",
       "    </tr>\n",
       "    <tr>\n",
       "      <th>419</th>\n",
       "      <td>186</td>\n",
       "      <td>103</td>\n",
       "      <td>2</td>\n",
       "      <td>False</td>\n",
       "    </tr>\n",
       "    <tr>\n",
       "      <th>420</th>\n",
       "      <td>187</td>\n",
       "      <td>104</td>\n",
       "      <td>1</td>\n",
       "      <td>False</td>\n",
       "    </tr>\n",
       "    <tr>\n",
       "      <th>421</th>\n",
       "      <td>188</td>\n",
       "      <td>104</td>\n",
       "      <td>1</td>\n",
       "      <td>False</td>\n",
       "    </tr>\n",
       "    <tr>\n",
       "      <th>422</th>\n",
       "      <td>249</td>\n",
       "      <td>105</td>\n",
       "      <td>1</td>\n",
       "      <td>True</td>\n",
       "    </tr>\n",
       "  </tbody>\n",
       "</table>\n",
       "<p>423 rows × 4 columns</p>\n",
       "</div>"
      ],
      "text/plain": [
       "     day  fire_id  demand  outside_gacc\n",
       "0      1        1       1         False\n",
       "1     19        2       1         False\n",
       "2     20        3       2         False\n",
       "3     21        3       2         False\n",
       "4     22        3       2         False\n",
       "..   ...      ...     ...           ...\n",
       "418  186      102       1         False\n",
       "419  186      103       2         False\n",
       "420  187      104       1         False\n",
       "421  188      104       1         False\n",
       "422  249      105       1          True\n",
       "\n",
       "[423 rows x 4 columns]"
      ]
     },
     "execution_count": 3,
     "metadata": {},
     "output_type": "execute_result"
    }
   ],
   "source": [
    "demands"
   ]
  },
  {
   "cell_type": "code",
   "execution_count": 76,
   "id": "fed2d646",
   "metadata": {},
   "outputs": [
    {
     "data": {
      "text/plain": [
       "array([  1.8  ,   4.096, 172.8  ])"
      ]
     },
     "execution_count": 76,
     "metadata": {},
     "output_type": "execute_result"
    }
   ],
   "source": [
    "G = 3\n",
    "J = 10\n",
    "T = 14\n",
    "\n",
    "# 0 == rest\n",
    "crew_inital_locations = [-1, -1, -1, 0, 0, 0, 1, 1, 2, 3]\n",
    "latest_rest = [14, 14, 7, 2, 3, 3, 4, 5, 6, 10]\n",
    "crew_current_rest_periods = [2, 4, 1, 0, 0, 0, 0, 0, 0, 0]\n",
    "\n",
    "rest_length = 2\n",
    "\n",
    "starting_perims = [10, 4, 4]\n",
    "L = 2 * np.ones((G, T))\n",
    "\n",
    "R = [[5, 5, 4, 3, 1, 1, 0.5, 0.3, 0.2, 0.2, 1],\n",
    "     [8, 8, 8, 4, 1, 1, 1, 0.5, 0.2, 0.2, 0.1], \n",
    "     [2, 2, 2, 2, 2, 2, 1.5, 1.5, 1.5, 1, 0.8]]\n",
    "np.product(R, axis=1)"
   ]
  },
  {
   "cell_type": "code",
   "execution_count": 77,
   "id": "d08a9ebe",
   "metadata": {},
   "outputs": [
    {
     "data": {
      "text/plain": [
       "array([[1, 2, 2],\n",
       "       [2, 1, 2],\n",
       "       [2, 2, 1]])"
      ]
     },
     "execution_count": 77,
     "metadata": {},
     "output_type": "execute_result"
    }
   ],
   "source": [
    "base_fire_dists = np.loadtxt(\"data/processed/base_fire_distances.csv\", delimiter=',')\n",
    "base_fire_dists = base_fire_dists[:10, :4]\n",
    "fire_dists = np.loadtxt(\"data/processed/fire_distances.csv\", delimiter=',')\n",
    "\n",
    "tau = 1 + (fire_dists > 100) + (fire_dists > 500)\n",
    "tau_base = np.ones(base_fire_dists.shape).astype(int)\n",
    "\n",
    "tau[:G, :G]"
   ]
  },
  {
   "cell_type": "code",
   "execution_count": 78,
   "id": "c582e748",
   "metadata": {},
   "outputs": [],
   "source": [
    "fire_to_fire_no_rest = [(crew, fire_from, fire_to, period_from, period_from + tau[fire_from, fire_to], 0) \n",
    "                           for crew in range(J)\n",
    "                           for fire_from in range(G)\n",
    "                           for fire_to in range(G)\n",
    "                           for period_from in range(T)\n",
    "                           if period_from <= latest_rest[crew]]\n",
    "\n",
    "fire_to_fire_rest = [(crew, fire_from, fire_to, period_from, period_from + tau[fire_from, fire_to], 1) \n",
    "                        for crew in range(J)\n",
    "                        for fire_from in range(G)\n",
    "                        for fire_to in range(G)\n",
    "                        for period_from in range(T)\n",
    "                    ]\n",
    "\n",
    "fire_to_fire_from_start = [(crew, crew_inital_locations[crew], fire_to, -1, \n",
    "                            -1 + tau[crew_inital_locations[crew], fire_to], 0) \n",
    "                                for crew in range(J)\n",
    "                                for fire_to in range(G)\n",
    "                           if crew_inital_locations[crew] != -1\n",
    "                          ]"
   ]
  },
  {
   "cell_type": "code",
   "execution_count": 79,
   "id": "1d340799",
   "metadata": {},
   "outputs": [],
   "source": [
    "fire_to_fire = fire_to_fire_no_rest + fire_to_fire_rest + fire_to_fire_from_start"
   ]
  },
  {
   "cell_type": "code",
   "execution_count": 72,
   "id": "f4cc2ecc",
   "metadata": {},
   "outputs": [
    {
     "data": {
      "text/plain": [
       "684"
      ]
     },
     "execution_count": 72,
     "metadata": {},
     "output_type": "execute_result"
    }
   ],
   "source": [
    "fire_to_rest_no_rest = [(crew, fire_from, period_from, period_from + tau_base[crew, fire_from], 0) \n",
    "                           for crew in range(J)\n",
    "                           for fire_from in range(G)\n",
    "                           for fire_to in range(G)\n",
    "                           for period_from in range(T)\n",
    "                           if period_from <= latest_rest[crew]\n",
    "                       ]\n",
    "\n",
    "fire_to_rest_rest = [(crew, fire_from, period_from, period_from + tau_base[crew, fire_from], 1) \n",
    "                        for crew in range(J)\n",
    "                        for fire_from in range(G)\n",
    "                        for fire_to in range(G)\n",
    "                        for period_from in range(T)\n",
    "                    ]\n",
    "len(fire_to_rest_no_rest)"
   ]
  },
  {
   "cell_type": "code",
   "execution_count": 73,
   "id": "028f6dc3",
   "metadata": {},
   "outputs": [
    {
     "data": {
      "text/plain": [
       "68"
      ]
     },
     "execution_count": 73,
     "metadata": {},
     "output_type": "execute_result"
    }
   ],
   "source": [
    "sum(crew_days_until_rest)"
   ]
  },
  {
   "cell_type": "code",
   "execution_count": 64,
   "id": "8b524eb0",
   "metadata": {},
   "outputs": [
    {
     "data": {
      "text/plain": [
       "1965"
      ]
     },
     "execution_count": 64,
     "metadata": {},
     "output_type": "execute_result"
    }
   ],
   "source": [
    "len(fire_to_fire)"
   ]
  },
  {
   "cell_type": "code",
   "execution_count": null,
   "id": "11355876",
   "metadata": {},
   "outputs": [],
   "source": [
    "starting_perims = "
   ]
  }
 ],
 "metadata": {
  "kernelspec": {
   "display_name": "Python 3",
   "language": "python",
   "name": "python3"
  },
  "language_info": {
   "codemirror_mode": {
    "name": "ipython",
    "version": 3
   },
   "file_extension": ".py",
   "mimetype": "text/x-python",
   "name": "python",
   "nbconvert_exporter": "python",
   "pygments_lexer": "ipython3",
   "version": "3.8.8"
  }
 },
 "nbformat": 4,
 "nbformat_minor": 5
}
