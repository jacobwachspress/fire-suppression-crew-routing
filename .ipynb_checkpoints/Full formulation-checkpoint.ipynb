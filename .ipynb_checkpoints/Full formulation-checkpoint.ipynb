{
 "cells": [
  {
   "cell_type": "markdown",
   "id": "13808129",
   "metadata": {},
   "source": [
    "## Imports"
   ]
  },
  {
   "cell_type": "code",
   "execution_count": 1,
   "id": "05c73509",
   "metadata": {},
   "outputs": [],
   "source": [
    "using DataFrames, CSV, JuMP, Gurobi, LinearAlgebra, DelimitedFiles, Combinatorics, NPZ"
   ]
  },
  {
   "cell_type": "markdown",
   "id": "de6dfba4",
   "metadata": {},
   "source": [
    "## Read in data, initialize parameters"
   ]
  },
  {
   "cell_type": "code",
   "execution_count": 2,
   "id": "b22a7b3b",
   "metadata": {},
   "outputs": [
    {
     "data": {
      "text/plain": [
       "(10, 14, 3)"
      ]
     },
     "metadata": {},
     "output_type": "display_data"
    },
    {
     "data": {
      "text/plain": [
       "10×3 Matrix{Float64}:\n",
       " 109.406  177.41    442.573\n",
       " 512.873  620.197   677.291\n",
       " 301.865  415.648   525.184\n",
       " 202.729  285.549   548.429\n",
       " 198.903   76.6787  275.938\n",
       " 366.87   380.749   262.297\n",
       " 343.768  358.437   630.655\n",
       " 155.524   30.2902  262.352\n",
       " 321.604  379.411   357.643\n",
       " 110.707   85.7744  360.787"
      ]
     },
     "metadata": {},
     "output_type": "display_data"
    },
    {
     "data": {
      "text/html": [
       "<div class=\"data-frame\"><p>10 rows × 4 columns</p><table class=\"data-frame\"><thead><tr><th></th><th>crew</th><th>rest_by</th><th>current_fire</th><th>rested_periods</th></tr><tr><th></th><th title=\"Int64\">Int64</th><th title=\"Int64\">Int64</th><th title=\"Int64\">Int64</th><th title=\"Int64\">Int64</th></tr></thead><tbody><tr><th>1</th><td>1</td><td>15</td><td>-1</td><td>-1</td></tr><tr><th>2</th><td>2</td><td>15</td><td>-1</td><td>-1</td></tr><tr><th>3</th><td>3</td><td>10</td><td>1</td><td>-1</td></tr><tr><th>4</th><td>4</td><td>10</td><td>1</td><td>-1</td></tr><tr><th>5</th><td>5</td><td>8</td><td>4</td><td>-1</td></tr><tr><th>6</th><td>6</td><td>8</td><td>-1</td><td>0</td></tr><tr><th>7</th><td>7</td><td>5</td><td>4</td><td>-1</td></tr><tr><th>8</th><td>8</td><td>5</td><td>4</td><td>-1</td></tr><tr><th>9</th><td>9</td><td>4</td><td>-1</td><td>1</td></tr><tr><th>10</th><td>10</td><td>1</td><td>4</td><td>-1</td></tr></tbody></table></div>"
      ],
      "text/latex": [
       "\\begin{tabular}{r|cccc}\n",
       "\t& crew & rest\\_by & current\\_fire & rested\\_periods\\\\\n",
       "\t\\hline\n",
       "\t& Int64 & Int64 & Int64 & Int64\\\\\n",
       "\t\\hline\n",
       "\t1 & 1 & 15 & -1 & -1 \\\\\n",
       "\t2 & 2 & 15 & -1 & -1 \\\\\n",
       "\t3 & 3 & 10 & 1 & -1 \\\\\n",
       "\t4 & 4 & 10 & 1 & -1 \\\\\n",
       "\t5 & 5 & 8 & 4 & -1 \\\\\n",
       "\t6 & 6 & 8 & -1 & 0 \\\\\n",
       "\t7 & 7 & 5 & 4 & -1 \\\\\n",
       "\t8 & 8 & 5 & 4 & -1 \\\\\n",
       "\t9 & 9 & 4 & -1 & 1 \\\\\n",
       "\t10 & 10 & 1 & 4 & -1 \\\\\n",
       "\\end{tabular}\n"
      ],
      "text/plain": [
       "\u001b[1m10×4 DataFrame\u001b[0m\n",
       "\u001b[1m Row \u001b[0m│\u001b[1m crew  \u001b[0m\u001b[1m rest_by \u001b[0m\u001b[1m current_fire \u001b[0m\u001b[1m rested_periods \u001b[0m\n",
       "\u001b[1m     \u001b[0m│\u001b[90m Int64 \u001b[0m\u001b[90m Int64   \u001b[0m\u001b[90m Int64        \u001b[0m\u001b[90m Int64          \u001b[0m\n",
       "─────┼──────────────────────────────────────────────\n",
       "   1 │     1       15            -1              -1\n",
       "   2 │     2       15            -1              -1\n",
       "   3 │     3       10             1              -1\n",
       "   4 │     4       10             1              -1\n",
       "   5 │     5        8             4              -1\n",
       "   6 │     6        8            -1               0\n",
       "   7 │     7        5             4              -1\n",
       "   8 │     8        5             4              -1\n",
       "   9 │     9        4            -1               1\n",
       "  10 │    10        1             4              -1"
      ]
     },
     "metadata": {},
     "output_type": "display_data"
    }
   ],
   "source": [
    "# number of crews\n",
    "C = 10\n",
    "\n",
    "# get inital fire perimeters and no-suppression progression parameters\n",
    "M = readdlm(\"data/processed/sample_growth_patterns.csv\", ',')\n",
    "start_perims = M[:, 1]\n",
    "progressions = M[:, 2:15]\n",
    "\n",
    "# time periods\n",
    "T = size(M)[2] - 1\n",
    "\n",
    "# number of fires\n",
    "G = size(M)[1]\n",
    "\n",
    "# get distance from fire f to fire g (dimension G-by-G)\n",
    "fire_dists =  readdlm(\"data/processed/fire_distances.csv\", ',')\n",
    "\n",
    "# get distance from base c to fire g (dimension C-by-G)\n",
    "base_fire_dists =  readdlm(\"data/processed/base_fire_distances.csv\", ',')\n",
    "\n",
    "# initialize travel times (number of periods) from fire f to fire g (dimension G-by-G)\n",
    "tau = convert(Array{Int}, ones(size(fire_dists)))\n",
    "\n",
    "# initialize travel times (number of periods) from base c to fire g (dimension C-by-G)\n",
    "tau_base_to_fire = convert(Array{Int}, ones((size(base_fire_dists))))\n",
    "\n",
    "# read intial crew statuses (location, period by which they must rest)\n",
    "# (-1 in current_fire means crew is currently at base)\n",
    "# (rested_periods is the amount of time crew has been at base, relevant for completing rest)\n",
    "crew_starts = CSV.read(\"data/processed/sample_crew_starts.csv\", DataFrame)\n",
    "rest_by = crew_starts[!, \"rest_by\"]\n",
    "current_fire = crew_starts[!, \"current_fire\"]\n",
    "rested_periods = crew_starts[!, \"rested_periods\"]\n",
    "\n",
    "# how long at base to be considered \"rested\"\n",
    "break_length = 2\n",
    "\n",
    "## some parameters that make tradeoffs reasonable ##\n",
    "\n",
    "# cost of one area unit burned / cost of mile traveled\n",
    "beta = 100\n",
    "\n",
    "# cost of crew-day of suppression / cost of mile traveled\n",
    "alpha = 200\n",
    "\n",
    "# how much perimeter prevented per crew per time period\n",
    "line_per_crew = 17\n",
    "\n",
    "display((C, T, G))\n",
    "display(base_fire_dists[1:C, 1:G])\n",
    "display(crew_starts)"
   ]
  },
  {
   "cell_type": "markdown",
   "id": "807d639b",
   "metadata": {},
   "source": [
    "## Define arc sets (most slippery part, should write a unit test)"
   ]
  },
  {
   "cell_type": "code",
   "execution_count": 3,
   "id": "02029579",
   "metadata": {},
   "outputs": [
    {
     "data": {
      "text/plain": [
       "((1989,), (663,), (669,), (304,))"
      ]
     },
     "execution_count": 3,
     "metadata": {},
     "output_type": "execute_result"
    }
   ],
   "source": [
    "## generate fire_to_fire index set\n",
    "\n",
    "# arcs for time-space network for non-rested crews\n",
    "non_rested_ff = [(c, f_from, f_to, t_from, t_from + tau[f_to, f_from], 0)\n",
    "                  for c=1:C, f_from=1:G, f_to=1:G, t_from=1:T\n",
    "                  if t_from <= rest_by[c]]\n",
    "\n",
    "# arcs for time-space network for rested crews\n",
    "rested_ff = [(c, f_from, f_to, t_from, t_from + tau[f_to, f_from], 1)\n",
    "               for c=1:C, f_from=1:G, f_to=1:G, t_from=1:T\n",
    "               if 1==1]\n",
    "\n",
    "# special arcs for first travel from initial fires\n",
    "from_start_ff = [(c, current_fire[c], f_to, 0, tau[f_to, current_fire[c]], 0)\n",
    "                  for c=1:C, f_to=1:G\n",
    "                  if current_fire[c] != -1]\n",
    "\n",
    "# concat\n",
    "ff_ix = vcat(non_rested_ff, rested_ff)\n",
    "ff_ix = vcat(from_start_ff, ff_ix)\n",
    "\n",
    "## generate fire_to_rest index set\n",
    "\n",
    "# arcs for time-space network for non-rested crews\n",
    "non_rested_fr = [(c, f_from, t_from, t_from + tau_base_to_fire[c, f_from], 0)\n",
    "                  for c=1:C, f_from=1:G, t_from=1:T\n",
    "                  if t_from <= rest_by[c]]\n",
    "\n",
    "# arcs for time-space network for rested crews\n",
    "rested_fr = [(c, f_from, t_from, t_from + tau_base_to_fire[c, f_from], 1)\n",
    "               for c=1:C, f_from=1:G, t_from=1:T\n",
    "               if 1==1]\n",
    "\n",
    "# special arcs for first travel from initial fires\n",
    "from_start_fr = [(c, current_fire[c], 0, tau_base_to_fire[c, current_fire[c]], 0)\n",
    "                  for c=1:C\n",
    "                  if current_fire[c] != -1]\n",
    "\n",
    "# concat\n",
    "fr_ix = vcat(non_rested_fr, rested_fr)\n",
    "fr_ix = vcat(from_start_fr, fr_ix)\n",
    "\n",
    "## generate rest_to_fire index set\n",
    "\n",
    "# arcs for time-space network when leaving base without rest\n",
    "non_rested_rf = [(c, f_to, t_from, t_from + tau_base_to_fire[c, f_to], 0)\n",
    "                   for c=1:C, f_to=1:G, t_from=1:T\n",
    "                   if t_from <= rest_by[c]]\n",
    "\n",
    "# arcs for time-space network when going non-rest -> rest\n",
    "rested_rf = [(c, f_to, t_from, t_from + tau_base_to_fire[c, f_to], 1)\n",
    "               for c=1:C, f_to=1:G, t_from=1:T\n",
    "               if 1==1]\n",
    "\n",
    "# special arcs for first travel from initial rest\n",
    "from_start_rf = [(c, f_to, 0, tau_base_to_fire[c, f_to], 0)\n",
    "                  for c=1:C, f_to=1:G\n",
    "                  if current_fire[c] == -1]\n",
    "\n",
    "# concat\n",
    "rf_ix = vcat(non_rested_rf, rested_rf)\n",
    "rf_ix = vcat(from_start_rf, rf_ix)\n",
    "\n",
    "## generate rest_to_rest index set\n",
    "## (crew, time_from, time_to, rested_From, rested_to)\n",
    "\n",
    "\n",
    "non_to_non_rested_rr = [(c, t_from, t_from + 1, 0, 0)\n",
    "                           for c=1:C, t_from=1:T\n",
    "                           if t_from <= rest_by[c]]\n",
    "\n",
    "non_to_yes_rested_rr = [(c, t_from, t_from + break_length, 0, 1)\n",
    "                           for c=1:C, t_from=1:T\n",
    "                           if t_from <= rest_by[c]]\n",
    "\n",
    "yes_rested_rr = [(c, t_from, t_from + 1, 1, 1)\n",
    "                   for c=1:C, t_from=1:T\n",
    "                    if 1==1]\n",
    "\n",
    "from_start_to_non_rested_rr = [(c, 0, 1, 0, 0) for c=1:C if current_fire[c] == -1]\n",
    "from_start_to_yes_rested_rr = [(c, 0, break_length - rested_periods[c], 0, 1) \n",
    "                                  for c=1:C \n",
    "                                  if (current_fire[c] == -1) & (rested_periods[c] != -1)]\n",
    "\n",
    "\n",
    "rr_ix = vcat(non_to_non_rested_rr, non_to_yes_rested_rr)\n",
    "rr_ix = vcat(rr_ix, yes_rested_rr)\n",
    "rr_ix = vcat(from_start_to_non_rested_rr, rr_ix)\n",
    "rr_ix = vcat(from_start_to_yes_rested_rr, rr_ix)\n",
    "\n",
    "ff_ix_arr = [[ix for ix in ff_ix if ix[1] == c] for c=1:C]\n",
    "fr_ix_arr = [[ix for ix in fr_ix if ix[1] == c] for c=1:C]\n",
    "rf_ix_arr = [[ix for ix in rf_ix if ix[1] == c] for c=1:C]\n",
    "rr_ix_arr = [[ix for ix in rr_ix if ix[1] == c] for c=1:C]\n",
    "\n",
    "size(ff_ix), size(fr_ix), size(rf_ix), size(rr_ix)"
   ]
  },
  {
   "cell_type": "markdown",
   "id": "10c63f2d",
   "metadata": {},
   "source": [
    "## Make model"
   ]
  },
  {
   "cell_type": "code",
   "execution_count": 4,
   "id": "3f2f3814",
   "metadata": {},
   "outputs": [
    {
     "name": "stdout",
     "output_type": "stream",
     "text": [
      "Academic license - for non-commercial use only\r\n"
     ]
    }
   ],
   "source": [
    "m = Model(Gurobi.Optimizer)\n",
    "\n",
    "# fire suppression plan section\n",
    "@variable(m, p[g=1:G, t=1:T+1] >= 0)\n",
    "@variable(m, l[g=1:G, t=1:T] >= 0)\n",
    "@constraint(m, perim_growth[g=1:G, t=1:T], p[g, t+1] >= progressions[g, t] * (p[g, t] - l[g, t] / 2)                                                             - l[g, t] / 2)\n",
    "@constraint(m, perim_start[g=1:G], p[g, 1] == start_perims[g])\n",
    "\n",
    "# routing plan section\n",
    "@variable(m, ff[ff_ix] >= 0)\n",
    "@variable(m, fr[fr_ix] >= 0)\n",
    "@variable(m, rf[rf_ix] >= 0)\n",
    "@variable(m, rr[rr_ix] >= 0)\n",
    "\n",
    "\n",
    "@constraint(m, fire_flow[c=1:C, g=1:G, t=1:T, rest=0:1],\n",
    "    \n",
    "            # outflow\n",
    "            sum(ff[key] for key in ff_ix_arr[c]\n",
    "                    if (key[2] == g) & (key[4] == t) & (key[6] == rest)\n",
    "                ) +    \n",
    "    \n",
    "            sum(fr[key] for key in fr_ix_arr[c]\n",
    "                        if (key[2] == g) & (key[3] == t) & (key[5] == rest)\n",
    "                ) \n",
    "    \n",
    "    ==\n",
    "            # inflow\n",
    "            sum(ff[key] for key in ff_ix_arr[c]\n",
    "                        if (key[3] == g) & (key[5] == t) & (key[6] == rest)\n",
    "                ) +\n",
    "    \n",
    "            sum(rf[key] for key in rf_ix_arr[c]\n",
    "                        if (key[2] == g) & (key[4] == t) & (key[5] == rest)\n",
    "                ) \n",
    "    \n",
    "            )   \n",
    "\n",
    "@constraint(m, rest_flow[c=1:C, t=1:T, rest=0:1], \n",
    "    \n",
    "            # outflow\n",
    "            sum(rf[key] for key in rf_ix_arr[c]\n",
    "                        if (key[3] == t) & (key[5] == rest)\n",
    "                ) +\n",
    "    \n",
    "            sum(rr[key] for key in rr_ix_arr[c]\n",
    "                        if (key[2] == t) & (key[4] == rest)\n",
    "                )\n",
    "    \n",
    "            ==       \n",
    "    \n",
    "            # inflow\n",
    "            sum(fr[key] for key in fr_ix_arr[c]\n",
    "                        if (key[4] == t) &  (key[5] == rest)\n",
    "                ) +\n",
    "            sum(rr[key] for key in rr_ix_arr[c]\n",
    "                        if (key[3] == t) & (key[5] == rest)\n",
    "                )\n",
    "           )\n",
    "\n",
    "@constraint(m, start[c=1:C], \n",
    "    \n",
    "    sum(ff[key] for key in from_start_ff if key[1] == c) + \n",
    "    sum(rf[key] for key in from_start_rf if key[1] == c) + \n",
    "    sum(fr[key] for key in from_start_fr if key[1] == c) + \n",
    "    sum(rr[key] for key in from_start_to_non_rested_rr if key[1] == c) + \n",
    "    sum(rr[key] for key in from_start_to_yes_rested_rr if key[1] == c)== 1\n",
    "           )\n",
    "\n",
    "\n",
    "# linking constraints\n",
    "@constraint(m, linking[g=1:G, t=1:T],\n",
    "    \n",
    "     sum(ff[key] for key in ff_ix if (key[3] == g) & (key[5] == t)) + \n",
    "     sum(rf[key] for key in rf_ix if (key[2] == g) & (key[4] == t))\n",
    "        >= l[g, t] / line_per_crew\n",
    "    \n",
    "           );"
   ]
  },
  {
   "cell_type": "markdown",
   "id": "4662e663",
   "metadata": {},
   "source": [
    "## Run model"
   ]
  },
  {
   "cell_type": "code",
   "execution_count": 5,
   "id": "9fec19fa",
   "metadata": {},
   "outputs": [
    {
     "name": "stdout",
     "output_type": "stream",
     "text": [
      "Gurobi Optimizer version 9.0.3 build v9.0.3rc0 (win64)\r\n",
      "Optimize a model with 1217 rows, 3712 columns and 9739 nonzeros\r\n",
      "Model fingerprint: 0x1d643ff0\r\n",
      "Coefficient statistics:\r\n",
      "  Matrix range     [6e-02, 4e+00]\r\n",
      "  Objective range  [3e+01, 9e+02]\r\n",
      "  Bounds range     [0e+00, 0e+00]\r\n",
      "  RHS range        [1e+00, 1e+03]\r\n",
      "Presolve removed 566 rows and 996 columns\r\n",
      "Presolve time: 0.01s\r\n",
      "Presolved: 651 rows, 2716 columns, 7469 nonzeros\r\n",
      "\r\n",
      "Iteration    Objective       Primal Inf.    Dual Inf.      Time\r\n",
      "       0    1.6295548e+05   3.567755e+02   0.000000e+00      0s\r\n",
      "    1136    1.1445329e+06   0.000000e+00   0.000000e+00      0s\r\n",
      "\r\n",
      "Solved in 1136 iterations and 0.03 seconds\r\n",
      "Optimal objective  1.144532856e+06\r\n",
      "\r\n",
      "User-callback calls 1183, time in user-callback 0.00 sec\r\n"
     ]
    }
   ],
   "source": [
    "@objective(m, Min, \n",
    "    beta * (sum(p) - sum(p[1:G, 1])/2 - sum(p[1:G, T+1])/2) + \n",
    "    sum(ff[key] * (alpha + fire_dists[key[2], key[3]]) for key in ff_ix) +\n",
    "    sum(fr[key] * (base_fire_dists[key[1], key[2]]) for key in fr_ix) + \n",
    "    sum(rf[key] * (alpha + base_fire_dists[key[1], key[2]]) for key in rf_ix)\n",
    "\n",
    ")\n",
    "\n",
    "optimize!(m);"
   ]
  },
  {
   "cell_type": "code",
   "execution_count": 6,
   "id": "e332e9cf",
   "metadata": {
    "scrolled": true
   },
   "outputs": [
    {
     "name": "stdout",
     "output_type": "stream",
     "text": [
      "3×15 Matrix{Float64}:\n",
      " 1000.0  1500.0  1500.0  1500.0  1350.0  1167.5  937.7  627.76  379.808  181.446  40.3125  0.0  0.0  0.0  0.0\n",
      "  500.0   500.0   375.0   222.0    69.0     0.0    0.0    0.0     0.0      0.0     0.0     0.0  0.0  0.0  0.0\n",
      "  100.0    17.5     0.0     0.0     0.0     0.0    0.0    0.0     0.0      0.0     0.0     0.0  0.0  0.0  0.0\n",
      "\n",
      "3×14 Matrix{Float64}:\n",
      " 0.0  0.0      0.0  0.0  2.94118  7.0  8.0  8.0  8.0  6.0  1.95285  0.0  0.0  0.0\n",
      " 0.0  7.35294  9.0  9.0  4.05882  0.0  0.0  0.0  0.0  0.0  0.0      0.0  0.0  0.0\n",
      " 9.0  1.64706  0.0  0.0  0.0      0.0  0.0  0.0  0.0  0.0  0.0      0.0  0.0  0.0"
     ]
    }
   ],
   "source": [
    "# show the perimeter progressions and number of crews suppressing\n",
    "show(stdout, \"text/plain\", value.(p))\n",
    "print(\"\\n\\n\")\n",
    "show(stdout, \"text/plain\", value.(l)/line_per_crew)"
   ]
  },
  {
   "cell_type": "code",
   "execution_count": 7,
   "id": "75cc14fc",
   "metadata": {},
   "outputs": [
    {
     "name": "stdout",
     "output_type": "stream",
     "text": [
      "3×14 Matrix{Float64}:\n",
      " 15190.8  10452.6  8752.61  7444.42  6477.14  5402.38  4485.05  3693.81  2704.76  1585.0  200.0  -0.0  -0.0  -0.0\n",
      " 13277.1  11577.1  9877.14  8177.14  6477.14  4777.14  3077.14  1377.14    -0.0     -0.0   -0.0  -0.0  -0.0  -0.0\n",
      " 50558.6  11577.1  3400.0     -0.0     -0.0     -0.0     -0.0     -0.0     -0.0     -0.0   -0.0  -0.0  -0.0  -0.0"
     ]
    }
   ],
   "source": [
    "show(stdout, \"text/plain\", dual.(linking))"
   ]
  },
  {
   "cell_type": "markdown",
   "id": "6f6ceadf",
   "metadata": {},
   "source": [
    "## Generate starting columns for CG approach"
   ]
  },
  {
   "cell_type": "markdown",
   "id": "51739460",
   "metadata": {},
   "source": [
    "### Fire suppression plans"
   ]
  },
  {
   "cell_type": "code",
   "execution_count": 8,
   "id": "753de8ce",
   "metadata": {},
   "outputs": [
    {
     "data": {
      "text/plain": [
       "fire_plan_cost (generic function with 1 method)"
      ]
     },
     "execution_count": 8,
     "metadata": {},
     "output_type": "execute_result"
    }
   ],
   "source": [
    "function fire_plan_cost(start_perim, line_per_day, progression)\n",
    "    \n",
    "    perim = start_perim\n",
    "    area = 0\n",
    "    new_perim = 0\n",
    "    for i in 1:length(progression)\n",
    "        new_perim = (perim - line_per_day[i]/2) * progression[i] - line_per_day[i]/2\n",
    "        new_perim = max(new_perim, 0)\n",
    "        area = area + perim/2 + new_perim/2\n",
    "        perim = new_perim\n",
    "    end\n",
    "    area\n",
    "end"
   ]
  },
  {
   "cell_type": "code",
   "execution_count": 9,
   "id": "869b6470",
   "metadata": {},
   "outputs": [
    {
     "data": {
      "text/plain": [
       "perturb (generic function with 1 method)"
      ]
     },
     "execution_count": 9,
     "metadata": {},
     "output_type": "execute_result"
    }
   ],
   "source": [
    "function perturb(list, round_ix, first, last, amount)\n",
    "    [i in round_ix[first+1:last] ? list[i] + amount : list[i] for i in 1:length(list)]\n",
    "end\n",
    "    "
   ]
  },
  {
   "cell_type": "code",
   "execution_count": 10,
   "id": "39f40444",
   "metadata": {},
   "outputs": [
    {
     "data": {
      "text/plain": [
       "suppression_plan_dummies (generic function with 1 method)"
      ]
     },
     "execution_count": 10,
     "metadata": {},
     "output_type": "execute_result"
    }
   ],
   "source": [
    "function suppression_plan_dummies(plans_per_fire)\n",
    "\n",
    "    # initialize list of number of perturbations found for each fire (current process might not yield\n",
    "    # enough plans)\n",
    "\n",
    "    # for each fire\n",
    "    for fire in 1:G\n",
    "\n",
    "        assignments = (value.(l)/line_per_crew)[fire, 1:T]\n",
    "        assignments = round.(assignments)\n",
    "\n",
    "        plan = 0\n",
    "        perturb_amount = 1\n",
    "        ix_to_round = [i for i in 1:T if (assignments[i] > perturb_amount - 0.99) & \n",
    "                                         (assignments[i] + perturb_amount < C + 0.01)]\n",
    "\n",
    "        while (plan < plans_per_fire) & (length(ix_to_round) > 0)\n",
    "\n",
    "            ixs = [(i, j) for i in 0:length(ix_to_round) for j in 0:length(ix_to_round) if i < j]\n",
    "\n",
    "            for ix in ixs\n",
    "                perturbed_up = perturb(assignments, ix_to_round, ix[1], ix[2], perturb_amount)\n",
    "                perturbed_down = perturb(assignments, ix_to_round, ix[1], ix[2], -perturb_amount)\n",
    "\n",
    "                plan = plan + 1\n",
    "                if plan <= plans_per_fire\n",
    "                    found_plans[fire] = plan\n",
    "                    B[plan, fire, :] = perturbed_up\n",
    "\n",
    "                    fire_costs[plan, fire] = beta * fire_plan_cost(start_perims[fire], \n",
    "                                                       perturbed_up * line_per_crew, \n",
    "                                                       progressions[fire, :])\n",
    "                end\n",
    "\n",
    "                plan = plan + 1\n",
    "                if plan <= plans_per_fire\n",
    "                    found_plans[fire] = plan\n",
    "                    B[plan, fire, :] = perturbed_down\n",
    "\n",
    "                    fire_costs[plan, fire] = beta * fire_plan_cost(start_perims[fire], \n",
    "                                                       perturbed_down * line_per_crew, \n",
    "                                                       progressions[fire, :])\n",
    "                end\n",
    "            end\n",
    "            perturb_amount = perturb_amount + 1\n",
    "            ix_to_round = [i for i in 1:T if (assignments[i] > perturb_amount - 0.99) & \n",
    "                                     (assignments[i] + perturb_amount < C + 0.01)]\n",
    "        end\n",
    "\n",
    "    end\n",
    "end"
   ]
  },
  {
   "cell_type": "code",
   "execution_count": 11,
   "id": "a566c044",
   "metadata": {},
   "outputs": [
    {
     "data": {
      "text/plain": [
       "routes_from_plan (generic function with 1 method)"
      ]
     },
     "execution_count": 11,
     "metadata": {},
     "output_type": "execute_result"
    }
   ],
   "source": [
    "function routes_from_plan(plans_arr, supp_plans)\n",
    "    \n",
    "    m = Model(Gurobi.Optimizer)\n",
    "    set_optimizer_attribute(m, \"OutputFlag\", 0)\n",
    "\n",
    "\n",
    "    # routing plan section\n",
    "    @variable(m, ff[ff_ix], Bin)\n",
    "    @variable(m, fr[fr_ix], Bin)\n",
    "    @variable(m, rf[rf_ix], Bin)\n",
    "    @variable(m, rr[rr_ix], Bin)\n",
    "\n",
    "\n",
    "    @constraint(m, fire_flow[c=1:C, g=1:G, t=1:T, rest=0:1],\n",
    "\n",
    "                # outflow\n",
    "                sum(ff[key] for key in ff_ix_arr[c]\n",
    "                        if (key[2] == g) & (key[4] == t) & (key[6] == rest)\n",
    "                    ) +    \n",
    "\n",
    "                sum(fr[key] for key in fr_ix_arr[c]\n",
    "                            if (key[2] == g) & (key[3] == t) & (key[5] == rest)\n",
    "                    ) \n",
    "\n",
    "        ==\n",
    "                # inflow\n",
    "                sum(ff[key] for key in ff_ix_arr[c]\n",
    "                            if (key[3] == g) & (key[5] == t) & (key[6] == rest)\n",
    "                    ) +\n",
    "\n",
    "                sum(rf[key] for key in rf_ix_arr[c]\n",
    "                            if (key[2] == g) & (key[4] == t) & (key[5] == rest)\n",
    "                    ) \n",
    "\n",
    "                )   \n",
    "\n",
    "    @constraint(m, rest_flow[c=1:C, t=1:T, rest=0:1], \n",
    "\n",
    "                # outflow\n",
    "                sum(rf[key] for key in rf_ix_arr[c]\n",
    "                            if (key[3] == t) & (key[5] == rest)\n",
    "                    ) +\n",
    "\n",
    "                sum(rr[key] for key in rr_ix_arr[c]\n",
    "                            if (key[2] == t) & (key[4] == rest)\n",
    "                    )\n",
    "\n",
    "                ==       \n",
    "\n",
    "                # inflow\n",
    "                sum(fr[key] for key in fr_ix_arr[c]\n",
    "                            if (key[4] == t) &  (key[5] == rest)\n",
    "                    ) +\n",
    "                sum(rr[key] for key in rr_ix_arr[c]\n",
    "                            if (key[3] == t) & (key[5] == rest)\n",
    "                    )\n",
    "               )\n",
    "\n",
    "    @constraint(m, start[c=1:C], \n",
    "\n",
    "        sum(ff[key] for key in from_start_ff if key[1] == c) + \n",
    "        sum(rf[key] for key in from_start_rf if key[1] == c) + \n",
    "        sum(fr[key] for key in from_start_fr if key[1] == c) + \n",
    "        sum(rr[key] for key in from_start_to_non_rested_rr if key[1] == c) + \n",
    "        sum(rr[key] for key in from_start_to_yes_rested_rr if key[1] == c)== 1\n",
    "               )\n",
    "\n",
    "\n",
    "    # linking constraints\n",
    "    @constraint(m, linking[g=1:G, t=1:T],\n",
    "\n",
    "         sum(ff[key] for key in ff_ix if (key[3] == g) & (key[5] == t)) + \n",
    "         sum(rf[key] for key in rf_ix if (key[2] == g) & (key[4] == t))\n",
    "            >= supp_plans[plans_arr[g], g, t]\n",
    "\n",
    "               );\n",
    "\n",
    "    @objective(m, Min, \n",
    "        sum(ff[key] * (alpha + fire_dists[key[2], key[3]]) for key in ff_ix) +\n",
    "        sum(fr[key] * (base_fire_dists[key[1], key[2]]) for key in fr_ix) + \n",
    "        sum(rf[key] * (alpha + base_fire_dists[key[1], key[2]]) for key in rf_ix)\n",
    "    )\n",
    "\n",
    "    optimize!(m)\n",
    "    \n",
    "    opt = false\n",
    "    fires_fought = [(0)]\n",
    "    route_costs = [1]\n",
    "    if termination_status(m) == MOI.OPTIMAL\n",
    "        opt = true\n",
    "        fires_fought = vcat([(ix[1], ix[3], ix[5]) for ix in ff_ix if (value(ff[ix]) > 0.99)],\n",
    "                        [(ix[1], ix[2], ix[4]) for ix in rf_ix if (value(rf[ix]) > 0.99)])\n",
    "        \n",
    "        route_costs = \n",
    "        [sum(value(ff[key]) * (alpha + fire_dists[key[2], key[3]]) for key in ff_ix_arr[crew]) +\n",
    "        sum(value(fr[key]) * (base_fire_dists[key[1], key[2]]) for key in fr_ix_arr[crew]) + \n",
    "        sum(value(rf[key]) * (alpha + base_fire_dists[key[1], key[2]]) for key in rf_ix_arr[crew])\n",
    "            for crew = 1:C]\n",
    "    end\n",
    "    opt, fires_fought, route_costs\n",
    "end"
   ]
  },
  {
   "cell_type": "code",
   "execution_count": 12,
   "id": "01cac190",
   "metadata": {},
   "outputs": [
    {
     "data": {
      "text/plain": [
       "get_dummy_routes_from_initial_plans (generic function with 1 method)"
      ]
     },
     "execution_count": 12,
     "metadata": {},
     "output_type": "execute_result"
    }
   ],
   "source": [
    "function get_dummy_routes_from_initial_plans(num_fire_plans_to_try)\n",
    "    \n",
    "    fire_plans = unique([[rand(1:found_plans[g]) for g in 1:G] for i in 1:20*num_fire_plans_to_try])\n",
    "    fire_plans = [i for i in fire_plans if sum(mod.(i, 2)) == 0][1:num_fire_plans_to_try]\n",
    "    all_routes = [routes_from_plan(sample, B) for sample in fire_plans]\n",
    "    dummy = routes_from_plan([1, 1, 1], zeros(size(B)))\n",
    "    all_routes = vcat(all_routes, dummy)\n",
    "    routes_by_crew = [unique(x->x[1], [(sort([i for i in route[2] if i[1] == c]), route[3][c]) \n",
    "                                                    for route in all_routes if route[1] == 1])\n",
    "                            for c=1:C]\n",
    "    costs_per_route_by_crew = [[i[2] for i in routes_by_crew[c]] for c in 1:C]\n",
    "    routes_by_crew = [[i[1] for i in routes_by_crew[c]] for c in 1:C]\n",
    "    \n",
    "    routes_by_crew, costs_per_route_by_crew\n",
    "end "
   ]
  },
  {
   "cell_type": "code",
   "execution_count": 13,
   "id": "3fea1c6c",
   "metadata": {},
   "outputs": [
    {
     "data": {
      "text/plain": [
       "update_A_from_routs_and_costs (generic function with 1 method)"
      ]
     },
     "execution_count": 13,
     "metadata": {},
     "output_type": "execute_result"
    }
   ],
   "source": [
    "function update_A_from_routs_and_costs(routs, rout_costs)\n",
    "    for c=1:C\n",
    "        for plan=1:length(rout_costs[c])\n",
    "            assignments = routs[c][plan]\n",
    "            for assignment in assignments\n",
    "                if assignment[3] <= T + 0.001\n",
    "                    A[plan, assignment[1], assignment[2], assignment[3]] = 1\n",
    "                end\n",
    "            end\n",
    "        end\n",
    "    end\n",
    "end"
   ]
  },
  {
   "cell_type": "code",
   "execution_count": 14,
   "id": "cd5fd3f9",
   "metadata": {},
   "outputs": [
    {
     "data": {
      "text/plain": [
       "init_route_subproblem (generic function with 1 method)"
      ]
     },
     "execution_count": 14,
     "metadata": {},
     "output_type": "execute_result"
    }
   ],
   "source": [
    "function init_route_subproblem(crew)\n",
    "    \n",
    "    m = Model(Gurobi.Optimizer)\n",
    "    set_optimizer_attribute(m, \"OutputFlag\", 0)\n",
    "\n",
    "    # routing plan section\n",
    "    @variable(m, ff[ff_ix_arr[crew]] >= 0)\n",
    "    @variable(m, fr[fr_ix_arr[crew]] >= 0)\n",
    "    @variable(m, rf[rf_ix_arr[crew]] >= 0)\n",
    "    @variable(m, rr[rr_ix_arr[crew]] >= 0)\n",
    "\n",
    "\n",
    "    @constraint(m, fire_flow[g=1:G, t=1:T, rest=0:1],\n",
    "\n",
    "                # outflow\n",
    "                sum(ff[key] for key in ff_ix_arr[crew]\n",
    "                        if (key[2] == g) & (key[4] == t) & (key[6] == rest)\n",
    "                    ) +    \n",
    "\n",
    "                sum(fr[key] for key in fr_ix_arr[crew]\n",
    "                            if (key[2] == g) & (key[3] == t) & (key[5] == rest)\n",
    "                    ) \n",
    "\n",
    "        ==\n",
    "                # inflow\n",
    "                sum(ff[key] for key in ff_ix_arr[crew]\n",
    "                            if (key[3] == g) & (key[5] == t) & (key[6] == rest)\n",
    "                    ) +\n",
    "\n",
    "                sum(rf[key] for key in rf_ix_arr[crew]\n",
    "                            if (key[2] == g) & (key[4] == t) & (key[5] == rest)\n",
    "                    ) \n",
    "\n",
    "                )   \n",
    "\n",
    "    @constraint(m, rest_flow[t=1:T, rest=0:1], \n",
    "\n",
    "                # outflow\n",
    "                sum(rf[key] for key in rf_ix_arr[crew]\n",
    "                            if (key[3] == t) & (key[5] == rest)\n",
    "                    ) +\n",
    "\n",
    "                sum(rr[key] for key in rr_ix_arr[crew]\n",
    "                            if (key[2] == t) & (key[4] == rest)\n",
    "                    )\n",
    "\n",
    "                ==       \n",
    "\n",
    "                # inflow\n",
    "                sum(fr[key] for key in fr_ix_arr[crew]\n",
    "                            if (key[4] == t) &  (key[5] == rest)\n",
    "                    ) +\n",
    "                sum(rr[key] for key in rr_ix_arr[crew]\n",
    "                            if (key[3] == t) & (key[5] == rest)\n",
    "                    )\n",
    "               )\n",
    "\n",
    "    @constraint(m, start, \n",
    "        sum(ff[key] for key in from_start_ff if key[1] == crew) + \n",
    "        sum(rf[key] for key in from_start_rf if key[1] == crew) + \n",
    "        sum(fr[key] for key in from_start_fr if key[1] == crew) + \n",
    "        sum(rr[key] for key in from_start_to_non_rested_rr if key[1] == crew) + \n",
    "        sum(rr[key] for key in from_start_to_yes_rested_rr if key[1] == crew)== 1\n",
    "               )\n",
    "\n",
    "    m, ff, fr, rf\n",
    "end"
   ]
  },
  {
   "cell_type": "code",
   "execution_count": null,
   "id": "176a5f2d",
   "metadata": {},
   "outputs": [],
   "source": []
  },
  {
   "cell_type": "code",
   "execution_count": 15,
   "id": "61b93c35",
   "metadata": {},
   "outputs": [
    {
     "data": {
      "text/plain": [
       "route_subproblem (generic function with 1 method)"
      ]
     },
     "execution_count": 15,
     "metadata": {},
     "output_type": "execute_result"
    }
   ],
   "source": [
    "function route_subproblem(rho, crew, subproblem_models_arr)\n",
    "    \n",
    "    model_info = subproblem_models_arr[crew]\n",
    "    m = model_info[\"m\"]\n",
    "    ff = model_info[\"ff\"]\n",
    "    fr = model_info[\"fr\"]\n",
    "    rf = model_info[\"rf\"]\n",
    "    \n",
    "    @objective(m, Min, \n",
    "    sum(ff[key] * (alpha + fire_dists[key[2], key[3]]) for key in ff_ix_arr[crew]) +\n",
    "    sum(fr[key] * (base_fire_dists[key[1], key[2]]) for key in fr_ix_arr[crew]) + \n",
    "    sum(rf[key] * (alpha + base_fire_dists[key[1], key[2]]) for key in rf_ix_arr[crew]) -\n",
    "\n",
    "    sum(ff[key] * rho[key[3], key[5]] for key in ff_ix_arr[crew] if key[5] <= T) -\n",
    "    sum(rf[key] * rho[key[2], key[4]] for key in rf_ix_arr[crew] if key[4] <= T)\n",
    "    )\n",
    "\n",
    "    optimize!(m)\n",
    "    \n",
    "    fires_fought = vcat([(ix[1], ix[3], ix[5]) for ix in ff_ix_arr[crew] if (value(ff[ix]) > 0.99)],\n",
    "                        [(ix[1], ix[2], ix[4]) for ix in rf_ix_arr[crew] if (value(rf[ix]) > 0.99)])\n",
    "        \n",
    "    route_cost = \n",
    "    sum(value(ff[key]) * (alpha + fire_dists[key[2], key[3]]) for key in ff_ix_arr[crew]) +\n",
    "    sum(value(fr[key]) * (base_fire_dists[key[1], key[2]]) for key in fr_ix_arr[crew]) + \n",
    "    sum(value(rf[key]) * (alpha + base_fire_dists[key[1], key[2]]) for key in rf_ix_arr[crew])\n",
    "    \n",
    "    objective_value(m), sort(fires_fought), route_cost\n",
    "    \n",
    "end"
   ]
  },
  {
   "cell_type": "code",
   "execution_count": 16,
   "id": "7ecfae69",
   "metadata": {},
   "outputs": [
    {
     "data": {
      "text/plain": [
       "route_subproblem (generic function with 2 methods)"
      ]
     },
     "execution_count": 16,
     "metadata": {},
     "output_type": "execute_result"
    }
   ],
   "source": [
    "function route_subproblem(rho, crew)\n",
    "    \n",
    "    m = Model(Gurobi.Optimizer)\n",
    "    set_optimizer_attribute(m, \"OutputFlag\", 0)\n",
    "\n",
    "\n",
    "    # routing plan section\n",
    "    @variable(m, ff[ff_ix_arr[crew]] >= 0)\n",
    "    @variable(m, fr[fr_ix_arr[crew]] >= 0)\n",
    "    @variable(m, rf[rf_ix_arr[crew]] >= 0)\n",
    "    @variable(m, rr[rr_ix_arr[crew]] >= 0)\n",
    "\n",
    "\n",
    "    @constraint(m, fire_flow[g=1:G, t=1:T, rest=0:1],\n",
    "\n",
    "                # outflow\n",
    "                sum(ff[key] for key in ff_ix_arr[crew]\n",
    "                        if (key[2] == g) & (key[4] == t) & (key[6] == rest)\n",
    "                    ) +    \n",
    "\n",
    "                sum(fr[key] for key in fr_ix_arr[crew]\n",
    "                            if (key[2] == g) & (key[3] == t) & (key[5] == rest)\n",
    "                    ) \n",
    "\n",
    "        ==\n",
    "                # inflow\n",
    "                sum(ff[key] for key in ff_ix_arr[crew]\n",
    "                            if (key[3] == g) & (key[5] == t) & (key[6] == rest)\n",
    "                    ) +\n",
    "\n",
    "                sum(rf[key] for key in rf_ix_arr[crew]\n",
    "                            if (key[2] == g) & (key[4] == t) & (key[5] == rest)\n",
    "                    ) \n",
    "\n",
    "                )   \n",
    "\n",
    "    @constraint(m, rest_flow[t=1:T, rest=0:1], \n",
    "\n",
    "                # outflow\n",
    "                sum(rf[key] for key in rf_ix_arr[crew]\n",
    "                            if (key[3] == t) & (key[5] == rest)\n",
    "                    ) +\n",
    "\n",
    "                sum(rr[key] for key in rr_ix_arr[crew]\n",
    "                            if (key[2] == t) & (key[4] == rest)\n",
    "                    )\n",
    "\n",
    "                ==       \n",
    "\n",
    "                # inflow\n",
    "                sum(fr[key] for key in fr_ix_arr[crew]\n",
    "                            if (key[4] == t) &  (key[5] == rest)\n",
    "                    ) +\n",
    "                sum(rr[key] for key in rr_ix_arr[crew]\n",
    "                            if (key[3] == t) & (key[5] == rest)\n",
    "                    )\n",
    "               )\n",
    "\n",
    "    @constraint(m, start, \n",
    "        sum(ff[key] for key in from_start_ff if key[1] == crew) + \n",
    "        sum(rf[key] for key in from_start_rf if key[1] == crew) + \n",
    "        sum(fr[key] for key in from_start_fr if key[1] == crew) + \n",
    "        sum(rr[key] for key in from_start_to_non_rested_rr if key[1] == crew) + \n",
    "        sum(rr[key] for key in from_start_to_yes_rested_rr if key[1] == crew)== 1\n",
    "               )\n",
    "\n",
    "\n",
    "    @objective(m, Min, \n",
    "        sum(ff[key] * (alpha + fire_dists[key[2], key[3]]) for key in ff_ix_arr[crew]) +\n",
    "        sum(fr[key] * (base_fire_dists[key[1], key[2]]) for key in fr_ix_arr[crew]) + \n",
    "        sum(rf[key] * (alpha + base_fire_dists[key[1], key[2]]) for key in rf_ix_arr[crew]) -\n",
    "        \n",
    "        sum(ff[key] * rho[key[3], key[5]] for key in ff_ix_arr[crew] if key[5] <= T) -\n",
    "        sum(rf[key] * rho[key[2], key[4]] for key in rf_ix_arr[crew] if key[4] <= T)\n",
    "    )\n",
    "\n",
    "    optimize!(m)\n",
    "    \n",
    "    fires_fought = vcat([(ix[1], ix[3], ix[5]) for ix in ff_ix_arr[crew] if (value(ff[ix]) > 0.99)],\n",
    "                        [(ix[1], ix[2], ix[4]) for ix in rf_ix_arr[crew] if (value(rf[ix]) > 0.99)])\n",
    "        \n",
    "    route_cost = \n",
    "    sum(value(ff[key]) * (alpha + fire_dists[key[2], key[3]]) for key in ff_ix_arr[crew]) +\n",
    "    sum(value(fr[key]) * (base_fire_dists[key[1], key[2]]) for key in fr_ix_arr[crew]) + \n",
    "    sum(value(rf[key]) * (alpha + base_fire_dists[key[1], key[2]]) for key in rf_ix_arr[crew])\n",
    "    \n",
    "    objective_value(m), sort(fires_fought), route_cost\n",
    "end"
   ]
  },
  {
   "cell_type": "markdown",
   "id": "4ace1da0",
   "metadata": {},
   "source": [
    "# Run CG step"
   ]
  },
  {
   "cell_type": "code",
   "execution_count": 17,
   "id": "76324a6d",
   "metadata": {},
   "outputs": [
    {
     "data": {
      "text/plain": [
       "add_routes (generic function with 1 method)"
      ]
     },
     "execution_count": 17,
     "metadata": {},
     "output_type": "execute_result"
    }
   ],
   "source": [
    "function add_routes()\n",
    "    \n",
    "    pi = dual.(plan_per_fire)\n",
    "    sigma = dual.(route_per_crew)\n",
    "    rho = dual.(cover_plans)\n",
    "    \n",
    "    found = 0\n",
    "    for c in 1:C\n",
    "        relative_cost, new_route, raw_cost = route_subproblem(rho, c, route_subproblem_models)\n",
    "        if relative_cost < sigma[c] - 0.000001\n",
    "            push!(routes[c], new_route)\n",
    "            push!(route_costs[c], raw_cost)\n",
    "            found += 1\n",
    "        end\n",
    "    end\n",
    "    found\n",
    "end"
   ]
  },
  {
   "cell_type": "code",
   "execution_count": 18,
   "id": "56606670",
   "metadata": {},
   "outputs": [
    {
     "data": {
      "text/plain": [
       "add_suppression_plans (generic function with 1 method)"
      ]
     },
     "execution_count": 18,
     "metadata": {},
     "output_type": "execute_result"
    }
   ],
   "source": [
    "function add_suppression_plans()\n",
    "    \n",
    "    pi = dual.(plan_per_fire)\n",
    "    sigma = dual.(route_per_crew)\n",
    "    rho = dual.(cover_plans)\n",
    "    \n",
    "    found = 0\n",
    "    for g in 1:G\n",
    "        current_plans = found_plans[g]\n",
    "        model_info = fire_subproblem_models[g]\n",
    "        m = model_info[\"m\"]\n",
    "        p = model_info[\"p\"]\n",
    "        d = model_info[\"d\"]\n",
    "        relative_cost, new_plan, new_plan_cost, perims = suppression_plan_subproblem(g, m, p, d, rho)\n",
    "        if relative_cost < pi[g] - 0.000001\n",
    "            found += 1\n",
    "            current_plans += 1\n",
    "            B[current_plans, g, :] = new_plan\n",
    "            fire_costs[current_plans, g] = beta * fire_plan_cost(start_perims[g], \n",
    "                                               new_plan * line_per_crew, \n",
    "                                               progressions[g, :])\n",
    "        end\n",
    "        found_plans[g] = current_plans\n",
    "    end\n",
    "    found\n",
    "end "
   ]
  },
  {
   "cell_type": "code",
   "execution_count": 19,
   "id": "b4b3b48b",
   "metadata": {},
   "outputs": [
    {
     "ename": "LoadError",
     "evalue": "UndefVarError: fire_subproblem_models not defined",
     "output_type": "error",
     "traceback": [
      "UndefVarError: fire_subproblem_models not defined",
      "",
      "Stacktrace:",
      " [1] top-level scope",
      "   @ In[19]:1",
      " [2] eval",
      "   @ .\\boot.jl:373 [inlined]",
      " [3] include_string(mapexpr::typeof(REPL.softscope), mod::Module, code::String, filename::String)",
      "   @ Base .\\loading.jl:1196"
     ]
    }
   ],
   "source": [
    "fire_subproblem_models[1][\"m\"]"
   ]
  },
  {
   "cell_type": "code",
   "execution_count": 20,
   "id": "561ccd92",
   "metadata": {},
   "outputs": [
    {
     "data": {
      "text/plain": [
       "init_suppression_plan_subproblem (generic function with 1 method)"
      ]
     },
     "execution_count": 20,
     "metadata": {},
     "output_type": "execute_result"
    }
   ],
   "source": [
    "function init_suppression_plan_subproblem(g)\n",
    "    \n",
    "    m = Model(Gurobi.Optimizer)\n",
    "    set_optimizer_attribute(m, \"OutputFlag\", 0)\n",
    "\n",
    "    # fire suppression plan section\n",
    "    @variable(m, p[t=1:T+1] >= 0)\n",
    "    @variable(m, l[t=1:T] >= 0)\n",
    "    @variable(m, C >= d[t=1:T] >= 0, Int)\n",
    "    @constraint(m, suppression_per_crew[t=1:T], l[t] <= d[t] * line_per_crew)\n",
    "    @constraint(m, perim_growth[t=1:T], p[t+1] >= progressions[g, t] * (p[t] - l[t] / 2) - l[t] / 2)\n",
    "    @constraint(m, perim_start, p[1] == start_perims[g])\n",
    "    \n",
    "    @objective(m, Min, beta * (sum(p) - p[1]/2 - p[T+1]/2))\n",
    "    \n",
    "    m, p, d\n",
    "end"
   ]
  },
  {
   "cell_type": "code",
   "execution_count": 32,
   "id": "8c73bdbd",
   "metadata": {},
   "outputs": [
    {
     "data": {
      "text/plain": [
       "init_suppression_plan_subproblem_to_perturb (generic function with 1 method)"
      ]
     },
     "execution_count": 32,
     "metadata": {},
     "output_type": "execute_result"
    }
   ],
   "source": [
    "function init_suppression_plan_subproblem_to_perturb(g)\n",
    "    \n",
    "    m = Model(Gurobi.Optimizer)\n",
    "    set_optimizer_attribute(m, \"OutputFlag\", 0)\n",
    "\n",
    "    # fire suppression plan section\n",
    "    @variable(m, p[t=1:T+1] >= 0)\n",
    "    @variable(m, l[t=1:T] >= 0)\n",
    "    @variable(m, d[t=1:T] >= 0, Int)\n",
    "    @constraint(m, suppression_per_crew[t=1:T], l[t] <= d[t] * line_per_crew)\n",
    "    @constraint(m, perim_growth[t=1:T], p[t+1] >= progressions[g, t] * (p[t] - l[t] / 2) - l[t] / 2)\n",
    "    @constraint(m, perim_start, p[1] == start_perims[g])\n",
    "    @constraint(m, improve, 0 == 0)\n",
    "    \n",
    "    @objective(m, Min, sum(d))\n",
    "    \n",
    "    m, p, d, improve\n",
    "end"
   ]
  },
  {
   "cell_type": "code",
   "execution_count": 35,
   "id": "bb18c151",
   "metadata": {},
   "outputs": [
    {
     "data": {
      "text/latex": [
       "improve : $ 0 = 0.0 $"
      ],
      "text/plain": [
       "improve : 0 == 0.0"
      ]
     },
     "execution_count": 35,
     "metadata": {},
     "output_type": "execute_result"
    }
   ],
   "source": [
    "improve"
   ]
  },
  {
   "cell_type": "code",
   "execution_count": null,
   "id": "2deceb20",
   "metadata": {},
   "outputs": [],
   "source": [
    "function suppression_plan_subproblem(g, model, p, d, rho, pi_g)\n",
    "    \n",
    "    @objective(model, Min, beta * (sum(p) - p[1]/2 - p[T+1]/2) + \n",
    "                       sum(d[t] * (rho[g, t] + 0.0001 * t) for t=1:T)\n",
    "    )\n",
    "        \n",
    "    optimize!(model)\n",
    "        \n",
    "    objective_value(model) - sum(value(d[t]) * 0.0001 * t for t=1:T), \n",
    "    value.(d), \n",
    "    objective_value(model) - sum(value(d[t]) * (rho[g, t] + 0.0001 * t) for t=1:T), \n",
    "    value.(p)\n",
    "end"
   ]
  },
  {
   "cell_type": "code",
   "execution_count": 21,
   "id": "cbaadef9",
   "metadata": {},
   "outputs": [
    {
     "data": {
      "text/plain": [
       "suppression_plan_subproblem (generic function with 1 method)"
      ]
     },
     "execution_count": 21,
     "metadata": {},
     "output_type": "execute_result"
    }
   ],
   "source": [
    "function suppression_plan_subproblem(g, model, p, d, rho)\n",
    "    \n",
    "    @objective(model, Min, beta * (sum(p) - p[1]/2 - p[T+1]/2) + \n",
    "                       sum(d[t] * (rho[g, t] + 0.0001 * t) for t=1:T)\n",
    "    )\n",
    "        \n",
    "    optimize!(model)\n",
    "        \n",
    "    objective_value(model) - sum(value(d[t]) * 0.0001 * t for t=1:T), \n",
    "    value.(d), \n",
    "    objective_value(model) - sum(value(d[t]) * (rho[g, t] + 0.0001 * t) for t=1:T), \n",
    "    value.(p)\n",
    "end"
   ]
  },
  {
   "cell_type": "code",
   "execution_count": 22,
   "id": "ba1afb24",
   "metadata": {},
   "outputs": [
    {
     "data": {
      "text/plain": [
       "suppression_plan_subproblem (generic function with 2 methods)"
      ]
     },
     "execution_count": 22,
     "metadata": {},
     "output_type": "execute_result"
    }
   ],
   "source": [
    "function suppression_plan_subproblem(g, rho)\n",
    "    \n",
    "    m = Model(Gurobi.Optimizer)\n",
    "    set_optimizer_attribute(m, \"OutputFlag\", 0)\n",
    "\n",
    "    # fire suppression plan section\n",
    "    @variable(m, p[t=1:T+1] >= 0)\n",
    "    @variable(m, l[t=1:T] >= 0)\n",
    "    @variable(m, C >= d[t=1:T] >= 0, Int)\n",
    "    @constraint(m, suppression_per_crew[t=1:T], l[t] <= d[t] * line_per_crew)\n",
    "    @constraint(m, perim_growth[t=1:T], p[t+1] >= progressions[g, t] * (p[t] - l[t] / 2) - l[t] / 2)\n",
    "    @constraint(m, perim_start, p[1] == start_perims[g])\n",
    "    \n",
    "    @objective(m, Min, \n",
    "    beta * (sum(p) - p[1]/2 - p[T+1]/2) + sum(d[t] * (rho[g, t] + 0.0001 * t) for t=1:T)\n",
    "    )\n",
    "        \n",
    "    optimize!(m)\n",
    "        \n",
    "    objective_value(m), value.(d), objective_value(m) - sum(value(d[t]) * rho[g, t] for t=1:T), value.(p)\n",
    "end"
   ]
  },
  {
   "cell_type": "code",
   "execution_count": 23,
   "id": "57c2dc5f",
   "metadata": {},
   "outputs": [
    {
     "data": {
      "text/plain": [
       "17"
      ]
     },
     "execution_count": 23,
     "metadata": {},
     "output_type": "execute_result"
    }
   ],
   "source": [
    "line_per_crew"
   ]
  },
  {
   "cell_type": "code",
   "execution_count": 24,
   "id": "fe718962",
   "metadata": {},
   "outputs": [
    {
     "name": "stdout",
     "output_type": "stream",
     "text": [
      "Academic license - for non-commercial use only\r\n",
      "Academic license - for non-commercial use only\r\n",
      "Academic license - for non-commercial use only\r\n",
      "Academic license - for non-commercial use only\r\n",
      "Academic license - for non-commercial use only\r\n",
      "Academic license - for non-commercial use only\r\n",
      "Academic license - for non-commercial use only\r\n",
      "Academic license - for non-commercial use only\r\n",
      "Academic license - for non-commercial use only\r\n",
      "Academic license - for non-commercial use only\r\n",
      "Academic license - for non-commercial use only\r\n",
      "Academic license - for non-commercial use only\r\n",
      "Academic license - for non-commercial use only\r\n",
      "Academic license - for non-commercial use only\r\n",
      "Academic license - for non-commercial use only\r\n",
      "Academic license - for non-commercial use only\r\n",
      "Academic license - for non-commercial use only\r\n",
      "Academic license - for non-commercial use only\r\n",
      "Academic license - for non-commercial use only\r\n"
     ]
    }
   ],
   "source": [
    "fire_subproblem_models = []\n",
    "\n",
    "for g=1:G\n",
    "    m, p, d = init_suppression_plan_subproblem(g)\n",
    "    Dict(\"m\" => m, \"p\" => p, \"d\" => d)\n",
    "    push!(fire_subproblem_models, Dict(\"m\" => m, \"p\" => p, \"d\" => d))\n",
    "end\n",
    "\n",
    "route_subproblem_models = []\n",
    "\n",
    "for c=1:C\n",
    "    m, ff, fr, rf = init_route_subproblem(c)\n",
    "    push!(route_subproblem_models, Dict(\"m\" => m, \"ff\" => ff, \"fr\" => fr, \"rf\" => rf))\n",
    "end\n",
    "\n",
    "B = zeros((1000, G, T))\n",
    "found_plans = convert.(Int, zeros(G))\n",
    "fire_costs = zeros((1000, G))\n",
    "A = zeros(1000, C, G, T)\n",
    "suppression_plan_dummies(20)\n",
    "routes, route_costs = get_dummy_routes_from_initial_plans(5)\n",
    "update_A_from_routs_and_costs(routes, route_costs)\n",
    "\n",
    "num_routes_history = []\n",
    "fire_plans_history = []\n",
    "rho_history = []\n",
    "suppression_history = []\n",
    "supp_route_gap_history = [];"
   ]
  },
  {
   "cell_type": "code",
   "execution_count": 25,
   "id": "b68851a9",
   "metadata": {},
   "outputs": [
    {
     "name": "stdout",
     "output_type": "stream",
     "text": [
      "Academic license - for non-commercial use only\r\n"
     ]
    }
   ],
   "source": [
    "num_routes = [length(routes[c]) for c=1:C]\n",
    "\n",
    "fire_plan_ix = [(i, g) for g=1:G for i=1:found_plans[g]]\n",
    "route_plan_ix = [(i, c) for c=1:C for i=1:num_routes[c]]\n",
    "\n",
    "cg = Model(Gurobi.Optimizer)\n",
    "set_optimizer_attribute(cg, \"OutputFlag\", 0)\n",
    "\n",
    "\n",
    "@variable(cg, suppression_plans[fire_plan_ix] >= 0)\n",
    "@variable(cg, crew_routes[route_plan_ix] >= 0)\n",
    "\n",
    "@constraint(cg, plan_per_fire[g=1:G], \n",
    "                sum(suppression_plans[ix] for ix in fire_plan_ix if ix[2] == g) >= 1)\n",
    "@constraint(cg, route_per_crew[c=1:C], \n",
    "                sum(crew_routes[ix] for ix in route_plan_ix if ix[2] == c) == 1)\n",
    "@constraint(cg, cover_plans[g=1:G, t=1:T],\n",
    "                sum(crew_routes[ix] * A[ix[1], ix[2], g, t] for ix in route_plan_ix) >=\n",
    "                sum(suppression_plans[ix] * B[ix[1], g, t] for ix in fire_plan_ix if ix[2] == g)\n",
    "           )\n",
    "\n",
    "@objective(cg, Min, \n",
    "              sum(crew_routes[ix] * route_costs[ix[2]][ix[1]] for ix in route_plan_ix) + \n",
    "              sum(suppression_plans[ix] * fire_costs[ix[1], ix[2]] for ix in fire_plan_ix)\n",
    "         )\n",
    "\n",
    "optimize!(cg)\n",
    "\n",
    "add_routes()\n",
    "update_A_from_routs_and_costs(routes, route_costs)\n",
    "add_suppression_plans()\n",
    "\n",
    "push!(num_routes_history, copy(num_routes))\n",
    "push!(fire_plans_history, copy(found_plans))\n",
    "\n",
    "rho = dual.(cover_plans)\n",
    "\n",
    "supp_current = zeros((G, T))\n",
    "plans_current = zeros((G, T))\n",
    "\n",
    "for g=1:G\n",
    "    for t=1:T\n",
    "        supp_current[g, t] = sum(value.(suppression_plans[ix] * B[ix[1], g, t] for ix in fire_plan_ix if ix[2] == g))\n",
    "        plans_current[g, t] = sum(value.(crew_routes[ix] * A[ix[1], ix[2], g, t] for ix in route_plan_ix))   \n",
    "    end\n",
    "end\n",
    "\n",
    "push!(rho_history, rho)\n",
    "push!(suppression_history, supp_current)\n",
    "push!(supp_route_gap_history, plans_current - supp_current);"
   ]
  },
  {
   "cell_type": "code",
   "execution_count": 26,
   "id": "ce095ae5",
   "metadata": {},
   "outputs": [],
   "source": [
    "b = true\n",
    "while b\n",
    "    num_routes = [length(routes[c]) for c=1:C]\n",
    "\n",
    "    fire_plan_ix = [(i, g) for g=1:G for i=1:found_plans[g]]\n",
    "    route_plan_ix = [(i, c) for c=1:C for i=1:num_routes[c]]\n",
    "\n",
    "    unregister(cg, :suppression_plans)\n",
    "    unregister(cg, :crew_routes)\n",
    "    unregister(cg, :plan_per_fire)\n",
    "    unregister(cg, :route_per_crew)\n",
    "    unregister(cg, :cover_plans)\n",
    "\n",
    "    @variable(cg, suppression_plans[fire_plan_ix] >= 0)\n",
    "    @variable(cg, crew_routes[route_plan_ix] >= 0)\n",
    "\n",
    "    @constraint(cg, plan_per_fire[g=1:G], \n",
    "                    sum(suppression_plans[ix] for ix in fire_plan_ix if ix[2] == g) >= 1)\n",
    "    @constraint(cg, route_per_crew[c=1:C], \n",
    "                    sum(crew_routes[ix] for ix in route_plan_ix if ix[2] == c) == 1)\n",
    "    @constraint(cg, cover_plans[g=1:G, t=1:T],\n",
    "                    sum(crew_routes[ix] * A[ix[1], ix[2], g, t] for ix in route_plan_ix) >=\n",
    "                    sum(suppression_plans[ix] * B[ix[1], g, t] for ix in fire_plan_ix if ix[2] == g)\n",
    "               )\n",
    "\n",
    "    @objective(cg, Min, \n",
    "                  sum(crew_routes[ix] * route_costs[ix[2]][ix[1]] for ix in route_plan_ix) + \n",
    "                  sum(suppression_plans[ix] * fire_costs[ix[1], ix[2]] for ix in fire_plan_ix)\n",
    "             )\n",
    "\n",
    "    optimize!(cg)\n",
    "\n",
    "    routes_found = add_routes()\n",
    "    update_A_from_routs_and_costs(routes, route_costs)\n",
    "    plans_found = add_suppression_plans()\n",
    "    \n",
    "    if (routes_found == 0) & (plans_found == 0)\n",
    "        b = false\n",
    "    end\n",
    "    \n",
    "    push!(num_routes_history, copy(num_routes))\n",
    "    push!(fire_plans_history, copy(found_plans))\n",
    "    \n",
    "    rho = dual.(cover_plans)\n",
    "\n",
    "    supp_current = zeros((G, T))\n",
    "    plans_current = zeros((G, T))\n",
    "\n",
    "    for g=1:G\n",
    "        for t=1:T\n",
    "            supp_current[g, t] = sum(value.(suppression_plans[ix] * B[ix[1], g, t] for ix in fire_plan_ix if ix[2] == g))\n",
    "            plans_current[g, t] = sum(value.(crew_routes[ix] * A[ix[1], ix[2], g, t] for ix in route_plan_ix))   \n",
    "        end\n",
    "    end\n",
    "    \n",
    "    push!(rho_history, rho)\n",
    "    push!(suppression_history, supp_current)\n",
    "    push!(supp_route_gap_history, plans_current .- supp_current)\n",
    "end"
   ]
  },
  {
   "cell_type": "code",
   "execution_count": 27,
   "id": "013a79fa",
   "metadata": {},
   "outputs": [
    {
     "data": {
      "text/plain": [
       "1.1510988893558283e6"
      ]
     },
     "execution_count": 27,
     "metadata": {},
     "output_type": "execute_result"
    }
   ],
   "source": [
    "objective_value(cg)"
   ]
  },
  {
   "cell_type": "code",
   "execution_count": 243,
   "id": "e14f3343",
   "metadata": {},
   "outputs": [
    {
     "data": {
      "text/plain": [
       "3×14 Matrix{Float64}:\n",
       " 0.0  0.0  0.0  0.0  2.0  6.0  7.0  8.0  8.0  6.0  2.0  0.0  0.0  0.0\n",
       " 0.0  6.0  9.0  9.0  4.0  0.0  0.0  0.0  0.0  0.0  0.0  0.0  0.0  0.0\n",
       " 9.0  3.0  0.0  0.0  0.0  0.0  0.0  0.0  0.0  0.0  0.0  0.0  0.0  0.0"
      ]
     },
     "execution_count": 243,
     "metadata": {},
     "output_type": "execute_result"
    }
   ],
   "source": [
    "supp_current"
   ]
  },
  {
   "cell_type": "code",
   "execution_count": 222,
   "id": "f59085d7",
   "metadata": {},
   "outputs": [
    {
     "data": {
      "text/plain": [
       "3×14 Matrix{Float64}:\n",
       " 15413.4  10518.6   8872.72  7272.68  …  1890.28  200.0  0.0  0.0  0.0\n",
       " 13483.0  11783.0  10083.0   8383.0         0.0     0.0  0.0  0.0  0.0\n",
       " 51382.0  11783.0   2008.8      0.0         0.0     0.0  0.0  0.0  0.0"
      ]
     },
     "execution_count": 222,
     "metadata": {},
     "output_type": "execute_result"
    }
   ],
   "source": [
    "rho"
   ]
  },
  {
   "cell_type": "code",
   "execution_count": 298,
   "id": "884ac6a7",
   "metadata": {},
   "outputs": [
    {
     "data": {
      "text/plain": [
       "14-element Vector{Float64}:\n",
       " 10.0\n",
       "  0.0\n",
       "  0.0\n",
       "  9.0\n",
       " 10.0\n",
       "  0.0\n",
       "  0.0\n",
       "  0.0\n",
       "  9.0\n",
       " 10.0\n",
       "  0.0\n",
       "  1.0\n",
       "  0.0\n",
       "  0.0"
      ]
     },
     "execution_count": 298,
     "metadata": {},
     "output_type": "execute_result"
    }
   ],
   "source": [
    "B[28, 1, :]"
   ]
  },
  {
   "cell_type": "code",
   "execution_count": 267,
   "id": "e03ecec8",
   "metadata": {},
   "outputs": [
    {
     "data": {
      "text/plain": [
       "39-element Vector{Any}:\n",
       " [21, 21, 9]\n",
       " [22, 22, 10]\n",
       " [23, 23, 11]\n",
       " [24, 24, 12]\n",
       " [25, 25, 13]\n",
       " [26, 26, 14]\n",
       " [27, 27, 15]\n",
       " [28, 28, 16]\n",
       " [29, 29, 17]\n",
       " [30, 30, 17]\n",
       " [31, 31, 17]\n",
       " [32, 32, 17]\n",
       " [33, 33, 17]\n",
       " ⋮\n",
       " [48, 48, 17]\n",
       " [49, 49, 17]\n",
       " [50, 49, 17]\n",
       " [51, 49, 17]\n",
       " [52, 49, 17]\n",
       " [53, 49, 17]\n",
       " [54, 49, 17]\n",
       " [55, 49, 17]\n",
       " [56, 49, 17]\n",
       " [57, 49, 17]\n",
       " [58, 49, 17]\n",
       " [58, 49, 17]"
      ]
     },
     "execution_count": 267,
     "metadata": {},
     "output_type": "execute_result"
    }
   ],
   "source": [
    "fire_plans_history"
   ]
  },
  {
   "cell_type": "code",
   "execution_count": 224,
   "id": "5cfd21da",
   "metadata": {},
   "outputs": [
    {
     "data": {
      "text/plain": [
       "21-element Vector{Any}:\n",
       " [4, 5, 3, 4, 6, 4, 3, 6, 6, 5]\n",
       " [5, 6, 4, 5, 7, 4, 3, 7, 7, 6]\n",
       " [6, 7, 5, 6, 8, 5, 4, 8, 8, 6]\n",
       " [7, 8, 6, 7, 9, 6, 5, 9, 9, 7]\n",
       " [8, 9, 7, 8, 10, 7, 6, 10, 10, 8]\n",
       " [9, 10, 8, 9, 11, 8, 7, 11, 11, 9]\n",
       " [10, 11, 9, 10, 12, 9, 8, 12, 12, 10]\n",
       " [11, 12, 10, 11, 13, 10, 9, 13, 13, 11]\n",
       " [12, 13, 11, 12, 14, 11, 10, 14, 14, 12]\n",
       " [13, 14, 12, 13, 15, 12, 11, 15, 15, 13]\n",
       " [14, 15, 13, 14, 16, 12, 12, 16, 16, 14]\n",
       " [15, 16, 14, 15, 17, 13, 13, 17, 17, 15]\n",
       " [16, 17, 15, 16, 18, 14, 14, 18, 18, 16]\n",
       " [17, 18, 16, 17, 19, 15, 15, 19, 19, 16]\n",
       " [17, 18, 16, 17, 20, 16, 16, 19, 20, 16]\n",
       " [18, 19, 17, 18, 21, 17, 16, 19, 21, 16]\n",
       " [18, 19, 17, 18, 21, 17, 16, 19, 21, 16]\n",
       " [19, 20, 18, 19, 22, 18, 17, 20, 22, 16]\n",
       " [19, 20, 18, 19, 22, 18, 17, 20, 22, 16]\n",
       " [19, 20, 18, 19, 22, 18, 17, 20, 22, 16]\n",
       " [19, 20, 18, 19, 22, 18, 17, 20, 22, 16]"
      ]
     },
     "execution_count": 224,
     "metadata": {},
     "output_type": "execute_result"
    }
   ],
   "source": [
    "num_routes_history"
   ]
  },
  {
   "cell_type": "code",
   "execution_count": 283,
   "id": "86988854",
   "metadata": {},
   "outputs": [],
   "source": [
    "arr = hcat(num_routes_history...)\n",
    "npzwrite(\"data/output/num_routes_history2.npz\", arr)\n",
    "\n",
    "arr = hcat(fire_plans_history...)\n",
    "npzwrite(\"data/output/fire_plans_history2.npz\", arr)\n",
    "\n",
    "arr = cat(rho_history..., dims=3)\n",
    "npzwrite(\"data/output/rho_history2.npz\", arr)\n",
    "\n",
    "arr = cat(suppression_history..., dims=3)\n",
    "npzwrite(\"data/output/suppression_history2.npz\", arr)\n",
    "\n",
    "arr = cat(supp_route_gap_history..., dims=3)\n",
    "npzwrite(\"data/output/supp_route_gap_history2.npz\", arr)"
   ]
  },
  {
   "cell_type": "code",
   "execution_count": 53,
   "id": "a98cb94e",
   "metadata": {},
   "outputs": [
    {
     "data": {
      "text/plain": [
       "3×14×141 Array{Float64, 3}:\n",
       "[:, :, 1] =\n",
       " 0.0       0.0            0.0     0.0   …  0.0  17595.6  200.0  0.0  0.0  0.0\n",
       " 0.0       7.91972e5  90100.0  7629.44     0.0      0.0    0.0  0.0  0.0  0.0\n",
       " 8.1043e5  8.0868e5       0.0     0.0      0.0      0.0    0.0  0.0  0.0  0.0\n",
       "\n",
       "[:, :, 2] =\n",
       "     0.0        0.0            0.0     0.0   …  0.0  200.0  0.0  0.0  39549.2\n",
       " 98352.3        1.20767e5  10132.7  8432.69     0.0    0.0  0.0  0.0      0.0\n",
       "     1.22517e5  1.20767e5  35530.2     0.0      0.0    0.0  0.0  0.0      0.0\n",
       "\n",
       "[:, :, 3] =\n",
       "  44569.3       0.0    0.0        0.0   …  0.0  90.4014  200.0  0.0  0.0  0.0\n",
       "  11800.0  130900.0    0.0     4328.49     0.0   0.0       0.0  0.0  0.0  0.0\n",
       " 132650.0  130900.0  109.213  38460.8      0.0   0.0       0.0  0.0  0.0  0.0\n",
       "\n",
       ";;; … \n",
       "\n",
       "[:, :, 139] =\n",
       " 15192.4  11778.3  8780.77  7445.29   …    2.12307  284.739  0.265306\n",
       " 13276.8  11576.8  9876.82  8176.82      200.0      200.0    0.0\n",
       " 24903.6  11576.8  2942.27   746.136       0.0        0.0    0.0\n",
       "\n",
       "[:, :, 140] =\n",
       " 15192.4  11778.3  8780.77  7445.29   …    2.12307  284.739  0.265306\n",
       " 13276.8  11576.8  9876.82  8176.82      200.0      200.0    0.0\n",
       " 24903.6  11576.8  2942.27   746.136       0.0        0.0    0.0\n",
       "\n",
       "[:, :, 141] =\n",
       " 15192.4  11778.3  8780.77  7445.29   …    2.12307  284.739  0.265306\n",
       " 13276.8  11576.8  9876.82  8176.82      200.0      200.0    0.0\n",
       " 24903.6  11576.8  2942.27   746.136       0.0        0.0    0.0"
      ]
     },
     "execution_count": 53,
     "metadata": {},
     "output_type": "execute_result"
    }
   ],
   "source": []
  },
  {
   "cell_type": "code",
   "execution_count": 178,
   "id": "b6abc66b",
   "metadata": {},
   "outputs": [
    {
     "data": {
      "text/plain": [
       "10×215 Matrix{Int64}:\n",
       " 4  5  6  7   8   9  10  11  12  13  14  …   72   72   72   72   72   72   72\n",
       " 5  6  7  8   9  10  11  12  13  14  15      83   84   84   84   84   84   84\n",
       " 4  5  6  7   8   9  10  11  12  13  14      53   53   53   53   53   53   53\n",
       " 3  4  5  6   7   8   9  10  11  12  13      52   52   52   52   52   52   52\n",
       " 5  6  7  8   9  10  11  12  13  14  15      64   64   64   64   64   64   64\n",
       " 5  6  7  8   9  10  11  12  13  14  15  …   57   57   57   57   57   57   57\n",
       " 4  5  6  7   8   9  10  11  12  13  14      63   63   63   63   63   63   63\n",
       " 6  7  8  9  10  11  12  13  14  15  16     103  103  103  103  103  103  103\n",
       " 6  7  8  9  10  11  12  13  14  15  16      84   84   84   84   84   84   84\n",
       " 6  6  6  7   8   9  10  11  12  13  14      76   76   76   76   76   76   76"
      ]
     },
     "execution_count": 178,
     "metadata": {},
     "output_type": "execute_result"
    }
   ],
   "source": [
    "hcat(num_routes_history...)"
   ]
  },
  {
   "cell_type": "code",
   "execution_count": 164,
   "id": "23f54012",
   "metadata": {},
   "outputs": [
    {
     "data": {
      "text/plain": [
       "3×14 Matrix{Float64}:\n",
       " 0.0  0.0  0.0  0.0  0.0  0.0  0.0  0.0  0.0  0.0  0.0  0.0  0.0  0.0\n",
       " 0.0  1.0  1.0  1.0  0.0  0.0  0.0  1.0  0.0  0.0  0.0  0.0  0.0  0.0\n",
       " 1.0  0.0  0.0  0.0  0.0  0.0  0.0  0.0  1.0  1.0  1.0  1.0  1.0  1.0"
      ]
     },
     "execution_count": 164,
     "metadata": {},
     "output_type": "execute_result"
    }
   ],
   "source": [
    "A[99, 8, :, :]"
   ]
  },
  {
   "cell_type": "code",
   "execution_count": 165,
   "id": "c2d719e8",
   "metadata": {},
   "outputs": [
    {
     "data": {
      "text/plain": [
       "3×14 Matrix{Float64}:\n",
       " 24207.4  11781.5  8752.94  7450.68   …    0.475586   0.871187    1.22903\n",
       " 13280.0  11580.0  9879.99  8179.99        0.0       65.576     260.58\n",
       " 24910.0  11580.0  2943.33   746.664     587.339      0.0         0.0"
      ]
     },
     "execution_count": 165,
     "metadata": {},
     "output_type": "execute_result"
    }
   ],
   "source": [
    "pi = dual.(plan_per_fire)\n",
    "sigma = dual.(route_per_crew)\n",
    "rho = dual.(cover_plans)"
   ]
  },
  {
   "cell_type": "markdown",
   "id": "d47099c6",
   "metadata": {},
   "source": [
    "###  LP sol"
   ]
  },
  {
   "cell_type": "code",
   "execution_count": 166,
   "id": "947ec320",
   "metadata": {},
   "outputs": [
    {
     "name": "stdout",
     "output_type": "stream",
     "text": [
      "3×14 Matrix{Float64}:\n",
      " 0.0  0.0      0.0  0.0  2.94118  7.0  8.0  8.0  8.0  6.0  1.95285  0.0  0.0  0.0\n",
      " 0.0  7.35294  9.0  9.0  4.05882  0.0  0.0  0.0  0.0  0.0  0.0      0.0  0.0  0.0\n",
      " 9.0  1.64706  0.0  0.0  0.0      0.0  0.0  0.0  0.0  0.0  0.0      0.0  0.0  0.0"
     ]
    }
   ],
   "source": [
    "show(stdout, \"text/plain\", value.(l)/line_per_crew)"
   ]
  },
  {
   "cell_type": "markdown",
   "id": "dcb285ac",
   "metadata": {},
   "source": [
    "## IP sol"
   ]
  },
  {
   "cell_type": "code",
   "execution_count": 167,
   "id": "1d1de8de",
   "metadata": {},
   "outputs": [
    {
     "name": "stdout",
     "output_type": "stream",
     "text": [
      "3×14 Matrix{Float64}:\n",
      " 0.0  0.0  0.0  0.0  3.0  7.0  8.0  8.0  8.0  6.0  2.0  0.0  0.0  0.0\n",
      " 0.0  7.0  9.0  9.0  4.0  0.0  0.0  0.0  0.0  0.0  0.0  0.0  0.0  0.0\n",
      " 9.0  2.0  0.0  0.0  0.0  0.0  0.0  0.0  0.0  0.0  0.0  0.0  0.0  0.0"
     ]
    }
   ],
   "source": [
    "show(stdout, \"text/plain\", round.(value.(l)/line_per_crew))"
   ]
  },
  {
   "cell_type": "code",
   "execution_count": 168,
   "id": "01f187db",
   "metadata": {},
   "outputs": [
    {
     "data": {
      "text/plain": [
       "3×14 Matrix{Float64}:\n",
       " 0.0  0.0  0.0  0.0  3.0  7.0  8.0  8.0  8.0  5.0  2.74541  0.0  0.0  0.0\n",
       " 0.0  7.0  9.0  9.0  4.0  0.0  0.0  0.0  0.0  1.0  0.0      0.0  0.0  0.0\n",
       " 9.0  2.0  0.0  0.0  0.0  0.0  0.0  0.0  0.0  0.0  0.0      0.0  0.0  0.0"
      ]
     },
     "execution_count": 168,
     "metadata": {},
     "output_type": "execute_result"
    }
   ],
   "source": [
    "pi = dual.(plan_per_fire)\n",
    "sigma = dual.(route_per_crew)\n",
    "rho = dual.(cover_plans)\n",
    "\n",
    "supp_current = zeros((G, T))\n",
    "plans_current = zeros((G, T))\n",
    "\n",
    "for g=1:G\n",
    "    for t=1:T\n",
    "        supp_current[g, t] = sum(value.(suppression_plans[ix] * B[ix[1], g, t] for ix in fire_plan_ix if ix[2] == g))\n",
    "        plans_current[g, t] = sum(value.(crew_routes[ix] * A[ix[1], ix[2], g, t] for ix in route_plan_ix))   \n",
    "    end\n",
    "end\n",
    "\n",
    "plans_current"
   ]
  },
  {
   "cell_type": "code",
   "execution_count": 169,
   "id": "47c4bbca",
   "metadata": {},
   "outputs": [
    {
     "name": "stdout",
     "output_type": "stream",
     "text": [
      "3×14 Matrix{Float64}:\n",
      " 0.0  0.0  0.0  0.0  3.0  7.0  8.0  8.0  8.0  5.0  2.74541  0.0  0.0  0.0\n",
      " 0.0  7.0  9.0  9.0  4.0  0.0  0.0  0.0  0.0  1.0  0.0      0.0  0.0  0.0\n",
      " 9.0  2.0  0.0  0.0  0.0  0.0  0.0  0.0  0.0  0.0  0.0      0.0  0.0  0.0"
     ]
    }
   ],
   "source": [
    "show(stdout, \"text/plain\", supp_current)"
   ]
  },
  {
   "cell_type": "code",
   "execution_count": 154,
   "id": "2134a32b",
   "metadata": {},
   "outputs": [
    {
     "data": {
      "text/plain": [
       "3×14 Matrix{Float64}:\n",
       " 0.0  1.0  1.0  0.0  0.0  0.0  1.0  1.0  1.0  1.0  0.0  0.0  0.0  0.0\n",
       " 0.0  0.0  0.0  0.0  0.0  0.0  0.0  0.0  0.0  0.0  0.0  0.0  0.0  0.0\n",
       " 1.0  0.0  0.0  0.0  0.0  0.0  0.0  0.0  0.0  0.0  1.0  1.0  1.0  1.0"
      ]
     },
     "execution_count": 154,
     "metadata": {},
     "output_type": "execute_result"
    }
   ],
   "source": [
    "A[76, 9, :, :]"
   ]
  },
  {
   "cell_type": "code",
   "execution_count": 155,
   "id": "4bf5b05a",
   "metadata": {},
   "outputs": [
    {
     "name": "stdout",
     "output_type": "stream",
     "text": [
      "3×14 Matrix{Float64}:\n",
      " 26379.5  11766.3  9747.55  8097.42    6497.72   5414.38   4502.25   3721.61   2738.34   1634.39   266.521  180.027    1.16188  418.811\n",
      " 13297.7  11597.7  9897.72  8197.72    6497.72   5414.38   3783.39   3471.14   2738.34   1683.39   217.519    0.0      0.0        0.0\n",
      " 27049.3  11597.7  4676.06    74.7147   420.766   210.383   210.383   210.383   210.383   210.383  420.766  210.383  210.383    420.766"
     ]
    }
   ],
   "source": [
    "show(stdout, \"text/plain\", rho)"
   ]
  },
  {
   "cell_type": "code",
   "execution_count": 28,
   "id": "5abbce41",
   "metadata": {},
   "outputs": [
    {
     "data": {
      "text/plain": [
       "4-element Vector{Float64}:\n",
       " 0.0\n",
       " 1.0\n",
       " 0.9482181818181727\n",
       " 0.051781818181827255"
      ]
     },
     "execution_count": 28,
     "metadata": {},
     "output_type": "execute_result"
    }
   ],
   "source": [
    "unique(value.(crew_routes))"
   ]
  },
  {
   "cell_type": "code",
   "execution_count": 31,
   "id": "7752fd96",
   "metadata": {},
   "outputs": [
    {
     "data": {
      "text/plain": [
       "12-element Vector{Float64}:\n",
       " 0.5141818181818218\n",
       " 0.3134545454545418\n",
       " 0.048872727272726624\n",
       " 0.03418181818181809\n",
       " 0.054545454545455854\n",
       " 0.03447272727272641\n",
       " 0.0002909090909089862\n",
       " 0.29670329670329665\n",
       " 0.5703296703296705\n",
       " 0.09999999999999991\n",
       " 0.03296703296703285\n",
       " 1.0"
      ]
     },
     "execution_count": 31,
     "metadata": {},
     "output_type": "execute_result"
    }
   ],
   "source": [
    "[value(suppression_plans[ix]) for ix in keys(suppression_plans) if value(suppression_plans[ix]) > 0]"
   ]
  },
  {
   "cell_type": "code",
   "execution_count": null,
   "id": "984ba9aa",
   "metadata": {},
   "outputs": [],
   "source": [
    "B[]"
   ]
  },
  {
   "cell_type": "code",
   "execution_count": 285,
   "id": "54b2dcb4",
   "metadata": {},
   "outputs": [
    {
     "data": {
      "text/plain": [
       "3×14 Matrix{Float64}:\n",
       " 0.0  0.0  0.0  0.0  2.12258  6.87742   7.9  …  0.013419  0.013419  0.013419\n",
       " 0.0  6.0  9.0  9.0  4.87742  0.122585  0.1     0.0       0.0       0.0\n",
       " 9.0  3.0  0.0  0.0  0.0      0.0       0.0     0.0       0.0       0.0"
      ]
     },
     "execution_count": 285,
     "metadata": {},
     "output_type": "execute_result"
    }
   ],
   "source": [
    "supp_current"
   ]
  },
  {
   "cell_type": "code",
   "execution_count": 142,
   "id": "d0e8430a",
   "metadata": {},
   "outputs": [
    {
     "data": {
      "text/plain": [
       "3×14×1 Array{Float64, 3}:\n",
       "[:, :, 1] =\n",
       " 0.0  0.0  0.0  0.0  2.0  6.0  7.0  7.0  8.0  6.0  2.0  0.0  0.0  0.0\n",
       " 0.0  6.0  8.0  8.0  3.0  0.0  0.0  0.0  0.0  0.0  0.0  0.0  0.0  0.0\n",
       " 9.0  0.0  0.0  0.0  0.0  0.0  0.0  0.0  0.0  0.0  0.0  0.0  0.0  0.0"
      ]
     },
     "execution_count": 142,
     "metadata": {},
     "output_type": "execute_result"
    }
   ],
   "source": [
    "B[8, :, :, :]"
   ]
  },
  {
   "cell_type": "code",
   "execution_count": 290,
   "id": "5d81a0e0",
   "metadata": {},
   "outputs": [
    {
     "name": "stdout",
     "output_type": "stream",
     "text": [
      "3×14 Matrix{Float64}:\n",
      " 15141.4  10255.1  10417.8   8309.47   6894.01  5165.79  4600.39  3429.05  2822.75   1727.98  200.0   33.0211  223.997  142.982\n",
      " 28730.8  11968.6  10216.3   8596.4    6894.01  5165.79  4352.93  3629.05  2622.75   1477.52    0.0   44.5231  155.477   75.1344\n",
      " 28984.1  11968.6   2890.58   426.547     0.0      0.0      0.0      0.0    426.547     0.0     0.0  440.628     0.0      0.0"
     ]
    }
   ],
   "source": [
    "show(stdout, \"text/plain\", rho)"
   ]
  },
  {
   "cell_type": "code",
   "execution_count": 565,
   "id": "c5101d45",
   "metadata": {},
   "outputs": [
    {
     "data": {
      "text/plain": [
       "([8, 7, 7, 7, 16, 10, 7, 12, 14, 11], [20, 20, 8])"
      ]
     },
     "execution_count": 565,
     "metadata": {},
     "output_type": "execute_result"
    }
   ],
   "source": [
    "num_routes, found_plans"
   ]
  },
  {
   "cell_type": "code",
   "execution_count": 195,
   "id": "b9313d89",
   "metadata": {},
   "outputs": [
    {
     "data": {
      "text/plain": [
       "3×14 Matrix{Float64}:\n",
       " 15466.1  10461.2  8773.68  7436.94   …  1596.39  200.0  0.0  287.127  0.0\n",
       " 13185.8  11481.4  9791.72  8077.11      1596.39    0.0  0.0    0.0    0.0\n",
       " 24712.9  11481.4  2910.48   730.239        0.0     0.0  0.0    0.0    0.0"
      ]
     },
     "execution_count": 195,
     "metadata": {},
     "output_type": "execute_result"
    }
   ],
   "source": [
    "pi = dual.(plan_per_fire)\n",
    "sigma = dual.(route_per_crew)\n",
    "rho = dual.(cover_plans)"
   ]
  },
  {
   "cell_type": "code",
   "execution_count": 149,
   "id": "c09fa902",
   "metadata": {},
   "outputs": [
    {
     "data": {
      "text/plain": [
       "10-element Vector{Float64}:\n",
       " -282204.35826984595\n",
       " -281566.1732053367\n",
       " -282103.1715538154\n",
       " -282202.30753288587\n",
       " -277453.14211245166\n",
       " -277381.90328797046\n",
       " -264115.1988628963\n",
       " -264819.83345571917\n",
       " -261193.4595194048\n",
       "  -29848.80775776306"
      ]
     },
     "execution_count": 149,
     "metadata": {},
     "output_type": "execute_result"
    }
   ],
   "source": [
    "sigma"
   ]
  },
  {
   "cell_type": "code",
   "execution_count": 196,
   "id": "b92c9ac5",
   "metadata": {},
   "outputs": [
    {
     "name": "stdout",
     "output_type": "stream",
     "text": [
      "Academic license - for non-commercial use only\r\n"
     ]
    },
    {
     "data": {
      "text/plain": [
       "(1.1219242469291536e6, [-0.0, -0.0, -0.0, 10.0, 1.0, 10.0, 10.0, 10.0, 10.0, -0.0, 1.0, 0.0, -0.0, 0.0], 878308.7359999998, [1000.0, 1500.0, 1500.0, 1500.0, 1188.5, 1053.5, 786.65, 476.32000000000005, 228.05599999999964, 29.444799999999262, 20.611359999999383, 0.0, 0.0, 0.0, 0.0])"
      ]
     },
     "execution_count": 196,
     "metadata": {},
     "output_type": "execute_result"
    }
   ],
   "source": [
    "g = 1\n",
    "suppression_plan_subproblem(g, rho)"
   ]
  },
  {
   "cell_type": "code",
   "execution_count": 54,
   "id": "19a33eaa",
   "metadata": {},
   "outputs": [
    {
     "data": {
      "text/plain": [
       "14-element Vector{Float64}:\n",
       "    0.0\n",
       "    0.0\n",
       "    0.0\n",
       "    0.0\n",
       " 7238.021728000371\n",
       " 6247.801919999183\n",
       " 5486.212800000212\n",
       " 4945.265999999843\n",
       "    0.0\n",
       "    0.0\n",
       "  200.0\n",
       "    0.0\n",
       "    0.0\n",
       "    0.0"
      ]
     },
     "execution_count": 54,
     "metadata": {},
     "output_type": "execute_result"
    }
   ],
   "source": [
    "rho[1, :]"
   ]
  },
  {
   "cell_type": "code",
   "execution_count": 108,
   "id": "4eaea763",
   "metadata": {},
   "outputs": [
    {
     "data": {
      "text/plain": [
       "1287.5"
      ]
     },
     "execution_count": 108,
     "metadata": {},
     "output_type": "execute_result"
    }
   ],
   "source": [
    "(1000 - 17 * 5) * 1.5 - 17 * 5"
   ]
  },
  {
   "cell_type": "code",
   "execution_count": 104,
   "id": "9d69a1c2",
   "metadata": {},
   "outputs": [
    {
     "data": {
      "text/plain": [
       "1.5"
      ]
     },
     "execution_count": 104,
     "metadata": {},
     "output_type": "execute_result"
    }
   ],
   "source": [
    "progressions[1, 1]"
   ]
  },
  {
   "cell_type": "code",
   "execution_count": 103,
   "id": "d7d07a7a",
   "metadata": {},
   "outputs": [
    {
     "data": {
      "text/plain": [
       "500.0"
      ]
     },
     "execution_count": 103,
     "metadata": {},
     "output_type": "execute_result"
    }
   ],
   "source": [
    "value.(p[2])"
   ]
  },
  {
   "cell_type": "code",
   "execution_count": 57,
   "id": "2fa007ae",
   "metadata": {},
   "outputs": [
    {
     "data": {
      "text/plain": [
       "suppression_plan_subproblem_2 (generic function with 1 method)"
      ]
     },
     "execution_count": 57,
     "metadata": {},
     "output_type": "execute_result"
    }
   ],
   "source": [
    "function suppression_plan_subproblem_2(rho)\n",
    "    \n",
    "    m = Model(Gurobi.Optimizer)\n",
    "    set_optimizer_attribute(m, \"OutputFlag\", 0)\n",
    "\n",
    "\n",
    "\n",
    "    # fire suppression plan section\n",
    "    @variable(m, p[g=1:G, t=1:T+1] >= 0)\n",
    "    @variable(m, l[g=1:G, t=1:T] >= 0)\n",
    "    @variable(m, d[g=1:G, t=1:T] >= 0, Int)\n",
    "    @constraint(m, crews[t=1:T], sum(d[:, t]) <= C)\n",
    "    @constraint(m, suppression_per_crew[g=1:G, t=1:T], l[g, t] <= d[g, t] * line_per_crew)\n",
    "    @constraint(m, perim_growth[g=1:G, t=1:T], p[g, t+1] >= progressions[g, t] * (p[g, t] - l[g, t] / 2)                                                             - l[g, t] / 2)\n",
    "    @constraint(m, perim_start[g=1:G], p[g, 1] == start_perims[g])\n",
    "    \n",
    "    @objective(m, Min, beta * (sum(p) - sum(p[1:G, 1])/2 - sum(p[1:G, T+1])/2))\n",
    "        \n",
    "    optimize!(m)\n",
    "        \n",
    "    objective_value(m), value.(d), objective_value(m) - sum(value(d[t]) * rho[g, t] for t=1:T)\n",
    "end"
   ]
  },
  {
   "cell_type": "code",
   "execution_count": null,
   "id": "c5ebf6f1",
   "metadata": {},
   "outputs": [],
   "source": []
  }
 ],
 "metadata": {
  "kernelspec": {
   "display_name": "Julia 1.7.1",
   "language": "julia",
   "name": "julia-1.7"
  },
  "language_info": {
   "file_extension": ".jl",
   "mimetype": "application/julia",
   "name": "julia",
   "version": "1.7.1"
  }
 },
 "nbformat": 4,
 "nbformat_minor": 5
}
