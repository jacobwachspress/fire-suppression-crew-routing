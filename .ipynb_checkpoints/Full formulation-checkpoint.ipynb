{
 "cells": [
  {
   "cell_type": "markdown",
   "id": "24ba70bb",
   "metadata": {},
   "source": [
    "## Imports"
   ]
  },
  {
   "cell_type": "code",
   "execution_count": 1,
   "id": "05c73509",
   "metadata": {},
   "outputs": [],
   "source": [
    "using DataFrames, CSV, JuMP, Gurobi, LinearAlgebra, DelimitedFiles, Combinatorics"
   ]
  },
  {
   "cell_type": "markdown",
   "id": "9f2fc6a8",
   "metadata": {},
   "source": [
    "## Read in data, initialize parameters"
   ]
  },
  {
   "cell_type": "code",
   "execution_count": 2,
   "id": "b22a7b3b",
   "metadata": {},
   "outputs": [
    {
     "data": {
      "text/plain": [
       "(10, 14, 3)"
      ]
     },
     "metadata": {},
     "output_type": "display_data"
    },
    {
     "data": {
      "text/plain": [
       "10×3 Matrix{Float64}:\n",
       " 109.406  177.41    442.573\n",
       " 512.873  620.197   677.291\n",
       " 301.865  415.648   525.184\n",
       " 202.729  285.549   548.429\n",
       " 198.903   76.6787  275.938\n",
       " 366.87   380.749   262.297\n",
       " 343.768  358.437   630.655\n",
       " 155.524   30.2902  262.352\n",
       " 321.604  379.411   357.643\n",
       " 110.707   85.7744  360.787"
      ]
     },
     "metadata": {},
     "output_type": "display_data"
    },
    {
     "data": {
      "text/html": [
       "<div class=\"data-frame\"><p>10 rows × 4 columns</p><table class=\"data-frame\"><thead><tr><th></th><th>crew</th><th>rest_by</th><th>current_fire</th><th>rested_periods</th></tr><tr><th></th><th title=\"Int64\">Int64</th><th title=\"Int64\">Int64</th><th title=\"Int64\">Int64</th><th title=\"Int64\">Int64</th></tr></thead><tbody><tr><th>1</th><td>1</td><td>15</td><td>-1</td><td>-1</td></tr><tr><th>2</th><td>2</td><td>15</td><td>-1</td><td>-1</td></tr><tr><th>3</th><td>3</td><td>10</td><td>1</td><td>-1</td></tr><tr><th>4</th><td>4</td><td>10</td><td>1</td><td>-1</td></tr><tr><th>5</th><td>5</td><td>8</td><td>4</td><td>-1</td></tr><tr><th>6</th><td>6</td><td>8</td><td>-1</td><td>0</td></tr><tr><th>7</th><td>7</td><td>5</td><td>4</td><td>-1</td></tr><tr><th>8</th><td>8</td><td>5</td><td>4</td><td>-1</td></tr><tr><th>9</th><td>9</td><td>4</td><td>-1</td><td>1</td></tr><tr><th>10</th><td>10</td><td>1</td><td>4</td><td>-1</td></tr></tbody></table></div>"
      ],
      "text/latex": [
       "\\begin{tabular}{r|cccc}\n",
       "\t& crew & rest\\_by & current\\_fire & rested\\_periods\\\\\n",
       "\t\\hline\n",
       "\t& Int64 & Int64 & Int64 & Int64\\\\\n",
       "\t\\hline\n",
       "\t1 & 1 & 15 & -1 & -1 \\\\\n",
       "\t2 & 2 & 15 & -1 & -1 \\\\\n",
       "\t3 & 3 & 10 & 1 & -1 \\\\\n",
       "\t4 & 4 & 10 & 1 & -1 \\\\\n",
       "\t5 & 5 & 8 & 4 & -1 \\\\\n",
       "\t6 & 6 & 8 & -1 & 0 \\\\\n",
       "\t7 & 7 & 5 & 4 & -1 \\\\\n",
       "\t8 & 8 & 5 & 4 & -1 \\\\\n",
       "\t9 & 9 & 4 & -1 & 1 \\\\\n",
       "\t10 & 10 & 1 & 4 & -1 \\\\\n",
       "\\end{tabular}\n"
      ],
      "text/plain": [
       "\u001b[1m10×4 DataFrame\u001b[0m\n",
       "\u001b[1m Row \u001b[0m│\u001b[1m crew  \u001b[0m\u001b[1m rest_by \u001b[0m\u001b[1m current_fire \u001b[0m\u001b[1m rested_periods \u001b[0m\n",
       "\u001b[1m     \u001b[0m│\u001b[90m Int64 \u001b[0m\u001b[90m Int64   \u001b[0m\u001b[90m Int64        \u001b[0m\u001b[90m Int64          \u001b[0m\n",
       "─────┼──────────────────────────────────────────────\n",
       "   1 │     1       15            -1              -1\n",
       "   2 │     2       15            -1              -1\n",
       "   3 │     3       10             1              -1\n",
       "   4 │     4       10             1              -1\n",
       "   5 │     5        8             4              -1\n",
       "   6 │     6        8            -1               0\n",
       "   7 │     7        5             4              -1\n",
       "   8 │     8        5             4              -1\n",
       "   9 │     9        4            -1               1\n",
       "  10 │    10        1             4              -1"
      ]
     },
     "metadata": {},
     "output_type": "display_data"
    }
   ],
   "source": [
    "# number of crews\n",
    "C = 10\n",
    "\n",
    "# get inital fire perimeters and no-suppression progression parameters\n",
    "M = readdlm(\"data/processed/sample_growth_patterns.csv\", ',')\n",
    "start_perims = M[:, 1]\n",
    "progressions = M[:, 2:15]\n",
    "\n",
    "# time periods\n",
    "T = size(M)[2] - 1\n",
    "\n",
    "# number of fires\n",
    "G = size(M)[1]\n",
    "\n",
    "# get distance from fire f to fire g (dimension G-by-G)\n",
    "fire_dists =  readdlm(\"data/processed/fire_distances.csv\", ',')\n",
    "\n",
    "# get distance from base c to fire g (dimension C-by-G)\n",
    "base_fire_dists =  readdlm(\"data/processed/base_fire_distances.csv\", ',')\n",
    "\n",
    "# initialize travel times (number of periods) from fire f to fire g (dimension G-by-G)\n",
    "tau = convert(Array{Int}, ones(size(fire_dists)))\n",
    "\n",
    "# initialize travel times (number of periods) from base c to fire g (dimension C-by-G)\n",
    "tau_base_to_fire = convert(Array{Int}, ones((size(base_fire_dists))))\n",
    "\n",
    "# read intial crew statuses (location, period by which they must rest)\n",
    "# (-1 in current_fire means crew is currently at base)\n",
    "# (rested_periods is the amount of time crew has been at base, relevant for completing rest)\n",
    "crew_starts = CSV.read(\"data/processed/sample_crew_starts.csv\", DataFrame)\n",
    "rest_by = crew_starts[!, \"rest_by\"]\n",
    "current_fire = crew_starts[!, \"current_fire\"]\n",
    "rested_periods = crew_starts[!, \"rested_periods\"]\n",
    "\n",
    "# how long at base to be considered \"rested\"\n",
    "break_length = 2\n",
    "\n",
    "## some parameters that make tradeoffs reasonable ##\n",
    "\n",
    "# cost of one area unit burned / cost of mile traveled\n",
    "beta = 100\n",
    "\n",
    "# cost of crew-day of suppression / cost of mile traveled\n",
    "alpha = 200\n",
    "\n",
    "# how much perimeter prevented per crew per time period\n",
    "line_per_crew = 17\n",
    "\n",
    "display((C, T, G))\n",
    "display(base_fire_dists[1:C, 1:G])\n",
    "display(crew_starts)"
   ]
  },
  {
   "cell_type": "markdown",
   "id": "a4b4bb23",
   "metadata": {},
   "source": [
    "## Define arc sets (most slippery part, should write a unit test)"
   ]
  },
  {
   "cell_type": "code",
   "execution_count": 3,
   "id": "02029579",
   "metadata": {},
   "outputs": [
    {
     "data": {
      "text/plain": [
       "((1989,), (663,), (669,), (304,))"
      ]
     },
     "execution_count": 3,
     "metadata": {},
     "output_type": "execute_result"
    }
   ],
   "source": [
    "## generate fire_to_fire index set\n",
    "\n",
    "# arcs for time-space network for non-rested crews\n",
    "non_rested_ff = [(c, f_from, f_to, t_from, t_from + tau[f_to, f_from], 0)\n",
    "                  for c=1:C, f_from=1:G, f_to=1:G, t_from=1:T\n",
    "                  if t_from <= rest_by[c]]\n",
    "\n",
    "# arcs for time-space network for rested crews\n",
    "rested_ff = [(c, f_from, f_to, t_from, t_from + tau[f_to, f_from], 1)\n",
    "               for c=1:C, f_from=1:G, f_to=1:G, t_from=1:T\n",
    "               if 1==1]\n",
    "\n",
    "# special arcs for first travel from initial fires\n",
    "from_start_ff = [(c, current_fire[c], f_to, 0, tau[f_to, current_fire[c]], 0)\n",
    "                  for c=1:C, f_to=1:G\n",
    "                  if current_fire[c] != -1]\n",
    "\n",
    "# concat\n",
    "ff_ix = vcat(non_rested_ff, rested_ff)\n",
    "ff_ix = vcat(from_start_ff, ff_ix)\n",
    "\n",
    "## generate fire_to_rest index set\n",
    "\n",
    "# arcs for time-space network for non-rested crews\n",
    "non_rested_fr = [(c, f_from, t_from, t_from + tau_base_to_fire[c, f_from], 0)\n",
    "                  for c=1:C, f_from=1:G, t_from=1:T\n",
    "                  if t_from <= rest_by[c]]\n",
    "\n",
    "# arcs for time-space network for rested crews\n",
    "rested_fr = [(c, f_from, t_from, t_from + tau_base_to_fire[c, f_from], 1)\n",
    "               for c=1:C, f_from=1:G, t_from=1:T\n",
    "               if 1==1]\n",
    "\n",
    "# special arcs for first travel from initial fires\n",
    "from_start_fr = [(c, current_fire[c], 0, tau_base_to_fire[c, current_fire[c]], 0)\n",
    "                  for c=1:C\n",
    "                  if current_fire[c] != -1]\n",
    "\n",
    "# concat\n",
    "fr_ix = vcat(non_rested_fr, rested_fr)\n",
    "fr_ix = vcat(from_start_fr, fr_ix)\n",
    "\n",
    "## generate rest_to_fire index set\n",
    "\n",
    "# arcs for time-space network when leaving base without rest\n",
    "non_rested_rf = [(c, f_to, t_from, t_from + tau_base_to_fire[c, f_to], 0)\n",
    "                   for c=1:C, f_to=1:G, t_from=1:T\n",
    "                   if t_from <= rest_by[c]]\n",
    "\n",
    "# arcs for time-space network when going non-rest -> rest\n",
    "rested_rf = [(c, f_to, t_from, t_from + tau_base_to_fire[c, f_to], 1)\n",
    "               for c=1:C, f_to=1:G, t_from=1:T\n",
    "               if 1==1]\n",
    "\n",
    "# special arcs for first travel from initial rest\n",
    "from_start_rf = [(c, f_to, 0, tau_base_to_fire[c, f_to], 0)\n",
    "                  for c=1:C, f_to=1:G\n",
    "                  if current_fire[c] == -1]\n",
    "\n",
    "# concat\n",
    "rf_ix = vcat(non_rested_rf, rested_rf)\n",
    "rf_ix = vcat(from_start_rf, rf_ix)\n",
    "\n",
    "## generate rest_to_rest index set\n",
    "## (crew, time_from, time_to, rested_From, rested_to)\n",
    "\n",
    "\n",
    "non_to_non_rested_rr = [(c, t_from, t_from + 1, 0, 0)\n",
    "                           for c=1:C, t_from=1:T\n",
    "                           if t_from <= rest_by[c]]\n",
    "\n",
    "non_to_yes_rested_rr = [(c, t_from, t_from + break_length, 0, 1)\n",
    "                           for c=1:C, t_from=1:T\n",
    "                           if t_from <= rest_by[c]]\n",
    "\n",
    "yes_rested_rr = [(c, t_from, t_from + 1, 1, 1)\n",
    "                   for c=1:C, t_from=1:T\n",
    "                    if 1==1]\n",
    "\n",
    "from_start_to_non_rested_rr = [(c, 0, 1, 0, 0) for c=1:C if current_fire[c] == -1]\n",
    "from_start_to_yes_rested_rr = [(c, 0, break_length - rested_periods[c], 0, 1) \n",
    "                                  for c=1:C \n",
    "                                  if (current_fire[c] == -1) & (rested_periods[c] != -1)]\n",
    "\n",
    "\n",
    "rr_ix = vcat(non_to_non_rested_rr, non_to_yes_rested_rr)\n",
    "rr_ix = vcat(rr_ix, yes_rested_rr)\n",
    "rr_ix = vcat(from_start_to_non_rested_rr, rr_ix)\n",
    "rr_ix = vcat(from_start_to_yes_rested_rr, rr_ix)\n",
    "\n",
    "ff_ix_arr = [[ix for ix in ff_ix if ix[1] == c] for c=1:C]\n",
    "fr_ix_arr = [[ix for ix in fr_ix if ix[1] == c] for c=1:C]\n",
    "rf_ix_arr = [[ix for ix in rf_ix if ix[1] == c] for c=1:C]\n",
    "rr_ix_arr = [[ix for ix in rr_ix if ix[1] == c] for c=1:C]\n",
    "\n",
    "size(ff_ix), size(fr_ix), size(rf_ix), size(rr_ix)"
   ]
  },
  {
   "cell_type": "markdown",
   "id": "07382fd8",
   "metadata": {},
   "source": [
    "## Make model"
   ]
  },
  {
   "cell_type": "code",
   "execution_count": 4,
   "id": "3f2f3814",
   "metadata": {},
   "outputs": [
    {
     "name": "stdout",
     "output_type": "stream",
     "text": [
      "Academic license - for non-commercial use only\r\n"
     ]
    }
   ],
   "source": [
    "m = Model(Gurobi.Optimizer)\n",
    "\n",
    "# fire suppression plan section\n",
    "@variable(m, p[g=1:G, t=1:T+1] >= 0)\n",
    "@variable(m, l[g=1:G, t=1:T] >= 0)\n",
    "@constraint(m, perim_growth[g=1:G, t=1:T], p[g, t+1] >= progressions[g, t] * (p[g, t] - l[g, t] / 2)                                                             - l[g, t] / 2)\n",
    "@constraint(m, perim_start[g=1:G], p[g, 1] == start_perims[g])\n",
    "\n",
    "# routing plan section\n",
    "@variable(m, ff[ff_ix] >= 0)\n",
    "@variable(m, fr[fr_ix] >= 0)\n",
    "@variable(m, rf[rf_ix] >= 0)\n",
    "@variable(m, rr[rr_ix] >= 0)\n",
    "\n",
    "\n",
    "@constraint(m, fire_flow[c=1:C, g=1:G, t=1:T, rest=0:1],\n",
    "    \n",
    "            # outflow\n",
    "            sum(ff[key] for key in ff_ix_arr[c]\n",
    "                    if (key[2] == g) & (key[4] == t) & (key[6] == rest)\n",
    "                ) +    \n",
    "    \n",
    "            sum(fr[key] for key in fr_ix_arr[c]\n",
    "                        if (key[2] == g) & (key[3] == t) & (key[5] == rest)\n",
    "                ) \n",
    "    \n",
    "    ==\n",
    "            # inflow\n",
    "            sum(ff[key] for key in ff_ix_arr[c]\n",
    "                        if (key[3] == g) & (key[5] == t) & (key[6] == rest)\n",
    "                ) +\n",
    "    \n",
    "            sum(rf[key] for key in rf_ix_arr[c]\n",
    "                        if (key[2] == g) & (key[4] == t) & (key[5] == rest)\n",
    "                ) \n",
    "    \n",
    "            )   \n",
    "\n",
    "@constraint(m, rest_flow[c=1:C, t=1:T, rest=0:1], \n",
    "    \n",
    "            # outflow\n",
    "            sum(rf[key] for key in rf_ix_arr[c]\n",
    "                        if (key[3] == t) & (key[5] == rest)\n",
    "                ) +\n",
    "    \n",
    "            sum(rr[key] for key in rr_ix_arr[c]\n",
    "                        if (key[2] == t) & (key[4] == rest)\n",
    "                )\n",
    "    \n",
    "            ==       \n",
    "    \n",
    "            # inflow\n",
    "            sum(fr[key] for key in fr_ix_arr[c]\n",
    "                        if (key[4] == t) &  (key[5] == rest)\n",
    "                ) +\n",
    "            sum(rr[key] for key in rr_ix_arr[c]\n",
    "                        if (key[3] == t) & (key[5] == rest)\n",
    "                )\n",
    "           )\n",
    "\n",
    "@constraint(m, start[c=1:C], \n",
    "    \n",
    "    sum(ff[key] for key in from_start_ff if key[1] == c) + \n",
    "    sum(rf[key] for key in from_start_rf if key[1] == c) + \n",
    "    sum(fr[key] for key in from_start_fr if key[1] == c) + \n",
    "    sum(rr[key] for key in from_start_to_non_rested_rr if key[1] == c) + \n",
    "    sum(rr[key] for key in from_start_to_yes_rested_rr if key[1] == c)== 1\n",
    "           )\n",
    "\n",
    "\n",
    "# linking constraints\n",
    "@constraint(m, linking[g=1:G, t=1:T],\n",
    "    \n",
    "     sum(ff[key] for key in ff_ix if (key[3] == g) & (key[5] == t)) + \n",
    "     sum(rf[key] for key in rf_ix if (key[2] == g) & (key[4] == t))\n",
    "        >= l[g, t] / line_per_crew\n",
    "    \n",
    "           );"
   ]
  },
  {
   "cell_type": "markdown",
   "id": "831ca56b",
   "metadata": {},
   "source": [
    "## Run model"
   ]
  },
  {
   "cell_type": "code",
   "execution_count": 5,
   "id": "9fec19fa",
   "metadata": {},
   "outputs": [
    {
     "name": "stdout",
     "output_type": "stream",
     "text": [
      "Gurobi Optimizer version 9.0.3 build v9.0.3rc0 (win64)\r\n",
      "Optimize a model with 1217 rows, 3712 columns and 9739 nonzeros\r\n",
      "Model fingerprint: 0x1d643ff0\r\n",
      "Coefficient statistics:\r\n",
      "  Matrix range     [6e-02, 4e+00]\r\n",
      "  Objective range  [3e+01, 9e+02]\r\n",
      "  Bounds range     [0e+00, 0e+00]\r\n",
      "  RHS range        [1e+00, 1e+03]\r\n",
      "Presolve removed 566 rows and 996 columns\r\n",
      "Presolve time: 0.01s\r\n",
      "Presolved: 651 rows, 2716 columns, 7469 nonzeros\r\n",
      "\r\n",
      "Iteration    Objective       Primal Inf.    Dual Inf.      Time\r\n",
      "       0    1.6295548e+05   3.567755e+02   0.000000e+00      0s\r\n",
      "    1136    1.1445329e+06   0.000000e+00   0.000000e+00      0s\r\n",
      "\r\n",
      "Solved in 1136 iterations and 0.03 seconds\r\n",
      "Optimal objective  1.144532856e+06\r\n",
      "\r\n",
      "User-callback calls 1184, time in user-callback 0.01 sec\r\n"
     ]
    }
   ],
   "source": [
    "@objective(m, Min, \n",
    "    beta * (sum(p) - sum(p[1:G, 1])/2 - sum(p[1:G, T+1])/2) + \n",
    "    sum(ff[key] * (alpha + fire_dists[key[2], key[3]]) for key in ff_ix) +\n",
    "    sum(fr[key] * (base_fire_dists[key[1], key[2]]) for key in fr_ix) + \n",
    "    sum(rf[key] * (alpha + base_fire_dists[key[1], key[2]]) for key in rf_ix)\n",
    "\n",
    ")\n",
    "\n",
    "optimize!(m);"
   ]
  },
  {
   "cell_type": "code",
   "execution_count": 6,
   "id": "8990b236",
   "metadata": {
    "scrolled": true
   },
   "outputs": [
    {
     "name": "stdout",
     "output_type": "stream",
     "text": [
      "3×15 Matrix{Float64}:\n",
      " 1000.0  1500.0  1500.0  1500.0  1350.0  1167.5  937.7  627.76  379.808  181.446  40.3125  0.0  0.0  0.0  0.0\n",
      "  500.0   500.0   375.0   222.0    69.0     0.0    0.0    0.0     0.0      0.0     0.0     0.0  0.0  0.0  0.0\n",
      "  100.0    17.5     0.0     0.0     0.0     0.0    0.0    0.0     0.0      0.0     0.0     0.0  0.0  0.0  0.0\n",
      "\n",
      "3×14 Matrix{Float64}:\n",
      " 0.0  0.0      0.0  0.0  2.94118  7.0  8.0  8.0  8.0  6.0  1.95285  0.0  0.0  0.0\n",
      " 0.0  7.35294  9.0  9.0  4.05882  0.0  0.0  0.0  0.0  0.0  0.0      0.0  0.0  0.0\n",
      " 9.0  1.64706  0.0  0.0  0.0      0.0  0.0  0.0  0.0  0.0  0.0      0.0  0.0  0.0"
     ]
    }
   ],
   "source": [
    "# show the perimeter progressions and number of crews suppressing\n",
    "show(stdout, \"text/plain\", value.(p))\n",
    "print(\"\\n\\n\")\n",
    "show(stdout, \"text/plain\", value.(l)/line_per_crew)"
   ]
  },
  {
   "cell_type": "markdown",
   "id": "d0eb467e",
   "metadata": {},
   "source": [
    "## Generate starting columns for CG approach"
   ]
  },
  {
   "cell_type": "markdown",
   "id": "0a220f82",
   "metadata": {},
   "source": [
    "### Fire suppression plans"
   ]
  },
  {
   "cell_type": "code",
   "execution_count": 7,
   "id": "233873a0",
   "metadata": {},
   "outputs": [
    {
     "data": {
      "text/plain": [
       "fire_plan_cost (generic function with 1 method)"
      ]
     },
     "execution_count": 7,
     "metadata": {},
     "output_type": "execute_result"
    }
   ],
   "source": [
    "function fire_plan_cost(start_perim, line_per_day, progression)\n",
    "    \n",
    "    perim = start_perim\n",
    "    area = 0\n",
    "    new_perim = 0\n",
    "    for i in 1:length(progression)\n",
    "        new_perim = (perim - line_per_day[i]/2) * progression[i] - line_per_day[i]/2\n",
    "        new_perim = max(new_perim, 0)\n",
    "        area = area + perim/2 + new_perim/2\n",
    "        perim = new_perim\n",
    "    end\n",
    "    area\n",
    "end"
   ]
  },
  {
   "cell_type": "code",
   "execution_count": 8,
   "id": "12f33f01",
   "metadata": {},
   "outputs": [],
   "source": [
    "plans_per_fire = 20\n",
    "B = zeros((plans_per_fire, G, T))\n",
    "fire_costs = zeros((plans_per_fire, G));"
   ]
  },
  {
   "cell_type": "markdown",
   "id": "6fb70b3d",
   "metadata": {},
   "source": [
    "First we round down the crews per day to integers, and then we take away as few crews as possible while enumerating the desired number of plans.\n",
    "\n",
    "For example [2, 2, 2, 2, 1, 1, 0] will give plan options like\n",
    "- [2, 2, 2, 2, 1, 1, 0] \n",
    "- [1, 2, 2, 2, 1, 1, 0] \n",
    "- [2, 1, 2, 2, 1, 1, 0] \n",
    "- [2, 2, 1, 2, 1, 1, 0] \n",
    "\n",
    "etc."
   ]
  },
  {
   "cell_type": "code",
   "execution_count": 9,
   "id": "4b034cdb",
   "metadata": {},
   "outputs": [
    {
     "data": {
      "text/plain": [
       "perturb (generic function with 1 method)"
      ]
     },
     "execution_count": 9,
     "metadata": {},
     "output_type": "execute_result"
    }
   ],
   "source": [
    "function perturb(list, round_ix, first, last, amount)\n",
    "    [i in round_ix[first+1:last] ? list[i] + amount : list[i] for i in 1:length(list)]\n",
    "end\n",
    "    "
   ]
  },
  {
   "cell_type": "code",
   "execution_count": 10,
   "id": "ae97850b",
   "metadata": {},
   "outputs": [],
   "source": [
    "# hpw many plans to make per fire\n",
    "plans_per_fire = 20\n",
    "\n",
    "# initialize list of number of perturbations found for each fire (current process might not yield\n",
    "# enough plans)\n",
    "found_plans = convert.(Int, zeros(G))\n",
    "\n",
    "# initialize costs and allocations\n",
    "B = zeros((plans_per_fire, G, T))\n",
    "fire_costs = zeros((plans_per_fire, G))\n",
    "\n",
    "# for each fire\n",
    "for fire in 1:G\n",
    "    \n",
    "    assignments = (value.(l)/line_per_crew)[fire, 1:T]\n",
    "    assignments = round.(assignments)\n",
    "\n",
    "    plan = 0\n",
    "    perturb_amount = 1\n",
    "    ix_to_round = [i for i in 1:T if (assignments[i] > perturb_amount - 0.99) & \n",
    "                                     (assignments[i] + perturb_amount < C + 0.01)]\n",
    "\n",
    "    while (plan < plans_per_fire) & (length(ix_to_round) > 0)\n",
    "\n",
    "        ixs = [(i, j) for i in 0:length(ix_to_round) for j in 0:length(ix_to_round) if i < j]\n",
    "\n",
    "        for ix in ixs\n",
    "            perturbed_up = perturb(assignments, ix_to_round, ix[1], ix[2], perturb_amount)\n",
    "            perturbed_down = perturb(assignments, ix_to_round, ix[1], ix[2], -perturb_amount)\n",
    "\n",
    "            plan = plan + 1\n",
    "            if plan <= plans_per_fire\n",
    "                found_plans[fire] = plan\n",
    "                B[plan, fire, :] = perturbed_up\n",
    "\n",
    "                fire_costs[plan, fire] = beta * fire_plan_cost(start_perims[fire], \n",
    "                                                   perturbed_up * line_per_crew, \n",
    "                                                   progressions[fire, :])\n",
    "            end\n",
    "\n",
    "            plan = plan + 1\n",
    "            if plan <= plans_per_fire\n",
    "                found_plans[fire] = plan\n",
    "                B[plan, fire, :] = perturbed_down\n",
    "\n",
    "                fire_costs[plan, fire] = beta * fire_plan_cost(start_perims[fire], \n",
    "                                                   perturbed_down * line_per_crew, \n",
    "                                                   progressions[fire, :])\n",
    "            end\n",
    "        end\n",
    "        perturb_amount = perturb_amount + 1\n",
    "        ix_to_round = [i for i in 1:T if (assignments[i] > perturb_amount - 0.99) & \n",
    "                                 (assignments[i] + perturb_amount < C + 0.01)]\n",
    "    end\n",
    "    \n",
    "end"
   ]
  },
  {
   "cell_type": "code",
   "execution_count": 11,
   "id": "84afcc69",
   "metadata": {},
   "outputs": [
    {
     "data": {
      "text/plain": [
       "14-element Vector{Float64}:\n",
       " 0.0\n",
       " 0.0\n",
       " 0.0\n",
       " 0.0\n",
       " 2.0\n",
       " 6.0\n",
       " 7.0\n",
       " 7.0\n",
       " 8.0\n",
       " 6.0\n",
       " 2.0\n",
       " 0.0\n",
       " 0.0\n",
       " 0.0"
      ]
     },
     "execution_count": 11,
     "metadata": {},
     "output_type": "execute_result"
    }
   ],
   "source": [
    "B[8, 1, :]"
   ]
  },
  {
   "cell_type": "code",
   "execution_count": 38,
   "id": "8f34d465",
   "metadata": {},
   "outputs": [
    {
     "data": {
      "text/plain": [
       "routes_from_plan (generic function with 2 methods)"
      ]
     },
     "execution_count": 38,
     "metadata": {},
     "output_type": "execute_result"
    }
   ],
   "source": [
    "function routes_from_plan(plans_arr, supp_plans)\n",
    "    \n",
    "    m = Model(Gurobi.Optimizer)\n",
    "    set_optimizer_attribute(m, \"OutputFlag\", 0)\n",
    "\n",
    "\n",
    "    # routing plan section\n",
    "    @variable(m, ff[ff_ix], Bin)\n",
    "    @variable(m, fr[fr_ix], Bin)\n",
    "    @variable(m, rf[rf_ix], Bin)\n",
    "    @variable(m, rr[rr_ix], Bin)\n",
    "\n",
    "\n",
    "    @constraint(m, fire_flow[c=1:C, g=1:G, t=1:T, rest=0:1],\n",
    "\n",
    "                # outflow\n",
    "                sum(ff[key] for key in ff_ix_arr[c]\n",
    "                        if (key[2] == g) & (key[4] == t) & (key[6] == rest)\n",
    "                    ) +    \n",
    "\n",
    "                sum(fr[key] for key in fr_ix_arr[c]\n",
    "                            if (key[2] == g) & (key[3] == t) & (key[5] == rest)\n",
    "                    ) \n",
    "\n",
    "        ==\n",
    "                # inflow\n",
    "                sum(ff[key] for key in ff_ix_arr[c]\n",
    "                            if (key[3] == g) & (key[5] == t) & (key[6] == rest)\n",
    "                    ) +\n",
    "\n",
    "                sum(rf[key] for key in rf_ix_arr[c]\n",
    "                            if (key[2] == g) & (key[4] == t) & (key[5] == rest)\n",
    "                    ) \n",
    "\n",
    "                )   \n",
    "\n",
    "    @constraint(m, rest_flow[c=1:C, t=1:T, rest=0:1], \n",
    "\n",
    "                # outflow\n",
    "                sum(rf[key] for key in rf_ix_arr[c]\n",
    "                            if (key[3] == t) & (key[5] == rest)\n",
    "                    ) +\n",
    "\n",
    "                sum(rr[key] for key in rr_ix_arr[c]\n",
    "                            if (key[2] == t) & (key[4] == rest)\n",
    "                    )\n",
    "\n",
    "                ==       \n",
    "\n",
    "                # inflow\n",
    "                sum(fr[key] for key in fr_ix_arr[c]\n",
    "                            if (key[4] == t) &  (key[5] == rest)\n",
    "                    ) +\n",
    "                sum(rr[key] for key in rr_ix_arr[c]\n",
    "                            if (key[3] == t) & (key[5] == rest)\n",
    "                    )\n",
    "               )\n",
    "\n",
    "    @constraint(m, start[c=1:C], \n",
    "\n",
    "        sum(ff[key] for key in from_start_ff if key[1] == c) + \n",
    "        sum(rf[key] for key in from_start_rf if key[1] == c) + \n",
    "        sum(fr[key] for key in from_start_fr if key[1] == c) + \n",
    "        sum(rr[key] for key in from_start_to_non_rested_rr if key[1] == c) + \n",
    "        sum(rr[key] for key in from_start_to_yes_rested_rr if key[1] == c)== 1\n",
    "               )\n",
    "\n",
    "\n",
    "    # linking constraints\n",
    "    @constraint(m, linking[g=1:G, t=1:T],\n",
    "\n",
    "         sum(ff[key] for key in ff_ix if (key[3] == g) & (key[5] == t)) + \n",
    "         sum(rf[key] for key in rf_ix if (key[2] == g) & (key[4] == t))\n",
    "            >= supp_plans[plans_arr[g], g, t]\n",
    "\n",
    "               );\n",
    "\n",
    "    @objective(m, Min, \n",
    "        sum(ff[key] * (alpha + fire_dists[key[2], key[3]]) for key in ff_ix) +\n",
    "        sum(fr[key] * (base_fire_dists[key[1], key[2]]) for key in fr_ix) + \n",
    "        sum(rf[key] * (alpha + base_fire_dists[key[1], key[2]]) for key in rf_ix)\n",
    "    )\n",
    "\n",
    "    optimize!(m)\n",
    "    \n",
    "    opt = false\n",
    "    fires_fought = [(0)]\n",
    "    route_costs = [1]\n",
    "    if termination_status(m) == MOI.OPTIMAL\n",
    "        opt = true\n",
    "        fires_fought = vcat([(ix[1], ix[3], ix[5]) for ix in ff_ix if (value(ff[ix]) > 0.99)],\n",
    "                        [(ix[1], ix[2], ix[4]) for ix in rf_ix if (value(rf[ix]) > 0.99)])\n",
    "        \n",
    "        route_costs = \n",
    "        [sum(value(ff[key]) * (alpha + fire_dists[key[2], key[3]]) for key in ff_ix_arr[crew]) +\n",
    "        sum(value(fr[key]) * (base_fire_dists[key[1], key[2]]) for key in fr_ix_arr[crew]) + \n",
    "        sum(value(rf[key]) * (alpha + base_fire_dists[key[1], key[2]]) for key in rf_ix_arr[crew])\n",
    "            for crew = 1:C]\n",
    "    end\n",
    "    opt, fires_fought, route_costs\n",
    "end"
   ]
  },
  {
   "cell_type": "code",
   "execution_count": 39,
   "id": "ec51d26c",
   "metadata": {},
   "outputs": [
    {
     "data": {
      "text/plain": [
       "10-element Vector{Vector{Int64}}:\n",
       " [8, 14, 2]\n",
       " [8, 12, 2]\n",
       " [20, 16, 6]\n",
       " [16, 8, 6]\n",
       " [16, 4, 8]\n",
       " [2, 20, 8]\n",
       " [2, 18, 4]\n",
       " [18, 14, 8]\n",
       " [2, 6, 4]\n",
       " [8, 18, 2]"
      ]
     },
     "execution_count": 39,
     "metadata": {},
     "output_type": "execute_result"
    }
   ],
   "source": [
    "trials = 10\n",
    "samples = unique([[rand(1:found_plans[g]) for g in 1:G] for i in 1:20*trials])\n",
    "samples = [i for i in samples if sum(mod.(i, 2)) == 0][1:trials]"
   ]
  },
  {
   "cell_type": "code",
   "execution_count": 49,
   "id": "e316d927",
   "metadata": {},
   "outputs": [
    {
     "name": "stdout",
     "output_type": "stream",
     "text": [
      "Academic license - for non-commercial use only\r\n"
     ]
    },
    {
     "data": {
      "text/plain": [
       "(true, Tuple{Int64, Int64, Int64}[], [0.0, 0.0, 301.86514967206256, 202.72917060159685, 248.55189457564524, 0.0, 388.0961083852714, 201.87621790011204, 0.0, 168.80604685654075])"
      ]
     },
     "execution_count": 49,
     "metadata": {},
     "output_type": "execute_result"
    }
   ],
   "source": [
    "dummy = routes_from_plan([1, 1, 1], zeros(size(B)))"
   ]
  },
  {
   "cell_type": "code",
   "execution_count": 40,
   "id": "9a396bd2",
   "metadata": {},
   "outputs": [
    {
     "name": "stdout",
     "output_type": "stream",
     "text": [
      "Academic license - for non-commercial use only\r\n",
      "Academic license - for non-commercial use only\r\n",
      "Academic license - for non-commercial use only\r\n",
      "Academic license - for non-commercial use only\r\n",
      "Academic license - for non-commercial use only\r\n",
      "Academic license - for non-commercial use only\r\n",
      "Academic license - for non-commercial use only\r\n",
      "Academic license - for non-commercial use only\r\n",
      "Academic license - for non-commercial use only\r\n",
      "Academic license - for non-commercial use only\r\n"
     ]
    }
   ],
   "source": [
    "all_routes = [routes_from_plan(sample, B) for sample in samples];"
   ]
  },
  {
   "cell_type": "code",
   "execution_count": 44,
   "id": "d417a302",
   "metadata": {},
   "outputs": [
    {
     "data": {
      "text/plain": [
       "10-element Vector{Tuple{Bool, Vector{Tuple{Int64, Int64, Int64}}, Vector{Float64}}}:\n",
       " (1, [(3, 3, 1), (4, 3, 1), (5, 3, 1), (7, 3, 1), (8, 3, 1), (2, 2, 2), (3, 2, 2), (4, 2, 2), (5, 2, 2), (7, 2, 2)  …  (10, 1, 10), (9, 1, 11), (1, 3, 1), (2, 3, 1), (6, 3, 1), (9, 2, 2), (10, 2, 4), (10, 1, 6), (5, 1, 7), (8, 1, 9)], [3152.2808261540376, 3590.465890663369, 2853.4675421846036, 2754.3315631141377, 2508.578576377684, 924.5942180600978, 1792.5317583419405, 2175.4325442808777, 2826.2481047524516, 1761.7693102953313])\n",
       " (1, [(3, 3, 1), (4, 3, 1), (5, 3, 1), (7, 3, 1), (8, 3, 1), (1, 2, 2), (2, 2, 2), (3, 2, 2), (5, 2, 2), (7, 2, 2)  …  (9, 1, 10), (10, 1, 10), (5, 1, 11), (1, 3, 1), (2, 3, 1), (6, 3, 1), (9, 2, 2), (10, 2, 4), (5, 1, 7), (8, 1, 9)], [3152.2808261540376, 3590.465890663369, 2853.4675421846036, 2754.3315631141377, 2708.578576377684, 924.5942180600978, 1792.5317583419405, 2175.4325442808777, 2626.2481047524516, 1890.521390237407])\n",
       " (1, [(3, 3, 1), (4, 3, 1), (5, 3, 1), (7, 3, 1), (8, 3, 1), (1, 2, 2), (2, 2, 2), (3, 2, 2), (4, 2, 2), (5, 2, 2)  …  (9, 1, 11), (1, 3, 1), (2, 3, 1), (6, 3, 1), (9, 3, 1), (8, 2, 3), (10, 1, 5), (9, 1, 7), (8, 1, 8), (5, 1, 9)], [2952.2808261540376, 3790.465890663369, 2853.4675421846036, 2754.3315631141377, 2508.578576377684, 2429.469808029474, 1792.5317583419405, 2193.0060719862386, 3255.3292285946836, 1590.2205016972346])\n",
       " (1, [(3, 3, 1), (4, 3, 1), (5, 3, 1), (7, 3, 1), (8, 3, 1), (2, 2, 2), (3, 2, 2), (4, 2, 2), (5, 2, 2), (6, 2, 2)  …  (9, 1, 11), (1, 3, 1), (2, 3, 1), (6, 3, 1), (9, 3, 1), (8, 2, 3), (10, 2, 4), (8, 1, 7), (9, 1, 7), (5, 1, 8)], [2952.2808261540376, 3590.465890663369, 2853.4675421846036, 2754.3315631141377, 2708.578576377684, 2429.469808029474, 1792.5317583419405, 2193.0060719862386, 2558.4926326461073, 1890.521390237407])\n",
       " (1, [(3, 3, 1), (4, 3, 1), (5, 3, 1), (7, 3, 1), (8, 3, 1), (1, 2, 2), (2, 2, 2), (3, 2, 2), (4, 2, 2), (6, 2, 2)  …  (2, 3, 1), (6, 3, 1), (9, 3, 1), (5, 2, 3), (8, 2, 3), (10, 2, 4), (9, 1, 7), (10, 1, 7), (7, 1, 8), (8, 1, 8)], [2952.2808261540376, 3590.465890663369, 2853.4675421846036, 2754.3315631141377, 2235.779115408226, 2429.469808029474, 3080.0671371037743, 2193.0060719862386, 2558.4926326461073, 1961.7693102953313])\n",
       " (1, [(3, 3, 1), (4, 3, 1), (5, 3, 1), (7, 3, 1), (8, 3, 1), (1, 2, 2), (2, 2, 2), (3, 2, 2), (4, 2, 2), (6, 2, 2)  …  (6, 3, 1), (9, 3, 1), (5, 2, 3), (8, 2, 3), (5, 1, 6), (10, 2, 4), (10, 1, 6), (9, 1, 7), (7, 1, 8), (8, 1, 8)], [3152.2808261540376, 3590.465890663369, 2853.4675421846036, 2754.3315631141377, 2186.126708237645, 2429.469808029474, 3080.0671371037743, 2193.0060719862386, 3255.3292285946836, 1761.7693102953313])\n",
       " (1, [(3, 3, 1), (4, 3, 1), (5, 3, 1), (7, 3, 1), (8, 3, 1), (1, 2, 2), (2, 2, 2), (3, 2, 2), (4, 2, 2), (5, 2, 2)  …  (10, 1, 10), (8, 1, 11), (1, 3, 1), (2, 3, 1), (6, 3, 1), (1, 1, 6), (9, 2, 3), (10, 1, 6), (8, 1, 7), (5, 1, 8)], [2913.8632169415228, 3790.465890663369, 2853.4675421846036, 2754.3315631141377, 2508.578576377684, 2429.469808029474, 1792.5317583419405, 2575.432544280877, 2426.2481047524516, 1390.2205016972346])\n",
       " (1, [(3, 3, 1), (4, 3, 1), (5, 3, 1), (7, 3, 1), (8, 3, 1), (1, 2, 2), (2, 2, 2), (3, 2, 2), (4, 2, 2), (5, 2, 2)  …  (10, 1, 11), (1, 3, 1), (2, 3, 1), (6, 3, 1), (9, 3, 1), (8, 2, 3), (10, 2, 4), (9, 1, 6), (8, 1, 7), (5, 1, 8)], [2952.2808261540376, 3590.465890663369, 2853.4675421846036, 2754.3315631141377, 2708.578576377684, 1918.1148356912938, 1792.5317583419405, 2193.0060719862386, 2558.4926326461073, 2090.521390237407])\n",
       " (1, [(3, 3, 1), (4, 3, 1), (5, 3, 1), (7, 3, 1), (8, 3, 1), (1, 2, 2), (2, 2, 2), (3, 2, 2), (4, 2, 2), (6, 2, 2)  …  (10, 1, 10), (5, 1, 11), (10, 1, 11), (1, 3, 1), (2, 3, 1), (6, 3, 1), (9, 2, 3), (10, 2, 4), (5, 1, 6), (8, 1, 7)], [2952.2808261540376, 3590.465890663369, 2853.4675421846036, 2754.3315631141377, 2432.7693756535523, 1718.1148356912938, 1792.5317583419405, 2375.4325442808777, 2426.2481047524516, 2090.521390237407])\n",
       " (1, [(3, 3, 1), (4, 3, 1), (5, 3, 1), (7, 3, 1), (8, 3, 1), (1, 2, 2), (3, 2, 2), (5, 2, 2), (6, 2, 2), (7, 2, 2)  …  (9, 1, 10), (10, 1, 10), (8, 1, 11), (1, 3, 1), (2, 3, 1), (6, 3, 1), (9, 2, 2), (10, 1, 6), (8, 1, 7), (5, 1, 9)], [2952.2808261540376, 3790.465890663369, 2853.4675421846036, 2754.3315631141377, 2308.578576377684, 1718.1148356912938, 1792.5317583419405, 2575.432544280877, 2626.2481047524516, 1390.2205016972346])"
      ]
     },
     "execution_count": 44,
     "metadata": {},
     "output_type": "execute_result"
    }
   ],
   "source": [
    "all_routes"
   ]
  },
  {
   "cell_type": "code",
   "execution_count": 56,
   "id": "d6faac97",
   "metadata": {},
   "outputs": [
    {
     "data": {
      "text/plain": [
       "11-element Vector{Tuple{Bool, Vector{Tuple{Int64, Int64, Int64}}, Vector{Float64}}}:\n",
       " (1, [(3, 3, 1), (4, 3, 1), (5, 3, 1), (7, 3, 1), (8, 3, 1), (2, 2, 2), (3, 2, 2), (4, 2, 2), (5, 2, 2), (7, 2, 2)  …  (10, 1, 10), (9, 1, 11), (1, 3, 1), (2, 3, 1), (6, 3, 1), (9, 2, 2), (10, 2, 4), (10, 1, 6), (5, 1, 7), (8, 1, 9)], [3152.2808261540376, 3590.465890663369, 2853.4675421846036, 2754.3315631141377, 2508.578576377684, 924.5942180600978, 1792.5317583419405, 2175.4325442808777, 2826.2481047524516, 1761.7693102953313])\n",
       " (1, [(3, 3, 1), (4, 3, 1), (5, 3, 1), (7, 3, 1), (8, 3, 1), (1, 2, 2), (2, 2, 2), (3, 2, 2), (5, 2, 2), (7, 2, 2)  …  (9, 1, 10), (10, 1, 10), (5, 1, 11), (1, 3, 1), (2, 3, 1), (6, 3, 1), (9, 2, 2), (10, 2, 4), (5, 1, 7), (8, 1, 9)], [3152.2808261540376, 3590.465890663369, 2853.4675421846036, 2754.3315631141377, 2708.578576377684, 924.5942180600978, 1792.5317583419405, 2175.4325442808777, 2626.2481047524516, 1890.521390237407])\n",
       " (1, [(3, 3, 1), (4, 3, 1), (5, 3, 1), (7, 3, 1), (8, 3, 1), (1, 2, 2), (2, 2, 2), (3, 2, 2), (4, 2, 2), (5, 2, 2)  …  (9, 1, 11), (1, 3, 1), (2, 3, 1), (6, 3, 1), (9, 3, 1), (8, 2, 3), (10, 1, 5), (9, 1, 7), (8, 1, 8), (5, 1, 9)], [2952.2808261540376, 3790.465890663369, 2853.4675421846036, 2754.3315631141377, 2508.578576377684, 2429.469808029474, 1792.5317583419405, 2193.0060719862386, 3255.3292285946836, 1590.2205016972346])\n",
       " (1, [(3, 3, 1), (4, 3, 1), (5, 3, 1), (7, 3, 1), (8, 3, 1), (2, 2, 2), (3, 2, 2), (4, 2, 2), (5, 2, 2), (6, 2, 2)  …  (9, 1, 11), (1, 3, 1), (2, 3, 1), (6, 3, 1), (9, 3, 1), (8, 2, 3), (10, 2, 4), (8, 1, 7), (9, 1, 7), (5, 1, 8)], [2952.2808261540376, 3590.465890663369, 2853.4675421846036, 2754.3315631141377, 2708.578576377684, 2429.469808029474, 1792.5317583419405, 2193.0060719862386, 2558.4926326461073, 1890.521390237407])\n",
       " (1, [(3, 3, 1), (4, 3, 1), (5, 3, 1), (7, 3, 1), (8, 3, 1), (1, 2, 2), (2, 2, 2), (3, 2, 2), (4, 2, 2), (6, 2, 2)  …  (2, 3, 1), (6, 3, 1), (9, 3, 1), (5, 2, 3), (8, 2, 3), (10, 2, 4), (9, 1, 7), (10, 1, 7), (7, 1, 8), (8, 1, 8)], [2952.2808261540376, 3590.465890663369, 2853.4675421846036, 2754.3315631141377, 2235.779115408226, 2429.469808029474, 3080.0671371037743, 2193.0060719862386, 2558.4926326461073, 1961.7693102953313])\n",
       " (1, [(3, 3, 1), (4, 3, 1), (5, 3, 1), (7, 3, 1), (8, 3, 1), (1, 2, 2), (2, 2, 2), (3, 2, 2), (4, 2, 2), (6, 2, 2)  …  (6, 3, 1), (9, 3, 1), (5, 2, 3), (8, 2, 3), (5, 1, 6), (10, 2, 4), (10, 1, 6), (9, 1, 7), (7, 1, 8), (8, 1, 8)], [3152.2808261540376, 3590.465890663369, 2853.4675421846036, 2754.3315631141377, 2186.126708237645, 2429.469808029474, 3080.0671371037743, 2193.0060719862386, 3255.3292285946836, 1761.7693102953313])\n",
       " (1, [(3, 3, 1), (4, 3, 1), (5, 3, 1), (7, 3, 1), (8, 3, 1), (1, 2, 2), (2, 2, 2), (3, 2, 2), (4, 2, 2), (5, 2, 2)  …  (10, 1, 10), (8, 1, 11), (1, 3, 1), (2, 3, 1), (6, 3, 1), (1, 1, 6), (9, 2, 3), (10, 1, 6), (8, 1, 7), (5, 1, 8)], [2913.8632169415228, 3790.465890663369, 2853.4675421846036, 2754.3315631141377, 2508.578576377684, 2429.469808029474, 1792.5317583419405, 2575.432544280877, 2426.2481047524516, 1390.2205016972346])\n",
       " (1, [(3, 3, 1), (4, 3, 1), (5, 3, 1), (7, 3, 1), (8, 3, 1), (1, 2, 2), (2, 2, 2), (3, 2, 2), (4, 2, 2), (5, 2, 2)  …  (10, 1, 11), (1, 3, 1), (2, 3, 1), (6, 3, 1), (9, 3, 1), (8, 2, 3), (10, 2, 4), (9, 1, 6), (8, 1, 7), (5, 1, 8)], [2952.2808261540376, 3590.465890663369, 2853.4675421846036, 2754.3315631141377, 2708.578576377684, 1918.1148356912938, 1792.5317583419405, 2193.0060719862386, 2558.4926326461073, 2090.521390237407])\n",
       " (1, [(3, 3, 1), (4, 3, 1), (5, 3, 1), (7, 3, 1), (8, 3, 1), (1, 2, 2), (2, 2, 2), (3, 2, 2), (4, 2, 2), (6, 2, 2)  …  (10, 1, 10), (5, 1, 11), (10, 1, 11), (1, 3, 1), (2, 3, 1), (6, 3, 1), (9, 2, 3), (10, 2, 4), (5, 1, 6), (8, 1, 7)], [2952.2808261540376, 3590.465890663369, 2853.4675421846036, 2754.3315631141377, 2432.7693756535523, 1718.1148356912938, 1792.5317583419405, 2375.4325442808777, 2426.2481047524516, 2090.521390237407])\n",
       " (1, [(3, 3, 1), (4, 3, 1), (5, 3, 1), (7, 3, 1), (8, 3, 1), (1, 2, 2), (3, 2, 2), (5, 2, 2), (6, 2, 2), (7, 2, 2)  …  (9, 1, 10), (10, 1, 10), (8, 1, 11), (1, 3, 1), (2, 3, 1), (6, 3, 1), (9, 2, 2), (10, 1, 6), (8, 1, 7), (5, 1, 9)], [2952.2808261540376, 3790.465890663369, 2853.4675421846036, 2754.3315631141377, 2308.578576377684, 1718.1148356912938, 1792.5317583419405, 2575.432544280877, 2626.2481047524516, 1390.2205016972346])\n",
       " (1, [], [0.0, 0.0, 301.86514967206256, 202.72917060159685, 248.55189457564524, 0.0, 388.0961083852714, 201.87621790011204, 0.0, 168.80604685654075])"
      ]
     },
     "execution_count": 56,
     "metadata": {},
     "output_type": "execute_result"
    }
   ],
   "source": [
    "all_routes = vcat(all_routes, dummy)"
   ]
  },
  {
   "cell_type": "code",
   "execution_count": 72,
   "id": "346e6528",
   "metadata": {},
   "outputs": [],
   "source": [
    "unique_routes = [unique(x->x[1], [([i for i in route[2] if i[1] == c], route[3][c]) \n",
    "                                                for route in all_routes if route[1] == 1])\n",
    "                        for c=1:C]\n",
    "\n",
    "num_routes = [length(i) for i in unique_routes]\n",
    "A = zeros((maximum(num_routes), C, G, T))\n",
    "route_costs = zeros((maximum(num_routes), C))\n",
    "\n",
    "for c in 1:C\n",
    "    i = 0\n",
    "    for route in unique_routes[c]\n",
    "        i += 1\n",
    "        assignments = route[1]\n",
    "        cost = route[2]\n",
    "        \n",
    "        for assignment in assignments\n",
    "            A[i, assignment[1], assignment[2], assignment[3]] = 1\n",
    "        end\n",
    "        route_costs[i, c] = cost\n",
    "    end\n",
    "end"
   ]
  },
  {
   "cell_type": "code",
   "execution_count": 77,
   "id": "ca2a90d0",
   "metadata": {},
   "outputs": [
    {
     "data": {
      "text/plain": [
       "3×14 Matrix{Float64}:\n",
       " 0.0  0.0  0.0  0.0  1.0  1.0  1.0  1.0  1.0  0.0  0.0  0.0  0.0  0.0\n",
       " 0.0  1.0  1.0  1.0  0.0  0.0  0.0  0.0  0.0  0.0  0.0  0.0  0.0  0.0\n",
       " 1.0  0.0  0.0  0.0  0.0  0.0  0.0  0.0  0.0  0.0  0.0  0.0  0.0  0.0"
      ]
     },
     "execution_count": 77,
     "metadata": {},
     "output_type": "execute_result"
    }
   ],
   "source": [
    "A[1, 4, :, :]"
   ]
  },
  {
   "cell_type": "code",
   "execution_count": 73,
   "id": "e6a843d2",
   "metadata": {},
   "outputs": [
    {
     "data": {
      "text/plain": [
       "10×10 Matrix{Float64}:\n",
       " 3152.28  3590.47  2853.47   2754.33   …  2175.43   2826.25  1761.77\n",
       " 3152.28  3590.47  2853.47   2754.33      2193.01   2626.25  1890.52\n",
       " 2952.28  3790.47   301.865  2754.33      2193.01   3255.33  1590.22\n",
       " 2952.28  3790.47     0.0     202.729     2575.43   2558.49  1890.52\n",
       " 2952.28  3790.47     0.0       0.0       2375.43   2426.25  1961.77\n",
       " 2913.86     0.0      0.0       0.0    …   201.876  2558.49  1390.22\n",
       "    0.0      0.0      0.0       0.0          0.0    2426.25  2090.52\n",
       "    0.0      0.0      0.0       0.0          0.0    2626.25  2090.52\n",
       "    0.0      0.0      0.0       0.0          0.0       0.0    168.806\n",
       "    0.0      0.0      0.0       0.0          0.0       0.0      0.0"
      ]
     },
     "execution_count": 73,
     "metadata": {},
     "output_type": "execute_result"
    }
   ],
   "source": [
    "route_costs"
   ]
  },
  {
   "cell_type": "code",
   "execution_count": 222,
   "id": "f469a951",
   "metadata": {},
   "outputs": [
    {
     "data": {
      "text/plain": [
       "20×3 Matrix{Float64}:\n",
       "      9.85567e5  270900.0     1.16266e7\n",
       "      9.84576e5  269200.0     4.12367e6\n",
       "      9.83815e5  267500.0  6750.0\n",
       "      9.83274e5  265800.0  5000.0\n",
       "      9.82598e5  138300.0  5000.0\n",
       "      9.82024e5  136600.0  5000.0\n",
       "      9.81544e5  134900.0  5000.0\n",
       "      9.57195e5  133200.0  5000.0\n",
       "      9.56057e5  129100.0  5000.0\n",
       "      9.55072e5  127400.0  5000.0\n",
       "      9.54264e5  125700.0  5000.0\n",
       "      9.53254e5  125700.0  5000.0\n",
       "      9.52098e5  124000.0  5000.0\n",
       "      9.51289e5  122300.0  5000.0\n",
       "      9.38505e5  120600.0  5000.0\n",
       "      9.37366e5  120600.0  5000.0\n",
       "      9.36332e5  118900.0  5000.0\n",
       " 935353.0        117200.0  5000.0\n",
       " 934129.0        115500.0  5000.0\n",
       " 932599.0        115500.0  5000.0"
      ]
     },
     "execution_count": 222,
     "metadata": {},
     "output_type": "execute_result"
    }
   ],
   "source": [
    "fire_costs"
   ]
  },
  {
   "cell_type": "markdown",
   "id": "bf9c2f87",
   "metadata": {},
   "source": [
    "### Routing plans"
   ]
  },
  {
   "cell_type": "markdown",
   "id": "669ed4a2",
   "metadata": {},
   "source": [
    "To start we have two plans per crew, (1) that mimics the original flow to some extent and (2) the dummy all-rest flow.\n",
    "\n",
    "(1) Round all flow values to nearest integer, make these the new arc costs, re-solve metwork flow problem as a \"max-cost path\"\n",
    "\n",
    "(2) Solve same network flow minimizing fire fighting."
   ]
  },
  {
   "cell_type": "code",
   "execution_count": 122,
   "id": "9a9a29d6",
   "metadata": {},
   "outputs": [
    {
     "name": "stdout",
     "output_type": "stream",
     "text": [
      "Academic license - for non-commercial use only\r\n",
      "Gurobi Optimizer version 9.0.3 build v9.0.3rc0 (win64)\r\n",
      "Optimize a model with 55 rows, 112 columns and 761 nonzeros\r\n",
      "Model fingerprint: 0xc5802655\r\n",
      "Coefficient statistics:\r\n",
      "  Matrix range     [1e+00, 1e+01]\r\n",
      "  Objective range  [2e+02, 1e+07]\r\n",
      "  Bounds range     [0e+00, 0e+00]\r\n",
      "  RHS range        [1e+00, 1e+00]\r\n",
      "Presolve removed 29 rows and 4 columns\r\n",
      "Presolve time: 0.00s\r\n",
      "Presolved: 26 rows, 108 columns, 757 nonzeros\r\n",
      "\r\n",
      "Iteration    Objective       Primal Inf.    Dual Inf.      Time\r\n",
      "       0    1.5119246e+03   3.000000e+00   0.000000e+00      0s\r\n",
      "      62    1.2898946e+06   0.000000e+00   0.000000e+00      0s\r\n",
      "\r\n",
      "Solved in 62 iterations and 0.00 seconds\r\n",
      "Optimal objective  1.289894566e+06\r\n",
      "\r\n",
      "User-callback calls 90, time in user-callback 0.00 sec\r\n"
     ]
    }
   ],
   "source": [
    "fire_plan_ix = [(i, g) for g=1:G for i=1:found_plans[g]]\n",
    "route_plan_ix = [(i, c) for c=1:C for i=1:num_routes[c]]\n",
    "\n",
    "cg = Model(Gurobi.Optimizer)\n",
    "\n",
    "@variable(cg, suppression_plans[fire_plan_ix] >= 0)\n",
    "@variable(cg, crew_routes[route_plan_ix] >= 0)\n",
    "\n",
    "@constraint(cg, plan_per_fire[g=1:G], \n",
    "                sum(suppression_plans[ix] for ix in fire_plan_ix if ix[2] == g) >= 1)\n",
    "@constraint(cg, route_per_crew[c=1:C], \n",
    "                sum(crew_routes[ix] for ix in route_plan_ix if ix[2] == c) == 1)\n",
    "@constraint(cg, cover_plans[g=1:G, t=1:T],\n",
    "                sum(crew_routes[ix] * A[ix[1], ix[2], g, t] for ix in route_plan_ix) >=\n",
    "                sum(suppression_plans[ix] * B[ix[1], g, t] for ix in fire_plan_ix if ix[2] == g)\n",
    "           )\n",
    "\n",
    "@objective(cg, Min, \n",
    "              sum(crew_routes[ix] * route_costs[ix[1], ix[2]] for ix in route_plan_ix) + \n",
    "              sum(suppression_plans[ix] * fire_costs[ix[1], ix[2]] for ix in fire_plan_ix)\n",
    "         )\n",
    "\n",
    "optimize!(cg)"
   ]
  },
  {
   "cell_type": "code",
   "execution_count": 129,
   "id": "3ef8b860",
   "metadata": {},
   "outputs": [
    {
     "data": {
      "text/plain": [
       "3-element Vector{Float64}:\n",
       " 1.1132575653759995e6\n",
       " 1.2042428380239983e6\n",
       " 1.4742265220160005e6"
      ]
     },
     "execution_count": 129,
     "metadata": {},
     "output_type": "execute_result"
    }
   ],
   "source": [
    "pi = dual.(plan_per_fire)\n",
    "sigma = dual.(route_per_crew)\n",
    "rho = dual.(cover_plans)\n",
    "\n",
    "pi"
   ]
  },
  {
   "cell_type": "code",
   "execution_count": 116,
   "id": "d80facce",
   "metadata": {},
   "outputs": [
    {
     "data": {
      "text/plain": [
       "3-element Vector{Tuple{Int64, Int64}}:\n",
       " (20, 1)\n",
       " (2, 2)\n",
       " (5, 3)"
      ]
     },
     "execution_count": 116,
     "metadata": {},
     "output_type": "execute_result"
    }
   ],
   "source": [
    "[ix for ix in fire_plan_ix if value(suppression_plans[ix]) > 0.01]"
   ]
  },
  {
   "cell_type": "code",
   "execution_count": 119,
   "id": "15e75d3d",
   "metadata": {},
   "outputs": [
    {
     "data": {
      "text/plain": [
       "270900.0"
      ]
     },
     "execution_count": 119,
     "metadata": {},
     "output_type": "execute_result"
    }
   ],
   "source": [
    "fire_costs[2, 2]"
   ]
  },
  {
   "cell_type": "code",
   "execution_count": 100,
   "id": "171f3d55",
   "metadata": {},
   "outputs": [
    {
     "ename": "LoadError",
     "evalue": "An object of name suppression_plans is already attached to this model. If this\n    is intended, consider using the anonymous construction syntax, e.g.,\n    `x = @variable(model, [1:N], ...)` where the name of the object does\n    not appear inside the macro.\n\n    Alternatively, use `unregister(model, :suppression_plans)` to first unregister\n    the existing name from the model. Note that this will not delete the\n    object; it will just remove the reference at `model[:suppression_plans]`.\n",
     "output_type": "error",
     "traceback": [
      "An object of name suppression_plans is already attached to this model. If this\n    is intended, consider using the anonymous construction syntax, e.g.,\n    `x = @variable(model, [1:N], ...)` where the name of the object does\n    not appear inside the macro.\n\n    Alternatively, use `unregister(model, :suppression_plans)` to first unregister\n    the existing name from the model. Note that this will not delete the\n    object; it will just remove the reference at `model[:suppression_plans]`.\n",
      "",
      "Stacktrace:",
      " [1] error(s::String)",
      "   @ Base .\\error.jl:33",
      " [2] _error_if_cannot_register(model::Model, name::Symbol)",
      "   @ JuMP C:\\Users\\mit\\.julia\\packages\\JuMP\\lnUbA\\src\\macros.jl:100",
      " [3] macro expansion",
      "   @ C:\\Users\\mit\\.julia\\packages\\JuMP\\lnUbA\\src\\macros.jl:134 [inlined]",
      " [4] top-level scope",
      "   @ In[100]:1",
      " [5] eval",
      "   @ .\\boot.jl:373 [inlined]",
      " [6] include_string(mapexpr::typeof(REPL.softscope), mod::Module, code::String, filename::String)",
      "   @ Base .\\loading.jl:1196"
     ]
    }
   ],
   "source": [
    "@variable(cg, suppression_plans[(21, 1)] >= 0)"
   ]
  },
  {
   "cell_type": "code",
   "execution_count": 105,
   "id": "762b595d",
   "metadata": {},
   "outputs": [
    {
     "data": {
      "text/plain": [
       "49-element Vector{Tuple{Int64, Int64}}:\n",
       " (1, 1)\n",
       " (2, 1)\n",
       " (3, 1)\n",
       " (4, 1)\n",
       " (5, 1)\n",
       " (6, 1)\n",
       " (7, 1)\n",
       " (8, 1)\n",
       " (9, 1)\n",
       " (10, 1)\n",
       " (11, 1)\n",
       " (12, 1)\n",
       " (13, 1)\n",
       " ⋮\n",
       " (18, 2)\n",
       " (19, 2)\n",
       " (20, 2)\n",
       " (1, 3)\n",
       " (2, 3)\n",
       " (3, 3)\n",
       " (4, 3)\n",
       " (5, 3)\n",
       " (6, 3)\n",
       " (7, 3)\n",
       " (8, 3)\n",
       " (21, 1)"
      ]
     },
     "execution_count": 105,
     "metadata": {},
     "output_type": "execute_result"
    }
   ],
   "source": [
    "push!(fire_plan_ix, (21, 1))\n",
    "fire_plan_ix"
   ]
  },
  {
   "cell_type": "code",
   "execution_count": 94,
   "id": "67b064c6",
   "metadata": {},
   "outputs": [
    {
     "ename": "LoadError",
     "evalue": "KeyError: key (21, 1) not found",
     "output_type": "error",
     "traceback": [
      "KeyError: key (21, 1) not found",
      "",
      "Stacktrace:",
      " [1] getindex",
      "   @ .\\dict.jl:481 [inlined]",
      " [2] getindex",
      "   @ C:\\Users\\mit\\.julia\\packages\\JuMP\\lnUbA\\src\\Containers\\DenseAxisArray.jl:51 [inlined]",
      " [3] _getindex_recurse",
      "   @ C:\\Users\\mit\\.julia\\packages\\JuMP\\lnUbA\\src\\Containers\\DenseAxisArray.jl:309 [inlined]",
      " [4] to_index",
      "   @ C:\\Users\\mit\\.julia\\packages\\JuMP\\lnUbA\\src\\Containers\\DenseAxisArray.jl:318 [inlined]",
      " [5] getindex(A::JuMP.Containers.DenseAxisArray{VariableRef, 1, Tuple{Vector{Tuple{Int64, Int64}}}, Tuple{JuMP.Containers._AxisLookup{Dict{Tuple{Int64, Int64}, Int64}}}}, idx::Tuple{Int64, Int64})",
      "   @ JuMP.Containers C:\\Users\\mit\\.julia\\packages\\JuMP\\lnUbA\\src\\Containers\\DenseAxisArray.jl:325",
      " [6] top-level scope",
      "   @ In[94]:1",
      " [7] eval",
      "   @ .\\boot.jl:373 [inlined]",
      " [8] include_string(mapexpr::typeof(REPL.softscope), mod::Module, code::String, filename::String)",
      "   @ Base .\\loading.jl:1196"
     ]
    }
   ],
   "source": [
    "suppression_plans[(21, 1)]"
   ]
  },
  {
   "cell_type": "code",
   "execution_count": 89,
   "id": "193cae44",
   "metadata": {},
   "outputs": [
    {
     "data": {
      "text/plain": [
       "([0.0, 1.0], [0.0, 0.6666666666666666, 0.33333333333333337, 0.6666666666666667, 0.3333333333333333, 1.0])"
      ]
     },
     "execution_count": 89,
     "metadata": {},
     "output_type": "execute_result"
    }
   ],
   "source": [
    "unique(value.(suppression_plans)), unique(value.(crew_routes))"
   ]
  },
  {
   "cell_type": "code",
   "execution_count": 301,
   "id": "78e8f5d8",
   "metadata": {},
   "outputs": [
    {
     "data": {
      "text/plain": [
       "3×14 Matrix{Float64}:\n",
       " -0.0      -0.0      -0.0      -0.0  …  -287.614  -0.0  -0.0  -0.0  -0.0\n",
       " -0.0  -66300.0  -64600.0  -62900.0       -0.0    -0.0  -0.0  -0.0  -0.0\n",
       " -0.0      -0.0      -0.0      -0.0       -0.0    -0.0  -0.0  -0.0  -0.0"
      ]
     },
     "execution_count": 301,
     "metadata": {},
     "output_type": "execute_result"
    }
   ],
   "source": [
    "shadow_price.(cover_plans)"
   ]
  },
  {
   "cell_type": "code",
   "execution_count": 230,
   "id": "995cb4af",
   "metadata": {},
   "outputs": [
    {
     "data": {
      "text/plain": [
       "3.0"
      ]
     },
     "execution_count": 230,
     "metadata": {},
     "output_type": "execute_result"
    }
   ],
   "source": [
    "sum(value.(suppression_plans))"
   ]
  },
  {
   "cell_type": "code",
   "execution_count": 186,
   "id": "c9fafc16",
   "metadata": {},
   "outputs": [
    {
     "data": {
      "text/plain": [
       "3-element Vector{Tuple{Int64, Int64}}:\n",
       " (7, 1)\n",
       " (4, 2)\n",
       " (2, 3)"
      ]
     },
     "execution_count": 186,
     "metadata": {},
     "output_type": "execute_result"
    }
   ],
   "source": [
    "[ix for ix in fire_plan_ix if value(suppression_plans[ix]) > 0.99]"
   ]
  },
  {
   "cell_type": "code",
   "execution_count": null,
   "id": "addd9559",
   "metadata": {},
   "outputs": [],
   "source": []
  },
  {
   "cell_type": "code",
   "execution_count": 181,
   "id": "1c042499",
   "metadata": {},
   "outputs": [
    {
     "data": {
      "text/plain": [
       "2-element Vector{Float64}:\n",
       " 0.0\n",
       " 1.0"
      ]
     },
     "execution_count": 181,
     "metadata": {},
     "output_type": "execute_result"
    }
   ],
   "source": [
    "unique(value.(suppression_plans))"
   ]
  },
  {
   "cell_type": "code",
   "execution_count": 182,
   "id": "99d6ffb4",
   "metadata": {},
   "outputs": [
    {
     "data": {
      "text/plain": [
       "20×3 Matrix{Float64}:\n",
       " 9.85567e5  270900.0       1.16266e7\n",
       " 9.84576e5  269200.0       4.12367e6\n",
       " 9.83815e5  267500.0       2.41286e7\n",
       " 9.83274e5  265800.0       3.41311e7\n",
       " 9.82598e5  627900.0       4.41336e7\n",
       " 9.82024e5  626200.0       5.41361e7\n",
       " 9.81544e5  624500.0       6.41385e7\n",
       " 1.02066e6  622800.0       7.4141e7\n",
       " 1.01967e6  984900.0       8.41435e7\n",
       " 1.01891e6  983200.0       9.4146e7\n",
       " 1.01837e6  981500.0       0.0\n",
       " 1.01769e6  979800.0       0.0\n",
       " 1.01712e6       1.3419e6  0.0\n",
       " 1.05156e6       1.3402e6  0.0\n",
       " 1.05079e6       1.3385e6  0.0\n",
       " 1.05025e6       1.3368e6  0.0\n",
       " 1.04958e6       1.6989e6  0.0\n",
       " 1.049e6         1.6972e6  0.0\n",
       " 1.0762e6        1.6955e6  0.0\n",
       " 1.07544e6       1.9692e6  0.0"
      ]
     },
     "execution_count": 182,
     "metadata": {},
     "output_type": "execute_result"
    }
   ],
   "source": [
    "fire_costs"
   ]
  },
  {
   "cell_type": "code",
   "execution_count": 183,
   "id": "bf99ea69",
   "metadata": {},
   "outputs": [
    {
     "data": {
      "text/plain": [
       "2×10 Matrix{Float64}:\n",
       " 2952.28  3790.47  2853.47   2754.33   …  2375.43   3055.33  1890.52\n",
       "    0.0      0.0    301.865   202.729      201.876     0.0    168.806"
      ]
     },
     "execution_count": 183,
     "metadata": {},
     "output_type": "execute_result"
    }
   ],
   "source": [
    "route_costs"
   ]
  },
  {
   "cell_type": "code",
   "execution_count": 184,
   "id": "1c96de67",
   "metadata": {},
   "outputs": [
    {
     "data": {
      "text/latex": [
       "cover_plans[3,1] : $ -8 suppression\\_plans_{(1, 3)} - 9 suppression\\_plans_{(2, 3)} - 7 suppression\\_plans_{(3, 3)} - 6 suppression\\_plans_{(4, 3)} - 5 suppression\\_plans_{(5, 3)} - 4 suppression\\_plans_{(6, 3)} - 3 suppression\\_plans_{(7, 3)} - 2 suppression\\_plans_{(8, 3)} - suppression\\_plans_{(9, 3)} + crew\\_routes_{(1, 1)} + crew\\_routes_{(1, 2)} + crew\\_routes_{(1, 3)} + crew\\_routes_{(1, 4)} + crew\\_routes_{(1, 5)} + crew\\_routes_{(1, 6)} + crew\\_routes_{(1, 7)} + crew\\_routes_{(1, 8)} + crew\\_routes_{(1, 9)} \\geq 0.0 $"
      ],
      "text/plain": [
       "cover_plans[3,1] : -8 suppression_plans[(1, 3)] - 9 suppression_plans[(2, 3)] - 7 suppression_plans[(3, 3)] - 6 suppression_plans[(4, 3)] - 5 suppression_plans[(5, 3)] - 4 suppression_plans[(6, 3)] - 3 suppression_plans[(7, 3)] - 2 suppression_plans[(8, 3)] - suppression_plans[(9, 3)] + crew_routes[(1, 1)] + crew_routes[(1, 2)] + crew_routes[(1, 3)] + crew_routes[(1, 4)] + crew_routes[(1, 5)] + crew_routes[(1, 6)] + crew_routes[(1, 7)] + crew_routes[(1, 8)] + crew_routes[(1, 9)] >= 0.0"
      ]
     },
     "execution_count": 184,
     "metadata": {},
     "output_type": "execute_result"
    }
   ],
   "source": [
    "cover_plans[3, 1]"
   ]
  },
  {
   "cell_type": "code",
   "execution_count": 185,
   "id": "fa804bb0",
   "metadata": {},
   "outputs": [
    {
     "data": {
      "text/plain": [
       "20×3×14 Array{Float64, 3}:\n",
       "[:, :, 1] =\n",
       " 0.0  0.0  8.0\n",
       " 0.0  0.0  9.0\n",
       " 0.0  0.0  7.0\n",
       " 0.0  0.0  6.0\n",
       " 0.0  0.0  5.0\n",
       " 0.0  0.0  4.0\n",
       " 0.0  0.0  3.0\n",
       " 0.0  0.0  2.0\n",
       " 0.0  0.0  1.0\n",
       " 0.0  0.0  0.0\n",
       " 0.0  0.0  0.0\n",
       " 0.0  0.0  0.0\n",
       " 0.0  0.0  0.0\n",
       " 0.0  0.0  0.0\n",
       " 0.0  0.0  0.0\n",
       " 0.0  0.0  0.0\n",
       " 0.0  0.0  0.0\n",
       " 0.0  0.0  0.0\n",
       " 0.0  0.0  0.0\n",
       " 0.0  0.0  0.0\n",
       "\n",
       "[:, :, 2] =\n",
       " 0.0  6.0  1.0\n",
       " 0.0  7.0  0.0\n",
       " 0.0  7.0  0.0\n",
       " 0.0  7.0  0.0\n",
       " 0.0  5.0  0.0\n",
       " 0.0  6.0  0.0\n",
       " 0.0  6.0  0.0\n",
       " 0.0  6.0  0.0\n",
       " 0.0  4.0  0.0\n",
       " 0.0  5.0  0.0\n",
       " 0.0  5.0  0.0\n",
       " 0.0  5.0  0.0\n",
       " 0.0  3.0  0.0\n",
       " 0.0  4.0  0.0\n",
       " 0.0  4.0  0.0\n",
       " 0.0  4.0  0.0\n",
       " 0.0  2.0  0.0\n",
       " 0.0  3.0  0.0\n",
       " 0.0  3.0  0.0\n",
       " 0.0  1.0  0.0\n",
       "\n",
       "[:, :, 3] =\n",
       " 0.0  9.0  0.0\n",
       " 0.0  8.0  0.0\n",
       " 0.0  9.0  0.0\n",
       " 0.0  9.0  0.0\n",
       " 0.0  8.0  0.0\n",
       " 0.0  7.0  0.0\n",
       " 0.0  8.0  0.0\n",
       " 0.0  8.0  0.0\n",
       " 0.0  7.0  0.0\n",
       " 0.0  6.0  0.0\n",
       " 0.0  7.0  0.0\n",
       " 0.0  7.0  0.0\n",
       " 0.0  6.0  0.0\n",
       " 0.0  5.0  0.0\n",
       " 0.0  6.0  0.0\n",
       " 0.0  6.0  0.0\n",
       " 0.0  5.0  0.0\n",
       " 0.0  4.0  0.0\n",
       " 0.0  5.0  0.0\n",
       " 0.0  4.0  0.0\n",
       "\n",
       ";;; … \n",
       "\n",
       "[:, :, 12] =\n",
       " 0.0  0.0  0.0\n",
       " 0.0  0.0  0.0\n",
       " 0.0  0.0  0.0\n",
       " 0.0  0.0  0.0\n",
       " 0.0  0.0  0.0\n",
       " 0.0  0.0  0.0\n",
       " 0.0  0.0  0.0\n",
       " 0.0  0.0  0.0\n",
       " 0.0  0.0  0.0\n",
       " 0.0  0.0  0.0\n",
       " 0.0  0.0  0.0\n",
       " 0.0  0.0  0.0\n",
       " 0.0  0.0  0.0\n",
       " 0.0  0.0  0.0\n",
       " 0.0  0.0  0.0\n",
       " 0.0  0.0  0.0\n",
       " 0.0  0.0  0.0\n",
       " 0.0  0.0  0.0\n",
       " 0.0  0.0  0.0\n",
       " 0.0  0.0  0.0\n",
       "\n",
       "[:, :, 13] =\n",
       " 0.0  0.0  0.0\n",
       " 0.0  0.0  0.0\n",
       " 0.0  0.0  0.0\n",
       " 0.0  0.0  0.0\n",
       " 0.0  0.0  0.0\n",
       " 0.0  0.0  0.0\n",
       " 0.0  0.0  0.0\n",
       " 0.0  0.0  0.0\n",
       " 0.0  0.0  0.0\n",
       " 0.0  0.0  0.0\n",
       " 0.0  0.0  0.0\n",
       " 0.0  0.0  0.0\n",
       " 0.0  0.0  0.0\n",
       " 0.0  0.0  0.0\n",
       " 0.0  0.0  0.0\n",
       " 0.0  0.0  0.0\n",
       " 0.0  0.0  0.0\n",
       " 0.0  0.0  0.0\n",
       " 0.0  0.0  0.0\n",
       " 0.0  0.0  0.0\n",
       "\n",
       "[:, :, 14] =\n",
       " 0.0  0.0  0.0\n",
       " 0.0  0.0  0.0\n",
       " 0.0  0.0  0.0\n",
       " 0.0  0.0  0.0\n",
       " 0.0  0.0  0.0\n",
       " 0.0  0.0  0.0\n",
       " 0.0  0.0  0.0\n",
       " 0.0  0.0  0.0\n",
       " 0.0  0.0  0.0\n",
       " 0.0  0.0  0.0\n",
       " 0.0  0.0  0.0\n",
       " 0.0  0.0  0.0\n",
       " 0.0  0.0  0.0\n",
       " 0.0  0.0  0.0\n",
       " 0.0  0.0  0.0\n",
       " 0.0  0.0  0.0\n",
       " 0.0  0.0  0.0\n",
       " 0.0  0.0  0.0\n",
       " 0.0  0.0  0.0\n",
       " 0.0  0.0  0.0"
      ]
     },
     "execution_count": 185,
     "metadata": {},
     "output_type": "execute_result"
    }
   ],
   "source": [
    "B"
   ]
  },
  {
   "cell_type": "code",
   "execution_count": null,
   "id": "a9109f2c",
   "metadata": {},
   "outputs": [],
   "source": [
    "function routes_from_plan(pi, sigma, rho)\n",
    "    \n",
    "    m = Model(Gurobi.Optimizer)\n",
    "    set_optimizer_attribute(m, \"OutputFlag\", 0)\n",
    "\n",
    "\n",
    "    # routing plan section\n",
    "    @variable(m, ff[ff_ix], Bin)\n",
    "    @variable(m, fr[fr_ix], Bin)\n",
    "    @variable(m, rf[rf_ix], Bin)\n",
    "    @variable(m, rr[rr_ix], Bin)\n",
    "\n",
    "\n",
    "    @constraint(m, fire_flow[c=1:C, g=1:G, t=1:T, rest=0:1],\n",
    "\n",
    "                # outflow\n",
    "                sum(ff[key] for key in ff_ix_arr[c]\n",
    "                        if (key[2] == g) & (key[4] == t) & (key[6] == rest)\n",
    "                    ) +    \n",
    "\n",
    "                sum(fr[key] for key in fr_ix_arr[c]\n",
    "                            if (key[2] == g) & (key[3] == t) & (key[5] == rest)\n",
    "                    ) \n",
    "\n",
    "        ==\n",
    "                # inflow\n",
    "                sum(ff[key] for key in ff_ix_arr[c]\n",
    "                            if (key[3] == g) & (key[5] == t) & (key[6] == rest)\n",
    "                    ) +\n",
    "\n",
    "                sum(rf[key] for key in rf_ix_arr[c]\n",
    "                            if (key[2] == g) & (key[4] == t) & (key[5] == rest)\n",
    "                    ) \n",
    "\n",
    "                )   \n",
    "\n",
    "    @constraint(m, rest_flow[c=1:C, t=1:T, rest=0:1], \n",
    "\n",
    "                # outflow\n",
    "                sum(rf[key] for key in rf_ix_arr[c]\n",
    "                            if (key[3] == t) & (key[5] == rest)\n",
    "                    ) +\n",
    "\n",
    "                sum(rr[key] for key in rr_ix_arr[c]\n",
    "                            if (key[2] == t) & (key[4] == rest)\n",
    "                    )\n",
    "\n",
    "                ==       \n",
    "\n",
    "                # inflow\n",
    "                sum(fr[key] for key in fr_ix_arr[c]\n",
    "                            if (key[4] == t) &  (key[5] == rest)\n",
    "                    ) +\n",
    "                sum(rr[key] for key in rr_ix_arr[c]\n",
    "                            if (key[3] == t) & (key[5] == rest)\n",
    "                    )\n",
    "               )\n",
    "\n",
    "    @constraint(m, start[c=1:C], \n",
    "\n",
    "        sum(ff[key] for key in from_start_ff if key[1] == c) + \n",
    "        sum(rf[key] for key in from_start_rf if key[1] == c) + \n",
    "        sum(fr[key] for key in from_start_fr if key[1] == c) + \n",
    "        sum(rr[key] for key in from_start_to_non_rested_rr if key[1] == c) + \n",
    "        sum(rr[key] for key in from_start_to_yes_rested_rr if key[1] == c)== 1\n",
    "               )\n",
    "\n",
    "\n",
    "    # linking constraints\n",
    "    @constraint(m, linking[g=1:G, t=1:T],\n",
    "\n",
    "         sum(ff[key] for key in ff_ix if (key[3] == g) & (key[5] == t)) + \n",
    "         sum(rf[key] for key in rf_ix if (key[2] == g) & (key[4] == t))\n",
    "            >= supp_plans[plans_arr[g], g, t]\n",
    "\n",
    "               );\n",
    "\n",
    "    @objective(m, Min, \n",
    "        sum(ff[key] * (alpha + fire_dists[key[2], key[3]]) for key in ff_ix) +\n",
    "        sum(fr[key] * (base_fire_dists[key[1], key[2]]) for key in fr_ix) + \n",
    "        sum(rf[key] * (alpha + base_fire_dists[key[1], key[2]]) for key in rf_ix)\n",
    "    )\n",
    "\n",
    "    optimize!(m)\n",
    "    \n",
    "    opt = false\n",
    "    fires_fought = [(0)]\n",
    "    route_costs = [1]\n",
    "    if termination_status(m) == MOI.OPTIMAL\n",
    "        opt = true\n",
    "        fires_fought = vcat([(ix[1], ix[3], ix[5]) for ix in ff_ix if (value(ff[ix]) > 0.99)],\n",
    "                        [(ix[1], ix[2], ix[4]) for ix in rf_ix if (value(rf[ix]) > 0.99)])\n",
    "        \n",
    "        route_costs = \n",
    "        [sum(value(ff[key]) * (alpha + fire_dists[key[2], key[3]]) for key in ff_ix_arr[crew]) +\n",
    "        sum(value(fr[key]) * (base_fire_dists[key[1], key[2]]) for key in fr_ix_arr[crew]) + \n",
    "        sum(value(rf[key]) * (alpha + base_fire_dists[key[1], key[2]]) for key in rf_ix_arr[crew])\n",
    "            for crew = 1:C]\n",
    "    end\n",
    "    opt, fires_fought, route_costs\n",
    "end"
   ]
  }
 ],
 "metadata": {
  "kernelspec": {
   "display_name": "Julia 1.7.1",
   "language": "julia",
   "name": "julia-1.7"
  },
  "language_info": {
   "file_extension": ".jl",
   "mimetype": "application/julia",
   "name": "julia",
   "version": "1.7.1"
  }
 },
 "nbformat": 4,
 "nbformat_minor": 5
}
