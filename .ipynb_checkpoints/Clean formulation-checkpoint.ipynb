{
 "cells": [
  {
   "cell_type": "code",
   "execution_count": 1,
   "id": "34567121",
   "metadata": {},
   "outputs": [
    {
     "name": "stdout",
     "output_type": "stream",
     "text": [
      "Academic license - for non-commercial use only\r\n"
     ]
    },
    {
     "data": {
      "text/plain": [
       "Gurobi.Env(Ptr{Nothing} @0x000000007c000080, false, 0)"
      ]
     },
     "execution_count": 1,
     "metadata": {},
     "output_type": "execute_result"
    }
   ],
   "source": [
    "using DataFrames, CSV, DelimitedFiles, JuMP, Gurobi\n",
    "const GRB_ENV = Gurobi.Env()"
   ]
  },
  {
   "cell_type": "code",
   "execution_count": 2,
   "id": "81a26ef6",
   "metadata": {},
   "outputs": [
    {
     "data": {
      "text/plain": [
       "2"
      ]
     },
     "execution_count": 2,
     "metadata": {},
     "output_type": "execute_result"
    }
   ],
   "source": [
    "NUM_CREWS = 10                \n",
    "BREAK_LENGTH = 2       # how long at base to be considered \"rested\"\n",
    "\n",
    "# tradeoffs\n",
    "BETA = 100             # cost of one area unit burned / cost of mile traveled\n",
    "ALPHA = 200            # cost of crew-day of suppression / cost of mile traveled\n",
    "LINE_PER_CREW = 17     # how much perimeter prevented per crew per time period\n",
    "\n",
    "FIRE_CODE = 1\n",
    "BASE_CODE = 2"
   ]
  },
  {
   "cell_type": "code",
   "execution_count": 3,
   "id": "d08d7c6e",
   "metadata": {},
   "outputs": [],
   "source": [
    "struct GlobalData\n",
    "    \n",
    "    ff_dist::Matrix{Float64}\n",
    "    bf_dist::Matrix{Float64}\n",
    "    ff_tau::Matrix{Int64}\n",
    "    bf_tau::Matrix{Int64}\n",
    "    \n",
    "end\n",
    "\n",
    "struct CrewStatus\n",
    "    \n",
    "    rest_by::Vector{Int64}\n",
    "    current_fire::Vector{Int64}\n",
    "    rested_periods::Vector{Int64}\n",
    "    \n",
    "end\n",
    "\n",
    "struct RegionData\n",
    "    \n",
    "    crew_regions::Vector{Int64}\n",
    "    fire_regions::Vector{Int64}\n",
    "    \n",
    "end\n",
    "\n",
    "\n",
    "struct KeyArcIndices\n",
    "    \n",
    "    # fire flow data\n",
    "    f_out::Array{Vector{Int64}}\n",
    "    f_in::Array{Vector{Int64}}\n",
    "    \n",
    "    # base flow data\n",
    "    b_out::Array{Vector{Int64}}\n",
    "    b_in::Array{Vector{Int64}}\n",
    "    \n",
    "    # total crews suppressing each fire\n",
    "    supp_fire::Array{Vector{Int64}}\n",
    "    \n",
    "    # start constraints\n",
    "    start::Array{Vector{Int64}}\n",
    "    \n",
    "    # assignments out of region\n",
    "    out_of_region::Array{Vector{Int64}}\n",
    "    \n",
    "end \n",
    "\n",
    "mutable struct RouteData\n",
    "    \n",
    "    routes_per_crew::Vector{Int64} # could add in length\n",
    "    route_costs::Matrix{Float64}\n",
    "    fires_fought::BitArray{4}\n",
    "    out_of_reg::BitArray{3}\n",
    "    \n",
    "end\n",
    "\n",
    "mutable struct SuppressionPlanData\n",
    "    \n",
    "    plans_per_fire::Vector{Int64} # could add in length\n",
    "    plan_costs::Matrix{Float64}\n",
    "    crews_present::Array{Int8, 3}\n",
    "    \n",
    "end\n",
    "\n"
   ]
  },
  {
   "cell_type": "code",
   "execution_count": 4,
   "id": "d4690c8a",
   "metadata": {},
   "outputs": [],
   "source": [
    "struct FireConstraintIndices\n",
    "    \n",
    "    # fire flow data\n",
    "    flow_out::Array{Vector{Int64}}\n",
    "    flow_in::Array{Vector{Int64}}\n",
    "    \n",
    "    # total crews suppressing each fire\n",
    "    crews_needed::Array{Vector{Int64}}\n",
    "    \n",
    "    # start constraints\n",
    "    start::Array{Vector{Int64}}\n",
    "    \n",
    "end"
   ]
  },
  {
   "cell_type": "code",
   "execution_count": 5,
   "id": "de4eca73",
   "metadata": {},
   "outputs": [],
   "source": [
    "struct ColumnGeneration\n",
    "    \n",
    "    route_sps::Vector{Any}\n",
    "    plan_sps::Vector{Any}\n",
    "    routes::RouteData\n",
    "    suppression_plans::SuppressionPlanData\n",
    "    \n",
    "end"
   ]
  },
  {
   "cell_type": "code",
   "execution_count": 6,
   "id": "ac38f149",
   "metadata": {},
   "outputs": [
    {
     "data": {
      "text/plain": [
       "get_rotation_orders (generic function with 1 method)"
      ]
     },
     "execution_count": 6,
     "metadata": {},
     "output_type": "execute_result"
    }
   ],
   "source": [
    "function get_rotation_orders(crew_regions)\n",
    "    \n",
    "    # initialize output\n",
    "    out = Dict()\n",
    "    \n",
    "    # get the unique regions where there are crews\n",
    "    regions = unique(crew_regions)\n",
    "    \n",
    "    # for each region\n",
    "    for region in regions\n",
    "        \n",
    "        # initialize dictionary corresponding to the order\n",
    "        out[region] = Dict() \n",
    "        crews_in_region = 0\n",
    "        \n",
    "        # for each crew in the region\n",
    "        for crew in 1:NUM_CREWS\n",
    "            \n",
    "            if crew_regions[crew] == region\n",
    "                \n",
    "                # update crew count, log rotation order \n",
    "                crews_in_region += 1\n",
    "                out[region][crew] = crews_in_region\n",
    "            end\n",
    "        end\n",
    "    end\n",
    "    \n",
    "    return out\n",
    "end"
   ]
  },
  {
   "cell_type": "code",
   "execution_count": 7,
   "id": "f4b512e5",
   "metadata": {},
   "outputs": [],
   "source": [
    "# crew, from_type, from_ix, to_type, to_ix, from_time, to_time, from_rested, to_rested, exited_region"
   ]
  },
  {
   "cell_type": "code",
   "execution_count": 8,
   "id": "3e851737",
   "metadata": {},
   "outputs": [
    {
     "data": {
      "text/plain": [
       "arc_exits_region (generic function with 1 method)"
      ]
     },
     "execution_count": 8,
     "metadata": {},
     "output_type": "execute_result"
    }
   ],
   "source": [
    "function arc_exits_region(crew, from_type, from_ix, to_type, to_ix, region_data)\n",
    "    \n",
    "    # get the region where the arc originates\n",
    "    from_region = 0\n",
    "    if from_type == FIRE_CODE\n",
    "        from_region = region_data.fire_regions[from_ix]\n",
    "    elseif from_type == BASE_CODE\n",
    "        from_region = region_data.crew_regions[from_ix]\n",
    "    else\n",
    "        throw(DomainError(from_type, \"from_type invalid\"))\n",
    "    end\n",
    "    \n",
    "    # get the region where the arc terminates\n",
    "    to_region = 0\n",
    "    if to_type == FIRE_CODE\n",
    "        to_region = region_data.fire_regions[to_ix]\n",
    "    elseif to_type == BASE_CODE\n",
    "        to_region = region_data.crew_regions[to_ix]\n",
    "    else\n",
    "        throw(DomainError(from_type, \"to_type invalid\"))\n",
    "    end\n",
    "    \n",
    "    # if these are different regions\n",
    "    if from_region != to_region\n",
    "        \n",
    "        # if the crew is leaving its home region\n",
    "        if region_data.crew_regions[crew] == from_region\n",
    "        \n",
    "            # return the region that the arc exited\n",
    "            return from_region\n",
    "        \n",
    "        end\n",
    "        \n",
    "    end\n",
    "    \n",
    "    # otherwise\n",
    "    return 0\n",
    "    \n",
    "end     "
   ]
  },
  {
   "cell_type": "code",
   "execution_count": 9,
   "id": "05fc0a5e",
   "metadata": {},
   "outputs": [
    {
     "data": {
      "text/plain": [
       "generate_arcs (generic function with 1 method)"
      ]
     },
     "execution_count": 9,
     "metadata": {},
     "output_type": "execute_result"
    }
   ],
   "source": [
    "function generate_arcs(gd, rd, cs)\n",
    "    \n",
    "    # get fire-to-fire arcs\n",
    "    ff = [[c, FIRE_CODE, f_from, FIRE_CODE, f_to, t_from, t_from + gd.ff_tau[f_to, f_from], rest, rest]\n",
    "          for c=1:NUM_CREWS, f_from=1:NUM_FIRES, f_to=1:NUM_FIRES, t_from=1:NUM_TIME_PERIODS, rest=0:1]\n",
    "    ff = copy(reduce(hcat, ff)')\n",
    "\n",
    "    # get fire-to-fire arcs from start, based on cs.current crew locations\n",
    "    from_start_ff = [[c, FIRE_CODE, cs.current_fire[c], FIRE_CODE, f_to, 0, gd.ff_tau[f_to, cs.current_fire[c]], 0, 0]\n",
    "                      for c=1:NUM_CREWS, f_to=1:NUM_FIRES if cs.current_fire[c] != -1]\n",
    "    from_start_ff = copy(reduce(hcat, from_start_ff)')\n",
    "\n",
    "    # get base-to-fire arcs\n",
    "    rf = [[c, BASE_CODE, c, FIRE_CODE, f_to, t_from, t_from + gd.bf_tau[c, f_to], rest, rest]\n",
    "           for c=1:NUM_CREWS, f_to=1:NUM_FIRES, t_from=1:NUM_TIME_PERIODS, rest=0:1]\n",
    "    rf = copy(reduce(hcat, rf)')\n",
    "\n",
    "    # get base-to-fire arcs from start\n",
    "    from_start_rf = [[c, BASE_CODE, c, FIRE_CODE, f_to, 0, gd.bf_tau[c, f_to], 0, 0]\n",
    "                      for c=1:NUM_CREWS, f_to=1:NUM_FIRES if cs.current_fire[c] == -1]\n",
    "    from_start_rf = copy(reduce(hcat, from_start_rf)')\n",
    "\n",
    "    # get fire-to-base arcs\n",
    "    fr = [[c, FIRE_CODE, f_from, BASE_CODE, c, t_from, t_from + gd.bf_tau[c, f_from], rest, rest]\n",
    "           for c=1:NUM_CREWS, f_from=1:NUM_FIRES, t_from=1:NUM_TIME_PERIODS, rest=0:1]\n",
    "    fr = copy(reduce(hcat, fr)')\n",
    "\n",
    "    # get fire-to-base arcs from start, based on cs.current crew locations\n",
    "    from_start_fr = [[c, FIRE_CODE, cs.current_fire[c], BASE_CODE, c, 0, gd.bf_tau[c, cs.current_fire[c]], 0, 0]\n",
    "                      for c=1:NUM_CREWS if cs.current_fire[c] != -1]\n",
    "    from_start_fr = copy(reduce(hcat, from_start_fr)')\n",
    "\n",
    "    # get base-to-base arcs\n",
    "    rr = [[c, BASE_CODE, c, BASE_CODE, c, t_from, t_from + 1 + (BREAK_LENGTH - 1) * rest, 0, rest]\n",
    "          for c=1:NUM_CREWS, t_from=1:NUM_TIME_PERIODS, rest=0:1]\n",
    "    rr = copy(reduce(hcat, rr)')\n",
    "    rr_rested = [[c, BASE_CODE, c, BASE_CODE, c, t_from, t_from + 1, 1, 1]\n",
    "          for c=1:NUM_CREWS, t_from=1:NUM_TIME_PERIODS]\n",
    "    rr_rested  = copy(reduce(hcat, rr_rested)')\n",
    "\n",
    "    # get base-to-base arcs from start, based on cs.current days rested\n",
    "    from_start_rr = [[c, BASE_CODE, c, BASE_CODE, c, 0, \n",
    "                      1 + (BREAK_LENGTH - max(cs.rested_periods[c], 0) - 1) * rest, 0, rest] \n",
    "                      for c=1:NUM_CREWS, rest=0:1 if cs.current_fire[c] == -1]\n",
    "    from_start_rr = copy(reduce(hcat, from_start_rr)')\n",
    "\n",
    "    A = vcat(ff, from_start_ff, rf, from_start_rf, fr, from_start_fr, rr, rr_rested, from_start_rr)\n",
    "\n",
    "    out_of_region = [arc_exits_region(A[i, 1], A[i, 2], A[i, 3], A[i, 4], A[i, 5], rd) \n",
    "                     for i in 1:length(A[:, 1])]\n",
    "    A = hcat(A, out_of_region)\n",
    "    \n",
    "    return A\n",
    "end"
   ]
  },
  {
   "cell_type": "code",
   "execution_count": 10,
   "id": "63e7f29a",
   "metadata": {},
   "outputs": [
    {
     "data": {
      "text/plain": [
       "get_distance (generic function with 1 method)"
      ]
     },
     "execution_count": 10,
     "metadata": {},
     "output_type": "execute_result"
    }
   ],
   "source": [
    "function get_distance(from_type, from_ix, to_type, to_ix, fire_fire, base_fire)\n",
    "    \n",
    "    dist = 0\n",
    "    \n",
    "    # if fire to fire\n",
    "    if (from_type == FIRE_CODE) & (to_type == FIRE_CODE)\n",
    "        dist = fire_fire[from_ix, to_ix]\n",
    "    \n",
    "    # if fire to base\n",
    "    elseif (from_type == FIRE_CODE) & (to_type == BASE_CODE)\n",
    "        dist = base_fire[to_ix, from_ix]\n",
    "    \n",
    "    # if base to fire\n",
    "    elseif (from_type == BASE_CODE) & (to_type == FIRE_CODE)\n",
    "        dist = base_fire[from_ix, to_ix]\n",
    "        \n",
    "    # otherwise dist still 0\n",
    "    end\n",
    "    \n",
    "    return dist\n",
    "end "
   ]
  },
  {
   "cell_type": "code",
   "execution_count": 11,
   "id": "85c85c6b",
   "metadata": {},
   "outputs": [],
   "source": [
    "# crew, from_type, from_ix, to_type, to_ix, from_time, to_time, from_rested, to_rested, exited_region"
   ]
  },
  {
   "cell_type": "code",
   "execution_count": 12,
   "id": "c127417f",
   "metadata": {},
   "outputs": [
    {
     "data": {
      "text/plain": [
       "get_arc_costs (generic function with 1 method)"
      ]
     },
     "execution_count": 12,
     "metadata": {},
     "output_type": "execute_result"
    }
   ],
   "source": [
    "function get_arc_costs(gd, arcs, cost_param_dict)\n",
    "    \n",
    "    # get number of arcs\n",
    "    n_arcs = length(arcs[:, 1])\n",
    "    \n",
    "    # initialize costs to 0\n",
    "    costs = zeros(n_arcs)\n",
    "    \n",
    "    # if there is travel cost per mile\n",
    "    if \"cost_per_mile\" in keys(cost_param_dict)\n",
    "        \n",
    "        # find the miles for each arc\n",
    "        miles_per_arc =  [get_distance(arcs[i, 2], arcs[i, 3], \n",
    "                                       arcs[i, 4], arcs[i, 5], \n",
    "                                       gd.ff_dist, gd.bf_dist) for i in 1:n_arcs]\n",
    "        # add to costs\n",
    "        costs = costs .+ (cost_param_dict[\"cost_per_mile\"] * miles_per_arc)\n",
    "    end\n",
    "    \n",
    "    # if there are rest violations\n",
    "    if \"rest_violation\" in keys(cost_param_dict)\n",
    "        \n",
    "        # find the rest violation scores\n",
    "        rest_violation_matrix = cost_param_dict[\"rest_violation\"]\n",
    "        rest_violations = [(arcs[i, 8] == 0) & (arcs[i, 6] > 0) ? \n",
    "                           rest_violation_matrix[arcs[i, 1], arcs[i, 6]] : 0\n",
    "                           for i in 1:n_arcs]\n",
    "        \n",
    "        # add to costs\n",
    "        costs = costs .+ rest_violations\n",
    "    end\n",
    "    \n",
    "    if \"fight_fire\" in keys(cost_param_dict)\n",
    "        costs = costs .+ [(arcs[i, 4] == FIRE_CODE) ? cost_param_dict[\"fight_fire\"] : 0\n",
    "                          for i in 1:n_arcs]\n",
    "    end\n",
    "    \n",
    "    # if we have to adjust for linking dual constraints\n",
    "    if \"linking_dual\" in keys(cost_param_dict)\n",
    "        \n",
    "        # get the dual variables\n",
    "        rho = cost_param_dict[\"linking_dual\"]\n",
    "        \n",
    "        # get linking costs (really benefits) if arc goes to a fire\n",
    "        linking_costs = [((arcs[i, 4] == FIRE_CODE) & (arcs[i, 7] <= NUM_TIME_PERIODS)) ? \n",
    "                          - rho[arcs[i, 5], arcs[i, 7]] : 0\n",
    "                          for i in 1:n_arcs]\n",
    "        \n",
    "        # add to costs\n",
    "        costs = costs .+ linking_costs\n",
    "        \n",
    "    end\n",
    "    \n",
    "    # if we have to adjust for linking dual constraints\n",
    "    if \"out_of_region_dual\" in keys(cost_param_dict)\n",
    "        \n",
    "        # get needed regional info\n",
    "        regs = cost_param_dict[\"region_data\"].crew_regions\n",
    "        rot_order = cost_param_dict[\"rotation_order\"]\n",
    "        \n",
    "        # get the dual variables\n",
    "        eta = cost_param_dict[\"out_of_region_dual\"]\n",
    "\n",
    "        # get adjustment for crew allotment\n",
    "        c1 = [(arcs[i, 10] > 0) ? sum(eta[arcs[i, 1], t_0]\n",
    "                                        for t_0=arcs[i, 6]:NUM_TIME_PERIODS\n",
    "                                      ) : 0\n",
    "                                                   \n",
    "               for i in 1:n_arcs\n",
    "             ]\n",
    "        \n",
    "        # get adjustment for region average allotment\n",
    "        c2 = [(arcs[i, 10] > 0) ? sum(eta[c, t_0]\n",
    "                                            for c in keys(rot_order[regs[arcs[i, 1]]]),\n",
    "                                                t_0=arcs[i, 6]:NUM_TIME_PERIODS) /\n",
    "                                        length(keys(rot_order[regs[arcs[i, 1]]])) : 0\n",
    "                                                   \n",
    "               for i in 1:n_arcs\n",
    "             ]\n",
    "        \n",
    "        # get adjustment for big-M constraint\n",
    "        c3 = [(arcs[i, 10] > 0) ? NUM_TIME_PERIODS * eta[arcs[i, 1], arcs[i, 6]] : 0\n",
    "               for i in 1:n_arcs\n",
    "             ]\n",
    "            \n",
    "        # add to costs\n",
    "        costs = costs .+ c1 .- c2 .+ c3\n",
    "        \n",
    "    end   \n",
    "    \n",
    "    return costs\n",
    "end"
   ]
  },
  {
   "cell_type": "code",
   "execution_count": 13,
   "id": "413223fc",
   "metadata": {},
   "outputs": [
    {
     "data": {
      "text/plain": [
       "is_one (generic function with 1 method)"
      ]
     },
     "execution_count": 13,
     "metadata": {},
     "output_type": "execute_result"
    }
   ],
   "source": [
    "function positive(x)\n",
    "    \n",
    "    if x > 0\n",
    "        return 1\n",
    "    end\n",
    "    \n",
    "    return 0\n",
    "end\n",
    "\n",
    "function is_one(x)\n",
    "    \n",
    "    if x == 1\n",
    "        return 1\n",
    "    end\n",
    "    \n",
    "    return 0\n",
    "end"
   ]
  },
  {
   "cell_type": "code",
   "execution_count": 14,
   "id": "c6f31a82",
   "metadata": {},
   "outputs": [
    {
     "data": {
      "text/plain": [
       "get_rest_penalties (generic function with 1 method)"
      ]
     },
     "execution_count": 14,
     "metadata": {},
     "output_type": "execute_result"
    }
   ],
   "source": [
    "# should return matrix indexed by crew, time, \n",
    "function get_rest_penalties(rest_by_periods, lambda, accounting_func)\n",
    "    \n",
    "    penalties = zeros(NUM_CREWS, NUM_TIME_PERIODS)\n",
    "    \n",
    "    for c in 1:NUM_CREWS\n",
    "        penalties[c, :] = [lambda * accounting_func(t - rest_by_periods[c]) \n",
    "                           for t in 1:NUM_TIME_PERIODS]\n",
    "    end\n",
    "    \n",
    "    return penalties    \n",
    "end"
   ]
  },
  {
   "cell_type": "code",
   "execution_count": 15,
   "id": "846c1e8f",
   "metadata": {},
   "outputs": [
    {
     "data": {
      "text/plain": [
       "define_network_constraint_data (generic function with 1 method)"
      ]
     },
     "execution_count": 15,
     "metadata": {},
     "output_type": "execute_result"
    }
   ],
   "source": [
    "function define_network_constraint_data(arcs)\n",
    "    \n",
    "    # shorten some global variable names\n",
    "    C = NUM_CREWS\n",
    "    G = NUM_FIRES\n",
    "    T = NUM_TIME_PERIODS\n",
    "    \n",
    "    # get number of arcs\n",
    "    n_arcs = length(arcs[:, 1])\n",
    "      \n",
    "    ## flow balance ##\n",
    "    \n",
    "    # initialize arrays of vectors for flow balance\n",
    "    f_out = Array{Vector{Int64}}(undef, C, G, T, 2)\n",
    "    f_in = Array{Vector{Int64}}(undef, C, G, T, 2)\n",
    "    b_out = Array{Vector{Int64}}(undef, C, T, 2)\n",
    "    b_in = Array{Vector{Int64}}(undef, C, T, 2)\n",
    "    start = Array{Vector{Int64}}(undef, C)\n",
    "    out_of_region = Array{Vector{Int64}}(undef, C, T+1)\n",
    "    \n",
    "    # for each crew\n",
    "    for crew in 1:C\n",
    "        \n",
    "        # get indices of this crew's arcs only\n",
    "        crew_ixs = [i for i in 1:n_arcs if arcs[i, 1] == crew]\n",
    "        \n",
    "        # get time 0 indices\n",
    "        start[crew] = [i for i in crew_ixs if arcs[i, 6] == 0]\n",
    "        \n",
    "        # for each time period (including start)\n",
    "        for tm in 0:T\n",
    "        \n",
    "            # get indices for out of region assignments\n",
    "            out_of_region[crew, tm+1] = [i for i in crew_ixs if\n",
    "                                           (arcs[i, 6] == tm) &\n",
    "                                           (arcs[i, 10] > 0)\n",
    "                                        ]\n",
    "        end\n",
    "        \n",
    "        # for each time period\n",
    "        for tm in 1:T\n",
    "            \n",
    "            # for each rest state\n",
    "            for rest in 1:2\n",
    "                \n",
    "                # get arcs leaving crew base at this time with this rest\n",
    "                b_out[crew, tm, rest] = [i for i in crew_ixs if\n",
    "                                         (arcs[i, 2] == BASE_CODE) &\n",
    "                                         (arcs[i, 6] == tm) &\n",
    "                                         (arcs[i, 8] == rest-1)\n",
    "                                        ]\n",
    "                \n",
    "                # get arcs entering crew base at this time with this rest\n",
    "                b_in[crew, tm, rest] = [i for i in crew_ixs if\n",
    "                                        (arcs[i, 4] == BASE_CODE) &\n",
    "                                        (arcs[i, 7] == tm) &\n",
    "                                        (arcs[i, 9] == rest-1)\n",
    "                                       ]\n",
    "                # for each fire\n",
    "                for fire in 1:G\n",
    "                    \n",
    "                    # get arcs where this crew leaves this fire at this time\n",
    "                    # with this rest state\n",
    "                    f_out[crew, fire, tm, rest] = [i for i in crew_ixs if\n",
    "                                                   (arcs[i, 2] == FIRE_CODE) &\n",
    "                                                   (arcs[i, 3] == fire) &\n",
    "                                                   (arcs[i, 6] == tm) &\n",
    "                                                   (arcs[i, 8] == rest-1)\n",
    "                                                   ]\n",
    "                    \n",
    "                    # get arcs where this crew enters this fire at this time\n",
    "                    # with this rest state\n",
    "                    f_in[crew, fire, tm, rest] = [i for i in crew_ixs if\n",
    "                                                  (arcs[i, 4] == FIRE_CODE) &\n",
    "                                                  (arcs[i, 5] == fire) &\n",
    "                                                  (arcs[i, 7] == tm) &\n",
    "                                                  (arcs[i, 9] == rest-1)\n",
    "                                                  ]\n",
    "                end\n",
    "            end\n",
    "        end\n",
    "    end\n",
    "    \n",
    "    ## linking constraints ##\n",
    "    linking = Array{Vector{Int64}}(undef, G, T)\n",
    "    for fire in 1:G\n",
    "        for tm in 1:T\n",
    "            \n",
    "            # we count the crew as working *where they arrived* during this timestep\n",
    "            linking[fire, tm] = [i for i in 1:n_arcs if (arcs[i, 4] == FIRE_CODE) &\n",
    "                                                        (arcs[i, 5] == fire) &\n",
    "                                                        (arcs[i, 7] == tm)]\n",
    "        end\n",
    "    end\n",
    "    \n",
    "    \n",
    "    return KeyArcIndices(f_out, f_in, b_out, b_in, linking, start, out_of_region)\n",
    "end"
   ]
  },
  {
   "cell_type": "code",
   "execution_count": 16,
   "id": "85bb158f",
   "metadata": {},
   "outputs": [
    {
     "data": {
      "text/plain": [
       "get_route_stats (generic function with 1 method)"
      ]
     },
     "execution_count": 16,
     "metadata": {},
     "output_type": "execute_result"
    }
   ],
   "source": [
    "function get_route_stats(arc_ixs_used, arcs, costs)\n",
    "    \n",
    "    # get total cost\n",
    "    route_cost = sum(costs[arc_ixs_used])\n",
    "    \n",
    "    # initialize fires fought matrix\n",
    "    fires_fought =  falses(NUM_FIRES, NUM_TIME_PERIODS)\n",
    "    \n",
    "    # initialize out of region matrix\n",
    "    out_of_region = falses(NUM_TIME_PERIODS + 1)\n",
    "    \n",
    "    # for each arc used\n",
    "    for ix in arc_ixs_used\n",
    "        arc = arcs[ix, :]\n",
    "        \n",
    "        # update fires_fought\n",
    "        if (arc[4] == FIRE_CODE) & (arc[7] <= NUM_TIME_PERIODS)\n",
    "            @assert ~fires_fought[arc[5], arc[7]] \"Visited fire twice at same time\"\n",
    "            fires_fought[arc[5], arc[7]] = true\n",
    "        end\n",
    "        \n",
    "        # update out_of_region\n",
    "        if arc[10] > 0\n",
    "            @assert ~out_of_region[arc[6] + 1] \"Left region twice at same time\"\n",
    "            out_of_region[arc[6] + 1] = true\n",
    "        end\n",
    "    end\n",
    "    \n",
    "    return route_cost, fires_fought, out_of_region\n",
    "end"
   ]
  },
  {
   "cell_type": "code",
   "execution_count": 17,
   "id": "8a2f3da2",
   "metadata": {},
   "outputs": [
    {
     "data": {
      "text/plain": [
       "initialize_route_data (generic function with 1 method)"
      ]
     },
     "execution_count": 17,
     "metadata": {},
     "output_type": "execute_result"
    }
   ],
   "source": [
    "function initialize_route_data(max_routes)\n",
    "    \n",
    "    return RouteData(zeros(NUM_CREWS), Matrix{Float64}(undef, NUM_CREWS, max_routes),\n",
    "                     BitArray(undef, NUM_CREWS, max_routes, NUM_FIRES, NUM_TIME_PERIODS) .> 2,\n",
    "                     BitArray(undef, NUM_CREWS, max_routes, NUM_TIME_PERIODS + 1) .> 2)\n",
    "end"
   ]
  },
  {
   "cell_type": "code",
   "execution_count": 18,
   "id": "368b79c3",
   "metadata": {},
   "outputs": [
    {
     "data": {
      "text/plain": [
       "update_available_routes (generic function with 1 method)"
      ]
     },
     "execution_count": 18,
     "metadata": {},
     "output_type": "execute_result"
    }
   ],
   "source": [
    "function update_available_routes(crew, route_ixs, arcs, costs, route_data)\n",
    "    \n",
    "    # get the required information from the arcs used\n",
    "    route_cost, fires_fought, out_of_region = get_route_stats(route_ixs, arcs, costs)\n",
    "    \n",
    "    ## store this information to the route_data ##\n",
    "    \n",
    "    # add 1 to number of routes for this crew, store the index\n",
    "    route_data.routes_per_crew[crew] += 1\n",
    "    ix = route_data.routes_per_crew[crew]\n",
    "    \n",
    "    # append the route cost\n",
    "    route_data.route_costs[crew, ix] = route_cost\n",
    "    \n",
    "    # append the fires fought\n",
    "    route_data.fires_fought[crew, ix, :, :] = fires_fought\n",
    "    \n",
    "    # append the out-of-region assignments\n",
    "    route_data.out_of_reg[crew, ix, :] = out_of_region\n",
    "    \n",
    "    return 1\n",
    "\n",
    "end"
   ]
  },
  {
   "cell_type": "code",
   "execution_count": 19,
   "id": "05c56733",
   "metadata": {},
   "outputs": [
    {
     "data": {
      "text/plain": [
       "get_supp_plan_stats (generic function with 2 methods)"
      ]
     },
     "execution_count": 19,
     "metadata": {},
     "output_type": "execute_result"
    }
   ],
   "source": [
    "function get_supp_plan_stats(var_p, var_d, beta, tolerance=0.0001)\n",
    "    \n",
    "    # get the cost based on the perimeter progression\n",
    "    cost = beta * (sum(value.(var_p)) - value(var_p[1])/2 - value(var_p[NUM_TIME_PERIODS+1]/2))\n",
    "    \n",
    "    # get the number of crews present each time period from line constructed\n",
    "    crew_vector = value.(var_d)\n",
    "    int_crew_vector = convert.(Int64, round.(crew_vector))\n",
    "    @assert maximum(abs.(crew_vector - int_crew_vector)) < tolerance \"Not an integer plan\"\n",
    "    \n",
    "    return cost, int_crew_vector\n",
    "\n",
    "end"
   ]
  },
  {
   "cell_type": "code",
   "execution_count": 20,
   "id": "9a5695d4",
   "metadata": {},
   "outputs": [
    {
     "data": {
      "text/plain": [
       "initialize_supp_plan_data (generic function with 1 method)"
      ]
     },
     "execution_count": 20,
     "metadata": {},
     "output_type": "execute_result"
    }
   ],
   "source": [
    "function initialize_supp_plan_data(max_supp_plans)\n",
    "    \n",
    "    return SuppressionPlanData(zeros(NUM_FIRES), \n",
    "                               Matrix{Float64}(undef, NUM_FIRES, max_supp_plans),\n",
    "                               zeros(Int8, (NUM_FIRES, max_supp_plans, NUM_TIME_PERIODS))\n",
    "                              )\n",
    "end"
   ]
  },
  {
   "cell_type": "code",
   "execution_count": 21,
   "id": "8c279c56",
   "metadata": {},
   "outputs": [
    {
     "data": {
      "text/plain": [
       "update_available_supp_plans (generic function with 1 method)"
      ]
     },
     "execution_count": 21,
     "metadata": {},
     "output_type": "execute_result"
    }
   ],
   "source": [
    "function update_available_supp_plans(fire, cost, allotment, plan_data)\n",
    "    \n",
    "    # add 1 to number of plans for this fire, store the index\n",
    "    plan_data.plans_per_fire[fire] += 1\n",
    "    ix = plan_data.plans_per_fire[fire]\n",
    "    \n",
    "    # append the route cost\n",
    "    plan_data.plan_costs[fire, ix] = cost\n",
    "    \n",
    "    # append the fires fought\n",
    "    plan_data.crews_present[fire, ix, :] = allotment\n",
    "    \n",
    "    return 1\n",
    "\n",
    "end"
   ]
  },
  {
   "cell_type": "code",
   "execution_count": 22,
   "id": "5f1302a9",
   "metadata": {},
   "outputs": [
    {
     "data": {
      "text/plain": [
       "full_formulation (generic function with 1 method)"
      ]
     },
     "execution_count": 22,
     "metadata": {},
     "output_type": "execute_result"
    }
   ],
   "source": [
    "function full_formulation(integer_routes, region_data, constraint_data, rotation_order, \n",
    "                          costs, progs, perims, beta, gamma, verbose, time_limit)\n",
    "    \n",
    "    # get number of arcs\n",
    "    n_arcs = length(costs)\n",
    "    \n",
    "    # shorten some global variable names\n",
    "    C = NUM_CREWS\n",
    "    G = NUM_FIRES\n",
    "    T = NUM_TIME_PERIODS\n",
    "    regs = region_data.crew_regions\n",
    "    \n",
    "    # intialize model\n",
    "    m = Model(() -> Gurobi.Optimizer(GRB_ENV))\n",
    "    \n",
    "    if ~verbose\n",
    "        set_optimizer_attribute(m, \"OutputFlag\", 0)\n",
    "    end\n",
    "    \n",
    "    if time_limit != false\n",
    "        set_optimizer_attribute(m, \"TimeLimit\", time_limit)\n",
    "    end\n",
    "        \n",
    "\n",
    "    # fire suppression plan section\n",
    "    @variable(m, p[g=1:G, t=1:T+1] >= 0)\n",
    "    @variable(m, l[g=1:G, t=1:T])\n",
    "    @variable(m, d[g=1:G, t=1:T] >= 0)\n",
    "    @constraint(m, perim_growth[g=1:G, t=1:T], p[g, t+1] >= progs[g, t] * \n",
    "                                                           (p[g, t] - l[g, t] / 2) - l[g, t] / 2)\n",
    "    @constraint(m, perim_start[g=1:G], p[g, 1] == perims[g])\n",
    "\n",
    "    # routing plan section\n",
    "    if integer_routes\n",
    "        @variable(m, z[1:n_arcs] >= 0, Int)\n",
    "    else\n",
    "        @variable(m, z[1:n_arcs] >= 0)\n",
    "    end\n",
    "    \n",
    "    if integer_routes\n",
    "        @variable(m, q[1:C, 0:T] >= 0, Int)\n",
    "    else\n",
    "        @variable(m, q[1:C, 0:T] >= 0)\n",
    "    end\n",
    "    \n",
    "    # build out_of_region constraints\n",
    "    @constraint(m, out_of_region[c=1:C, t=0:T],\n",
    "    \n",
    "        # out of region penalty is at least\n",
    "        q[c, t] >=\n",
    "        \n",
    "            # this crew's cumulative rotations\n",
    "            sum(z[i] for t_0=0:t, i in constraint_data.out_of_region[c, t_0+1]) \n",
    "        \n",
    "        - \n",
    "        \n",
    "            # average cumulative rotations among all crews in same region\n",
    "            sum(z[i] for c_0 in keys(rotation_order[regs[c]]), t_0=0:t, \n",
    "                i in constraint_data.out_of_region[c_0, t_0+1]) /\n",
    "            length(keys(rotation_order[regs[c]]))\n",
    "        \n",
    "        -\n",
    "        \n",
    "            # normalizing factor for specific crew rotation order\n",
    "            (1 - rotation_order[regs[c]][c] / length(keys(rotation_order[regs[c]])))\n",
    "        \n",
    "        -\n",
    "            # big-M for if crew goes not leave region at this time\n",
    "            T * (1 - sum(z[i] for i in constraint_data.out_of_region[c, t+1]))\n",
    "        \n",
    "    )\n",
    "\n",
    "\n",
    "    @constraint(m, fire_flow[c=1:C, g=1:G, t=1:T, rest=1:2],\n",
    "\n",
    "            sum(z[constraint_data.f_out[c, g, t, rest]]) ==\n",
    "            sum(z[constraint_data.f_in[c, g, t, rest]])\n",
    "    \n",
    "    )\n",
    "    \n",
    "    @constraint(m, base_flow[c=1:C, t=1:T, rest=1:2],\n",
    "\n",
    "            sum(z[constraint_data.b_out[c, t, rest]]) ==\n",
    "            sum(z[constraint_data.b_in[c, t, rest]])\n",
    "    \n",
    "    )\n",
    "\n",
    "\n",
    "    @constraint(m, linking[g=1:G, t=1:T],\n",
    "\n",
    "        LINE_PER_CREW * sum(z[constraint_data.supp_fire[g, t]]) >= l[g, t]\n",
    "    )\n",
    "    \n",
    "\n",
    "    # build start constraint\n",
    "    @constraint(m, start[c=1:C], \n",
    "\n",
    "        sum(z[constraint_data.start[c]]) == 1\n",
    "    )\n",
    "    \n",
    "    \n",
    "    \n",
    "\n",
    "    @objective(m, Min, \n",
    "        beta * (sum(p) - sum(p[1:G, 1])/2 - sum(p[1:G, T+1])/2) + \n",
    "        sum(z .* costs) + sum(q) * gamma\n",
    "    )\n",
    "    \n",
    "    return m, p, l, z, q, out_of_region, linking\n",
    "    \n",
    "end"
   ]
  },
  {
   "cell_type": "code",
   "execution_count": 23,
   "id": "28eeec56",
   "metadata": {},
   "outputs": [
    {
     "data": {
      "text/plain": [
       "load_data (generic function with 1 method)"
      ]
     },
     "execution_count": 23,
     "metadata": {},
     "output_type": "execute_result"
    }
   ],
   "source": [
    "function load_data(path)\n",
    "    \n",
    "    # get distance from fire f to fire g \n",
    "    fire_dists =  readdlm(path * \"/fire_distances.csv\", ',')\n",
    "\n",
    "    # get distance from base c to fire g (NUM_CREWS-by-NUM_FIRES)\n",
    "    base_fire_dists =  readdlm(path * \"/base_fire_distances.csv\", ',')\n",
    "\n",
    "    # initialize travel times (number of periods) from fire f to fire g\n",
    "    tau = convert(Array{Int}, ones(size(fire_dists)))\n",
    "\n",
    "    # initialize number of periods to travel from base c to fire g (NUM_CREWS-by-NUM_FIRES)\n",
    "    tau_base_to_fire = convert(Array{Int}, ones((size(base_fire_dists))))\n",
    "\n",
    "    # read intial crew statuses (location, period by which they must rest)\n",
    "    # (-1 in current_fire means crew is currently at base)\n",
    "    # (rested_periods is the amount of time crew has been at base, relevant for completing rest)\n",
    "    crew_starts = CSV.read(path * \"/sample_crew_starts.csv\", DataFrame)\n",
    "    rest_by = crew_starts[!, \"rest_by\"]\n",
    "    current_fire = crew_starts[!, \"current_fire\"]\n",
    "    rested_periods = crew_starts[!, \"rested_periods\"]\n",
    "\n",
    "\n",
    "    return (GlobalData(fire_dists, base_fire_dists, tau, tau_base_to_fire), \n",
    "            CrewStatus(rest_by, current_fire, rested_periods))\n",
    "end"
   ]
  },
  {
   "cell_type": "code",
   "execution_count": 24,
   "id": "6e68bf7e",
   "metadata": {},
   "outputs": [
    {
     "data": {
      "text/plain": [
       "master_problem (generic function with 1 method)"
      ]
     },
     "execution_count": 24,
     "metadata": {},
     "output_type": "execute_result"
    }
   ],
   "source": [
    "function master_problem(col_gen_config, route_data, supp_plan_data, region_data, rotation_order, gamma, price_branch)\n",
    "    \n",
    "    m = Model(() -> Gurobi.Optimizer(GRB_ENV))\n",
    "    set_optimizer_attribute(m, \"OutputFlag\", 0)\n",
    "    \n",
    "    regs = region_data.crew_regions\n",
    "    \n",
    "    # decision variables\n",
    "    if price_branch\n",
    "        @variable(m, route[c=1:NUM_CREWS, r=1:route_data.routes_per_crew[c]] >= 0, Int)\n",
    "        @variable(m, plan[g=1:NUM_FIRES, p=1:supp_plan_data.plans_per_fire[g]] >= 0, Int)\n",
    "        @variable(m, q[c=1:NUM_CREWS, t=0:NUM_TIME_PERIODS] >= 0, Int)\n",
    "    else\n",
    "        @variable(m, route[c=1:NUM_CREWS, r=1:route_data.routes_per_crew[c]] >= 0)\n",
    "        @variable(m, plan[g=1:NUM_FIRES, p=1:supp_plan_data.plans_per_fire[g]] >= 0)\n",
    "        @variable(m, q[c=1:NUM_CREWS, t=0:NUM_TIME_PERIODS] >= 0)\n",
    "    end\n",
    "    \n",
    "    # if we are doing a dual_stabilization\n",
    "    if col_gen_config[\"master_problem\"][\"dual_stabilization\"] != false\n",
    "        \n",
    "        # should not do this in price-and-branch framework\n",
    "        @assert price_branch == false\n",
    "        \n",
    "        # linking constraint perturbations\n",
    "        @variable(m, delta_plus[g=1:NUM_FIRES, t=1:NUM_TIME_PERIODS] >= 0)\n",
    "        @variable(m, delta_minus[g=1:NUM_FIRES, t=1:NUM_TIME_PERIODS] >= 0)\n",
    "        \n",
    "    end\n",
    "    \n",
    "    # constraints that you must choose a plan per crew and per fire\n",
    "    @constraint(m, route_per_crew[c=1:NUM_CREWS], \n",
    "                sum(route[c, r] for r=1:route_data.routes_per_crew[c]) == 1)\n",
    "    @constraint(m, plan_per_fire[g=1:NUM_FIRES], \n",
    "                sum(plan[g, p] for p=1:supp_plan_data.plans_per_fire[g]) >= 1)\n",
    "    \n",
    "    # linking constraint\n",
    "    \n",
    "    if col_gen_config[\"master_problem\"][\"dual_stabilization\"] == false\n",
    "        @constraint(m, linking[g=1:NUM_FIRES, t=1:NUM_TIME_PERIODS],\n",
    "\n",
    "                        # crews at fire\n",
    "                        sum(route[c, r] * route_data.fires_fought[c, r, g, t] \n",
    "                            for c=1:NUM_CREWS, r=1:route_data.routes_per_crew[c]) \n",
    "\n",
    "                        >=\n",
    "\n",
    "                        # crews suppressing\n",
    "                        sum(plan[g, p] * supp_plan_data.crews_present[g, p, t] \n",
    "                            for p=1:supp_plan_data.plans_per_fire[g]) \n",
    "\n",
    "                    )\n",
    "    elseif col_gen_config[\"master_problem\"][\"dual_stabilization\"] == \"global\"\n",
    "       \n",
    "        # get expected dual value ratios\n",
    "        ratios = col_gen_config[\"master_problem\"][\"dual_warm_start\"]\n",
    "        ratios = ratios / sum(ratios)\n",
    "        \n",
    "        # get secondary dual objective epsilon\n",
    "        secondary_eps = col_gen_config[\"master_problem\"][\"dual_secondary_eps\"]\n",
    "        \n",
    "        @constraint(m, linking[g=1:NUM_FIRES, t=1:NUM_TIME_PERIODS],\n",
    "\n",
    "                # crews at fire\n",
    "                sum(route[c, r] * route_data.fires_fought[c, r, g, t] \n",
    "                    for c=1:NUM_CREWS, r=1:route_data.routes_per_crew[c]) \n",
    "            \n",
    "                +\n",
    "            \n",
    "                # perturbation\n",
    "                delta_plus[g, t] - delta_minus[g, t] - \n",
    "                sum(ratios .* delta_plus) + sum(ratios .* delta_minus)\n",
    "                \n",
    "                >=\n",
    "\n",
    "                # crews suppressing\n",
    "                sum(plan[g, p] * supp_plan_data.crews_present[g, p, t] \n",
    "                    for p=1:supp_plan_data.plans_per_fire[g]) \n",
    "\n",
    "            )\n",
    "        @constraint(m, perturb[g=1:NUM_FIRES, t=1:NUM_TIME_PERIODS], \n",
    "                    delta_plus[g, t] + delta_minus[g, t] == secondary_eps)\n",
    "    else\n",
    "        error(\"Dual stabilization type not implemented\")\n",
    "    end\n",
    "    \n",
    "    # out_of_region constraint\n",
    "    @constraint(m, out_of_region[c=1:NUM_CREWS, t=0:NUM_TIME_PERIODS],\n",
    "    \n",
    "        # out of region penalty is at least\n",
    "        q[c, t] >=\n",
    "        \n",
    "            # this crew's cumulative rotations\n",
    "            sum(route[c, r] * route_data.out_of_reg[c, r, t_0 + 1] \n",
    "            for r=1:route_data.routes_per_crew[c], t_0=0:t)\n",
    "        \n",
    "        - \n",
    "        \n",
    "            # average cumulative rotations among all crews in same region\n",
    "            sum(route[c_0, r] * route_data.out_of_reg[c_0, r, t_0 + 1] \n",
    "                for c_0 in keys(rotation_order[regs[c]]), r=1:route_data.routes_per_crew[c_0],\n",
    "                t_0=0:t) /\n",
    "            length(keys(rotation_order[regs[c]]))\n",
    "        \n",
    "        -\n",
    "        \n",
    "            # normalizing factor for specific crew rotation order\n",
    "            (1 - rotation_order[regs[c]][c] / length(keys(rotation_order[regs[c]])))\n",
    "        \n",
    "        -\n",
    "            # big-M for if crew goes not leave region at this time\n",
    "            NUM_TIME_PERIODS * (1 - sum(route[c, r] * route_data.out_of_reg[c, r, t+1]\n",
    "                                        for r=1:route_data.routes_per_crew[c])\n",
    "                               )\n",
    "        \n",
    "    )\n",
    "    \n",
    "    @objective(m, Min, \n",
    "        \n",
    "                  # route costs\n",
    "                  sum(route[c, r] * route_data.route_costs[c, r] \n",
    "                        for c=1:NUM_CREWS, r=1:route_data.routes_per_crew[c])\n",
    "        \n",
    "                  +\n",
    "                     \n",
    "                  # suppression plan costs\n",
    "                  sum(plan[g, p] * supp_plan_data.plan_costs[g, p] \n",
    "                     for g=1:NUM_FIRES, p=1:supp_plan_data.plans_per_fire[g]) \n",
    "        \n",
    "                  +\n",
    "        \n",
    "                  # rotational queueing violations cost\n",
    "                  sum(q) * gamma\n",
    "               )\n",
    "    \n",
    "    return Dict(\"m\" => m, \"q\" => q, \"sigma\" => route_per_crew, \"pi\" => plan_per_fire, \n",
    "                \"rho\" => linking, \"eta\" => out_of_region, \"route\" => route, \"plan\" => plan)\n",
    "end "
   ]
  },
  {
   "cell_type": "code",
   "execution_count": 25,
   "id": "b119f02d",
   "metadata": {},
   "outputs": [
    {
     "data": {
      "text/plain": [
       "init_route_subproblem (generic function with 2 methods)"
      ]
     },
     "execution_count": 25,
     "metadata": {},
     "output_type": "execute_result"
    }
   ],
   "source": [
    "function init_route_subproblem(crew_ixs, crew, constraint_data, integer_routes=false)\n",
    "    \n",
    "    # shorten some global variable names\n",
    "    C = NUM_CREWS\n",
    "    G = NUM_FIRES\n",
    "    T = NUM_TIME_PERIODS\n",
    "    \n",
    "    # intialize model\n",
    "    m = Model(() -> Gurobi.Optimizer(GRB_ENV))\n",
    "    set_optimizer_attribute(m, \"OutputFlag\", 0)\n",
    "\n",
    "    # routing plan section\n",
    "    if integer_routes\n",
    "        @variable(m, z[crew_ixs] >= 0, Int)\n",
    "    else\n",
    "        @variable(m, z[crew_ixs] >= 0)\n",
    "    end\n",
    "\n",
    "\n",
    "    @constraint(m, fire_flow[g=1:G, t=1:T, rest=1:2],\n",
    "\n",
    "            sum(z[constraint_data.f_out[crew, g, t, rest]]) ==\n",
    "            sum(z[constraint_data.f_in[crew, g, t, rest]])\n",
    "    \n",
    "    )\n",
    "    \n",
    "    @constraint(m, base_flow[t=1:T, rest=1:2],\n",
    "\n",
    "            sum(z[constraint_data.b_out[crew, t, rest]]) ==\n",
    "            sum(z[constraint_data.b_in[crew, t, rest]])\n",
    "    \n",
    "    )\n",
    "\n",
    "    # build start constraint\n",
    "    @constraint(m, start, \n",
    "\n",
    "        sum(z[constraint_data.start[crew]]) == 1\n",
    "    )\n",
    "    \n",
    "    return Dict(\"m\" => m, \"z\" => z, \"ff\" => fire_flow)\n",
    "    \n",
    "end"
   ]
  },
  {
   "cell_type": "code",
   "execution_count": 26,
   "id": "fccc53fc",
   "metadata": {},
   "outputs": [
    {
     "data": {
      "text/plain": [
       "init_suppression_plan_subproblem (generic function with 1 method)"
      ]
     },
     "execution_count": 26,
     "metadata": {},
     "output_type": "execute_result"
    }
   ],
   "source": [
    "function init_suppression_plan_subproblem(progs, perims, fire, beta)\n",
    "    \n",
    "    T = NUM_TIME_PERIODS\n",
    "    \n",
    "    m = Model(() -> Gurobi.Optimizer(GRB_ENV))\n",
    "    set_optimizer_attribute(m, \"OutputFlag\", 0)\n",
    "\n",
    "    # fire suppression plan section\n",
    "    @variable(m, p[t=1:T+1] >= 0)\n",
    "    @variable(m, l[t=1:T] >= 0)\n",
    "    @variable(m, NUM_CREWS >= d[t=1:T] >= 0, Int)\n",
    "    @constraint(m, suppression_per_crew[t=1:T], l[t] <= d[t] * LINE_PER_CREW)\n",
    "    @constraint(m, perim_growth[t=1:T], p[t+1] >= progs[fire, t] * (p[t] - l[t] / 2) - l[t] / 2)\n",
    "    @constraint(m, perim_start, p[1] == perims[fire])\n",
    "    \n",
    "#    \n",
    "    \n",
    "    return Dict(\"m\" => m, \"p\" => p, \"d\" => d, \"beta\" => beta)\n",
    "end"
   ]
  },
  {
   "cell_type": "code",
   "execution_count": 27,
   "id": "f3e3cd99",
   "metadata": {},
   "outputs": [
    {
     "data": {
      "text/plain": [
       "full_network_flow (generic function with 3 methods)"
      ]
     },
     "execution_count": 27,
     "metadata": {},
     "output_type": "execute_result"
    }
   ],
   "source": [
    "function full_network_flow(region_data, constraint_data, rotation_order, \n",
    "                               r_arc_costs, f_arc_costs, crews_needed, fire_linking_arcs, \n",
    "                               fire_start_arcs, f_out_arcs, f_in_arcs, gamma, integer=false, verbose=false)\n",
    "    \n",
    "    # get number of arcs\n",
    "    n_arcs_route = length(r_arc_costs)\n",
    "    n_arcs_fire = length(f_arc_costs)\n",
    "    \n",
    "    # shorten some global variable names\n",
    "    C = NUM_CREWS\n",
    "    G = NUM_FIRES\n",
    "    T = NUM_TIME_PERIODS\n",
    "    regs = region_data.crew_regions\n",
    "    \n",
    "    # intialize model\n",
    "    m = Model(() -> Gurobi.Optimizer(GRB_ENV))\n",
    "    \n",
    "    if ~verbose\n",
    "        set_optimizer_attribute(m, \"OutputFlag\", 0)\n",
    "    end\n",
    "\n",
    "    # fire suppression plan section\n",
    "    \n",
    "    if integer\n",
    "        @variable(m, y[i=1:n_arcs_fire] >= 0, Int)\n",
    "    else\n",
    "        @variable(m, y[i=1:n_arcs_fire] >= 0)\n",
    "    end\n",
    "        \n",
    "    @variable(m, d[fire=1:NUM_FIRES, t=1:NUM_TIME_PERIODS] >= 0)\n",
    "\n",
    "    @constraint(m, fire_linking[fire=1:NUM_FIRES, t=1:NUM_TIME_PERIODS],\n",
    "\n",
    "        d[fire, t] >= sum(crews_needed[i] * y[i] for i in fire_linking_arcs[fire][t])\n",
    "\n",
    "                )\n",
    "    \n",
    "    @constraint(m, fire_start[fire=1:NUM_FIRES], y[fire_start_arcs[fire]] == 1)\n",
    "    \n",
    "    n_states = size(f_out_arcs)[1]\n",
    "    @constraint(m, state_flow[s=1:n_states, t=1:NUM_TIME_PERIODS], sum(y[f_out_arcs[s, t]]) == sum(y[f_in_arcs[s, t]]))\n",
    "\n",
    "    if integer\n",
    "        @variable(m, z[1:n_arcs_route] >= 0, Int)\n",
    "    else\n",
    "        @variable(m, z[1:n_arcs_route] >= 0)\n",
    "    end\n",
    "    \n",
    "    @variable(m, q[1:C, 0:T] >= 0)\n",
    "    \n",
    "    # build out_of_region constraints\n",
    "    @constraint(m, out_of_region[c=1:C, t=0:T],\n",
    "    \n",
    "        # out of region penalty is at least\n",
    "        q[c, t] >=\n",
    "        \n",
    "            # this crew's cumulative rotations\n",
    "            sum(z[i] for t_0=0:t, i in constraint_data.out_of_region[c, t_0+1]) \n",
    "        \n",
    "        - \n",
    "        \n",
    "            # average cumulative rotations among all crews in same region\n",
    "            sum(z[i] for c_0 in keys(rotation_order[regs[c]]), t_0=0:t, \n",
    "                i in constraint_data.out_of_region[c_0, t_0+1]) /\n",
    "            length(keys(rotation_order[regs[c]]))\n",
    "        \n",
    "        -\n",
    "        \n",
    "            # normalizing factor for specific crew rotation order\n",
    "            (1 - rotation_order[regs[c]][c] / length(keys(rotation_order[regs[c]])))\n",
    "        \n",
    "        -\n",
    "            # big-M for if crew goes not leave region at this time\n",
    "            T * (1 - sum(z[i] for i in constraint_data.out_of_region[c, t+1]))\n",
    "        \n",
    "    )\n",
    "\n",
    "\n",
    "    @constraint(m, fire_flow[c=1:C, g=1:G, t=1:T, rest=1:2],\n",
    "\n",
    "            sum(z[constraint_data.f_out[c, g, t, rest]]) ==\n",
    "            sum(z[constraint_data.f_in[c, g, t, rest]])\n",
    "    \n",
    "    )\n",
    "    \n",
    "    @constraint(m, base_flow[c=1:C, t=1:T, rest=1:2],\n",
    "\n",
    "            sum(z[constraint_data.b_out[c, t, rest]]) ==\n",
    "            sum(z[constraint_data.b_in[c, t, rest]])\n",
    "    \n",
    "    )\n",
    "\n",
    "\n",
    "    @constraint(m, route_linking[g=1:G, t=1:T],\n",
    "\n",
    "        sum(z[constraint_data.supp_fire[g, t]]) >= d[g, t] \n",
    "    )\n",
    "    \n",
    "    # build start constraint\n",
    "    @constraint(m, start[c=1:C], \n",
    "\n",
    "        sum(z[constraint_data.start[c]]) == 1\n",
    "    )\n",
    "    \n",
    "    \n",
    "    \n",
    "    \n",
    "\n",
    "    @objective(m, Min, \n",
    "        sum(y .* f_arc_costs) + \n",
    "        sum(z .* r_arc_costs) + sum(q) * gamma\n",
    "    )\n",
    "    \n",
    "    return Dict(\"m\" => m, \"d\" => d, \"z\" => z, \"y\" => y, \"q\" => q, \"oor\" => out_of_region, \n",
    "                \"r_linking\" => route_linking, \"f_linking\" => fire_linking)\n",
    "    \n",
    "end"
   ]
  },
  {
   "cell_type": "code",
   "execution_count": 28,
   "id": "c58c178a",
   "metadata": {},
   "outputs": [
    {
     "data": {
      "text/plain": [
       "warm_start_suppression_plans (generic function with 1 method)"
      ]
     },
     "execution_count": 28,
     "metadata": {},
     "output_type": "execute_result"
    }
   ],
   "source": [
    "function warm_start_suppression_plans(plans_per_fire, fire_model_configs, region_data, constraint_data, rotation_order, \n",
    "                               r_arc_costs, gamma, integer, verbose, time_limit)\n",
    "    \n",
    "    all_fire_configs = [Dict{String,Any}(\"solver_type\" => \"network_flow_gurobi\") for fire in 1:NUM_FIRES]\n",
    "    \n",
    "    fire_sps = []\n",
    "    for fire in 1:NUM_FIRES\n",
    "        config = all_fire_configs[fire]\n",
    "        config[\"model_data\"] = fire_model_configs[fire]\n",
    "        config[\"warm_start\"] = \"lp_relax\"\n",
    "        d = init_suppression_plan_subproblem(config)\n",
    "        push!(fire_sps, d)\n",
    "    end\n",
    "    \n",
    "    round_type = \"ceiling\"\n",
    "    arcs_per_sp = [size(fire_sps[fire][round_type][\"arcs\"])[1] for fire in 1:NUM_FIRES]\n",
    "    \n",
    "    for fire in 1:NUM_FIRES\n",
    "        fire_arcs = fire_sps[fire][round_type][\"arcs\"]\n",
    "        fire_arcs[:, 1] .= fire\n",
    "    end\n",
    "    concat_fire_arcs = reduce(vcat, [fire_sps[fire][round_type][\"arcs\"] for fire in 1:NUM_FIRES])\n",
    "    n_fire_arc = size(concat_fire_arcs)[1]\n",
    "\n",
    "\n",
    "    fire_linking = []\n",
    "    for fire in 1:NUM_FIRES\n",
    "        fire_arcs = fire_sps[fire][round_type][\"arcs\"]\n",
    "        push!(fire_linking, [[j for j in 1:size(fire_arcs)[1] if fire_arcs[j, 3] == i] for i in 1:NUM_TIME_PERIODS])\n",
    "    end\n",
    "\n",
    "\n",
    "    offset = 0\n",
    "    for fire in 1:NUM_FIRES\n",
    "        for i in 1:length(fire_linking[fire])\n",
    "            fire_linking[fire][i] = fire_linking[fire][i] .+ offset\n",
    "        end\n",
    "        offset = offset + arcs_per_sp[fire]\n",
    "    end\n",
    "    \n",
    "    all_out_arcs = reduce(vcat, [fire_sps[fire][round_type][\"out_arcs\"] for fire in 1:NUM_FIRES])\n",
    "    all_in_arcs = reduce(vcat, [fire_sps[fire][round_type][\"in_arcs\"] for fire in 1:NUM_FIRES])\n",
    "\n",
    "    state_offsets = [size(fire_sps[fire][round_type][\"out_arcs\"])[1] for fire in 1:NUM_FIRES]\n",
    "    state_offsets  = cumsum(state_offsets)\n",
    "\n",
    "    for all_arcs in [all_out_arcs, all_in_arcs]\n",
    "        for i in 1:size(all_arcs)[1]\n",
    "            for fire in 1:NUM_FIRES\n",
    "                if i > state_offsets[fire]\n",
    "                    for j in 1:NUM_TIME_PERIODS\n",
    "                        all_arcs[i, j] = all_arcs[i, j] .+ arcs_per_sp[fire]\n",
    "                    end\n",
    "                end\n",
    "            end\n",
    "        end\n",
    "    end\n",
    "    \n",
    "    crew_requirements = concat_fire_arcs[:, 6]\n",
    "    fire_arc_costs = reduce(vcat, [fire_sps[fire][round_type][\"costs\"] for fire in 1:NUM_FIRES])\n",
    "    start_arcs = reduce(vcat, all_in_arcs[:, 1])\n",
    "    \n",
    "    network_flow_model = full_network_flow(region_data, constraint_data, rotation_order, \n",
    "                               r_arc_costs, fire_arc_costs, crew_requirements, fire_linking, \n",
    "                               start_arcs, all_out_arcs, all_in_arcs, gamma, integer, verbose)\n",
    "    \n",
    "    if integer\n",
    "        set_optimizer_attribute(network_flow_model[\"m\"], \"TimeLimit\", time_limit)\n",
    "        set_optimizer_attribute(network_flow_model[\"m\"], \"MIPFocus\", 1)\n",
    "    end\n",
    "        \n",
    "    optimize!(network_flow_model[\"m\"])\n",
    "    \n",
    "    d = network_flow_model[\"d\"]\n",
    "    \n",
    "    return [suppression_plan_perturbations(ceil.(value.(d[fire, :])), plans_per_fire) for fire in 1:NUM_FIRES], network_flow_model\n",
    "end"
   ]
  },
  {
   "cell_type": "code",
   "execution_count": 29,
   "id": "ce1eb6e2",
   "metadata": {},
   "outputs": [
    {
     "data": {
      "text/plain": [
       "arcs_from_state_graph (generic function with 1 method)"
      ]
     },
     "execution_count": 29,
     "metadata": {},
     "output_type": "execute_result"
    }
   ],
   "source": [
    "function arcs_from_state_graph(graph)\n",
    "    \n",
    "    visitable = [(i,j) for i in 1:size(graph)[1], j in 1:size(graph)[2] if isassigned(graph, i, j)]\n",
    "    edges = []\n",
    "\n",
    "    for (i, j) in visitable\n",
    "        push!(edges, copy(reduce(hcat, [[i, j, j+1, a[1], a[2]] for a in graph[i, j]])'))\n",
    "    end\n",
    "\n",
    "    return vcat([size(graph)[1], 0, 1, size(graph)[1], 0]', reduce(vcat, edges))\n",
    "end"
   ]
  },
  {
   "cell_type": "code",
   "execution_count": 30,
   "id": "ea854f5a",
   "metadata": {},
   "outputs": [
    {
     "data": {
      "text/plain": [
       "get_fire_cost (generic function with 1 method)"
      ]
     },
     "execution_count": 30,
     "metadata": {},
     "output_type": "execute_result"
    }
   ],
   "source": [
    "function get_fire_cost(crew_allocations, params)\n",
    "    \n",
    "    if params[\"model_type\"] == \"simple_linear\"\n",
    "        \n",
    "        perims = zeros(NUM_TIME_PERIODS + 1)\n",
    "        perims[1] = params[\"start_perim\"]\n",
    "        for i in 1:NUM_TIME_PERIODS\n",
    "            perims[i+1] = update_fire_stats(perims[i], i, crew_allocations[i], params)\n",
    "        end\n",
    "        \n",
    "        return params[\"beta\"] * (sum(perims) - 0.5 * perims[1] - 0.5 * perims[end])\n",
    "        \n",
    "    else\n",
    "        error(\"Model type not implemented\")\n",
    "    end\n",
    "end"
   ]
  },
  {
   "cell_type": "code",
   "execution_count": 31,
   "id": "bf5f66cc",
   "metadata": {},
   "outputs": [
    {
     "data": {
      "text/plain": [
       "update_fire_stats (generic function with 1 method)"
      ]
     },
     "execution_count": 31,
     "metadata": {},
     "output_type": "execute_result"
    }
   ],
   "source": [
    "function update_fire_stats(curr_stats, curr_time, crew_allocation, params)\n",
    "    \n",
    "    if params[\"model_type\"] == \"simple_linear\"\n",
    "        \n",
    "        line_per_crew = params[\"line_per_crew\"]\n",
    "        prog = params[\"progressions\"][curr_time]\n",
    "        line = line_per_crew * crew_allocation\n",
    "        next_stats = (curr_stats - line/2) * prog - line/2\n",
    "        next_stats = max(0, next_stats)\n",
    "        \n",
    "    else\n",
    "        error(\"Not implemented\")\n",
    "    end\n",
    "    \n",
    "    return next_stats\n",
    "end"
   ]
  },
  {
   "cell_type": "code",
   "execution_count": 32,
   "id": "bc9b4b8e",
   "metadata": {},
   "outputs": [
    {
     "data": {
      "text/plain": [
       "inverse_update_fire_stats (generic function with 1 method)"
      ]
     },
     "execution_count": 32,
     "metadata": {},
     "output_type": "execute_result"
    }
   ],
   "source": [
    "function inverse_update_fire_stats(stats_from, stats_to, time_from, time_to, params)\n",
    "    \"\"\" Returns number of crews needed for given fire transition \"\"\"\n",
    "    \n",
    "    if params[\"model_type\"] == \"simple_linear\"\n",
    "\n",
    "        line_per_crew = params[\"line_per_crew\"]\n",
    "        prog = params[\"progressions\"][time_from]\n",
    "        \n",
    "        crews = 2 / line_per_crew * (prog * stats_from - stats_to) / (1 + prog)\n",
    "        \n",
    "    else\n",
    "        error(\"Not implemented\")\n",
    "    end\n",
    "    \n",
    "    return crews\n",
    "    \n",
    "end"
   ]
  },
  {
   "cell_type": "code",
   "execution_count": 33,
   "id": "2ee8793e",
   "metadata": {},
   "outputs": [
    {
     "data": {
      "text/plain": [
       "create_discrete_fire_states (generic function with 1 method)"
      ]
     },
     "execution_count": 33,
     "metadata": {},
     "output_type": "execute_result"
    }
   ],
   "source": [
    "function create_discrete_fire_states(params)\n",
    "    \n",
    "    if params[\"model_type\"] == \"simple_linear\"\n",
    "        \n",
    "        # get the no-suppression progression of this fire\n",
    "        progs = params[\"progressions\"]\n",
    "        start_perim = params[\"start_perim\"]\n",
    "        no_supp = [start_perim]\n",
    "        for i in 1:NUM_TIME_PERIODS\n",
    "            push!(no_supp, no_supp[i] * progs[i])\n",
    "        end\n",
    "        \n",
    "        # generalize this later\n",
    "        aggressive_precision = AGG_PREC\n",
    "        num_aggressive_states = convert(Int, round(start_perim * 2 / aggressive_precision))\n",
    "        num_passive_states = PASSIVE_STATES\n",
    "\n",
    "        aggressive_states = LinRange(0, num_aggressive_states * aggressive_precision, num_aggressive_states)\n",
    "        passive_states = exp.(LinRange(log(num_aggressive_states * aggressive_precision + 1), \n",
    "                                       maximum(log.(no_supp .+ 1)), num_passive_states + 1)\n",
    "                             )\n",
    "        passive_states = passive_states[2:num_passive_states+1] .- 1\n",
    "        all_states = vcat(aggressive_states, passive_states)\n",
    "        all_states = vcat(all_states, 9999999)\n",
    "        \n",
    "        push!(all_states, start_perim)\n",
    "        \n",
    "    else\n",
    "        error(\"Not implemented\")\n",
    "    end\n",
    "    \n",
    "    return all_states\n",
    "end"
   ]
  },
  {
   "cell_type": "code",
   "execution_count": 34,
   "id": "487a4435",
   "metadata": {},
   "outputs": [
    {
     "data": {
      "text/plain": [
       "generate_state_transition_crew_reqs (generic function with 1 method)"
      ]
     },
     "execution_count": 34,
     "metadata": {},
     "output_type": "execute_result"
    }
   ],
   "source": [
    "function generate_state_transition_crew_reqs(curr_stats, curr_time, sorted_states, params, round_types)\n",
    "    \n",
    "    if params[\"model_type\"] == \"simple_linear\"\n",
    "        \n",
    "        # get all possibly feasible states\n",
    "        min_state_val = update_fire_stats(curr_stats, curr_time, NUM_CREWS + 0.5, params)\n",
    "        max_state_val = update_fire_stats(curr_stats, curr_time, 0, params)\n",
    "        \n",
    "        # get min and max index of the possibly feasible states\n",
    "        min_state_ix = searchsorted(sorted_states, min_state_val).start\n",
    "        max_state_ix = searchsorted(sorted_states, max_state_val).start\n",
    "        \n",
    "        # inititalize output \n",
    "        output = Dict()\n",
    "        for round_type in round_types\n",
    "            output[round_type] = []\n",
    "        end\n",
    "        \n",
    "        # inititalize minimum crews needed so far, for trimming (explained below)\n",
    "        min_used = Dict()\n",
    "        for round_type in round_types\n",
    "            min_used[round_type] = NUM_CREWS + 1\n",
    "        end\n",
    "        \n",
    "        # for each feasible state\n",
    "        for state_ix in min_state_ix:max_state_ix\n",
    "            crews_needed = inverse_update_fire_stats(curr_stats, sorted_states[state_ix], curr_time, \n",
    "                                                     curr_time + 1, params)\n",
    "            \n",
    "            # for each round type\n",
    "            for round_type in round_types\n",
    "                \n",
    "                # round the number of crews\n",
    "                if round_type == \"ceiling\"\n",
    "                    crews = max(0, convert(Int, ceil(crews_needed - 0.0001)))\n",
    "                elseif round_type == \"floor\"\n",
    "                    crews = max(0, convert(Int, floor(crews_needed + 0.0001)))\n",
    "                elseif round_type == \"nearest\"\n",
    "                    crews = max(0, convert(Int, round(crews_needed)))\n",
    "                else\n",
    "                    error(\"Round type not implemented\")\n",
    "                end\n",
    "                \n",
    "                # since the states are sorted in increasing level of cost and risk\n",
    "                # we can trim arcs that are dominated\n",
    "                \n",
    "                # if this is a feasible number of crews and we do not have a dominating arc\n",
    "                if (crews <= NUM_CREWS) & (crews < min_used[round_type])\n",
    "                    \n",
    "                    # update the minimum crews used for this round type\n",
    "                    min_used[round_type] = crews\n",
    "                    \n",
    "                    # push the crew requirement for this transition to the corresponding list\n",
    "                    push!(output[round_type], (state_ix, crews))\n",
    "                end\n",
    "            end\n",
    "        end\n",
    "        \n",
    "        return output\n",
    "\n",
    "    \n",
    "    else\n",
    "        error(\"Model type not implemented\")\n",
    "    end\n",
    "    \n",
    "end\n",
    "        "
   ]
  },
  {
   "cell_type": "code",
   "execution_count": 35,
   "id": "39a34e4a",
   "metadata": {},
   "outputs": [
    {
     "data": {
      "text/plain": [
       "generate_graphs (generic function with 1 method)"
      ]
     },
     "execution_count": 35,
     "metadata": {},
     "output_type": "execute_result"
    }
   ],
   "source": [
    "function generate_graphs(states, params, round_types)\n",
    "    \n",
    "    # separate out non start states\n",
    "    non_start_states = states[1:length(states)-1]\n",
    "    \n",
    "    # initializations\n",
    "    n_states = length(non_start_states)\n",
    "    crews_needed = Dict()\n",
    "    \n",
    "    # for each round type\n",
    "    for round_type in round_types\n",
    "        \n",
    "        # init graph as array of vectors (each index is a state*time vertex, each vector holds edges out)\n",
    "        crews_needed[round_type] = Array{Vector{}}(undef, n_states + 1, NUM_TIME_PERIODS + 1)\n",
    "        \n",
    "        # initialize time, state indices to check next\n",
    "        curr_time = 1\n",
    "        next_to_check = [n_states + 1]\n",
    "        \n",
    "        # while we have not yet reached the end of the horizon\n",
    "        while curr_time < NUM_TIME_PERIODS + 1\n",
    "            \n",
    "            # copy the indices to check and reset next_to_check\n",
    "            to_check = copy(next_to_check)\n",
    "            next_to_check = []\n",
    "\n",
    "            # for each state index feasible to reach at this time period\n",
    "            for check in to_check\n",
    "\n",
    "                # if it is not the last (no return) state\n",
    "                if check != n_states\n",
    "                    \n",
    "                    # find the crew requirements for feasible edges\n",
    "                    edges = generate_state_transition_crew_reqs(states[check], curr_time, non_start_states, \n",
    "                                                                params, [round_type])[round_type]\n",
    "                \n",
    "                # otherwise stay at this state\n",
    "                else\n",
    "                    edges = [(n_states, 0)]\n",
    "                end\n",
    "\n",
    "                # update the crews needed for each edge coming out of this state\n",
    "                crews_needed[round_type][check, curr_time] = edges\n",
    "\n",
    "                # append the neighbors to next_to_check\n",
    "                next_to_check = vcat(next_to_check, [edges[i][1] for i in 1:length(edges) \n",
    "                                                     if ~(edges[i][1] in next_to_check)])\n",
    "            end\n",
    "            \n",
    "            # add one to the time\n",
    "            curr_time += 1\n",
    "        end\n",
    "    end\n",
    "    \n",
    "    return crews_needed\n",
    "end"
   ]
  },
  {
   "cell_type": "code",
   "execution_count": 36,
   "id": "01fd9968",
   "metadata": {},
   "outputs": [
    {
     "data": {
      "text/plain": [
       "create_local_edge_price_func (generic function with 1 method)"
      ]
     },
     "execution_count": 36,
     "metadata": {},
     "output_type": "execute_result"
    }
   ],
   "source": [
    "function create_local_edge_price_func(rho, edge_caps, break_cap_penalty)\n",
    "\n",
    "    function local_edge_price(curr_time, num_crews)\n",
    "    \n",
    "        out = rho[curr_time] * num_crews\n",
    "        if num_crews > edge_caps[curr_time]\n",
    "            out += break_cap_penalty\n",
    "        end\n",
    "        \n",
    "        return out\n",
    "    end\n",
    "    \n",
    "    return local_edge_price\n",
    "end "
   ]
  },
  {
   "cell_type": "code",
   "execution_count": 37,
   "id": "44ce89cb",
   "metadata": {},
   "outputs": [
    {
     "data": {
      "text/plain": [
       "solve_fire_dp2 (generic function with 1 method)"
      ]
     },
     "execution_count": 37,
     "metadata": {},
     "output_type": "execute_result"
    }
   ],
   "source": [
    "function solve_fire_dp2(graph, avail_nodes, state_enter_costs, local_edge_price_func)\n",
    "    \n",
    "    n_states = size(state_enter_costs)[1]\n",
    "    \n",
    "    curr_time = NUM_TIME_PERIODS\n",
    "    costs = zeros(n_states, NUM_TIME_PERIODS + 1) .+ 1.0e12\n",
    "    costs[:, NUM_TIME_PERIODS + 1] = state_enter_costs[:, NUM_TIME_PERIODS + 1]\n",
    "    bests = Dict()\n",
    "    \n",
    "    # backward induction\n",
    "    while curr_time > 0\n",
    "    \n",
    "        state_time_costs = state_enter_costs[:, curr_time]\n",
    "        nodes_to_check = avail_nodes[curr_time]\n",
    "        \n",
    "        for node in nodes_to_check\n",
    "            current_cost = 1e30\n",
    "            current_best = -1\n",
    "            current_allot = -1\n",
    "            edges = graph[node, curr_time]\n",
    "            for edge in edges\n",
    "                edge_cost = costs[edge[1], curr_time + 1] + local_edge_price_func(curr_time, edge[2])\n",
    "                if edge_cost < current_cost\n",
    "                    current_best = edge[1]\n",
    "                    current_allot = edge[2]\n",
    "                    current_cost = edge_cost\n",
    "                end\n",
    "            end\n",
    "            costs[node, curr_time] = current_cost + state_time_costs[node]\n",
    "            bests[(node, curr_time)] = (current_best, current_allot);\n",
    "        end\n",
    "\n",
    "        curr_time -= 1\n",
    "    end\n",
    "    \n",
    "    # recreate path\n",
    "    curr_state = n_states\n",
    "    curr_time = 1\n",
    "    curr_cost = state_enter_costs[curr_state, curr_time]\n",
    "    allotments = convert.(Int, zeros(NUM_TIME_PERIODS))\n",
    "    all_states = convert.(Int, zeros(NUM_TIME_PERIODS + 1))\n",
    "    all_states[1] = curr_state\n",
    "\n",
    "    while curr_time < NUM_TIME_PERIODS + 1\n",
    "\n",
    "        next_state = bests[(curr_state, curr_time)]\n",
    "        curr_state = next_state[1]\n",
    "        allotments[curr_time] = next_state[2]\n",
    "        curr_time += 1\n",
    "        all_states[curr_time] = curr_state\n",
    "        curr_cost += state_enter_costs[curr_state, curr_time]\n",
    "    end\n",
    "    \n",
    "    return allotments, all_states, curr_cost, costs[n_states, 1]\n",
    "end"
   ]
  },
  {
   "cell_type": "code",
   "execution_count": 35,
   "id": "c2fb11eb",
   "metadata": {},
   "outputs": [
    {
     "data": {
      "text/plain": [
       "solve_fire_dp (generic function with 1 method)"
      ]
     },
     "execution_count": 35,
     "metadata": {},
     "output_type": "execute_result"
    }
   ],
   "source": [
    "function solve_fire_dp(graph, avail_nodes, rho, state_enter_costs)\n",
    "    \n",
    "    n_states = size(state_enter_costs)[1]\n",
    "    \n",
    "    curr_time = NUM_TIME_PERIODS\n",
    "    costs = zeros(n_states, NUM_TIME_PERIODS + 1) .+ 1.0e12\n",
    "    costs[:, NUM_TIME_PERIODS + 1] = state_enter_costs[:, NUM_TIME_PERIODS + 1]\n",
    "    bests = Dict()\n",
    "    \n",
    "    # backward induction\n",
    "    while curr_time > 0\n",
    "    \n",
    "        state_time_costs = state_enter_costs[:, curr_time]\n",
    "        nodes_to_check = avail_nodes[curr_time]\n",
    "        \n",
    "        for node in nodes_to_check\n",
    "            current_cost = 1e30\n",
    "            current_best = -1\n",
    "            current_allot = -1\n",
    "            edges = graph[node, curr_time]\n",
    "            for edge in edges\n",
    "                edge_cost = costs[edge[1], curr_time + 1] + rho[curr_time] * edge[2]\n",
    "                if edge_cost < current_cost\n",
    "                    current_best = edge[1]\n",
    "                    current_allot = edge[2]\n",
    "                    current_cost = edge_cost\n",
    "                end\n",
    "            end\n",
    "            costs[node, curr_time] = current_cost + state_time_costs[node]\n",
    "            bests[(node, curr_time)] = (current_best, current_allot);\n",
    "        end\n",
    "\n",
    "        curr_time -= 1\n",
    "    end\n",
    "    \n",
    "    # recreate path\n",
    "    curr_state = n_states\n",
    "    curr_time = 1\n",
    "    curr_cost = state_enter_costs[curr_state, curr_time]\n",
    "    allotments = convert.(Int, zeros(NUM_TIME_PERIODS))\n",
    "    all_states = convert.(Int, zeros(NUM_TIME_PERIODS + 1))\n",
    "    all_states[1] = curr_state\n",
    "\n",
    "    while curr_time < NUM_TIME_PERIODS + 1\n",
    "\n",
    "        next_state = bests[(curr_state, curr_time)]\n",
    "        curr_state = next_state[1]\n",
    "        allotments[curr_time] = next_state[2]\n",
    "        curr_time += 1\n",
    "        all_states[curr_time] = curr_state\n",
    "        curr_cost += state_enter_costs[curr_state, curr_time]\n",
    "    end\n",
    "    \n",
    "    return allotments, all_states, curr_cost, costs[n_states, 1]\n",
    "end"
   ]
  },
  {
   "cell_type": "code",
   "execution_count": 38,
   "id": "17c73aaf",
   "metadata": {},
   "outputs": [
    {
     "data": {
      "text/plain": [
       "get_state_entrance_cost (generic function with 1 method)"
      ]
     },
     "execution_count": 38,
     "metadata": {},
     "output_type": "execute_result"
    }
   ],
   "source": [
    "function get_state_entrance_cost(state, enter_time, params)\n",
    "    \n",
    "    if params[\"model_type\"] == \"simple_linear\"\n",
    "        \n",
    "        if (enter_time == 1) | (enter_time == NUM_TIME_PERIODS + 1)\n",
    "            return params[\"beta\"] * state / 2\n",
    "        elseif (enter_time > 1) & (enter_time < NUM_TIME_PERIODS + 1)\n",
    "            return params[\"beta\"] * state\n",
    "        else\n",
    "            error(\"Invalid time\")\n",
    "        end\n",
    "    else\n",
    "        error(\"Not implemented\")\n",
    "    end\n",
    "end"
   ]
  },
  {
   "cell_type": "code",
   "execution_count": 39,
   "id": "cdb02b2d",
   "metadata": {},
   "outputs": [
    {
     "data": {
      "text/plain": [
       "init_suppression_plan_subproblem (generic function with 2 methods)"
      ]
     },
     "execution_count": 39,
     "metadata": {},
     "output_type": "execute_result"
    }
   ],
   "source": [
    "function init_suppression_plan_subproblem(config)\n",
    "             \n",
    "    if config[\"solver_type\"] == \"dp\"\n",
    "\n",
    "        states = create_discrete_fire_states(config[\"model_data\"])\n",
    "        graphs = generate_graphs(states, config[\"model_data\"], [\"ceiling\", \"floor\"])\n",
    "        nodes_avail = Dict()\n",
    "        nodes_avail[\"floor\"] = Dict(i => [j for j in 1:size(graphs[\"floor\"])[1] \n",
    "                                          if isassigned(graphs[\"floor\"], j, i)] \n",
    "                                    for i in 1:size(graphs[\"floor\"])[2])\n",
    "        nodes_avail[\"ceiling\"] = Dict(i => [j for j in 1:size(graphs[\"ceiling\"])[1] \n",
    "                                            if isassigned(graphs[\"ceiling\"], j, i)] \n",
    "                                      for i in 1:size(graphs[\"ceiling\"])[2])\n",
    "        state_costs = zeros(length(states), NUM_TIME_PERIODS + 1)\n",
    "        for i = 1:length(states)\n",
    "            for j = 1:NUM_TIME_PERIODS + 1\n",
    "                state_costs[i, j] = get_state_entrance_cost(states[i], j, config[\"model_data\"])\n",
    "            end\n",
    "        end\n",
    "        \n",
    "        return Dict(\"graphs\" => graphs, \"avail_nodes\" => nodes_avail, \"state_costs\" => state_costs)\n",
    "        \n",
    "    elseif config[\"solver_type\"] == \"network_flow_gurobi\"\n",
    "        \n",
    "        # get graph formulation\n",
    "        d = copy(config)\n",
    "        d[\"solver_type\"] = \"dp\"\n",
    "        sp_dp = init_suppression_plan_subproblem(d)\n",
    "        \n",
    "        output = Dict{String, Any}()\n",
    "        \n",
    "        for strategy in keys(sp_dp[\"graphs\"])\n",
    "            \n",
    "            graph = sp_dp[\"graphs\"][strategy]\n",
    "\n",
    "            arc_array = arcs_from_state_graph(graph)\n",
    "            n_arcs = length(arc_array[:, 1])\n",
    "\n",
    "            # add crew to front (actually, this is deprecated, adding just -1's to keep column order)\n",
    "            arc_array = hcat(convert.(Int, zeros(length(arc_array[:, 1]))) .- 1, arc_array)\n",
    "\n",
    "            state_costs = sp_dp[\"state_costs\"]\n",
    "            arc_costs = [state_costs[arc_array[i, 5], arc_array[i, 4]] for i in 1:n_arcs]\n",
    "\n",
    "\n",
    "            n_states = size(state_costs)[1]  \n",
    "\n",
    "            out_arcs = Array{Vector{Int64}}(undef, n_states, NUM_TIME_PERIODS)\n",
    "            in_arcs = Array{Vector{Int64}}(undef, n_states, NUM_TIME_PERIODS)\n",
    "\n",
    "            for s in 1:n_states\n",
    "                state_arcs = [i for i in 1:n_arcs if arc_array[i, 2] == s]\n",
    "                for t in 1:NUM_TIME_PERIODS\n",
    "                    out_arcs[s, t] = [i for i in state_arcs if arc_array[i, 3] == t]\n",
    "                end\n",
    "            end\n",
    "\n",
    "            for s in 1:n_states\n",
    "                state_arcs = [i for i in 1:n_arcs if arc_array[i, 5] == s]\n",
    "                for t in 1:NUM_TIME_PERIODS\n",
    "                    in_arcs[s, t] = [i for i in state_arcs if arc_array[i, 4] == t]\n",
    "                end\n",
    "            end\n",
    "\n",
    "            if config[\"warm_start\"] == \"lp_relax\"\n",
    "                output[strategy] = Dict(\"arcs\" => arc_array, \"costs\" => arc_costs, \n",
    "                                        \"out_arcs\" => out_arcs, \"in_arcs\" => in_arcs)\n",
    "            else\n",
    "                # intialize model\n",
    "                m = Model(() -> Gurobi.Optimizer(GRB_ENV))\n",
    "                set_optimizer_attribute(m, \"OutputFlag\", 0)\n",
    "\n",
    "                @variable(m, z[1:n_arcs] >= 0, Int)\n",
    "                @constraint(m, flow[s=1:n_states, t=1:NUM_TIME_PERIODS], sum(z[out_arcs[s, t]]) == sum(z[in_arcs[s, t]]))\n",
    "                @constraint(m, start, z[1] == 1)\n",
    "\n",
    "\n",
    "                output[strategy] = Dict(\"arcs\" => arc_array, \"costs\" => arc_costs, \"m\" => m, \"z\" => z, \n",
    "                                        \"out_arcs\" => out_arcs, \"in_arcs\" => in_arcs)\n",
    "            end\n",
    "        end\n",
    "        \n",
    "        return output\n",
    "        \n",
    "    elseif config[\"solver_type\"] == \"gurobi\"\n",
    "        \n",
    "        if config[\"model_data\"][\"model_type\"] == \"simple_linear\"\n",
    "\n",
    "            progs = config[\"model_data\"][\"progressions\"]\n",
    "            perim = config[\"model_data\"][\"start_perim\"]\n",
    "            beta = config[\"model_data\"][\"beta\"]\n",
    "\n",
    "            T = NUM_TIME_PERIODS\n",
    "\n",
    "            m = Model(() -> Gurobi.Optimizer(GRB_ENV))\n",
    "            set_optimizer_attribute(m, \"OutputFlag\", 0)\n",
    "\n",
    "            # fire suppression plan section\n",
    "            @variable(m, p[t=1:T+1] >= 0)\n",
    "            @variable(m, l[t=1:T] >= 0)\n",
    "            @variable(m, NUM_CREWS >= d[t=1:T] >= 0, Int)\n",
    "            @constraint(m, suppression_per_crew[t=1:T], l[t] <= d[t] * LINE_PER_CREW)\n",
    "            @constraint(m, perim_growth[t=1:T], p[t+1] >= progs[t] * (p[t] - l[t] / 2) - l[t] / 2)\n",
    "            @constraint(m, perim_start, p[1] == perim)\n",
    "\n",
    "\n",
    "            return Dict(\"m\" => m, \"p\" => p, \"d\" => d, \"beta\" => beta)\n",
    "        else\n",
    "            error(\"Model type not implemented for Gurobi\")\n",
    "        end\n",
    "    else\n",
    "        error(\"Solver type not implemented\")\n",
    "    end\n",
    "end"
   ]
  },
  {
   "cell_type": "code",
   "execution_count": 40,
   "id": "7f8c4cbe",
   "metadata": {},
   "outputs": [
    {
     "data": {
      "text/plain": [
       "run_fire_subproblem (generic function with 1 method)"
      ]
     },
     "execution_count": 40,
     "metadata": {},
     "output_type": "execute_result"
    }
   ],
   "source": [
    "function run_fire_subproblem(sp, config, rho)\n",
    "    \n",
    "    if config[\"solver_type\"] == \"gurobi\"\n",
    "        \n",
    "        if config[\"model_data\"][\"model_type\"] == \"simple_linear\"\n",
    "            \n",
    "            m = sp[\"m\"]\n",
    "            p = sp[\"p\"]\n",
    "            d = sp[\"d\"]\n",
    "            beta = sp[\"beta\"]\n",
    "            \n",
    "            if config[\"warm_start\"] == \"dummy\"\n",
    "                @objective(m, Min, sum(d))\n",
    "            elseif config[\"warm_start\"] == false\n",
    "                @objective(m, Min, beta * (sum(p) - p[1]/2 - p[NUM_TIME_PERIODS + 1]/2) + \n",
    "                                   sum(d .* rho) + 0.0001 * sum(d))\n",
    "            else\n",
    "                error(\"warm start type not implemented\")\n",
    "            end\n",
    "            \n",
    "            optimize!(m)\n",
    "            \n",
    "            # get the required information from the model decision variables\n",
    "            cost, crew_vector = get_supp_plan_stats(p, d, beta)\n",
    "            \n",
    "            return cost, objective_value(m), crew_vector\n",
    "        else\n",
    "            error(\"model type not implemented\")\n",
    "        end\n",
    "        \n",
    "    elseif config[\"solver_type\"] == \"dp\"\n",
    "        strategy = config[\"solver_strategy\"]\n",
    "        graph = sp[\"graphs\"][strategy]\n",
    "        avail_nodes = sp[\"avail_nodes\"][strategy]\n",
    "        state_enter_costs = sp[\"state_costs\"]\n",
    "        \n",
    "        if config[\"warm_start\"] == \"dummy\"\n",
    "            duals = zeros(length(rho)) .+ 1e30\n",
    "        elseif config[\"warm_start\"] == false\n",
    "            duals = rho\n",
    "        else\n",
    "            error(\"warm start type not implemented\")\n",
    "        end\n",
    "        \n",
    "        # get capacities\n",
    "        capacities = config[\"capacities\"]\n",
    "        break_capacity_penalty = config[\"break_capacity_penalty\"]\n",
    "    \n",
    "        # make edge price function\n",
    "        edge_prices = create_local_edge_price_func(duals, capacities, break_capacity_penalty)\n",
    "        \n",
    "        # solve dp\n",
    "        allotments, states, cost, rel_cost = solve_fire_dp2(graph, avail_nodes, state_enter_costs, edge_prices)\n",
    "        \n",
    "        return cost, rel_cost, allotments\n",
    "        \n",
    "    elseif config[\"solver_type\"] == \"network_flow_gurobi\"\n",
    "        strategy = config[\"solver_strategy\"]\n",
    "        model_data = sp[strategy]\n",
    "        m = model_data[\"m\"]\n",
    "        z = model_data[\"z\"]\n",
    "        arc_costs = model_data[\"costs\"]\n",
    "        arc_array = model_data[\"arcs\"]\n",
    "        \n",
    "        if config[\"warm_start\"] == \"dummy\"\n",
    "            duals = zeros(length(rho)) .+ 1e30\n",
    "        elseif config[\"warm_start\"] == false\n",
    "            duals = rho\n",
    "        else\n",
    "            error(\"warm start type not implemented\")\n",
    "        end\n",
    "        \n",
    "        # no cost to start edge\n",
    "        duals = vcat([0], duals)\n",
    "        \n",
    "        adj_costs = arc_costs .+ [arc_array[i, 6] * duals[arc_array[i, 3] + 1] for i in 1:length(arc_costs)]\n",
    "        @objective(m, Min, sum(adj_costs .* z))\n",
    "        optimize!(m)\n",
    "        \n",
    "        rel_cost = objective_value(m)\n",
    "        arcs_used = [i for i in 1:length(adj_costs) if value(z[i]) > 0.9]\n",
    "        cost = sum(arc_costs[arcs_used])\n",
    "        allotments = arc_array[arcs_used[2:length(arcs_used)], 6]\n",
    "\n",
    "        return cost, rel_cost, allotments\n",
    "    else\n",
    "        error(\"solver type not implemented\")\n",
    "    end\n",
    "end"
   ]
  },
  {
   "cell_type": "code",
   "execution_count": 41,
   "id": "4e8cc7c3",
   "metadata": {},
   "outputs": [
    {
     "data": {
      "text/plain": [
       "initialize_column_generation (generic function with 1 method)"
      ]
     },
     "execution_count": 41,
     "metadata": {},
     "output_type": "execute_result"
    }
   ],
   "source": [
    "function initialize_column_generation(arcs, costs, constraint_data, fire_model_configs, solver_configs, max_plans)\n",
    "    \n",
    "    # initialize subproblems\n",
    "    route_sps = []\n",
    "    for crew in 1:NUM_CREWS\n",
    "        ixs = [i for i in 1:length(arcs[:, 1]) if arcs[i, 1] == crew]\n",
    "        d = init_route_subproblem(ixs, crew, constraint_data)\n",
    "        d[\"arc_ixs\"] = ixs\n",
    "        push!(route_sps, d)\n",
    "    end\n",
    "    \n",
    "    plan_sps = []\n",
    "    for fire in 1:NUM_FIRES\n",
    "        config = copy(solver_configs[fire])\n",
    "        config[\"model_data\"] = fire_model_configs[fire]\n",
    "        config[\"warm_start\"] = false\n",
    "        d = init_suppression_plan_subproblem(config)\n",
    "        push!(plan_sps, d)\n",
    "    end\n",
    "    \n",
    "    # initialize routes and suppression plans to populate\n",
    "    routes = initialize_route_data(max_plans)\n",
    "    suppression_plans = initialize_supp_plan_data(max_plans)\n",
    "    \n",
    "    ## generate dummy plans (no suppression) to ensure feasibility at first step ##\n",
    "    \n",
    "    # for each crew\n",
    "    for crew in 1:NUM_CREWS\n",
    "        \n",
    "        # get the crew's subproblem instance\n",
    "        crew_sp = route_sps[crew]\n",
    "        m = crew_sp[\"m\"]\n",
    "        z = crew_sp[\"z\"]\n",
    "        crew_ixs = crew_sp[\"arc_ixs\"]\n",
    "\n",
    "        # set objective in light of dual variables\n",
    "        @objective(m, Min, sum(z[ix] * (costs[ix]) for ix in crew_ixs))\n",
    "\n",
    "        # optimize\n",
    "        optimize!(m)\n",
    "\n",
    "        # update crew routes\n",
    "        crew_arcs = [i for i in crew_ixs if (value(z[i]) > 0.5)]\n",
    "        update_available_routes(crew, crew_arcs, arcs, costs, routes)\n",
    "    \n",
    "    end\n",
    "    \n",
    "    # for each fire\n",
    "    for fire in 1:NUM_FIRES\n",
    "        \n",
    "        sp_config = copy(solver_configs[fire])\n",
    "        sp_config[\"model_data\"] = fire_model_configs[fire]\n",
    "        sp_config[\"solver_strategy\"] = \"ceiling\"\n",
    "        sp_config[\"warm_start\"] = \"dummy\"\n",
    "        \n",
    "        if sp_config[\"solver_type\"] == \"dp\"\n",
    "            sp_config[\"capacities\"] = zeros(NUM_TIME_PERIODS)\n",
    "            sp_config[\"break_capacity_penalty\"] = 0\n",
    "        end\n",
    "        \n",
    "        cost, rel_cost, allotment = run_fire_subproblem(plan_sps[fire], sp_config, zeros(NUM_TIME_PERIODS))\n",
    "\n",
    "        # update suppression plans\n",
    "        update_available_supp_plans(fire, cost, allotment, suppression_plans)\n",
    "\n",
    "    end\n",
    "    \n",
    "    return ColumnGeneration(route_sps, plan_sps, routes, suppression_plans)\n",
    "    \n",
    "end"
   ]
  },
  {
   "cell_type": "code",
   "execution_count": 42,
   "id": "dc13f373",
   "metadata": {},
   "outputs": [
    {
     "data": {
      "text/plain": [
       "run_crew_subproblem (generic function with 1 method)"
      ]
     },
     "execution_count": 42,
     "metadata": {},
     "output_type": "execute_result"
    }
   ],
   "source": [
    "function run_crew_subproblem(sps, crew, costs, local_costs)\n",
    "    \n",
    "    # get the crew's subproblem instance\n",
    "    crew_sp = sps[crew]\n",
    "    m = crew_sp[\"m\"]\n",
    "    z = crew_sp[\"z\"]\n",
    "    crew_ixs = crew_sp[\"arc_ixs\"]\n",
    "    \n",
    "    # set objective in light of dual variables\n",
    "    @objective(m, Min, sum(z[ix] * (local_costs[ix] + costs[ix]) for ix in crew_ixs))\n",
    "        \n",
    "    # optimize\n",
    "    optimize!(m)\n",
    "    \n",
    "    return objective_value(m), z\n",
    "end"
   ]
  },
  {
   "cell_type": "code",
   "execution_count": 43,
   "id": "f7846989",
   "metadata": {},
   "outputs": [
    {
     "data": {
      "text/plain": [
       "run_CG_step (generic function with 1 method)"
      ]
     },
     "execution_count": 43,
     "metadata": {},
     "output_type": "execute_result"
    }
   ],
   "source": [
    "function run_CG_step(cg, arcs, costs, global_data, region_data, fire_model_configs, solver_configs, cg_config,\n",
    "                     rot_order, gamma, recover_fire_sp_cost)\n",
    "    \n",
    "    # formulate and solve the master problem\n",
    "    mp = master_problem(cg_config, cg.routes, cg.suppression_plans, region_data, rot_order, gamma, false)\n",
    "    optimize!(mp[\"m\"])\n",
    "\n",
    "    # grab the dual variables\n",
    "    sigma = dual.(mp[\"sigma\"])\n",
    "    rho = dual.(mp[\"rho\"])\n",
    "    eta = dual.(mp[\"eta\"])\n",
    "    pie = dual.(mp[\"pi\"]) # lol can't overwrite \"pi\" in Julia\n",
    "    \n",
    "    # grab the allotments\n",
    "    allotments = get_fire_allotments(mp, cg) \n",
    "    \n",
    "    true_rho = copy(rho)\n",
    "    \n",
    "    if cg_config[\"ws_dual_weight\"] > 0\n",
    "        lambda = cg_config[\"ws_dual_weight\"]\n",
    "        ws_dual_values = cg_config[\"ws_dual\"]\n",
    "        rho = (lambda * (ws_dual_values)) .+ ((1 - lambda) * rho)\n",
    "    end\n",
    "    \n",
    "    \n",
    "\n",
    "    # using the dual variables, get the local adjustments to the arc costs in the route subproblems\n",
    "    d = Dict(\"out_of_region_dual\" => eta, \"region_data\"=> region_data, \"rotation_order\" => rot_order, \"linking_dual\" => rho)\n",
    "    local_costs = get_arc_costs(global_data, arcs, d)\n",
    "\n",
    "    ## run subproblems ##\n",
    "\n",
    "    # for each fire\n",
    "    for fire in 1:NUM_FIRES\n",
    "\n",
    "        # run the subproblem\n",
    "        sp_config = copy(solver_configs[fire])\n",
    "        sp_config[\"model_data\"] = fire_model_configs[fire]\n",
    "        sp_config[\"solver_strategy\"] = \"ceiling\"\n",
    "        sp_config[\"warm_start\"] = false\n",
    "        \n",
    "        found_plan = false\n",
    "        for adjust_price in sp_config[\"int_aware_adjustment_pattern\"]\n",
    "            \n",
    "            if ~found_plan\n",
    "                sp_config[\"capacities\"] = floor.(allotments .+ 0.0001)[fire, :] .+ adjust_price[1]\n",
    "                sp_config[\"break_capacity_penalty\"] = adjust_price[2]\n",
    "\n",
    "        \n",
    "                cost, modified_rel_cost, allotment = run_fire_subproblem(cg.plan_sps[fire], sp_config, rho[fire, :])\n",
    "\n",
    "                rel_cost = cost + sum(allotment .* true_rho[fire, :])\n",
    "\n",
    "                # if there is an improving plan\n",
    "                if rel_cost < pie[fire] - 0.0001\n",
    "\n",
    "                    found_plan = true\n",
    "\n",
    "                    # adjust cost to true value if needed\n",
    "                    if recover_fire_sp_cost\n",
    "                        cost = get_fire_cost(allotment, fire_model_configs[fire])\n",
    "                    end\n",
    "\n",
    "                    # add the plan\n",
    "                    update_available_supp_plans(fire, cost, allotment, cg.suppression_plans)\n",
    "                end\n",
    "            end\n",
    "        end\n",
    "    end\n",
    "\n",
    "    # for each crew\n",
    "    for crew in 1:NUM_CREWS\n",
    "\n",
    "        # run the crew subproblem\n",
    "        obj, assignments = run_crew_subproblem(cg.route_sps, crew, costs, local_costs)\n",
    "\n",
    "        # if there is an improving route\n",
    "        if obj < sigma[crew] - 0.0001\n",
    "\n",
    "            # add it\n",
    "            crew_arcs = [i for i in cg.route_sps[crew][\"arc_ixs\"] if (value(assignments[i]) > 0.5)]\n",
    "            update_available_routes(crew, crew_arcs, arcs, costs, cg.routes)\n",
    "\n",
    "        end\n",
    "\n",
    "    end \n",
    "    return mp\n",
    "end"
   ]
  },
  {
   "cell_type": "code",
   "execution_count": 44,
   "id": "433fdcd8",
   "metadata": {},
   "outputs": [
    {
     "data": {
      "text/plain": [
       "suppression_plan_perturbations (generic function with 1 method)"
      ]
     },
     "execution_count": 44,
     "metadata": {},
     "output_type": "execute_result"
    }
   ],
   "source": [
    "function suppression_plan_perturbations(start_plan, count)\n",
    "    \n",
    "    # get the indices we may perturb, chosen to be anything at most one index away\n",
    "    # from a time period when suppression was >0 for the start_plan\n",
    "    ixs = [i for i in 1:NUM_TIME_PERIODS if start_plan[i] > 0]\n",
    "    ixs_1 = [i+1 for i in 1:NUM_TIME_PERIODS-1 if start_plan[i] > 0]\n",
    "    ixs_2 = [i-1 for i in 2:NUM_TIME_PERIODS if start_plan[i] > 0]\n",
    "    ixs_to_perturb = sort(unique(vcat(ixs, ixs_1, ixs_2)))\n",
    "    \n",
    "    start_plan_copy = copy(start_plan)\n",
    "    \n",
    "    # hack if no fire suppression\n",
    "    if length(ixs) == 0\n",
    "        start_plan_copy[1] += 1\n",
    "        ixs_to_perturb = 1:NUM_TIME_PERIODS\n",
    "        ixs = [1]\n",
    "    end\n",
    "    \n",
    "    found = []\n",
    "    \n",
    "    # perturbing the total number of crews by 0, -1, or 1\n",
    "    for perturb in [0, 1, -1]\n",
    "        \n",
    "        # make sure we don't explode\n",
    "        curr_length = length(found)\n",
    "        \n",
    "        # push a new possible plan\n",
    "        new_plan = copy(start_plan_copy)\n",
    "        new_plan[ixs[1]] = new_plan[ixs[1]] + perturb\n",
    "        push!(found, copy(new_plan))\n",
    "        \n",
    "        # find all ways to perturb the valid indices while saying within\n",
    "        # prescribed crew bounds and keeping total crews unchanged\n",
    "        for current_arr in found\n",
    "            if length(found) < curr_length + 500\n",
    "                nonzero = [ix for ix in ixs_to_perturb if current_arr[ix] > 0]\n",
    "                nonfull = [ix for ix in ixs_to_perturb if current_arr[ix] < NUM_CREWS]\n",
    "                for ix in nonzero\n",
    "                    for ix2 in nonfull\n",
    "                        if ix2 != ix\n",
    "                            next_arr = copy(current_arr)\n",
    "                            next_arr[ix] -= 1\n",
    "                            next_arr[ix2] += 1\n",
    "                            if !(next_arr in found)\n",
    "                                push!(found, copy(next_arr))\n",
    "                            end\n",
    "                        end\n",
    "                    end\n",
    "                end\n",
    "            end\n",
    "        end\n",
    "    end\n",
    "    \n",
    "    # get the closest plans to the original, using L1 norm\n",
    "    ixs_to_keep = sortperm([sum(abs.(i - start_plan)) for i in found])[1:min(count, length(found))]\n",
    "    \n",
    "    return found[ixs_to_keep]\n",
    "\n",
    "end "
   ]
  },
  {
   "cell_type": "code",
   "execution_count": 45,
   "id": "d732c533",
   "metadata": {},
   "outputs": [],
   "source": [
    "in_path = \"data/raw/big_fire\"\n",
    "\n",
    "# get inital fire perimeters and no-suppression progression parameters\n",
    "M = readdlm(in_path * \"/sample_growth_patterns.csv\", ',')\n",
    "start_perims = M[:, 1]\n",
    "progressions = M[:, 2:15]\n",
    "\n",
    "NUM_TIME_PERIODS = size(M)[2] - 1 \n",
    "NUM_FIRES = size(M)[1] \n",
    "NUM_FIRES = 6\n",
    "NUM_CREWS = 20\n",
    "\n",
    "g_data, crew_status = load_data(in_path)\n",
    "# r_data = RegionData([1, 1, 1, 1, 1, 2, 2, 2, 2, 2], [1, 1, 2, 2, 2, 2, 2])\n",
    "r_data = RegionData([1, 1, 1, 1, 1, 1, 1, 1, 1, 1, 2, 2, 2, 2, 2, 2, 2, 2, 2, 2], [1, 1, 2, 2, 2, 2, 2])\n",
    "# r_data = RegionData([1, 1, 1, 1, 1, 1, 1, 1, 2, 2, 2, 2, 2, 2, 2], [1, 1, 2, 2, 2, 2, 2])\n",
    "# r_data = RegionData([1, 1, 1, 1, 1], [1, 1, 2, 2, 2, 2, 2])\n",
    "r_data = RegionData(convert.(Int, ones(NUM_CREWS)), convert.(Int, ones(100)))\n",
    "\n",
    "rotation_order = get_rotation_orders(r_data.crew_regions)\n",
    "A = generate_arcs(g_data, r_data, crew_status);\n",
    "\n",
    "rest_pen = get_rest_penalties(crew_status.rest_by, 1e10, positive)\n",
    "cost_params = Dict(\"cost_per_mile\"=> 1, \"rest_violation\" => rest_pen, \"fight_fire\" => ALPHA)\n",
    "arc_costs = get_arc_costs(g_data, A, cost_params)\n",
    "\n",
    "c_data = define_network_constraint_data(A);"
   ]
  },
  {
   "cell_type": "code",
   "execution_count": 46,
   "id": "8162c0d9",
   "metadata": {},
   "outputs": [],
   "source": [
    "fire_configs = []\n",
    "for fire in 1:NUM_FIRES\n",
    "    model_config = Dict(\"model_type\" => \"simple_linear\", \"progressions\" => progressions[fire, :], \n",
    "                        \"start_perim\" => start_perims[fire], \"line_per_crew\" => LINE_PER_CREW, \n",
    "                        \"beta\" => BETA)\n",
    "    push!(fire_configs, model_config)\n",
    "end "
   ]
  },
  {
   "cell_type": "code",
   "execution_count": 47,
   "id": "e4339291",
   "metadata": {},
   "outputs": [
    {
     "data": {
      "text/plain": [
       "0"
      ]
     },
     "execution_count": 47,
     "metadata": {},
     "output_type": "execute_result"
    }
   ],
   "source": [
    "AGG_PREC = 0\n",
    "PASSIVE_STATES = 0"
   ]
  },
  {
   "cell_type": "code",
   "execution_count": 48,
   "id": "ecdd5bc4",
   "metadata": {},
   "outputs": [
    {
     "data": {
      "text/plain": [
       "get_fire_allotments (generic function with 1 method)"
      ]
     },
     "execution_count": 48,
     "metadata": {},
     "output_type": "execute_result"
    }
   ],
   "source": [
    "function get_fire_allotments(solved_mp, cg_data_object)\n",
    "    \n",
    "    mp_allotment = zeros(size(cg_data_object.suppression_plans.crews_present[:, 1, :]))\n",
    "    \n",
    "    for plan in eachindex(solved_mp[\"plan\"])\n",
    "        new_allot = cg_data_object.suppression_plans.crews_present[plan[1], plan[2], :] * value(solved_mp[\"plan\"][plan])\n",
    "        mp_allotment[plan[1], :] += new_allot\n",
    "    end\n",
    "    \n",
    "    return mp_allotment\n",
    "end"
   ]
  },
  {
   "cell_type": "code",
   "execution_count": 49,
   "id": "5c6d9b12",
   "metadata": {},
   "outputs": [
    {
     "data": {
      "text/plain": [
       "run_tests (generic function with 1 method)"
      ]
     },
     "execution_count": 49,
     "metadata": {},
     "output_type": "execute_result"
    }
   ],
   "source": [
    "function run_tests(test_features)\n",
    "    \n",
    "    in_path = test_features[\"in_path\"]\n",
    "\n",
    "    # get inital fire perimeters and no-suppression progression parameters\n",
    "    M = readdlm(in_path * \"/sample_growth_patterns.csv\", ',')\n",
    "    start_perims = M[:, 1]\n",
    "    progressions = M[:, 2:15]\n",
    "\n",
    "    global NUM_TIME_PERIODS = size(M)[2] - 1 \n",
    "    global NUM_FIRES = test_features[\"num_fires\"]\n",
    "    global NUM_CREWS = test_features[\"num_crews\"]\n",
    "\n",
    "    g_data, crew_status = load_data(in_path)\n",
    "    r_data = RegionData(convert.(Int, ones(NUM_CREWS)), convert.(Int, ones(100)))\n",
    "\n",
    "    rotation_order = get_rotation_orders(r_data.crew_regions)\n",
    "    A = generate_arcs(g_data, r_data, crew_status);\n",
    "\n",
    "    rest_pen = get_rest_penalties(crew_status.rest_by, 1e10, positive)\n",
    "    cost_params = Dict(\"cost_per_mile\"=> 1, \"rest_violation\" => rest_pen, \"fight_fire\" => ALPHA)\n",
    "    arc_costs = get_arc_costs(g_data, A, cost_params)\n",
    "\n",
    "    c_data = define_network_constraint_data(A)\n",
    "    \n",
    "    fire_configs = []\n",
    "    for fire in 1:NUM_FIRES\n",
    "        model_config = Dict(\"model_type\" => \"simple_linear\", \"progressions\" => progressions[fire, :], \n",
    "                            \"start_perim\" => start_perims[fire], \"line_per_crew\" => LINE_PER_CREW, \n",
    "                            \"beta\" => BETA)\n",
    "        push!(fire_configs, model_config)\n",
    "    end \n",
    "    \n",
    "    gamma = test_features[\"gamma\"]\n",
    "    \n",
    "    v_s = [0]\n",
    "    e_s = [0]\n",
    "    \n",
    "    rhos = []\n",
    "    \n",
    "    global AGG_PREC = test_features[\"agg_prec\"]\n",
    "    global PASSIVE_STATES =  test_features[\"passive_states\"]\n",
    "    \n",
    "    ts = Dict{String, Float64}()\n",
    "    best_sols = Dict{String, Float64}()\n",
    "    allotments = Dict{String, Any}()\n",
    "    \n",
    "    fire_solver_configs = [Dict{String,Any}(\"solver_type\" => test_features[\"fire_solver_type\"]) for fire in 1:NUM_FIRES]\n",
    "    \n",
    "    max_plans = 1000\n",
    "    ts[\"init_cg\"] = @elapsed col_gen_data = initialize_column_generation(A, arc_costs, c_data, fire_configs, \n",
    "                                                                        fire_solver_configs, max_plans)\n",
    "    \n",
    "    if test_features[\"fire_solver_type\"] == \"dp\"\n",
    "        v_s = [size(col_gen_data.plan_sps[i][\"graphs\"][\"ceiling\"])[1] for i in 1:NUM_FIRES]\n",
    "\n",
    "        e_s = [sum([length(col_gen_data.plan_sps[k][\"graphs\"][\"ceiling\"][i, j]) \n",
    "                  for i in 1:size(col_gen_data.plan_sps[k][\"graphs\"][\"ceiling\"])[1],\n",
    "                      j in 1:size(col_gen_data.plan_sps[k][\"graphs\"][\"ceiling\"])[2]\n",
    "                      if isassigned(col_gen_data.plan_sps[k][\"graphs\"][\"ceiling\"], i, j)\n",
    "                    ]\n",
    "                   )\n",
    "               for k = 1:NUM_FIRES]\n",
    "    end\n",
    "    \n",
    "    global AGG_PREC = 30\n",
    "    global PASSIVE_STATES = 5\n",
    "    \n",
    "    ts[\"ws\"] = @elapsed ws, ws_dict = warm_start_suppression_plans(10, fire_configs, r_data, c_data, rotation_order, arc_costs, \n",
    "                                                         gamma, false, false, 3600)\n",
    "    \n",
    "    ws_duals = dual.(ws_dict[\"f_linking\"])\n",
    "    int_aware_duals = ws_duals * 0\n",
    "    \n",
    "\n",
    "    if test_features[\"apply_warm_start\"]\n",
    "        for fire in 1:NUM_FIRES\n",
    "            ws_fire = ws[fire]\n",
    "            for plan in ws_fire\n",
    "                cost = get_fire_cost(plan, fire_configs[fire])\n",
    "                update_available_supp_plans(fire, cost, plan, col_gen_data.suppression_plans)\n",
    "            end\n",
    "        end\n",
    "    end\n",
    "    \n",
    "    \n",
    "    global AGG_PREC = test_features[\"agg_prec\"]\n",
    "    global PASSIVE_STATES =  test_features[\"passive_states\"]\n",
    "\n",
    "    \n",
    "    current_num_routes = copy(col_gen_data.routes.routes_per_crew)\n",
    "    current_num_plans = copy(col_gen_data.suppression_plans.plans_per_fire)\n",
    "\n",
    "    objs = []\n",
    "    max_iters = test_features[\"max_iters\"]\n",
    "    n_iters = 0\n",
    "    opt = false\n",
    "    ts[\"cg\"] = 0\n",
    "    max_time = test_features[\"cg_time_limit\"]\n",
    "    col_gen_config = Dict{String,Any}(\"ws_dual\" => false)\n",
    "    col_gen_config[\"master_problem\"] = Dict{String,Any}()\n",
    "    \n",
    "    col_gen_config[\"master_problem\"][\"dual_stabilization\"] = test_features[\"dual_stab_type\"]\n",
    "    col_gen_config[\"master_problem\"][\"dual_secondary_eps\"] = test_features[\"dual_stab_eps\"]\n",
    "    col_gen_config[\"master_problem\"][\"dual_warm_start\"] = ws_duals\n",
    "    \n",
    "    \n",
    "    while (~opt) & (n_iters < max_iters) & (ts[\"cg\"] < max_time)\n",
    "\n",
    "        n_iters += 1\n",
    "        dual_stab_weight = test_features[\"ws_dual_weight\"][n_iters] + test_features[\"int_aware_dual_weight\"][n_iters]\n",
    "        col_gen_config[\"ws_dual_weight\"] = dual_stab_weight\n",
    "        col_gen_config[\"ws_dual\"] = test_features[\"ws_dual_weight\"][n_iters] * ws_duals\n",
    "        if dual_stab_weight > 0\n",
    "            col_gen_config[\"ws_dual\"] = col_gen_config[\"ws_dual\"] / dual_stab_weight\n",
    "        end\n",
    "        \n",
    "        for fire in 1:NUM_FIRES\n",
    "            fire_solver_configs[fire][\"int_aware_adjustment_pattern\"] = test_features[\"int_aware_price_adjustment\"][n_iters]\n",
    "        end\n",
    "        \n",
    "        ts[\"cg\"] += @elapsed mp = run_CG_step(col_gen_data, A, arc_costs, g_data, r_data, fire_configs, \n",
    "                                              fire_solver_configs, col_gen_config, rotation_order, gamma,  \n",
    "                                              test_features[\"restore_cost\"])\n",
    "        \n",
    "        push!(objs, objective_value(mp[\"m\"]))\n",
    "        push!(rhos, dual.(mp[\"rho\"]))\n",
    "\n",
    "        next_num_routes = col_gen_data.routes.routes_per_crew\n",
    "        next_num_plans = col_gen_data.suppression_plans.plans_per_fire\n",
    "\n",
    "        if (sum(next_num_routes) == sum(current_num_routes)) & (sum(next_num_plans) == sum(current_num_plans))\n",
    "            opt = true\n",
    "        end\n",
    "\n",
    "        current_num_routes = copy(next_num_routes)\n",
    "        current_num_plans = copy(next_num_plans)\n",
    "\n",
    "    end\n",
    "    \n",
    "    # no more stabilization for assessment\n",
    "    col_gen_config[\"master_problem\"][\"dual_stabilization\"] = false\n",
    "    \n",
    "    # get price and branch stats\n",
    "    pb = master_problem(col_gen_config, col_gen_data.routes, col_gen_data.suppression_plans, \n",
    "                        r_data, rotation_order, gamma, true)\n",
    "    optimize!(pb[\"m\"])\n",
    "    \n",
    "    best_sols[\"price_and_branch\"] = objective_value(pb[\"m\"])\n",
    "    \n",
    "    plans_chosen = [i for i in eachindex(pb[\"plan\"]) if value(pb[\"plan\"][i]) > 0.5]\n",
    "    \n",
    "    pb_allotment = convert.(Int8, zeros(size(col_gen_data.suppression_plans.crews_present[:, 1, :])))\n",
    "    for plan in plans_chosen\n",
    "        pb_allotment[plan[1], :] = col_gen_data.suppression_plans.crews_present[plan[1], plan[2], :]\n",
    "    end\n",
    "    \n",
    "    allotments[\"price_and_branch\"] = pb_allotment\n",
    "    \n",
    "    mp = master_problem(col_gen_config, col_gen_data.routes, col_gen_data.suppression_plans, \n",
    "                        r_data, rotation_order, gamma, false)\n",
    "    optimize!(mp[\"m\"])\n",
    "\n",
    "    best_sols[\"master_problem\"] = objective_value(mp[\"m\"])\n",
    "    allotments[\"master_problem\"] = get_fire_allotments(mp, col_gen_data)\n",
    "    \n",
    "    if test_features[\"solve_explicit_int_time_limit\"] > 0\n",
    "        \n",
    "        tl = test_features[\"solve_explicit_int_time_limit\"]\n",
    "        m, p, l, z, q, oor, linking = full_formulation(true, r_data, c_data, rotation_order, arc_costs, \n",
    "                                  progressions, start_perims, BETA, gamma, false, tl)\n",
    "        ts[\"explicit_int\"] = @elapsed optimize!(m)\n",
    "        \n",
    "        if has_values(m)\n",
    "            best_sols[\"explicit_int\"] = objective_value(m)\n",
    "            allotments[\"explicit_int\"] = convert.(Int8, ceil.(value.(l) / LINE_PER_CREW  .- 0.001))\n",
    "        else\n",
    "            best_sols[\"explicit_int\"] = false\n",
    "        end\n",
    "            \n",
    "    end\n",
    "\n",
    "    \n",
    "    if test_features[\"solve_explicit_lin_time_limit\"] > 0\n",
    "        \n",
    "        tl = test_features[\"solve_explicit_lin_time_limit\"]\n",
    "    \n",
    "        m2, p, l, z, q, oor, linking = full_formulation(false, r_data, c_data, rotation_order, arc_costs, \n",
    "                                  progressions, start_perims, BETA, gamma, false, tl)\n",
    "        ts[\"explicit_lr\"] = @elapsed optimize!(m2)\n",
    "        \n",
    "        if has_values(m2)\n",
    "            best_sols[\"explicit_lr\"] = objective_value(m2)\n",
    "            allotments[\"explicit_lr\"] = value.(l) / LINE_PER_CREW\n",
    "        else\n",
    "            best_sols[\"explicit_lr\"] = false\n",
    "        end\n",
    "    \n",
    "    end\n",
    "    \n",
    "    if test_features[\"solve_net_flow_time_limit\"] > 0\n",
    "        tl = test_features[\"solve_net_flow_time_limit\"]\n",
    "        ts[\"net_flow_int\"] = @elapsed ws, ws_dict = warm_start_suppression_plans(10, fire_configs, r_data, c_data, rotation_order, arc_costs, \n",
    "                                                     gamma, true, false, tl)\n",
    "        if has_values(ws_dict[\"m\"])\n",
    "            best_sols[\"net_flow_int\"] = objective_value(ws_dict[\"m\"])\n",
    "        else\n",
    "            best_sols[\"net_flow_int\"] = false\n",
    "        end\n",
    "    end\n",
    "            \n",
    "    \n",
    "    return [fire_solver_configs[1][\"solver_type\"], sum(v_s), sum(e_s), n_iters, ts, best_sols, allotments, rhos, mp], col_gen_data\n",
    "\n",
    "end"
   ]
  },
  {
   "cell_type": "markdown",
   "id": "ad035803",
   "metadata": {},
   "source": [
    "### Warm start"
   ]
  },
  {
   "cell_type": "code",
   "execution_count": 182,
   "id": "0d9c8e2e",
   "metadata": {},
   "outputs": [],
   "source": [
    "params = Dict{String, Any}()\n",
    "params[\"gamma\"] = 0\n",
    "\n",
    "params[\"in_path\"] = \"data/raw/big_fire\"\n",
    "params[\"agg_prec\"] = 10\n",
    "params[\"passive_states\"] = 30\n",
    "params[\"num_fires\"] = 6\n",
    "params[\"num_crews\"] = 20\n",
    "params[\"fire_solver_type\"] = \"dp\"\n",
    "\n",
    "params[\"apply_warm_start\"] = false\n",
    "params[\"restore_cost\"] = false\n",
    "\n",
    "params[\"solve_explicit_lin_time_limit\"] = 60\n",
    "params[\"solve_explicit_int_time_limit\"] = 240\n",
    "params[\"cg_time_limit\"] = 240\n",
    "params[\"solve_net_flow_time_limit\"] = 0\n",
    "\n",
    "params[\"max_iters\"] = 1000\n",
    "\n",
    "params[\"dual_stab_type\"] = false\n",
    "params[\"dual_stab_eps\"] = false\n",
    "\n",
    "params[\"dual_stab_type\"] = \"global\"\n",
    "params[\"dual_stab_eps\"] = 0.01\n",
    "\n",
    "params[\"ws_dual_weight\"] = zeros(params[\"max_iters\"])\n",
    "params[\"int_aware_dual_weight\"] = zeros(params[\"max_iters\"])\n",
    "\n",
    "start_adj = 1000\n",
    "pattern = [(0, 1e30), (1, 1e30), (2, 1e30), (0, 0)]\n",
    "params[\"int_aware_price_adjustment\"] = [i <= start_adj ? [(0, 0)] : pattern for i in 1:params[\"max_iters\"]]\n",
    "\n",
    "d, cg_data = run_tests(params);"
   ]
  },
  {
   "cell_type": "code",
   "execution_count": 183,
   "id": "54f68fee",
   "metadata": {},
   "outputs": [
    {
     "data": {
      "text/plain": [
       "48"
      ]
     },
     "execution_count": 183,
     "metadata": {},
     "output_type": "execute_result"
    }
   ],
   "source": [
    "d[4]"
   ]
  },
  {
   "cell_type": "code",
   "execution_count": 184,
   "id": "ca9e933f",
   "metadata": {},
   "outputs": [
    {
     "data": {
      "text/plain": [
       "Dict{String, Float64} with 5 entries:\n",
       "  \"explicit_lr\"  => 0.439455\n",
       "  \"init_cg\"      => 1.96921\n",
       "  \"explicit_int\" => 20.2229\n",
       "  \"cg\"           => 29.9253\n",
       "  \"ws\"           => 3.74796"
      ]
     },
     "execution_count": 184,
     "metadata": {},
     "output_type": "execute_result"
    }
   ],
   "source": [
    "d[5]"
   ]
  },
  {
   "cell_type": "code",
   "execution_count": 185,
   "id": "c7fb9a68",
   "metadata": {},
   "outputs": [
    {
     "data": {
      "text/plain": [
       "Dict{String, Float64} with 4 entries:\n",
       "  \"explicit_lr\"      => 2.48759e6\n",
       "  \"price_and_branch\" => 5.05557e8\n",
       "  \"explicit_int\"     => 2.55842e6\n",
       "  \"master_problem\"   => 2.67122e6"
      ]
     },
     "execution_count": 185,
     "metadata": {},
     "output_type": "execute_result"
    }
   ],
   "source": [
    "obj_values = d[6]"
   ]
  },
  {
   "cell_type": "code",
   "execution_count": 186,
   "id": "c6e40ded",
   "metadata": {},
   "outputs": [
    {
     "data": {
      "text/plain": [
       "6×14 Matrix{Float64}:\n",
       " 36659.3        17076.2  11553.8  …  1473.37  200.0    0.0   0.0\n",
       " 32656.7        16248.3  14564.8     1068.5     0.0    0.0   3.29254\n",
       "     1.15169e5  55026.5  13207.3        0.0     0.0    0.0   0.0\n",
       "     1.1446e5   55026.5  19432.1     1357.98  208.105  0.0   0.0\n",
       " 26876.6        22263.6  15444.3     1257.83  200.0    0.0  58.6486\n",
       "     1.14601e5  53516.2  19296.9  …  1379.79  199.658  0.0   0.0"
      ]
     },
     "execution_count": 186,
     "metadata": {},
     "output_type": "execute_result"
    }
   ],
   "source": [
    "d[8][42]"
   ]
  },
  {
   "cell_type": "code",
   "execution_count": 142,
   "id": "a74714d4",
   "metadata": {},
   "outputs": [],
   "source": [
    "allotments = d[7];"
   ]
  },
  {
   "cell_type": "code",
   "execution_count": 114,
   "id": "8812b41e",
   "metadata": {},
   "outputs": [
    {
     "data": {
      "text/plain": [
       "6×14 Matrix{Float64}:\n",
       " 17588.8        11009.0   9333.94  …  2488.16  1473.37  200.0    0.0  0.0\n",
       " 21376.0        16270.9  14587.4      2102.15     0.0     0.0    0.0  0.0\n",
       "     1.15164e5  55018.0  18841.6         0.0      0.0     0.0    0.0  0.0\n",
       "     1.14455e5  55018.0  19483.2      2241.57  1221.16  200.753  0.0  0.0\n",
       " 21400.8        16295.2  14599.2      2702.98  1254.29  203.311  0.0  0.0\n",
       "     1.14596e5  53515.7  19348.0   …  2488.29  1380.22  200.119  0.0  0.0"
      ]
     },
     "execution_count": 114,
     "metadata": {},
     "output_type": "execute_result"
    }
   ],
   "source": [
    "d[8][99]"
   ]
  },
  {
   "cell_type": "code",
   "execution_count": 145,
   "id": "c2780ac8",
   "metadata": {},
   "outputs": [
    {
     "name": "stdout",
     "output_type": "stream",
     "text": [
      "9×14 Matrix{Float64}:\n",
      "  0.0    0.0    0.0   0.0   0.0   0.0   0.0   0.0   0.0    0.0    0.0   13.35  0.65  0.0\n",
      "  0.0    0.0    0.0   5.87  4.09  4.0   6.01  5.01  5.01   0.0    0.0    0.0   0.0   0.0\n",
      "  9.0    2.0    0.0   0.0   0.0   0.0   0.0   0.0   0.0    0.0    0.0    0.0   0.0   0.0\n",
      "  7.93  15.09  17.09  0.42  0.0   0.0   0.0   0.0   0.0    0.0    0.0    0.0   0.0   0.0\n",
      "  0.0    0.0    0.0   6.79  5.86  5.41  7.12  3.88  6.79   5.71  10.05   8.14  0.25  0.0\n",
      "  3.0    0.0    0.0   0.0   1.0   0.0   0.0   0.0   0.0    0.0    2.0    1.0   0.0   0.0\n",
      "  0.0    0.0    0.0   5.55  4.4   3.5   3.5   5.69  7.36   0.0    0.0    0.0   0.0   0.0\n",
      " 10.07  12.91  12.91  0.53  0.0   0.0   0.0   0.0   0.0    0.0    0.0    0.0   0.0   0.0\n",
      "  0.0    0.0    0.0   2.84  2.64  3.09  5.37  7.41  2.84  16.29  13.95   5.51  0.0   0.0"
     ]
    }
   ],
   "source": [
    "show(stdout, \"text/plain\", round.(allotments[\"master_problem\"] * 100) / 100)"
   ]
  },
  {
   "cell_type": "code",
   "execution_count": 143,
   "id": "6658adfa",
   "metadata": {},
   "outputs": [
    {
     "name": "stdout",
     "output_type": "stream",
     "text": [
      "9×14 Matrix{Int8}:\n",
      "  0   0   0  0  0  0  0  0  0   0   0  14  0  0\n",
      "  0   0   0  4  3  2  7  7  7   0   0   0  0  0\n",
      " 10   0   0  0  0  0  0  0  0   0   0   0  0  0\n",
      "  7  17  16  1  0  0  0  0  0   0   0   0  0  0\n",
      "  0   0   0  6  6  6  7  7  7   6   7   7  0  0\n",
      "  3   0   0  0  0  0  0  0  0   0   1   1  0  0\n",
      "  0   0   0  7  6  5  4  4  4   0   0   0  0  0\n",
      " 10  13  13  0  0  0  0  0  0   0   0   0  0  0\n",
      "  0   0   1  4  3  3  4  4  4  16  18   2  0  0"
     ]
    }
   ],
   "source": [
    "show(stdout, \"text/plain\", allotments[\"explicit_int\"])"
   ]
  },
  {
   "cell_type": "code",
   "execution_count": 144,
   "id": "22a3fbd5",
   "metadata": {},
   "outputs": [
    {
     "name": "stdout",
     "output_type": "stream",
     "text": [
      "9×14 Matrix{Int8}:\n",
      "  0   0   0   0  0  0  0   0   0  0   0  6  5  0\n",
      "  0   0   0   0  0  0  3  15  10  2   2  1  0  0\n",
      " 10   0   0   0  0  0  0   0   0  0   0  0  0  0\n",
      "  7  19   7  14  0  0  0   0   0  0   0  0  0  0\n",
      "  0   0   6   3  6  6  6   3   0  9   0  0  0  0\n",
      "  2   0   4   0  1  1  1   0   0  3   0  0  0  0\n",
      "  0   0   0   1  9  6  6   0   9  0   0  0  0  0\n",
      " 11  11  12   4  0  0  0   0   0  0   0  1  0  0\n",
      "  0   0   0   0  0  1  2   0   0  6  15  0  0  8"
     ]
    }
   ],
   "source": [
    "show(stdout, \"text/plain\", allotments[\"price_and_branch\"])"
   ]
  },
  {
   "cell_type": "code",
   "execution_count": 59,
   "id": "c79f9342",
   "metadata": {},
   "outputs": [
    {
     "data": {
      "text/plain": [
       "30×14 Matrix{Int8}:\n",
       "  0   0   0   0   0   0   0   0   0   0   0   0   0   0\n",
       " 20  20  20   0   0   0   0   0   0   0   0   0   0   0\n",
       "  0   0   0   0   0   0   0   0   0   0   0   0  20   0\n",
       "  0   0   0   0   0   0   0   0   0  20  20   0   0  20\n",
       "  0   0   0   0  20  20  20   1   0   0   0   0   0   0\n",
       "  0   0  20  20  20   0   1   0   0   0   0   0   0   0\n",
       "  0   0  20  20   0  20   1   0   0   0   0   0   0   0\n",
       "  0   0  20   0   0   0   0  20  20   1   0   0   0   0\n",
       "  0  20   0  20   0   0   0   0  20   0   0   1   0   0\n",
       "  0   0   0  20   0   0  20   0  20   1   0   0   0   0\n",
       "  0   0   0  19  19   2   0  20   0   0   0   0   0   0\n",
       "  0   0  19   0   0   0  20   0   0   0  19   2   0   0\n",
       "  0   0   0   0   0  16   0   0  19   0   5  20   0   0\n",
       "  ⋮                   ⋮                   ⋮          \n",
       "  0   0   0   0   0   0  19  19   0   2  20   0   0   0\n",
       "  0   0   0   0  19   0  19   0  19   0   0   3   0   0\n",
       "  0   0   0   0   0  19   3  19  18   0   0   1   0   0\n",
       "  0   0   0  16   0   0   0   3  19  19   2   1   0   0\n",
       "  0   0   0  19   0  16  16   0   0   0   8   1   0   0\n",
       "  0   0   0   0   0   0  19  19   2  20   0   0   0   0\n",
       "  0   0   0   0  19  16   0  16   6   0   3   0   0   0\n",
       "  0   0   0  19   0   0  19  16   3   2   0   1   0   0\n",
       "  0   0   0   0  16  16  16   0   9   3   0   0   0   0\n",
       "  0   0   0  16  19   0   3   0   0  19   3   0   0   0\n",
       "  0   0   0   0   0  16  19   3   0  19   0   3   0   0\n",
       "  0   0   0   0  16   0  16  16   0   9   2   1   0   0"
      ]
     },
     "execution_count": 59,
     "metadata": {},
     "output_type": "execute_result"
    }
   ],
   "source": [
    "cg_data.suppression_plans.crews_present[5, 1:30, :]"
   ]
  },
  {
   "cell_type": "code",
   "execution_count": 188,
   "id": "905c7e0f",
   "metadata": {},
   "outputs": [
    {
     "data": {
      "text/plain": [
       "Dict{String, Float64} with 4 entries:\n",
       "  \"explicit_lr\"      => 2.48759e6\n",
       "  \"price_and_branch\" => 5.05548e8\n",
       "  \"explicit_int\"     => 2.55832e6\n",
       "  \"master_problem\"   => 2.67122e6"
      ]
     },
     "execution_count": 188,
     "metadata": {},
     "output_type": "execute_result"
    }
   ],
   "source": [
    "obj_values = d[6]"
   ]
  },
  {
   "cell_type": "code",
   "execution_count": 189,
   "id": "c62868a9",
   "metadata": {},
   "outputs": [],
   "source": [
    "allotments = d[7];"
   ]
  },
  {
   "cell_type": "code",
   "execution_count": 190,
   "id": "aae849ec",
   "metadata": {},
   "outputs": [
    {
     "name": "stdout",
     "output_type": "stream",
     "text": [
      "6×14 Matrix{Float64}:\n",
      " 0.0    0.0   0.0   0.0  0.0  0.0  0.0   0.0   0.0   8.76  12.85  0.0  0.0  0.0\n",
      " 0.0    0.0   0.0   5.0  3.0  3.0  5.14  6.14  7.14  0.0    0.0   0.0  0.0  0.0\n",
      " 9.41   0.0   0.0   0.0  0.0  0.0  0.0   0.0   0.0   0.0    0.0   0.0  0.0  0.0\n",
      " 4.61  20.0  20.0   0.0  0.0  0.0  0.0   0.0   0.0   0.0    0.0   0.0  0.0  0.0\n",
      " 0.0    0.0   0.0  10.0  9.0  8.0  9.86  8.86  7.86  5.24   0.0   0.0  0.0  0.0\n",
      " 5.98   0.0   0.0   0.0  0.0  0.0  0.0   0.0   0.0   0.0    0.8   0.0  0.0  0.0"
     ]
    }
   ],
   "source": [
    "show(stdout, \"text/plain\", round.(allotments[\"explicit_lr\"] *100) / 100)"
   ]
  },
  {
   "cell_type": "code",
   "execution_count": 191,
   "id": "7c2a9842",
   "metadata": {},
   "outputs": [
    {
     "name": "stdout",
     "output_type": "stream",
     "text": [
      "6×14 Matrix{Float64}:\n",
      " 0.0    0.0   0.0   0.0   0.0   0.0  0.0  0.0  0.0   1.57  16.93  1.63  0.0  0.0\n",
      " 0.0    0.0   0.0   4.0   4.0   4.0  6.0  6.0  6.0   0.0    0.0   0.0   0.0  0.0\n",
      " 9.0    2.0   0.0   0.0   0.0   0.0  0.0  0.0  0.0   0.0    0.0   0.0   0.0  0.0\n",
      " 5.53  18.0  19.38  4.97  0.0   0.0  0.0  0.0  0.0   0.0    0.0   0.38  0.0  0.0\n",
      " 0.0    0.0   0.0   6.03  7.62  7.0  9.0  9.0  9.0  11.28   0.07  1.0   0.0  0.0\n",
      " 5.47   0.0   0.62  0.0   0.38  0.0  0.0  0.0  0.0   1.14   0.0   0.62  0.0  0.0"
     ]
    }
   ],
   "source": [
    "show(stdout, \"text/plain\", round.(allotments[\"master_problem\"] * 100) / 100)"
   ]
  },
  {
   "cell_type": "code",
   "execution_count": 192,
   "id": "a234edce",
   "metadata": {},
   "outputs": [
    {
     "name": "stdout",
     "output_type": "stream",
     "text": [
      "6×14 Matrix{Int8}:\n",
      " 0   0   0  0  0  0  0   0   0  3  16  1  0  0\n",
      " 0   0   0  5  4  4  6   5   4  2   0  0  0  0\n",
      " 9   2   0  0  0  0  0   0   0  0   0  0  0  0\n",
      " 5  18  20  5  0  0  0   0   0  0   0  0  0  0\n",
      " 0   0   0  5  8  7  9  10  11  9   0  0  0  0\n",
      " 6   0   0  0  0  0  0   0   0  0   1  0  0  0"
     ]
    }
   ],
   "source": [
    "show(stdout, \"text/plain\", allotments[\"explicit_int\"])"
   ]
  },
  {
   "cell_type": "code",
   "execution_count": 193,
   "id": "f77326cd",
   "metadata": {},
   "outputs": [
    {
     "name": "stdout",
     "output_type": "stream",
     "text": [
      "6×14 Matrix{Int8}:\n",
      "  0   0   0  0  0  0  0  3  0  14  7  1  0  0\n",
      "  0   0   0  0  0  0  0  0  0   0  0  0  0  0\n",
      " 10   0   0  0  0  0  0  0  0   0  0  0  0  0\n",
      "  7  17  18  0  0  0  0  0  0   0  0  0  0  0\n",
      "  0   0   0  0  0  0  0  0  0   0  0  0  0  0\n",
      "  3   1   0  0  1  1  0  0  5   0  0  0  0  0"
     ]
    }
   ],
   "source": [
    "show(stdout, \"text/plain\", allotments[\"price_and_branch\"])"
   ]
  },
  {
   "cell_type": "code",
   "execution_count": 194,
   "id": "f93e01a2",
   "metadata": {},
   "outputs": [
    {
     "data": {
      "text/plain": [
       "20×14 Matrix{Int8}:\n",
       "  0   0   0   0   0   0   0   0   0   0   0   0   0   0\n",
       " 20  20  20   0   0   0   0   0   0   0   0   0   0   0\n",
       "  0   0   0   0   0   0   0   0   0   0   0   0  20   0\n",
       "  0   0   0   0   0   0   0   0   0  20  20   0   0  20\n",
       "  0   0   0   0  20  20  20   1   0   0   0   0   0   0\n",
       "  0   0  20  20  20   0   1   0   0   0   0   0   0   0\n",
       "  0   0  20  20   0  20   1   0   0   0   0   0   0   0\n",
       "  0   0  20   0   0   0   0  20  20   1   0   0   0   0\n",
       "  0  20   0  20   0   0   0   0  20   0   0   1   0   0\n",
       "  0   0   0  20   0   0  20   0  20   1   0   0   0   0\n",
       "  0   0   0  19  19   2   0  20   0   0   0   0   0   0\n",
       "  0   0  19   0   0   0  20   0   0   0  19   2   0   0\n",
       "  0   0   0   0   0  16   0   0  19   0   5  20   0   0\n",
       "  0   0   0  19   0   0   0   0   0   0  19  20   2   0\n",
       "  0   0   0   0   0   0  19  19   0   3   0   0  19   0\n",
       "  0   0   0   0  19   0   0   0  20   0  20   0   2   0\n",
       "  0   0   0  19   0  19   0   0   0  20   2   0   0   0\n",
       "  0   0   0   0  19   0   3   0   0  19   0  19   0   0\n",
       "  0   0   0   0   0   0  19  19   0   2  20   0   0   0\n",
       "  0   0   0   0  19   0  19   0  19   0   0   3   0   0"
      ]
     },
     "execution_count": 194,
     "metadata": {},
     "output_type": "execute_result"
    }
   ],
   "source": [
    "cg_data.suppression_plans.crews_present[5, 1:20, :]"
   ]
  },
  {
   "cell_type": "markdown",
   "id": "e7028726",
   "metadata": {},
   "source": [
    "## No warm start"
   ]
  },
  {
   "cell_type": "code",
   "execution_count": 259,
   "id": "d9ac7a76",
   "metadata": {},
   "outputs": [],
   "source": [
    "params = Dict{String, Any}()\n",
    "params[\"gamma\"] = 0\n",
    "\n",
    "params[\"in_path\"] = \"data/raw/big_fire\"\n",
    "params[\"agg_prec\"] = 10\n",
    "params[\"passive_states\"] = 30\n",
    "params[\"num_fires\"] = 6\n",
    "params[\"num_crews\"] = 20\n",
    "params[\"fire_solver_type\"] = \"dp\"\n",
    "params[\"rho\"] = false\n",
    "\n",
    "params[\"apply_warm_start\"] = true\n",
    "params[\"restore_cost\"] = true\n",
    "\n",
    "params[\"solve_explicit_lin_time_limit\"] = 0\n",
    "params[\"solve_explicit_int_time_limit\"] = 0\n",
    "params[\"cg_time_limit\"] = 60\n",
    "params[\"solve_net_flow_time_limit\"] = 0\n",
    "\n",
    "params[\"max_iters\"] = 500\n",
    "params[\"ws_dual_weight\"] = zeros(params[\"max_iters\"])\n",
    "params[\"int_aware_dual_weight\"] = zeros(params[\"max_iters\"])\n",
    "\n",
    "d2, cg_data2 = run_tests(params);"
   ]
  },
  {
   "cell_type": "code",
   "execution_count": 266,
   "id": "115fefc9",
   "metadata": {},
   "outputs": [
    {
     "name": "stdout",
     "output_type": "stream",
     "text": [
      "6×14 Matrix{Float64}:\n",
      " 0.0            0.0     0.0     0.0  0.0        0.0  0.0  0.0  0.0  0.0  2456.5  3861.27  0.0  0.0\n",
      " 0.0            0.0  5100.0  5950.0  1.25493e8  0.0  0.0  0.0  0.0  0.0     0.0     0.0   0.0  0.0\n",
      " 1.21308e9      0.0     0.0     0.0  0.0        0.0  0.0  0.0  0.0  0.0     0.0     0.0   0.0  0.0\n",
      " 5.2501e9       0.0     0.0     0.0  0.0        0.0  0.0  0.0  0.0  0.0     0.0     0.0   0.0  0.0\n",
      " 0.0            0.0     0.0  3400.0  1.17657e5  0.0  0.0  0.0  0.0  0.0     0.0     0.0   0.0  0.0\n",
      " 1.64285e9  33681.2     0.0     0.0  0.0        0.0  0.0  0.0  0.0  0.0     0.0     0.0   0.0  0.0 \n",
      " \n",
      "6×14 Matrix{Float64}:\n",
      " 45274.9        0.0        0.0           0.0  0.0        0.0        0.0  0.0  0.0  0.0  0.0  2342.1  3353.6  0.0\n",
      "     2.51134e7  0.0        0.0           0.0  0.0        1.25496e8  0.0  0.0  0.0  0.0  0.0     0.0     0.0  0.0\n",
      "     1.21308e9  0.0        4.23335e9     0.0  0.0        0.0        0.0  0.0  0.0  0.0  0.0     0.0     0.0  0.0\n",
      "     0.0        5.25014e8  0.0           0.0  0.0        0.0        0.0  0.0  0.0  0.0  0.0     0.0     0.0  0.0\n",
      " 62939.2        0.0        0.0        3400.0  1.17657e5  0.0        0.0  0.0  0.0  0.0  0.0     0.0     0.0  0.0\n",
      "     1.64285e9  0.0        0.0           0.0  6.76452e8  0.0        0.0  0.0  0.0  0.0  0.0     0.0     0.0  0.0 \n",
      " \n",
      "6×14 Matrix{Float64}:\n",
      "  8540.0        35284.8        0.0         0.0  0.0  0.0        0.0        0.0  0.0  0.0  0.0  0.0  2456.5  0.0\n",
      "     1.25579e7      2.51109e7  0.0         0.0  0.0  0.0        7.17122e7  0.0  0.0  0.0  0.0  0.0     0.0  0.0\n",
      "     1.08576e9      4.45616e8  0.0         0.0  0.0  0.0        0.0        0.0  0.0  0.0  0.0  0.0     0.0  0.0\n",
      "     7.17136e7      0.0        7.17037e7   0.0  0.0  0.0        0.0        0.0  0.0  0.0  0.0  0.0     0.0  0.0\n",
      " 62939.2            0.0        0.0         0.0  0.0  2.29837e5  0.0        0.0  0.0  0.0  0.0  0.0     0.0  0.0\n",
      "     0.0            0.0        1.15001e10  0.0  0.0  0.0        0.0        0.0  0.0  0.0  0.0  0.0     0.0  0.0 \n",
      " \n",
      "6×14 Matrix{Float64}:\n",
      " 38649.2        35039.2        0.0        0.0        0.0  0.0      0.0  0.0  0.0        0.0        0.0  0.0  0.0  0.0\n",
      "     1.94627e7      1.13013e7  2.51084e7  0.0        0.0  0.0      0.0  0.0  5.57762e7  0.0        0.0  0.0  0.0  0.0\n",
      "     5.50127e8      0.0        0.0        6.56869e8  0.0  0.0      0.0  0.0  0.0        0.0        0.0  0.0  0.0  0.0\n",
      "     5.25018e8      0.0        5.80449e7  5.52618e8  0.0  0.0      0.0  0.0  0.0        0.0        0.0  0.0  0.0  0.0\n",
      "  5000.0        57939.2        0.0        0.0        0.0  0.0  85983.4  0.0  0.0        0.0        0.0  0.0  0.0  0.0\n",
      "     5.50127e8      0.0        0.0        7.07299e8  0.0  0.0      0.0  0.0  0.0        5.50054e8  0.0  0.0  0.0  0.0 \n",
      " \n",
      "6×14 Matrix{Float64}:\n",
      "  8540.0            0.0        35039.2           0.0        0.0     0.0   0.0      0.0   0.0  0.0  0.0  0.0       0.0  0.0\n",
      " 10549.9         9491.06        6007.94       7795.43       0.0  2043.43  0.0    691.87  0.0  0.0  0.0  0.0       0.0  0.0\n",
      "     2.45456e8      8.61417e7   8602.55          1.46047e8  0.0     0.0   0.0      0.0   0.0  0.0  0.0  0.0       0.0  0.0\n",
      "     5.25018e8      0.0            0.0           6.30011e8  0.0     0.0   0.0      0.0   0.0  0.0  0.0  5.2497e9  0.0  0.0\n",
      " 59639.2        57939.2            0.0           0.0        0.0     0.0   0.0  85983.4   0.0  0.0  0.0  0.0       0.0  0.0\n",
      "     5.25022e8      0.0            1.93434e8     0.0        0.0     0.0   0.0      0.0   0.0  0.0  0.0  0.0       0.0  0.0 \n",
      " \n",
      "6×14 Matrix{Float64}:\n",
      " 40349.2           0.0        35039.2        0.0        0.0        0.0        0.0  0.0        0.0        0.0        0.0       0.0  0.0  0.0\n",
      "     4.0042e8      1.88958e7      1.13001e7  2.51059e7  0.0        0.0        0.0  5.45905e7  7.25016e6  0.0        0.0       0.0  0.0  0.0\n",
      "     3.82176e8     3.47499e7      1.21007e8  3.37178e8  0.0        0.0        0.0  0.0        0.0        0.0        0.0       0.0  0.0  0.0\n",
      "     5.25018e8     0.0            0.0        0.0        0.0        9.45017e9  0.0  0.0        0.0        0.0        0.0       0.0  0.0  0.0\n",
      "  6700.0        5000.0        52939.2        0.0        0.0        0.0        0.0  0.0        0.0        0.0        0.0  100314.0  0.0  0.0\n",
      "     3.82176e8     1.8184e7       1.08093e8  5.45899e7  7.64258e7  0.0        0.0  0.0        0.0        6.21064e7  0.0       0.0  0.0  0.0 \n",
      " \n",
      "6×14 Matrix{Float64}:\n",
      "  9917.0        32750.9        31050.9        0.0        0.0             0.0        0.0          0.0        0.0  0.0  0.0        4084.59  0.0  0.0\n",
      "     4.0042e8       1.88958e7      1.13001e7  2.51059e7  0.0             1.25493e8  0.0        486.78       0.0  0.0  0.0           0.0   0.0  0.0\n",
      "     4.12827e8      8.73047e7      0.0        3.81938e7  0.0             0.0        0.0          0.0        0.0  0.0  0.0           0.0   0.0  0.0\n",
      "     5.25018e8      2.02939e8      1.59161e8  9.07487e7  1.05838e8       0.0        9.07529e7    6.27825e7  0.0  0.0  9.07482e7     0.0   0.0  0.0\n",
      " 51654.3        10015.7        47923.5        0.0        0.0        100314.0        0.0          0.0        0.0  0.0  0.0           0.0   0.0  0.0\n",
      "     3.22079e8      8.90872e7      2.48915e7  2.48866e7  0.0             5.00966e7  0.0          1.24903e9  0.0  0.0  0.0           0.0   0.0  0.0 \n",
      " \n",
      "6×14 Matrix{Float64}:\n",
      " 36452.7        32750.9        31050.9        0.0          0.0        0.0            0.0        0.0        0.0     0.0   0.0  4084.59  0.0        0.0\n",
      "     1.77538e7      1.47192e7      1.88939e7  1.1299e7     2.51034e7  0.0        85168.9        5.01205e7  0.0  2023.7   0.0     0.0   0.0        0.0\n",
      "     2.50436e8      5.48177e7      2.56608e6  7.80644e7    0.0        0.0            0.0        0.0        0.0     0.0   0.0     0.0   0.0        0.0\n",
      "     1.69892e8      7.37959e7      6.16472e7  2.15497e7    1.28891e7  0.0            0.0        2.28319e8  0.0   107.78  0.0     0.0   2.75895e8  0.0\n",
      " 55722.5         5694.85       52207.8        0.0        731.42       0.0        85252.0        0.0        0.0     0.0   0.0     0.0   0.0        0.0\n",
      "     2.28972e8      8.01467e7      0.0        0.0          0.0        6.00922e7      8.01101e7  0.0        0.0     0.0   0.0     0.0   0.0        0.0 \n",
      " \n",
      "6×14 Matrix{Float64}:\n",
      "  9917.0         6307.0           0.0        31050.9            0.0            0.0           0.0        0.0           0.0        0.0        0.0  4084.59  0.0  0.0\n",
      "     1.52608e6      1.2654e6      1.61977e6      9.7092e5       2.14611e6      2.14265e6  3400.0        3.20806e6  3699.57       0.0        0.0     0.0   0.0  0.0\n",
      "     9.62418e6      2.39272e6     5.86604e5      0.0            0.0            0.0           0.0        0.0           0.0        0.0        0.0     0.0   0.0  0.0\n",
      "     6.81108e6      4.06778e6     0.0            2.24188e6      3.96782e5      2.85128e6     1.88576e5  0.0           2.33497e6  1.80573e6  0.0     0.0   0.0  2.3349e6\n",
      " 49778.0        47598.0        9861.18           0.0        43078.0            0.0        3261.18       0.0           0.0        1.31657e6  0.0     0.0   0.0  0.0\n",
      "     6.07354e6      1.32157e6     8.53244e5      2.29586e6      0.0        95849.6           1.92489e6  0.0           0.0        0.0        0.0     0.0   0.0  0.0 \n",
      " \n",
      "6×14 Matrix{Float64}:\n",
      " 35672.4         6307.0            0.0  28732.2       0.0      0.0      0.0   0.0      0.0    0.0       0.0  0.0        0.0  0.0\n",
      " 70317.4        70092.4        59584.1  74144.6   69447.9  47119.6  88763.6   0.0  80261.9    0.0       0.0  0.0        0.0  0.0\n",
      "     3.84285e5      0.0            0.0      0.0   73820.6      0.0      0.0   0.0      0.0    0.0       0.0  0.0        0.0  0.0\n",
      "     3.15505e5      1.62407e5  64103.6  49281.7   51348.8  16420.6   9719.34  0.0   8451.66  55.03  18324.2  1.47224e5  0.0  0.0\n",
      " 11088.9        52716.1        50787.2      0.0       0.0  43039.2  49092.7   0.0      0.0    0.0       0.0  0.0        0.0  0.0\n",
      "     2.83403e5  50909.3        54421.0   8571.14  77877.5  78756.6      0.0   0.0      0.0    0.0       0.0  0.0        0.0  0.0 \n",
      " \n",
      "6×14 Matrix{Float64}:\n",
      "  35672.4        33321.4      0.0   28732.2       0.0       0.0       0.0      0.0      0.0      0.0    0.0       0.0  0.0  0.0\n",
      "  21946.9        16627.0  20242.6    9123.29  24794.7   11724.1    6742.55  5042.55  8066.04  9882.62   0.0       0.0  0.0  0.0\n",
      " 108264.0        27534.0   1246.93      0.0     497.33      0.0       0.0      0.0      0.0      0.0    0.0       0.0  0.0  0.0\n",
      " 117626.0        48585.9  24854.5   29830.5    4005.02  23941.0       0.0      0.0      0.0      0.0    0.0       0.0  0.0  0.0\n",
      "  26311.3        18812.3  17815.6   20688.6   12455.0   39601.5   13195.6      0.0      0.0   5637.75  36.47  21696.2  0.0  0.0\n",
      "      1.16731e5  34745.6  13187.6       0.0    8723.8    1610.29   6793.67     0.0      0.0      0.0    0.0       0.0  0.0  0.0 \n",
      " \n",
      "6×14 Matrix{Float64}:\n",
      " 11168.5         7527.74  26822.7   25353.1       0.0      0.0      0.0       0.0   0.0      0.0    0.0   4084.59   0.0   0.0\n",
      " 46870.9        12461.0   14495.9    9259.19  11226.5   8833.77  6202.29   4502.29  0.0    187.83   0.0      0.0    0.0   0.0\n",
      "     1.05789e5  17800.0   12878.1       0.0       0.0      0.0      0.0       0.0   0.0      0.0    0.0      0.0    0.0   0.0\n",
      " 95428.8        46037.5   20742.8   12769.1    8652.42  4221.32     0.0       0.0   0.0      0.0    0.0      0.0    0.0   0.0\n",
      " 47196.2        46542.2       0.0   12443.0   45706.2   3850.56  2150.56  26745.6   0.0  11758.1   98.92     0.0   40.43  0.0\n",
      "     1.02483e5  33809.7    8797.99   4599.21   3638.84  1195.18  2824.3       0.0   0.0   9531.1    0.0      0.0    0.0   0.0 \n",
      " \n",
      "6×14 Matrix{Float64}:\n",
      "  34933.3         6307.0      0.0       0.0   31050.9       0.0      0.0       0.0      0.0      0.0     76.01  3771.76  1682.56  0.0\n",
      "  21836.1        23037.0  14241.9   12073.4   11470.6   11782.2   9282.23   7582.23     0.0      0.0      0.0      0.0      0.0   0.0\n",
      "      1.09559e5  21513.6   9449.79   7294.12      0.0       0.0      0.0       0.0      0.0      0.0      0.0      0.0      0.0   0.0\n",
      "  96009.2        42211.6  22317.8   16163.1    8673.69   3987.2   3046.29      0.0      0.0      0.0      0.0      0.0      0.0   0.0\n"
     ]
    },
    {
     "name": "stdout",
     "output_type": "stream",
     "text": [
      "  42546.9            0.0  42798.9   16731.6   37814.6    5100.0   6449.72  21207.6      0.0   9851.68  5128.45     0.0     62.97  0.0\n",
      " 105298.0        33201.0  10958.0    4489.69   2500.65   2574.59  2815.43   3278.62  4887.99  9877.94     0.0      0.0      0.0   0.0 \n",
      " \n",
      "6×14 Matrix{Float64}:\n",
      "   9917.0        37157.8      0.0       0.0   31050.9       0.0       0.0       0.0       0.0      0.0   76.01  4077.68      0.0  0.0\n",
      "  23538.7        13467.5  11166.0    9525.96   7962.37   6532.37   4805.26   3105.26   1405.26     0.0    0.0      0.0       0.0  0.0\n",
      "      1.54521e5  39406.3   2502.84      0.0   27679.7       0.0       0.0       0.0       0.0      0.0    0.0      0.0       0.0  0.0\n",
      " 132926.0        66802.6  28514.1   18621.4    8216.15   9083.53   9047.69   3443.35      0.0      0.0    0.0      0.0       0.0  0.0\n",
      "  37918.5        34724.9  12236.7    9484.03  29871.6   26938.5    6700.76   5656.54  19202.3   4572.18   0.0      0.0   29607.7  0.0\n",
      "      1.75591e5  45683.9  18577.7   14644.8   18169.3    6546.5   21535.6   16783.1       0.0      0.0    0.0      0.0       0.0  0.0 \n",
      " \n",
      "6×14 Matrix{Float64}:\n",
      " 36739.7        26424.0      0.0    4228.2       0.0   26822.7       0.0       0.0      0.0      0.0       0.0   4084.59  0.0  0.0\n",
      " 34783.3        19185.3  16580.1   14317.8   12481.7   11459.0    9820.05   7379.5   5679.5   4290.34      0.0      0.0   0.0  0.0\n",
      "     1.00594e5  24086.0   2940.86   1090.5    7162.49   3581.24      0.0       0.0      0.0      0.0       0.0      0.0   0.0  0.0\n",
      " 99023.3        33923.6  21858.1   17947.9   14943.8   39164.1       0.0   18253.5      0.0   2493.34  25746.8      0.0   0.0  0.0\n",
      " 23549.5        21420.0  19526.8   17711.2   15078.4   12454.9   14295.3   12285.7  11747.4  11999.2    2306.07     0.0   0.0  0.0\n",
      "     1.03375e5  32934.4   9346.86   3696.38   3240.59   2940.01   2132.94      0.0      0.0   1155.84      0.0      0.0   0.0  0.0 \n",
      " \n",
      "6×14 Matrix{Float64}:\n",
      " 20215.0            0.0  10169.8   19568.4    2884.57  66361.6       0.0       0.0       0.0       0.0      0.0   4084.59  0.0  0.0\n",
      " 34888.7        20785.2  19040.1   16577.4   14863.9   13433.9   11979.3   10279.3    8579.33   5247.39  1721.64     0.0   0.0  0.0\n",
      "     1.1371e5   55979.8      0.0       0.0   19656.6    9828.28      0.0       0.0       0.0       0.0      0.0      0.0   0.0  0.0\n",
      "     1.05407e5  44556.5  28136.1   10960.0   29795.7       0.0    8325.63  10500.5       0.0   11247.1   3553.61     0.0   0.0  0.0\n",
      "     1.98058e5  28800.1  18719.3   19567.2   13894.8   15158.4   12381.0    9923.91  12324.4   11469.4   4090.85     0.0   0.0  0.0\n",
      "     1.03577e5  32867.9   9617.62   3282.69   3219.45   2601.82   2114.97      0.0       0.0       0.0      0.0      0.0   0.0  0.0 \n",
      " \n",
      "6×14 Matrix{Float64}:\n",
      "   9732.49       26218.0  18603.5  12631.9       0.0   29989.0       0.0       0.0       0.0       0.0      0.0   4084.59     0.0   0.0\n",
      "  29356.2        22130.2  18985.1  17875.3   15640.7   14210.7   11892.9   10192.9    8492.93   6412.65  2762.84     0.0      0.0   0.0\n",
      "      1.23508e5  60878.8      0.0  22912.4       0.0       0.0       0.0       0.0       0.0       0.0      0.0      0.0      0.0   0.0\n",
      "      1.09521e5  47367.2  24530.0  17128.5   29543.3    7778.5   10676.3   10020.9    2678.5   11919.5      0.0      0.0      0.0   0.0\n",
      "  56047.2        20665.6  16717.1  20332.4   15127.6   15242.2   14239.7    8990.68  13892.7   10410.4   3051.42     0.0   8087.99  0.0\n",
      " 104056.0        33316.7  10460.5   3816.92   8124.01   1610.29   2310.62      0.0       0.0       0.0      0.0      0.0      0.0   0.0 \n",
      " \n",
      "6×14 Matrix{Float64}:\n",
      " 21758.6        16044.8      0.0   13667.9    8262.05   7669.18  13485.3       0.0      0.0      0.0      0.0   1445.0   0.0  0.0\n",
      " 21305.4        19955.4  38182.4   17101.5   14269.2   12752.6   11455.4    9755.42  8055.42  4611.01  1295.78     0.0   0.0  0.0\n",
      "     1.09808e5  53435.6   6962.15      0.0       0.0       0.0       0.0       0.0      0.0      0.0      0.0      0.0   0.0  0.0\n",
      "     1.00792e5  46704.1  26780.1    7714.06  14446.0    9089.32  25170.2    5113.95   326.31     0.0      0.0      0.0   0.0  0.0\n",
      " 77817.4        21323.6  19116.4   16085.8   14353.2   10820.8   13600.0   12812.2   9553.01  7626.4   1131.23  5980.92  0.0  0.0\n",
      "     1.06972e5  42521.1  12965.4     818.45   3777.78  11535.1    2589.55      0.0      0.0      0.0      0.0      0.0   0.0  0.0 \n",
      " \n",
      "6×14 Matrix{Float64}:\n",
      " 21390.1        17130.6  11604.6  10589.3       0.0    8856.98  9087.33     0.0    8537.15     0.0      0.0   4084.59  0.0  0.0\n",
      " 39968.0        59902.6  13741.2  15723.4   11459.2   10021.7   8580.74  6880.74   5180.74  2557.67   217.78     0.0   0.0  0.0\n",
      "     1.11015e5  48804.1  27065.2   1310.45      0.0       0.0      0.0      0.0       0.0      0.0      0.0      0.0   0.0  0.0\n",
      "     1.02887e5  49868.3  24431.4  11057.1   12328.7    3843.27  2565.82  2933.21  14615.7      0.0      0.0      0.0   0.0  0.0\n",
      "     1.01116e5  17917.7  16120.0  14571.5   11883.0   10862.3   9690.07  7459.84   6478.93  4786.99  2578.82  1348.72  0.0  0.0\n",
      "     1.06807e5  46606.1  19463.0   2948.73   3611.48   8874.34  2448.2      0.0       0.0      0.0      0.0      0.0   0.0  0.0 \n",
      " \n",
      "6×14 Matrix{Float64}:\n",
      " 24100.4        18147.4  14941.5  13471.9    2067.12   8891.19     0.0   11290.1       0.0      0.0      0.0   2406.64  0.0  0.0\n",
      " 22856.5        16298.0  14702.3  13299.5   10708.1    9278.06  7797.96   6097.96   4397.96  1998.54     0.0      0.0   0.0  0.0\n",
      "     1.10009e5  47282.1  27714.1   1055.06  24676.4       0.0      0.0       0.0       0.0      0.0      0.0      0.0   0.0  0.0\n",
      "     1.03424e5  48781.6  24484.0  11023.2   14304.2    4088.65  2367.43   2913.41  12751.0      0.0      0.0      0.0   0.0  0.0\n",
      " 97118.9        18251.3  15813.5  14310.7   11748.7   10962.0   8937.24   8072.9    4668.99  4492.03  2658.34   358.98  0.0  0.0\n",
      "     1.0727e5   46533.5  18402.6   3001.75   3748.06  11059.6   2564.29      0.0       0.0      0.0      0.0      0.0   0.0  0.0 \n",
      " \n",
      "6×14 Matrix{Float64}:\n",
      "  20198.4        12542.4  16691.3   11788.0    7531.28      0.0   7914.71     0.0      0.0   13021.2      0.0   2467.72  0.0  0.0\n",
      "  19184.7        36451.6  14737.2   13162.4   11545.7    9616.25  8153.95  6453.95  4753.95   2252.82    57.73     0.0   0.0  0.0\n",
      "      1.11277e5  46727.7   9011.13   3190.19    635.66      0.0      0.0      0.0      0.0       0.0      0.0      0.0   0.0  0.0\n",
      " 106176.0        51494.4  23101.5   10175.9   20902.9    4005.16  3901.13  1451.11  9415.55      0.0   3041.7      0.0   0.0  0.0\n",
      "  23887.4        17871.2  17069.5   14427.8   12661.5   11885.9   9712.17  8181.77  6750.82   4838.74  2277.92  1302.12  0.0  0.0\n",
      "      1.08794e5  52724.8  20886.5    2877.55   3793.55  11787.5   2602.96     0.0      0.0       0.0      0.0      0.0   0.0  0.0 \n",
      " \n",
      "6×14 Matrix{Float64}:\n",
      " 19900.3        15061.8  38163.2   7460.47   4464.48   5684.07  11790.7   8126.12     0.0  3576.38     0.0   3938.9  0.0  0.0\n",
      " 27471.2        16803.5  14883.4  13317.0   11700.3    9758.32   8303.5   6603.5   4903.5  2359.64   113.81     0.0  0.0  0.0\n",
      "     1.07858e5  46619.0  11471.6   2968.25   2968.25      0.0       0.0      0.0      0.0     0.0      0.0      0.0  0.0  0.0\n",
      "     1.05128e5  50490.0  23674.5  11098.3   12726.9    4748.27   5942.2   2046.28     0.0  4693.2      0.0      0.0  0.0  0.0\n",
      " 23179.9        17506.3  17091.9  14182.2   13237.8   10624.0    8803.9   8008.51  6825.7  4574.62  2891.51     0.0  0.0  0.0\n",
      "     1.05588e5  41997.8  22188.7   4053.81  10751.3    5139.63   2618.45     0.0      0.0     0.0      0.0      0.0  0.0  0.0 \n",
      " \n",
      "6×14 Matrix{Float64}:\n",
      " 17316.5        12185.7   8223.45  13337.8    6866.82   6569.86  7375.13  7403.41  2791.09    21.94     0.0   4084.59  0.0  0.0\n",
      " 24278.9        51016.5  15106.5   12973.5   11589.9    9656.86  8196.7   6496.7   4796.7   2283.36    73.76     0.0   0.0  0.0\n",
      "     1.10431e5  48970.0  12087.4    3164.17   3164.17      0.0      0.0      0.0      0.0      0.0      0.0      0.0   0.0  0.0\n",
      "     1.06724e5  51896.9  24694.9   10982.3    8932.67   4732.37  4863.23  1751.17     0.0   2131.62     0.0      0.0   0.0  0.0\n",
      "     1.07908e5  17506.2  17094.8   14183.5   13239.4   10625.1   8801.21  8007.53  6826.12  4579.43  2890.22     0.0   0.0  0.0\n",
      "     1.06943e5  45887.8  22211.5    4054.95   3913.54  13707.2   2704.95     0.0      0.0      0.0      0.0      0.0   0.0  0.0 \n",
      " \n",
      "6×14 Matrix{Float64}:\n",
      " 18336.2        13271.3   8841.81  17645.5    4817.38   5345.94  9094.03  6379.76   1296.11  4944.96     0.0   1445.0  0.0  0.0\n",
      " 24355.6        17394.2  15551.3   13875.1   12175.1   10522.8   8894.2   7194.2    5494.2   2781.57   335.32     0.0  0.0  0.0\n",
      "     1.0144e5   49422.3  11849.5    4448.99      0.0       0.0      0.0      0.0       0.0      0.0      0.0      0.0  0.0  0.0\n",
      " 98471.8        47152.5  20839.7   10551.0   14321.3    2067.56  1994.53  3646.18  10520.1   4323.71     0.0      0.0  0.0  0.0\n",
      " 17165.8        14430.1  14620.2   12265.4   11267.2    9229.34  5145.94  3892.71   3713.66  1448.87  1266.74     0.0  0.0  0.0\n",
      "     1.07785e5  35129.2  10158.4    3800.89   5227.29   4942.46  3821.63     0.0    3723.1   3485.97     0.0      0.0  0.0  0.0 \n",
      " \n",
      "6×14 Matrix{Float64}:\n",
      "  21148.9        12454.6  16990.4    1955.68   5723.77  14060.8    3427.48   7171.36  7732.07     0.0   1336.09  1445.0  0.0  0.0\n",
      "  27825.0        45544.0  18451.1   16774.9   15074.9   13422.6   11794.0   10094.0   8393.98  4852.85  1422.74     0.0  0.0  0.0\n",
      "      1.03653e5  35459.1   5755.63  11814.4       0.0       0.0       0.0       0.0      0.0      0.0      0.0      0.0  0.0  0.0\n",
      " 100851.0        48191.8  22719.1    9893.66   7173.81   3878.08  10027.9    1336.16  6218.78  7972.88     0.0      0.0  0.0  0.0\n",
      "  18971.7        17920.3  14965.3   14237.4   10858.6   10487.7    6417.18   5902.02  5582.98  3921.29   323.24     0.0  0.0  0.0\n",
      "      1.10397e5  50517.3  26001.5    4957.08   5789.84   1940.54   4335.32     88.78  5378.81  7215.09     0.0      0.0  0.0  0.0 \n",
      " \n",
      "6×14 Matrix{Float64}:\n",
      " 21584.8        13128.1  11428.1   6964.75   6861.57   4354.6   8815.81  5976.64  4423.46     0.0   2282.75  1271.25  0.0  0.0\n",
      " 28592.7        17196.4  16244.3  14550.7   12850.7   11163.5   8696.36  6996.36  6728.75  4481.91   261.13     0.0   0.0  0.0\n"
     ]
    },
    {
     "name": "stdout",
     "output_type": "stream",
     "text": [
      "     1.04409e5  44760.8  10315.2   5157.61      0.0       0.0      0.0      0.0      0.0      0.0      0.0      0.0   0.0  0.0\n",
      " 98957.6        47914.1  22513.5  10282.9    5181.74   3716.38  3946.98  5120.84   865.9   2994.11     0.0      0.0   0.0  0.0\n",
      " 82047.3        13816.8  14072.0  12418.8   10306.3    8957.54  5312.51  4274.37  3976.89  1753.61     0.0      0.0   0.0  0.0\n",
      "     1.06615e5  36776.9  18347.6   4436.66   5900.58   4201.24  3614.05  1345.3   4221.6   7094.38     0.0      0.0   0.0  0.0 \n",
      " \n",
      "6×14 Matrix{Float64}:\n",
      " 14029.7         9202.47  13774.7   6667.29  10474.2   10084.4   3566.79  1511.62     0.0      0.0   489.51  0.0  0.0  0.0\n",
      " 19191.7        14321.1   12494.5  10794.5    9094.48   7477.82  5754.62  4121.06  2432.32   695.86    0.0   0.0  0.0  0.0\n",
      "     1.14524e5  56387.2   14030.0   3782.27   3782.27      0.0      0.0      0.0      0.0      0.0     0.0   0.0  0.0  0.0\n",
      "     1.11913e5  54212.2   25785.5  12143.1    8963.5    4785.17  5399.78  2247.1   1331.74  2834.69    0.0   0.0  0.0  0.0\n",
      " 32934.2        21744.7   17894.5   9957.57  14875.4    9211.49  2384.26  4909.42  1683.84   340.71  869.42  0.0  0.0  0.0\n",
      "     1.10724e5  53381.8   20528.3   3761.64   9431.82   2602.01  2457.14  2641.67  2060.11   550.14    0.0   0.0  0.0  0.0 \n",
      " \n",
      "6×14 Matrix{Float64}:\n",
      " 26277.7        10268.2   9115.58  11399.1    7538.48   6934.71  4344.15  4162.99   3011.81   855.22    0.0  0.0  1249.91  0.0\n",
      " 22011.7        16232.4  14374.5   12674.5   10974.5    9357.78  7587.59  6032.36   4291.4   2105.84    0.0  0.0     0.0   0.0\n",
      "     1.22333e5  55072.5  12893.1    6446.57   2578.63      0.0      0.0      0.0       0.0      0.0     0.0  0.0     0.0   0.0\n",
      "     1.18842e5  58123.3  25904.5   14133.6   11019.2    6465.25  5452.75  2269.36   9271.52  4361.97  306.7  0.0     0.0   0.0\n",
      " 26116.0        20687.1  18053.9   11603.2   13991.8   12587.5   6075.17  3984.51   7884.92  1855.29    0.0  0.0     0.0   0.0\n",
      "     1.217e5    54384.6  27086.3    4273.03  10518.6    7284.25  6811.01  2136.98  11845.1   1880.37    0.0  0.0     0.0   0.0 \n",
      " \n",
      "6×14 Matrix{Float64}:\n",
      " 20646.7        12396.1   9546.61  11463.2    7697.86  6520.92   4328.49  3874.14  2981.06  1411.05      0.0      0.0   2456.5  0.0\n",
      " 19272.5        14376.1  12548.5   10848.5    9148.52  7531.86   5807.21  4176.07  2485.72   736.54      0.0      0.0      0.0  0.0\n",
      "     1.10587e5  53271.6  13161.0    3708.03   1483.21     0.0       0.0      0.0      0.0      0.0       0.0      0.0      0.0  0.0\n",
      "     1.10414e5  53133.4  25077.6   12217.2    7075.55  4480.96  12888.6   2018.23  2927.5    962.98      0.0      0.0      0.0  0.0\n",
      " 17983.5        15874.7  14526.9   12474.7   10897.7   8195.48   6613.57  5420.7   3672.26  1395.48     94.73  1160.67     0.0  0.0\n",
      "     1.13493e5  53846.2  21874.1    4156.24  15136.6   4271.0    4302.81     0.0   3771.31  1181.58  48746.6      0.0      0.0  0.0 \n",
      " \n",
      "6×14 Matrix{Float64}:\n",
      " 14876.4        12078.8  22798.5   8200.65   8106.75  6900.68  5976.49  3490.59  2592.61  1354.73   0.0    0.0   2456.5  0.0\n",
      " 19107.8        14264.2  12438.5  10738.5    9038.54  7421.87  5700.07  4064.18  2377.0    653.9    0.0    0.0      0.0  0.0\n",
      "     1.06729e5  51716.1  12755.6   3571.59   1428.64     0.0      0.0      0.0      0.0      0.0    0.0    0.0      0.0  0.0\n",
      "     1.07676e5  51758.7  23978.9  11794.4   11545.1   4753.6   3016.85  1814.76  3149.71   969.93   0.0    0.0      0.0  0.0\n",
      "     1.1074e5   54122.9  14053.7  12020.3   10785.6   7971.25  6728.77  5120.44  3365.11  1403.36  94.73  50.79     0.0  0.0\n",
      "     1.09258e5  43369.0  21747.6   3688.28  13887.2   4387.11  2457.07  4716.02  2835.63  1281.29   0.0    0.0      0.0  0.0 \n",
      " \n",
      "6×14 Matrix{Float64}:\n",
      " 37261.1        13072.7   8006.3   7624.86   7050.82  7882.18  6612.81  4984.17  3595.74   382.19    0.0   0.0  2456.5  0.0\n",
      " 19474.0        14512.4  12682.7  10982.7    9282.7   7666.03  5938.13  4312.41  2618.45   837.02    0.0   0.0     0.0  0.0\n",
      "     1.0708e5   51716.5  13776.1   3701.5       0.0      0.0      0.0      0.0      0.0      0.0     0.0   0.0     0.0  0.0\n",
      "     1.07904e5  51669.2  23897.7  11976.2   11605.6   4904.32  3042.4   1433.22  4304.78  1404.04    0.0   0.0     0.0  0.0\n",
      " 21941.3        15792.4  14443.1  12392.4   11116.3   9615.77  7188.48  5902.68  4083.95  1832.63  132.63  0.0     0.0  0.0\n",
      "     1.10842e5  45068.8  20533.6   3565.41  12294.2   4416.86  2501.06  5804.87  3957.64  1748.46    0.0   0.0     0.0  0.0 \n",
      " \n",
      "6×14 Matrix{Float64}:\n",
      "  17959.6        11723.9  10219.0   7112.68   7908.61  6727.58  5832.24  3589.32  2845.66  1719.69      0.0   517.44  0.0  0.0\n",
      "  19178.8        14312.3  12485.8  10785.8    9085.83  7469.16  5746.18  4112.26  2423.77   689.37      0.0     0.0   0.0  0.0\n",
      "      1.0867e5   53120.9  13121.8   3694.82   1477.93     0.0      0.0      0.0      0.0      0.0       0.0     0.0   0.0  0.0\n",
      "      1.07577e5  52040.2  21493.8  11556.3   11409.6   4586.12  3269.87  3151.79  1915.16   792.88    432.89    0.0   0.0  0.0\n",
      "  16908.3        14982.2  13285.9  11515.9    9878.82  8890.43  7232.2   4781.12  3119.85   719.06    402.09    0.0   0.0  0.0\n",
      " 110091.0        42099.6  19386.7   3583.19   6084.19  5054.82  2865.16  4243.26  4393.21   938.05  10730.9     0.0   0.0  0.0 \n",
      " \n",
      "6×14 Matrix{Float64}:\n",
      " 17452.8        12174.5  17218.2  12320.1   7877.21  6542.76  5939.23  3627.37  2585.78  1061.12     0.0   34.59    0.0   0.0\n",
      " 19086.5        14249.8  12424.4  10724.4   9024.37  7407.7   5686.26  4049.77  2362.99   643.28     0.0    0.0     0.0   0.0\n",
      "     1.08998e5  53047.6  13102.6   3688.38  1475.35     0.0      0.0      0.0      0.0      0.0      0.0    0.0     0.0   0.0\n",
      "     1.07664e5  52210.8  19367.3  11514.1   6441.78  4299.95  7471.87  3408.21  1089.25     0.0   1871.81   0.0     0.0   0.0\n",
      " 19363.4        15099.9  12966.4  11699.9   9622.41  8869.41  6810.76  4524.45  2890.27   637.16   378.59   0.0   737.34  0.0\n",
      "     1.09682e5  52211.6  18040.5   3459.63  6292.48  4930.12  1325.59  5551.02  1514.66  1683.3      0.0    0.0     0.0   0.0 \n",
      " \n",
      "6×14 Matrix{Float64}:\n",
      " 23605.8        11053.4  20676.5   8596.73  9457.14  5844.91  5176.68  5385.78  1064.09  2165.8      0.0   0.0  0.0  0.0\n",
      " 19726.3        14683.4  12850.9  11150.9   9450.9   7834.23  6102.13  4483.41  2784.78   963.17     0.0   0.0  0.0  0.0\n",
      "     1.09369e5  52307.7  12909.8   3623.48  1449.39     0.0      0.0      0.0      0.0      0.0      0.0   0.0  0.0  0.0\n",
      "     1.06859e5  51735.7  22300.4  11493.6   6961.3   4527.08  5248.05  4550.84  2775.19     0.0   1819.25  0.0  0.0  0.0\n",
      " 45418.6        14818.3  13211.3  11353.6   9791.9   8815.78  7236.87  4694.07  3037.75   558.03   327.61  0.0  0.0  0.0\n",
      "     1.08941e5  49077.4  20472.7   3570.9   7117.05  5801.86  1588.33  5064.08  1594.25  1092.97     0.0   0.0  0.0  0.0 \n",
      " \n",
      "6×14 Matrix{Float64}:\n",
      " 24242.6         9433.86   9683.34   9416.97   7628.48  6551.24  6797.52  2989.76  3721.33  3020.58   0.0   26.96     0.0   0.0\n",
      " 17895.2        14791.3   26231.1   11231.7    9531.68  7915.01  6142.26  4591.29  2847.49  1078.94   0.0    0.0      0.0   0.0\n",
      "     1.07534e5  51161.8   27540.3    3651.08      0.0      0.0      0.0      0.0      0.0      0.0    0.0    0.0      0.0   0.0\n",
      "     1.07642e5  52250.3   24851.1   11121.4    9275.6   7047.28  5969.96  3767.06  1944.54  2379.61   0.0    0.0      0.0   0.0\n",
      " 17898.5        15662.1   13828.1   11676.2   10022.2   8531.9   6957.76  5026.55  3245.82  1420.08  21.36   0.0   1538.64  0.0\n",
      "     1.08562e5  50868.4   24974.8    3778.73   7439.71  6690.13  1427.22  5350.02  1254.57  1206.19   0.0    0.0      0.0   0.0 \n",
      " \n",
      "6×14 Matrix{Float64}:\n",
      " 17161.2        12844.8   9683.34   9416.97   7628.48  6551.24  6797.52  2989.76  3721.33  3020.58   0.0   26.96     0.0   0.0\n",
      " 19737.2        14791.3  12931.7   11231.7    9531.68  7915.01  6142.26  4591.29  2847.49  1078.94   0.0    0.0      0.0   0.0\n",
      "     1.07534e5  51161.8  13617.7    3651.08      0.0      0.0      0.0      0.0      0.0      0.0    0.0    0.0      0.0   0.0\n",
      "     1.07642e5  52250.3  24851.1   11121.4    9275.6   7047.28  5969.96  3767.06  1944.54  2379.61   0.0    0.0      0.0   0.0\n",
      " 27040.4        15662.1  13548.1   11676.2   10022.2   8531.9   6957.76  5026.55  3245.82  1420.08  21.36   0.0   1538.64  0.0\n",
      "     1.08562e5  50868.4  24974.8    3778.73   7439.71  6690.13  1427.22  5350.02  1254.57  1206.19   0.0    0.0      0.0   0.0 \n",
      " \n",
      "6×14 Matrix{Float64}:\n",
      " 17269.1        10509.2   8959.91   8992.25  10707.3   5757.49  6994.14  5204.05  3936.7   2480.61    0.0   418.68  0.0  0.0\n",
      " 21244.6        15840.8  13956.9   12256.9   10556.9   8940.27  7131.22  5640.75  3856.62  1863.12    0.0     0.0   0.0  0.0\n",
      "     1.11399e5  53800.5  12575.1    6287.57   2515.03     0.0      0.0      0.0      0.0      0.0     0.0     0.0   0.0  0.0\n",
      "     1.11538e5  53852.2  17124.0   12624.8   10297.2   8792.04  6767.02  5392.27  4074.96  2433.39  140.95    0.0   0.0  0.0\n",
      " 23620.1        62261.3  14044.3   12530.6   10521.9   8999.95  7221.23  5804.38  3732.6   2294.9   458.82    0.0   0.0  0.0\n",
      "     1.11174e5  46066.0  17690.7    3527.06  10315.0   8676.16  2567.15  5365.29  3508.17  2346.81  479.31    0.0   0.0  0.0 \n",
      " \n",
      "6×14 Matrix{Float64}:\n",
      " 17114.9        10594.5   9022.99   7739.2   11229.9    5757.77  7222.95  4261.35  3086.51  2401.03  1392.62  0.0  0.0  0.0\n",
      " 21442.6        15846.7  13995.1   12295.1   10595.1    8978.43  7217.72  5646.68  3916.26  1821.32     0.0   0.0  0.0  0.0\n",
      "     1.10653e5  54421.8  13460.8    3808.93   1523.57      0.0      0.0      0.0      0.0      0.0      0.0   0.0  0.0  0.0\n",
      "     1.11601e5  53873.2  23867.1   11860.2   12020.3   10353.0   5178.06  3865.2   4573.21  2561.88     0.0   0.0  0.0  0.0\n",
      " 18345.6        15935.4  14335.3   12535.4   10909.0    9154.14  7493.36  5829.02  4070.52  2413.9    653.37  0.0  0.0  0.0\n",
      "     1.09849e5  46151.4  24826.1    3799.68   9860.09   7546.79  2278.87  5808.61  3317.99  1948.57     0.0   0.0  0.0  0.0 \n",
      " \n",
      "6×14 Matrix{Float64}:\n",
      " 18858.0        10553.1   9038.26   7727.59   7085.73  5770.5   7894.52  4296.17  3019.35  2388.84  1392.62  0.0  0.0  0.0\n",
      " 21531.2        15906.7  14054.1   12354.1   10654.1   9037.47  7275.29  5706.71  3974.65  1865.61     0.0   0.0  0.0  0.0\n",
      "     1.13381e5  53808.9  12577.2    6288.62   2515.45     0.0      0.0      0.0      0.0      0.0      0.0   0.0  0.0  0.0\n"
     ]
    },
    {
     "name": "stdout",
     "output_type": "stream",
     "text": [
      "     1.13265e5  54377.3  14379.5   13567.5   10135.1   8474.17  7872.77  4080.91  4054.24  1118.73     0.0   0.0  0.0  0.0\n",
      " 19427.0        16056.7  14450.4   12656.7   11037.0   9211.83  7554.74  5943.33  4190.14  2582.6    710.05  0.0  0.0  0.0\n",
      "     1.13216e5  52104.9  14514.0   14096.4   10377.5   7993.97  2311.11  5922.92  3363.77  1942.02  1374.58  0.0  0.0  0.0 \n",
      " \n",
      "6×14 Matrix{Float64}:\n",
      " 18968.9        10415.3   8710.54  13156.3    6971.25  5489.46  6806.94  4412.21  3128.11  2348.23  1392.62  0.0  0.0  0.0\n",
      " 21552.9        15921.4  14068.6   12368.6   10668.6   9051.92  7289.37  5721.39  3988.93  1876.44     0.0   0.0  0.0  0.0\n",
      "     1.13683e5  53445.4  13206.3    3723.28   1489.31     0.0      0.0      0.0      0.0      0.0      0.0   0.0  0.0  0.0\n",
      "     1.13144e5  54403.8  14409.2   13505.5   11130.6   7612.55  6945.02  5127.04  4396.4   1491.32     0.0   0.0  0.0  0.0\n",
      "     1.17245e5  16033.3  14421.4   12633.3   11002.6   9253.67  7583.36  5916.57  4159.85  2499.89   753.09  0.0  0.0  0.0\n",
      "     1.13102e5  52514.1  14183.1    3242.5   10101.5   7749.9   2197.3   5940.37  3404.96  1830.1    761.43  0.0  0.0  0.0 \n",
      " \n",
      "6×14 Matrix{Float64}:\n",
      " 16537.2        10799.3   9089.16   7688.91   6971.25  8912.85  6806.94  4412.21  3128.11  2348.23  1392.62  0.0  0.0  0.0\n",
      " 21552.9        15921.4  14068.6   12368.6   10668.6   9051.92  7289.37  5721.39  3988.93  1876.44     0.0   0.0  0.0  0.0\n",
      "     1.13683e5  53445.4  13206.3    3723.28   1489.31     0.0      0.0      0.0      0.0      0.0      0.0   0.0  0.0  0.0\n",
      "     1.13144e5  54403.8  14409.2   13505.5   11130.6   7612.55  6945.02  5127.04  4396.4   1491.32     0.0   0.0  0.0  0.0\n",
      " 18395.3        16033.3  14421.4   12633.3   11002.6   9253.67  7583.36  5916.57  4159.85  2499.89   753.09  0.0  0.0  0.0\n",
      "     1.13102e5  51523.6  14183.1    3242.5   10101.5   7749.9   2296.34  5940.37  3404.96  1830.1    761.43  0.0  0.0  0.0 \n",
      " \n",
      "6×14 Matrix{Float64}:\n",
      "  16462.1        10992.8   8871.64   8386.96   6925.52  5679.47  6372.54  4220.69  3171.55  2415.26  1392.62  0.0  0.0  0.0\n",
      "  21538.5        15911.7  14059.0   12359.0   10659.0   9042.35  7280.05  5711.67  3979.48  1869.27     0.0   0.0  0.0  0.0\n",
      " 112808.0        53892.9  13376.7    3574.41   3574.41     0.0      0.0      0.0      0.0      0.0      0.0   0.0  0.0  0.0\n",
      "      1.12775e5  54306.4  14378.2   13295.5    8765.16  8641.41  6510.62  3981.28  2854.63  2683.02     0.0   0.0  0.0  0.0\n",
      "  18444.4        16130.0  14506.4   12730.0   11095.1   9352.03  7672.3   6003.1   4248.13  2584.87   851.64  0.0  0.0  0.0\n",
      " 112795.0        52750.3  14268.1    3299.39  10730.6   7808.41  2225.26  5430.51  2758.89  1846.64  2534.93  0.0  0.0  0.0 \n",
      " \n",
      "6×14 Matrix{Float64}:\n",
      " 15785.7        10834.5   9035.14   7736.42   6850.65  5769.91  5631.91  4288.54  3253.68  2403.98  1407.28  0.0  146.62  0.0\n",
      " 21612.2        15961.6  14108.1   12408.1   10708.1   9091.46  7327.92  5761.59  4028.03  1906.09     0.0   0.0    0.0   0.0\n",
      "     1.1227e5   54111.3  13379.9    3781.7    1512.68     0.0      0.0      0.0      0.0      0.0      0.0   0.0    0.0   0.0\n",
      "     1.12507e5  54299.0  19187.2   12888.0    8742.53  9160.2   5769.99  4085.14  2710.29  2111.26     0.0   0.0    0.0   0.0\n",
      " 18458.7        16158.1  14531.1   12758.1   11122.0   9380.65  7698.18  6028.28  4273.82  2609.6    880.31  0.0    0.0   0.0\n",
      "     1.11957e5  52185.8  19587.1    3545.49  10793.0   7669.97  2187.25  5666.35  2850.23  1883.9   3000.5   0.0    0.0   0.0 \n",
      " \n",
      "6×14 Matrix{Float64}:\n",
      " 20815.8        11795.4   8530.14  12399.9    7081.79  5476.92  7568.09  4734.75  3131.47  2358.17  1537.12   0.0  1445.0  0.0\n",
      " 21533.5        15920.8  14064.9   12364.9   10664.9   9048.19  7280.9   5720.83  3983.1   1880.56     0.0    0.0     0.0  0.0\n",
      "     1.13021e5  54105.0  13378.2    3781.14   1512.46     0.0      0.0      0.0      0.0      0.0      0.0    0.0     0.0  0.0\n",
      "     1.12929e5  54558.7  16854.3   12791.9    8844.7   9494.42  8224.68  4274.91  2783.26  2885.92     0.0   66.2     0.0  0.0\n",
      " 25361.7        57640.0  14182.2   12802.5   10942.0   9408.49  7499.92  5715.82  4115.84  2307.35   912.6    0.0     0.0  0.0\n",
      "     1.12391e5  45759.4  14832.3    3289.03   9570.14  8049.87  2736.94  5609.34  4287.08  1639.73   737.77   0.0     0.0  0.0 \n",
      " \n",
      "6×14 Matrix{Float64}:\n",
      " 15171.3        11111.4  15881.6   7735.98   7072.61  5941.91  7480.84  4730.54  3140.19  2359.64  1537.12  0.0  1445.0  0.0\n",
      " 21589.0        15945.9  14092.7  12392.7   10692.7   9076.0   7312.85  5745.88  4012.75  1894.5      0.0   0.0     0.0  0.0\n",
      "     1.12909e5  54279.5  13423.7   3796.45   1518.58     0.0      0.0      0.0      0.0      0.0      0.0   0.0     0.0  0.0\n",
      "     1.12936e5  54599.6  17183.0  12726.8    9007.65  9426.06  8166.18  4335.58  2654.62  2841.53     0.0   0.0     0.0  0.0\n",
      " 18020.1        16166.1  14563.0  12766.1   10971.3   9376.42  7535.34  5784.74  4139.8   2373.71   879.2   0.0     0.0  0.0\n",
      "     1.12384e5  44692.7  15102.2   3289.49   9539.6   8049.72  2839.82  5618.45  4554.95  1518.54   704.37  0.0     0.0  0.0 \n",
      " \n",
      "6×14 Matrix{Float64}:\n",
      " 15676.9        10994.6   9218.06   7590.94   7045.45  8244.09  7511.89  4706.12  3057.61  2245.36  1392.62  0.0  0.0  0.0\n",
      " 21339.0        15843.4  13975.0   12275.0   10575.0   8958.35  7172.42  5643.42  3884.98  1843.01     0.0   0.0  0.0  0.0\n",
      "     1.12553e5  54042.8  13362.0    3775.69   1510.28     0.0      0.0      0.0      0.0      0.0      0.0   0.0  0.0  0.0\n",
      "     1.12409e5  54436.9  16650.0   12894.6    9000.91  7325.98  8160.72  5919.65  2729.86  2611.05     0.0   0.0  0.0  0.0\n",
      " 17870.5        52537.0  14332.2   12602.5   10894.0   9216.2   7470.01  5763.78  4061.15  2351.47   717.1   0.0  0.0  0.0\n",
      "     1.12286e5  52846.1  14663.3    3289.79  10688.0   8011.17  2038.52  5378.09  2232.7   1500.64   410.06  0.0  0.0  0.0 \n",
      " \n",
      "6×14 Matrix{Float64}:\n",
      " 18962.2        10540.0   9086.47   7709.65  10244.2   8685.36  7854.86  4403.93  3048.04  2389.34  1437.57  0.0  449.54  0.0\n",
      " 21182.8        16069.5  14113.8   12413.8   10713.8   9097.13  7180.18  5869.54  3965.52  2129.3      0.0   0.0    0.0   0.0\n",
      "     1.12323e5  53887.6  16061.5    3898.87      0.0      0.0      0.0      0.0      0.0      0.0      0.0   0.0    0.0   0.0\n",
      "     1.11605e5  53686.6  15749.3   13047.2    9476.59  9595.88  6380.97  3937.14  3469.81  1409.05     0.0   0.0    0.0   0.0\n",
      "     1.11614e5  16163.2  14578.3   12763.2   10942.7   9371.48  7504.94  5741.29  4114.13  2331.57   874.75  0.0    0.0   0.0\n",
      "     1.12217e5  46839.1  14652.3    3293.25  10227.8   8493.37  2634.63  5296.29  3658.89  1458.89   587.31  0.0    0.0   0.0 \n",
      " \n",
      "6×14 Matrix{Float64}:\n",
      "  17840.8        11109.9   9251.1   7738.73   7105.64  5788.73  7980.74  4324.53  3039.04  2422.67  1444.09  0.0  514.76  0.0\n",
      "  21534.7        15847.0  14056.5  12356.5   10656.5   9039.8   7370.75  5646.95  4018.37  1867.35     0.0   0.0    0.0   0.0\n",
      "      1.12023e5  53830.2  13000.0   4830.09   1932.03     0.0      0.0      0.0      0.0      0.0      0.0   0.0    0.0   0.0\n",
      " 111639.0        53713.9  16248.1  13093.2    9249.61  9575.01  6027.65  3798.81  3128.56  1017.51     0.0   0.0    0.0   0.0\n",
      "  18393.1        16173.9  14605.9  12773.9   10930.1   9380.53  7490.24  5714.75  4103.52  2305.98   884.27  0.0    0.0   0.0\n",
      "      1.11921e5  45700.9  14679.9   3297.98  10043.6   8323.35  2676.45  5163.35  3708.01  1359.48   520.02  0.0    0.0   0.0 \n",
      " \n",
      "6×14 Matrix{Float64}:\n",
      " 14431.9        11006.5  20298.5  13013.2   10758.0  6106.94  6155.54  5545.18  3193.25  1951.69  1392.62  0.0  0.0  0.0\n",
      " 21906.6        16094.9  14304.4  12604.4   10904.4  9287.73  7618.69  5894.88  4266.3   2053.3      0.0   0.0  0.0  0.0\n",
      "     1.13152e5  55280.2  14794.3  13829.3       0.0     0.0      0.0      0.0      0.0      0.0      0.0   0.0  0.0  0.0\n",
      "     1.13074e5  54846.8  19624.2  12497.9   10410.0  9141.22  6959.92  5926.66  3157.85  1158.56   550.42  0.0  0.0  0.0\n",
      " 25487.5        16354.8  19158.9  12954.8   11034.9  9559.26  7583.3   5768.58  4207.8   2360.27  1064.69  0.0  0.0  0.0\n",
      "     1.12985e5  47226.3  19232.9   3414.57  11577.9  8781.4   2819.16  6131.96  4542.21  1217.43   272.2   0.0  0.0  0.0 \n",
      " \n",
      "6×14 Matrix{Float64}:\n",
      "  20765.0        11194.8   9655.38   7258.58  10485.9   6501.72  6895.85  5703.19  3119.22  1896.39  1392.62  0.0  0.0  0.0\n",
      "  21936.2        16114.6  14324.1   12624.1   10924.1   9307.44  7638.39  5914.58  4286.01  2068.08     0.0   0.0  0.0  0.0\n",
      "      1.13147e5  55502.2  13742.4    3903.7    1561.48     0.0      0.0      0.0      0.0      0.0      0.0   0.0  0.0  0.0\n",
      "      1.13382e5  55029.8  19634.0   12462.0   10436.9   8931.85  7033.93  5653.45  2777.9    967.54   688.79  0.0  0.0  0.0\n",
      "  18404.0        16183.0  14556.2   12783.0   11149.2   9405.98  7724.36  6053.85  4296.24  2635.27   909.44  0.0  0.0  0.0\n",
      " 113214.0        47670.2  18841.4   11904.4   11556.2   8676.69  2802.49  6281.23  4628.27  1337.95   117.73  0.0  0.0  0.0 \n",
      " \n"
     ]
    }
   ],
   "source": [
    "for i in 1:50\n",
    "    show(stdout, \"text/plain\", round.(d2[8][i] * 100) /100)\n",
    "    println(\" \")\n",
    "    println(\" \")\n",
    "end"
   ]
  },
  {
   "cell_type": "code",
   "execution_count": 216,
   "id": "2e8c30c1",
   "metadata": {},
   "outputs": [
    {
     "data": {
      "text/plain": [
       "73"
      ]
     },
     "execution_count": 216,
     "metadata": {},
     "output_type": "execute_result"
    }
   ],
   "source": [
    "n_iters = d2[4]"
   ]
  },
  {
   "cell_type": "code",
   "execution_count": 210,
   "id": "f361c7fd",
   "metadata": {},
   "outputs": [
    {
     "data": {
      "text/plain": [
       "Dict{String, Float64} with 2 entries:\n",
       "  \"price_and_branch\" => 3.66444e6\n",
       "  \"master_problem\"   => 2.61759e6"
      ]
     },
     "execution_count": 210,
     "metadata": {},
     "output_type": "execute_result"
    }
   ],
   "source": [
    "obj_values = d2[6]"
   ]
  },
  {
   "cell_type": "code",
   "execution_count": 211,
   "id": "86defe19",
   "metadata": {},
   "outputs": [],
   "source": [
    "allotments2 = d2[7];"
   ]
  },
  {
   "cell_type": "code",
   "execution_count": 212,
   "id": "0b0b7c86",
   "metadata": {},
   "outputs": [
    {
     "name": "stdout",
     "output_type": "stream",
     "text": [
      "6×14 Matrix{Float64}:\n",
      " 0.0    0.0   0.0   0.0  0.0  0.0  0.0   0.0   0.0   8.76  12.85  0.0  0.0  0.0\n",
      " 0.0    0.0   0.0   5.0  3.0  3.0  5.14  6.14  7.14  0.0    0.0   0.0  0.0  0.0\n",
      " 9.41   0.0   0.0   0.0  0.0  0.0  0.0   0.0   0.0   0.0    0.0   0.0  0.0  0.0\n",
      " 4.61  20.0  20.0   0.0  0.0  0.0  0.0   0.0   0.0   0.0    0.0   0.0  0.0  0.0\n",
      " 0.0    0.0   0.0  10.0  9.0  8.0  9.86  8.86  7.86  5.24   0.0   0.0  0.0  0.0\n",
      " 5.98   0.0   0.0   0.0  0.0  0.0  0.0   0.0   0.0   0.0    0.8   0.0  0.0  0.0"
     ]
    }
   ],
   "source": [
    "show(stdout, \"text/plain\", round.(allotments[\"explicit_lr\"] *100) / 100)"
   ]
  },
  {
   "cell_type": "code",
   "execution_count": 213,
   "id": "f4513019",
   "metadata": {},
   "outputs": [
    {
     "name": "stdout",
     "output_type": "stream",
     "text": [
      "6×14 Matrix{Float64}:\n",
      " 0.0    0.0    0.0   0.0   0.0   0.0   0.0   0.0   0.0    0.0   16.03  2.78  0.0  0.0\n",
      " 0.0    0.0    0.08  5.09  3.09  3.09  6.88  5.88  5.88   0.0    0.0   0.0   0.0  0.0\n",
      " 9.0    2.0    0.0   0.0   0.0   0.0   0.0   0.0   0.0    0.0    0.0   0.0   0.0  0.0\n",
      " 5.82  17.44  19.92  2.75  0.0   0.0   0.0   1.84  0.16   0.0    0.0   0.0   0.0  0.0\n",
      " 0.0    0.0    0.0   7.16  8.35  7.35  8.12  6.41  8.95  12.31   0.97  0.65  0.0  0.0\n",
      " 5.18   0.56   0.0   0.0   0.56  0.56  0.0   0.87  0.0    1.69   0.0   0.0   0.0  0.0"
     ]
    }
   ],
   "source": [
    "show(stdout, \"text/plain\", round.(allotments2[\"master_problem\"] * 100) / 100)"
   ]
  },
  {
   "cell_type": "code",
   "execution_count": 214,
   "id": "bf02609f",
   "metadata": {},
   "outputs": [
    {
     "name": "stdout",
     "output_type": "stream",
     "text": [
      "6×14 Matrix{Int8}:\n",
      " 0   0   0  1  1  0   0   1   0  4  17  1  0  0\n",
      " 0   0   0  5  4  4   6   5   4  2   0  0  0  0\n",
      " 9   2   0  0  0  0   0   0   0  0   0  0  0  0\n",
      " 5  18  20  5  0  0   0   0   0  0   0  0  0  0\n",
      " 0   0   0  6  8  8  10  11  12  9   0  0  0  0\n",
      " 6   0   0  0  0  0   0   0   0  0   1  0  0  0"
     ]
    }
   ],
   "source": [
    "show(stdout, \"text/plain\", allotments[\"explicit_int\"])"
   ]
  },
  {
   "cell_type": "code",
   "execution_count": 215,
   "id": "0b56b0f7",
   "metadata": {},
   "outputs": [
    {
     "name": "stdout",
     "output_type": "stream",
     "text": [
      "6×14 Matrix{Int8}:\n",
      "  0   0   0  0  0  0   0  0   0  0  0  0  0  0\n",
      "  0   0   0  0  0  0  18  0  12  0  0  0  0  0\n",
      " 10   0   0  0  0  0   0  0   0  0  0  0  0  0\n",
      "  7  17  18  0  0  0   0  0   0  0  0  0  0  0\n",
      "  0   0   0  0  0  0   0  0   0  0  0  0  0  0\n",
      "  3   1   0  0  1  1   0  0   0  3  0  0  0  0"
     ]
    }
   ],
   "source": [
    "show(stdout, \"text/plain\", allotments2[\"price_and_branch\"])"
   ]
  },
  {
   "cell_type": "code",
   "execution_count": 221,
   "id": "522a15b6",
   "metadata": {},
   "outputs": [
    {
     "data": {
      "text/plain": [
       "11×14 Matrix{Int8}:\n",
       " 20   0   0   0   0   3   0  0   0   0  18  0  0  0\n",
       "  1   0   0   0   3  18   0  0   0   0  20  2  0  0\n",
       "  0   0   0   0   3  18   0  0   0   2  20  0  0  0\n",
       "  0   0   0  18   0  12   0  0   0   0   0  0  0  0\n",
       "  0   0   0   0   0   0  18  0  12   0   0  0  0  0\n",
       "  0   0  12   0  18   0   0  0   0   0   0  0  0  0\n",
       "  0   0   0   0  12  18   0  0   0   0   0  0  0  0\n",
       "  1  15   0   0   0   0   0  0   0  19   0  0  0  0\n",
       "  0  12   0   0  18   0   0  0   0   0   0  0  0  0\n",
       "  1   0   0   0   0   0  14  0   0  20   0  0  0  0\n",
       "  0   0   0   0   0   0  15  0   0  20   0  0  0  0"
      ]
     },
     "execution_count": 221,
     "metadata": {},
     "output_type": "execute_result"
    }
   ],
   "source": [
    "cg_data2.suppression_plans.crews_present[2, 20:30, :]"
   ]
  },
  {
   "cell_type": "markdown",
   "id": "0304a96b",
   "metadata": {},
   "source": [
    "## Dual warm start"
   ]
  },
  {
   "cell_type": "code",
   "execution_count": 222,
   "id": "49ea2c36",
   "metadata": {},
   "outputs": [],
   "source": [
    "params = Dict{String, Any}()\n",
    "params[\"gamma\"] = 0\n",
    "\n",
    "params[\"in_path\"] = \"data/raw/big_fire\"\n",
    "params[\"agg_prec\"] = 10\n",
    "params[\"passive_states\"] = 30\n",
    "params[\"num_fires\"] = 6\n",
    "params[\"num_crews\"] = 20\n",
    "params[\"fire_solver_type\"] = \"dp\"\n",
    "params[\"rho\"] = false\n",
    "\n",
    "params[\"apply_warm_start\"] = false\n",
    "params[\"restore_cost\"] = true\n",
    "\n",
    "params[\"solve_explicit_lin_time_limit\"] = 0\n",
    "params[\"solve_explicit_int_time_limit\"] = 0\n",
    "params[\"cg_time_limit\"] = 60\n",
    "params[\"solve_net_flow_time_limit\"] = 0\n",
    "\n",
    "params[\"max_iters\"] = 500\n",
    "\n",
    "params[\"ws_dual_weight\"] = zeros(params[\"max_iters\"])\n",
    "for i in 11:19\n",
    "    params[\"ws_dual_weight\"][i] = (20 - i) / 10.0 \n",
    "end\n",
    "\n",
    "params[\"int_aware_dual_weight\"] = zeros(params[\"max_iters\"])\n",
    "\n",
    "d3, cg_data3 = run_tests(params);"
   ]
  },
  {
   "cell_type": "code",
   "execution_count": 223,
   "id": "84e2b458",
   "metadata": {},
   "outputs": [
    {
     "data": {
      "text/plain": [
       "Dict{String, Float64} with 2 entries:\n",
       "  \"price_and_branch\" => 3.83216e6\n",
       "  \"master_problem\"   => 2.61385e6"
      ]
     },
     "execution_count": 223,
     "metadata": {},
     "output_type": "execute_result"
    }
   ],
   "source": [
    "obj_values = d3[6]"
   ]
  },
  {
   "cell_type": "markdown",
   "id": "6779832f",
   "metadata": {},
   "source": [
    "## Dual warm start and integrality-aware generation"
   ]
  },
  {
   "cell_type": "code",
   "execution_count": 225,
   "id": "8fa6a199",
   "metadata": {},
   "outputs": [],
   "source": [
    "params = Dict{String, Any}()\n",
    "params[\"gamma\"] = 0\n",
    "\n",
    "params[\"in_path\"] = \"data/raw/big_fire\"\n",
    "params[\"agg_prec\"] = 10\n",
    "params[\"passive_states\"] = 30\n",
    "params[\"num_fires\"] = 6\n",
    "params[\"num_crews\"] = 20\n",
    "params[\"fire_solver_type\"] = \"dp\"\n",
    "params[\"rho\"] = false\n",
    "\n",
    "params[\"apply_warm_start\"] = false\n",
    "params[\"restore_cost\"] = true\n",
    "\n",
    "params[\"solve_explicit_lin_time_limit\"] = 0\n",
    "params[\"solve_explicit_int_time_limit\"] = 0\n",
    "params[\"cg_time_limit\"] = 60\n",
    "params[\"solve_net_flow_time_limit\"] = 0\n",
    "\n",
    "params[\"max_iters\"] = 500\n",
    "\n",
    "params[\"ws_dual_weight\"] = zeros(params[\"max_iters\"])\n",
    "params[\"int_aware_dual_weight\"] = zeros(params[\"max_iters\"])\n",
    "\n",
    "for i in 11:19\n",
    "    params[\"ws_dual_weight\"][i] = (20 - i) / 20.0 \n",
    "    params[\"int_aware_dual_weight\"][i] = (20 - i) / 20.0 \n",
    "end\n",
    "\n",
    "\n",
    "\n",
    "d4, cg_data4 = run_tests(params);"
   ]
  },
  {
   "cell_type": "code",
   "execution_count": 226,
   "id": "fe79ad1c",
   "metadata": {},
   "outputs": [
    {
     "data": {
      "text/plain": [
       "Dict{String, Float64} with 2 entries:\n",
       "  \"price_and_branch\" => 3.6737e6\n",
       "  \"master_problem\"   => 2.60075e6"
      ]
     },
     "execution_count": 226,
     "metadata": {},
     "output_type": "execute_result"
    }
   ],
   "source": [
    "obj_values = d4[6]"
   ]
  },
  {
   "cell_type": "markdown",
   "id": "507bf77e",
   "metadata": {},
   "source": [
    "Eventually want cost update param to go to false, need to nix warm start perturbations if so"
   ]
  },
  {
   "cell_type": "code",
   "execution_count": 129,
   "id": "a14afa06",
   "metadata": {},
   "outputs": [],
   "source": [
    "AGG_PREC = 30\n",
    "PASSIVE_STATES = 5\n",
    "ws, e = warm_start_suppression_plans(10, fire_configs, r_data, c_data, rotation_order, arc_costs, \n",
    "                                                         0, false, false, 60);"
   ]
  },
  {
   "cell_type": "code",
   "execution_count": null,
   "id": "991559f0",
   "metadata": {},
   "outputs": [],
   "source": []
  },
  {
   "cell_type": "code",
   "execution_count": 134,
   "id": "8345e7e1",
   "metadata": {},
   "outputs": [
    {
     "ename": "LoadError",
     "evalue": "MethodError: no method matching master_problem(::RouteData, ::SuppressionPlanData, ::RegionData, ::Dict{Any, Any}, ::Int64, ::Bool)\n\u001b[0mClosest candidates are:\n\u001b[0m  master_problem(::Any, ::Any, ::Any, ::Any, ::Any, ::Any, \u001b[91m::Any\u001b[39m) at In[23]:1",
     "output_type": "error",
     "traceback": [
      "MethodError: no method matching master_problem(::RouteData, ::SuppressionPlanData, ::RegionData, ::Dict{Any, Any}, ::Int64, ::Bool)\n\u001b[0mClosest candidates are:\n\u001b[0m  master_problem(::Any, ::Any, ::Any, ::Any, ::Any, ::Any, \u001b[91m::Any\u001b[39m) at In[23]:1",
      "",
      "Stacktrace:",
      " [1] top-level scope",
      "   @ In[134]:1",
      " [2] eval",
      "   @ .\\boot.jl:373 [inlined]",
      " [3] include_string(mapexpr::typeof(REPL.softscope), mod::Module, code::String, filename::String)",
      "   @ Base .\\loading.jl:1196"
     ]
    }
   ],
   "source": [
    "mp = master_problem(cg_data.routes, cg_data.suppression_plans, r_data, rotation_order, 0, false)\n",
    "optimize!(mp[\"m\"])"
   ]
  },
  {
   "cell_type": "code",
   "execution_count": 236,
   "id": "025d082f",
   "metadata": {},
   "outputs": [
    {
     "data": {
      "text/plain": [
       "(1.233421684173805e6, 953997.392347177)"
      ]
     },
     "execution_count": 236,
     "metadata": {},
     "output_type": "execute_result"
    }
   ],
   "source": [
    "sum(dual.(e[\"f_linking\"])), sum(dual.(mp[\"rho\"]))"
   ]
  },
  {
   "cell_type": "code",
   "execution_count": 237,
   "id": "1c40aeba",
   "metadata": {},
   "outputs": [
    {
     "data": {
      "text/plain": [
       "(2.802550118532975e6, 2.6239251503669736e6)"
      ]
     },
     "execution_count": 237,
     "metadata": {},
     "output_type": "execute_result"
    }
   ],
   "source": [
    "objective_value(e[\"m\"]), objective_value(mp[\"m\"])"
   ]
  },
  {
   "cell_type": "code",
   "execution_count": 131,
   "id": "da09e627",
   "metadata": {
    "scrolled": true
   },
   "outputs": [
    {
     "ename": "LoadError",
     "evalue": "MethodError: no method matching getindex(::Int64, ::String)\n\u001b[0mClosest candidates are:\n\u001b[0m  getindex(::Number) at C:\\Users\\mit\\AppData\\Local\\Programs\\Julia-1.7.1\\share\\julia\\base\\number.jl:95\n\u001b[0m  getindex(::Union{AbstractChar, Number}, \u001b[91m::CartesianIndex{0}\u001b[39m) at C:\\Users\\mit\\AppData\\Local\\Programs\\Julia-1.7.1\\share\\julia\\base\\multidimensional.jl:831\n\u001b[0m  getindex(::Number, \u001b[91m::Integer\u001b[39m) at C:\\Users\\mit\\AppData\\Local\\Programs\\Julia-1.7.1\\share\\julia\\base\\number.jl:96\n\u001b[0m  ...",
     "output_type": "error",
     "traceback": [
      "MethodError: no method matching getindex(::Int64, ::String)\n\u001b[0mClosest candidates are:\n\u001b[0m  getindex(::Number) at C:\\Users\\mit\\AppData\\Local\\Programs\\Julia-1.7.1\\share\\julia\\base\\number.jl:95\n\u001b[0m  getindex(::Union{AbstractChar, Number}, \u001b[91m::CartesianIndex{0}\u001b[39m) at C:\\Users\\mit\\AppData\\Local\\Programs\\Julia-1.7.1\\share\\julia\\base\\multidimensional.jl:831\n\u001b[0m  getindex(::Number, \u001b[91m::Integer\u001b[39m) at C:\\Users\\mit\\AppData\\Local\\Programs\\Julia-1.7.1\\share\\julia\\base\\number.jl:96\n\u001b[0m  ...",
      "",
      "Stacktrace:",
      " [1] top-level scope",
      "   @ In[131]:1",
      " [2] eval",
      "   @ .\\boot.jl:373 [inlined]",
      " [3] include_string(mapexpr::typeof(REPL.softscope), mod::Module, code::String, filename::String)",
      "   @ Base .\\loading.jl:1196"
     ]
    }
   ],
   "source": [
    "dual.(mp[\"rho\"])[:, 1:7]"
   ]
  },
  {
   "cell_type": "code",
   "execution_count": 136,
   "id": "d92329cd",
   "metadata": {},
   "outputs": [
    {
     "data": {
      "text/plain": [
       "6×7 Matrix{Float64}:\n",
       " 6947.79  5425.06  3902.33  2665.23  1523.34   153.196   0.0\n",
       " 8165.02  6618.15  4226.06  1298.14     0.0      0.0     4.41113\n",
       "    0.0      0.0      0.0      0.0      0.0      0.0     0.0\n",
       " 8092.24  6392.24  4692.24  2992.24  1292.24     0.0     0.0\n",
       " 8126.87  6434.95  4743.03  3051.11  1455.92     0.0    71.1542\n",
       " 6782.41  6445.02  4695.02  2356.01   956.014    0.0     0.0"
      ]
     },
     "execution_count": 136,
     "metadata": {},
     "output_type": "execute_result"
    }
   ],
   "source": [
    "dual.(e[\"f_linking\"])[:, 8:14]"
   ]
  },
  {
   "cell_type": "code",
   "execution_count": 240,
   "id": "3f6f4fb0",
   "metadata": {},
   "outputs": [],
   "source": [
    "using Statistics"
   ]
  },
  {
   "cell_type": "code",
   "execution_count": 241,
   "id": "4329d419",
   "metadata": {},
   "outputs": [
    {
     "data": {
      "text/plain": [
       "0.9858512890371494"
      ]
     },
     "execution_count": 241,
     "metadata": {},
     "output_type": "execute_result"
    }
   ],
   "source": [
    "cor(vec(dual.(mp[\"rho\"])), vec(dual.(e[\"f_linking\"])))"
   ]
  },
  {
   "cell_type": "code",
   "execution_count": 59,
   "id": "7f9372ec",
   "metadata": {},
   "outputs": [
    {
     "name": "stdout",
     "output_type": "stream",
     "text": [
      "\u001b[1m1×9 DataFrame\u001b[0m\n",
      "\u001b[1m Row \u001b[0m│\u001b[1m fire_sp_type \u001b[0m\u001b[1m total_V \u001b[0m\u001b[1m total_E \u001b[0m\u001b[1m iters \u001b[0m\u001b[1m ws_time \u001b[0m\u001b[1m cg_time \u001b[0m\u001b[1m gurobi_time \u001b[0m\u001b[1m lr_pct_gap \u001b[0m\u001b[1m pb_pct_gap \u001b[0m\n",
      "\u001b[1m     \u001b[0m│\u001b[90m Any          \u001b[0m\u001b[90m Any     \u001b[0m\u001b[90m Any     \u001b[0m\u001b[90m Any   \u001b[0m\u001b[90m Any     \u001b[0m\u001b[90m Any     \u001b[0m\u001b[90m Any         \u001b[0m\u001b[90m Any        \u001b[0m\u001b[90m Any        \u001b[0m\n",
      "─────┼──────────────────────────────────────────────────────────────────────────────────────────────\n",
      "   1 │ dp            240      12628    62     2.01826  42.2911  0.409122     7.33501     105.88"
     ]
    }
   ],
   "source": [
    "gamma = 0\n",
    "\n",
    "\n",
    "v_s = [0]\n",
    "e_s = [0]\n",
    "\n",
    "agg_pass = [(30, 5, \"dp\", true),\n",
    "            (20, 10, \"dp\", true),\n",
    "            (10, 30, \"dp\", true),\n",
    "            (5, 50, \"dp\", true),\n",
    "            (2, 50, \"dp\", true),\n",
    "            (1, 50, \"dp\", true)]\n",
    "\n",
    "agg_pass = [(30, 5, \"dp\", true)]\n",
    "\n",
    "\n",
    "rhos = []\n",
    "df = DataFrame(fire_sp_type=[], total_V=[], total_E=[], iters=[], ws_time=[], cg_time=[], gurobi_time=[], lr_pct_gap=[], pb_pct_gap=[])\n",
    "for param in agg_pass\n",
    "    \n",
    "    AGG_PREC = param[1]\n",
    "    PASSIVE_STATES = param[2]\n",
    "    \n",
    "    fire_solver_configs = [Dict{String,Any}(\"solver_type\" => param[3]) for fire in 1:NUM_FIRES]\n",
    "\n",
    "    max_plans = 1000\n",
    "    col_gen_data = initialize_column_generation(A, arc_costs, c_data, fire_configs, fire_solver_configs, max_plans)\n",
    "    \n",
    "    if param[3] == \"dp\"\n",
    "        v_s = [size(col_gen_data.plan_sps[i][\"graphs\"][\"ceiling\"])[1] for i in 1:NUM_FIRES]\n",
    "\n",
    "        e_s = [sum([length(col_gen_data.plan_sps[k][\"graphs\"][\"ceiling\"][i, j]) \n",
    "                  for i in 1:size(col_gen_data.plan_sps[k][\"graphs\"][\"ceiling\"])[1],\n",
    "                      j in 1:size(col_gen_data.plan_sps[k][\"graphs\"][\"ceiling\"])[2]\n",
    "                      if isassigned(col_gen_data.plan_sps[k][\"graphs\"][\"ceiling\"], i, j)\n",
    "                    ]\n",
    "                   )\n",
    "               for k = 1:NUM_FIRES]\n",
    "    end\n",
    "    \n",
    "    AGG_PREC = 30\n",
    "    PASSIVE_STATES = 5\n",
    "    \n",
    "    ws_time = 0\n",
    "    ws_time = @elapsed ws, ws_dict = warm_start_suppression_plans(10, fire_configs, r_data, c_data, rotation_order, arc_costs, \n",
    "                                                         gamma, false, false, 3600)\n",
    "    ws_duals = dual.(ws_dict[\"f_linking\"])\n",
    "    ws_duals = ws_duals * 0\n",
    "\n",
    "#     for fire in 1:NUM_FIRES\n",
    "#         ws_fire = ws[fire]\n",
    "#         for plan in ws_fire\n",
    "#             cost = get_fire_cost(plan, fire_configs[fire])\n",
    "#             update_available_supp_plans(fire, cost, plan, col_gen_data.suppression_plans)\n",
    "#         end\n",
    "#     end\n",
    "    \n",
    "    \n",
    "    AGG_PREC = param[1]\n",
    "    PASSIVE_STATES = param[2]\n",
    "\n",
    "    \n",
    "    current_num_routes = copy(col_gen_data.routes.routes_per_crew)\n",
    "    current_num_plans = copy(col_gen_data.suppression_plans.plans_per_fire)\n",
    "\n",
    "    objs = []\n",
    "    max_iters = 500\n",
    "    n_iters = 0\n",
    "    opt = false\n",
    "    tot_time = 0\n",
    "    max_time = 60\n",
    "    col_gen_config = Dict{String,Any}(\"ws_dual\" => ws_duals)\n",
    "    \n",
    "    while (~opt) & (n_iters < max_iters) & (tot_time < max_time)\n",
    "\n",
    "        n_iters += 1\n",
    "        if 10 < n_iters < 20\n",
    "            col_gen_config[\"ws_dual_weight\"] = 0\n",
    "        else\n",
    "            col_gen_config[\"ws_dual_weight\"] = 0\n",
    "        end\n",
    "        \n",
    "        \n",
    "        tot_time += @elapsed mp = run_CG_step(col_gen_data, A, arc_costs, g_data, r_data, fire_configs, \n",
    "                                              fire_solver_configs, col_gen_config, rotation_order, gamma, param[4])\n",
    "        push!(objs, objective_value(mp[\"m\"]))\n",
    "        push!(rhos, dual.(mp[\"rho\"]))\n",
    "\n",
    "        next_num_routes = col_gen_data.routes.routes_per_crew\n",
    "        next_num_plans = col_gen_data.suppression_plans.plans_per_fire\n",
    "\n",
    "        if (sum(next_num_routes) == sum(current_num_routes)) & (sum(next_num_plans) == sum(current_num_plans))\n",
    "            opt = true\n",
    "        end\n",
    "\n",
    "        current_num_routes = copy(next_num_routes)\n",
    "        current_num_plans = copy(next_num_plans)\n",
    "\n",
    "    end\n",
    "    m, p, l, z, q, oor, linking = full_formulation(true, r_data, c_data, rotation_order, arc_costs, \n",
    "                              progressions, start_perims, BETA, gamma)\n",
    "    optimize!(m)\n",
    "    \n",
    "    m2, p, l, z, q, oor, linking = full_formulation(false, r_data, c_data, rotation_order, arc_costs, \n",
    "                              progressions, start_perims, BETA, 0)\n",
    "    gur_time = @elapsed optimize!(m2)\n",
    "    \n",
    "    pb = master_problem(col_gen_data.routes, col_gen_data.suppression_plans, r_data, rotation_order, gamma, true)\n",
    "    optimize!(pb[\"m\"])\n",
    "    # pct_gap_30 = 100 * (objs[30] / objs[length(objs)] - 1)\n",
    "\n",
    "    pb_true_gap = 100 * (objective_value(pb[\"m\"]) / objective_value(m) - 1)\n",
    "    cg_lr_gap = 100 * (objs[length(objs)] / objective_value(m2) - 1)\n",
    "    \n",
    "    push!(df, [fire_solver_configs[1][\"solver_type\"], sum(v_s), sum(e_s), n_iters, ws_time, tot_time, gur_time, cg_lr_gap, pb_true_gap])\n",
    "end\n",
    "\n",
    "show(df, allcols=true)"
   ]
  },
  {
   "cell_type": "code",
   "execution_count": 561,
   "id": "79bf64a1",
   "metadata": {},
   "outputs": [
    {
     "data": {
      "text/plain": [
       "get_cost (generic function with 2 methods)"
      ]
     },
     "execution_count": 561,
     "metadata": {},
     "output_type": "execute_result"
    }
   ],
   "source": [
    "function get_cost(fire_arc, states, dual_linking)\n",
    "    \n",
    "    cost = 0\n",
    "    if (fire_arc[3] == 1) | (fire_arc[3] == NUM_TIME_PERIODS) \n",
    "        cost = states[fire_arc[4]] / 2\n",
    "    else\n",
    "        cost = states[fire_arc[4]]\n",
    "    end\n",
    "    \n",
    "    cost += fire_arc[5] * dual_linking[fire_arc[1], fire_arc[3]]\n",
    "    \n",
    "    return cost\n",
    "end"
   ]
  },
  {
   "cell_type": "code",
   "execution_count": 562,
   "id": "592c7ad3",
   "metadata": {},
   "outputs": [
    {
     "data": {
      "text/plain": [
       "generate_fire_arcs (generic function with 1 method)"
      ]
     },
     "execution_count": 562,
     "metadata": {},
     "output_type": "execute_result"
    }
   ],
   "source": [
    "function generate_fire_arcs(g, progs, perims)\n",
    "    \n",
    "    # get the progressions for this specific fire\n",
    "    fire_progs = progs[g, :]\n",
    "    \n",
    "    no_supp = [perims[g]]\n",
    "    for i in 1:NUM_TIME_PERIODS\n",
    "        push!(no_supp, no_supp[i] * progs[i])\n",
    "    end\n",
    "\n",
    "    aggressive_precision = 15\n",
    "    num_aggressive_states = convert(Int, round(perims[g] * 2 / aggressive_precision))\n",
    "    num_passive_states = 30\n",
    "\n",
    "    aggressive_states = LinRange(0, num_aggressive_states * aggressive_precision, num_aggressive_states)\n",
    "    passive_states = exp.(LinRange(log(num_aggressive_states * aggressive_precision+ 1), maximum(log.(no_supp .+ 1)), num_passive_states + 1))\n",
    "    passive_states = passive_states[2:num_passive_states+1] .- 1\n",
    "    all_states = vcat(aggressive_states, passive_states)\n",
    "    all_states = vcat(all_states, 9999999)\n",
    "\n",
    "    # generate arcs\n",
    "    states_appended = copy(all_states)\n",
    "    push!(states_appended, start_perims[g])\n",
    "    s = length(all_states)\n",
    "    crews_needed = Array{Vector}(undef, s + 1, NUM_TIME_PERIODS + 1)\n",
    "    curr_time = 1\n",
    "    state_name = 0\n",
    "    next_to_check = [s + 1]\n",
    "\n",
    "    while curr_time < NUM_TIME_PERIODS + 1\n",
    "\n",
    "        to_check = copy(next_to_check)\n",
    "        next_to_check = []\n",
    "\n",
    "        for check in to_check\n",
    "            curr_state = states_appended[check]\n",
    "\n",
    "            if check != s\n",
    "                edges = get_alphas(curr_state, fire_progs[curr_time], all_states)\n",
    "            else\n",
    "                edges = [(s, 0)]\n",
    "            end\n",
    "\n",
    "            for edge in edges\n",
    "                crews_needed[check, curr_time] = edges\n",
    "            end\n",
    "            next_to_check = vcat(next_to_check, [edges[i][1] for i in 1:length(edges) if ~(edges[i][1] in next_to_check)])\n",
    "        end\n",
    "        curr_time += 1\n",
    "    end\n",
    "    \n",
    "    visitable = [(i,j) for i in 1:size(crews_needed)[1], j in 1:size(crews_needed)[2] if isassigned(crews_needed, i, j)]\n",
    "    \n",
    "    edges = []\n",
    "\n",
    "    for (i, j) in visitable\n",
    "        push!(edges, copy(reduce(hcat, [[i, j, a[1], a[2]] for a in crews_needed[i, j]])'))\n",
    "    end\n",
    "    \n",
    "    arc_array = reduce(vcat, edges)\n",
    "    \n",
    "    # add crew to front\n",
    "    arc_array = hcat(convert.(Int, zeros(length(arc_array[:, 1]))) .+ g, arc_array)\n",
    "    \n",
    "    return crews_needed, arc_array, states_appended\n",
    "end"
   ]
  },
  {
   "cell_type": "code",
   "execution_count": 194,
   "id": "810e9668",
   "metadata": {},
   "outputs": [
    {
     "data": {
      "text/plain": [
       "get_crews_needed_for_transition (generic function with 2 methods)"
      ]
     },
     "execution_count": 194,
     "metadata": {},
     "output_type": "execute_result"
    }
   ],
   "source": [
    "function get_crews_needed_for_transition(state_1, state_2, prog, line_per_crew, round_type)\n",
    "    \n",
    "    crews = 2 / line_per_crew * (prog * state_1 - state_2) / (1 + prog)\n",
    "    \n",
    "    if round_type == \"nearest\"\n",
    "        crews = convert(Int, round(crews))\n",
    "    \n",
    "    elseif round_type == \"ceiling\"\n",
    "        crews = convert(Int, ceil(crews - 0.0001))\n",
    "    end\n",
    "    \n",
    "    return max(crews, 0) \n",
    "    \n",
    "end "
   ]
  },
  {
   "cell_type": "code",
   "execution_count": 563,
   "id": "dd84cca6",
   "metadata": {},
   "outputs": [],
   "source": [
    "graph, fire_arc_arr, fire_states = generate_fire_arcs(2, progressions, start_perims);"
   ]
  },
  {
   "cell_type": "code",
   "execution_count": 9,
   "id": "f8087d4b",
   "metadata": {},
   "outputs": [
    {
     "ename": "LoadError",
     "evalue": "syntax: incomplete: \"function\" at In[9]:1 requires end",
     "output_type": "error",
     "traceback": [
      "syntax: incomplete: \"function\" at In[9]:1 requires end",
      "",
      "Stacktrace:",
      " [1] top-level scope",
      "   @ In[9]:1",
      " [2] eval",
      "   @ .\\boot.jl:373 [inlined]",
      " [3] include_string(mapexpr::typeof(REPL.softscope), mod::Module, code::String, filename::String)",
      "   @ Base .\\loading.jl:1196"
     ]
    }
   ],
   "source": [
    "function get_out_of_region_stats(region, arcs_used, region_data)\n",
    "    \"\"\"\n",
    "    \"\"\"\n",
    "    \n",
    "    # restrict to the arcs that exited the given region\n",
    "    out_of_region_ixs = [i for i in length(arcs_used[:, 1]) if arcs_used[i, 10] == region]\n",
    "    out_of_region_arcs = arcs_used[out_of_region_ixs, :]\n",
    "    \n",
    "    # get the crews associated with this region\n",
    "    crews = [i for i in 1:length(region_data.crew_regions) if region_data.crew_regions[i] == region]\n",
    "    \n",
    "    # initialize output array of indicator variables for crews exiting region\n",
    "    out_array = zeros(length(crews), NUM_TIME_PERIODS)\n",
    "    \n",
    "    # for each crew in the region\n",
    "    for i in 1:length(crews)\n",
    "        \n",
    "        # restrict to the arcs involving this crew\n",
    "        crew_ixs = [j for j in length(out_of_region_arcs[:, 1]) if arcs_used[j, 1] == crews[i]]\n",
    "        crew_arcs = out_of_region_arcs[crew_ixs, :]\n",
    "        \n",
    "        # get the times of rotation\n",
    "        rotation_times = [t in crew_arcs[:, 6] ? 1 : 0 for t in 1:NUM_TIME_PERIODS]\n",
    "        \n",
    "        # update output for crew\n",
    "        out_array[i, :] = rotation_times\n",
    "        \n",
    "    end\n",
    "    \n",
    "    return out_array\n",
    "end"
   ]
  }
 ],
 "metadata": {
  "kernelspec": {
   "display_name": "Julia 1.7.1",
   "language": "julia",
   "name": "julia-1.7"
  },
  "language_info": {
   "file_extension": ".jl",
   "mimetype": "application/julia",
   "name": "julia",
   "version": "1.7.1"
  }
 },
 "nbformat": 4,
 "nbformat_minor": 5
}
