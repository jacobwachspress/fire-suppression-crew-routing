{
 "cells": [
  {
   "cell_type": "code",
   "execution_count": 2,
   "id": "34567121",
   "metadata": {},
   "outputs": [
    {
     "name": "stdout",
     "output_type": "stream",
     "text": [
      "Academic license - for non-commercial use only\r\n"
     ]
    },
    {
     "data": {
      "text/plain": [
       "Gurobi.Env(Ptr{Nothing} @0x0000000084000080, false, 0)"
      ]
     },
     "execution_count": 2,
     "metadata": {},
     "output_type": "execute_result"
    }
   ],
   "source": [
    "using DataFrames, CSV, DelimitedFiles, JuMP, Gurobi\n",
    "const GRB_ENV = Gurobi.Env()"
   ]
  },
  {
   "cell_type": "code",
   "execution_count": 3,
   "id": "81a26ef6",
   "metadata": {},
   "outputs": [
    {
     "data": {
      "text/plain": [
       "2"
      ]
     },
     "execution_count": 3,
     "metadata": {},
     "output_type": "execute_result"
    }
   ],
   "source": [
    "NUM_CREWS = 10                \n",
    "BREAK_LENGTH = 2       # how long at base to be considered \"rested\"\n",
    "\n",
    "# tradeoffs\n",
    "BETA = 100             # cost of one area unit burned / cost of mile traveled\n",
    "ALPHA = 200            # cost of crew-day of suppression / cost of mile traveled\n",
    "LINE_PER_CREW = 17     # how much perimeter prevented per crew per time period\n",
    "\n",
    "FIRE_CODE = 1\n",
    "BASE_CODE = 2"
   ]
  },
  {
   "cell_type": "code",
   "execution_count": 4,
   "id": "d08d7c6e",
   "metadata": {},
   "outputs": [],
   "source": [
    "struct GlobalData\n",
    "    \n",
    "    ff_dist::Matrix{Float64}\n",
    "    bf_dist::Matrix{Float64}\n",
    "    ff_tau::Matrix{Int64}\n",
    "    bf_tau::Matrix{Int64}\n",
    "    \n",
    "end\n",
    "\n",
    "struct CrewStatus\n",
    "    \n",
    "    rest_by::Vector{Int64}\n",
    "    current_fire::Vector{Int64}\n",
    "    rested_periods::Vector{Int64}\n",
    "    \n",
    "end\n",
    "\n",
    "struct RegionData\n",
    "    \n",
    "    crew_regions::Vector{Int64}\n",
    "    fire_regions::Vector{Int64}\n",
    "    \n",
    "end\n",
    "\n",
    "\n",
    "struct KeyArcIndices\n",
    "    \n",
    "    # fire flow data\n",
    "    f_out::Array{Vector{Int64}}\n",
    "    f_in::Array{Vector{Int64}}\n",
    "    \n",
    "    # base flow data\n",
    "    b_out::Array{Vector{Int64}}\n",
    "    b_in::Array{Vector{Int64}}\n",
    "    \n",
    "    # total crews suppressing each fire\n",
    "    supp_fire::Array{Vector{Int64}}\n",
    "    \n",
    "    # start constraints\n",
    "    start::Array{Vector{Int64}}\n",
    "    \n",
    "    # assignments out of region\n",
    "    out_of_region::Array{Vector{Int64}}\n",
    "    \n",
    "end \n",
    "\n",
    "mutable struct RouteData\n",
    "    \n",
    "    routes_per_crew::Vector{Int64} # could add in length\n",
    "    route_costs::Matrix{Float64}\n",
    "    fires_fought::BitArray{4}\n",
    "    out_of_reg::BitArray{3}\n",
    "    \n",
    "end\n",
    "\n",
    "mutable struct SuppressionPlanData\n",
    "    \n",
    "    plans_per_fire::Vector{Int64} # could add in length\n",
    "    plan_costs::Matrix{Float64}\n",
    "    crews_present::Array{Int8, 3}\n",
    "    \n",
    "end\n",
    "\n"
   ]
  },
  {
   "cell_type": "code",
   "execution_count": 5,
   "id": "de4eca73",
   "metadata": {},
   "outputs": [],
   "source": [
    "struct ColumnGeneration\n",
    "    \n",
    "    route_sps::Vector{Any}\n",
    "    plan_sps::Vector{Any}\n",
    "    routes::RouteData\n",
    "    suppression_plans::SuppressionPlanData\n",
    "    \n",
    "end"
   ]
  },
  {
   "cell_type": "code",
   "execution_count": 6,
   "id": "ac38f149",
   "metadata": {},
   "outputs": [
    {
     "data": {
      "text/plain": [
       "get_rotation_orders (generic function with 1 method)"
      ]
     },
     "execution_count": 6,
     "metadata": {},
     "output_type": "execute_result"
    }
   ],
   "source": [
    "function get_rotation_orders(crew_regions)\n",
    "    \n",
    "    # initialize output\n",
    "    out = Dict()\n",
    "    \n",
    "    # get the unique regions where there are crews\n",
    "    regions = unique(crew_regions)\n",
    "    \n",
    "    # for each region\n",
    "    for region in regions\n",
    "        \n",
    "        # initialize dictionary corresponding to the order\n",
    "        out[region] = Dict() \n",
    "        crews_in_region = 0\n",
    "        \n",
    "        # for each crew in the region\n",
    "        for crew in 1:NUM_CREWS\n",
    "            \n",
    "            if crew_regions[crew] == region\n",
    "                \n",
    "                # update crew count, log rotation order \n",
    "                crews_in_region += 1\n",
    "                out[region][crew] = crews_in_region\n",
    "            end\n",
    "        end\n",
    "    end\n",
    "    \n",
    "    return out\n",
    "end"
   ]
  },
  {
   "cell_type": "code",
   "execution_count": 7,
   "id": "f4b512e5",
   "metadata": {},
   "outputs": [],
   "source": [
    "# crew, from_type, from_ix, to_type, to_ix, from_time, to_time, from_rested, to_rested, exited_region"
   ]
  },
  {
   "cell_type": "code",
   "execution_count": 8,
   "id": "3e851737",
   "metadata": {},
   "outputs": [
    {
     "data": {
      "text/plain": [
       "arc_exits_region (generic function with 1 method)"
      ]
     },
     "execution_count": 8,
     "metadata": {},
     "output_type": "execute_result"
    }
   ],
   "source": [
    "function arc_exits_region(crew, from_type, from_ix, to_type, to_ix, region_data)\n",
    "    \n",
    "    # get the region where the arc originates\n",
    "    from_region = 0\n",
    "    if from_type == FIRE_CODE\n",
    "        from_region = region_data.fire_regions[from_ix]\n",
    "    elseif from_type == BASE_CODE\n",
    "        from_region = region_data.crew_regions[from_ix]\n",
    "    else\n",
    "        throw(DomainError(from_type, \"from_type invalid\"))\n",
    "    end\n",
    "    \n",
    "    # get the region where the arc terminates\n",
    "    to_region = 0\n",
    "    if to_type == FIRE_CODE\n",
    "        to_region = region_data.fire_regions[to_ix]\n",
    "    elseif to_type == BASE_CODE\n",
    "        to_region = region_data.crew_regions[to_ix]\n",
    "    else\n",
    "        throw(DomainError(from_type, \"to_type invalid\"))\n",
    "    end\n",
    "    \n",
    "    # if these are different regions\n",
    "    if from_region != to_region\n",
    "        \n",
    "        # if the crew is leaving its home region\n",
    "        if region_data.crew_regions[crew] == from_region\n",
    "        \n",
    "            # return the region that the arc exited\n",
    "            return from_region\n",
    "        \n",
    "        end\n",
    "        \n",
    "    end\n",
    "    \n",
    "    # otherwise\n",
    "    return 0\n",
    "    \n",
    "end     "
   ]
  },
  {
   "cell_type": "code",
   "execution_count": 9,
   "id": "05fc0a5e",
   "metadata": {},
   "outputs": [
    {
     "data": {
      "text/plain": [
       "generate_arcs (generic function with 1 method)"
      ]
     },
     "execution_count": 9,
     "metadata": {},
     "output_type": "execute_result"
    }
   ],
   "source": [
    "function generate_arcs(gd, rd, cs)\n",
    "    \n",
    "    # get fire-to-fire arcs\n",
    "    ff = [[c, FIRE_CODE, f_from, FIRE_CODE, f_to, t_from, t_from + gd.ff_tau[f_to, f_from], rest, rest]\n",
    "          for c=1:NUM_CREWS, f_from=1:NUM_FIRES, f_to=1:NUM_FIRES, t_from=1:NUM_TIME_PERIODS, rest=0:1]\n",
    "    ff = copy(reduce(hcat, ff)')\n",
    "\n",
    "    # get fire-to-fire arcs from start, based on cs.current crew locations\n",
    "    from_start_ff = [[c, FIRE_CODE, cs.current_fire[c], FIRE_CODE, f_to, 0, gd.ff_tau[f_to, cs.current_fire[c]], 0, 0]\n",
    "                      for c=1:NUM_CREWS, f_to=1:NUM_FIRES if cs.current_fire[c] != -1]\n",
    "    from_start_ff = copy(reduce(hcat, from_start_ff)')\n",
    "\n",
    "    # get base-to-fire arcs\n",
    "    rf = [[c, BASE_CODE, c, FIRE_CODE, f_to, t_from, t_from + gd.bf_tau[c, f_to], rest, rest]\n",
    "           for c=1:NUM_CREWS, f_to=1:NUM_FIRES, t_from=1:NUM_TIME_PERIODS, rest=0:1]\n",
    "    rf = copy(reduce(hcat, rf)')\n",
    "\n",
    "    # get base-to-fire arcs from start\n",
    "    from_start_rf = [[c, BASE_CODE, c, FIRE_CODE, f_to, 0, gd.bf_tau[c, f_to], 0, 0]\n",
    "                      for c=1:NUM_CREWS, f_to=1:NUM_FIRES if cs.current_fire[c] == -1]\n",
    "    from_start_rf = copy(reduce(hcat, from_start_rf)')\n",
    "\n",
    "    # get fire-to-base arcs\n",
    "    fr = [[c, FIRE_CODE, f_from, BASE_CODE, c, t_from, t_from + gd.bf_tau[c, f_from], rest, rest]\n",
    "           for c=1:NUM_CREWS, f_from=1:NUM_FIRES, t_from=1:NUM_TIME_PERIODS, rest=0:1]\n",
    "    fr = copy(reduce(hcat, fr)')\n",
    "\n",
    "    # get fire-to-base arcs from start, based on cs.current crew locations\n",
    "    from_start_fr = [[c, FIRE_CODE, cs.current_fire[c], BASE_CODE, c, 0, gd.bf_tau[c, cs.current_fire[c]], 0, 0]\n",
    "                      for c=1:NUM_CREWS if cs.current_fire[c] != -1]\n",
    "    from_start_fr = copy(reduce(hcat, from_start_fr)')\n",
    "\n",
    "    # get base-to-base arcs\n",
    "    rr = [[c, BASE_CODE, c, BASE_CODE, c, t_from, t_from + 1 + (BREAK_LENGTH - 1) * rest, 0, rest]\n",
    "          for c=1:NUM_CREWS, t_from=1:NUM_TIME_PERIODS, rest=0:1]\n",
    "    rr = copy(reduce(hcat, rr)')\n",
    "    rr_rested = [[c, BASE_CODE, c, BASE_CODE, c, t_from, t_from + 1, 1, 1]\n",
    "          for c=1:NUM_CREWS, t_from=1:NUM_TIME_PERIODS]\n",
    "    rr_rested  = copy(reduce(hcat, rr_rested)')\n",
    "\n",
    "    # get base-to-base arcs from start, based on cs.current days rested\n",
    "    from_start_rr = [[c, BASE_CODE, c, BASE_CODE, c, 0, \n",
    "                      1 + (BREAK_LENGTH - max(cs.rested_periods[c], 0) - 1) * rest, 0, rest] \n",
    "                      for c=1:NUM_CREWS, rest=0:1 if cs.current_fire[c] == -1]\n",
    "    from_start_rr = copy(reduce(hcat, from_start_rr)')\n",
    "\n",
    "    A = vcat(ff, from_start_ff, rf, from_start_rf, fr, from_start_fr, rr, rr_rested, from_start_rr)\n",
    "\n",
    "    out_of_region = [arc_exits_region(A[i, 1], A[i, 2], A[i, 3], A[i, 4], A[i, 5], rd) \n",
    "                     for i in 1:length(A[:, 1])]\n",
    "    A = hcat(A, out_of_region)\n",
    "    \n",
    "    return A\n",
    "end"
   ]
  },
  {
   "cell_type": "code",
   "execution_count": 10,
   "id": "63e7f29a",
   "metadata": {},
   "outputs": [
    {
     "data": {
      "text/plain": [
       "get_distance (generic function with 1 method)"
      ]
     },
     "execution_count": 10,
     "metadata": {},
     "output_type": "execute_result"
    }
   ],
   "source": [
    "function get_distance(from_type, from_ix, to_type, to_ix, fire_fire, base_fire)\n",
    "    \n",
    "    dist = 0\n",
    "    \n",
    "    # if fire to fire\n",
    "    if (from_type == FIRE_CODE) & (to_type == FIRE_CODE)\n",
    "        dist = fire_fire[from_ix, to_ix]\n",
    "    \n",
    "    # if fire to base\n",
    "    elseif (from_type == FIRE_CODE) & (to_type == BASE_CODE)\n",
    "        dist = base_fire[to_ix, from_ix]\n",
    "    \n",
    "    # if base to fire\n",
    "    elseif (from_type == BASE_CODE) & (to_type == FIRE_CODE)\n",
    "        dist = base_fire[from_ix, to_ix]\n",
    "        \n",
    "    # otherwise dist still 0\n",
    "    end\n",
    "    \n",
    "    return dist\n",
    "end "
   ]
  },
  {
   "cell_type": "code",
   "execution_count": 11,
   "id": "c127417f",
   "metadata": {},
   "outputs": [
    {
     "data": {
      "text/plain": [
       "get_arc_costs (generic function with 1 method)"
      ]
     },
     "execution_count": 11,
     "metadata": {},
     "output_type": "execute_result"
    }
   ],
   "source": [
    "function get_arc_costs(gd, arcs, cost_param_dict)\n",
    "    \n",
    "    # get number of arcs\n",
    "    n_arcs = length(arcs[:, 1])\n",
    "    \n",
    "    # initialize costs to 0\n",
    "    costs = zeros(n_arcs)\n",
    "    \n",
    "    # if there is travel cost per mile\n",
    "    if \"cost_per_mile\" in keys(cost_param_dict)\n",
    "        \n",
    "        # find the miles for each arc\n",
    "        miles_per_arc =  [get_distance(arcs[i, 2], arcs[i, 3], \n",
    "                                       arcs[i, 4], arcs[i, 5], \n",
    "                                       gd.ff_dist, gd.bf_dist) for i in 1:n_arcs]\n",
    "        # add to costs\n",
    "        costs = costs .+ (cost_param_dict[\"cost_per_mile\"] * miles_per_arc)\n",
    "    end\n",
    "    \n",
    "    # if there are rest violations\n",
    "    if \"rest_violation\" in keys(cost_param_dict)\n",
    "        \n",
    "        # find the rest violation scores\n",
    "        rest_violation_matrix = cost_param_dict[\"rest_violation\"]\n",
    "        rest_violations = [(arcs[i, 8] == 0) & (arcs[i, 6] > 0) ? \n",
    "                           rest_violation_matrix[arcs[i, 1], arcs[i, 6]] : 0\n",
    "                           for i in 1:n_arcs]\n",
    "        \n",
    "        # add to costs\n",
    "        costs = costs .+ rest_violations\n",
    "    end\n",
    "    \n",
    "    if \"fight_fire\" in keys(cost_param_dict)\n",
    "        costs = costs .+ [(arcs[i, 4] == FIRE_CODE) ? cost_param_dict[\"fight_fire\"] : 0\n",
    "                          for i in 1:n_arcs]\n",
    "    end\n",
    "    \n",
    "    # if we have to adjust for linking dual constraints\n",
    "    if \"linking_dual\" in keys(cost_param_dict)\n",
    "        \n",
    "        # get the dual variables\n",
    "        rho = cost_param_dict[\"linking_dual\"]\n",
    "        \n",
    "        # get linking costs (really benefits) if arc goes to a fire\n",
    "        linking_costs = [((arcs[i, 4] == FIRE_CODE) & (arcs[i, 7] <= NUM_TIME_PERIODS)) ? \n",
    "                          - rho[arcs[i, 5], arcs[i, 7]] : 0\n",
    "                          for i in 1:n_arcs]\n",
    "        \n",
    "        # add to costs\n",
    "        costs = costs .+ linking_costs\n",
    "        \n",
    "    end\n",
    "    \n",
    "    # if we have to adjust for linking dual constraints\n",
    "    if \"out_of_region_dual\" in keys(cost_param_dict)\n",
    "        \n",
    "        # get needed regional info\n",
    "        regs = cost_param_dict[\"region_data\"].crew_regions\n",
    "        rot_order = cost_param_dict[\"rotation_order\"]\n",
    "        \n",
    "        # get the dual variables\n",
    "        eta = cost_param_dict[\"out_of_region_dual\"]\n",
    "\n",
    "        # get adjustment for crew allotment\n",
    "        c1 = [(arcs[i, 10] > 0) ? sum(eta[arcs[i, 1], t_0]\n",
    "                                        for t_0=arcs[i, 6]:NUM_TIME_PERIODS\n",
    "                                      ) : 0\n",
    "                                                   \n",
    "               for i in 1:n_arcs\n",
    "             ]\n",
    "        \n",
    "        # get adjustment for region average allotment\n",
    "        c2 = [(arcs[i, 10] > 0) ? sum(eta[c, t_0]\n",
    "                                            for c in keys(rot_order[regs[arcs[i, 1]]]),\n",
    "                                                t_0=arcs[i, 6]:NUM_TIME_PERIODS) /\n",
    "                                        length(keys(rot_order[regs[arcs[i, 1]]])) : 0\n",
    "                                                   \n",
    "               for i in 1:n_arcs\n",
    "             ]\n",
    "        \n",
    "        # get adjustment for big-M constraint\n",
    "        c3 = [(arcs[i, 10] > 0) ? NUM_TIME_PERIODS * eta[arcs[i, 1], arcs[i, 6]] : 0\n",
    "               for i in 1:n_arcs\n",
    "             ]\n",
    "            \n",
    "        # add to costs\n",
    "        costs = costs .+ c1 .- c2 .+ c3\n",
    "        \n",
    "    end   \n",
    "    \n",
    "    return costs\n",
    "end"
   ]
  },
  {
   "cell_type": "code",
   "execution_count": 12,
   "id": "413223fc",
   "metadata": {},
   "outputs": [
    {
     "data": {
      "text/plain": [
       "is_one (generic function with 1 method)"
      ]
     },
     "execution_count": 12,
     "metadata": {},
     "output_type": "execute_result"
    }
   ],
   "source": [
    "function positive(x)\n",
    "    \n",
    "    if x > 0\n",
    "        return 1\n",
    "    end\n",
    "    \n",
    "    return 0\n",
    "end\n",
    "\n",
    "function is_one(x)\n",
    "    \n",
    "    if x == 1\n",
    "        return 1\n",
    "    end\n",
    "    \n",
    "    return 0\n",
    "end"
   ]
  },
  {
   "cell_type": "code",
   "execution_count": 13,
   "id": "c6f31a82",
   "metadata": {},
   "outputs": [
    {
     "data": {
      "text/plain": [
       "get_rest_penalties (generic function with 1 method)"
      ]
     },
     "execution_count": 13,
     "metadata": {},
     "output_type": "execute_result"
    }
   ],
   "source": [
    "# should return matrix indexed by crew, time, \n",
    "function get_rest_penalties(rest_by_periods, lambda, accounting_func)\n",
    "    \n",
    "    penalties = zeros(NUM_CREWS, NUM_TIME_PERIODS)\n",
    "    \n",
    "    for c in 1:NUM_CREWS\n",
    "        penalties[c, :] = [lambda * accounting_func(t - rest_by_periods[c]) \n",
    "                           for t in 1:NUM_TIME_PERIODS]\n",
    "    end\n",
    "    \n",
    "    return penalties    \n",
    "end"
   ]
  },
  {
   "cell_type": "code",
   "execution_count": 14,
   "id": "846c1e8f",
   "metadata": {},
   "outputs": [
    {
     "data": {
      "text/plain": [
       "define_network_constraint_data (generic function with 1 method)"
      ]
     },
     "execution_count": 14,
     "metadata": {},
     "output_type": "execute_result"
    }
   ],
   "source": [
    "function define_network_constraint_data(arcs)\n",
    "    \n",
    "    # shorten some global variable names\n",
    "    C = NUM_CREWS\n",
    "    G = NUM_FIRES\n",
    "    T = NUM_TIME_PERIODS\n",
    "    \n",
    "    # get number of arcs\n",
    "    n_arcs = length(arcs[:, 1])\n",
    "      \n",
    "    ## flow balance ##\n",
    "    \n",
    "    # initialize arrays of vectors for flow balance\n",
    "    f_out = Array{Vector{Int64}}(undef, C, G, T, 2)\n",
    "    f_in = Array{Vector{Int64}}(undef, C, G, T, 2)\n",
    "    b_out = Array{Vector{Int64}}(undef, C, T, 2)\n",
    "    b_in = Array{Vector{Int64}}(undef, C, T, 2)\n",
    "    start = Array{Vector{Int64}}(undef, C)\n",
    "    out_of_region = Array{Vector{Int64}}(undef, C, T+1)\n",
    "    \n",
    "    # for each crew\n",
    "    for crew in 1:C\n",
    "        \n",
    "        # get indices of this crew's arcs only\n",
    "        crew_ixs = [i for i in 1:n_arcs if arcs[i, 1] == crew]\n",
    "        \n",
    "        # get time 0 indices\n",
    "        start[crew] = [i for i in crew_ixs if arcs[i, 6] == 0]\n",
    "        \n",
    "        # for each time period (including start)\n",
    "        for tm in 0:T\n",
    "        \n",
    "            # get indices for out of region assignments\n",
    "            out_of_region[crew, tm+1] = [i for i in crew_ixs if\n",
    "                                           (arcs[i, 6] == tm) &\n",
    "                                           (arcs[i, 10] > 0)\n",
    "                                        ]\n",
    "        end\n",
    "        \n",
    "        # for each time period\n",
    "        for tm in 1:T\n",
    "            \n",
    "            # for each rest state\n",
    "            for rest in 1:2\n",
    "                \n",
    "                # get arcs leaving crew base at this time with this rest\n",
    "                b_out[crew, tm, rest] = [i for i in crew_ixs if\n",
    "                                         (arcs[i, 2] == BASE_CODE) &\n",
    "                                         (arcs[i, 6] == tm) &\n",
    "                                         (arcs[i, 8] == rest-1)\n",
    "                                        ]\n",
    "                \n",
    "                # get arcs entering crew base at this time with this rest\n",
    "                b_in[crew, tm, rest] = [i for i in crew_ixs if\n",
    "                                        (arcs[i, 4] == BASE_CODE) &\n",
    "                                        (arcs[i, 7] == tm) &\n",
    "                                        (arcs[i, 9] == rest-1)\n",
    "                                       ]\n",
    "                # for each fire\n",
    "                for fire in 1:G\n",
    "                    \n",
    "                    # get arcs where this crew leaves this fire at this time\n",
    "                    # with this rest state\n",
    "                    f_out[crew, fire, tm, rest] = [i for i in crew_ixs if\n",
    "                                                   (arcs[i, 2] == FIRE_CODE) &\n",
    "                                                   (arcs[i, 3] == fire) &\n",
    "                                                   (arcs[i, 6] == tm) &\n",
    "                                                   (arcs[i, 8] == rest-1)\n",
    "                                                   ]\n",
    "                    \n",
    "                    # get arcs where this crew enters this fire at this time\n",
    "                    # with this rest state\n",
    "                    f_in[crew, fire, tm, rest] = [i for i in crew_ixs if\n",
    "                                                  (arcs[i, 4] == FIRE_CODE) &\n",
    "                                                  (arcs[i, 5] == fire) &\n",
    "                                                  (arcs[i, 7] == tm) &\n",
    "                                                  (arcs[i, 9] == rest-1)\n",
    "                                                  ]\n",
    "                end\n",
    "            end\n",
    "        end\n",
    "    end\n",
    "    \n",
    "    ## linking constraints ##\n",
    "    linking = Array{Vector{Int64}}(undef, G, T)\n",
    "    for fire in 1:G\n",
    "        for tm in 1:T\n",
    "            \n",
    "            # we count the crew as working *where they arrived* during this timestep\n",
    "            linking[fire, tm] = [i for i in 1:n_arcs if (arcs[i, 4] == FIRE_CODE) &\n",
    "                                                        (arcs[i, 5] == fire) &\n",
    "                                                        (arcs[i, 7] == tm)]\n",
    "        end\n",
    "    end\n",
    "    \n",
    "    \n",
    "    return KeyArcIndices(f_out, f_in, b_out, b_in, linking, start, out_of_region)\n",
    "end"
   ]
  },
  {
   "cell_type": "code",
   "execution_count": 15,
   "id": "85bb158f",
   "metadata": {},
   "outputs": [
    {
     "data": {
      "text/plain": [
       "get_route_stats (generic function with 1 method)"
      ]
     },
     "execution_count": 15,
     "metadata": {},
     "output_type": "execute_result"
    }
   ],
   "source": [
    "function get_route_stats(arc_ixs_used, arcs, costs)\n",
    "    \n",
    "    # get total cost\n",
    "    route_cost = sum(costs[arc_ixs_used])\n",
    "    \n",
    "    # initialize fires fought matrix\n",
    "    fires_fought =  falses(NUM_FIRES, NUM_TIME_PERIODS)\n",
    "    \n",
    "    # initialize out of region matrix\n",
    "    out_of_region = falses(NUM_TIME_PERIODS + 1)\n",
    "    \n",
    "    # for each arc used\n",
    "    for ix in arc_ixs_used\n",
    "        arc = arcs[ix, :]\n",
    "        \n",
    "        # update fires_fought\n",
    "        if (arc[4] == FIRE_CODE) & (arc[7] <= NUM_TIME_PERIODS)\n",
    "            @assert ~fires_fought[arc[5], arc[7]] \"Visited fire twice at same time\"\n",
    "            fires_fought[arc[5], arc[7]] = true\n",
    "        end\n",
    "        \n",
    "        # update out_of_region\n",
    "        if arc[10] > 0\n",
    "            @assert ~out_of_region[arc[6] + 1] \"Left region twice at same time\"\n",
    "            out_of_region[arc[6] + 1] = true\n",
    "        end\n",
    "    end\n",
    "    \n",
    "    return route_cost, fires_fought, out_of_region\n",
    "end"
   ]
  },
  {
   "cell_type": "code",
   "execution_count": 16,
   "id": "8a2f3da2",
   "metadata": {},
   "outputs": [
    {
     "data": {
      "text/plain": [
       "initialize_route_data (generic function with 1 method)"
      ]
     },
     "execution_count": 16,
     "metadata": {},
     "output_type": "execute_result"
    }
   ],
   "source": [
    "function initialize_route_data(max_routes)\n",
    "    \n",
    "    return RouteData(zeros(NUM_CREWS), Matrix{Float64}(undef, NUM_CREWS, max_routes),\n",
    "                     BitArray(undef, NUM_CREWS, max_routes, NUM_FIRES, NUM_TIME_PERIODS) .> 2,\n",
    "                     BitArray(undef, NUM_CREWS, max_routes, NUM_TIME_PERIODS + 1) .> 2)\n",
    "end"
   ]
  },
  {
   "cell_type": "code",
   "execution_count": 17,
   "id": "368b79c3",
   "metadata": {},
   "outputs": [
    {
     "data": {
      "text/plain": [
       "update_available_routes (generic function with 1 method)"
      ]
     },
     "execution_count": 17,
     "metadata": {},
     "output_type": "execute_result"
    }
   ],
   "source": [
    "function update_available_routes(crew, route_ixs, arcs, costs, route_data)\n",
    "    \n",
    "    # get the required information from the arcs used\n",
    "    route_cost, fires_fought, out_of_region = get_route_stats(route_ixs, arcs, costs)\n",
    "    \n",
    "    ## store this information to the route_data ##\n",
    "    \n",
    "    # add 1 to number of routes for this crew, store the index\n",
    "    route_data.routes_per_crew[crew] += 1\n",
    "    ix = route_data.routes_per_crew[crew]\n",
    "    \n",
    "    # append the route cost\n",
    "    route_data.route_costs[crew, ix] = route_cost\n",
    "    \n",
    "    # append the fires fought\n",
    "    route_data.fires_fought[crew, ix, :, :] = fires_fought\n",
    "    \n",
    "    # append the out-of-region assignments\n",
    "    route_data.out_of_reg[crew, ix, :] = out_of_region\n",
    "    \n",
    "    return 1\n",
    "\n",
    "end"
   ]
  },
  {
   "cell_type": "code",
   "execution_count": 18,
   "id": "05c56733",
   "metadata": {},
   "outputs": [
    {
     "data": {
      "text/plain": [
       "get_supp_plan_stats (generic function with 2 methods)"
      ]
     },
     "execution_count": 18,
     "metadata": {},
     "output_type": "execute_result"
    }
   ],
   "source": [
    "function get_supp_plan_stats(var_p, var_d, beta, tolerance=0.0001)\n",
    "    \n",
    "    # get the cost based on the perimeter progression\n",
    "    cost = beta * (sum(value.(var_p)) - value(var_p[1])/2 - value(var_p[NUM_TIME_PERIODS+1]/2))\n",
    "    \n",
    "    # get the number of crews present each time period from line constructed\n",
    "    crew_vector = value.(var_d)\n",
    "    int_crew_vector = convert.(Int64, round.(crew_vector))\n",
    "    @assert maximum(abs.(crew_vector - int_crew_vector)) < tolerance \"Not an integer plan\"\n",
    "    \n",
    "    return cost, int_crew_vector\n",
    "\n",
    "end"
   ]
  },
  {
   "cell_type": "code",
   "execution_count": 19,
   "id": "9a5695d4",
   "metadata": {},
   "outputs": [
    {
     "data": {
      "text/plain": [
       "initialize_supp_plan_data (generic function with 1 method)"
      ]
     },
     "execution_count": 19,
     "metadata": {},
     "output_type": "execute_result"
    }
   ],
   "source": [
    "function initialize_supp_plan_data(max_supp_plans)\n",
    "    \n",
    "    return SuppressionPlanData(zeros(NUM_FIRES), \n",
    "                               Matrix{Float64}(undef, NUM_FIRES, max_supp_plans),\n",
    "                               zeros(Int8, (NUM_FIRES, max_supp_plans, NUM_TIME_PERIODS))\n",
    "                              )\n",
    "end"
   ]
  },
  {
   "cell_type": "code",
   "execution_count": 20,
   "id": "8c279c56",
   "metadata": {},
   "outputs": [
    {
     "data": {
      "text/plain": [
       "update_available_supp_plans (generic function with 1 method)"
      ]
     },
     "execution_count": 20,
     "metadata": {},
     "output_type": "execute_result"
    }
   ],
   "source": [
    "function update_available_supp_plans(fire, p, d, beta, plan_data)\n",
    "    \n",
    "    # get the required information from the model decision variables\n",
    "    cost, crew_vector = get_supp_plan_stats(p, d, beta)\n",
    "    \n",
    "    ## store this information to the suppression plan data ##\n",
    "    \n",
    "    # add 1 to number of plans for this fire, store the index\n",
    "    plan_data.plans_per_fire[fire] += 1\n",
    "    ix = plan_data.plans_per_fire[fire]\n",
    "    \n",
    "    # append the route cost\n",
    "    plan_data.plan_costs[fire, ix] = cost\n",
    "    \n",
    "    # append the fires fought\n",
    "    plan_data.crews_present[fire, ix, :] = crew_vector\n",
    "    \n",
    "    return 1\n",
    "\n",
    "end"
   ]
  },
  {
   "cell_type": "code",
   "execution_count": 21,
   "id": "5f1302a9",
   "metadata": {},
   "outputs": [
    {
     "data": {
      "text/plain": [
       "full_formulation (generic function with 2 methods)"
      ]
     },
     "execution_count": 21,
     "metadata": {},
     "output_type": "execute_result"
    }
   ],
   "source": [
    "function full_formulation(integer_routes, region_data, constraint_data, rotation_order, \n",
    "                          costs, progs, perims, beta, gamma, verbose=false)\n",
    "    \n",
    "    # get number of arcs\n",
    "    n_arcs = length(costs)\n",
    "    \n",
    "    # shorten some global variable names\n",
    "    C = NUM_CREWS\n",
    "    G = NUM_FIRES\n",
    "    T = NUM_TIME_PERIODS\n",
    "    regs = region_data.crew_regions\n",
    "    \n",
    "    # intialize model\n",
    "    m = Model(() -> Gurobi.Optimizer(GRB_ENV))\n",
    "    \n",
    "    if ~verbose\n",
    "        set_optimizer_attribute(m, \"OutputFlag\", 0)\n",
    "    end\n",
    "\n",
    "    # fire suppression plan section\n",
    "    @variable(m, p[g=1:G, t=1:T+1] >= 0)\n",
    "    @variable(m, l[g=1:G, t=1:T])\n",
    "    @variable(m, d[g=1:G, t=1:T] >= 0)\n",
    "    @constraint(m, perim_growth[g=1:G, t=1:T], p[g, t+1] >= progs[g, t] * \n",
    "                                                           (p[g, t] - l[g, t] / 2) - l[g, t] / 2)\n",
    "    @constraint(m, perim_start[g=1:G], p[g, 1] == perims[g])\n",
    "\n",
    "    # routing plan section\n",
    "    if integer_routes\n",
    "        @variable(m, z[1:n_arcs] >= 0, Int)\n",
    "    else\n",
    "        @variable(m, z[1:n_arcs] >= 0)\n",
    "    end\n",
    "    \n",
    "    @variable(m, q[1:C, 0:T] >= 0, Int)\n",
    "    \n",
    "    # build out_of_region constraints\n",
    "    @constraint(m, out_of_region[c=1:C, t=0:T],\n",
    "    \n",
    "        # out of region penalty is at least\n",
    "        q[c, t] >=\n",
    "        \n",
    "            # this crew's cumulative rotations\n",
    "            sum(z[i] for t_0=0:t, i in constraint_data.out_of_region[c, t_0+1]) \n",
    "        \n",
    "        - \n",
    "        \n",
    "            # average cumulative rotations among all crews in same region\n",
    "            sum(z[i] for c_0 in keys(rotation_order[regs[c]]), t_0=0:t, \n",
    "                i in constraint_data.out_of_region[c_0, t_0+1]) /\n",
    "            length(keys(rotation_order[regs[c]]))\n",
    "        \n",
    "        -\n",
    "        \n",
    "            # normalizing factor for specific crew rotation order\n",
    "            (1 - rotation_order[regs[c]][c] / length(keys(rotation_order[regs[c]])))\n",
    "        \n",
    "        -\n",
    "            # big-M for if crew goes not leave region at this time\n",
    "            T * (1 - sum(z[i] for i in constraint_data.out_of_region[c, t+1]))\n",
    "        \n",
    "    )\n",
    "\n",
    "\n",
    "    @constraint(m, fire_flow[c=1:C, g=1:G, t=1:T, rest=1:2],\n",
    "\n",
    "            sum(z[constraint_data.f_out[c, g, t, rest]]) ==\n",
    "            sum(z[constraint_data.f_in[c, g, t, rest]])\n",
    "    \n",
    "    )\n",
    "    \n",
    "    @constraint(m, base_flow[c=1:C, t=1:T, rest=1:2],\n",
    "\n",
    "            sum(z[constraint_data.b_out[c, t, rest]]) ==\n",
    "            sum(z[constraint_data.b_in[c, t, rest]])\n",
    "    \n",
    "    )\n",
    "\n",
    "\n",
    "    @constraint(m, linking[g=1:G, t=1:T],\n",
    "\n",
    "        sum(z[constraint_data.supp_fire[g, t]]) >= d[g, t] \n",
    "    )\n",
    "    \n",
    "    @constraint(m, line_building[g=1:G, t=1:T], l[g, t] <= LINE_PER_CREW * d[g, t])\n",
    "\n",
    "    # build start constraint\n",
    "    @constraint(m, start[c=1:C], \n",
    "\n",
    "        sum(z[constraint_data.start[c]]) == 1\n",
    "    )\n",
    "    \n",
    "    \n",
    "    \n",
    "\n",
    "    @objective(m, Min, \n",
    "        beta * (sum(p) - sum(p[1:G, 1])/2 - sum(p[1:G, T+1])/2) + \n",
    "        sum(z .* costs) + sum(q) * gamma\n",
    "    )\n",
    "    \n",
    "    return m, p, d, z, q, out_of_region\n",
    "    \n",
    "end"
   ]
  },
  {
   "cell_type": "code",
   "execution_count": 22,
   "id": "28eeec56",
   "metadata": {},
   "outputs": [
    {
     "data": {
      "text/plain": [
       "load_data (generic function with 1 method)"
      ]
     },
     "execution_count": 22,
     "metadata": {},
     "output_type": "execute_result"
    }
   ],
   "source": [
    "function load_data(path)\n",
    "    \n",
    "    # get distance from fire f to fire g \n",
    "    fire_dists =  readdlm(path * \"/fire_distances.csv\", ',')\n",
    "\n",
    "    # get distance from base c to fire g (NUM_CREWS-by-NUM_FIRES)\n",
    "    base_fire_dists =  readdlm(path * \"/base_fire_distances.csv\", ',')\n",
    "\n",
    "    # initialize travel times (number of periods) from fire f to fire g\n",
    "    tau = convert(Array{Int}, ones(size(fire_dists)))\n",
    "\n",
    "    # initialize number of periods to travel from base c to fire g (NUM_CREWS-by-NUM_FIRES)\n",
    "    tau_base_to_fire = convert(Array{Int}, ones((size(base_fire_dists))))\n",
    "\n",
    "    # read intial crew statuses (location, period by which they must rest)\n",
    "    # (-1 in current_fire means crew is currently at base)\n",
    "    # (rested_periods is the amount of time crew has been at base, relevant for completing rest)\n",
    "    crew_starts = CSV.read(path * \"/sample_crew_starts.csv\", DataFrame)\n",
    "    rest_by = crew_starts[!, \"rest_by\"]\n",
    "    current_fire = crew_starts[!, \"current_fire\"]\n",
    "    rested_periods = crew_starts[!, \"rested_periods\"]\n",
    "\n",
    "\n",
    "    return (GlobalData(fire_dists, base_fire_dists, tau, tau_base_to_fire), \n",
    "            CrewStatus(rest_by, current_fire, rested_periods))\n",
    "end"
   ]
  },
  {
   "cell_type": "code",
   "execution_count": 23,
   "id": "6e68bf7e",
   "metadata": {},
   "outputs": [
    {
     "data": {
      "text/plain": [
       "master_problem (generic function with 2 methods)"
      ]
     },
     "execution_count": 23,
     "metadata": {},
     "output_type": "execute_result"
    }
   ],
   "source": [
    "function master_problem(route_data, supp_plan_data, region_data, rotation_order, gamma, price_branch=false)\n",
    "    \n",
    "    m = Model(() -> Gurobi.Optimizer(GRB_ENV))\n",
    "    set_optimizer_attribute(m, \"OutputFlag\", 0)\n",
    "    \n",
    "    regs = region_data.crew_regions\n",
    "    \n",
    "    # decision variables\n",
    "    if price_branch\n",
    "        @variable(m, route[c=1:NUM_CREWS, r=1:route_data.routes_per_crew[c]] >= 0, Int)\n",
    "        @variable(m, plan[g=1:NUM_FIRES, p=1:supp_plan_data.plans_per_fire[g]] >= 0, Int)\n",
    "        @variable(m, q[c=1:NUM_CREWS, t=0:NUM_TIME_PERIODS] >= 0, Int)\n",
    "    else\n",
    "        @variable(m, route[c=1:NUM_CREWS, r=1:route_data.routes_per_crew[c]] >= 0)\n",
    "        @variable(m, plan[g=1:NUM_FIRES, p=1:supp_plan_data.plans_per_fire[g]] >= 0)\n",
    "        @variable(m, q[c=1:NUM_CREWS, t=0:NUM_TIME_PERIODS] >= 0)\n",
    "    end\n",
    "    \n",
    "    # constraints that you must choose a plan per crew and per fire\n",
    "    @constraint(m, route_per_crew[c=1:NUM_CREWS], \n",
    "                sum(route[c, r] for r=1:route_data.routes_per_crew[c]) == 1)\n",
    "    @constraint(m, plan_per_fire[g=1:NUM_FIRES], \n",
    "                sum(plan[g, p] for p=1:supp_plan_data.plans_per_fire[g]) >= 1)\n",
    "    \n",
    "    # linking constraint\n",
    "    @constraint(m, linking[g=1:NUM_FIRES, t=1:NUM_TIME_PERIODS],\n",
    "                    \n",
    "                    # crews at fire\n",
    "                    sum(route[c, r] * route_data.fires_fought[c, r, g, t] \n",
    "                        for c=1:NUM_CREWS, r=1:route_data.routes_per_crew[c]) \n",
    "        \n",
    "                    >=\n",
    "        \n",
    "                    # crews suppressing\n",
    "                    sum(plan[g, p] * supp_plan_data.crews_present[g, p, t] \n",
    "                        for p=1:supp_plan_data.plans_per_fire[g]) \n",
    "        \n",
    "                )\n",
    "    \n",
    "    # out_of_region constraint\n",
    "    @constraint(m, out_of_region[c=1:NUM_CREWS, t=0:NUM_TIME_PERIODS],\n",
    "    \n",
    "        # out of region penalty is at least\n",
    "        q[c, t] >=\n",
    "        \n",
    "            # this crew's cumulative rotations\n",
    "            sum(route[c, r] * route_data.out_of_reg[c, r, t_0 + 1] \n",
    "            for r=1:route_data.routes_per_crew[c], t_0=0:t)\n",
    "        \n",
    "        - \n",
    "        \n",
    "            # average cumulative rotations among all crews in same region\n",
    "            sum(route[c_0, r] * route_data.out_of_reg[c_0, r, t_0 + 1] \n",
    "                for c_0 in keys(rotation_order[regs[c]]), r=1:route_data.routes_per_crew[c_0],\n",
    "                t_0=0:t) /\n",
    "            length(keys(rotation_order[regs[c]]))\n",
    "        \n",
    "        -\n",
    "        \n",
    "            # normalizing factor for specific crew rotation order\n",
    "            (1 - rotation_order[regs[c]][c] / length(keys(rotation_order[regs[c]])))\n",
    "        \n",
    "        -\n",
    "            # big-M for if crew goes not leave region at this time\n",
    "            NUM_TIME_PERIODS * (1 - sum(route[c, r] * route_data.out_of_reg[c, r, t+1]\n",
    "                                        for r=1:route_data.routes_per_crew[c])\n",
    "                               )\n",
    "        \n",
    "    )\n",
    "    \n",
    "    @objective(m, Min, \n",
    "        \n",
    "                  # route costs\n",
    "                  sum(route[c, r] * route_data.route_costs[c, r] \n",
    "                        for c=1:NUM_CREWS, r=1:route_data.routes_per_crew[c])\n",
    "        \n",
    "                  +\n",
    "                     \n",
    "                  # suppression plan costs\n",
    "                  sum(plan[g, p] * supp_plan_data.plan_costs[g, p] \n",
    "                     for g=1:NUM_FIRES, p=1:supp_plan_data.plans_per_fire[g]) \n",
    "        \n",
    "                  +\n",
    "        \n",
    "                  # rotational queueing violations cost\n",
    "                  sum(q) * gamma\n",
    "               )\n",
    "    \n",
    "    return Dict(\"m\" => m, \"q\" => q, \"sigma\" => route_per_crew, \"pi\" => plan_per_fire, \n",
    "                \"rho\" => linking, \"eta\" => out_of_region, \"route\" => route, \"plan\" => plan)\n",
    "end "
   ]
  },
  {
   "cell_type": "code",
   "execution_count": 24,
   "id": "b119f02d",
   "metadata": {},
   "outputs": [
    {
     "data": {
      "text/plain": [
       "init_route_subproblem (generic function with 2 methods)"
      ]
     },
     "execution_count": 24,
     "metadata": {},
     "output_type": "execute_result"
    }
   ],
   "source": [
    "function init_route_subproblem(crew_ixs, crew, constraint_data, integer_routes=false)\n",
    "    \n",
    "    # shorten some global variable names\n",
    "    C = NUM_CREWS\n",
    "    G = NUM_FIRES\n",
    "    T = NUM_TIME_PERIODS\n",
    "    \n",
    "    # intialize model\n",
    "    m = Model(() -> Gurobi.Optimizer(GRB_ENV))\n",
    "    set_optimizer_attribute(m, \"OutputFlag\", 0)\n",
    "\n",
    "    # routing plan section\n",
    "    if integer_routes\n",
    "        @variable(m, z[crew_ixs] >= 0, Int)\n",
    "    else\n",
    "        @variable(m, z[crew_ixs] >= 0)\n",
    "    end\n",
    "\n",
    "\n",
    "    @constraint(m, fire_flow[g=1:G, t=1:T, rest=1:2],\n",
    "\n",
    "            sum(z[constraint_data.f_out[crew, g, t, rest]]) ==\n",
    "            sum(z[constraint_data.f_in[crew, g, t, rest]])\n",
    "    \n",
    "    )\n",
    "    \n",
    "    @constraint(m, base_flow[t=1:T, rest=1:2],\n",
    "\n",
    "            sum(z[constraint_data.b_out[crew, t, rest]]) ==\n",
    "            sum(z[constraint_data.b_in[crew, t, rest]])\n",
    "    \n",
    "    )\n",
    "\n",
    "    # build start constraint\n",
    "    @constraint(m, start, \n",
    "\n",
    "        sum(z[constraint_data.start[crew]]) == 1\n",
    "    )\n",
    "    \n",
    "    return Dict(\"m\" => m, \"z\" => z, \"ff\" => fire_flow)\n",
    "    \n",
    "end"
   ]
  },
  {
   "cell_type": "code",
   "execution_count": 25,
   "id": "fccc53fc",
   "metadata": {},
   "outputs": [
    {
     "data": {
      "text/plain": [
       "init_suppression_plan_subproblem (generic function with 1 method)"
      ]
     },
     "execution_count": 25,
     "metadata": {},
     "output_type": "execute_result"
    }
   ],
   "source": [
    "function init_suppression_plan_subproblem(progs, perims, fire, beta)\n",
    "    \n",
    "    T = NUM_TIME_PERIODS\n",
    "    \n",
    "    m = Model(() -> Gurobi.Optimizer(GRB_ENV))\n",
    "    set_optimizer_attribute(m, \"OutputFlag\", 0)\n",
    "\n",
    "    # fire suppression plan section\n",
    "    @variable(m, p[t=1:T+1] >= 0)\n",
    "    @variable(m, l[t=1:T] >= 0)\n",
    "    @variable(m, NUM_CREWS >= d[t=1:T] >= 0, Int)\n",
    "    @constraint(m, suppression_per_crew[t=1:T], l[t] <= d[t] * LINE_PER_CREW)\n",
    "    @constraint(m, perim_growth[t=1:T], p[t+1] >= progs[fire, t] * (p[t] - l[t] / 2) - l[t] / 2)\n",
    "    @constraint(m, perim_start, p[1] == perims[fire])\n",
    "    \n",
    "#    \n",
    "    \n",
    "    return Dict(\"m\" => m, \"p\" => p, \"d\" => d, \"beta\" => beta)\n",
    "end"
   ]
  },
  {
   "cell_type": "code",
   "execution_count": 26,
   "id": "66a8f423",
   "metadata": {},
   "outputs": [
    {
     "data": {
      "text/plain": [
       "initialize_column_generation (generic function with 1 method)"
      ]
     },
     "execution_count": 26,
     "metadata": {},
     "output_type": "execute_result"
    }
   ],
   "source": [
    "function initialize_column_generation(arcs, costs, constraint_data, progs, perims, max_plans)\n",
    "    \n",
    "    # initialize subproblems\n",
    "    route_sps = []\n",
    "    for crew in 1:NUM_CREWS\n",
    "        ixs = [i for i in 1:length(arcs[:, 1]) if arcs[i, 1] == crew]\n",
    "        d = init_route_subproblem(ixs, crew, constraint_data)\n",
    "        d[\"arc_ixs\"] = ixs\n",
    "        push!(route_sps, d)\n",
    "    end\n",
    "\n",
    "    plan_sps = []\n",
    "    for fire in 1:NUM_FIRES\n",
    "        d = init_suppression_plan_subproblem(progs, perims, fire, BETA)\n",
    "        push!(plan_sps, d)\n",
    "    end\n",
    "    \n",
    "    # initialize routes and suppression plans to populate\n",
    "    routes = initialize_route_data(max_plans)\n",
    "    suppression_plans = initialize_supp_plan_data(max_plans)\n",
    "    \n",
    "    ## generate dummy plans (no suppression) to ensure feasibility at first step ##\n",
    "    \n",
    "    # for each crew\n",
    "    for crew in 1:NUM_CREWS\n",
    "        \n",
    "        # get the crew's subproblem instance\n",
    "        crew_sp = route_sps[crew]\n",
    "        m = crew_sp[\"m\"]\n",
    "        z = crew_sp[\"z\"]\n",
    "        crew_ixs = crew_sp[\"arc_ixs\"]\n",
    "\n",
    "        # set objective in light of dual variables\n",
    "        @objective(m, Min, sum(z[ix] * (costs[ix]) for ix in crew_ixs))\n",
    "\n",
    "        # optimize\n",
    "        optimize!(m)\n",
    "\n",
    "        # update crew routes\n",
    "        crew_arcs = [i for i in crew_ixs if (value(z[i]) > 0.5)]\n",
    "        update_available_routes(crew, crew_arcs, arcs, costs, routes)\n",
    "    \n",
    "    end\n",
    "    \n",
    "    # for each fire\n",
    "    for fire in 1:NUM_FIRES\n",
    "\n",
    "        # get the fire's subproblem instance\n",
    "        plan_sp = plan_sps[fire]\n",
    "        m = plan_sp[\"m\"]\n",
    "        p = plan_sp[\"p\"]\n",
    "        d = plan_sp[\"d\"]\n",
    "        beta = plan_sp[\"beta\"]\n",
    "\n",
    "        # set objective in light of dual variables\n",
    "        @objective(m, Min, sum(d))\n",
    "        optimize!(m)\n",
    "        \n",
    "        # update suppression plans\n",
    "        update_available_supp_plans(fire, p, d, beta, suppression_plans)\n",
    "\n",
    "    end\n",
    "    \n",
    "    return ColumnGeneration(route_sps, plan_sps, routes, suppression_plans)\n",
    "    \n",
    "end"
   ]
  },
  {
   "cell_type": "code",
   "execution_count": 27,
   "id": "dc13f373",
   "metadata": {},
   "outputs": [
    {
     "data": {
      "text/plain": [
       "run_crew_subproblem (generic function with 1 method)"
      ]
     },
     "execution_count": 27,
     "metadata": {},
     "output_type": "execute_result"
    }
   ],
   "source": [
    "function run_crew_subproblem(sps, crew, costs, local_costs)\n",
    "    \n",
    "    # get the crew's subproblem instance\n",
    "    crew_sp = sps[crew]\n",
    "    m = crew_sp[\"m\"]\n",
    "    z = crew_sp[\"z\"]\n",
    "    crew_ixs = crew_sp[\"arc_ixs\"]\n",
    "    \n",
    "    # set objective in light of dual variables\n",
    "    @objective(m, Min, sum(z[ix] * (local_costs[ix] + costs[ix]) for ix in crew_ixs))\n",
    "        \n",
    "    # optimize\n",
    "    optimize!(m)\n",
    "    \n",
    "    return objective_value(m), z\n",
    "end"
   ]
  },
  {
   "cell_type": "code",
   "execution_count": 28,
   "id": "f7846989",
   "metadata": {},
   "outputs": [
    {
     "data": {
      "text/plain": [
       "run_CG_step (generic function with 1 method)"
      ]
     },
     "execution_count": 28,
     "metadata": {},
     "output_type": "execute_result"
    }
   ],
   "source": [
    "function run_CG_step(cg, arcs, costs, global_data, region_data, rot_order, gamma)\n",
    "    \n",
    "    # formulate and solve the master problem\n",
    "    mp = master_problem(cg.routes, cg.suppression_plans, region_data, rot_order, gamma)\n",
    "    optimize!(mp[\"m\"])\n",
    "\n",
    "    # grab the dual variables\n",
    "    sigma = dual.(mp[\"sigma\"])\n",
    "    rho = dual.(mp[\"rho\"])\n",
    "    eta = dual.(mp[\"eta\"])\n",
    "    pie = dual.(mp[\"pi\"]) # lol can't overwrite \"pi\" in Julia\n",
    "\n",
    "    # using the dual variables, get the local adjustments to the arc costs in the route subproblems\n",
    "    d = Dict(\"out_of_region_dual\" => eta, \"region_data\"=> region_data, \"rotation_order\" => rot_order, \"linking_dual\" => rho)\n",
    "    local_costs = get_arc_costs(global_data, arcs, d)\n",
    "\n",
    "    ## run subproblems ##\n",
    "\n",
    "    # for each fire\n",
    "    for fire in 1:NUM_FIRES\n",
    "\n",
    "        # run the subproblem\n",
    "        plan_sp = cg.plan_sps[fire]\n",
    "        m = plan_sp[\"m\"]\n",
    "        p = plan_sp[\"p\"]\n",
    "        d = plan_sp[\"d\"]\n",
    "        beta = plan_sp[\"beta\"]\n",
    "        @objective(m, Min, beta * (sum(p) - p[1]/2 - p[NUM_TIME_PERIODS + 1]/2) + sum(d .* rho[fire, :]) + 0.0001 * sum(d))\n",
    "        optimize!(m)\n",
    "\n",
    "        # if there is an improving plan\n",
    "        if objective_value(m) < pie[fire]\n",
    "\n",
    "            # add it\n",
    "            update_available_supp_plans(fire, p, d, beta, cg.suppression_plans)\n",
    "\n",
    "        end\n",
    "    end\n",
    "\n",
    "    # for each crew\n",
    "    for crew in 1:NUM_CREWS\n",
    "\n",
    "        # run the crew subproblem\n",
    "        obj, assignments = run_crew_subproblem(cg.route_sps, crew, costs, local_costs)\n",
    "\n",
    "        # if there is an improving route\n",
    "        if obj < sigma[crew]\n",
    "\n",
    "            # add it\n",
    "            crew_arcs = [i for i in cg.route_sps[crew][\"arc_ixs\"] if (value(assignments[i]) > 0.5)]\n",
    "            update_available_routes(crew, crew_arcs, arcs, costs, cg.routes)\n",
    "\n",
    "        end\n",
    "\n",
    "    end \n",
    "    return mp\n",
    "end"
   ]
  },
  {
   "cell_type": "code",
   "execution_count": 29,
   "id": "d732c533",
   "metadata": {},
   "outputs": [],
   "source": [
    "in_path = \"data/processed\"\n",
    "\n",
    "# get inital fire perimeters and no-suppression progression parameters\n",
    "M = readdlm(in_path * \"/sample_growth_patterns.csv\", ',')\n",
    "start_perims = M[:, 1]\n",
    "progressions = M[:, 2:15]\n",
    "\n",
    "NUM_TIME_PERIODS = size(M)[2] - 1 \n",
    "NUM_FIRES = size(M)[1]      \n",
    "\n",
    "g_data, crew_status = load_data(in_path)\n",
    "r_data = RegionData([1, 1, 1, 1, 1, 2, 2, 2, 2, 2], [1, 1, 2, 2])\n",
    "rotation_order = get_rotation_orders(r_data.crew_regions)\n",
    "A = generate_arcs(g_data, r_data, crew_status);\n",
    "\n",
    "rest_pen = get_rest_penalties(crew_status.rest_by, 99999, positive)\n",
    "cost_params = Dict(\"cost_per_mile\"=> 1, \"rest_violation\" => rest_pen, \"fight_fire\" => ALPHA)\n",
    "arc_costs = get_arc_costs(g_data, A, cost_params)\n",
    "\n",
    "c_data = define_network_constraint_data(A);"
   ]
  },
  {
   "cell_type": "code",
   "execution_count": null,
   "id": "84c7a251",
   "metadata": {},
   "outputs": [],
   "source": [
    "@variable(m, p[g=1:G, t=1:T+1] >= 0)\n",
    "@variable(m, l[g=1:G, t=1:T])\n",
    "@variable(m, d[g=1:G, t=1:T] >= 0)\n",
    "@constraint(m, perim_growth[g=1:G, t=1:T], p[g, t+1] >= progs[g, t] * \n",
    "                                                       (p[g, t] - l[g, t] / 2) - l[g, t] / 2)\n",
    "@constraint(m, perim_start[g=1:G], p[g, 1] == perims[g])\n",
    "\n",
    "@objective(m, Min, beta * (sum(p) - p[1]/2 - p[NUM_TIME_PERIODS + 1]/2))"
   ]
  },
  {
   "cell_type": "code",
   "execution_count": 59,
   "id": "68b5116b",
   "metadata": {},
   "outputs": [
    {
     "data": {
      "text/plain": [
       "new_perim (generic function with 1 method)"
      ]
     },
     "execution_count": 59,
     "metadata": {},
     "output_type": "execute_result"
    }
   ],
   "source": [
    "function new_perim(old_perim, prog, num_crews, line_per_crew)\n",
    "    \n",
    "    line = line_per_crew * num_crews\n",
    "    return (old_perim - line/2) * prog - line/2\n",
    "\n",
    "end"
   ]
  },
  {
   "cell_type": "code",
   "execution_count": null,
   "id": "6ef53680",
   "metadata": {},
   "outputs": [],
   "source": [
    "aggressive_states = []\n",
    "state = "
   ]
  },
  {
   "cell_type": "code",
   "execution_count": 71,
   "id": "7035f318",
   "metadata": {},
   "outputs": [
    {
     "data": {
      "text/plain": [
       "160.0"
      ]
     },
     "execution_count": 71,
     "metadata": {},
     "output_type": "execute_result"
    }
   ],
   "source": [
    "new_perim(245, 1, 5, LINE_PER_CREW)"
   ]
  },
  {
   "cell_type": "code",
   "execution_count": 194,
   "id": "49b4c962",
   "metadata": {},
   "outputs": [
    {
     "data": {
      "text/plain": [
       "get_crews_needed_for_transition (generic function with 2 methods)"
      ]
     },
     "execution_count": 194,
     "metadata": {},
     "output_type": "execute_result"
    }
   ],
   "source": [
    "function get_crews_needed_for_transition(state_1, state_2, prog, line_per_crew, round_type)\n",
    "    \n",
    "    crews = 2 / line_per_crew * (prog * state_1 - state_2) / (1 + prog)\n",
    "    \n",
    "    if round_type == \"nearest\"\n",
    "        crews = convert(Int, round(crews))\n",
    "    \n",
    "    elseif round_type == \"ceiling\"\n",
    "        crews = convert(Int, ceil(crews - 0.0001))\n",
    "    end\n",
    "    \n",
    "    return max(crews, 0) \n",
    "    \n",
    "end "
   ]
  },
  {
   "cell_type": "code",
   "execution_count": 311,
   "id": "7ad84992",
   "metadata": {},
   "outputs": [
    {
     "data": {
      "text/plain": [
       "get_alphas (generic function with 1 method)"
      ]
     },
     "execution_count": 311,
     "metadata": {},
     "output_type": "execute_result"
    }
   ],
   "source": [
    "function get_alphas(state, prog, sorted_states)\n",
    "    \n",
    "    min_state_val = new_perim(state, prog, NUM_CREWS, LINE_PER_CREW)\n",
    "    max_state_val = new_perim(state, prog, 0, LINE_PER_CREW)\n",
    "    min_state_ix = searchsorted(sorted_states, min_state_val).start\n",
    "    max_state_ix = searchsorted(sorted_states, max_state_val).start\n",
    "    \n",
    "    edges = []\n",
    "    for state_ix in min_state_ix:max_state_ix\n",
    "        push!(edges, (state_ix, get_crews_needed_for_transition(state, \n",
    "                                                                 sorted_states[state_ix], \n",
    "                                                                 prog,\n",
    "                                                                 LINE_PER_CREW,\n",
    "                                                                 \"ceiling\")\n",
    "                       ))\n",
    "    end\n",
    "    \n",
    "    return edges\n",
    "\n",
    "end"
   ]
  },
  {
   "cell_type": "code",
   "execution_count": 320,
   "id": "54bbeeb0",
   "metadata": {},
   "outputs": [
    {
     "data": {
      "text/plain": [
       "14-element Vector{Float64}:\n",
       " 1.0\n",
       " 1.0\n",
       " 1.0\n",
       " 1.0\n",
       " 1.0\n",
       " 1.0\n",
       " 1.0\n",
       " 1.0\n",
       " 1.0\n",
       " 2.0\n",
       " 2.0\n",
       " 2.0\n",
       " 2.0\n",
       " 2.0"
      ]
     },
     "execution_count": 320,
     "metadata": {},
     "output_type": "execute_result"
    }
   ],
   "source": [
    "fire_progs"
   ]
  },
  {
   "cell_type": "code",
   "execution_count": 448,
   "id": "d554cce7",
   "metadata": {},
   "outputs": [],
   "source": [
    "g = 3\n",
    "fire_progs = progressions[g, :]\n",
    "\n",
    "\n",
    "aggressive_precision = 15\n",
    "num_aggressive_states = convert(Int, round(start_perims[g] * 2 / aggressive_precision))\n",
    "num_passive_states = 30\n",
    "\n",
    "aggressive_states = LinRange(0, num_aggressive_states * aggressive_precision, num_aggressive_states)\n",
    "passive_states = exp.(LinRange(log(num_aggressive_states * aggressive_precision+ 1), maximum(log.(states .+ 1)), num_passive_states + 1))\n",
    "passive_states = passive_states[2:num_passive_states+1] .- 1\n",
    "all_states = vcat(aggressive_states, passive_states)\n",
    "all_states = vcat(all_states, 9999999);"
   ]
  },
  {
   "cell_type": "code",
   "execution_count": 449,
   "id": "c914dcb8",
   "metadata": {},
   "outputs": [],
   "source": [
    "# generate arcs\n",
    "states_appended = copy(all_states)\n",
    "push!(states_appended, start_perims[g])\n",
    "s = length(all_states)\n",
    "crews_needed = Array{Vector}(undef, s + 1, NUM_TIME_PERIODS + 1)\n",
    "curr_time = 1\n",
    "state_name = 0\n",
    "next_to_check = [s + 1]\n",
    "\n",
    "while curr_time < 15\n",
    "    \n",
    "    to_check = copy(next_to_check)\n",
    "    next_to_check = []\n",
    "    \n",
    "    for check in to_check\n",
    "        curr_state = states_appended[check]\n",
    "        \n",
    "        if check != s\n",
    "            edges = get_alphas(curr_state, fire_progs[curr_time], all_states)\n",
    "        else\n",
    "            edges = [(s, 0)]\n",
    "        end\n",
    "        \n",
    "        for edge in edges\n",
    "            crews_needed[check, curr_time] = edges\n",
    "        end\n",
    "        next_to_check = vcat(next_to_check, [edges[i][1] for i in 1:length(edges) if ~(edges[i][1] in next_to_check)])\n",
    "    end\n",
    "    curr_time += 1\n",
    "end"
   ]
  },
  {
   "cell_type": "code",
   "execution_count": 454,
   "id": "985f7893",
   "metadata": {},
   "outputs": [],
   "source": [
    "visitable = [(i,j) for i in 1:size(crews_needed)[1], j in 1:size(crews_needed)[2] if isassigned(crews_needed, i, j)];"
   ]
  },
  {
   "cell_type": "code",
   "execution_count": 474,
   "id": "ef629c6c",
   "metadata": {},
   "outputs": [],
   "source": [
    "edge = []\n",
    "\n",
    "for (i, j) in visitable[1:10]\n",
    "    edge = copy(reduce(hcat, [[i, j, a[1], a[2]] for a in crews_needed[i, j]])')\n",
    "end"
   ]
  },
  {
   "cell_type": "code",
   "execution_count": 475,
   "id": "1b6de39b",
   "metadata": {},
   "outputs": [
    {
     "data": {
      "text/plain": [
       "14×4 Matrix{Int64}:\n",
       " 9  2   7  10\n",
       " 9  2   8  10\n",
       " 9  2   9  10\n",
       " 9  2  10   9\n",
       " 9  2  11   9\n",
       " 9  2  12   9\n",
       " 9  2  13   8\n",
       " 9  2  14   7\n",
       " 9  2  15   7\n",
       " 9  2  16   6\n",
       " 9  2  17   4\n",
       " 9  2  18   3\n",
       " 9  2  19   2\n",
       " 9  2  20   0"
      ]
     },
     "execution_count": 475,
     "metadata": {},
     "output_type": "execute_result"
    }
   ],
   "source": [
    "edge"
   ]
  },
  {
   "cell_type": "code",
   "execution_count": 453,
   "id": "5e3de794",
   "metadata": {},
   "outputs": [
    {
     "data": {
      "text/plain": [
       "18-element Vector{Any}:\n",
       " (1, 10)\n",
       " (2, 10)\n",
       " (3, 9)\n",
       " (4, 9)\n",
       " (5, 8)\n",
       " (6, 8)\n",
       " (7, 8)\n",
       " (8, 7)\n",
       " (9, 7)\n",
       " (10, 6)\n",
       " (11, 6)\n",
       " (12, 6)\n",
       " (13, 5)\n",
       " (14, 5)\n",
       " (15, 4)\n",
       " (16, 3)\n",
       " (17, 2)\n",
       " (18, 0)"
      ]
     },
     "execution_count": 453,
     "metadata": {},
     "output_type": "execute_result"
    }
   ],
   "source": [
    "crews_needed[45, 1]"
   ]
  },
  {
   "cell_type": "code",
   "execution_count": 411,
   "id": "dd00a1dc",
   "metadata": {},
   "outputs": [
    {
     "ename": "LoadError",
     "evalue": "UndefRefError: access to undefined reference",
     "output_type": "error",
     "traceback": [
      "UndefRefError: access to undefined reference",
      "",
      "Stacktrace:",
      "  [1] getindex",
      "    @ .\\array.jl:862 [inlined]",
      "  [2] getindex",
      "    @ .\\multidimensional.jl:644 [inlined]",
      "  [3] _broadcast_getindex",
      "    @ .\\broadcast.jl:636 [inlined]",
      "  [4] _getindex",
      "    @ .\\broadcast.jl:666 [inlined]",
      "  [5] _broadcast_getindex",
      "    @ .\\broadcast.jl:642 [inlined]",
      "  [6] getindex",
      "    @ .\\broadcast.jl:597 [inlined]",
      "  [7] macro expansion",
      "    @ .\\broadcast.jl:979 [inlined]",
      "  [8] macro expansion",
      "    @ .\\simdloop.jl:77 [inlined]",
      "  [9] copyto!",
      "    @ .\\broadcast.jl:978 [inlined]",
      " [10] copyto!",
      "    @ .\\broadcast.jl:913 [inlined]",
      " [11] copy",
      "    @ .\\broadcast.jl:885 [inlined]",
      " [12] materialize(bc::Base.Broadcast.Broadcasted{Base.Broadcast.DefaultArrayStyle{2}, Nothing, typeof(!=), Tuple{Matrix{Vector}, Int64}})",
      "    @ Base.Broadcast .\\broadcast.jl:860",
      " [13] top-level scope",
      "    @ In[411]:1",
      " [14] eval",
      "    @ .\\boot.jl:373 [inlined]",
      " [15] include_string(mapexpr::typeof(REPL.softscope), mod::Module, code::String, filename::String)",
      "    @ Base .\\loading.jl:1196"
     ]
    }
   ],
   "source": [
    "sum(crews_needed.!= -1)"
   ]
  },
  {
   "cell_type": "code",
   "execution_count": 387,
   "id": "04f63c7c",
   "metadata": {},
   "outputs": [
    {
     "data": {
      "text/plain": [
       "500.0"
      ]
     },
     "execution_count": 387,
     "metadata": {},
     "output_type": "execute_result"
    }
   ],
   "source": [
    "start_perims[g]"
   ]
  },
  {
   "cell_type": "code",
   "execution_count": 388,
   "id": "1b28e637",
   "metadata": {},
   "outputs": [
    {
     "data": {
      "text/plain": [
       "14-element Vector{Float64}:\n",
       " 1.0\n",
       " 1.0\n",
       " 1.0\n",
       " 1.0\n",
       " 1.0\n",
       " 1.0\n",
       " 1.0\n",
       " 1.0\n",
       " 1.0\n",
       " 2.0\n",
       " 2.0\n",
       " 2.0\n",
       " 2.0\n",
       " 2.0"
      ]
     },
     "execution_count": 388,
     "metadata": {},
     "output_type": "execute_result"
    }
   ],
   "source": [
    "fire_progs"
   ]
  },
  {
   "cell_type": "code",
   "execution_count": 310,
   "id": "09d5b161",
   "metadata": {},
   "outputs": [
    {
     "data": {
      "text/plain": [
       "8677.520378070449"
      ]
     },
     "execution_count": 310,
     "metadata": {},
     "output_type": "execute_result"
    }
   ],
   "source": [
    "all_states[38]"
   ]
  },
  {
   "cell_type": "code",
   "execution_count": 307,
   "id": "a4d53001",
   "metadata": {},
   "outputs": [
    {
     "data": {
      "text/plain": [
       "12-element Vector{Float64}:\n",
       " -1.0\n",
       " -1.0\n",
       " -1.0\n",
       " -1.0\n",
       " -1.0\n",
       " -1.0\n",
       " -1.0\n",
       " -1.0\n",
       " -1.0\n",
       " -1.0\n",
       " -1.0\n",
       " -1.0"
      ]
     },
     "execution_count": 307,
     "metadata": {},
     "output_type": "execute_result"
    }
   ],
   "source": [
    "crews_needed[38, 30:41, 14]"
   ]
  },
  {
   "cell_type": "code",
   "execution_count": 160,
   "id": "fadc4542",
   "metadata": {},
   "outputs": [
    {
     "data": {
      "text/plain": [
       "10.0"
      ]
     },
     "execution_count": 160,
     "metadata": {},
     "output_type": "execute_result"
    }
   ],
   "source": [
    "get_crews_needed_for_transition(curr_state, min_state_val, fire_progs[curr_time], LINE_PER_CREW)"
   ]
  },
  {
   "cell_type": "code",
   "execution_count": 148,
   "id": "91b995e6",
   "metadata": {},
   "outputs": [
    {
     "ename": "LoadError",
     "evalue": "BoundsError: attempt to access 0-element UnitRange{Int64} at index [18]",
     "output_type": "error",
     "traceback": [
      "BoundsError: attempt to access 0-element UnitRange{Int64} at index [18]",
      "",
      "Stacktrace:",
      " [1] throw_boundserror(A::UnitRange{Int64}, I::Int64)",
      "   @ Base .\\abstractarray.jl:691",
      " [2] getindex(v::UnitRange{Int64}, i::Int64)",
      "   @ Base .\\range.jl:861",
      " [3] top-level scope",
      "   @ In[148]:1",
      " [4] eval",
      "   @ .\\boot.jl:373 [inlined]",
      " [5] include_string(mapexpr::typeof(REPL.softscope), mod::Module, code::String, filename::String)",
      "   @ Base .\\loading.jl:1196"
     ]
    }
   ],
   "source": [
    "min_state_ix[18]"
   ]
  },
  {
   "cell_type": "code",
   "execution_count": null,
   "id": "92a6b6a4",
   "metadata": {},
   "outputs": [],
   "source": [
    "function discretize(fire_model_type, fire_model_data, num_total_crews)"
   ]
  },
  {
   "cell_type": "code",
   "execution_count": 78,
   "id": "d2a77742",
   "metadata": {},
   "outputs": [
    {
     "data": {
      "text/plain": [
       "10-element Vector{Float64}:\n",
       "   0.0\n",
       "   0.9951794800481719\n",
       "   2.9807411576052933\n",
       "   6.942293073037287\n",
       "  14.84630016385273\n",
       "  30.616212921602965\n",
       "  62.080019258016065\n",
       " 124.85596002463721\n",
       " 250.10522888291908\n",
       " 499.9999999999999"
      ]
     },
     "execution_count": 78,
     "metadata": {},
     "output_type": "execute_result"
    }
   ],
   "source": [
    "exp.(LinRange(0, minimum(log.(states .+ 1)), 10)) .- 1"
   ]
  },
  {
   "cell_type": "code",
   "execution_count": 57,
   "id": "b5dd91a4",
   "metadata": {},
   "outputs": [
    {
     "data": {
      "text/plain": [
       "10"
      ]
     },
     "execution_count": 57,
     "metadata": {},
     "output_type": "execute_result"
    }
   ],
   "source": [
    "num_states = 10"
   ]
  },
  {
   "cell_type": "code",
   "execution_count": 58,
   "id": "16de322d",
   "metadata": {},
   "outputs": [
    {
     "data": {
      "text/plain": [
       "10-element LinRange{Float64, Int64}:\n",
       " 0.0,166.667,333.333,500.0,666.667,833.333,1000.0,1166.67,1333.33,1500.0"
      ]
     },
     "execution_count": 58,
     "metadata": {},
     "output_type": "execute_result"
    }
   ],
   "source": [
    "LinRange(0, 1500, num_states)"
   ]
  },
  {
   "cell_type": "code",
   "execution_count": null,
   "id": "af37495b",
   "metadata": {},
   "outputs": [],
   "source": [
    "struct FireProgression\n",
    "    \n",
    "    states::Vector"
   ]
  },
  {
   "cell_type": "code",
   "execution_count": 35,
   "id": "603d5352",
   "metadata": {},
   "outputs": [
    {
     "data": {
      "text/plain": [
       "15-element Vector{Float64}:\n",
       " 1000.0\n",
       "    1.5\n",
       "    0.0\n",
       "    0.0\n",
       "    0.0\n",
       "    0.0\n",
       "    0.0\n",
       "    0.0\n",
       "    0.0\n",
       "    0.0\n",
       "    0.0\n",
       "    0.0\n",
       "    0.0\n",
       "    0.0\n",
       "    0.0"
      ]
     },
     "execution_count": 35,
     "metadata": {},
     "output_type": "execute_result"
    }
   ],
   "source": [
    "states"
   ]
  },
  {
   "cell_type": "code",
   "execution_count": 145,
   "id": "f8bca796",
   "metadata": {},
   "outputs": [
    {
     "data": {
      "text/plain": [
       "Nothing"
      ]
     },
     "execution_count": 145,
     "metadata": {},
     "output_type": "execute_result"
    }
   ],
   "source": [
    "mp = Nothing"
   ]
  },
  {
   "cell_type": "code",
   "execution_count": 153,
   "id": "5e877d89",
   "metadata": {},
   "outputs": [],
   "source": [
    "max_plans = 10000\n",
    "col_gen_data = initialize_column_generation(A, arc_costs, c_data, progressions, start_perims, max_plans)\n",
    "current_num_routes = copy(col_gen_data.routes.routes_per_crew)\n",
    "current_num_plans = copy(col_gen_data.suppression_plans.plans_per_fire)"
   ]
  },
  {
   "cell_type": "code",
   "execution_count": 161,
   "id": "235acbc8",
   "metadata": {},
   "outputs": [
    {
     "name": "stdout",
     "output_type": "stream",
     "text": [
      "0.0 67.0 8.3403557 61.0 0.1137069451359718 46.46200837797869 0.573370980375687\n",
      "1.0 45.0 5.3362232999999994 41.0 0.10706181654243085 97.9185179287727 0.5712305103596549\n",
      "10.0 200.0 49.64953460000002 198.0 0.15872186006808953 81.01399513080439 0.5728744706371858\n",
      "100.0 200.0 55.106949400000026 192.0 0.10306849747885316 55.11832148152911 0.5776160310800194\n",
      "1000.0 200.0 58.466874100000005 182.0 0.07140729942176627 72.23527377677108 0.5849664010603606\n",
      "10000.0 195.0 50.829066699999984 111.0 0.025047297145008862 72.68448077601126 0.5853636431418563\n"
     ]
    }
   ],
   "source": [
    "for gamma in [0, 1, 10, 100, 1000, 10000]\n",
    "\n",
    "    max_plans = 10000\n",
    "    col_gen_data = initialize_column_generation(A, arc_costs, c_data, progressions, start_perims, max_plans)\n",
    "    current_num_routes = copy(col_gen_data.routes.routes_per_crew)\n",
    "    current_num_plans = copy(col_gen_data.suppression_plans.plans_per_fire)\n",
    "\n",
    "    objs = []\n",
    "    max_iters = 200\n",
    "    n_iters = 0\n",
    "    opt = false\n",
    "    tot_time = 0\n",
    "\n",
    "    while (~opt) & (n_iters < max_iters)\n",
    "\n",
    "        n_iters += 1\n",
    "\n",
    "        tot_time += @elapsed mp = run_CG_step(col_gen_data, A, arc_costs, g_data, r_data, rotation_order, gamma)\n",
    "        push!(objs, objective_value(mp[\"m\"]))\n",
    "\n",
    "        next_num_routes = col_gen_data.routes.routes_per_crew\n",
    "        next_num_plans = col_gen_data.suppression_plans.plans_per_fire\n",
    "\n",
    "        if (sum(next_num_routes) == sum(current_num_routes)) & (sum(next_num_plans) == sum(current_num_plans))\n",
    "            opt = true\n",
    "        end\n",
    "\n",
    "        current_num_routes = copy(next_num_routes)\n",
    "        current_num_plans = copy(next_num_plans)\n",
    "\n",
    "    end\n",
    "    m, p, d, z, q, oor = full_formulation(true, r_data, c_data, rotation_order, arc_costs, \n",
    "                              progressions, start_perims, BETA, gamma)\n",
    "    optimize!(m)\n",
    "    \n",
    "    m2, p, d, z, q, oor = full_formulation(false, r_data, c_data, rotation_order, arc_costs, \n",
    "                              progressions, start_perims, BETA, 0)\n",
    "    optimize!(m2)\n",
    "    \n",
    "    pb = master_problem(col_gen_data.routes, col_gen_data.suppression_plans, r_data, rotation_order, gamma, true)\n",
    "    optimize!(pb[\"m\"])\n",
    "    pct_gap_30 = 100 * (objs[30] / objs[length(objs)] - 1)\n",
    "\n",
    "    pb_true_gap = 100 * (objective_value(pb[\"m\"]) / objective_value(m) - 1)\n",
    "    cg_lr_gap = 100 * (objs[length(objs)] / objective_value(m2) - 1)\n",
    "    \n",
    "    println(join([gamma, n_iters, tot_time, maximum(current_num_routes), pct_gap_30, pb_true_gap, cg_lr_gap], ' '))\n",
    "end"
   ]
  },
  {
   "cell_type": "code",
   "execution_count": 110,
   "id": "bc8b1fbf",
   "metadata": {},
   "outputs": [],
   "source": [
    "a = zeros(NUM_FIRES, NUM_TIME_PERIODS)\n",
    "for g=1:NUM_FIRES\n",
    "    for t=1:NUM_TIME_PERIODS\n",
    "        for c=1:NUM_CREWS\n",
    "            for r=1:col_gen_data.routes.routes_per_crew[c]-1\n",
    "                a[g, t] += value(pb[\"route\"][c, r]) * col_gen_data.routes.fires_fought[c, r, g, t] \n",
    "            end\n",
    "        end\n",
    "    end\n",
    "end"
   ]
  },
  {
   "cell_type": "code",
   "execution_count": 111,
   "id": "dbc39133",
   "metadata": {},
   "outputs": [
    {
     "data": {
      "text/plain": [
       "3×14 Matrix{Float64}:\n",
       "  0.0   0.0   0.0  0.0  2.0  1.0  0.0  3.0  8.0  0.0  0.0  0.0  0.0  0.0\n",
       "  0.0  10.0  10.0  7.0  4.0  4.0  9.0  2.0  0.0  1.0  0.0  0.0  0.0  0.0\n",
       " 10.0   0.0   0.0  0.0  0.0  0.0  0.0  0.0  0.0  0.0  0.0  0.0  0.0  0.0"
      ]
     },
     "execution_count": 111,
     "metadata": {},
     "output_type": "execute_result"
    }
   ],
   "source": [
    "a"
   ]
  },
  {
   "cell_type": "code",
   "execution_count": null,
   "id": "8ab9fd67",
   "metadata": {},
   "outputs": [],
   "source": []
  },
  {
   "cell_type": "code",
   "execution_count": 105,
   "id": "7ed60e76",
   "metadata": {},
   "outputs": [
    {
     "data": {
      "text/plain": [
       "67"
      ]
     },
     "execution_count": 105,
     "metadata": {},
     "output_type": "execute_result"
    }
   ],
   "source": [
    "n_iters"
   ]
  },
  {
   "cell_type": "code",
   "execution_count": 106,
   "id": "05b9a6fa",
   "metadata": {},
   "outputs": [
    {
     "data": {
      "text/plain": [
       "1.1510952749095825e6"
      ]
     },
     "execution_count": 106,
     "metadata": {},
     "output_type": "execute_result"
    }
   ],
   "source": [
    "objective_value(mp[\"m\"])"
   ]
  },
  {
   "cell_type": "code",
   "execution_count": 107,
   "id": "6742f08d",
   "metadata": {},
   "outputs": [
    {
     "data": {
      "text/plain": [
       "10-element Vector{Int64}:\n",
       " 43\n",
       " 46\n",
       " 49\n",
       " 39\n",
       " 47\n",
       " 53\n",
       " 40\n",
       " 44\n",
       " 61\n",
       " 44"
      ]
     },
     "execution_count": 107,
     "metadata": {},
     "output_type": "execute_result"
    }
   ],
   "source": [
    "current_num_routes"
   ]
  },
  {
   "cell_type": "code",
   "execution_count": 74,
   "id": "bbb00817",
   "metadata": {},
   "outputs": [
    {
     "data": {
      "text/plain": [
       "([35, 38, 34, 34, 34, 35, 33, 35, 38, 34], [40, 39, 12], 1.1512662246566217e6)"
      ]
     },
     "execution_count": 74,
     "metadata": {},
     "output_type": "execute_result"
    }
   ],
   "source": [
    "mp = run_CG_step(col_gen_data, A, arc_costs, g_data, r_data, rotation_order, 1000)\n",
    "objective_value(mp[\"m\"])"
   ]
  },
  {
   "cell_type": "code",
   "execution_count": 260,
   "id": "8300d883",
   "metadata": {},
   "outputs": [
    {
     "data": {
      "text/plain": [
       "([42, 36, 40, 35, 40, 40, 39, 32, 55, 43], [55, 34, 12], 1.1512388539353136e6)"
      ]
     },
     "execution_count": 260,
     "metadata": {},
     "output_type": "execute_result"
    }
   ],
   "source": [
    "routes.routes_per_crew, suppression_plans.plans_per_fire, objective_value(mp[\"m\"])"
   ]
  },
  {
   "cell_type": "code",
   "execution_count": 309,
   "id": "56c560fc",
   "metadata": {},
   "outputs": [],
   "source": [
    "a = zeros(NUM_FIRES, NUM_TIME_PERIODS)\n",
    "for g=1:NUM_FIRES\n",
    "    for t=1:NUM_TIME_PERIODS\n",
    "        for c=1:NUM_CREWS\n",
    "            for r=1:routes.routes_per_crew[c]-1\n",
    "                a[g, t] += value(mp[\"route\"][c, r]) * routes.fires_fought[c, r, g, t] \n",
    "            end\n",
    "        end\n",
    "    end\n",
    "end"
   ]
  },
  {
   "cell_type": "code",
   "execution_count": 308,
   "id": "656854ba",
   "metadata": {},
   "outputs": [
    {
     "name": "stdout",
     "output_type": "stream",
     "text": [
      "(1, 23)\n",
      "(2, 23)\n",
      "(2, 28)\n",
      "(3, 35)\n",
      "(4, 23)\n",
      "(4, 26)\n",
      "(5, 27)\n",
      "(6, 23)\n",
      "(7, 23)\n",
      "(8, 21)\n",
      "(9, 26)\n",
      "(9, 28)\n",
      "(10, 33)\n",
      "(10, 38)\n"
     ]
    }
   ],
   "source": [
    "for c=1:NUM_CREWS\n",
    "    for r=1:routes.routes_per_crew[c]-1\n",
    "        if value(mp[\"route\"][c, r]) > 0.001\n",
    "            println((c, r))\n",
    "        end\n",
    "    end\n",
    "end"
   ]
  },
  {
   "cell_type": "code",
   "execution_count": 316,
   "id": "8f31a34b",
   "metadata": {},
   "outputs": [
    {
     "data": {
      "text/plain": [
       "2.00453851178113e6"
      ]
     },
     "execution_count": 316,
     "metadata": {},
     "output_type": "execute_result"
    }
   ],
   "source": [
    "pb = master_problem(routes, suppression_plans, r_data, rotation_order, 10000, true)\n",
    "optimize!(pb[\"m\"])\n",
    "objective_value(pb[\"m\"])"
   ]
  },
  {
   "cell_type": "code",
   "execution_count": 318,
   "id": "d63ac244",
   "metadata": {},
   "outputs": [],
   "source": [
    "a = zeros(NUM_FIRES, NUM_TIME_PERIODS)\n",
    "for g=1:NUM_FIRES\n",
    "    for t=1:NUM_TIME_PERIODS\n",
    "        for c=1:NUM_CREWS\n",
    "            for r=1:routes.routes_per_crew[c]-1\n",
    "                a[g, t] += value(pb[\"route\"][c, r]) * routes.fires_fought[c, r, g, t] \n",
    "            end\n",
    "        end\n",
    "    end\n",
    "end"
   ]
  },
  {
   "cell_type": "code",
   "execution_count": 321,
   "id": "212f04c7",
   "metadata": {},
   "outputs": [
    {
     "data": {
      "text/plain": [
       "2.0"
      ]
     },
     "execution_count": 321,
     "metadata": {},
     "output_type": "execute_result"
    }
   ],
   "source": [
    "sum(value.(pb[\"q\"]))"
   ]
  },
  {
   "cell_type": "code",
   "execution_count": 319,
   "id": "cb433c17",
   "metadata": {},
   "outputs": [
    {
     "data": {
      "text/plain": [
       "3×14 Matrix{Float64}:\n",
       " 0.0  0.0   0.0   0.0  0.0  1.0  1.0  2.0  1.0  1.0  1.0  0.0  0.0  0.0\n",
       " 0.0  3.0  10.0  10.0  9.0  1.0  0.0  0.0  1.0  1.0  0.0  0.0  0.0  0.0\n",
       " 9.0  7.0   0.0   0.0  0.0  0.0  0.0  0.0  0.0  0.0  0.0  0.0  0.0  0.0"
      ]
     },
     "execution_count": 319,
     "metadata": {},
     "output_type": "execute_result"
    }
   ],
   "source": [
    "a"
   ]
  },
  {
   "cell_type": "code",
   "execution_count": 200,
   "id": "de21e5c7",
   "metadata": {},
   "outputs": [
    {
     "ename": "LoadError",
     "evalue": "ArgumentError: Indexing with `:` is not supported by Containers.SparseAxisArray",
     "output_type": "error",
     "traceback": [
      "ArgumentError: Indexing with `:` is not supported by Containers.SparseAxisArray",
      "",
      "Stacktrace:",
      "  [1] _colon_error(::Colon)",
      "    @ JuMP.Containers C:\\Users\\mit\\.julia\\packages\\JuMP\\lnUbA\\src\\Containers\\SparseAxisArray.jl:94",
      "  [2] _colon_error(#unused#::Int64, args::Function)",
      "    @ JuMP.Containers C:\\Users\\mit\\.julia\\packages\\JuMP\\lnUbA\\src\\Containers\\SparseAxisArray.jl:91",
      "  [3] getindex(::JuMP.Containers.SparseAxisArray{VariableRef, 2, Tuple{Int64, Int64}}, ::Int64, ::Function)",
      "    @ JuMP.Containers C:\\Users\\mit\\.julia\\packages\\JuMP\\lnUbA\\src\\Containers\\SparseAxisArray.jl:129",
      "  [4] (::var\"#481#482\"{Int64, Int64})(c::Int64)",
      "    @ Main .\\none:0",
      "  [5] MappingRF",
      "    @ .\\reduce.jl:95 [inlined]",
      "  [6] _foldl_impl(op::Base.MappingRF{var\"#481#482\"{Int64, Int64}, Base.BottomRF{typeof(Base.add_sum)}}, init::Base._InitialValue, itr::UnitRange{Int64})",
      "    @ Base .\\reduce.jl:58",
      "  [7] foldl_impl",
      "    @ .\\reduce.jl:48 [inlined]",
      "  [8] mapfoldl_impl",
      "    @ .\\reduce.jl:44 [inlined]",
      "  [9] #mapfoldl#244",
      "    @ .\\reduce.jl:162 [inlined]",
      " [10] mapfoldl",
      "    @ .\\reduce.jl:162 [inlined]",
      " [11] #mapreduce#248",
      "    @ .\\reduce.jl:289 [inlined]",
      " [12] mapreduce",
      "    @ .\\reduce.jl:289 [inlined]",
      " [13] #sum#251",
      "    @ .\\reduce.jl:503 [inlined]",
      " [14] sum",
      "    @ .\\reduce.jl:503 [inlined]",
      " [15] #sum#252",
      "    @ .\\reduce.jl:532 [inlined]",
      " [16] sum(a::Base.Generator{UnitRange{Int64}, var\"#481#482\"{Int64, Int64}})",
      "    @ Base .\\reduce.jl:532",
      " [17] top-level scope",
      "    @ In[200]:4",
      " [18] eval",
      "    @ .\\boot.jl:373 [inlined]",
      " [19] include_string(mapexpr::typeof(REPL.softscope), mod::Module, code::String, filename::String)",
      "    @ Base .\\loading.jl:1196"
     ]
    }
   ],
   "source": [
    "a = zeros(NUM_FIRES, NUM_TIME_PERIODS)\n",
    "for g=1:NUM_FIRES\n",
    "    for t=1:NUM_TIME_PERIODS\n",
    "        for \n",
    "        a[g, t] += sum(value(mp[\"route\"][c, :]) * routes.fires_fought[c, r, g, t] for c=1:NUM_CREWS, r=1:routes.routes_per_crew[c])\n",
    "    end\n",
    "end"
   ]
  },
  {
   "cell_type": "code",
   "execution_count": 864,
   "id": "601fc38a",
   "metadata": {},
   "outputs": [
    {
     "data": {
      "text/plain": [
       "0"
      ]
     },
     "execution_count": 864,
     "metadata": {},
     "output_type": "execute_result"
    }
   ],
   "source": [
    "sum(routes.fires_fought[:, 1, :, :])"
   ]
  },
  {
   "cell_type": "code",
   "execution_count": 1111,
   "id": "c4d623f4",
   "metadata": {},
   "outputs": [
    {
     "data": {
      "text/plain": [
       "2-dimensional DenseAxisArray{Float64,2,...} with index sets:\n",
       "    Dimension 1, Base.OneTo(10)\n",
       "    Dimension 2, 0:14\n",
       "And data, a 10×15 Matrix{Float64}:\n",
       " 0.0  0.0  0.0    0.0    0.0  0.0  …  0.0  0.0  0.0  0.0  0.0  0.0  0.0\n",
       " 0.0  0.0  0.0    0.0    0.0  0.0     0.0  0.0  0.0  0.0  0.0  0.0  0.0\n",
       " 0.0  0.0  0.0    0.0    0.0  0.0     0.0  0.0  0.0  0.0  0.0  0.0  0.0\n",
       " 0.0  0.0  0.0    0.0    0.0  0.0     0.0  0.0  0.0  0.0  0.0  0.0  0.0\n",
       " 0.0  0.0  0.0    0.0    0.0  0.0     0.0  0.0  0.0  0.0  0.0  0.0  0.0\n",
       " 0.0  0.0  0.0    0.0    0.0  0.0  …  0.0  0.0  0.0  0.0  0.0  0.0  0.0\n",
       " 0.0  0.0  0.0    0.0    0.0  0.0     0.0  0.0  0.0  0.0  0.0  0.0  0.0\n",
       " 0.0  0.0  0.0    0.0    0.0  0.0     0.0  0.0  0.0  0.0  0.0  0.0  0.0\n",
       " 0.0  0.0  0.0    0.0    0.0  0.0     0.0  0.0  0.0  0.0  0.0  0.0  0.0\n",
       " 0.0  0.0  0.0  501.153  0.0  0.0     0.0  0.0  0.0  0.0  0.0  0.0  0.0"
      ]
     },
     "execution_count": 1111,
     "metadata": {},
     "output_type": "execute_result"
    }
   ],
   "source": [
    "eta"
   ]
  },
  {
   "cell_type": "code",
   "execution_count": 114,
   "id": "d7a1a210",
   "metadata": {},
   "outputs": [
    {
     "data": {
      "text/plain": [
       "10×15 BitMatrix:\n",
       " 1  0  0  0  0  0  0  0  0  0  0  0  0  0  0\n",
       " 1  0  0  0  0  0  0  0  0  0  0  0  0  0  0\n",
       " 1  0  0  0  0  0  0  0  0  0  0  0  0  0  0\n",
       " 1  0  0  0  0  0  0  0  0  0  0  0  0  0  0\n",
       " 0  0  0  0  0  0  0  0  0  0  0  0  0  0  0\n",
       " 0  1  0  0  0  0  0  0  0  0  0  0  0  0  0\n",
       " 0  1  0  0  0  0  0  1  0  0  0  0  0  0  0\n",
       " 0  1  0  0  0  0  0  1  0  0  0  1  0  1  0\n",
       " 0  0  1  0  0  0  1  0  0  0  0  0  0  0  0\n",
       " 0  0  0  1  0  0  0  0  0  0  0  0  1  0  0"
      ]
     },
     "execution_count": 114,
     "metadata": {},
     "output_type": "execute_result"
    }
   ],
   "source": [
    "routes.out_of_reg[:, 1, :]"
   ]
  },
  {
   "cell_type": "code",
   "execution_count": 42,
   "id": "11e1f9f4",
   "metadata": {},
   "outputs": [],
   "source": [
    "crew_1_arcs = [i for i=1:length(A[:, 1]) if (value(z[i]) > 0.5) & (A[i, 1] == 1)];\n",
    "cost, ff, oor = get_route_stats(crew_1_arcs, A, arc_costs);"
   ]
  },
  {
   "cell_type": "code",
   "execution_count": 170,
   "id": "950b55a9",
   "metadata": {},
   "outputs": [
    {
     "data": {
      "text/plain": [
       "3×14 Matrix{Float64}:\n",
       " 0.0  0.0  0.0  0.0  3.0  7.0  8.0         8.0  8.0  5.0  3.0  3.0  4.0  4.0\n",
       " 0.0  7.0  9.0  9.0  4.0  0.0  4.11765e-7  0.0  0.0  1.0  1.0  2.0  0.0  3.0\n",
       " 9.0  2.0  0.0  0.0  0.0  0.0  0.0         0.0  0.0  0.0  1.0  1.0  1.0  1.0"
      ]
     },
     "execution_count": 170,
     "metadata": {},
     "output_type": "execute_result"
    }
   ],
   "source": [
    "value.(l) / LINE_PER_CREW"
   ]
  },
  {
   "cell_type": "code",
   "execution_count": 34,
   "id": "a0992d9d",
   "metadata": {},
   "outputs": [
    {
     "data": {
      "text/plain": [
       "3×14 Matrix{Float64}:\n",
       " 0.0  0.0  0.0  0.0  3.0  7.0  8.0  8.0  8.0  6.0  2.0  2.0  2.0  6.0\n",
       " 0.0  7.0  9.0  9.0  4.0  0.0  0.0  0.0  0.0  0.0  2.0  1.0  2.0  0.0\n",
       " 9.0  2.0  0.0  0.0  0.0  0.0  0.0  0.0  0.0  0.0  0.0  1.0  0.0  0.0"
      ]
     },
     "execution_count": 34,
     "metadata": {},
     "output_type": "execute_result"
    }
   ],
   "source": [
    "value.(l) / LINE_PER_CREW"
   ]
  },
  {
   "cell_type": "code",
   "execution_count": 33,
   "id": "5b684b30",
   "metadata": {},
   "outputs": [
    {
     "data": {
      "text/plain": [
       "2380.0"
      ]
     },
     "execution_count": 33,
     "metadata": {},
     "output_type": "execute_result"
    }
   ],
   "source": [
    "(sum(get_arc_costs(global_data, A2, Dict(\"cost_per_mile\"=>10, \"rest_violation\" => ones(NUM_CREWS, NUM_TIME_PERIODS)))) - \n",
    "    sum(get_arc_costs(global_data, A2, Dict(\"cost_per_mile\"=>10))))"
   ]
  },
  {
   "cell_type": "code",
   "execution_count": 9,
   "id": "f8087d4b",
   "metadata": {},
   "outputs": [
    {
     "ename": "LoadError",
     "evalue": "syntax: incomplete: \"function\" at In[9]:1 requires end",
     "output_type": "error",
     "traceback": [
      "syntax: incomplete: \"function\" at In[9]:1 requires end",
      "",
      "Stacktrace:",
      " [1] top-level scope",
      "   @ In[9]:1",
      " [2] eval",
      "   @ .\\boot.jl:373 [inlined]",
      " [3] include_string(mapexpr::typeof(REPL.softscope), mod::Module, code::String, filename::String)",
      "   @ Base .\\loading.jl:1196"
     ]
    }
   ],
   "source": [
    "function get_out_of_region_stats(region, arcs_used, region_data)\n",
    "    \"\"\"\n",
    "    \"\"\"\n",
    "    \n",
    "    # restrict to the arcs that exited the given region\n",
    "    out_of_region_ixs = [i for i in length(arcs_used[:, 1]) if arcs_used[i, 10] == region]\n",
    "    out_of_region_arcs = arcs_used[out_of_region_ixs, :]\n",
    "    \n",
    "    # get the crews associated with this region\n",
    "    crews = [i for i in 1:length(region_data.crew_regions) if region_data.crew_regions[i] == region]\n",
    "    \n",
    "    # initialize output array of indicator variables for crews exiting region\n",
    "    out_array = zeros(length(crews), NUM_TIME_PERIODS)\n",
    "    \n",
    "    # for each crew in the region\n",
    "    for i in 1:length(crews)\n",
    "        \n",
    "        # restrict to the arcs involving this crew\n",
    "        crew_ixs = [j for j in length(out_of_region_arcs[:, 1]) if arcs_used[j, 1] == crews[i]]\n",
    "        crew_arcs = out_of_region_arcs[crew_ixs, :]\n",
    "        \n",
    "        # get the times of rotation\n",
    "        rotation_times = [t in crew_arcs[:, 6] ? 1 : 0 for t in 1:NUM_TIME_PERIODS]\n",
    "        \n",
    "        # update output for crew\n",
    "        out_array[i, :] = rotation_times\n",
    "        \n",
    "    end\n",
    "    \n",
    "    return out_array\n",
    "end"
   ]
  }
 ],
 "metadata": {
  "kernelspec": {
   "display_name": "Julia 1.7.1",
   "language": "julia",
   "name": "julia-1.7"
  },
  "language_info": {
   "file_extension": ".jl",
   "mimetype": "application/julia",
   "name": "julia",
   "version": "1.7.1"
  }
 },
 "nbformat": 4,
 "nbformat_minor": 5
}
