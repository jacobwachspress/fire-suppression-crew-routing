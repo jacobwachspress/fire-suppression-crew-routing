{
 "cells": [
  {
   "cell_type": "code",
   "execution_count": 1,
   "id": "6cdcdc2d",
   "metadata": {},
   "outputs": [],
   "source": [
    "using DataFrames, CSV, DelimitedFiles"
   ]
  },
  {
   "cell_type": "code",
   "execution_count": 2,
   "id": "f6385cb9",
   "metadata": {},
   "outputs": [
    {
     "data": {
      "text/plain": [
       "2"
      ]
     },
     "execution_count": 2,
     "metadata": {},
     "output_type": "execute_result"
    }
   ],
   "source": [
    "NUM_CREWS = 10                \n",
    "BREAK_LENGTH = 2       # how long at base to be considered \"rested\"\n",
    "\n",
    "# tradeoffs\n",
    "BETA = 100             # cost of one area unit burned / cost of mile traveled\n",
    "ALPHA = 200            # cost of crew-day of suppression / cost of mile traveled\n",
    "LINE_PER_CREW = 17     # how much perimeter prevented per crew per time period\n",
    "\n",
    "FIRE_CODE = 1\n",
    "BASE_CODE = 2"
   ]
  },
  {
   "cell_type": "code",
   "execution_count": 3,
   "id": "7d6078cd",
   "metadata": {},
   "outputs": [],
   "source": [
    "struct GlobalData\n",
    "    \n",
    "    ff_dist::Matrix{Float64}\n",
    "    bf_dist::Matrix{Float64}\n",
    "    ff_tau::Matrix{Int64}\n",
    "    bf_tau::Matrix{Int64}\n",
    "    \n",
    "end"
   ]
  },
  {
   "cell_type": "code",
   "execution_count": 4,
   "id": "d56e310c",
   "metadata": {},
   "outputs": [],
   "source": [
    "struct RegionData\n",
    "    \n",
    "    crew_regions::Vector{Int64}\n",
    "    fire_regions::Vector{Int64}\n",
    "    \n",
    "end\n",
    "\n",
    "mutable struct RouteData\n",
    "    \n",
    "    routes_per_crew::Vector{Int64} # could add in length\n",
    "    route_costs::Matrix{Real}\n",
    "    \n",
    "end\n",
    "\n",
    "mutable struct SuppressionPlanData\n",
    "    \n",
    "    plans_per_fire::Vector{Int64} # could add in length\n",
    "    plan_costs::Matrix{Real}\n",
    "    \n",
    "end"
   ]
  },
  {
   "cell_type": "code",
   "execution_count": 5,
   "id": "0474f834",
   "metadata": {},
   "outputs": [
    {
     "name": "stdout",
     "output_type": "stream",
     "text": [
      "10\n"
     ]
    }
   ],
   "source": [
    "# set path to all input data\n",
    "in_path = \"data/processed\"\n",
    "\n",
    "# get inital fire perimeters and no-suppression progression parameters\n",
    "M = readdlm(in_path * \"/sample_growth_patterns.csv\", ',')\n",
    "start_perims = M[:, 1]\n",
    "progressions = M[:, 2:15]\n",
    "\n",
    "NUM_TIME_PERIODS = size(M)[2] - 1 \n",
    "NUM_FIRES = size(M)[1]       \n",
    "\n",
    "# get distance from fire f to fire g \n",
    "fire_dists =  readdlm(in_path * \"/fire_distances.csv\", ',')\n",
    "\n",
    "# get distance from base c to fire g (NUM_CREWS-by-NUM_FIRES)\n",
    "base_fire_dists =  readdlm(in_path * \"/base_fire_distances.csv\", ',')\n",
    "\n",
    "# initialize travel times (number of periods) from fire f to fire g\n",
    "tau = convert(Array{Int}, ones(size(fire_dists)))\n",
    "\n",
    "# initialize number of periods to travel from base c to fire g (NUM_CREWS-by-NUM_FIRES)\n",
    "tau_base_to_fire = convert(Array{Int}, ones((size(base_fire_dists))))\n",
    "\n",
    "global_data = GlobalData(fire_dists, base_fire_dists, tau, tau_base_to_fire)\n",
    "\n",
    "# read intial crew statuses (location, period by which they must rest)\n",
    "# (-1 in current_fire means crew is currently at base)\n",
    "# (rested_periods is the amount of time crew has been at base, relevant for completing rest)\n",
    "crew_starts = CSV.read(in_path * \"/sample_crew_starts.csv\", DataFrame)\n",
    "println(size(crew_starts)[1])\n",
    "rest_by = crew_starts[!, \"rest_by\"]\n",
    "current_fire = crew_starts[!, \"current_fire\"]\n",
    "rested_periods = crew_starts[!, \"rested_periods\"];"
   ]
  },
  {
   "cell_type": "code",
   "execution_count": 6,
   "id": "820decc8",
   "metadata": {},
   "outputs": [
    {
     "data": {
      "text/plain": [
       "RegionData([1, 1, 1, 1, 1, 2, 2, 2, 2, 2], [1, 1, 2, 2])"
      ]
     },
     "execution_count": 6,
     "metadata": {},
     "output_type": "execute_result"
    }
   ],
   "source": [
    "rd = RegionData([1, 1, 1, 1, 1, 2, 2, 2, 2, 2], [1, 1, 2, 2])"
   ]
  },
  {
   "cell_type": "code",
   "execution_count": 7,
   "id": "6b0d9ac4",
   "metadata": {},
   "outputs": [],
   "source": [
    "# crew, from_type, from_ix, to_type, to_ix, from_time, to_time, from_rested, to_rested, exited_region"
   ]
  },
  {
   "cell_type": "code",
   "execution_count": 51,
   "id": "d3550c1d",
   "metadata": {},
   "outputs": [
    {
     "data": {
      "text/plain": [
       "arc_exits_region (generic function with 2 methods)"
      ]
     },
     "execution_count": 51,
     "metadata": {},
     "output_type": "execute_result"
    }
   ],
   "source": [
    "function arc_exits_region(crew, from_type, from_ix, to_type, to_ix, region_data)\n",
    "    \n",
    "    # get the region where the arc originates\n",
    "    from_region = 0\n",
    "    if from_type == FIRE_CODE\n",
    "        from_region = region_data.fire_regions[from_ix]\n",
    "    elseif from_type == BASE_CODE\n",
    "        from_region = region_data.crew_regions[from_ix]\n",
    "    else\n",
    "        throw(DomainError(from_type, \"from_type invalid\"))\n",
    "    end\n",
    "    \n",
    "    # get the region where the arc terminates\n",
    "    to_region = 0\n",
    "    if to_type == FIRE_CODE\n",
    "        to_region = region_data.fire_regions[to_ix]\n",
    "    elseif to_type == BASE_CODE\n",
    "        to_region = region_data.crew_regions[to_ix]\n",
    "    else\n",
    "        throw(DomainError(from_type, \"to_type invalid\"))\n",
    "    end\n",
    "    \n",
    "    # if these are different regions\n",
    "    if from_region != to_region\n",
    "        \n",
    "        # if the crew is leaving its home region\n",
    "        if region_data.crew_regions[crew] == from_region\n",
    "        \n",
    "            # return the region that the arc exited\n",
    "            return from_region\n",
    "            \n",
    "        end\n",
    "        \n",
    "    end\n",
    "    \n",
    "    # otherwise\n",
    "    return 0\n",
    "    \n",
    "end     "
   ]
  },
  {
   "cell_type": "code",
   "execution_count": 9,
   "id": "022fddda",
   "metadata": {},
   "outputs": [],
   "source": [
    "gd = global_data;"
   ]
  },
  {
   "cell_type": "code",
   "execution_count": 31,
   "id": "d3992e2f",
   "metadata": {},
   "outputs": [
    {
     "data": {
      "text/plain": [
       "10-element Vector{Int64}:\n",
       " 15\n",
       " 15\n",
       " 10\n",
       " 10\n",
       "  8\n",
       "  8\n",
       "  5\n",
       "  5\n",
       "  4\n",
       "  1"
      ]
     },
     "execution_count": 31,
     "metadata": {},
     "output_type": "execute_result"
    }
   ],
   "source": [
    "rest_by"
   ]
  },
  {
   "cell_type": "code",
   "execution_count": 52,
   "id": "b7723c0a",
   "metadata": {},
   "outputs": [],
   "source": [
    "# get fire-to-fire arcs\n",
    "ff = [[c, FIRE_CODE, f_from, FIRE_CODE, f_to, t_from, t_from + gd.ff_tau[f_to, f_from], rest, rest]\n",
    "      for c=1:NUM_CREWS, f_from=1:NUM_FIRES, f_to=1:NUM_FIRES, t_from=1:NUM_TIME_PERIODS, rest=0:1]\n",
    "ff = copy(reduce(hcat, ff)')\n",
    "\n",
    "# get fire-to-fire arcs from start, based on current crew locations\n",
    "from_start_ff = [[c, FIRE_CODE, current_fire[c], FIRE_CODE, f_to, 0, gd.ff_tau[f_to, current_fire[c]], 0, 0]\n",
    "                  for c=1:NUM_CREWS, f_to=1:NUM_FIRES if current_fire[c] != -1]\n",
    "from_start_ff = copy(reduce(hcat, from_start_ff)')\n",
    "\n",
    "# get base-to-fire arcs\n",
    "rf = [[c, BASE_CODE, c, FIRE_CODE, f_to, t_from, t_from + gd.bf_tau[c, f_to], rest, rest]\n",
    "       for c=1:NUM_CREWS, f_to=1:NUM_FIRES, t_from=1:NUM_TIME_PERIODS, rest=0:1]\n",
    "rf = copy(reduce(hcat, rf)')\n",
    "\n",
    "# get base-to-fire arcs from start\n",
    "from_start_rf = [[c, BASE_CODE, c, FIRE_CODE, f_to, 0, gd.bf_tau[c, f_to], 0, 0]\n",
    "                  for c=1:NUM_CREWS, f_to=1:NUM_FIRES if current_fire[c] == -1]\n",
    "from_start_rf = copy(reduce(hcat, from_start_rf)')\n",
    "\n",
    "# get fire-to-base arcs\n",
    "fr = [[c, FIRE_CODE, f_from, BASE_CODE, c, t_from, t_from + gd.bf_tau[c, f_from], rest, rest]\n",
    "       for c=1:NUM_CREWS, f_from=1:NUM_FIRES, t_from=1:NUM_TIME_PERIODS, rest=0:1]\n",
    "fr = copy(reduce(hcat, fr)')\n",
    "\n",
    "# get fire-to-base arcs from start, based on current crew locations\n",
    "from_start_fr = [[c, FIRE_CODE, current_fire[c], BASE_CODE, c, 0, gd.bf_tau[c, current_fire[c]], 0, 0]\n",
    "                  for c=1:NUM_CREWS if current_fire[c] != -1]\n",
    "from_start_fr = copy(reduce(hcat, from_start_fr)')\n",
    "\n",
    "# get base-to-base arcs\n",
    "rr = [[c, BASE_CODE, c, BASE_CODE, c, t_from, t_from + 1 + (BREAK_LENGTH - 1) * rest, 0, rest]\n",
    "      for c=1:NUM_CREWS, t_from=1:NUM_TIME_PERIODS, rest=0:1]\n",
    "rr = copy(reduce(hcat, rr)')\n",
    "\n",
    "# get base-to-base arcs from start, based on current days rested\n",
    "from_start_rr = [[c, BASE_CODE, c, BASE_CODE, c, 0, \n",
    "                  1 + (BREAK_LENGTH - max(rested_periods[c], 0) - 1) * rest, 0, rest] \n",
    "                  for c=1:NUM_CREWS, rest=0:1 if current_fire[c] == -1]\n",
    "from_start_rr = copy(reduce(hcat, from_start_rr)')\n",
    "\n",
    "A = vcat(ff, from_start_ff, rf, from_start_rf, fr, from_start_fr, rr, from_start_rr)\n",
    "\n",
    "out_of_region = [arc_exits_region(A[i, 1], A[i, 2], A[i, 3], A[i, 4], A[i, 5], rd) \n",
    "                 for i in 1:length(A[:, 1])]\n",
    "A = hcat(A, out_of_region);"
   ]
  },
  {
   "cell_type": "code",
   "execution_count": 11,
   "id": "4b237a83",
   "metadata": {},
   "outputs": [
    {
     "data": {
      "text/plain": [
       "get_distance (generic function with 1 method)"
      ]
     },
     "execution_count": 11,
     "metadata": {},
     "output_type": "execute_result"
    }
   ],
   "source": [
    "function get_distance(from_type, from_ix, to_type, to_ix, fire_fire, base_fire)\n",
    "    \n",
    "    dist = 0\n",
    "    \n",
    "    # if fire to fire\n",
    "    if from_type == FIRE_CODE & to_type == FIRE_CODE\n",
    "        dist = fire_fire[from_ix, to_ix]\n",
    "    \n",
    "    # if fire to base\n",
    "    elseif from_type == FIRE_CODE & to_type == BASE_CODE\n",
    "        dist = base_fire[to_ix, from_ix]\n",
    "    \n",
    "    # if base to fire\n",
    "    elseif from_type == BASE_CODE & to_type == FIRE_CODE\n",
    "        dist = base_fire[from_ix, to_ix]\n",
    "        \n",
    "    # otherwise dist still 0\n",
    "    end\n",
    "    \n",
    "    return dist\n",
    "end "
   ]
  },
  {
   "cell_type": "code",
   "execution_count": 32,
   "id": "672e5034",
   "metadata": {},
   "outputs": [
    {
     "data": {
      "text/plain": [
       "get_arc_costs (generic function with 1 method)"
      ]
     },
     "execution_count": 32,
     "metadata": {},
     "output_type": "execute_result"
    }
   ],
   "source": [
    "function get_arc_costs(gd, arc_matrix, cost_param_dict)\n",
    "    \n",
    "    # initialize costs to 0\n",
    "    costs = zeros(length(arc_matrix[:, 1]))\n",
    "    \n",
    "    # if there is travel cost per mile\n",
    "    if \"cost_per_mile\" in keys(cost_param_dict)\n",
    "        \n",
    "        # find the miles for each arc\n",
    "        miles_per_arc =  [get_distance(arc_matrix[i, 2], arc_matrix[i, 3], \n",
    "                                       arc_matrix[i, 4], arc_matrix[i, 5], \n",
    "                                       gd.ff_dist, gd.bf_dist) for i in 1:length(arc_matrix[:, 1])]\n",
    "        # add to costs\n",
    "        costs = costs .+ (cost_param_dict[\"cost_per_mile\"] * miles_per_arc)\n",
    "    end\n",
    "    \n",
    "    # if there are rest violations\n",
    "    if \"rest_violation\" in keys(cost_param_dict)\n",
    "        \n",
    "        # find the rest violation scores\n",
    "        rest_violation_matrix = cost_param_dict[\"rest_violation\"]\n",
    "        rest_violations = [(arc_matrix[i, 8] == 0) & (arc_matrix[i, 6] > 0) ? \n",
    "                           rest_violation_matrix[arc_matrix[i, 1], arc_matrix[i, 6]] : 0\n",
    "                           for i in 1:length(arc_matrix[:, 1])]\n",
    "        \n",
    "        # add to costs\n",
    "        costs = costs .+ rest_violations\n",
    "    end\n",
    "    \n",
    "    return costs\n",
    "end"
   ]
  },
  {
   "cell_type": "code",
   "execution_count": 21,
   "id": "cf8c93a7",
   "metadata": {},
   "outputs": [
    {
     "data": {
      "text/plain": [
       "get_rest_penalties (generic function with 2 methods)"
      ]
     },
     "execution_count": 21,
     "metadata": {},
     "output_type": "execute_result"
    }
   ],
   "source": [
    "# should return matrix indexed by crew, time, \n",
    "function get_rest_penalties(rest_by_period, accounting=\"binary\")\n",
    "    \n",
    "    return accounting\n",
    "end"
   ]
  },
  {
   "cell_type": "code",
   "execution_count": 23,
   "id": "34c8a000",
   "metadata": {},
   "outputs": [
    {
     "data": {
      "text/plain": [
       "1"
      ]
     },
     "execution_count": 23,
     "metadata": {},
     "output_type": "execute_result"
    }
   ],
   "source": [
    "get_rest_penalties(1)"
   ]
  },
  {
   "cell_type": "code",
   "execution_count": 13,
   "id": "a7ce1461",
   "metadata": {},
   "outputs": [
    {
     "data": {
      "text/plain": [
       "0"
      ]
     },
     "execution_count": 13,
     "metadata": {},
     "output_type": "execute_result"
    }
   ],
   "source": [
    "A2 = copy(A)\n",
    "A = 0"
   ]
  },
  {
   "cell_type": "code",
   "execution_count": 17,
   "id": "969e7349",
   "metadata": {},
   "outputs": [
    {
     "data": {
      "text/plain": [
       "6×10 Matrix{Int64}:\n",
       "  9  1  1  1  1  1  2  0  0  0\n",
       " 10  1  1  1  1  1  2  0  0  0\n",
       "  1  1  2  1  1  1  2  0  0  0\n",
       "  2  1  2  1  1  1  2  0  0  0\n",
       "  3  1  2  1  1  1  2  0  0  0\n",
       "  4  1  2  1  1  1  2  0  0  0"
      ]
     },
     "execution_count": 17,
     "metadata": {},
     "output_type": "execute_result"
    }
   ],
   "source": [
    "A2[9:14, :]"
   ]
  },
  {
   "cell_type": "code",
   "execution_count": 33,
   "id": "a56aea6e",
   "metadata": {},
   "outputs": [
    {
     "data": {
      "text/plain": [
       "2380.0"
      ]
     },
     "execution_count": 33,
     "metadata": {},
     "output_type": "execute_result"
    }
   ],
   "source": [
    "(sum(get_arc_costs(global_data, A2, Dict(\"cost_per_mile\"=>10, \"rest_violation\" => ones(NUM_CREWS, NUM_TIME_PERIODS)))) - \n",
    "    sum(get_arc_costs(global_data, A2, Dict(\"cost_per_mile\"=>10))))"
   ]
  },
  {
   "cell_type": "code",
   "execution_count": 41,
   "id": "3afc43eb",
   "metadata": {},
   "outputs": [
    {
     "data": {
      "text/plain": [
       "2380"
      ]
     },
     "execution_count": 41,
     "metadata": {},
     "output_type": "execute_result"
    }
   ],
   "source": [
    "sum(1 .- A2[:, 8]) - sum(A2[:, 6] .== 0)"
   ]
  },
  {
   "cell_type": "code",
   "execution_count": 32,
   "id": "a50695ee",
   "metadata": {},
   "outputs": [
    {
     "data": {
      "text/plain": [
       "Dict{Int64, Char} with 1 entry:\n",
       "  3 => 'a'"
      ]
     },
     "execution_count": 32,
     "metadata": {},
     "output_type": "execute_result"
    }
   ],
   "source": [
    "d = Dict(3=>'a')"
   ]
  },
  {
   "cell_type": "code",
   "execution_count": 34,
   "id": "2244c0fe",
   "metadata": {},
   "outputs": [
    {
     "data": {
      "text/plain": [
       "false"
      ]
     },
     "execution_count": 34,
     "metadata": {},
     "output_type": "execute_result"
    }
   ],
   "source": [
    "4 in keys(d)"
   ]
  },
  {
   "cell_type": "code",
   "execution_count": 8,
   "id": "95927ab4",
   "metadata": {},
   "outputs": [
    {
     "ename": "LoadError",
     "evalue": "syntax: incomplete: premature end of input",
     "output_type": "error",
     "traceback": [
      "syntax: incomplete: premature end of input",
      "",
      "Stacktrace:",
      " [1] top-level scope",
      "   @ In[8]:1",
      " [2] eval",
      "   @ .\\boot.jl:373 [inlined]",
      " [3] include_string(mapexpr::typeof(REPL.softscope), mod::Module, code::String, filename::String)",
      "   @ Base .\\loading.jl:1196"
     ]
    }
   ],
   "source": [
    "struct ArcData\n",
    "    \n",
    "# crew, from_type, from_ix, to_type, to_ix, from_time, to_time, from_rested, to_rested, exited_region"
   ]
  },
  {
   "cell_type": "code",
   "execution_count": 9,
   "id": "3a50fb65",
   "metadata": {},
   "outputs": [
    {
     "ename": "LoadError",
     "evalue": "syntax: incomplete: \"function\" at In[9]:1 requires end",
     "output_type": "error",
     "traceback": [
      "syntax: incomplete: \"function\" at In[9]:1 requires end",
      "",
      "Stacktrace:",
      " [1] top-level scope",
      "   @ In[9]:1",
      " [2] eval",
      "   @ .\\boot.jl:373 [inlined]",
      " [3] include_string(mapexpr::typeof(REPL.softscope), mod::Module, code::String, filename::String)",
      "   @ Base .\\loading.jl:1196"
     ]
    }
   ],
   "source": [
    "function get_out_of_region_stats(region, arcs_used, region_data)\n",
    "    \"\"\"\n",
    "    \"\"\"\n",
    "    \n",
    "    # restrict to the arcs that exited the given region\n",
    "    out_of_region_ixs = [i for i in length(arcs_used[:, 1]) if arcs_used[i, 10] == region]\n",
    "    out_of_region_arcs = arcs_used[out_of_region_ixs, :]\n",
    "    \n",
    "    # get the crews associated with this region\n",
    "    crews = [i for i in 1:length(region_data.crew_regions) if region_data.crew_regions[i] == region]\n",
    "    \n",
    "    # initialize output array of indicator variables for crews exiting region\n",
    "    out_array = zeros(length(crews), NUM_TIME_PERIODS)\n",
    "    \n",
    "    # for each crew in the region\n",
    "    for i in 1:length(crews)\n",
    "        \n",
    "        # restrict to the arcs involving this crew\n",
    "        crew_ixs = [j for j in length(out_of_region_arcs[:, 1]) if arcs_used[j, 1] == crews[i]]\n",
    "        crew_arcs = out_of_region_arcs[crew_ixs, :]\n",
    "        \n",
    "        # get the times of rotation\n",
    "        rotation_times = [t in crew_arcs[:, 6] ? 1 : 0 for t in 1:NUM_TIME_PERIODS]\n",
    "        \n",
    "        # update output for crew\n",
    "        out_array[i, :] = rotation_times\n",
    "        \n",
    "    end\n",
    "    \n",
    "    return out_array\n",
    "end"
   ]
  }
 ],
 "metadata": {
  "kernelspec": {
   "display_name": "Julia 1.7.1",
   "language": "julia",
   "name": "julia-1.7"
  },
  "language_info": {
   "file_extension": ".jl",
   "mimetype": "application/julia",
   "name": "julia",
   "version": "1.7.1"
  }
 },
 "nbformat": 4,
 "nbformat_minor": 5
}
