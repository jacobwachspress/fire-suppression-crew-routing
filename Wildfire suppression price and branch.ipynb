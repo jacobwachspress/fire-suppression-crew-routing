{
 "cells": [
  {
   "cell_type": "markdown",
   "id": "13808129",
   "metadata": {},
   "source": [
    "## Imports"
   ]
  },
  {
   "cell_type": "code",
   "execution_count": 1,
   "id": "05c73509",
   "metadata": {},
   "outputs": [],
   "source": [
    "using DataFrames, CSV, JuMP, Gurobi, LinearAlgebra, DelimitedFiles, Combinatorics, NPZ"
   ]
  },
  {
   "cell_type": "code",
   "execution_count": 2,
   "id": "a09ce7b5",
   "metadata": {},
   "outputs": [
    {
     "name": "stdout",
     "output_type": "stream",
     "text": [
      "Academic license - for non-commercial use only\r\n"
     ]
    },
    {
     "data": {
      "text/plain": [
       "Gurobi.Env(Ptr{Nothing} @0x000000007c000080, false, 0)"
      ]
     },
     "execution_count": 2,
     "metadata": {},
     "output_type": "execute_result"
    }
   ],
   "source": [
    "const GRB_ENV = Gurobi.Env()"
   ]
  },
  {
   "cell_type": "code",
   "execution_count": 3,
   "id": "74cee363",
   "metadata": {},
   "outputs": [],
   "source": [
    "TIME_LIMIT = 3600 * 24 * 10;"
   ]
  },
  {
   "cell_type": "markdown",
   "id": "de6dfba4",
   "metadata": {},
   "source": [
    "## Read in data, initialize parameters"
   ]
  },
  {
   "cell_type": "code",
   "execution_count": 4,
   "id": "b22a7b3b",
   "metadata": {},
   "outputs": [
    {
     "name": "stdout",
     "output_type": "stream",
     "text": [
      "10\n"
     ]
    }
   ],
   "source": [
    "NUM_CREWS = 10                \n",
    "BREAK_LENGTH = 2       # how long at base to be considered \"rested\"\n",
    "\n",
    "# tradeoffs\n",
    "BETA = 100             # cost of one area unit burned / cost of mile traveled\n",
    "ALPHA = 200            # cost of crew-day of suppression / cost of mile traveled\n",
    "LINE_PER_CREW = 17     # how much perimeter prevented per crew per time period\n",
    "\n",
    "# set path to all input data\n",
    "in_path = \"data/processed\"\n",
    "\n",
    "# get inital fire perimeters and no-suppression progression parameters\n",
    "M = readdlm(in_path * \"/sample_growth_patterns.csv\", ',')\n",
    "start_perims = M[:, 1]\n",
    "progressions = M[:, 2:15]\n",
    "\n",
    "NUM_TIME_PERIODS = size(M)[2] - 1 \n",
    "NUM_FIRES = size(M)[1]       \n",
    "\n",
    "# get distance from fire f to fire g \n",
    "fire_dists =  readdlm(in_path * \"/fire_distances.csv\", ',')\n",
    "\n",
    "# get distance from base c to fire g (NUM_CREWS-by-NUM_FIRES)\n",
    "base_fire_dists =  readdlm(in_path * \"/base_fire_distances.csv\", ',')\n",
    "\n",
    "# initialize travel times (number of periods) from fire f to fire g\n",
    "tau = convert(Array{Int}, ones(size(fire_dists)))\n",
    "\n",
    "# initialize number of periods to travel from base c to fire g (NUM_CREWS-by-NUM_FIRES)\n",
    "tau_base_to_fire = convert(Array{Int}, ones((size(base_fire_dists))))\n",
    "\n",
    "# read intial crew statuses (location, period by which they must rest)\n",
    "# (-1 in current_fire means crew is currently at base)\n",
    "# (rested_periods is the amount of time crew has been at base, relevant for completing rest)\n",
    "crew_starts = CSV.read(in_path * \"/sample_crew_starts.csv\", DataFrame)\n",
    "println(size(crew_starts)[1])\n",
    "rest_by = crew_starts[!, \"rest_by\"]\n",
    "current_fire = crew_starts[!, \"current_fire\"]\n",
    "rested_periods = crew_starts[!, \"rested_periods\"];"
   ]
  },
  {
   "cell_type": "markdown",
   "id": "ec0e909e",
   "metadata": {},
   "source": [
    "## Helper functions for full formulation"
   ]
  },
  {
   "cell_type": "code",
   "execution_count": 5,
   "id": "d4efdd2f",
   "metadata": {},
   "outputs": [],
   "source": [
    "struct ArcData\n",
    "    \n",
    "    ff_ix::Vector\n",
    "    fr_ix::Vector\n",
    "    rf_ix::Vector\n",
    "    rr_ix::Vector\n",
    "    \n",
    "    ff_ix_arr::Vector\n",
    "    fr_ix_arr::Vector\n",
    "    rf_ix_arr::Vector\n",
    "    rr_ix_arr::Vector\n",
    "    \n",
    "    from_start_ff::Vector\n",
    "    from_start_fr::Vector\n",
    "    from_start_rf::Vector\n",
    "    from_start_rr::Vector\n",
    "\n",
    "end"
   ]
  },
  {
   "cell_type": "code",
   "execution_count": 201,
   "id": "ebc75017",
   "metadata": {},
   "outputs": [],
   "source": [
    "struct NetworkConstraintData\n",
    "    \n",
    "    # fire flow data\n",
    "    ff_out::Array{Vector{NTuple},4}\n",
    "    fr_out::Array{Vector{NTuple},4}\n",
    "    ff_in::Array{Vector{NTuple},4}\n",
    "    rf_in::Array{Vector{NTuple},4}\n",
    "    \n",
    "    rf_out::Array{Vector{NTuple},3}\n",
    "    rr_out::Array{Vector{NTuple},3}\n",
    "    fr_in::Array{Vector{NTuple},3}\n",
    "    rr_in::Array{Vector{NTuple},3}\n",
    "    \n",
    "    ff_link::Array{Vector{NTuple},2}\n",
    "    rf_link::Array{Vector{NTuple},2}\n",
    "    \n",
    "end "
   ]
  },
  {
   "cell_type": "code",
   "execution_count": 6,
   "id": "7cd32abb",
   "metadata": {},
   "outputs": [],
   "source": [
    "struct FireProgressionData\n",
    "    \n",
    "    start_perims::Vector\n",
    "    progressions::Matrix\n",
    "\n",
    "end"
   ]
  },
  {
   "cell_type": "code",
   "execution_count": 7,
   "id": "7a1940de",
   "metadata": {},
   "outputs": [
    {
     "data": {
      "text/plain": [
       "define_arc_sets (generic function with 1 method)"
      ]
     },
     "execution_count": 7,
     "metadata": {},
     "output_type": "execute_result"
    }
   ],
   "source": [
    "function define_arc_sets(tau, tau_base_to_fire, current_fire, rest_by, rested_periods)\n",
    "    \n",
    "    # shorten some global variable names\n",
    "    C = NUM_CREWS\n",
    "    G = NUM_FIRES\n",
    "    T = NUM_TIME_PERIODS\n",
    "    \n",
    "    ## generate fire_to_fire index set\n",
    "\n",
    "    # arcs for time-space network for non-rested crews\n",
    "    non_rested_ff = [(c, f_from, f_to, t_from, t_from + tau[f_to, f_from], 0)\n",
    "                      for c=1:C, f_from=1:G, f_to=1:G, t_from=1:T\n",
    "                      if t_from <= rest_by[c]]\n",
    "\n",
    "    # arcs for time-space network for rested crews\n",
    "    rested_ff = [(c, f_from, f_to, t_from, t_from + tau[f_to, f_from], 1)\n",
    "                   for c=1:C, f_from=1:G, f_to=1:G, t_from=1:T\n",
    "                   if 1==1]\n",
    "\n",
    "    # special arcs for first travel from initial fires\n",
    "    from_start_ff = [(c, current_fire[c], f_to, 0, tau[f_to, current_fire[c]], 0)\n",
    "                      for c=1:C, f_to=1:G\n",
    "                      if current_fire[c] != -1]\n",
    "\n",
    "    # concat\n",
    "    ff_ix = vcat(non_rested_ff, rested_ff)\n",
    "    ff_ix = vcat(from_start_ff, ff_ix)\n",
    "\n",
    "    ## generate fire_to_rest index set\n",
    "\n",
    "    # arcs for time-space network for non-rested crews\n",
    "    non_rested_fr = [(c, f_from, t_from, t_from + tau_base_to_fire[c, f_from], 0)\n",
    "                      for c=1:C, f_from=1:G, t_from=1:T\n",
    "                      if t_from <= rest_by[c]]\n",
    "\n",
    "    # arcs for time-space network for rested crews\n",
    "    rested_fr = [(c, f_from, t_from, t_from + tau_base_to_fire[c, f_from], 1)\n",
    "                   for c=1:C, f_from=1:G, t_from=1:T\n",
    "                   if 1==1]\n",
    "\n",
    "    # special arcs for first travel from initial fires\n",
    "    from_start_fr = [(c, current_fire[c], 0, tau_base_to_fire[c, current_fire[c]], 0)\n",
    "                      for c=1:C\n",
    "                      if current_fire[c] != -1]\n",
    "\n",
    "    # concat\n",
    "    fr_ix = vcat(non_rested_fr, rested_fr)\n",
    "    fr_ix = vcat(from_start_fr, fr_ix)\n",
    "\n",
    "    ## generate rest_to_fire index set\n",
    "\n",
    "    # arcs for time-space network when leaving base without rest\n",
    "    non_rested_rf = [(c, f_to, t_from, t_from + tau_base_to_fire[c, f_to], 0)\n",
    "                       for c=1:C, f_to=1:G, t_from=1:T\n",
    "                       if t_from <= rest_by[c]]\n",
    "\n",
    "    # arcs for time-space network when going non-rest -> rest\n",
    "    rested_rf = [(c, f_to, t_from, t_from + tau_base_to_fire[c, f_to], 1)\n",
    "                   for c=1:C, f_to=1:G, t_from=1:T\n",
    "                   if 1==1]\n",
    "\n",
    "    # special arcs for first travel from initial rest\n",
    "    from_start_rf = [(c, f_to, 0, tau_base_to_fire[c, f_to], 0)\n",
    "                      for c=1:C, f_to=1:G\n",
    "                      if current_fire[c] == -1]\n",
    "\n",
    "    # concat\n",
    "    rf_ix = vcat(non_rested_rf, rested_rf)\n",
    "    rf_ix = vcat(from_start_rf, rf_ix)\n",
    "\n",
    "    ## generate rest_to_rest index set\n",
    "    ## (crew, time_from, time_to, rested_From, rested_to)\n",
    "\n",
    "\n",
    "    non_to_non_rested_rr = [(c, t_from, t_from + 1, 0, 0)\n",
    "                               for c=1:C, t_from=1:T\n",
    "                               if t_from <= rest_by[c]]\n",
    "\n",
    "    non_to_yes_rested_rr = [(c, t_from, t_from + BREAK_LENGTH, 0, 1)\n",
    "                               for c=1:C, t_from=1:T\n",
    "                               if t_from <= rest_by[c]]\n",
    "\n",
    "    yes_rested_rr = [(c, t_from, t_from + 1, 1, 1)\n",
    "                       for c=1:C, t_from=1:T\n",
    "                        if 1==1]\n",
    "\n",
    "    from_start_to_non_rested_rr = [(c, 0, 1, 0, 0) for c=1:C if current_fire[c] == -1]\n",
    "    from_start_to_yes_rested_rr = [(c, 0, BREAK_LENGTH - rested_periods[c], 0, 1) \n",
    "                                      for c=1:C \n",
    "                                      if (current_fire[c] == -1) & (rested_periods[c] != -1)]\n",
    "\n",
    "\n",
    "    rr_ix = vcat(non_to_non_rested_rr, non_to_yes_rested_rr)\n",
    "    rr_ix = vcat(rr_ix, yes_rested_rr)\n",
    "    rr_ix = vcat(from_start_to_non_rested_rr, rr_ix)\n",
    "    rr_ix = vcat(from_start_to_yes_rested_rr, rr_ix)\n",
    "\n",
    "    ff_ix_arr = [[ix for ix in ff_ix if ix[1] == c] for c=1:C]\n",
    "    fr_ix_arr = [[ix for ix in fr_ix if ix[1] == c] for c=1:C]\n",
    "    rf_ix_arr = [[ix for ix in rf_ix if ix[1] == c] for c=1:C]\n",
    "    rr_ix_arr = [[ix for ix in rr_ix if ix[1] == c] for c=1:C]\n",
    "    \n",
    "    return ArcData(ff_ix, fr_ix, rf_ix, rr_ix, ff_ix_arr, fr_ix_arr, rf_ix_arr, rr_ix_arr,\n",
    "                   from_start_ff, from_start_fr, from_start_rf, \n",
    "                   vcat(from_start_to_yes_rested_rr, from_start_to_non_rested_rr))\n",
    "end"
   ]
  },
  {
   "cell_type": "code",
   "execution_count": 213,
   "id": "f6b40a73",
   "metadata": {},
   "outputs": [
    {
     "data": {
      "text/plain": [
       "define_network_constraint_data (generic function with 1 method)"
      ]
     },
     "execution_count": 213,
     "metadata": {},
     "output_type": "execute_result"
    }
   ],
   "source": [
    "function define_network_constraint_data(arc_data)\n",
    "    \n",
    "    # shorten some global variable names\n",
    "    C = NUM_CREWS\n",
    "    G = NUM_FIRES\n",
    "    T = NUM_TIME_PERIODS\n",
    "    \n",
    "    # build fire flow constraint data\n",
    "    ff_outflows = Array{Vector{NTuple},4}(undef, C, G, T, 2)\n",
    "    fr_outflows = Array{Vector{NTuple},4}(undef, C, G, T, 2)\n",
    "    ff_inflows = Array{Vector{NTuple},4}(undef, C, G, T, 2)\n",
    "    rf_inflows = Array{Vector{NTuple},4}(undef, C, G, T, 2)\n",
    "\n",
    "    for c=1:C\n",
    "        for g=1:G\n",
    "            for t=1:T\n",
    "                for rest=0:1\n",
    "\n",
    "                    S = [key for key in arc_data.ff_ix_arr[c] if (key[2] == g) & (key[4] == t) & (key[6] == rest)]\n",
    "                    ff_outflows[c, g, t, rest+1] = copy(S)\n",
    "\n",
    "                    S = [key for key in arc_data.fr_ix_arr[c] if (key[2] == g) & (key[3] == t) & (key[5] == rest)]\n",
    "                    fr_outflows[c, g, t, rest+1] = copy(S)\n",
    "\n",
    "                    S = [key for key in arc_data.ff_ix_arr[c] if (key[3] == g) & (key[5] == t) & (key[6] == rest)]\n",
    "                    ff_inflows[c, g, t, rest+1] = copy(S)\n",
    "\n",
    "                    S = [key for key in arc_data.rf_ix_arr[c] if (key[2] == g) & (key[4] == t) & (key[5] == rest)]\n",
    "                    rf_inflows[c, g, t, rest+1] = copy(S)\n",
    "                end\n",
    "            end\n",
    "        end\n",
    "    end\n",
    "    \n",
    "    \n",
    "    # build rest flow constraint data\n",
    "    rf_outflows = Array{Vector{NTuple},3}(undef, C, T, 2)\n",
    "    rr_outflows = Array{Vector{NTuple},3}(undef, C, T, 2)\n",
    "    fr_inflows = Array{Vector{NTuple},3}(undef, C, T, 2)\n",
    "    rr_inflows = Array{Vector{NTuple},3}(undef, C, T, 2)\n",
    "\n",
    "    for c=1:C\n",
    "        for t=1:T\n",
    "            for rest=0:1\n",
    "\n",
    "                S = [key for key in arc_data.rf_ix_arr[c] if (key[3] == t) & (key[5] == rest)]\n",
    "                rf_outflows[c, t, rest+1] = copy(S)\n",
    "\n",
    "                S = [key for key in arc_data.rr_ix_arr[c] if (key[2] == t) & (key[4] == rest)]\n",
    "                rr_outflows[c, t, rest+1] = copy(S)\n",
    "\n",
    "                S = [key for key in arc_data.fr_ix_arr[c] if (key[4] == t) &  (key[5] == rest)]\n",
    "                fr_inflows[c, t, rest+1] = copy(S)\n",
    "\n",
    "                S = [key for key in arc_data.rr_ix_arr[c] if (key[3] == t) & (key[5] == rest)]\n",
    "                rr_inflows[c, t, rest+1] = copy(S)\n",
    "\n",
    "            end\n",
    "        end\n",
    "    end\n",
    "    \n",
    "    # bulid linking constraint data\n",
    "    ff_linking = Array{Vector{NTuple},2}(undef, G, T)\n",
    "    rf_linking = Array{Vector{NTuple},2}(undef, G, T)\n",
    "\n",
    "    for g=1:G\n",
    "        for t=1:T\n",
    "\n",
    "            S = [key for key in arc_data.ff_ix if (key[3] == g) & (key[5] == t)]\n",
    "            ff_linking[g, t] = copy(S)\n",
    "\n",
    "            S = [key for key in arc_data.rf_ix if (key[2] == g) & (key[4] == t)]\n",
    "            rf_linking[g, t] = copy(S)\n",
    "\n",
    "        end\n",
    "    end\n",
    "    \n",
    "    return NetworkConstraintData(ff_outflows, fr_outflows, ff_inflows, rf_inflows, rf_outflows, rr_outflows,\n",
    "                                 fr_inflows, rr_inflows, ff_linking, rf_linking)\n",
    "end"
   ]
  },
  {
   "cell_type": "code",
   "execution_count": 8,
   "id": "ef2df0d3",
   "metadata": {},
   "outputs": [
    {
     "data": {
      "text/plain": [
       "full_formulation (generic function with 1 method)"
      ]
     },
     "execution_count": 8,
     "metadata": {},
     "output_type": "execute_result"
    }
   ],
   "source": [
    "function full_formulation(integer_routes, arc_data, fire_data)\n",
    "    \n",
    "    # shorten some global variable names\n",
    "    C = NUM_CREWS\n",
    "    G = NUM_FIRES\n",
    "    T = NUM_TIME_PERIODS\n",
    "    \n",
    "    # intialize model\n",
    "    m = Model(() -> Gurobi.Optimizer(GRB_ENV))\n",
    "    set_optimizer_attribute(m, \"OutputFlag\", 0)\n",
    "\n",
    "    # fire suppression plan section\n",
    "    @variable(m, p[g=1:G, t=1:T+1] >= 0)\n",
    "    @variable(m, l[g=1:G, t=1:T] >= 0)\n",
    "    @constraint(m, perim_growth[g=1:G, t=1:T], p[g, t+1] >= fire_data.progressions[g, t] * \n",
    "                                                           (p[g, t] - l[g, t] / 2) - l[g, t] / 2)\n",
    "    @constraint(m, perim_start[g=1:G], p[g, 1] == fire_data.start_perims[g])\n",
    "\n",
    "    # routing plan section\n",
    "    if integer_routes\n",
    "        @variable(m, ff[arc_data.ff_ix] >= 0, Int)\n",
    "        @variable(m, fr[arc_data.fr_ix] >= 0, Int)\n",
    "        @variable(m, rf[arc_data.rf_ix] >= 0, Int)\n",
    "        @variable(m, rr[arc_data.rr_ix] >= 0, Int)\n",
    "    else\n",
    "        @variable(m, ff[arc_data.ff_ix] >= 0)\n",
    "        @variable(m, fr[arc_data.fr_ix] >= 0)\n",
    "        @variable(m, rf[arc_data.rf_ix] >= 0)\n",
    "        @variable(m, rr[arc_data.rr_ix] >= 0)\n",
    "    end\n",
    "\n",
    "\n",
    "    @constraint(m, fire_flow[c=1:C, g=1:G, t=1:T, rest=0:1],\n",
    "\n",
    "                # outflow\n",
    "                sum(ff[key] for key in arc_data.ff_ix_arr[c]\n",
    "                        if (key[2] == g) & (key[4] == t) & (key[6] == rest)\n",
    "                    ) +    \n",
    "\n",
    "                sum(fr[key] for key in arc_data.fr_ix_arr[c]\n",
    "                            if (key[2] == g) & (key[3] == t) & (key[5] == rest)\n",
    "                    ) \n",
    "\n",
    "        ==\n",
    "                # inflow\n",
    "                sum(ff[key] for key in arc_data.ff_ix_arr[c]\n",
    "                            if (key[3] == g) & (key[5] == t) & (key[6] == rest)\n",
    "                    ) +\n",
    "\n",
    "                sum(rf[key] for key in arc_data.rf_ix_arr[c]\n",
    "                            if (key[2] == g) & (key[4] == t) & (key[5] == rest)\n",
    "                    ) \n",
    "\n",
    "                )   \n",
    "\n",
    "    @constraint(m, rest_flow[c=1:C, t=1:T, rest=0:1], \n",
    "\n",
    "                # outflow\n",
    "                sum(rf[key] for key in arc_data.rf_ix_arr[c]\n",
    "                            if (key[3] == t) & (key[5] == rest)\n",
    "                    ) +\n",
    "\n",
    "                sum(rr[key] for key in arc_data.rr_ix_arr[c]\n",
    "                            if (key[2] == t) & (key[4] == rest)\n",
    "                    )\n",
    "\n",
    "                ==       \n",
    "\n",
    "                # inflow\n",
    "                sum(fr[key] for key in arc_data.fr_ix_arr[c]\n",
    "                            if (key[4] == t) &  (key[5] == rest)\n",
    "                    ) +\n",
    "                sum(rr[key] for key in arc_data.rr_ix_arr[c]\n",
    "                            if (key[3] == t) & (key[5] == rest)\n",
    "                    )\n",
    "               )\n",
    "\n",
    "    @constraint(m, start[c=1:C], \n",
    "\n",
    "        sum(ff[key] for key in arc_data.from_start_ff if key[1] == c) + \n",
    "        sum(rf[key] for key in arc_data.from_start_rf if key[1] == c) + \n",
    "        sum(fr[key] for key in arc_data.from_start_fr if key[1] == c) + \n",
    "        sum(rr[key] for key in arc_data.from_start_rr if key[1] == c) == 1\n",
    "               )\n",
    "\n",
    "\n",
    "    # linking constraints\n",
    "    @constraint(m, linking[g=1:G, t=1:T],\n",
    "\n",
    "         sum(ff[key] for key in arc_data.ff_ix if (key[3] == g) & (key[5] == t)) + \n",
    "         sum(rf[key] for key in arc_data.rf_ix if (key[2] == g) & (key[4] == t))\n",
    "            >= l[g, t] / LINE_PER_CREW\n",
    "        )\n",
    "    \n",
    "    @objective(m, Min, \n",
    "    BETA * (sum(p) - sum(p[1:G, 1])/2 - sum(p[1:G, T+1])/2) + \n",
    "    sum(ff[key] * (ALPHA + fire_dists[key[2], key[3]]) for key in arc_data.ff_ix) +\n",
    "    sum(fr[key] * (base_fire_dists[key[1], key[2]]) for key in arc_data.fr_ix) + \n",
    "    sum(rf[key] * (ALPHA + base_fire_dists[key[1], key[2]]) for key in arc_data.rf_ix))\n",
    "    \n",
    "    return m, p, l, ff, fr, rf, rr\n",
    "    \n",
    "end"
   ]
  },
  {
   "cell_type": "code",
   "execution_count": 169,
   "id": "c75ec35e",
   "metadata": {},
   "outputs": [
    {
     "data": {
      "text/plain": [
       "full_formulation_2 (generic function with 1 method)"
      ]
     },
     "execution_count": 169,
     "metadata": {},
     "output_type": "execute_result"
    }
   ],
   "source": [
    "function full_formulation_2(integer_routes, arc_data, fire_data)\n",
    "    \n",
    "    # shorten some global variable names\n",
    "    C = NUM_CREWS\n",
    "    G = NUM_FIRES\n",
    "    T = NUM_TIME_PERIODS\n",
    "    \n",
    "    # intialize model\n",
    "    m = Model(() -> Gurobi.Optimizer(GRB_ENV))\n",
    "    set_optimizer_attribute(m, \"OutputFlag\", 0)\n",
    "\n",
    "    # fire suppression plan section\n",
    "    @variable(m, p[g=1:G, t=1:T+1] >= 0)\n",
    "    @variable(m, l[g=1:G, t=1:T] >= 0)\n",
    "    @constraint(m, perim_growth[g=1:G, t=1:T], p[g, t+1] >= fire_data.progressions[g, t] * \n",
    "                                                           (p[g, t] - l[g, t] / 2) - l[g, t] / 2)\n",
    "    @constraint(m, perim_start[g=1:G], p[g, 1] == fire_data.start_perims[g])\n",
    "\n",
    "    # routing plan section\n",
    "    if integer_routes\n",
    "        @variable(m, ff[arc_data.ff_ix] >= 0, Int)\n",
    "        @variable(m, fr[arc_data.fr_ix] >= 0, Int)\n",
    "        @variable(m, rf[arc_data.rf_ix] >= 0, Int)\n",
    "        @variable(m, rr[arc_data.rr_ix] >= 0, Int)\n",
    "    else\n",
    "        @variable(m, ff[arc_data.ff_ix] >= 0)\n",
    "        @variable(m, fr[arc_data.fr_ix] >= 0)\n",
    "        @variable(m, rf[arc_data.rf_ix] >= 0)\n",
    "        @variable(m, rr[arc_data.rr_ix] >= 0)\n",
    "    end\n",
    "\n",
    "    \n",
    "    # build fire flow constraint\n",
    "    ff_outflows = Array{Vector{NTuple},4}(undef, C, G, T, 2)\n",
    "    fr_outflows = Array{Vector{NTuple},4}(undef, C, G, T, 2)\n",
    "    ff_inflows = Array{Vector{NTuple},4}(undef, C, G, T, 2)\n",
    "    rf_inflows = Array{Vector{NTuple},4}(undef, C, G, T, 2)\n",
    "\n",
    "    for c=1:C\n",
    "        for g=1:G\n",
    "            for t=1:T\n",
    "                for rest=0:1\n",
    "\n",
    "                    S = [key for key in arc_data.ff_ix_arr[c] if (key[2] == g) & (key[4] == t) & (key[6] == rest)]\n",
    "                    ff_outflows[c, g, t, rest+1] = copy(S)\n",
    "\n",
    "                    S = [key for key in arc_data.fr_ix_arr[c] if (key[2] == g) & (key[3] == t) & (key[5] == rest)]\n",
    "                    fr_outflows[c, g, t, rest+1] = copy(S)\n",
    "\n",
    "                    S = [key for key in arc_data.ff_ix_arr[c] if (key[3] == g) & (key[5] == t) & (key[6] == rest)]\n",
    "                    ff_inflows[c, g, t, rest+1] = copy(S)\n",
    "\n",
    "                    S = [key for key in arc_data.rf_ix_arr[c] if (key[2] == g) & (key[4] == t) & (key[5] == rest)]\n",
    "                    rf_inflows[c, g, t, rest+1] = copy(S)\n",
    "                end\n",
    "            end\n",
    "        end\n",
    "    end\n",
    "    \n",
    "    @constraint(m, fire_flow[c=1:C, g=1:G, t=1:T, rest=0:1],\n",
    "\n",
    "            sum(ff[ix] for ix in ff_outflows[c, g, t, rest+1]) + sum(fr[ix] for ix in fr_outflows[c, g, t, rest+1]) ==\n",
    "            sum(ff[ix] for ix in ff_inflows[c, g, t, rest+1]) + sum(rf[ix] for ix in rf_inflows[c, g, t, rest+1])\n",
    "    \n",
    "                )\n",
    "\n",
    "    # build rest flow constraint\n",
    "    rf_outflows = Array{Vector{NTuple},3}(undef, C, T, 2)\n",
    "    rr_outflows = Array{Vector{NTuple},3}(undef, C, T, 2)\n",
    "    fr_inflows = Array{Vector{NTuple},3}(undef, C, T, 2)\n",
    "    rr_inflows = Array{Vector{NTuple},3}(undef, C, T, 2)\n",
    "\n",
    "    for c=1:C\n",
    "        for t=1:T\n",
    "            for rest=0:1\n",
    "\n",
    "                S = [key for key in arc_data.rf_ix_arr[c] if (key[3] == t) & (key[5] == rest)]\n",
    "                rf_outflows[c, t, rest+1] = copy(S)\n",
    "\n",
    "                S = [key for key in arc_data.rr_ix_arr[c] if (key[2] == t) & (key[4] == rest)]\n",
    "                rr_outflows[c, t, rest+1] = copy(S)\n",
    "\n",
    "                S = [key for key in arc_data.fr_ix_arr[c] if (key[4] == t) &  (key[5] == rest)]\n",
    "                fr_inflows[c, t, rest+1] = copy(S)\n",
    "\n",
    "                S = [key for key in arc_data.rr_ix_arr[c] if (key[3] == t) & (key[5] == rest)]\n",
    "                rr_inflows[c, t, rest+1] = copy(S)\n",
    "\n",
    "            end\n",
    "        end\n",
    "    end\n",
    "    \n",
    "    @constraint(m, rest_flow[c=1:C, t=1:T, rest=0:1],\n",
    "\n",
    "            sum(rf[ix] for ix in rf_outflows[c, t, rest+1]) + sum(rr[ix] for ix in rr_outflows[c, t, rest+1]) ==\n",
    "            sum(fr[ix] for ix in fr_inflows[c, t, rest+1]) + sum(rr[ix] for ix in rr_inflows[c, t, rest+1])\n",
    "    \n",
    "               )\n",
    "\n",
    "    # bulid linking constraint\n",
    "    ff_linking = Array{Vector{NTuple},2}(undef, G, T)\n",
    "    rf_linking = Array{Vector{NTuple},2}(undef, G, T)\n",
    "\n",
    "    for g=1:G\n",
    "        for t=1:T\n",
    "\n",
    "            S = [key for key in arc_data.ff_ix if (key[3] == g) & (key[5] == t)]\n",
    "            ff_linking[g, t] = copy(S)\n",
    "\n",
    "            S = [key for key in arc_data.rf_ix if (key[2] == g) & (key[4] == t)]\n",
    "            rf_linking[g, t] = copy(S)\n",
    "\n",
    "        end\n",
    "    end\n",
    "\n",
    "    @constraint(m, linking[g=1:G, t=1:T],\n",
    "\n",
    "         sum(ff[key] for key in ff_linking[g, t]) + sum(rf[key] for key in rf_linking[g, t]) >= l[g, t] / LINE_PER_CREW\n",
    "        )\n",
    "\n",
    "    # build start constraint\n",
    "    @constraint(m, start[c=1:C], \n",
    "\n",
    "        sum(ff[key] for key in arc_data.from_start_ff if key[1] == c) + \n",
    "        sum(rf[key] for key in arc_data.from_start_rf if key[1] == c) + \n",
    "        sum(fr[key] for key in arc_data.from_start_fr if key[1] == c) + \n",
    "        sum(rr[key] for key in arc_data.from_start_rr if key[1] == c) == 1\n",
    "               )\n",
    "\n",
    "    @objective(m, Min, \n",
    "        BETA * (sum(p) - sum(p[1:G, 1])/2 - sum(p[1:G, T+1])/2) + \n",
    "        sum(ff[key] * (ALPHA + fire_dists[key[2], key[3]]) for key in arc_data.ff_ix) +\n",
    "        sum(fr[key] * (base_fire_dists[key[1], key[2]]) for key in arc_data.fr_ix) + \n",
    "        sum(rf[key] * (ALPHA + base_fire_dists[key[1], key[2]]) for key in arc_data.rf_ix))\n",
    "    \n",
    "    return m, p, l, ff, fr, rf, rr\n",
    "    \n",
    "end"
   ]
  },
  {
   "cell_type": "code",
   "execution_count": 205,
   "id": "26df67d1",
   "metadata": {},
   "outputs": [
    {
     "data": {
      "text/plain": [
       "full_formulation_3 (generic function with 1 method)"
      ]
     },
     "execution_count": 205,
     "metadata": {},
     "output_type": "execute_result"
    }
   ],
   "source": [
    "function full_formulation_3(integer_routes, arc_data, fire_data, constraint_data)\n",
    "    \n",
    "    # shorten some global variable names\n",
    "    C = NUM_CREWS\n",
    "    G = NUM_FIRES\n",
    "    T = NUM_TIME_PERIODS\n",
    "    \n",
    "    # intialize model\n",
    "    m = Model(() -> Gurobi.Optimizer(GRB_ENV))\n",
    "    set_optimizer_attribute(m, \"OutputFlag\", 0)\n",
    "\n",
    "    # fire suppression plan section\n",
    "    @variable(m, p[g=1:G, t=1:T+1] >= 0)\n",
    "    @variable(m, l[g=1:G, t=1:T] >= 0)\n",
    "    @constraint(m, perim_growth[g=1:G, t=1:T], p[g, t+1] >= fire_data.progressions[g, t] * \n",
    "                                                           (p[g, t] - l[g, t] / 2) - l[g, t] / 2)\n",
    "    @constraint(m, perim_start[g=1:G], p[g, 1] == fire_data.start_perims[g])\n",
    "\n",
    "    # routing plan section\n",
    "    if integer_routes\n",
    "        @variable(m, ff[arc_data.ff_ix] >= 0, Int)\n",
    "        @variable(m, fr[arc_data.fr_ix] >= 0, Int)\n",
    "        @variable(m, rf[arc_data.rf_ix] >= 0, Int)\n",
    "        @variable(m, rr[arc_data.rr_ix] >= 0, Int)\n",
    "    else\n",
    "        @variable(m, ff[arc_data.ff_ix] >= 0)\n",
    "        @variable(m, fr[arc_data.fr_ix] >= 0)\n",
    "        @variable(m, rf[arc_data.rf_ix] >= 0)\n",
    "        @variable(m, rr[arc_data.rr_ix] >= 0)\n",
    "    end\n",
    "\n",
    "\n",
    "    \n",
    "    @constraint(m, fire_flow[c=1:C, g=1:G, t=1:T, rest=0:1],\n",
    "\n",
    "            sum(ff[ix] for ix in constraint_data.ff_out[c, g, t, rest+1]) + \n",
    "            sum(fr[ix] for ix in constraint_data.fr_out[c, g, t, rest+1]) ==\n",
    "            sum(ff[ix] for ix in constraint_data.ff_in[c, g, t, rest+1]) + \n",
    "            sum(rf[ix] for ix in constraint_data.rf_in[c, g, t, rest+1])\n",
    "    \n",
    "    )\n",
    "\n",
    "    @constraint(m, rest_flow[c=1:C, t=1:T, rest=0:1],\n",
    "\n",
    "            sum(rf[ix] for ix in constraint_data.rf_out[c, t, rest+1]) + \n",
    "            sum(rr[ix] for ix in constraint_data.rr_out[c, t, rest+1]) ==\n",
    "            sum(fr[ix] for ix in constraint_data.fr_in[c, t, rest+1]) + \n",
    "            sum(rr[ix] for ix in constraint_data.rr_in[c, t, rest+1])\n",
    "    \n",
    "    )\n",
    "\n",
    "    @constraint(m, linking[g=1:G, t=1:T],\n",
    "\n",
    "         sum(ff[key] for key in constraint_data.ff_link[g, t]) + \n",
    "         sum(rf[key] for key in constraint_data.rf_link[g, t]) >= \n",
    "         l[g, t] / LINE_PER_CREW\n",
    "    )\n",
    "\n",
    "    # build start constraint\n",
    "    @constraint(m, start[c=1:C], \n",
    "\n",
    "        sum(ff[key] for key in arc_data.from_start_ff if key[1] == c) + \n",
    "        sum(rf[key] for key in arc_data.from_start_rf if key[1] == c) + \n",
    "        sum(fr[key] for key in arc_data.from_start_fr if key[1] == c) + \n",
    "        sum(rr[key] for key in arc_data.from_start_rr if key[1] == c) == 1\n",
    "               )\n",
    "\n",
    "    @objective(m, Min, \n",
    "        BETA * (sum(p) - sum(p[1:G, 1])/2 - sum(p[1:G, T+1])/2) + \n",
    "        sum(ff[key] * (ALPHA + fire_dists[key[2], key[3]]) for key in arc_data.ff_ix) +\n",
    "        sum(fr[key] * (base_fire_dists[key[1], key[2]]) for key in arc_data.fr_ix) + \n",
    "        sum(rf[key] * (ALPHA + base_fire_dists[key[1], key[2]]) for key in arc_data.rf_ix))\n",
    "    \n",
    "    return m, p, l, ff, fr, rf, rr\n",
    "    \n",
    "end"
   ]
  },
  {
   "cell_type": "markdown",
   "id": "5b5d94f3",
   "metadata": {},
   "source": [
    "## Subproblems"
   ]
  },
  {
   "cell_type": "markdown",
   "id": "0225d927",
   "metadata": {},
   "source": [
    "### Initialize subproblems for each crew and fire"
   ]
  },
  {
   "cell_type": "code",
   "execution_count": 9,
   "id": "95ac14b3",
   "metadata": {},
   "outputs": [
    {
     "data": {
      "text/plain": [
       "init_route_subproblem (generic function with 1 method)"
      ]
     },
     "execution_count": 9,
     "metadata": {},
     "output_type": "execute_result"
    }
   ],
   "source": [
    "function init_route_subproblem(arc_data, crew)\n",
    "    \n",
    "    # shorten some global variable names\n",
    "    C = NUM_CREWS\n",
    "    G = NUM_FIRES\n",
    "    T = NUM_TIME_PERIODS\n",
    "    \n",
    "    m = Model(() -> Gurobi.Optimizer(GRB_ENV))\n",
    "    set_optimizer_attribute(m, \"OutputFlag\", 0)\n",
    "\n",
    "    # routing plan section\n",
    "    @variable(m, ff[arc_data.ff_ix_arr[crew]] >= 0)\n",
    "    @variable(m, fr[arc_data.fr_ix_arr[crew]] >= 0)\n",
    "    @variable(m, rf[arc_data.rf_ix_arr[crew]] >= 0)\n",
    "    @variable(m, rr[arc_data.rr_ix_arr[crew]] >= 0)\n",
    "\n",
    "\n",
    "    @constraint(m, fire_flow[g=1:G, t=1:T, rest=0:1],\n",
    "\n",
    "                # outflow\n",
    "                sum(ff[key] for key in arc_data.ff_ix_arr[crew]\n",
    "                        if (key[2] == g) & (key[4] == t) & (key[6] == rest)\n",
    "                    ) +    \n",
    "\n",
    "                sum(fr[key] for key in arc_data.fr_ix_arr[crew]\n",
    "                            if (key[2] == g) & (key[3] == t) & (key[5] == rest)\n",
    "                    ) \n",
    "\n",
    "        ==\n",
    "                # inflow\n",
    "                sum(ff[key] for key in arc_data.ff_ix_arr[crew]\n",
    "                            if (key[3] == g) & (key[5] == t) & (key[6] == rest)\n",
    "                    ) +\n",
    "\n",
    "                sum(rf[key] for key in arc_data.rf_ix_arr[crew]\n",
    "                            if (key[2] == g) & (key[4] == t) & (key[5] == rest)\n",
    "                    ) \n",
    "\n",
    "                )   \n",
    "\n",
    "    @constraint(m, rest_flow[t=1:T, rest=0:1], \n",
    "\n",
    "                # outflow\n",
    "                sum(rf[key] for key in arc_data.rf_ix_arr[crew]\n",
    "                            if (key[3] == t) & (key[5] == rest)\n",
    "                    ) +\n",
    "\n",
    "                sum(rr[key] for key in arc_data.rr_ix_arr[crew]\n",
    "                            if (key[2] == t) & (key[4] == rest)\n",
    "                    )\n",
    "\n",
    "                ==       \n",
    "\n",
    "                # inflow\n",
    "                sum(fr[key] for key in arc_data.fr_ix_arr[crew]\n",
    "                            if (key[4] == t) &  (key[5] == rest)\n",
    "                    ) +\n",
    "                sum(rr[key] for key in arc_data.rr_ix_arr[crew]\n",
    "                            if (key[3] == t) & (key[5] == rest)\n",
    "                    )\n",
    "               )\n",
    "\n",
    "    @constraint(m, start, \n",
    "        sum(ff[key] for key in arc_data.from_start_ff if key[1] == crew) + \n",
    "        sum(rf[key] for key in arc_data.from_start_rf if key[1] == crew) + \n",
    "        sum(fr[key] for key in arc_data.from_start_fr if key[1] == crew) + \n",
    "        sum(rr[key] for key in arc_data.from_start_rr if key[1] == crew) == 1)\n",
    "\n",
    "    return Dict(\"m\" => m, \"ff\" => ff, \"fr\" => fr, \"rf\" => rf, \"rr\" => rr)\n",
    "end"
   ]
  },
  {
   "cell_type": "code",
   "execution_count": 10,
   "id": "ae193113",
   "metadata": {},
   "outputs": [
    {
     "data": {
      "text/plain": [
       "init_suppression_plan_subproblem (generic function with 1 method)"
      ]
     },
     "execution_count": 10,
     "metadata": {},
     "output_type": "execute_result"
    }
   ],
   "source": [
    "function init_suppression_plan_subproblem(fire_data, fire)\n",
    "    \n",
    "    T = NUM_TIME_PERIODS\n",
    "    \n",
    "    m = Model(() -> Gurobi.Optimizer(GRB_ENV))\n",
    "    set_optimizer_attribute(m, \"OutputFlag\", 0)\n",
    "\n",
    "    # fire suppression plan section\n",
    "    @variable(m, p[t=1:T+1] >= 0)\n",
    "    @variable(m, l[t=1:T] >= 0)\n",
    "    @variable(m, NUM_CREWS >= d[t=1:T] >= 0, Int)\n",
    "    @constraint(m, suppression_per_crew[t=1:T], l[t] <= d[t] * LINE_PER_CREW)\n",
    "    @constraint(m, perim_growth[t=1:T], p[t+1] >= fire_data.progressions[fire, t] * (p[t] - l[t] / 2) - l[t] / 2)\n",
    "    @constraint(m, perim_start, p[1] == fire_data.start_perims[fire])\n",
    "    \n",
    "    @objective(m, Min, BETA * (sum(p) - p[1]/2 - p[T+1]/2))\n",
    "    \n",
    "    return Dict(\"m\" => m, \"p\" => p, \"d\" => d)\n",
    "end"
   ]
  },
  {
   "cell_type": "code",
   "execution_count": 11,
   "id": "5e00aec6",
   "metadata": {},
   "outputs": [
    {
     "data": {
      "text/plain": [
       "route_subproblem (generic function with 1 method)"
      ]
     },
     "execution_count": 11,
     "metadata": {},
     "output_type": "execute_result"
    }
   ],
   "source": [
    "function route_subproblem(arc_data, crew, model_dict, rho)\n",
    "    \n",
    "    T = NUM_TIME_PERIODS\n",
    "    \n",
    "    m = model_dict[\"m\"]\n",
    "    ff = model_dict[\"ff\"]\n",
    "    fr = model_dict[\"fr\"]\n",
    "    rf = model_dict[\"rf\"]\n",
    "    \n",
    "    @objective(m, Min, \n",
    "    sum(ff[key] * (ALPHA + fire_dists[key[2], key[3]]) for key in arc_data.ff_ix_arr[crew]) +\n",
    "    sum(fr[key] * (base_fire_dists[key[1], key[2]]) for key in arc_data.fr_ix_arr[crew]) + \n",
    "    sum(rf[key] * (ALPHA + base_fire_dists[key[1], key[2]]) for key in arc_data.rf_ix_arr[crew]) -\n",
    "\n",
    "    sum(ff[key] * rho[key[3], key[5]] for key in arc_data.ff_ix_arr[crew] if key[5] <= T) -\n",
    "    sum(rf[key] * rho[key[2], key[4]] for key in arc_data.rf_ix_arr[crew] if key[4] <= T)\n",
    "    )\n",
    "\n",
    "    optimize!(m)\n",
    "    \n",
    "    fires_fought = vcat([(ix[1], ix[3], ix[5]) for ix in arc_data.ff_ix_arr[crew] \n",
    "                                               if (value(ff[ix]) > 0.99)],\n",
    "                        [(ix[1], ix[2], ix[4]) for ix in arc_data.rf_ix_arr[crew] \n",
    "                                               if (value(rf[ix]) > 0.99)])\n",
    "        \n",
    "    route_cost = \n",
    "    sum(value(ff[key]) * (ALPHA + fire_dists[key[2], key[3]]) \n",
    "                                            for key in arc_data.ff_ix_arr[crew]) +\n",
    "    sum(value(fr[key]) * (base_fire_dists[key[1], key[2]]) \n",
    "                                            for key in arc_data.fr_ix_arr[crew]) + \n",
    "    sum(value(rf[key]) * (ALPHA + base_fire_dists[key[1], key[2]]) \n",
    "                                            for key in arc_data.rf_ix_arr[crew])\n",
    "    \n",
    "    objective_value(m), sort(fires_fought), route_cost\n",
    "    \n",
    "end"
   ]
  },
  {
   "cell_type": "code",
   "execution_count": 12,
   "id": "bb0edc6d",
   "metadata": {},
   "outputs": [
    {
     "data": {
      "text/plain": [
       "suppression_plan_subproblem (generic function with 1 method)"
      ]
     },
     "execution_count": 12,
     "metadata": {},
     "output_type": "execute_result"
    }
   ],
   "source": [
    "function suppression_plan_subproblem(g, model_dict, rho, second_objective_eps)\n",
    "    \n",
    "    T = NUM_TIME_PERIODS\n",
    "    \n",
    "    model = model_dict[\"m\"]\n",
    "    p = model_dict[\"p\"]\n",
    "    d = model_dict[\"d\"]\n",
    "    \n",
    "    @objective(model, Min, BETA * (sum(p) - p[1]/2 - p[T+1]/2) + \n",
    "                       sum(d[t] * (rho[g, t] + second_objective_eps) for t=1:T)\n",
    "    )\n",
    "        \n",
    "    optimize!(model)\n",
    "    \n",
    "    relative_cost = objective_value(model) - sum(value(d[t]) * second_objective_eps for t=1:T)\n",
    "    pure_cost = objective_value(model) - \n",
    "                sum(value(d[t]) * (rho[g, t] + second_objective_eps) for t=1:T) \n",
    "        \n",
    "    return round.(value.(d)), pure_cost, relative_cost\n",
    "    \n",
    "end"
   ]
  },
  {
   "cell_type": "markdown",
   "id": "50f35469",
   "metadata": {},
   "source": [
    "## Helper functions for warm start"
   ]
  },
  {
   "cell_type": "markdown",
   "id": "0092f92c",
   "metadata": {},
   "source": [
    "assumes we suppress each fire more than 0, first day not full, can revisit"
   ]
  },
  {
   "cell_type": "code",
   "execution_count": 13,
   "id": "d1407e5c",
   "metadata": {},
   "outputs": [
    {
     "data": {
      "text/plain": [
       "suppression_plan_perturbations (generic function with 1 method)"
      ]
     },
     "execution_count": 13,
     "metadata": {},
     "output_type": "execute_result"
    }
   ],
   "source": [
    "function suppression_plan_perturbations(start_plan, count)\n",
    "    \n",
    "    # get the indices we may perturb, chosen to be anything at most one index away\n",
    "    # from a time period when suppression was >0 for the start_plan\n",
    "    ixs = [i for i in 1:NUM_TIME_PERIODS if start_plan[i] > 0]\n",
    "    ixs_1 = [i+1 for i in 1:NUM_TIME_PERIODS-1 if start_plan[i] > 0]\n",
    "    ixs_2 = [i-1 for i in 2:NUM_TIME_PERIODS if start_plan[i] > 0]\n",
    "    ixs_to_perturb = sort(unique(vcat(ixs, ixs_1, ixs_2)))\n",
    "    \n",
    "    start_plan_copy = copy(start_plan)\n",
    "    \n",
    "    # hack if no fire suppression\n",
    "    if length(ixs) == 0\n",
    "        start_plan_copy[1] += 1\n",
    "        ixs_to_perturb = 1:NUM_TIME_PERIODS\n",
    "        ixs = [1]\n",
    "    end\n",
    "    \n",
    "    found = []\n",
    "    \n",
    "    # perturbing the total number of crews by 0, -1, or 1\n",
    "    for perturb in [0, 1, -1]\n",
    "        \n",
    "        # make sure we don't explode\n",
    "        curr_length = length(found)\n",
    "        \n",
    "        # push a new possible plan\n",
    "        new_plan = copy(start_plan_copy)\n",
    "        new_plan[ixs[1]] = new_plan[ixs[1]] + perturb\n",
    "        push!(found, copy(new_plan))\n",
    "        \n",
    "        # find all ways to perturb the valid indices while saying within\n",
    "        # prescribed crew bounds and keeping total crews unchanged\n",
    "        for current_arr in found\n",
    "            if length(found) < curr_length + 500\n",
    "                nonzero = [ix for ix in ixs_to_perturb if current_arr[ix] > 0]\n",
    "                nonfull = [ix for ix in ixs_to_perturb if current_arr[ix] < NUM_CREWS]\n",
    "                for ix in nonzero\n",
    "                    for ix2 in nonfull\n",
    "                        if ix2 != ix\n",
    "                            next_arr = copy(current_arr)\n",
    "                            next_arr[ix] -= 1\n",
    "                            next_arr[ix2] += 1\n",
    "                            if !(next_arr in found)\n",
    "                                push!(found, copy(next_arr))\n",
    "                            end\n",
    "                        end\n",
    "                    end\n",
    "                end\n",
    "            end\n",
    "        end\n",
    "    end\n",
    "    \n",
    "    # get the closest plans to the original, using L1 norm\n",
    "    ixs_to_keep = sortperm([sum(abs.(i - start_plan)) for i in found])[1:min(count, length(found))]\n",
    "    \n",
    "    # add in dummy plan, sort by total crews used, return\n",
    "    out = found[ixs_to_keep]\n",
    "    push!(out, [0 for i in 1:NUM_TIME_PERIODS])\n",
    "    ixs = sortperm([sum(i) for i in out])\n",
    "    \n",
    "    return out[ixs]\n",
    "end "
   ]
  },
  {
   "cell_type": "code",
   "execution_count": 14,
   "id": "2602b697",
   "metadata": {},
   "outputs": [
    {
     "data": {
      "text/plain": [
       "fire_plan_cost (generic function with 1 method)"
      ]
     },
     "execution_count": 14,
     "metadata": {},
     "output_type": "execute_result"
    }
   ],
   "source": [
    "function fire_plan_cost(start_perim, line_per_day, progression)\n",
    "    \n",
    "    perim = start_perim\n",
    "    area = 0\n",
    "    new_perim = 0\n",
    "    for i in 1:length(progression)\n",
    "        new_perim = (perim - line_per_day[i]/2) * progression[i] - line_per_day[i]/2\n",
    "        new_perim = max(new_perim, 0)\n",
    "        area = area + perim/2 + new_perim/2\n",
    "        perim = new_perim\n",
    "    end\n",
    "    area\n",
    "end"
   ]
  },
  {
   "cell_type": "code",
   "execution_count": 15,
   "id": "b14fa380",
   "metadata": {},
   "outputs": [
    {
     "data": {
      "text/plain": [
       "update_suppression_plan_data (generic function with 1 method)"
      ]
     },
     "execution_count": 15,
     "metadata": {},
     "output_type": "execute_result"
    }
   ],
   "source": [
    "function update_suppression_plan_data(fire_data, B, supp_costs, fire, num_plans, plan)\n",
    "    \n",
    "    B[num_plans + 1, fire, :] = plan\n",
    "    supp_costs[num_plans + 1, fire] = BETA * fire_plan_cost(fire_data.start_perims[fire], \n",
    "                                                            plan * LINE_PER_CREW, \n",
    "                                                            fire_data.progressions[fire, :])\n",
    "    \n",
    "    return B, supp_costs, num_plans + 1\n",
    "end"
   ]
  },
  {
   "cell_type": "code",
   "execution_count": 16,
   "id": "e9c85315",
   "metadata": {},
   "outputs": [
    {
     "data": {
      "text/plain": [
       "init_routes_from_plan_formulation (generic function with 1 method)"
      ]
     },
     "execution_count": 16,
     "metadata": {},
     "output_type": "execute_result"
    }
   ],
   "source": [
    "function init_routes_from_plan_formulation(arc_data)\n",
    "    \n",
    "    # shorten some global variable names\n",
    "    C = NUM_CREWS\n",
    "    G = NUM_FIRES\n",
    "    T = NUM_TIME_PERIODS\n",
    "    \n",
    "    # intialize model\n",
    "    m = Model(() -> Gurobi.Optimizer(GRB_ENV))\n",
    "    set_optimizer_attribute(m, \"OutputFlag\", 0)\n",
    "\n",
    "\n",
    "    @variable(m, ff[arc_data.ff_ix] >= 0)\n",
    "    @variable(m, fr[arc_data.fr_ix] >= 0)\n",
    "    @variable(m, rf[arc_data.rf_ix] >= 0)\n",
    "    @variable(m, rr[arc_data.rr_ix] >= 0)\n",
    "\n",
    "\n",
    "\n",
    "    @constraint(m, fire_flow[c=1:C, g=1:G, t=1:T, rest=0:1],\n",
    "\n",
    "                # outflow\n",
    "                sum(ff[key] for key in arc_data.ff_ix_arr[c]\n",
    "                        if (key[2] == g) & (key[4] == t) & (key[6] == rest)\n",
    "                    ) +    \n",
    "\n",
    "                sum(fr[key] for key in arc_data.fr_ix_arr[c]\n",
    "                            if (key[2] == g) & (key[3] == t) & (key[5] == rest)\n",
    "                    ) \n",
    "\n",
    "        ==\n",
    "                # inflow\n",
    "                sum(ff[key] for key in arc_data.ff_ix_arr[c]\n",
    "                            if (key[3] == g) & (key[5] == t) & (key[6] == rest)\n",
    "                    ) +\n",
    "\n",
    "                sum(rf[key] for key in arc_data.rf_ix_arr[c]\n",
    "                            if (key[2] == g) & (key[4] == t) & (key[5] == rest)\n",
    "                    ) \n",
    "\n",
    "                )   \n",
    "\n",
    "    @constraint(m, rest_flow[c=1:C, t=1:T, rest=0:1], \n",
    "\n",
    "                # outflow\n",
    "                sum(rf[key] for key in arc_data.rf_ix_arr[c]\n",
    "                            if (key[3] == t) & (key[5] == rest)\n",
    "                    ) +\n",
    "\n",
    "                sum(rr[key] for key in arc_data.rr_ix_arr[c]\n",
    "                            if (key[2] == t) & (key[4] == rest)\n",
    "                    )\n",
    "\n",
    "                ==       \n",
    "\n",
    "                # inflow\n",
    "                sum(fr[key] for key in arc_data.fr_ix_arr[c]\n",
    "                            if (key[4] == t) &  (key[5] == rest)\n",
    "                    ) +\n",
    "                sum(rr[key] for key in arc_data.rr_ix_arr[c]\n",
    "                            if (key[3] == t) & (key[5] == rest)\n",
    "                    )\n",
    "               )\n",
    "\n",
    "    @constraint(m, start[c=1:C], \n",
    "\n",
    "        sum(ff[key] for key in arc_data.from_start_ff if key[1] == c) + \n",
    "        sum(rf[key] for key in arc_data.from_start_rf if key[1] == c) + \n",
    "        sum(fr[key] for key in arc_data.from_start_fr if key[1] == c) + \n",
    "        sum(rr[key] for key in arc_data.from_start_rr if key[1] == c) == 1\n",
    "               )\n",
    "    \n",
    "    @constraint(m, linking[g=1:G, t=1:T], 0 == 0)\n",
    "    \n",
    "    @objective(m, Min, \n",
    "    sum(ff[key] * (ALPHA + fire_dists[key[2], key[3]]) for key in arc_data.ff_ix) +\n",
    "    sum(fr[key] * (base_fire_dists[key[1], key[2]]) for key in arc_data.fr_ix) + \n",
    "    sum(rf[key] * (ALPHA + base_fire_dists[key[1], key[2]]) for key in arc_data.rf_ix))\n",
    "\n",
    "    return Dict(\"m\" => m, \"ff\" => ff, \"rf\" => rf, \"fr\" => fr, \"linking_constraint\" => linking)\n",
    "\n",
    "end"
   ]
  },
  {
   "cell_type": "code",
   "execution_count": 17,
   "id": "b11e9995",
   "metadata": {},
   "outputs": [
    {
     "data": {
      "text/plain": [
       "get_routes_from_demands (generic function with 1 method)"
      ]
     },
     "execution_count": 17,
     "metadata": {},
     "output_type": "execute_result"
    }
   ],
   "source": [
    "function get_routes_from_demands(arc_data, model_dict, demands)\n",
    "    \n",
    "    # shorten some global variable names\n",
    "    C = NUM_CREWS\n",
    "    G = NUM_FIRES\n",
    "    T = NUM_TIME_PERIODS\n",
    "    \n",
    "    m = model_dict[\"m\"]\n",
    "    ff = model_dict[\"ff\"]\n",
    "    rf = model_dict[\"rf\"]\n",
    "    fr = model_dict[\"fr\"]\n",
    "    old_linking = model_dict[\"linking_constraint\"]\n",
    "\n",
    "    \n",
    "    # overwrite demand constraint\n",
    "    unregister(m, :linking)\n",
    "    [delete(m, i) for i in old_linking]\n",
    "    @constraint(m, linking[g=1:G, t=1:T],\n",
    "\n",
    "     sum(ff[key] for key in arc_data.ff_ix if (key[3] == g) & (key[5] == t)) + \n",
    "     sum(rf[key] for key in arc_data.rf_ix if (key[2] == g) & (key[4] == t))\n",
    "        >= demands[g, t])\n",
    "    model_dict[\"linking_constraint\"] = linking\n",
    "    \n",
    "    # optimize model\n",
    "    optimize!(m)\n",
    "    \n",
    "    # extract routes\n",
    "    opt = false\n",
    "    fires_fought = [(0)]\n",
    "    route_costs = [1]\n",
    "    if termination_status(m) == MOI.OPTIMAL\n",
    "        opt = true\n",
    "        fires_fought = vcat([(ix[1], ix[3], ix[5]) for ix in arc_data.ff_ix if (value(ff[ix]) > 0.99)],\n",
    "                        [(ix[1], ix[2], ix[4]) for ix in arc_data.rf_ix if (value(rf[ix]) > 0.99)])\n",
    "        \n",
    "        route_costs = \n",
    "        [sum(value(ff[key]) * (ALPHA + fire_dists[key[2], key[3]]) for key in arc_data.ff_ix_arr[crew]) +\n",
    "        sum(value(fr[key]) * (base_fire_dists[key[1], key[2]]) for key in arc_data.fr_ix_arr[crew]) + \n",
    "        sum(value(rf[key]) * (ALPHA + base_fire_dists[key[1], key[2]]) for key in arc_data.rf_ix_arr[crew])\n",
    "            for crew = 1:C]\n",
    "        \n",
    "    else\n",
    "        opt, fires_fought, route_costs = get_routes_from_demands(arc_data, model_dict, max.(demands .- 1, 0))\n",
    "    end\n",
    "    opt, fires_fought, route_costs\n",
    "    \n",
    "end"
   ]
  },
  {
   "cell_type": "code",
   "execution_count": 18,
   "id": "97d718ec",
   "metadata": {},
   "outputs": [
    {
     "data": {
      "text/plain": [
       "update_crew_route_data (generic function with 1 method)"
      ]
     },
     "execution_count": 18,
     "metadata": {},
     "output_type": "execute_result"
    }
   ],
   "source": [
    "function update_crew_route_data(A, route_costs, crew, num_routes, daily_assignments, cost)\n",
    "    \n",
    "    matrix_route = zeros(NUM_FIRES, NUM_TIME_PERIODS)\n",
    "    for assignment in daily_assignments\n",
    "        if assignment[3] <= NUM_TIME_PERIODS + 0.001\n",
    "            matrix_route[assignment[2], assignment[3]] = 1\n",
    "        end\n",
    "    end\n",
    "    A[num_routes + 1, crew, :, :] = matrix_route\n",
    "    route_costs[num_routes + 1, crew] = cost\n",
    "    \n",
    "    return A, route_costs\n",
    "end"
   ]
  },
  {
   "cell_type": "code",
   "execution_count": 19,
   "id": "f00a1675",
   "metadata": {},
   "outputs": [
    {
     "data": {
      "text/plain": [
       "create_warm_start_suppression_plans (generic function with 1 method)"
      ]
     },
     "execution_count": 19,
     "metadata": {},
     "output_type": "execute_result"
    }
   ],
   "source": [
    "function create_warm_start_suppression_plans(fire_data, l, count)\n",
    "        \n",
    "    B = zeros((1000, NUM_FIRES, NUM_TIME_PERIODS))\n",
    "    num_plans_per_fire = convert.(Int, zeros(NUM_FIRES))\n",
    "    suppression_costs = zeros((1000, NUM_FIRES))\n",
    "\n",
    "    assignments = round.(value.(l)/LINE_PER_CREW)[:, 1:NUM_TIME_PERIODS]\n",
    "    for fire in 1:NUM_FIRES\n",
    "        plans = suppression_plan_perturbations(assignments[fire, :], count)\n",
    "        for plan in plans\n",
    "            B, suppression_costs, _ = update_suppression_plan_data(fire_data, B, suppression_costs, fire,\n",
    "                                                                   num_plans_per_fire[fire], plan)\n",
    "            num_plans_per_fire[fire] += 1\n",
    "        end\n",
    "    end\n",
    "    return B, suppression_costs, num_plans_per_fire\n",
    "end"
   ]
  },
  {
   "cell_type": "code",
   "execution_count": 20,
   "id": "58c1364b",
   "metadata": {},
   "outputs": [
    {
     "data": {
      "text/plain": [
       "heuristic_route (generic function with 1 method)"
      ]
     },
     "execution_count": 20,
     "metadata": {},
     "output_type": "execute_result"
    }
   ],
   "source": [
    "function heuristic_route(arc_data, model_dict, crew, ff_val, fr_val, rf_val, rr_val)\n",
    "    \n",
    "    T = NUM_TIME_PERIODS\n",
    "\n",
    "    m = model_dict[\"m\"]\n",
    "    ff = model_dict[\"ff\"]\n",
    "    fr = model_dict[\"fr\"]\n",
    "    rf = model_dict[\"rf\"]\n",
    "    rr = model_dict[\"rr\"]\n",
    "\n",
    "    @objective(m, Max,\n",
    "    sum(ff[key] * ff_val[key] for key in arc_data.ff_ix_arr[crew]) +\n",
    "    sum(fr[key] * fr_val[key] for key in arc_data.fr_ix_arr[crew]) + \n",
    "    sum(rf[key] * rf_val[key] for key in arc_data.rf_ix_arr[crew]) + \n",
    "    sum(rr[key] * rr_val[key] for key in arc_data.rr_ix_arr[crew])\n",
    "        )\n",
    "\n",
    "    optimize!(m)\n",
    "\n",
    "    fires_fought = vcat([(ix[1], ix[3], ix[5]) for ix in arc_data.ff_ix_arr[crew] \n",
    "                                               if (value(ff[ix]) > 0.99)],\n",
    "                        [(ix[1], ix[2], ix[4]) for ix in arc_data.rf_ix_arr[crew] \n",
    "                                               if (value(rf[ix]) > 0.99)])\n",
    "\n",
    "    route_cost = \n",
    "    sum(value(ff[key]) * (ALPHA + fire_dists[key[2], key[3]]) \n",
    "                                            for key in arc_data.ff_ix_arr[crew]) +\n",
    "    sum(value(fr[key]) * (base_fire_dists[key[1], key[2]]) \n",
    "                                            for key in arc_data.fr_ix_arr[crew]) + \n",
    "    sum(value(rf[key]) * (ALPHA + base_fire_dists[key[1], key[2]]) \n",
    "                                            for key in arc_data.rf_ix_arr[crew])\n",
    "\n",
    "    sort(fires_fought), route_cost\n",
    "    \n",
    "end"
   ]
  },
  {
   "cell_type": "code",
   "execution_count": 21,
   "id": "734ab1ab",
   "metadata": {},
   "outputs": [
    {
     "data": {
      "text/plain": [
       "fast_create_warm_start_crew_routes (generic function with 1 method)"
      ]
     },
     "execution_count": 21,
     "metadata": {},
     "output_type": "execute_result"
    }
   ],
   "source": [
    "function fast_create_warm_start_crew_routes(arc_data, dummy_fire_plan, sp_models, ff_val, fr_val, rf_val, rr_val)\n",
    "    t = 0\n",
    "    u = 0\n",
    "    v = 0\n",
    "    t = @elapsed model_dict = init_routes_from_plan_formulation(arc_data)\n",
    "    A = zeros(1000, NUM_CREWS, NUM_FIRES, NUM_TIME_PERIODS)\n",
    "    num_routes_per_crew = convert.(Int, zeros(NUM_CREWS))\n",
    "    crew_route_costs = zeros((1000, NUM_CREWS))\n",
    "    \n",
    "    assignments_by_crew = [[] for i in 1:NUM_CREWS]\n",
    "\n",
    "    # get routes corresponding to dummy plan\n",
    "    fires_fought = false\n",
    "    \n",
    "    u += @elapsed _, fires_fought, route_costs = get_routes_from_demands(arc_data, model_dict, dummy_fire_plan)\n",
    "\n",
    "    # for each crew\n",
    "    for crew in 1:NUM_CREWS\n",
    "\n",
    "        # get their assignments and the route cost\n",
    "        daily_assignments = sort([j for j in fires_fought if j[1] == crew])\n",
    "        cost = route_costs[crew]\n",
    "\n",
    "        # if we have not already seen this route, add it and make appropriate updates\n",
    "        if !(daily_assignments in assignments_by_crew[crew])\n",
    "\n",
    "            A, crew_route_costs = update_crew_route_data(A, crew_route_costs, crew, num_routes_per_crew[crew], \n",
    "                                                    daily_assignments, cost)\n",
    "\n",
    "            num_routes_per_crew[crew] += 1\n",
    "        end\n",
    "    end\n",
    "    \n",
    "    \n",
    "    # get routes corresponding to best warm start\n",
    "    fires_fought = false\n",
    "    \n",
    "    # for each crew\n",
    "    for crew in 1:NUM_CREWS\n",
    "        \n",
    "        v += @elapsed daily_assignments, cost = heuristic_route(arc_data, sp_models[crew], crew, ff_val, fr_val, rf_val, rr_val)\n",
    "\n",
    "        # if we have not already seen this route, add it and make appropriate updates\n",
    "        if !(daily_assignments in assignments_by_crew[crew])\n",
    "\n",
    "            A, crew_route_costs = update_crew_route_data(A, crew_route_costs, crew, num_routes_per_crew[crew], \n",
    "                                                    daily_assignments, cost)\n",
    "\n",
    "            num_routes_per_crew[crew] += 1\n",
    "        end\n",
    "    end\n",
    "    \n",
    "    \n",
    "\n",
    "    println(t)\n",
    "    println(u)\n",
    "    println(v)\n",
    "    return A, crew_route_costs, num_routes_per_crew\n",
    "end"
   ]
  },
  {
   "cell_type": "code",
   "execution_count": 22,
   "id": "8eb27f53",
   "metadata": {},
   "outputs": [
    {
     "data": {
      "text/plain": [
       "create_warm_start_crew_routes (generic function with 1 method)"
      ]
     },
     "execution_count": 22,
     "metadata": {},
     "output_type": "execute_result"
    }
   ],
   "source": [
    "function create_warm_start_crew_routes(arc_data, plans, max_per_crew)\n",
    "    \n",
    "    model_dict = init_routes_from_plan_formulation(arc_data)\n",
    "    A = zeros(1000, NUM_CREWS, NUM_FIRES, NUM_TIME_PERIODS)\n",
    "    num_routes_per_crew = convert.(Int, zeros(NUM_CREWS))\n",
    "    crew_route_costs = zeros((1000, NUM_CREWS))\n",
    "    \n",
    "    num_plans = size(plans)[1]\n",
    "    \n",
    "    assignments_by_crew = [[] for i in 1:NUM_CREWS]\n",
    "    for i = 1:num_plans\n",
    "        \n",
    "        if minimum(num_routes_per_crew) < max_per_crew\n",
    "        \n",
    "            opt, fires_fought, route_costs = get_routes_from_demands(arc_data, model_dict, plans[i, :, :])\n",
    "\n",
    "            # should always be here\n",
    "            if opt\n",
    "\n",
    "                # for each crew\n",
    "                for crew in 1:NUM_CREWS\n",
    "\n",
    "                    # get their assignments and the route cost\n",
    "                    daily_assignments = sort([j for j in fires_fought if j[1] == crew])\n",
    "                    cost = route_costs[crew]\n",
    "\n",
    "                    # if we have not already seen this route, add it and make appropraite updates\n",
    "                    if !(daily_assignments in assignments_by_crew[crew]) & (num_routes_per_crew[crew] < max_per_crew)\n",
    "\n",
    "                        A, crew_route_costs = update_crew_route_data(A, crew_route_costs, crew, num_routes_per_crew[crew], \n",
    "                                                                daily_assignments, cost)\n",
    "\n",
    "                        num_routes_per_crew[crew] += 1\n",
    "                    end\n",
    "                end\n",
    "            end\n",
    "        end\n",
    "    end\n",
    "    return A, crew_route_costs, num_routes_per_crew\n",
    "end"
   ]
  },
  {
   "cell_type": "markdown",
   "id": "116e42b3",
   "metadata": {},
   "source": [
    "## CG functions"
   ]
  },
  {
   "cell_type": "code",
   "execution_count": 23,
   "id": "b668b02b",
   "metadata": {},
   "outputs": [
    {
     "data": {
      "text/plain": [
       "create_master_problem_model (generic function with 1 method)"
      ]
     },
     "execution_count": 23,
     "metadata": {},
     "output_type": "execute_result"
    }
   ],
   "source": [
    "function create_master_problem_model()\n",
    "    \n",
    "    m = Model(() -> Gurobi.Optimizer(GRB_ENV))\n",
    "    set_optimizer_attribute(m, \"OutputFlag\", 0)\n",
    "    return 0\n",
    "    return m\n",
    "end"
   ]
  },
  {
   "cell_type": "code",
   "execution_count": 24,
   "id": "62930a03",
   "metadata": {},
   "outputs": [
    {
     "data": {
      "text/plain": [
       "run_master_problem_step (generic function with 1 method)"
      ]
     },
     "execution_count": 24,
     "metadata": {},
     "output_type": "execute_result"
    }
   ],
   "source": [
    "function run_master_problem_step(crew_route_count_dict, fire_plan_count_dict, route_costs, fire_costs, A, B)\n",
    "    \n",
    "    # make variable index sets\n",
    "    fire_plan_ix = [(i, g) for g=1:NUM_FIRES for i=1:fire_plan_count_dict[g]]\n",
    "    route_plan_ix = [(i, c) for c=1:NUM_CREWS for i=1:crew_route_count_dict[c]]\n",
    "    \n",
    "    model = Model(() -> Gurobi.Optimizer(GRB_ENV))\n",
    "    set_optimizer_attribute(model, \"OutputFlag\", 0)\n",
    "    \n",
    "    # formulate \"disappointingly small\" formulation\n",
    "    @variable(model, suppression_plans[fire_plan_ix] >= 0)\n",
    "    @variable(model, crew_routes[route_plan_ix] >= 0)\n",
    "\n",
    "    @constraint(model, plan_per_fire[g=1:NUM_FIRES], \n",
    "                    sum(suppression_plans[ix] for ix in fire_plan_ix if ix[2] == g) >= 1)\n",
    "    @constraint(model, route_per_crew[c=1:NUM_CREWS], \n",
    "                    sum(crew_routes[ix] for ix in route_plan_ix if ix[2] == c) == 1)\n",
    "    @constraint(model, cover_plans[g=1:NUM_FIRES, t=1:NUM_TIME_PERIODS],\n",
    "                    sum(crew_routes[ix] * A[ix[1], ix[2], g, t] for ix in route_plan_ix) >=\n",
    "                    sum(suppression_plans[ix] * B[ix[1], g, t] for ix in fire_plan_ix if ix[2] == g)\n",
    "               )\n",
    "    @objective(model, Min, \n",
    "                  sum(crew_routes[ix] * route_costs[ix[1], ix[2]] for ix in route_plan_ix) + \n",
    "                  sum(suppression_plans[ix] * fire_costs[ix[1], ix[2]] for ix in fire_plan_ix)\n",
    "             )\n",
    "\n",
    "    # optimize and return dual info\n",
    "    optimize!(model)\n",
    "    \n",
    "    return model, dual.(plan_per_fire), dual.(route_per_crew), dual.(cover_plans)\n",
    "\n",
    "end"
   ]
  },
  {
   "cell_type": "code",
   "execution_count": 25,
   "id": "495ce1ca",
   "metadata": {},
   "outputs": [
    {
     "data": {
      "text/plain": [
       "add_route_plans (generic function with 1 method)"
      ]
     },
     "execution_count": 25,
     "metadata": {},
     "output_type": "execute_result"
    }
   ],
   "source": [
    "function add_route_plans(arc_data, sigma, rho, sp_models, crew_route_count_dict, A, route_costs)\n",
    "    \n",
    "    # for each crew\n",
    "    for crew in 1:NUM_CREWS\n",
    "        \n",
    "        # solve subproblem\n",
    "        local_cost, assignments, pure_cost = route_subproblem(arc_data, crew, sp_models[crew], rho)\n",
    "        \n",
    "        # if negatve reduced cost\n",
    "        if local_cost < sigma[crew] - THRESH\n",
    "            \n",
    "            # add plan and cost\n",
    "            num_routes = crew_route_count_dict[crew]\n",
    "            A, route_costs = update_crew_route_data(A, route_costs, crew, num_routes, assignments, pure_cost)\n",
    "            crew_route_count_dict[crew] += 1\n",
    "            \n",
    "        end\n",
    "    end\n",
    "    \n",
    "    return A, route_costs, crew_route_count_dict\n",
    "end"
   ]
  },
  {
   "cell_type": "code",
   "execution_count": 26,
   "id": "165fc64d",
   "metadata": {},
   "outputs": [
    {
     "data": {
      "text/plain": [
       "add_suppression_plans (generic function with 1 method)"
      ]
     },
     "execution_count": 26,
     "metadata": {},
     "output_type": "execute_result"
    }
   ],
   "source": [
    "function add_suppression_plans(fire_data, pi, rho, sp_models, fire_plan_count_dict, B, fire_costs, second_objective_eps)\n",
    "    \n",
    "    for fire in 1:NUM_FIRES\n",
    "        \n",
    "        plan, pure_cost, local_cost = suppression_plan_subproblem(fire, sp_models[fire], rho, second_objective_eps)\n",
    "        \n",
    "        # if negatve reduced cost\n",
    "        if local_cost < pi[fire] - THRESH\n",
    "            \n",
    "            # add plan and cost\n",
    "            num_plans = fire_plan_count_dict[fire]\n",
    "            update_suppression_plan_data(fire_data, B, fire_costs, fire, num_plans, plan)\n",
    "            fire_plan_count_dict[fire] += 1\n",
    "        end\n",
    "    end\n",
    "    \n",
    "    return B, fire_costs, fire_plan_count_dict\n",
    "end"
   ]
  },
  {
   "cell_type": "code",
   "execution_count": 27,
   "id": "723e721b",
   "metadata": {},
   "outputs": [
    {
     "data": {
      "text/plain": [
       "solve_integer_MP (generic function with 1 method)"
      ]
     },
     "execution_count": 27,
     "metadata": {},
     "output_type": "execute_result"
    }
   ],
   "source": [
    "function solve_integer_MP(crew_route_count_dict, fire_plan_count_dict, route_costs, fire_costs, A, B)\n",
    "    \n",
    "    model = Model(() -> Gurobi.Optimizer(GRB_ENV))\n",
    "    set_optimizer_attribute(model, \"OutputFlag\", 0)\n",
    "    \n",
    "    # make variable index sets\n",
    "    fire_plan_ix = [(i, g) for g=1:NUM_FIRES for i=1:fire_plan_count_dict[g]]\n",
    "    route_plan_ix = [(i, c) for c=1:NUM_CREWS for i=1:crew_route_count_dict[c]]\n",
    "    \n",
    "    \n",
    "    # formulate \"disappointingly small\" formulation\n",
    "    @variable(model, suppression_plans[fire_plan_ix] >= 0, Int)\n",
    "    @variable(model, crew_routes[route_plan_ix] >= 0, Int)\n",
    "\n",
    "    @constraint(model, plan_per_fire[g=1:NUM_FIRES], \n",
    "                    sum(suppression_plans[ix] for ix in fire_plan_ix if ix[2] == g) >= 1)\n",
    "    @constraint(model, route_per_crew[c=1:NUM_CREWS], \n",
    "                    sum(crew_routes[ix] for ix in route_plan_ix if ix[2] == c) == 1)\n",
    "    @constraint(model, cover_plans[g=1:NUM_FIRES, t=1:NUM_TIME_PERIODS],\n",
    "                    sum(crew_routes[ix] * A[ix[1], ix[2], g, t] for ix in route_plan_ix) >=\n",
    "                    sum(suppression_plans[ix] * B[ix[1], g, t] for ix in fire_plan_ix if ix[2] == g)\n",
    "               )\n",
    "    @objective(model, Min, \n",
    "                  sum(crew_routes[ix] * route_costs[ix[1], ix[2]] for ix in route_plan_ix) + \n",
    "                  sum(suppression_plans[ix] * fire_costs[ix[1], ix[2]] for ix in fire_plan_ix)\n",
    "             )\n",
    "\n",
    "    # optimize and return dual info\n",
    "    optimize!(model)\n",
    "    \n",
    "    supp = zeros((NUM_FIRES, NUM_TIME_PERIODS))\n",
    "    for g=1:NUM_FIRES\n",
    "        for t=1:NUM_TIME_PERIODS\n",
    "            supp[g, t] = sum(value.(suppression_plans[ix] * B[ix[1], g, t] for ix in fire_plan_ix if ix[2] == g))\n",
    "        end\n",
    "    end\n",
    "    \n",
    "    crew_routes_chosen = convert.(Int, zeros(NUM_CREWS))\n",
    "    for tuple in [key for key in route_plan_ix if value(crew_routes[key]) > 0.99]\n",
    "        crew_routes_chosen[tuple[2]] = tuple[1]\n",
    "    end\n",
    "    \n",
    "    fire_plans_chosen = convert.(Int, zeros(NUM_FIRES)) \n",
    "    for tuple in [key for key in fire_plan_ix if value(suppression_plans[key]) > 0.99]\n",
    "        fire_plans_chosen[tuple[2]] = tuple[1]\n",
    "    end\n",
    "    return model, supp, fire_plans_chosen, crew_routes_chosen              \n",
    "\n",
    "end"
   ]
  },
  {
   "cell_type": "code",
   "execution_count": 28,
   "id": "bc3776fd",
   "metadata": {},
   "outputs": [
    {
     "data": {
      "text/plain": [
       "run_CG (generic function with 1 method)"
      ]
     },
     "execution_count": 28,
     "metadata": {},
     "output_type": "execute_result"
    }
   ],
   "source": [
    "function run_CG(arc_data, fire_data, warm_start_routes_per_crew, warm_start_supp_plans_per_fire, verbose)\n",
    "\n",
    "    # initialize CG model and stats to track #\n",
    "    formulate_time = @elapsed fire_subproblem_models = \n",
    "                                   [init_suppression_plan_subproblem(fire_data, fire) for fire=1:NUM_FIRES]\n",
    "    formulate_time += @elapsed route_subproblem_models = [init_route_subproblem(arc_data, crew) for crew=1:NUM_CREWS]\n",
    "    \n",
    "    # solve LP relaxation of original formulaton #\n",
    "    \n",
    "    relaxation_time = @elapsed m, p, l, ff, fr, rf, rr = full_formulation(false, arcs, fire_progs)\n",
    "    relaxation_time += @elapsed optimize!(m)\n",
    "    verbose && println(\"Seconds for solving LP relaxation: $(relaxation_time)\")\n",
    "\n",
    "    # warm start\n",
    "\n",
    "    fire_warm_start_time = @elapsed B, fire_plan_costs, num_plans_per_fire = \n",
    "        create_warm_start_suppression_plans(fire_data, l, warm_start_supp_plans_per_fire)\n",
    "    verbose && println(\"Seconds for generating $(sum(num_plans_per_fire)) warm-start fire plans: $(fire_warm_start_time)\")\n",
    "    \n",
    "\n",
    "    crew_warm_start_time = @elapsed A, crew_plan_costs, num_plans_per_crew = \n",
    "        create_warm_start_crew_routes(arc_data, B[1:warm_start_supp_plans_per_fire, :, :], warm_start_routes_per_crew)\n",
    "    verbose && println(\"Seconds for generating $(sum(num_plans_per_crew)) warm-start crew routes: $(crew_warm_start_time)\")\n",
    "    \n",
    "#    crew_warm_start_time = @elapsed A, crew_plan_costs, num_plans_per_crew = \n",
    "#        fast_create_warm_start_crew_routes(arc_data, B[1, :, :], route_subproblem_models, \n",
    "#                                           value.(ff), value.(fr), value.(rf), value.(rr))\n",
    "#    verbose && println(\"Seconds for generating $(sum(num_plans_per_crew)) warm-start crew routes: $(crew_warm_start_time)\")\n",
    "    \n",
    "    initial_num_fire_plans = copy(num_plans_per_fire)\n",
    "    initial_num_crew_plans = copy(num_plans_per_crew)\n",
    "\n",
    "\n",
    "\n",
    "    \n",
    "    last_total_crew_plans = -1\n",
    "    last_total_fire_plans = -1\n",
    "\n",
    "    total_crew_plans = sum(num_plans_per_crew)\n",
    "    total_fire_plans = sum(num_plans_per_fire)\n",
    "\n",
    "    n_iter = 0\n",
    "    \n",
    "    fire_subproblem_times = []\n",
    "    crew_subproblem_times = []\n",
    "    mp_times = []\n",
    "    \n",
    "    \n",
    "    ws_obj = 0\n",
    "\n",
    "    mp_model = []\n",
    "    \n",
    "    crew_plan_histories = []\n",
    "    fire_plan_histories = []\n",
    "    \n",
    "    progress = []\n",
    "    \n",
    "    # run CG algorithm until proof of optimality #\n",
    "    \n",
    "    while (total_crew_plans != last_total_crew_plans) | (total_fire_plans != last_total_fire_plans)\n",
    "\n",
    "        push!(crew_plan_histories, copy(num_plans_per_crew))\n",
    "        push!(fire_plan_histories, copy(num_plans_per_fire))\n",
    "        n_iter += 1\n",
    "\n",
    "        last_total_crew_plans = total_crew_plans\n",
    "        last_total_fire_plans = total_fire_plans\n",
    "\n",
    "        time = @elapsed mp_model, p, s, r = run_master_problem_step(num_plans_per_crew, \n",
    "                                                                    num_plans_per_fire, \n",
    "                                                                    crew_plan_costs, \n",
    "                                                                    fire_plan_costs,\n",
    "                                                                    A, B)\n",
    "        push!(mp_times, time)\n",
    "        \n",
    "        push!(progress, objective_value(mp_model))\n",
    "        if n_iter == 1\n",
    "            ws_obj = objective_value(mp_model)\n",
    "        end\n",
    "        \n",
    "        time = @elapsed A, crew_plan_costs, num_plans_per_crew  = \n",
    "                add_route_plans(arc_data, s, r, route_subproblem_models, num_plans_per_crew, A, crew_plan_costs)\n",
    "        push!(fire_subproblem_times, time)\n",
    "\n",
    "        \n",
    "        time = @elapsed B, fire_plan_costs, num_plans_per_fire  = \n",
    "                add_suppression_plans(fire_data, p, r, fire_subproblem_models, num_plans_per_fire, B, fire_plan_costs, 0.01)\n",
    "        push!(crew_subproblem_times, time)\n",
    "        \n",
    "        total_crew_plans = sum(num_plans_per_crew)\n",
    "        total_fire_plans = sum(num_plans_per_fire)\n",
    "\n",
    "    end\n",
    "    \n",
    "    final_num_fire_plans = copy(num_plans_per_fire)\n",
    "    final_num_crew_plans = copy(num_plans_per_crew)\n",
    "    \n",
    "    verbose && println(\"Seconds spent on master problem: $(sum(mp_times))\")\n",
    "    verbose && println(\"Seconds spent on fire subproblems: $(sum(fire_subproblem_times))\")\n",
    "    verbose && println(\"Seconds spent on crew subproblems: $(sum(crew_subproblem_times))\")\n",
    "    \n",
    "    int_problem = @elapsed model, supp, fire_plans_chosen, crew_routes_chosen = \n",
    "                            solve_integer_MP(num_plans_per_crew, \n",
    "                            num_plans_per_fire, \n",
    "                            crew_plan_costs, \n",
    "                            fire_plan_costs,\n",
    "                            A, B);\n",
    "    verbose && println(\"Seconds spent on restoring integrality: $(int_problem)\")\n",
    "    \n",
    "    Dict(\"obj_LR\" => objective_value(m), \"obj_MP\" => objective_value(mp_model), \"obj_PB\" => objective_value(model),\n",
    "         \"obj_MP_warm_start_only\" => ws_obj,\n",
    "         \"time_LR\" => relaxation_time, \"time_formulate\" => formulate_time, \"time_fire_warm_start\" => fire_warm_start_time, \n",
    "         \"time_crew_warm_start\" => crew_warm_start_time, \"iterations\" => n_iter, \"mp_iter_times\" => mp_times,\n",
    "         \"fire_sp_times\" => fire_subproblem_times, \"crew_sp_times\" => crew_subproblem_times,\n",
    "         \"restore_int_time\" => int_problem,\n",
    "         \"fire_plans_chosen\" => fire_plans_chosen, \"crew_routes_chosen\" => crew_routes_chosen,\n",
    "         \"initial_fire_plans\" => initial_num_fire_plans, \"initial_crew_routes\" => initial_num_crew_plans,\n",
    "         \"final_fire_plans\" => final_num_fire_plans, \"final_crew_routes\" => final_num_crew_plans,\n",
    "         \"supp_LR\" => value.(l) / LINE_PER_CREW, \"supp_PB\" => supp, \"num_plans_per_crew\" => num_plans_per_crew,\n",
    "         \"num_plans_per_fire\" => num_plans_per_fire, \"crew_plan_costs\" => crew_plan_costs, \n",
    "         \"fire_plan_costs\" => fire_plan_costs, \"crew_plan_histories\" => crew_plan_histories, \"fire_plan_histories\" => \n",
    "          fire_plan_histories, \"progress\" => progress)\n",
    "end"
   ]
  },
  {
   "cell_type": "code",
   "execution_count": 29,
   "id": "124152bf",
   "metadata": {},
   "outputs": [
    {
     "data": {
      "text/plain": [
       "0.001"
      ]
     },
     "execution_count": 29,
     "metadata": {},
     "output_type": "execute_result"
    }
   ],
   "source": [
    "THRESH = 0.001"
   ]
  },
  {
   "cell_type": "code",
   "execution_count": 30,
   "id": "b2bbaa44",
   "metadata": {},
   "outputs": [
    {
     "data": {
      "text/plain": [
       "200"
      ]
     },
     "execution_count": 30,
     "metadata": {},
     "output_type": "execute_result"
    }
   ],
   "source": [
    "ENV[\"COLUMNS\"] = 200"
   ]
  },
  {
   "cell_type": "code",
   "execution_count": 31,
   "id": "03f8e6d5",
   "metadata": {},
   "outputs": [
    {
     "data": {
      "text/plain": [
       "analysis (generic function with 1 method)"
      ]
     },
     "execution_count": 31,
     "metadata": {},
     "output_type": "execute_result"
    }
   ],
   "source": [
    "function analysis(arc_data, fire_data, ws_params)\n",
    "    \n",
    "    # solve completely with Gurobi\n",
    "    formulate_time = @elapsed m, _, l, _, _, _, _ = full_formulation(true, arc_data, fire_data)\n",
    "    opt_time = @elapsed optimize!(m)\n",
    "    obj_IP = objective_value(m)\n",
    "    obj_PB = false\n",
    "    IP_sol = round.(value.(l) / LINE_PER_CREW)\n",
    "    \n",
    "    times = []\n",
    "    crew_ws_nums = []\n",
    "    fire_ws_nums = []\n",
    "    iters = []\n",
    "    fire_ws_times = []\n",
    "    crew_ws_times = []\n",
    "    mp_times = []\n",
    "    lr_times = []\n",
    "    formulate_times = []\n",
    "    fire_sp_times = []\n",
    "    crew_sp_times = []\n",
    "    \n",
    "    PB_IP_opt_gaps = []\n",
    "    MP_LR_opt_gaps = []\n",
    "    MPWS_opt_gaps = []\n",
    "    fire_plans_generated = []\n",
    "    crew_routes_generated = []\n",
    "    ws_fire_plans_used = []\n",
    "    ws_crew_routes_used = []\n",
    "    sp_fire_plans_used = []\n",
    "    sp_crew_routes_used = []\n",
    "    \n",
    "    \n",
    "    # for each set of warm start parameters\n",
    "    for ws_param in ws_params\n",
    "        \n",
    "        time = @elapsed result = run_CG(arc_data, fire_data, ws_param[1], ws_param[2], false)\n",
    "        \n",
    "        obj_PB = result[\"obj_PB\"]\n",
    "        push!(times, time)\n",
    "        push!(crew_ws_nums, ws_param[1])\n",
    "        push!(fire_ws_nums, ws_param[2])\n",
    "        push!(iters, result[\"iterations\"])\n",
    "        push!(lr_times, result[\"time_LR\"])\n",
    "        push!(formulate_times, result[\"time_formulate\"])\n",
    "        push!(fire_ws_times, sum(result[\"time_fire_warm_start\"]))\n",
    "        push!(crew_ws_times, sum(result[\"time_crew_warm_start\"]))\n",
    "        push!(mp_times, sum(result[\"mp_iter_times\"]))\n",
    "        push!(fire_sp_times, sum(result[\"fire_sp_times\"]))\n",
    "        push!(crew_sp_times, sum(result[\"crew_sp_times\"]))\n",
    "        \n",
    "        push!(PB_IP_opt_gaps, (result[\"obj_PB\"] - obj_IP) / obj_IP)\n",
    "        push!(MP_LR_opt_gaps, (result[\"obj_MP\"] - result[\"obj_LR\"]) / result[\"obj_LR\"])\n",
    "        push!(MPWS_opt_gaps, (result[\"obj_MP_warm_start_only\"] - result[\"obj_MP\"]) / result[\"obj_MP\"])\n",
    "        push!(fire_plans_generated, sum(result[\"final_fire_plans\"]) - sum(result[\"initial_fire_plans\"]))\n",
    "        push!(crew_routes_generated, sum(result[\"final_crew_routes\"]) - sum(result[\"initial_crew_routes\"]))\n",
    "        push!(sp_fire_plans_used, sum(result[\"fire_plans_chosen\"] .> result[\"initial_fire_plans\"]))\n",
    "        push!(ws_fire_plans_used, sum(result[\"fire_plans_chosen\"] .<= result[\"initial_fire_plans\"]))\n",
    "        push!(sp_crew_routes_used, sum(result[\"crew_routes_chosen\"] .> result[\"initial_crew_routes\"]))\n",
    "        push!(ws_crew_routes_used, sum(result[\"crew_routes_chosen\"] .<= result[\"initial_crew_routes\"]))\n",
    "        \n",
    "    end\n",
    "    \n",
    "    times = DataFrame(ws_crew = crew_ws_nums, ws_fire = fire_ws_nums,\n",
    "                      iterations = iters, time = times, lr_time = lr_times, formulate_sp_time = formulate_times,\n",
    "                      fire_ws_time = fire_ws_times, \n",
    "                      crew_ws_time = crew_ws_times, mp_time = mp_times, fire_sp_time = fire_sp_times, \n",
    "                      crew_sp_time = crew_sp_times)\n",
    "    \n",
    "    plans = DataFrame(ws_crew = crew_ws_nums, ws_fire = fire_ws_nums,\n",
    "                      iterations = iters, PB_IP_opt_gap = PB_IP_opt_gaps, MP_LR_opt_gap = MP_LR_opt_gaps,\n",
    "                      MPWS_MPLR_opt_gap = MPWS_opt_gaps,\n",
    "                      total_fire_plans_sp = fire_plans_generated, total_crew_routes_sp = crew_routes_generated,\n",
    "                      sp_fire_plans_used = sp_fire_plans_used, ws_fire_plans_used = ws_fire_plans_used,\n",
    "                      sp_crew_routes_used = sp_crew_routes_used, ws_crew_routes_used = ws_crew_routes_used)\n",
    "    \n",
    "    return formulate_time, opt_time, obj_IP, obj_PB, IP_sol, times, plans\n",
    "    \n",
    "end"
   ]
  },
  {
   "cell_type": "code",
   "execution_count": 32,
   "id": "6cbe03a2",
   "metadata": {},
   "outputs": [
    {
     "data": {
      "text/plain": [
       "read_inputs (generic function with 1 method)"
      ]
     },
     "execution_count": 32,
     "metadata": {},
     "output_type": "execute_result"
    }
   ],
   "source": [
    "function read_inputs(in_path, init_path)\n",
    "    \n",
    "    # get inital fire perimeters and no-suppression progression parameters\n",
    "    M = readdlm(init_path * \"/sample_growth_patterns.csv\", ',')[1:NUM_FIRES, :]\n",
    "    start_perims = M[:, 1]\n",
    "    progressions = M[:, 2:NUM_TIME_PERIODS+1]     \n",
    "\n",
    "    # get distance from fire f to fire g \n",
    "    fire_dists =  readdlm(in_path * \"/fire_distances.csv\", ',')\n",
    "\n",
    "    # get distance from base c to fire g (NUM_CREWS-by-NUM_FIRES)\n",
    "    base_fire_dists =  readdlm(in_path * \"/base_fire_distances.csv\", ',')\n",
    "\n",
    "    # initialize travel times (number of periods) from fire f to fire g\n",
    "    tau = convert(Array{Int}, ones(size(fire_dists)))\n",
    "\n",
    "    # initialize number of periods to travel from base c to fire g (NUM_CREWS-by-NUM_FIRES)\n",
    "    tau_base_to_fire = convert(Array{Int}, ones((size(base_fire_dists))))\n",
    "\n",
    "    # read intial crew statuses (location, period by which they must rest)\n",
    "    # (-1 in current_fire means crew is currently at base)\n",
    "    # (rested_periods is the amount of time crew has been at base, relevant for completing rest)\n",
    "    crew_starts = CSV.read(init_path * \"/sample_crew_starts.csv\", DataFrame)[1:NUM_CREWS, :]\n",
    "    rest_by = crew_starts[!, \"rest_by\"]\n",
    "    current_fire = crew_starts[!, \"current_fire\"]\n",
    "    rested_periods = crew_starts[!, \"rested_periods\"]\n",
    "    \n",
    "    start_perims, progressions, fire_dists, base_fire_dists, tau, tau_base_to_fire, rest_by, current_fire, rested_periods\n",
    "end"
   ]
  },
  {
   "cell_type": "code",
   "execution_count": 33,
   "id": "c6a805b9",
   "metadata": {},
   "outputs": [
    {
     "data": {
      "text/plain": [
       "fast_warm_start (generic function with 1 method)"
      ]
     },
     "execution_count": 33,
     "metadata": {},
     "output_type": "execute_result"
    }
   ],
   "source": [
    "function fast_warm_start(arc_data, ff_val, fr_val, rf_val, rr_val)\n",
    "    \n",
    "    # shorten some global variable names\n",
    "    C = NUM_CREWS\n",
    "    G = NUM_FIRES\n",
    "    T = NUM_TIME_PERIODS\n",
    "    \n",
    "    # intialize model\n",
    "    m = Model(() -> Gurobi.Optimizer(GRB_ENV))\n",
    "    set_optimizer_attribute(m, \"OutputFlag\", 0)\n",
    "\n",
    "\n",
    "    @variable(m, ff[arc_data.ff_ix] >= 0)\n",
    "    @variable(m, fr[arc_data.fr_ix] >= 0)\n",
    "    @variable(m, rf[arc_data.rf_ix] >= 0)\n",
    "    @variable(m, rr[arc_data.rr_ix] >= 0)\n",
    "\n",
    "\n",
    "\n",
    "    @constraint(m, fire_flow[c=1:C, g=1:G, t=1:T, rest=0:1],\n",
    "\n",
    "                # outflow\n",
    "                sum(ff[key] for key in arc_data.ff_ix_arr[c]\n",
    "                        if (key[2] == g) & (key[4] == t) & (key[6] == rest)\n",
    "                    ) +    \n",
    "\n",
    "                sum(fr[key] for key in arc_data.fr_ix_arr[c]\n",
    "                            if (key[2] == g) & (key[3] == t) & (key[5] == rest)\n",
    "                    ) \n",
    "\n",
    "        ==\n",
    "                # inflow\n",
    "                sum(ff[key] for key in arc_data.ff_ix_arr[c]\n",
    "                            if (key[3] == g) & (key[5] == t) & (key[6] == rest)\n",
    "                    ) +\n",
    "\n",
    "                sum(rf[key] for key in arc_data.rf_ix_arr[c]\n",
    "                            if (key[2] == g) & (key[4] == t) & (key[5] == rest)\n",
    "                    ) \n",
    "\n",
    "                )   \n",
    "\n",
    "    @constraint(m, rest_flow[c=1:C, t=1:T, rest=0:1], \n",
    "\n",
    "                # outflow\n",
    "                sum(rf[key] for key in arc_data.rf_ix_arr[c]\n",
    "                            if (key[3] == t) & (key[5] == rest)\n",
    "                    ) +\n",
    "\n",
    "                sum(rr[key] for key in arc_data.rr_ix_arr[c]\n",
    "                            if (key[2] == t) & (key[4] == rest)\n",
    "                    )\n",
    "\n",
    "                ==       \n",
    "\n",
    "                # inflow\n",
    "                sum(fr[key] for key in arc_data.fr_ix_arr[c]\n",
    "                            if (key[4] == t) &  (key[5] == rest)\n",
    "                    ) +\n",
    "                sum(rr[key] for key in arc_data.rr_ix_arr[c]\n",
    "                            if (key[3] == t) & (key[5] == rest)\n",
    "                    )\n",
    "               )\n",
    "\n",
    "    @constraint(m, start[c=1:C], \n",
    "\n",
    "        sum(ff[key] for key in arc_data.from_start_ff if key[1] == c) + \n",
    "        sum(rf[key] for key in arc_data.from_start_rf if key[1] == c) + \n",
    "        sum(fr[key] for key in arc_data.from_start_fr if key[1] == c) + \n",
    "        sum(rr[key] for key in arc_data.from_start_rr if key[1] == c) == 1\n",
    "               )\n",
    "\n",
    "    \n",
    "    @objective(m, Max,\n",
    "    sum(ff[key] * ff_val[key] for key in arc_data.ff_ix) +\n",
    "    sum(fr[key] * fr_val[key] for key in arc_data.fr_ix) + \n",
    "    sum(rf[key] * rf_val[key] for key in arc_data.rf_ix) + \n",
    "    sum(rr[key] * rr_val[key] for key in arc_data.rr_ix)\n",
    "        )\n",
    "    \n",
    "    optimize!(m)\n",
    "    \n",
    "    fires_fought = vcat([(ix[1], ix[3], ix[5]) for ix in arc_data.ff_ix if (value(ff[ix]) > 0.99)],\n",
    "                [(ix[1], ix[2], ix[4]) for ix in arc_data.rf_ix if (value(rf[ix]) > 0.99)])\n",
    "    \n",
    "    route_costs = \n",
    "    [sum(value(ff[key]) * (ALPHA + fire_dists[key[2], key[3]]) for key in arc_data.ff_ix_arr[crew]) +\n",
    "    sum(value(fr[key]) * (base_fire_dists[key[1], key[2]]) for key in arc_data.fr_ix_arr[crew]) + \n",
    "    sum(value(rf[key]) * (ALPHA + base_fire_dists[key[1], key[2]]) for key in arc_data.rf_ix_arr[crew])\n",
    "        for crew = 1:C]\n",
    "    \n",
    "    fires_fought, route_costs\n",
    "\n",
    "end"
   ]
  },
  {
   "cell_type": "code",
   "execution_count": 34,
   "id": "b1195f46",
   "metadata": {},
   "outputs": [],
   "source": [
    "# set path to all input data\n",
    "in_path = \"data/processed\"\n",
    "\n",
    "# set path to intialization data\n",
    "init_path = \"data/raw/simulated_params\"\n",
    "\n",
    "baseline_costs = [[], [], [], [], [], []]\n",
    "baseline_supps = [[], [], [], [], [], []];"
   ]
  },
  {
   "cell_type": "code",
   "execution_count": 214,
   "id": "b36063f1",
   "metadata": {},
   "outputs": [
    {
     "data": {
      "text/plain": [
       "3"
      ]
     },
     "execution_count": 214,
     "metadata": {},
     "output_type": "execute_result"
    }
   ],
   "source": [
    "NUM_CREWS = 30 \n",
    "NUM_FIRES = 3"
   ]
  },
  {
   "cell_type": "code",
   "execution_count": 215,
   "id": "eef84cef",
   "metadata": {},
   "outputs": [],
   "source": [
    "start_perims, progressions, fire_dists, base_fire_dists, tau, tau_base_to_fire, rest_by, current_fire, rested_periods =\n",
    "     read_inputs(in_path, init_path)\n",
    "\n",
    "arcs = define_arc_sets(tau, tau_base_to_fire, current_fire, rest_by, rested_periods)\n",
    "fire_progs = FireProgressionData(start_perims, progressions)\n",
    "constraints = define_network_constraint_data(arcs);"
   ]
  },
  {
   "cell_type": "code",
   "execution_count": 216,
   "id": "620ee101",
   "metadata": {},
   "outputs": [
    {
     "data": {
      "text/plain": [
       "500478.55155975115"
      ]
     },
     "execution_count": 216,
     "metadata": {},
     "output_type": "execute_result"
    }
   ],
   "source": [
    "m, p, l, ff, fr, rf, rr = full_formulation(false, arcs, fire_progs)\n",
    "optimize!(m)\n",
    "objective_value(m)"
   ]
  },
  {
   "cell_type": "code",
   "execution_count": 218,
   "id": "138bc809",
   "metadata": {},
   "outputs": [
    {
     "data": {
      "text/plain": [
       "500478.55155975115"
      ]
     },
     "execution_count": 218,
     "metadata": {},
     "output_type": "execute_result"
    }
   ],
   "source": [
    "m, p, l, ff, fr, rf, rr = full_formulation_2(false, arcs, fire_progs)\n",
    "optimize!(m)\n",
    "objective_value(m)"
   ]
  },
  {
   "cell_type": "code",
   "execution_count": 219,
   "id": "a21820ef",
   "metadata": {},
   "outputs": [
    {
     "data": {
      "text/plain": [
       "500478.55155975115"
      ]
     },
     "execution_count": 219,
     "metadata": {},
     "output_type": "execute_result"
    }
   ],
   "source": [
    "m, p, l, ff, fr, rf, rr = full_formulation_3(false, arcs, fire_progs, constraints)\n",
    "optimize!(m)\n",
    "objective_value(m)"
   ]
  },
  {
   "cell_type": "code",
   "execution_count": 200,
   "id": "6f2e1bf2",
   "metadata": {},
   "outputs": [
    {
     "data": {
      "text/plain": [
       "500478.55155975115"
      ]
     },
     "execution_count": 200,
     "metadata": {},
     "output_type": "execute_result"
    }
   ],
   "source": [
    "optimize!(m)\n",
    "objective_value(m)"
   ]
  },
  {
   "cell_type": "code",
   "execution_count": 162,
   "id": "6661ddb6",
   "metadata": {},
   "outputs": [
    {
     "data": {
      "text/plain": [
       "3625"
      ]
     },
     "execution_count": 162,
     "metadata": {},
     "output_type": "execute_result"
    }
   ],
   "source": [
    "num_arcs = size(arcs.ff_ix)[1] + size(arcs.fr_ix)[1] + size(arcs.rf_ix)[1] + size(arcs.rr_ix)[1]"
   ]
  },
  {
   "cell_type": "code",
   "execution_count": 163,
   "id": "e24cdcb2",
   "metadata": {},
   "outputs": [],
   "source": [
    "arc_data = arcs\n",
    "fire_data = fire_progs;"
   ]
  },
  {
   "cell_type": "code",
   "execution_count": 164,
   "id": "4211ba66",
   "metadata": {},
   "outputs": [],
   "source": [
    "# shorten some global variable names\n",
    "C = NUM_CREWS\n",
    "G = NUM_FIRES\n",
    "T = NUM_TIME_PERIODS\n",
    "\n",
    "# intialize model\n",
    "m = Model(() -> Gurobi.Optimizer(GRB_ENV))\n",
    "set_optimizer_attribute(m, \"OutputFlag\", 0)\n",
    "\n",
    "# fire suppression plan section\n",
    "@variable(m, p[g=1:G, t=1:T+1] >= 0)\n",
    "@variable(m, l[g=1:G, t=1:T] >= 0)\n",
    "@constraint(m, perim_growth[g=1:G, t=1:T], p[g, t+1] >= fire_data.progressions[g, t] * \n",
    "                                                       (p[g, t] - l[g, t] / 2) - l[g, t] / 2)\n",
    "@constraint(m, perim_start[g=1:G], p[g, 1] == fire_data.start_perims[g]);"
   ]
  },
  {
   "cell_type": "code",
   "execution_count": 165,
   "id": "d1ab35bf",
   "metadata": {},
   "outputs": [],
   "source": [
    "@variable(m, ff[arc_data.ff_ix] >= 0)\n",
    "@variable(m, fr[arc_data.fr_ix] >= 0)\n",
    "@variable(m, rf[arc_data.rf_ix] >= 0)\n",
    "@variable(m, rr[arc_data.rr_ix] >= 0);"
   ]
  },
  {
   "cell_type": "code",
   "execution_count": 166,
   "id": "07248c67",
   "metadata": {},
   "outputs": [],
   "source": [
    "# shorten some global variable names\n",
    "C = NUM_CREWS\n",
    "G = NUM_FIRES\n",
    "T = NUM_TIME_PERIODS\n",
    "\n",
    "# intialize model\n",
    "m = Model(() -> Gurobi.Optimizer(GRB_ENV))\n",
    "set_optimizer_attribute(m, \"OutputFlag\", 0)\n",
    "\n",
    "# fire suppression plan section\n",
    "@variable(m, p[g=1:G, t=1:T+1] >= 0)\n",
    "@variable(m, l[g=1:G, t=1:T] >= 0)\n",
    "@constraint(m, perim_growth[g=1:G, t=1:T], p[g, t+1] >= fire_data.progressions[g, t] * \n",
    "                                                       (p[g, t] - l[g, t] / 2) - l[g, t] / 2)\n",
    "@constraint(m, perim_start[g=1:G], p[g, 1] == fire_data.start_perims[g]);\n",
    "\n",
    "@variable(m, ff[arc_data.ff_ix] >= 0)\n",
    "@variable(m, fr[arc_data.fr_ix] >= 0)\n",
    "@variable(m, rf[arc_data.rf_ix] >= 0)\n",
    "@variable(m, rr[arc_data.rr_ix] >= 0);\n",
    "\n",
    "ff_outflows = Array{Vector{NTuple},4}(undef, C, G, T, 2)\n",
    "\n",
    "fr_outflows = Array{Vector{NTuple},4}(undef, C, G, T, 2)\n",
    "\n",
    "ff_inflows = Array{Vector{NTuple},4}(undef, C, G, T, 2)\n",
    "\n",
    "rf_inflows = Array{Vector{NTuple},4}(undef, C, G, T, 2)\n",
    "\n",
    "for c=1:C\n",
    "    for g=1:G\n",
    "        for t=1:T\n",
    "            for rest=0:1\n",
    "                \n",
    "                S = [key for key in arc_data.ff_ix_arr[c] if (key[2] == g) & (key[4] == t) & (key[6] == rest)]\n",
    "                ff_outflows[c, g, t, rest+1] = copy(S)\n",
    "                \n",
    "                S = [key for key in arc_data.fr_ix_arr[c] if (key[2] == g) & (key[3] == t) & (key[5] == rest)]\n",
    "                fr_outflows[c, g, t, rest+1] = copy(S)\n",
    "                \n",
    "                S = [key for key in arc_data.ff_ix_arr[c] if (key[3] == g) & (key[5] == t) & (key[6] == rest)]\n",
    "                ff_inflows[c, g, t, rest+1] = copy(S)\n",
    "                \n",
    "                S = [key for key in arc_data.rf_ix_arr[c] if (key[2] == g) & (key[4] == t) & (key[5] == rest)]\n",
    "                rf_inflows[c, g, t, rest+1] = copy(S)\n",
    "            end\n",
    "        end\n",
    "    end\n",
    "end\n",
    "\n",
    "rf_outflows = Array{Vector{NTuple},3}(undef, C, T, 2)\n",
    "\n",
    "rr_outflows = Array{Vector{NTuple},3}(undef, C, T, 2)\n",
    "\n",
    "fr_inflows = Array{Vector{NTuple},3}(undef, C, T, 2)\n",
    "\n",
    "rr_inflows = Array{Vector{NTuple},3}(undef, C, T, 2)\n",
    "\n",
    "for c=1:C\n",
    "    for t=1:T\n",
    "        for rest=0:1\n",
    "\n",
    "            S = [key for key in arc_data.rf_ix_arr[c] if (key[3] == t) & (key[5] == rest)]\n",
    "            rf_outflows[c, t, rest+1] = copy(S)\n",
    "            \n",
    "            S = [key for key in arc_data.rr_ix_arr[c] if (key[2] == t) & (key[4] == rest)]\n",
    "            rr_outflows[c, t, rest+1] = copy(S)\n",
    "            \n",
    "            S = [key for key in arc_data.fr_ix_arr[c] if (key[4] == t) &  (key[5] == rest)]\n",
    "            fr_inflows[c, t, rest+1] = copy(S)\n",
    "            \n",
    "            S = [key for key in arc_data.rr_ix_arr[c] if (key[3] == t) & (key[5] == rest)]\n",
    "            rr_inflows[c, t, rest+1] = copy(S)\n",
    "\n",
    "        end\n",
    "    end\n",
    "end\n",
    "\n",
    "ff_linking = Array{Vector{NTuple},2}(undef, G, T)\n",
    "\n",
    "rf_linking = Array{Vector{NTuple},2}(undef, G, T)\n",
    "\n",
    "for g=1:G\n",
    "    for t=1:T\n",
    "\n",
    "        S = [key for key in arc_data.ff_ix if (key[3] == g) & (key[5] == t)]\n",
    "        ff_linking[g, t] = copy(S)\n",
    "\n",
    "        S = [key for key in arc_data.rf_ix if (key[2] == g) & (key[4] == t)]\n",
    "        rf_linking[g, t] = copy(S)\n",
    "\n",
    "    end\n",
    "end\n",
    "\n",
    "\n",
    "\n",
    "@constraint(m, fire_flow[c=1:C, g=1:G, t=1:T, rest=0:1],\n",
    "\n",
    "            sum(ff[ix] for ix in ff_outflows[c, g, t, rest+1]) + sum(fr[ix] for ix in fr_outflows[c, g, t, rest+1]) ==\n",
    "            sum(ff[ix] for ix in ff_inflows[c, g, t, rest+1]) + sum(rf[ix] for ix in rf_inflows[c, g, t, rest+1])\n",
    "    \n",
    ")\n",
    "\n",
    "\n",
    "@constraint(m, rest_flow[c=1:C, t=1:T, rest=0:1],\n",
    "\n",
    "            sum(rf[ix] for ix in rf_outflows[c, t, rest+1]) + sum(rr[ix] for ix in rr_outflows[c, t, rest+1]) ==\n",
    "            sum(fr[ix] for ix in fr_inflows[c, t, rest+1]) + sum(rr[ix] for ix in rr_inflows[c, t, rest+1])\n",
    "    \n",
    ")\n",
    "\n",
    "@constraint(m, linking[g=1:G, t=1:T],\n",
    "\n",
    "     sum(ff[key] for key in ff_linking[g, t]) + sum(rf[key] for key in rf_linking[g, t]) >= l[g, t] / LINE_PER_CREW\n",
    "    )\n",
    "\n",
    "@constraint(m, start[c=1:C], \n",
    "\n",
    "    sum(ff[key] for key in arc_data.from_start_ff if key[1] == c) + \n",
    "    sum(rf[key] for key in arc_data.from_start_rf if key[1] == c) + \n",
    "    sum(fr[key] for key in arc_data.from_start_fr if key[1] == c) + \n",
    "    sum(rr[key] for key in arc_data.from_start_rr if key[1] == c) == 1\n",
    "           )\n",
    "\n",
    "@objective(m, Min, \n",
    "    BETA * (sum(p) - sum(p[1:G, 1])/2 - sum(p[1:G, T+1])/2) + \n",
    "    sum(ff[key] * (ALPHA + fire_dists[key[2], key[3]]) for key in arc_data.ff_ix) +\n",
    "    sum(fr[key] * (base_fire_dists[key[1], key[2]]) for key in arc_data.fr_ix) + \n",
    "    sum(rf[key] * (ALPHA + base_fire_dists[key[1], key[2]]) for key in arc_data.rf_ix));"
   ]
  },
  {
   "cell_type": "code",
   "execution_count": 167,
   "id": "4c20bc68",
   "metadata": {},
   "outputs": [
    {
     "data": {
      "text/plain": [
       "1.144532855654395e6"
      ]
     },
     "execution_count": 167,
     "metadata": {},
     "output_type": "execute_result"
    }
   ],
   "source": [
    "optimize!(m)\n",
    "objective_value(m)"
   ]
  },
  {
   "cell_type": "code",
   "execution_count": 148,
   "id": "2993e4a3",
   "metadata": {},
   "outputs": [],
   "source": [
    "@objective(m, Min, \n",
    "BETA * (sum(p) - sum(p[1:G, 1])/2 - sum(p[1:G, T+1])/2) + \n",
    "sum(ff[key] * (ALPHA + fire_dists[key[2], key[3]]) for key in arc_data.ff_ix) +\n",
    "sum(fr[key] * (base_fire_dists[key[1], key[2]]) for key in arc_data.fr_ix) + \n",
    "sum(rf[key] * (ALPHA + base_fire_dists[key[1], key[2]]) for key in arc_data.rf_ix));"
   ]
  },
  {
   "cell_type": "code",
   "execution_count": 137,
   "id": "9cc7b483",
   "metadata": {},
   "outputs": [],
   "source": [
    "@constraint(m, start[c=1:C], \n",
    "\n",
    "    sum(ff[key] for key in arc_data.from_start_ff if key[1] == c) + \n",
    "    sum(rf[key] for key in arc_data.from_start_rf if key[1] == c) + \n",
    "    sum(fr[key] for key in arc_data.from_start_fr if key[1] == c) + \n",
    "    sum(rr[key] for key in arc_data.from_start_rr if key[1] == c) == 1\n",
    "           )\n",
    "\n",
    "\n",
    "# linking constraints\n",
    "@constraint(m, linking[g=1:G, t=1:T],\n",
    "\n",
    "     sum(ff[key] for key in arc_data.ff_ix if (key[3] == g) & (key[5] == t)) + \n",
    "     sum(rf[key] for key in arc_data.rf_ix if (key[2] == g) & (key[4] == t))\n",
    "        >= l[g, t] / LINE_PER_CREW\n",
    "    )\n",
    "\n",
    "@objective(m, Min, \n",
    "BETA * (sum(p) - sum(p[1:G, 1])/2 - sum(p[1:G, T+1])/2) + \n",
    "sum(ff[key] * (ALPHA + fire_dists[key[2], key[3]]) for key in arc_data.ff_ix) +\n",
    "sum(fr[key] * (base_fire_dists[key[1], key[2]]) for key in arc_data.fr_ix) + \n",
    "sum(rf[key] * (ALPHA + base_fire_dists[key[1], key[2]]) for key in arc_data.rf_ix));"
   ]
  },
  {
   "cell_type": "code",
   "execution_count": 129,
   "id": "2149fc37",
   "metadata": {},
   "outputs": [
    {
     "data": {
      "text/plain": [
       "A JuMP Model\n",
       "Feasibility problem with:\n",
       "Variables: 88104\n",
       "`AffExpr`-in-`MathOptInterface.EqualTo{Float64}`: 6735 constraints\n",
       "`AffExpr`-in-`MathOptInterface.GreaterThan{Float64}`: 210 constraints\n",
       "`VariableRef`-in-`MathOptInterface.GreaterThan{Float64}`: 88104 constraints\n",
       "Model mode: AUTOMATIC\n",
       "CachingOptimizer state: EMPTY_OPTIMIZER\n",
       "Solver name: Gurobi\n",
       "Names registered in the model: ff, fire_flow, fr, l, p, perim_growth, perim_start, rest_flow, rf, rr"
      ]
     },
     "execution_count": 129,
     "metadata": {},
     "output_type": "execute_result"
    }
   ],
   "source": [
    "m"
   ]
  },
  {
   "cell_type": "code",
   "execution_count": 64,
   "id": "c03819f9",
   "metadata": {},
   "outputs": [
    {
     "data": {
      "text/plain": [
       "(6300,)"
      ]
     },
     "execution_count": 64,
     "metadata": {},
     "output_type": "execute_result"
    }
   ],
   "source": [
    "size(arc_data.ff_ix_arr[1])"
   ]
  },
  {
   "cell_type": "code",
   "execution_count": null,
   "id": "23670afc",
   "metadata": {},
   "outputs": [],
   "source": [
    "\n",
    "# shorten some global variable names\n",
    "C = NUM_CREWS\n",
    "G = NUM_FIRES\n",
    "T = NUM_TIME_PERIODS\n",
    "\n",
    "# intialize model\n",
    "m = Model(() -> Gurobi.Optimizer(GRB_ENV))\n",
    "set_optimizer_attribute(m, \"OutputFlag\", 0)\n",
    "\n",
    "# fire suppression plan section\n",
    "@variable(m, p[g=1:G, t=1:T+1] >= 0)\n",
    "@variable(m, l[g=1:G, t=1:T] >= 0)\n",
    "@constraint(m, perim_growth[g=1:G, t=1:T], p[g, t+1] >= fire_data.progressions[g, t] * \n",
    "                                                       (p[g, t] - l[g, t] / 2) - l[g, t] / 2)\n",
    "@constraint(m, perim_start[g=1:G], p[g, 1] == fire_data.start_perims[g])\n",
    "\n",
    "# routing plan section\n",
    "if integer_routes\n",
    "    @variable(m, ff[arc_data.ff_ix] >= 0, Int)\n",
    "    @variable(m, fr[arc_data.fr_ix] >= 0, Int)\n",
    "    @variable(m, rf[arc_data.rf_ix] >= 0, Int)\n",
    "    @variable(m, rr[arc_data.rr_ix] >= 0, Int)\n",
    "else\n",
    "    @variable(m, ff[arc_data.ff_ix] >= 0)\n",
    "    @variable(m, fr[arc_data.fr_ix] >= 0)\n",
    "    @variable(m, rf[arc_data.rf_ix] >= 0)\n",
    "    @variable(m, rr[arc_data.rr_ix] >= 0)\n",
    "end\n",
    "\n",
    "\n",
    "@constraint(m, fire_flow[c=1:C, g=1:G, t=1:T, rest=0:1],\n",
    "\n",
    "            # outflow\n",
    "            sum(ff[key] for key in arc_data.ff_ix_arr[c]\n",
    "                    if (key[2] == g) & (key[4] == t) & (key[6] == rest)\n",
    "                ) +    \n",
    "\n",
    "            sum(fr[key] for key in arc_data.fr_ix_arr[c]\n",
    "                        if (key[2] == g) & (key[3] == t) & (key[5] == rest)\n",
    "                ) \n",
    "\n",
    "    ==\n",
    "            # inflow\n",
    "            sum(ff[key] for key in arc_data.ff_ix_arr[c]\n",
    "                        if (key[3] == g) & (key[5] == t) & (key[6] == rest)\n",
    "                ) +\n",
    "\n",
    "            sum(rf[key] for key in arc_data.rf_ix_arr[c]\n",
    "                        if (key[2] == g) & (key[4] == t) & (key[5] == rest)\n",
    "                ) \n",
    "\n",
    "            )   \n",
    "\n",
    "@constraint(m, rest_flow[c=1:C, t=1:T, rest=0:1], \n",
    "\n",
    "            # outflow\n",
    "            sum(rf[key] for key in arc_data.rf_ix_arr[c]\n",
    "                        if (key[3] == t) & (key[5] == rest)\n",
    "                ) +\n",
    "\n",
    "            sum(rr[key] for key in arc_data.rr_ix_arr[c]\n",
    "                        if (key[2] == t) & (key[4] == rest)\n",
    "                )\n",
    "\n",
    "            ==       \n",
    "\n",
    "            # inflow\n",
    "            sum(fr[key] for key in arc_data.fr_ix_arr[c]\n",
    "                        if (key[4] == t) &  (key[5] == rest)\n",
    "                ) +\n",
    "            sum(rr[key] for key in arc_data.rr_ix_arr[c]\n",
    "                        if (key[3] == t) & (key[5] == rest)\n",
    "                )\n",
    "           )\n",
    "\n",
    "@constraint(m, start[c=1:C], \n",
    "\n",
    "    sum(ff[key] for key in arc_data.from_start_ff if key[1] == c) + \n",
    "    sum(rf[key] for key in arc_data.from_start_rf if key[1] == c) + \n",
    "    sum(fr[key] for key in arc_data.from_start_fr if key[1] == c) + \n",
    "    sum(rr[key] for key in arc_data.from_start_rr if key[1] == c) == 1\n",
    "           )\n",
    "\n",
    "\n",
    "# linking constraints\n",
    "@constraint(m, linking[g=1:G, t=1:T],\n",
    "\n",
    "     sum(ff[key] for key in arc_data.ff_ix if (key[3] == g) & (key[5] == t)) + \n",
    "     sum(rf[key] for key in arc_data.rf_ix if (key[2] == g) & (key[4] == t))\n",
    "        >= l[g, t] / LINE_PER_CREW\n",
    "    )\n",
    "\n",
    "@objective(m, Min, \n",
    "BETA * (sum(p) - sum(p[1:G, 1])/2 - sum(p[1:G, T+1])/2) + \n",
    "sum(ff[key] * (ALPHA + fire_dists[key[2], key[3]]) for key in arc_data.ff_ix) +\n",
    "sum(fr[key] * (base_fire_dists[key[1], key[2]]) for key in arc_data.fr_ix) + \n",
    "sum(rf[key] * (ALPHA + base_fire_dists[key[1], key[2]]) for key in arc_data.rf_ix))"
   ]
  },
  {
   "cell_type": "code",
   "execution_count": 37,
   "id": "c56a89ef",
   "metadata": {},
   "outputs": [
    {
     "ename": "LoadError",
     "evalue": "UndefVarError: myopic_unsuppressed_size not defined",
     "output_type": "error",
     "traceback": [
      "UndefVarError: myopic_unsuppressed_size not defined",
      "",
      "Stacktrace:",
      " [1] top-level scope",
      "   @ In[37]:1",
      " [2] eval",
      "   @ .\\boot.jl:373 [inlined]",
      " [3] include_string(mapexpr::typeof(REPL.softscope), mod::Module, code::String, filename::String)",
      "   @ Base .\\loading.jl:1196"
     ]
    }
   ],
   "source": [
    "f = [myopic_unsuppressed_size, unsuppressed_size, myopic_unsuppressed_damage, unsuppressed_damage]\n",
    "for i in 1:length(f) \n",
    "    supp, cost = baseline(f[i])\n",
    "    push!(baseline_supps[i], supp)\n",
    "    push!(baseline_costs[i], cost)\n",
    "end"
   ]
  },
  {
   "cell_type": "code",
   "execution_count": 38,
   "id": "ab79fd9a",
   "metadata": {},
   "outputs": [
    {
     "data": {
      "text/plain": [
       "(9.4365171, 3.8238131)"
      ]
     },
     "execution_count": 38,
     "metadata": {},
     "output_type": "execute_result"
    }
   ],
   "source": [
    "params = [(1, 1), (1, 5), (1, 10), (3, 3), (3, 10), (5, 10), (10, 20), (20, 20)]\n",
    "params = [(1, 1), (1, 20)]\n",
    "ip_formulate_time, ip_solve_time, obj_IP, obj_PB, ip_sol, times, plans = analysis(arcs, fire_progs, params)\n",
    "\n",
    "ip_formulate_time, ip_solve_time"
   ]
  },
  {
   "cell_type": "code",
   "execution_count": 45,
   "id": "723de34a",
   "metadata": {},
   "outputs": [],
   "source": [
    "push!(baseline_supps[5], convert.(Int, ip_sol))\n",
    "push!(baseline_costs[5], obj_IP)\n",
    "push!(baseline_costs[6], obj_PB);"
   ]
  },
  {
   "cell_type": "code",
   "execution_count": 46,
   "id": "51846bf8",
   "metadata": {},
   "outputs": [
    {
     "data": {
      "text/plain": [
       "3×14 Matrix{Float64}:\n",
       " 0.0  0.0  0.0  0.0  3.0  7.0  8.0  8.0  8.0  5.0  3.0  0.0  0.0  0.0\n",
       " 0.0  7.0  9.0  9.0  4.0  0.0  0.0  0.0  0.0  1.0  0.0  0.0  0.0  0.0\n",
       " 9.0  2.0  0.0  0.0  0.0  0.0  0.0  0.0  0.0  0.0  0.0  0.0  0.0  0.0"
      ]
     },
     "execution_count": 46,
     "metadata": {},
     "output_type": "execute_result"
    }
   ],
   "source": [
    "ip_sol"
   ]
  },
  {
   "cell_type": "code",
   "execution_count": 47,
   "id": "f2551631",
   "metadata": {},
   "outputs": [
    {
     "data": {
      "text/html": [
       "<div class=\"data-frame\"><p>2 rows × 11 columns</p><table class=\"data-frame\"><thead><tr><th></th><th>ws_crew</th><th>ws_fire</th><th>iterations</th><th>time</th><th>lr_time</th><th>formulate_sp_time</th><th>fire_ws_time</th><th>crew_ws_time</th><th>mp_time</th><th>fire_sp_time</th><th>crew_sp_time</th></tr><tr><th></th><th title=\"Any\">Any</th><th title=\"Any\">Any</th><th title=\"Any\">Any</th><th title=\"Any\">Any</th><th title=\"Any\">Any</th><th title=\"Any\">Any</th><th title=\"Any\">Any</th><th title=\"Any\">Any</th><th title=\"Any\">Any</th><th title=\"Any\">Any</th><th title=\"Any\">Any</th></tr></thead><tbody><tr><th>1</th><td>1</td><td>1</td><td>43</td><td>14.4959</td><td>0.835828</td><td>2.22563</td><td>1.60403</td><td>2.62265</td><td>1.32955</td><td>1.45173</td><td>3.22814</td></tr><tr><th>2</th><td>1</td><td>20</td><td>39</td><td>4.30986</td><td>0.686373</td><td>0.548645</td><td>0.257504</td><td>0.664732</td><td>0.214552</td><td>0.752153</td><td>1.16931</td></tr></tbody></table></div>"
      ],
      "text/latex": [
       "\\begin{tabular}{r|ccccccccccc}\n",
       "\t& ws\\_crew & ws\\_fire & iterations & time & lr\\_time & formulate\\_sp\\_time & fire\\_ws\\_time & crew\\_ws\\_time & mp\\_time & fire\\_sp\\_time & crew\\_sp\\_time\\\\\n",
       "\t\\hline\n",
       "\t& Any & Any & Any & Any & Any & Any & Any & Any & Any & Any & Any\\\\\n",
       "\t\\hline\n",
       "\t1 & 1 & 1 & 43 & 14.4959 & 0.835828 & 2.22563 & 1.60403 & 2.62265 & 1.32955 & 1.45173 & 3.22814 \\\\\n",
       "\t2 & 1 & 20 & 39 & 4.30986 & 0.686373 & 0.548645 & 0.257504 & 0.664732 & 0.214552 & 0.752153 & 1.16931 \\\\\n",
       "\\end{tabular}\n"
      ],
      "text/plain": [
       "\u001b[1m2×11 DataFrame\u001b[0m\n",
       "\u001b[1m Row \u001b[0m│\u001b[1m ws_crew \u001b[0m\u001b[1m ws_fire \u001b[0m\u001b[1m iterations \u001b[0m\u001b[1m time    \u001b[0m\u001b[1m lr_time  \u001b[0m\u001b[1m formulate_sp_time \u001b[0m\u001b[1m fire_ws_time \u001b[0m\u001b[1m crew_ws_time \u001b[0m\u001b[1m mp_time  \u001b[0m\u001b[1m fire_sp_time \u001b[0m\u001b[1m crew_sp_time \u001b[0m\n",
       "\u001b[1m     \u001b[0m│\u001b[90m Any     \u001b[0m\u001b[90m Any     \u001b[0m\u001b[90m Any        \u001b[0m\u001b[90m Any     \u001b[0m\u001b[90m Any      \u001b[0m\u001b[90m Any               \u001b[0m\u001b[90m Any          \u001b[0m\u001b[90m Any          \u001b[0m\u001b[90m Any      \u001b[0m\u001b[90m Any          \u001b[0m\u001b[90m Any          \u001b[0m\n",
       "─────┼──────────────────────────────────────────────────────────────────────────────────────────────────────────────────────────────────────\n",
       "   1 │ 1        1        43          14.4959  0.835828  2.22563            1.60403       2.62265       1.32955   1.45173       3.22814\n",
       "   2 │ 1        20       39          4.30986  0.686373  0.548645           0.257504      0.664732      0.214552  0.752153      1.16931"
      ]
     },
     "execution_count": 47,
     "metadata": {},
     "output_type": "execute_result"
    }
   ],
   "source": [
    "times"
   ]
  },
  {
   "cell_type": "code",
   "execution_count": 48,
   "id": "78de636a",
   "metadata": {},
   "outputs": [
    {
     "data": {
      "text/html": [
       "<div class=\"data-frame\"><p>2 rows × 12 columns</p><table class=\"data-frame\"><thead><tr><th></th><th>ws_crew</th><th>ws_fire</th><th>iterations</th><th>PB_IP_opt_gap</th><th>MP_LR_opt_gap</th><th>MPWS_MPLR_opt_gap</th><th>total_fire_plans_sp</th><th>total_crew_routes_sp</th><th>sp_fire_plans_used</th><th>ws_fire_plans_used</th><th>sp_crew_routes_used</th><th>ws_crew_routes_used</th></tr><tr><th></th><th title=\"Any\">Any</th><th title=\"Any\">Any</th><th title=\"Any\">Any</th><th title=\"Any\">Any</th><th title=\"Any\">Any</th><th title=\"Any\">Any</th><th title=\"Any\">Any</th><th title=\"Any\">Any</th><th title=\"Any\">Any</th><th title=\"Any\">Any</th><th title=\"Any\">Any</th><th title=\"Any\">Any</th></tr></thead><tbody><tr><th>1</th><td>1</td><td>1</td><td>43</td><td>0.026544</td><td>0.00569543</td><td>84.2282</td><td>87</td><td>282</td><td>0</td><td>3</td><td>10</td><td>0</td></tr><tr><th>2</th><td>1</td><td>20</td><td>39</td><td>0.000956726</td><td>0.00569453</td><td>84.2282</td><td>82</td><td>259</td><td>0</td><td>3</td><td>10</td><td>0</td></tr></tbody></table></div>"
      ],
      "text/latex": [
       "\\begin{tabular}{r|cccccccccccc}\n",
       "\t& ws\\_crew & ws\\_fire & iterations & PB\\_IP\\_opt\\_gap & MP\\_LR\\_opt\\_gap & MPWS\\_MPLR\\_opt\\_gap & total\\_fire\\_plans\\_sp & total\\_crew\\_routes\\_sp & sp\\_fire\\_plans\\_used & ws\\_fire\\_plans\\_used & sp\\_crew\\_routes\\_used & ws\\_crew\\_routes\\_used\\\\\n",
       "\t\\hline\n",
       "\t& Any & Any & Any & Any & Any & Any & Any & Any & Any & Any & Any & Any\\\\\n",
       "\t\\hline\n",
       "\t1 & 1 & 1 & 43 & 0.026544 & 0.00569543 & 84.2282 & 87 & 282 & 0 & 3 & 10 & 0 \\\\\n",
       "\t2 & 1 & 20 & 39 & 0.000956726 & 0.00569453 & 84.2282 & 82 & 259 & 0 & 3 & 10 & 0 \\\\\n",
       "\\end{tabular}\n"
      ],
      "text/plain": [
       "\u001b[1m2×12 DataFrame\u001b[0m\n",
       "\u001b[1m Row \u001b[0m│\u001b[1m ws_crew \u001b[0m\u001b[1m ws_fire \u001b[0m\u001b[1m iterations \u001b[0m\u001b[1m PB_IP_opt_gap \u001b[0m\u001b[1m MP_LR_opt_gap \u001b[0m\u001b[1m MPWS_MPLR_opt_gap \u001b[0m\u001b[1m total_fire_plans_sp \u001b[0m\u001b[1m total_crew_routes_sp \u001b[0m\u001b[1m sp_fire_plans_used \u001b[0m\u001b[1m ws_fire_plans_used \u001b[0m\u001b[1m sp_crew_routes_used \u001b[0m\u001b[1m ws_crew_\u001b[0m ⋯\n",
       "\u001b[1m     \u001b[0m│\u001b[90m Any     \u001b[0m\u001b[90m Any     \u001b[0m\u001b[90m Any        \u001b[0m\u001b[90m Any           \u001b[0m\u001b[90m Any           \u001b[0m\u001b[90m Any               \u001b[0m\u001b[90m Any                 \u001b[0m\u001b[90m Any                  \u001b[0m\u001b[90m Any                \u001b[0m\u001b[90m Any                \u001b[0m\u001b[90m Any                 \u001b[0m\u001b[90m Any     \u001b[0m ⋯\n",
       "─────┼──────────────────────────────────────────────────────────────────────────────────────────────────────────────────────────────────────────────────────────────────────────────────────────────────\n",
       "   1 │ 1        1        43          0.026544       0.00569543     84.2282            87                   282                   0                   3                   10                   0        ⋯\n",
       "   2 │ 1        20       39          0.000956726    0.00569453     84.2282            82                   259                   0                   3                   10                   0\n",
       "\u001b[36m                                                                                                                                                                                        1 column omitted\u001b[0m"
      ]
     },
     "execution_count": 48,
     "metadata": {},
     "output_type": "execute_result"
    }
   ],
   "source": [
    "plans"
   ]
  },
  {
   "cell_type": "code",
   "execution_count": 68,
   "id": "a4349f96",
   "metadata": {},
   "outputs": [
    {
     "data": {
      "text/plain": [
       "6"
      ]
     },
     "execution_count": 68,
     "metadata": {},
     "output_type": "execute_result"
    }
   ],
   "source": [
    "NUM_CREWS = 20    \n",
    "NUM_FIRES = 6"
   ]
  },
  {
   "cell_type": "code",
   "execution_count": 69,
   "id": "7084aeb3",
   "metadata": {},
   "outputs": [],
   "source": [
    "start_perims, progressions, fire_dists, base_fire_dists, tau, tau_base_to_fire, rest_by, current_fire, rested_periods =\n",
    "     read_inputs(in_path, init_path)\n",
    "\n",
    "arcs = define_arc_sets(tau, tau_base_to_fire, current_fire, rest_by, rested_periods)\n",
    "fire_progs = FireProgressionData(start_perims, progressions);"
   ]
  },
  {
   "cell_type": "code",
   "execution_count": 51,
   "id": "9004c059",
   "metadata": {},
   "outputs": [],
   "source": [
    "f = [myopic_unsuppressed_size, unsuppressed_size, myopic_unsuppressed_damage, unsuppressed_damage]\n",
    "for i in 1:length(f) \n",
    "    supp, cost = baseline(f[i])\n",
    "    push!(baseline_supps[i], supp)\n",
    "    push!(baseline_costs[i], cost)\n",
    "end"
   ]
  },
  {
   "cell_type": "code",
   "execution_count": 52,
   "id": "ef526b8c",
   "metadata": {},
   "outputs": [
    {
     "data": {
      "text/plain": [
       "(8.3789707, 15.6629682)"
      ]
     },
     "execution_count": 52,
     "metadata": {},
     "output_type": "execute_result"
    }
   ],
   "source": [
    "# params = [(1, 1), (1, 5), (1, 10), (1, 20), (3, 20), (10, 20)]\n",
    "params = [(1, 20)]\n",
    "ip_formulate_time, ip_solve_time, obj_IP, obj_PB, ip_sol, times, plans = analysis(arcs, fire_progs, params)\n",
    "\n",
    "ip_formulate_time, ip_solve_time"
   ]
  },
  {
   "cell_type": "code",
   "execution_count": 53,
   "id": "33033b7e",
   "metadata": {},
   "outputs": [],
   "source": [
    "push!(baseline_supps[5], convert.(Int, ip_sol))\n",
    "push!(baseline_costs[5], obj_IP)\n",
    "push!(baseline_costs[6], obj_PB);"
   ]
  },
  {
   "cell_type": "code",
   "execution_count": 54,
   "id": "4ef4874a",
   "metadata": {},
   "outputs": [
    {
     "data": {
      "text/plain": [
       "2.9325036370976088e6"
      ]
     },
     "execution_count": 54,
     "metadata": {},
     "output_type": "execute_result"
    }
   ],
   "source": [
    "obj_PB"
   ]
  },
  {
   "cell_type": "code",
   "execution_count": 55,
   "id": "87b7a0d3",
   "metadata": {},
   "outputs": [
    {
     "data": {
      "text/plain": [
       "6×14 Matrix{Float64}:\n",
       " 0.0   0.0   0.0   0.0   0.0  0.0   0.0   0.0  0.0  12.0  11.0  0.0  0.0  0.0\n",
       " 0.0   0.0   0.0   4.0   4.0  5.0   5.0   5.0  6.0   1.0   0.0  0.0  0.0  0.0\n",
       " 9.0   2.0   0.0   0.0   0.0  0.0   0.0   0.0  0.0   0.0   0.0  0.0  0.0  0.0\n",
       " 7.0  16.0  17.0   3.0   0.0  0.0   0.0   0.0  0.0   0.0   0.0  0.0  0.0  0.0\n",
       " 0.0   0.0   0.0  10.0  10.0  9.0  10.0  10.0  9.0   1.0   0.0  0.0  0.0  0.0\n",
       " 2.0   0.0   0.0   0.0   0.0  0.0   0.0   0.0  0.0   0.0   2.0  0.0  0.0  0.0"
      ]
     },
     "execution_count": 55,
     "metadata": {},
     "output_type": "execute_result"
    }
   ],
   "source": [
    "ip_sol"
   ]
  },
  {
   "cell_type": "code",
   "execution_count": 56,
   "id": "4ab8db42",
   "metadata": {},
   "outputs": [
    {
     "data": {
      "text/html": [
       "<div class=\"data-frame\"><p>1 rows × 11 columns</p><table class=\"data-frame\"><thead><tr><th></th><th>ws_crew</th><th>ws_fire</th><th>iterations</th><th>time</th><th>lr_time</th><th>formulate_sp_time</th><th>fire_ws_time</th><th>crew_ws_time</th><th>mp_time</th><th>fire_sp_time</th><th>crew_sp_time</th></tr><tr><th></th><th title=\"Any\">Any</th><th title=\"Any\">Any</th><th title=\"Any\">Any</th><th title=\"Any\">Any</th><th title=\"Any\">Any</th><th title=\"Any\">Any</th><th title=\"Any\">Any</th><th title=\"Any\">Any</th><th title=\"Any\">Any</th><th title=\"Any\">Any</th><th title=\"Any\">Any</th></tr></thead><tbody><tr><th>1</th><td>1</td><td>20</td><td>69</td><td>45.6953</td><td>9.13566</td><td>8.41734</td><td>0.741509</td><td>9.95021</td><td>1.21654</td><td>8.69661</td><td>7.24978</td></tr></tbody></table></div>"
      ],
      "text/latex": [
       "\\begin{tabular}{r|ccccccccccc}\n",
       "\t& ws\\_crew & ws\\_fire & iterations & time & lr\\_time & formulate\\_sp\\_time & fire\\_ws\\_time & crew\\_ws\\_time & mp\\_time & fire\\_sp\\_time & crew\\_sp\\_time\\\\\n",
       "\t\\hline\n",
       "\t& Any & Any & Any & Any & Any & Any & Any & Any & Any & Any & Any\\\\\n",
       "\t\\hline\n",
       "\t1 & 1 & 20 & 69 & 45.6953 & 9.13566 & 8.41734 & 0.741509 & 9.95021 & 1.21654 & 8.69661 & 7.24978 \\\\\n",
       "\\end{tabular}\n"
      ],
      "text/plain": [
       "\u001b[1m1×11 DataFrame\u001b[0m\n",
       "\u001b[1m Row \u001b[0m│\u001b[1m ws_crew \u001b[0m\u001b[1m ws_fire \u001b[0m\u001b[1m iterations \u001b[0m\u001b[1m time    \u001b[0m\u001b[1m lr_time \u001b[0m\u001b[1m formulate_sp_time \u001b[0m\u001b[1m fire_ws_time \u001b[0m\u001b[1m crew_ws_time \u001b[0m\u001b[1m mp_time \u001b[0m\u001b[1m fire_sp_time \u001b[0m\u001b[1m crew_sp_time \u001b[0m\n",
       "\u001b[1m     \u001b[0m│\u001b[90m Any     \u001b[0m\u001b[90m Any     \u001b[0m\u001b[90m Any        \u001b[0m\u001b[90m Any     \u001b[0m\u001b[90m Any     \u001b[0m\u001b[90m Any               \u001b[0m\u001b[90m Any          \u001b[0m\u001b[90m Any          \u001b[0m\u001b[90m Any     \u001b[0m\u001b[90m Any          \u001b[0m\u001b[90m Any          \u001b[0m\n",
       "─────┼────────────────────────────────────────────────────────────────────────────────────────────────────────────────────────────────────\n",
       "   1 │ 1        20       69          45.6953  9.13566  8.41734            0.741509      9.95021       1.21654  8.69661       7.24978"
      ]
     },
     "execution_count": 56,
     "metadata": {},
     "output_type": "execute_result"
    }
   ],
   "source": [
    "times"
   ]
  },
  {
   "cell_type": "code",
   "execution_count": 57,
   "id": "8c424d3f",
   "metadata": {},
   "outputs": [
    {
     "data": {
      "text/html": [
       "<div class=\"data-frame\"><p>1 rows × 12 columns</p><table class=\"data-frame\"><thead><tr><th></th><th>ws_crew</th><th>ws_fire</th><th>iterations</th><th>PB_IP_opt_gap</th><th>MP_LR_opt_gap</th><th>MPWS_MPLR_opt_gap</th><th>total_fire_plans_sp</th><th>total_crew_routes_sp</th><th>sp_fire_plans_used</th><th>ws_fire_plans_used</th><th>sp_crew_routes_used</th><th>ws_crew_routes_used</th></tr><tr><th></th><th title=\"Any\">Any</th><th title=\"Any\">Any</th><th title=\"Any\">Any</th><th title=\"Any\">Any</th><th title=\"Any\">Any</th><th title=\"Any\">Any</th><th title=\"Any\">Any</th><th title=\"Any\">Any</th><th title=\"Any\">Any</th><th title=\"Any\">Any</th><th title=\"Any\">Any</th><th title=\"Any\">Any</th></tr></thead><tbody><tr><th>1</th><td>1</td><td>20</td><td>69</td><td>0.0222131</td><td>0.0225218</td><td>35.6183</td><td>297</td><td>1228</td><td>0</td><td>6</td><td>20</td><td>0</td></tr></tbody></table></div>"
      ],
      "text/latex": [
       "\\begin{tabular}{r|cccccccccccc}\n",
       "\t& ws\\_crew & ws\\_fire & iterations & PB\\_IP\\_opt\\_gap & MP\\_LR\\_opt\\_gap & MPWS\\_MPLR\\_opt\\_gap & total\\_fire\\_plans\\_sp & total\\_crew\\_routes\\_sp & sp\\_fire\\_plans\\_used & ws\\_fire\\_plans\\_used & sp\\_crew\\_routes\\_used & ws\\_crew\\_routes\\_used\\\\\n",
       "\t\\hline\n",
       "\t& Any & Any & Any & Any & Any & Any & Any & Any & Any & Any & Any & Any\\\\\n",
       "\t\\hline\n",
       "\t1 & 1 & 20 & 69 & 0.0222131 & 0.0225218 & 35.6183 & 297 & 1228 & 0 & 6 & 20 & 0 \\\\\n",
       "\\end{tabular}\n"
      ],
      "text/plain": [
       "\u001b[1m1×12 DataFrame\u001b[0m\n",
       "\u001b[1m Row \u001b[0m│\u001b[1m ws_crew \u001b[0m\u001b[1m ws_fire \u001b[0m\u001b[1m iterations \u001b[0m\u001b[1m PB_IP_opt_gap \u001b[0m\u001b[1m MP_LR_opt_gap \u001b[0m\u001b[1m MPWS_MPLR_opt_gap \u001b[0m\u001b[1m total_fire_plans_sp \u001b[0m\u001b[1m total_crew_routes_sp \u001b[0m\u001b[1m sp_fire_plans_used \u001b[0m\u001b[1m ws_fire_plans_used \u001b[0m\u001b[1m sp_crew_routes_used \u001b[0m\u001b[1m ws_crew_\u001b[0m ⋯\n",
       "\u001b[1m     \u001b[0m│\u001b[90m Any     \u001b[0m\u001b[90m Any     \u001b[0m\u001b[90m Any        \u001b[0m\u001b[90m Any           \u001b[0m\u001b[90m Any           \u001b[0m\u001b[90m Any               \u001b[0m\u001b[90m Any                 \u001b[0m\u001b[90m Any                  \u001b[0m\u001b[90m Any                \u001b[0m\u001b[90m Any                \u001b[0m\u001b[90m Any                 \u001b[0m\u001b[90m Any     \u001b[0m ⋯\n",
       "─────┼──────────────────────────────────────────────────────────────────────────────────────────────────────────────────────────────────────────────────────────────────────────────────────────────────\n",
       "   1 │ 1        20       69          0.0222131      0.0225218      35.6183            297                  1228                  0                   6                   20                   0        ⋯\n",
       "\u001b[36m                                                                                                                                                                                        1 column omitted\u001b[0m"
      ]
     },
     "execution_count": 57,
     "metadata": {},
     "output_type": "execute_result"
    }
   ],
   "source": [
    "plans"
   ]
  },
  {
   "cell_type": "code",
   "execution_count": 58,
   "id": "b8ce5537",
   "metadata": {},
   "outputs": [
    {
     "data": {
      "text/plain": [
       "7"
      ]
     },
     "execution_count": 58,
     "metadata": {},
     "output_type": "execute_result"
    }
   ],
   "source": [
    "NUM_CREWS = 24     \n",
    "NUM_FIRES = 7"
   ]
  },
  {
   "cell_type": "code",
   "execution_count": 59,
   "id": "c3eb4a9c",
   "metadata": {},
   "outputs": [],
   "source": [
    "start_perims, progressions, fire_dists, base_fire_dists, tau, tau_base_to_fire, rest_by, current_fire, rested_periods =\n",
    "     read_inputs(in_path, init_path)\n",
    "\n",
    "arcs = define_arc_sets(tau, tau_base_to_fire, current_fire, rest_by, rested_periods)\n",
    "fire_progs = FireProgressionData(start_perims, progressions);"
   ]
  },
  {
   "cell_type": "code",
   "execution_count": 60,
   "id": "4f6c98db",
   "metadata": {},
   "outputs": [],
   "source": [
    "f = [myopic_unsuppressed_size, unsuppressed_size, myopic_unsuppressed_damage, unsuppressed_damage]\n",
    "for i in 1:length(f) \n",
    "    supp, cost = baseline(f[i])\n",
    "    push!(baseline_supps[i], supp)\n",
    "    push!(baseline_costs[i], cost)\n",
    "end"
   ]
  },
  {
   "cell_type": "code",
   "execution_count": 61,
   "id": "11df0205",
   "metadata": {},
   "outputs": [
    {
     "data": {
      "text/plain": [
       "(17.2755852, 40.196114)"
      ]
     },
     "execution_count": 61,
     "metadata": {},
     "output_type": "execute_result"
    }
   ],
   "source": [
    "# params = [(1, 1), (1, 5), (1, 10), (1, 20), (3, 20), (10, 20)]\n",
    "params = [(1, 20)]\n",
    "ip_formulate_time, ip_solve_time, obj_IP, obj_PB, ip_sol, times, plans = analysis(arcs, fire_progs, params)\n",
    "\n",
    "ip_formulate_time, ip_solve_time"
   ]
  },
  {
   "cell_type": "code",
   "execution_count": 62,
   "id": "75a7f813",
   "metadata": {},
   "outputs": [],
   "source": [
    "push!(baseline_supps[5], convert.(Int, ip_sol))\n",
    "push!(baseline_costs[5], obj_IP)\n",
    "push!(baseline_costs[6], obj_PB);"
   ]
  },
  {
   "cell_type": "code",
   "execution_count": 63,
   "id": "5755f924",
   "metadata": {},
   "outputs": [
    {
     "data": {
      "text/plain": [
       "7×14 Matrix{Float64}:\n",
       " 0.0   0.0   0.0  0.0  0.0  0.0   0.0  0.0  0.0  6.0  15.0  0.0  0.0  0.0\n",
       " 0.0   0.0   0.0  5.0  4.0  5.0   5.0  5.0  4.0  2.0   0.0  0.0  0.0  0.0\n",
       " 9.0   2.0   0.0  0.0  0.0  0.0   0.0  0.0  0.0  0.0   0.0  0.0  0.0  0.0\n",
       " 4.0  20.0  21.0  3.0  0.0  0.0   0.0  0.0  0.0  0.0   0.0  0.0  0.0  0.0\n",
       " 0.0   0.0   0.0  9.0  9.0  9.0  10.0  8.0  7.0  6.0   1.0  0.0  0.0  0.0\n",
       " 9.0   0.0   0.0  0.0  0.0  0.0   0.0  0.0  0.0  0.0   0.0  0.0  0.0  0.0\n",
       " 0.0   0.0   0.0  4.0  5.0  4.0   4.0  5.0  6.0  2.0   0.0  0.0  0.0  0.0"
      ]
     },
     "execution_count": 63,
     "metadata": {},
     "output_type": "execute_result"
    }
   ],
   "source": [
    "ip_sol"
   ]
  },
  {
   "cell_type": "code",
   "execution_count": 64,
   "id": "00fa7366",
   "metadata": {},
   "outputs": [
    {
     "data": {
      "text/html": [
       "<div class=\"data-frame\"><p>1 rows × 11 columns</p><table class=\"data-frame\"><thead><tr><th></th><th>ws_crew</th><th>ws_fire</th><th>iterations</th><th>time</th><th>lr_time</th><th>formulate_sp_time</th><th>fire_ws_time</th><th>crew_ws_time</th><th>mp_time</th><th>fire_sp_time</th><th>crew_sp_time</th></tr><tr><th></th><th title=\"Any\">Any</th><th title=\"Any\">Any</th><th title=\"Any\">Any</th><th title=\"Any\">Any</th><th title=\"Any\">Any</th><th title=\"Any\">Any</th><th title=\"Any\">Any</th><th title=\"Any\">Any</th><th title=\"Any\">Any</th><th title=\"Any\">Any</th><th title=\"Any\">Any</th></tr></thead><tbody><tr><th>1</th><td>1</td><td>20</td><td>53</td><td>66.595</td><td>17.3541</td><td>14.8763</td><td>0.861783</td><td>17.1879</td><td>1.06395</td><td>11.3056</td><td>3.84309</td></tr></tbody></table></div>"
      ],
      "text/latex": [
       "\\begin{tabular}{r|ccccccccccc}\n",
       "\t& ws\\_crew & ws\\_fire & iterations & time & lr\\_time & formulate\\_sp\\_time & fire\\_ws\\_time & crew\\_ws\\_time & mp\\_time & fire\\_sp\\_time & crew\\_sp\\_time\\\\\n",
       "\t\\hline\n",
       "\t& Any & Any & Any & Any & Any & Any & Any & Any & Any & Any & Any\\\\\n",
       "\t\\hline\n",
       "\t1 & 1 & 20 & 53 & 66.595 & 17.3541 & 14.8763 & 0.861783 & 17.1879 & 1.06395 & 11.3056 & 3.84309 \\\\\n",
       "\\end{tabular}\n"
      ],
      "text/plain": [
       "\u001b[1m1×11 DataFrame\u001b[0m\n",
       "\u001b[1m Row \u001b[0m│\u001b[1m ws_crew \u001b[0m\u001b[1m ws_fire \u001b[0m\u001b[1m iterations \u001b[0m\u001b[1m time   \u001b[0m\u001b[1m lr_time \u001b[0m\u001b[1m formulate_sp_time \u001b[0m\u001b[1m fire_ws_time \u001b[0m\u001b[1m crew_ws_time \u001b[0m\u001b[1m mp_time \u001b[0m\u001b[1m fire_sp_time \u001b[0m\u001b[1m crew_sp_time \u001b[0m\n",
       "\u001b[1m     \u001b[0m│\u001b[90m Any     \u001b[0m\u001b[90m Any     \u001b[0m\u001b[90m Any        \u001b[0m\u001b[90m Any    \u001b[0m\u001b[90m Any     \u001b[0m\u001b[90m Any               \u001b[0m\u001b[90m Any          \u001b[0m\u001b[90m Any          \u001b[0m\u001b[90m Any     \u001b[0m\u001b[90m Any          \u001b[0m\u001b[90m Any          \u001b[0m\n",
       "─────┼───────────────────────────────────────────────────────────────────────────────────────────────────────────────────────────────────\n",
       "   1 │ 1        20       53          66.595  17.3541  14.8763            0.861783      17.1879       1.06395  11.3056       3.84309"
      ]
     },
     "execution_count": 64,
     "metadata": {},
     "output_type": "execute_result"
    }
   ],
   "source": [
    "times"
   ]
  },
  {
   "cell_type": "code",
   "execution_count": 65,
   "id": "dddc7437",
   "metadata": {},
   "outputs": [
    {
     "data": {
      "text/html": [
       "<div class=\"data-frame\"><p>1 rows × 12 columns</p><table class=\"data-frame\"><thead><tr><th></th><th>ws_crew</th><th>ws_fire</th><th>iterations</th><th>PB_IP_opt_gap</th><th>MP_LR_opt_gap</th><th>MPWS_MPLR_opt_gap</th><th>total_fire_plans_sp</th><th>total_crew_routes_sp</th><th>sp_fire_plans_used</th><th>ws_fire_plans_used</th><th>sp_crew_routes_used</th><th>ws_crew_routes_used</th></tr><tr><th></th><th title=\"Any\">Any</th><th title=\"Any\">Any</th><th title=\"Any\">Any</th><th title=\"Any\">Any</th><th title=\"Any\">Any</th><th title=\"Any\">Any</th><th title=\"Any\">Any</th><th title=\"Any\">Any</th><th title=\"Any\">Any</th><th title=\"Any\">Any</th><th title=\"Any\">Any</th><th title=\"Any\">Any</th></tr></thead><tbody><tr><th>1</th><td>1</td><td>20</td><td>53</td><td>0.0196582</td><td>0.0248746</td><td>41.8171</td><td>277</td><td>1150</td><td>1</td><td>6</td><td>24</td><td>0</td></tr></tbody></table></div>"
      ],
      "text/latex": [
       "\\begin{tabular}{r|cccccccccccc}\n",
       "\t& ws\\_crew & ws\\_fire & iterations & PB\\_IP\\_opt\\_gap & MP\\_LR\\_opt\\_gap & MPWS\\_MPLR\\_opt\\_gap & total\\_fire\\_plans\\_sp & total\\_crew\\_routes\\_sp & sp\\_fire\\_plans\\_used & ws\\_fire\\_plans\\_used & sp\\_crew\\_routes\\_used & ws\\_crew\\_routes\\_used\\\\\n",
       "\t\\hline\n",
       "\t& Any & Any & Any & Any & Any & Any & Any & Any & Any & Any & Any & Any\\\\\n",
       "\t\\hline\n",
       "\t1 & 1 & 20 & 53 & 0.0196582 & 0.0248746 & 41.8171 & 277 & 1150 & 1 & 6 & 24 & 0 \\\\\n",
       "\\end{tabular}\n"
      ],
      "text/plain": [
       "\u001b[1m1×12 DataFrame\u001b[0m\n",
       "\u001b[1m Row \u001b[0m│\u001b[1m ws_crew \u001b[0m\u001b[1m ws_fire \u001b[0m\u001b[1m iterations \u001b[0m\u001b[1m PB_IP_opt_gap \u001b[0m\u001b[1m MP_LR_opt_gap \u001b[0m\u001b[1m MPWS_MPLR_opt_gap \u001b[0m\u001b[1m total_fire_plans_sp \u001b[0m\u001b[1m total_crew_routes_sp \u001b[0m\u001b[1m sp_fire_plans_used \u001b[0m\u001b[1m ws_fire_plans_used \u001b[0m\u001b[1m sp_crew_routes_used \u001b[0m\u001b[1m ws_crew_\u001b[0m ⋯\n",
       "\u001b[1m     \u001b[0m│\u001b[90m Any     \u001b[0m\u001b[90m Any     \u001b[0m\u001b[90m Any        \u001b[0m\u001b[90m Any           \u001b[0m\u001b[90m Any           \u001b[0m\u001b[90m Any               \u001b[0m\u001b[90m Any                 \u001b[0m\u001b[90m Any                  \u001b[0m\u001b[90m Any                \u001b[0m\u001b[90m Any                \u001b[0m\u001b[90m Any                 \u001b[0m\u001b[90m Any     \u001b[0m ⋯\n",
       "─────┼──────────────────────────────────────────────────────────────────────────────────────────────────────────────────────────────────────────────────────────────────────────────────────────────────\n",
       "   1 │ 1        20       53          0.0196582      0.0248746      41.8171            277                  1150                  1                   6                   24                   0        ⋯\n",
       "\u001b[36m                                                                                                                                                                                        1 column omitted\u001b[0m"
      ]
     },
     "execution_count": 65,
     "metadata": {},
     "output_type": "execute_result"
    }
   ],
   "source": [
    "plans"
   ]
  },
  {
   "cell_type": "code",
   "execution_count": 663,
   "id": "52a45588",
   "metadata": {},
   "outputs": [
    {
     "data": {
      "text/plain": [
       "9"
      ]
     },
     "execution_count": 663,
     "metadata": {},
     "output_type": "execute_result"
    }
   ],
   "source": [
    "NUM_CREWS = 30     \n",
    "NUM_FIRES = 9"
   ]
  },
  {
   "cell_type": "code",
   "execution_count": 664,
   "id": "d4a8962d",
   "metadata": {},
   "outputs": [],
   "source": [
    "start_perims, progressions, fire_dists, base_fire_dists, tau, tau_base_to_fire, rest_by, current_fire, rested_periods =\n",
    "     read_inputs(in_path, init_path)\n",
    "\n",
    "arcs = define_arc_sets(tau, tau_base_to_fire, current_fire, rest_by, rested_periods)\n",
    "fire_progs = FireProgressionData(start_perims, progressions);"
   ]
  },
  {
   "cell_type": "code",
   "execution_count": 665,
   "id": "18a76998",
   "metadata": {},
   "outputs": [],
   "source": [
    "f = [myopic_unsuppressed_size, unsuppressed_size, myopic_unsuppressed_damage, unsuppressed_damage]\n",
    "for i in 1:length(f) \n",
    "    supp, cost = baseline(f[i])\n",
    "    push!(baseline_supps[i], supp)\n",
    "    push!(baseline_costs[i], cost)\n",
    "end"
   ]
  },
  {
   "cell_type": "code",
   "execution_count": null,
   "id": "d2aa46dd",
   "metadata": {},
   "outputs": [],
   "source": [
    "# params = [(1, 1), (1, 5), (1, 10), (1, 20), (3, 20), (10, 20)]\n",
    "params = [(1, 20)]\n",
    "ip_formulate_time, ip_solve_time, obj_IP, obj_PB, ip_sol, times, plans = analysis(arcs, fire_progs, params)\n",
    "\n",
    "ip_formulate_time, ip_solve_time"
   ]
  },
  {
   "cell_type": "code",
   "execution_count": null,
   "id": "1553c87f",
   "metadata": {},
   "outputs": [],
   "source": [
    "push!(baseline_supps[5], convert.(Int, ip_sol))\n",
    "push!(baseline_costs[5], obj_IP)\n",
    "push!(baseline_costs[6], obj_PB);"
   ]
  },
  {
   "cell_type": "code",
   "execution_count": null,
   "id": "07a742f8",
   "metadata": {},
   "outputs": [],
   "source": [
    "ip_sol"
   ]
  },
  {
   "cell_type": "code",
   "execution_count": null,
   "id": "0698a9ca",
   "metadata": {},
   "outputs": [],
   "source": [
    "times"
   ]
  },
  {
   "cell_type": "code",
   "execution_count": null,
   "id": "d76d58d8",
   "metadata": {},
   "outputs": [],
   "source": [
    "plans"
   ]
  },
  {
   "cell_type": "code",
   "execution_count": 66,
   "id": "6ef249e1",
   "metadata": {},
   "outputs": [
    {
     "data": {
      "text/html": [
       "<div class=\"data-frame\"><p>3 rows × 6 columns</p><table class=\"data-frame\"><thead><tr><th></th><th>optimal</th><th>price_branch</th><th>myopic_biggest</th><th>unsuppressed_biggest</th><th>myopic_most_damage</th><th>unsuppressed_most_damage</th></tr><tr><th></th><th title=\"Float64\">Float64</th><th title=\"Float64\">Float64</th><th title=\"Float64\">Float64</th><th title=\"Float64\">Float64</th><th title=\"Float64\">Float64</th><th title=\"Float64\">Float64</th></tr></thead><tbody><tr><th>1</th><td>0.0</td><td>0.0956726</td><td>6875.62</td><td>6.89521</td><td>6318.42</td><td>7.77077</td></tr><tr><th>2</th><td>0.0</td><td>2.22131</td><td>2751.33</td><td>88.8431</td><td>2596.32</td><td>91.5088</td></tr><tr><th>3</th><td>0.0</td><td>1.96582</td><td>3176.49</td><td>130.244</td><td>2983.03</td><td>128.988</td></tr></tbody></table></div>"
      ],
      "text/latex": [
       "\\begin{tabular}{r|cccccc}\n",
       "\t& optimal & price\\_branch & myopic\\_biggest & unsuppressed\\_biggest & myopic\\_most\\_damage & unsuppressed\\_most\\_damage\\\\\n",
       "\t\\hline\n",
       "\t& Float64 & Float64 & Float64 & Float64 & Float64 & Float64\\\\\n",
       "\t\\hline\n",
       "\t1 & 0.0 & 0.0956726 & 6875.62 & 6.89521 & 6318.42 & 7.77077 \\\\\n",
       "\t2 & 0.0 & 2.22131 & 2751.33 & 88.8431 & 2596.32 & 91.5088 \\\\\n",
       "\t3 & 0.0 & 1.96582 & 3176.49 & 130.244 & 2983.03 & 128.988 \\\\\n",
       "\\end{tabular}\n"
      ],
      "text/plain": [
       "\u001b[1m3×6 DataFrame\u001b[0m\n",
       "\u001b[1m Row \u001b[0m│\u001b[1m optimal \u001b[0m\u001b[1m price_branch \u001b[0m\u001b[1m myopic_biggest \u001b[0m\u001b[1m unsuppressed_biggest \u001b[0m\u001b[1m myopic_most_damage \u001b[0m\u001b[1m unsuppressed_most_damage \u001b[0m\n",
       "\u001b[1m     \u001b[0m│\u001b[90m Float64 \u001b[0m\u001b[90m Float64      \u001b[0m\u001b[90m Float64        \u001b[0m\u001b[90m Float64              \u001b[0m\u001b[90m Float64            \u001b[0m\u001b[90m Float64                  \u001b[0m\n",
       "─────┼───────────────────────────────────────────────────────────────────────────────────────────────────────────\n",
       "   1 │     0.0     0.0956726         6875.62               6.89521             6318.42                   7.77077\n",
       "   2 │     0.0     2.22131           2751.33              88.8431              2596.32                  91.5088\n",
       "   3 │     0.0     1.96582           3176.49             130.244               2983.03                 128.988"
      ]
     },
     "execution_count": 66,
     "metadata": {},
     "output_type": "execute_result"
    }
   ],
   "source": [
    "df = DataFrame(optimal = baseline_costs[5], price_branch = baseline_costs[6], myopic_biggest = baseline_costs[1], unsuppressed_biggest = baseline_costs[2],\n",
    "               myopic_most_damage = baseline_costs[3], unsuppressed_most_damage = baseline_costs[4]\n",
    ")\n",
    "\n",
    "percent_gap = copy(df)\n",
    "for col in names(df)\n",
    "    percent_gap[!, col] = 100 * (df[!, col] .- df[!, \"optimal\"]) ./ df[!, \"optimal\"]\n",
    "end\n",
    "\n",
    "percent_gap"
   ]
  },
  {
   "cell_type": "code",
   "execution_count": 35,
   "id": "f56984f7",
   "metadata": {},
   "outputs": [
    {
     "data": {
      "text/plain": [
       "test_gurobi_time (generic function with 1 method)"
      ]
     },
     "execution_count": 35,
     "metadata": {},
     "output_type": "execute_result"
    }
   ],
   "source": [
    "function test_gurobi_time(arc_data, fire_data, time_limit_secs)\n",
    "    \n",
    "    formulate_time = @elapsed m, p, l, ff, fr, rf, rr = full_formulation(true, arc_data, fire_data)\n",
    "    set_optimizer_attribute(m, \"TimeLimit\", max(1, time_limit_secs - formulate_time))\n",
    "    \n",
    "    solve_time = @elapsed optimize!(m)\n",
    "    to_optimality = (termination_status(m) == MOI.OPTIMAL)\n",
    "\n",
    "    feasible_solution = has_values(m)\n",
    "    lb = objective_bound(m)\n",
    "    \n",
    "    ub = false\n",
    "    gap = false\n",
    "    if feasible_solution\n",
    "        ub = objective_value(m)\n",
    "        gap = relative_gap(m)\n",
    "    end\n",
    "    \n",
    "    return to_optimality, feasible_solution, lb, ub, gap, formulate_time, solve_time\n",
    "end "
   ]
  },
  {
   "cell_type": "code",
   "execution_count": 47,
   "id": "101ed55a",
   "metadata": {},
   "outputs": [
    {
     "data": {
      "text/plain": [
       "test_cg_time (generic function with 1 method)"
      ]
     },
     "execution_count": 47,
     "metadata": {},
     "output_type": "execute_result"
    }
   ],
   "source": [
    "function test_cg_time(arc_data, fire_data, warm_start_routes_per_crew, warm_start_supp_plans_per_fire, time_limit_secs)\n",
    "\n",
    "    # initialize CG model and stats to track #\n",
    "    formulate_time = @elapsed fire_subproblem_models = \n",
    "                                   [init_suppression_plan_subproblem(fire_data, fire) for fire=1:NUM_FIRES]\n",
    "    formulate_time += @elapsed route_subproblem_models = [init_route_subproblem(arc_data, crew) for crew=1:NUM_CREWS]\n",
    "    \n",
    "    # solve LP relaxation of original formulaton #\n",
    "    \n",
    "    relaxation_time = @elapsed m, p, l, ff, fr, rf, rr = full_formulation(false, arc_data, fire_data)\n",
    "    relaxation_time += @elapsed optimize!(m)\n",
    "\n",
    "    # warm start\n",
    "\n",
    "    fire_warm_start_time = @elapsed B, fire_plan_costs, num_plans_per_fire = \n",
    "        create_warm_start_suppression_plans(fire_data, l, warm_start_supp_plans_per_fire)\n",
    "    \n",
    "    crew_warm_start_time = @elapsed A, crew_plan_costs, num_plans_per_crew = \n",
    "        create_warm_start_crew_routes(arc_data, B[1:warm_start_supp_plans_per_fire, :, :], warm_start_routes_per_crew)\n",
    "      \n",
    "    initial_num_fire_plans = copy(num_plans_per_fire)\n",
    "    initial_num_crew_plans = copy(num_plans_per_crew)\n",
    "\n",
    "    last_total_crew_plans = -1\n",
    "    last_total_fire_plans = -1\n",
    "\n",
    "    total_crew_plans = sum(num_plans_per_crew)\n",
    "    total_fire_plans = sum(num_plans_per_fire)\n",
    "\n",
    "    n_iter = 0\n",
    "    \n",
    "    fire_subproblem_times = []\n",
    "    crew_subproblem_times = []\n",
    "    \n",
    "    crew_plan_histories = []\n",
    "    fire_plan_histories = []\n",
    "    \n",
    "    mp_model = []\n",
    "    \n",
    "    \n",
    "    time = 0\n",
    "    \n",
    "    # run CG algorithm until proof of optimality #\n",
    "    \n",
    "    while (time < time_limit_secs) & (maximum(num_plans_per_crew) < 1000) & (maximum(num_plans_per_fire) < 1000) &\n",
    "          ((total_crew_plans != last_total_crew_plans) | (total_fire_plans != last_total_fire_plans))\n",
    "\n",
    "\n",
    "        n_iter += 1\n",
    "\n",
    "        last_total_crew_plans = total_crew_plans\n",
    "        last_total_fire_plans = total_fire_plans\n",
    "\n",
    "        time += @elapsed mp_model, p, s, r = run_master_problem_step(num_plans_per_crew, \n",
    "                                                                    num_plans_per_fire, \n",
    "                                                                    crew_plan_costs, \n",
    "                                                                    fire_plan_costs,\n",
    "                                                                    A, B)\n",
    "\n",
    "        time += @elapsed A, crew_plan_costs, num_plans_per_crew  = \n",
    "                add_route_plans(arc_data, s, r, route_subproblem_models, num_plans_per_crew, A, crew_plan_costs)\n",
    "\n",
    "        \n",
    "        time += @elapsed B, fire_plan_costs, num_plans_per_fire  = \n",
    "                add_suppression_plans(fire_data, p, r, fire_subproblem_models, num_plans_per_fire, B, fire_plan_costs, 0.01)\n",
    "        \n",
    "        total_crew_plans = sum(num_plans_per_crew)\n",
    "        total_fire_plans = sum(num_plans_per_fire)\n",
    "\n",
    "    end\n",
    "    \n",
    "    final_num_fire_plans = copy(num_plans_per_fire)\n",
    "    final_num_crew_plans = copy(num_plans_per_crew)\n",
    "    \n",
    "\n",
    "    int_problem = @elapsed model, supp, fire_plans_chosen, crew_routes_chosen = \n",
    "                            solve_integer_MP(num_plans_per_crew, \n",
    "                            num_plans_per_fire, \n",
    "                            crew_plan_costs, \n",
    "                            fire_plan_costs,\n",
    "                            A, B);\n",
    "    return_time = @elapsed d = Dict(\"obj_LR\" => objective_value(m), \"obj_MP\" => objective_value(mp_model), \n",
    "         \"obj_PB\" => objective_value(model),\n",
    "         \"time_LR\" => relaxation_time, \"time_formulate\" => formulate_time, \"time_fire_warm_start\" => fire_warm_start_time, \n",
    "         \"time_crew_warm_start\" => crew_warm_start_time, \"iterations\" => n_iter, \"cg_time\" => time,\n",
    "         \"restore_int_time\" => int_problem,\n",
    "         \"fire_plans_chosen\" => fire_plans_chosen, \"crew_routes_chosen\" => crew_routes_chosen,\n",
    "         \"initial_fire_plans\" => initial_num_fire_plans, \"initial_crew_routes\" => initial_num_crew_plans,\n",
    "         \"final_fire_plans\" => final_num_fire_plans, \"final_crew_routes\" => final_num_crew_plans,\n",
    "         \"supp_LR\" => value.(l) / LINE_PER_CREW, \"supp_PB\" => supp, \"num_plans_per_crew\" => num_plans_per_crew,\n",
    "         \"num_plans_per_fire\" => num_plans_per_fire, \"crew_plan_costs\" => crew_plan_costs, \n",
    "         \"fire_plan_costs\" => fire_plan_costs, \"A\" => A, \"B\" => B)\n",
    "    return d\n",
    "end"
   ]
  },
  {
   "cell_type": "code",
   "execution_count": 54,
   "id": "df3231bd",
   "metadata": {},
   "outputs": [
    {
     "data": {
      "text/plain": [
       "Any[]"
      ]
     },
     "execution_count": 54,
     "metadata": {},
     "output_type": "execute_result"
    }
   ],
   "source": [
    "timings = []"
   ]
  },
  {
   "cell_type": "code",
   "execution_count": 62,
   "id": "05f7a6aa",
   "metadata": {},
   "outputs": [
    {
     "data": {
      "text/plain": [
       "1800"
      ]
     },
     "execution_count": 62,
     "metadata": {},
     "output_type": "execute_result"
    }
   ],
   "source": [
    "limit = 1800"
   ]
  },
  {
   "cell_type": "code",
   "execution_count": 63,
   "id": "9af9f621",
   "metadata": {},
   "outputs": [],
   "source": [
    "crews = [20, 25, 30]\n",
    "fires = [20, 25, 30];"
   ]
  },
  {
   "cell_type": "code",
   "execution_count": 64,
   "id": "9b40d49b",
   "metadata": {},
   "outputs": [],
   "source": [
    "for crew in crews\n",
    "    for fire in fires\n",
    "        NUM_CREWS = crew\n",
    "        NUM_FIRES = fire\n",
    "        start_perims, progressions, fire_dists, base_fire_dists, tau, tau_base_to_fire, rest_by, current_fire, rested_periods =\n",
    "             read_inputs(in_path, init_path)\n",
    "\n",
    "        arcs = define_arc_sets(tau, tau_base_to_fire, current_fire, rest_by, rested_periods)\n",
    "        fire_progs = FireProgressionData(start_perims, progressions)\n",
    "        \n",
    "        d = test_cg_time(arcs, fire_progs, 1, 20, limit)\n",
    "        true_time = (d[\"time_LR\"] + d[\"time_fire_warm_start\"] + d[\"time_crew_warm_start\"] + d[\"time_formulate\"] + d[\"cg_time\"] \n",
    "        + d[\"restore_int_time\"])\n",
    "        \n",
    "        to_optimality, feasible_solution, lb, ub, gap, formulate_time, solve_time = test_gurobi_time(arcs, fire_progs, maximum([true_time, limit]))\n",
    "        \n",
    "        push!(timings, copy([(to_optimality, feasible_solution, lb, ub, gap, formulate_time, solve_time),\n",
    "                 (d[\"time_LR\"], d[\"time_fire_warm_start\"], d[\"time_crew_warm_start\"], d[\"time_formulate\"],\n",
    "                  d[\"cg_time\"], d[\"restore_int_time\"], d[\"obj_PB\"])]))\n",
    "    end\n",
    "end"
   ]
  },
  {
   "cell_type": "code",
   "execution_count": 65,
   "id": "9f16e455",
   "metadata": {},
   "outputs": [
    {
     "data": {
      "text/plain": [
       "18-element Vector{Any}:\n",
       " Tuple{Real, Real, Float64, Float64, Float64, Float64, Float64}[(true, true, 9.864700630240481e6, 9.865654575218208e6, 9.669353112392829e-5, 34.6577808, 54.4274217), (35.1403483, 0.7059322, 39.1470167, 30.4855556, 41.230449599999986, 1.4775433, 1.0074170510050012e7)]\n",
       " Tuple{Real, Real, Float64, Float64, Float64, Float64, Float64}[(false, true, 2.009344665175299e7, 2.0096575590210617e7, 0.00015569510554579302, 115.2775525, 1086.092535), (129.1836738, 1.1031136, 114.5847021, 97.6820908, 111.00553269999999, 23.9362549, 2.0782143410384215e7)]\n",
       " Tuple{Real, Real, Float64, Float64, Float64, Float64, Float64}[(false, true, 2.9184207606317412e7, 2.9187811315352328e7, 0.00012346623033774784, 268.590304, 932.5448877), (271.4639254, 0.6850069, 293.5175749, 267.654553, 187.3184130000001, 6.8034636, 2.932235636724548e7)]\n",
       " Tuple{Real, Real, Float64, Float64, Float64, Float64, Float64}[(true, true, 7.391116161382975e6, 7.39129983863049e6, 2.4850466294840665e-5, 51.0822236, 93.0152228), (46.6756766, 0.7066454, 46.2372712, 39.7088543, 103.4742307, 6.1990226, 7.787426800875236e6)]\n",
       " Tuple{Real, Real, Float64, Float64, Float64, Float64, Float64}[(true, true, 1.756020466006238e7, 1.7561704877268936e7, 8.542548784646542e-5, 146.8934051, 450.5659573), (158.57894620000002, 1.1095539, 157.6625255, 126.3446143, 155.9092649, 24.9547146, 1.775151959351935e7)]\n",
       " Tuple{Real, Real, Float64, Float64, Float64, Float64, Float64}[(false, true, 2.6248849860107742e7, 2.6256654358036857e7, 0.0002972388569652623, 359.1343805, 889.3587979), (355.0609205, 1.4005431, 347.1032677, 295.7852464, 236.30715999999995, 11.6266174, 2.6296187988902934e7)]\n",
       " Tuple{Real, Real, Float64, Float64, Float64, Float64, Float64}[(false, true, 5.619886700633125e6, 5.623451368620183e6, 0.0006338932718346946, 52.07092, 1148.6204422), (54.0174645, 0.6749555, 53.1345852, 60.3861384, 154.58413459999989, 1.831118, 5.677507699659591e6)]\n",
       " Tuple{Real, Real, Float64, Float64, Float64, Float64, Float64}[(true, true, 1.564082609094152e7, 1.564199521890052e7, 7.474289198012714e-5, 177.0156544, 702.8609556), (183.9512799, 1.1373155, 177.7335088, 160.2068167, 175.4428079, 29.5118791, 1.5917994198894033e7)]\n",
       " Tuple{Real, Real, Float64, Float64, Float64, Float64, Float64}[(false, true, 2.418413111422234e7, 2.4215842816414528e7, 0.0013095436088101698, 433.9854516, 1054.1310208), (427.2709685, 1.6877436, 426.8713981, 345.7147521, 217.74220640000004, 64.21876, 2.43373896123811e7)]\n",
       " Tuple{Real, Real, Float64, Float64, Float64, Float64, Float64}[(false, true, 2.9184207606317412e7, 2.9187761750574876e7, 0.00012176830439536917, 281.0899202, 1520.5541011), (307.07306309999996, 0.9955517, 297.694918, 281.1116823, 194.36381649999984, 2.8127471, 2.932235636724548e7)]\n",
       " Tuple{Real, Real, Float64, Float64, Float64, Float64, Float64}[(true, true, 3.9659985663300425e7, 3.966005743513309e7, 1.8096754596152367e-6, 513.1741762, 815.9021925), (519.4868675, 0.5551668, 521.2932365, 455.43778610000004, 240.89179999999996, 3.7352627, 3.9831911549461685e7)]\n",
       " Tuple{Real, Real, Float64, Float64, Float64, Float64, Float64}[(true, true, 9.630396071554688e7, 9.630397890667146e7, 1.8889276221785394e-7, 878.7298734, 279.7331658), (886.9799315, 1.1791489, 876.5983073, 760.0272630999999, 261.23433570000003, 0.4438202, 9.632620277769317e7)]\n",
       " Tuple{Real, Real, Float64, Float64, Float64, Float64, Float64}[(false, true, 2.6248849860107742e7, 2.6256654358036857e7, 0.0002972388569652623, 344.46999, 1457.1005778), (353.9374881, 1.6140664, 349.5691806, 304.0276296, 213.32229339999992, 7.1427323, 2.630479738974678e7)]\n",
       " Tuple{Real, Real, Float64, Real, Real, Float64, Float64}[(false, false, -1.0e100, false, false, 22100.8897923, 3.7673664), (663.483465, 0.7927817, 666.5987423, 575.8535292, 297.5617339, 5.7429961, 3.5784857231967404e7)]\n",
       " Tuple{Real, Real, Float64, Float64, Float64, Float64, Float64}[(true, true, 4.7999264448789276e7, 4.8001989187734365e7, 5.67630423487849e-5, 1136.7832021, 859.5073436), (1137.0844504000002, 0.7892697, 1156.6792077, 972.1768657, 310.4749869999999, 28.2635923, 4.973429916143836e7)]\n",
       " Tuple{Real, Real, Float64, Float64, Float64, Float64, Float64}[(false, true, 2.421071327140047e7, 2.4214835105560113e7, 0.00017021937757057115, 398.3825405, 1403.2345019), (406.66400180000005, 1.606401, 397.9828157, 341.8907854, 205.61908550000004, 83.7515685, 2.432898628809689e7)]\n",
       " Tuple{Real, Real, Float64, Float64, Float64, Float64, Float64}[(false, true, 3.3211756693891816e7, 3.3219083499886304e7, 0.00022056014864207122, 774.8147342, 1899.2166773), (771.50962, 1.9832644, 775.458616, 663.5611151, 383.41371119999997, 73.1504716, 3.362390494603208e7)]\n",
       " Tuple{Real, Real, Float64, Float64, Float64, Float64, Float64}[(false, true, 4.384994114380688e7, 4.385534781004084e7, 0.00012328408059550125, 1349.7901424, 2874.6319259), (1317.7354342, 1.0000283, 1305.0659119, 1132.033336, 456.11830019999996, 7.4018422, 4.406081511586156e7)]"
      ]
     },
     "execution_count": 65,
     "metadata": {},
     "output_type": "execute_result"
    }
   ],
   "source": [
    "timings"
   ]
  },
  {
   "cell_type": "code",
   "execution_count": 59,
   "id": "41b992f7",
   "metadata": {},
   "outputs": [
    {
     "data": {
      "text/plain": [
       "9-element Vector{Any}:\n",
       " Tuple{Real, Real, Float64, Float64, Float64, Float64, Float64}[(true, true, 9.864700630240481e6, 9.865654575218208e6, 9.669353112392829e-5, 34.6577808, 54.4274217), (35.1403483, 0.7059322, 39.1470167, 30.4855556, 41.230449599999986, 1.4775433, 1.0074170510050012e7)]\n",
       " Tuple{Real, Real, Float64, Float64, Float64, Float64, Float64}[(false, true, 2.009344665175299e7, 2.0096575590210617e7, 0.00015569510554579302, 115.2775525, 1086.092535), (129.1836738, 1.1031136, 114.5847021, 97.6820908, 111.00553269999999, 23.9362549, 2.0782143410384215e7)]\n",
       " Tuple{Real, Real, Float64, Float64, Float64, Float64, Float64}[(false, true, 2.9184207606317412e7, 2.9187811315352328e7, 0.00012346623033774784, 268.590304, 932.5448877), (271.4639254, 0.6850069, 293.5175749, 267.654553, 187.3184130000001, 6.8034636, 2.932235636724548e7)]\n",
       " Tuple{Real, Real, Float64, Float64, Float64, Float64, Float64}[(true, true, 7.391116161382975e6, 7.39129983863049e6, 2.4850466294840665e-5, 51.0822236, 93.0152228), (46.6756766, 0.7066454, 46.2372712, 39.7088543, 103.4742307, 6.1990226, 7.787426800875236e6)]\n",
       " Tuple{Real, Real, Float64, Float64, Float64, Float64, Float64}[(true, true, 1.756020466006238e7, 1.7561704877268936e7, 8.542548784646542e-5, 146.8934051, 450.5659573), (158.57894620000002, 1.1095539, 157.6625255, 126.3446143, 155.9092649, 24.9547146, 1.775151959351935e7)]\n",
       " Tuple{Real, Real, Float64, Float64, Float64, Float64, Float64}[(false, true, 2.6248849860107742e7, 2.6256654358036857e7, 0.0002972388569652623, 359.1343805, 889.3587979), (355.0609205, 1.4005431, 347.1032677, 295.7852464, 236.30715999999995, 11.6266174, 2.6296187988902934e7)]\n",
       " Tuple{Real, Real, Float64, Float64, Float64, Float64, Float64}[(false, true, 5.619886700633125e6, 5.623451368620183e6, 0.0006338932718346946, 52.07092, 1148.6204422), (54.0174645, 0.6749555, 53.1345852, 60.3861384, 154.58413459999989, 1.831118, 5.677507699659591e6)]\n",
       " Tuple{Real, Real, Float64, Float64, Float64, Float64, Float64}[(true, true, 1.564082609094152e7, 1.564199521890052e7, 7.474289198012714e-5, 177.0156544, 702.8609556), (183.9512799, 1.1373155, 177.7335088, 160.2068167, 175.4428079, 29.5118791, 1.5917994198894033e7)]\n",
       " Tuple{Real, Real, Float64, Float64, Float64, Float64, Float64}[(false, true, 2.418413111422234e7, 2.4215842816414528e7, 0.0013095436088101698, 433.9854516, 1054.1310208), (427.2709685, 1.6877436, 426.8713981, 345.7147521, 217.74220640000004, 64.21876, 2.43373896123811e7)]"
      ]
     },
     "execution_count": 59,
     "metadata": {},
     "output_type": "execute_result"
    }
   ],
   "source": [
    "crews = [20, 25, 30]\n",
    "fires = [10, 15, 20]\n",
    "old_timings = copy(timings)"
   ]
  },
  {
   "cell_type": "code",
   "execution_count": 73,
   "id": "e34134e4",
   "metadata": {},
   "outputs": [
    {
     "data": {
      "text/plain": [
       "0.020780537252914344"
      ]
     },
     "execution_count": 73,
     "metadata": {},
     "output_type": "execute_result"
    }
   ],
   "source": [
    "(1007 - 986.5) /986.5"
   ]
  },
  {
   "cell_type": "code",
   "execution_count": 87,
   "id": "840f99d6",
   "metadata": {},
   "outputs": [
    {
     "data": {
      "text/plain": [
       "(2669.0767982999996, 2674.0314115)"
      ]
     },
     "execution_count": 87,
     "metadata": {},
     "output_type": "execute_result"
    }
   ],
   "source": [
    "sum(timings[17][2][1:6]), sum(timings[17][1][6:7])"
   ]
  },
  {
   "cell_type": "code",
   "execution_count": 88,
   "id": "f0fd2f2b",
   "metadata": {},
   "outputs": [
    {
     "data": {
      "text/plain": [
       "1.2186412251474623"
      ]
     },
     "execution_count": 88,
     "metadata": {},
     "output_type": "execute_result"
    }
   ],
   "source": [
    "(timings[17][2][7] - timings[17][1][4]) /  timings[17][1][4] * 100"
   ]
  },
  {
   "cell_type": "code",
   "execution_count": 90,
   "id": "94c6f411",
   "metadata": {},
   "outputs": [
    {
     "data": {
      "text/plain": [
       "3.3219083499886304e7"
      ]
     },
     "execution_count": 90,
     "metadata": {},
     "output_type": "execute_result"
    }
   ],
   "source": [
    "timings[17][1][4]"
   ]
  },
  {
   "cell_type": "code",
   "execution_count": 129,
   "id": "db3e57f4",
   "metadata": {},
   "outputs": [
    {
     "data": {
      "text/plain": [
       "(true, true, 1.9253172996207774e6, 1.9255037178859836e6, 9.68153234266111e-5, 2.1375163, 3.7449978)"
      ]
     },
     "execution_count": 129,
     "metadata": {},
     "output_type": "execute_result"
    }
   ],
   "source": [
    "to_optimality, feasible_solution, lb, ub, gap, formulate_time, solve_time = test_gurobi_time(arcs, fire_progs, maximum([true_time, limit]))"
   ]
  },
  {
   "cell_type": "code",
   "execution_count": 130,
   "id": "8e6ae1a3",
   "metadata": {},
   "outputs": [
    {
     "data": {
      "text/plain": [
       "1-element Vector{Any}:\n",
       " Tuple{Real, Real, Float64, Float64, Float64, Float64, Float64}[(true, true, 1.9253172996207774e6, 1.9255037178859836e6, 9.68153234266111e-5, 2.1375163, 3.7449978), (4.0449079999999995, 0.9633874, 3.4859903, 3.1090394, 10.028080999999998, 0.0930818, 1.980870999262332e6)]"
      ]
     },
     "execution_count": 130,
     "metadata": {},
     "output_type": "execute_result"
    }
   ],
   "source": []
  },
  {
   "cell_type": "code",
   "execution_count": 108,
   "id": "e2db8699",
   "metadata": {},
   "outputs": [
    {
     "data": {
      "text/plain": [
       "145.9139017"
      ]
     },
     "execution_count": 108,
     "metadata": {},
     "output_type": "execute_result"
    }
   ],
   "source": [
    "d[\"time_crew_warm_start\"]"
   ]
  },
  {
   "cell_type": "code",
   "execution_count": 76,
   "id": "145ed5e9",
   "metadata": {},
   "outputs": [],
   "source": [
    "d = test_cg_time(arcs, fire_progs, 1, 20, 100);"
   ]
  },
  {
   "cell_type": "code",
   "execution_count": 66,
   "id": "aaf17570",
   "metadata": {},
   "outputs": [
    {
     "data": {
      "text/plain": [
       "7.868934500000002"
      ]
     },
     "execution_count": 66,
     "metadata": {},
     "output_type": "execute_result"
    }
   ],
   "source": [
    "d[\"cg_time\"]"
   ]
  },
  {
   "cell_type": "code",
   "execution_count": 77,
   "id": "e42374bc",
   "metadata": {},
   "outputs": [
    {
     "data": {
      "text/plain": [
       "178.6118"
      ]
     },
     "execution_count": 77,
     "metadata": {},
     "output_type": "execute_result"
    }
   ],
   "source": []
  },
  {
   "cell_type": "code",
   "execution_count": 82,
   "id": "f2cdbb04",
   "metadata": {},
   "outputs": [
    {
     "data": {
      "text/plain": [
       "1.1878097808767412e7"
      ]
     },
     "execution_count": 82,
     "metadata": {},
     "output_type": "execute_result"
    }
   ],
   "source": [
    "d[\"obj_PB\"]"
   ]
  },
  {
   "cell_type": "code",
   "execution_count": null,
   "id": "821e6f0d",
   "metadata": {},
   "outputs": [],
   "source": [
    "1==1"
   ]
  },
  {
   "cell_type": "code",
   "execution_count": 145,
   "id": "de05c6b8",
   "metadata": {},
   "outputs": [],
   "source": [
    "m, p, l, ff, fr, rf, rr = full_formulation(true, arcs, fire_progs);"
   ]
  },
  {
   "cell_type": "code",
   "execution_count": 146,
   "id": "009bd455",
   "metadata": {},
   "outputs": [],
   "source": [
    "set_optimizer_attribute(m, \"OutputFlag\", 1)"
   ]
  },
  {
   "cell_type": "code",
   "execution_count": 147,
   "id": "fe12d9a6",
   "metadata": {},
   "outputs": [],
   "source": [
    "set_optimizer_attribute(m, \"TimeLimit\", 3)"
   ]
  },
  {
   "cell_type": "code",
   "execution_count": 148,
   "id": "4e22320f",
   "metadata": {},
   "outputs": [
    {
     "name": "stdout",
     "output_type": "stream",
     "text": [
      "Gurobi Optimizer version 9.0.3 build v9.0.3rc0 (win64)\r\n",
      "Optimize a model with 4114 rows, 21538 columns and 59058 nonzeros\r\n",
      "Model fingerprint: 0xafa590aa\r\n",
      "Variable types: 174 continuous, 21364 integer (0 binary)\r\n",
      "Coefficient statistics:\r\n",
      "  Matrix range     [6e-02, 4e+00]\r\n",
      "  Objective range  [1e+01, 9e+02]\r\n",
      "  Bounds range     [0e+00, 0e+00]\r\n",
      "  RHS range        [1e+00, 1e+03]\r\n",
      "Presolve removed 1758 rows and 5369 columns\r\n",
      "Presolve time: 1.26s\r\n",
      "Presolved: 2356 rows, 16169 columns, 44969 nonzeros\r\n",
      "Variable types: 14 continuous, 16155 integer (2006 binary)\r\n",
      "\r\n",
      "Root relaxation: objective 2.804577e+06, 13285 iterations, 0.68 seconds\r\n",
      "\r\n",
      "    Nodes    |    Current Node    |     Objective Bounds      |     Work\r\n",
      " Expl Unexpl |  Obj  Depth IntInf | Incumbent    BestBd   Gap | It/Node Time\r\n",
      "\r\n",
      "     0     0 2804577.03    0   35          - 2804577.03      -     -    2s\r\n",
      "     0     0 2846733.01    0   43          - 2846733.01      -     -    3s\r\n",
      "\r\n",
      "Cutting planes:\r\n",
      "  MIR: 2\r\n",
      "  Zero half: 1\r\n",
      "  RLT: 1\r\n",
      "\r\n",
      "Explored 1 nodes (13443 simplex iterations) in 3.01 seconds\r\n",
      "Thread count was 8 (of 8 available processors)\r\n",
      "\r\n",
      "Solution count 0\r\n",
      "\r\n",
      "Time limit reached\r\n",
      "Best objective -, best bound 2.846733011415e+06, gap -\r\n",
      "\r\n",
      "User-callback calls 456, time in user-callback 0.00 sec\r\n"
     ]
    }
   ],
   "source": [
    "optimize!(m)"
   ]
  },
  {
   "cell_type": "code",
   "execution_count": 149,
   "id": "0f6005fe",
   "metadata": {},
   "outputs": [
    {
     "data": {
      "text/plain": [
       "NO_SOLUTION::ResultStatusCode = 0"
      ]
     },
     "execution_count": 149,
     "metadata": {},
     "output_type": "execute_result"
    }
   ],
   "source": [
    "primal_status(m)"
   ]
  },
  {
   "cell_type": "code",
   "execution_count": 150,
   "id": "0be65ef5",
   "metadata": {},
   "outputs": [
    {
     "data": {
      "text/plain": [
       "false"
      ]
     },
     "execution_count": 150,
     "metadata": {},
     "output_type": "execute_result"
    }
   ],
   "source": [
    "has_values(m)"
   ]
  },
  {
   "cell_type": "code",
   "execution_count": 152,
   "id": "668efc49",
   "metadata": {},
   "outputs": [
    {
     "data": {
      "text/plain": [
       "2.8467330114145274e6"
      ]
     },
     "execution_count": 152,
     "metadata": {},
     "output_type": "execute_result"
    }
   ],
   "source": [
    "objective_bound(m)"
   ]
  },
  {
   "cell_type": "code",
   "execution_count": 151,
   "id": "f3bb007e",
   "metadata": {},
   "outputs": [
    {
     "ename": "LoadError",
     "evalue": "Result index of attribute MathOptInterface.ObjectiveValue(1) out of bounds. There are currently 0 solution(s) in the model.",
     "output_type": "error",
     "traceback": [
      "Result index of attribute MathOptInterface.ObjectiveValue(1) out of bounds. There are currently 0 solution(s) in the model.",
      "",
      "Stacktrace:",
      "  [1] check_result_index_bounds",
      "    @ C:\\Users\\mit\\.julia\\packages\\MathOptInterface\\lRbIA\\src\\attributes.jl:170 [inlined]",
      "  [2] get(model::Gurobi.Optimizer, attr::MathOptInterface.ObjectiveValue)",
      "    @ Gurobi C:\\Users\\mit\\.julia\\packages\\Gurobi\\A9YqC\\src\\MOI_wrapper\\MOI_wrapper.jl:3122",
      "  [3] get(b::MathOptInterface.Bridges.LazyBridgeOptimizer{Gurobi.Optimizer}, attr::MathOptInterface.ObjectiveValue)",
      "    @ MathOptInterface.Bridges C:\\Users\\mit\\.julia\\packages\\MathOptInterface\\lRbIA\\src\\Bridges\\bridge_optimizer.jl:946",
      "  [4] get(model::MathOptInterface.Utilities.CachingOptimizer{MathOptInterface.Bridges.LazyBridgeOptimizer{Gurobi.Optimizer}, MathOptInterface.Utilities.UniversalFallback{MathOptInterface.Utilities.Model{Float64}}}, attr::MathOptInterface.ObjectiveValue)",
      "    @ MathOptInterface.Utilities C:\\Users\\mit\\.julia\\packages\\MathOptInterface\\lRbIA\\src\\Utilities\\cachingoptimizer.jl:803",
      "  [5] _moi_get_result(model::MathOptInterface.Utilities.CachingOptimizer{MathOptInterface.Bridges.LazyBridgeOptimizer{Gurobi.Optimizer}, MathOptInterface.Utilities.UniversalFallback{MathOptInterface.Utilities.Model{Float64}}}, args::MathOptInterface.ObjectiveValue)",
      "    @ JuMP C:\\Users\\mit\\.julia\\packages\\JuMP\\lnUbA\\src\\JuMP.jl:1226",
      "  [6] get(model::Model, attr::MathOptInterface.ObjectiveValue)",
      "    @ JuMP C:\\Users\\mit\\.julia\\packages\\JuMP\\lnUbA\\src\\JuMP.jl:1251",
      "  [7] objective_value(model::Model; result::Int64)",
      "    @ JuMP C:\\Users\\mit\\.julia\\packages\\JuMP\\lnUbA\\src\\objective.jl:42",
      "  [8] objective_value(model::Model)",
      "    @ JuMP C:\\Users\\mit\\.julia\\packages\\JuMP\\lnUbA\\src\\objective.jl:42",
      "  [9] top-level scope",
      "    @ In[151]:1",
      " [10] eval",
      "    @ .\\boot.jl:373 [inlined]",
      " [11] include_string(mapexpr::typeof(REPL.softscope), mod::Module, code::String, filename::String)",
      "    @ Base .\\loading.jl:1196"
     ]
    }
   ],
   "source": [
    "objective_bound(m), objective_value(m), 100 * relative_gap(m), solve_time(m)"
   ]
  },
  {
   "cell_type": "code",
   "execution_count": 144,
   "id": "57c42155",
   "metadata": {},
   "outputs": [
    {
     "data": {
      "text/plain": [
       "11.003564834594727"
      ]
     },
     "execution_count": 144,
     "metadata": {},
     "output_type": "execute_result"
    }
   ],
   "source": []
  },
  {
   "cell_type": "code",
   "execution_count": 94,
   "id": "fec6b0bc",
   "metadata": {},
   "outputs": [
    {
     "data": {
      "text/plain": [
       "39.5601332"
      ]
     },
     "execution_count": 94,
     "metadata": {},
     "output_type": "execute_result"
    }
   ],
   "source": [
    "time = @elapsed result = run_CG(arcs, fire_progs, 1, 20, false)"
   ]
  },
  {
   "cell_type": "code",
   "execution_count": 99,
   "id": "41e6e080",
   "metadata": {},
   "outputs": [],
   "source": [
    "arr = hcat(result[\"crew_plan_histories\"]...)\n",
    "npzwrite(\"data/output/num_routes_history_20220428.npz\", arr)\n",
    "\n",
    "arr = hcat(result[\"fire_plan_histories\"]...)\n",
    "npzwrite(\"data/output/num_plans_history_20220428.npz\", arr)\n",
    "\n",
    "npzwrite(\"data/output/routes_chosen_20220428.npz\", result[\"crew_routes_chosen\"])\n",
    "npzwrite(\"data/output/plans_chosen_20220428.npz\", result[\"fire_plans_chosen\"])\n",
    "\n",
    "npzwrite(\"data/output/progress_20220428.npz\", convert.(Float64, result[\"progress\"]))"
   ]
  },
  {
   "cell_type": "code",
   "execution_count": 47,
   "id": "73f58abd",
   "metadata": {},
   "outputs": [
    {
     "data": {
      "text/html": [
       "<div class=\"data-frame\"><p>5 rows × 11 columns</p><table class=\"data-frame\"><thead><tr><th></th><th>ws_crew</th><th>ws_fire</th><th>iterations</th><th>time</th><th>lr_time</th><th>formulate_sp_time</th><th>fire_ws_time</th><th>crew_ws_time</th><th>mp_time</th><th>fire_sp_time</th><th>crew_sp_time</th></tr><tr><th></th><th title=\"Any\">Any</th><th title=\"Any\">Any</th><th title=\"Any\">Any</th><th title=\"Any\">Any</th><th title=\"Any\">Any</th><th title=\"Any\">Any</th><th title=\"Any\">Any</th><th title=\"Any\">Any</th><th title=\"Any\">Any</th><th title=\"Any\">Any</th><th title=\"Any\">Any</th></tr></thead><tbody><tr><th>1</th><td>1</td><td>1</td><td>81</td><td>71.5189</td><td>15.0839</td><td>12.9986</td><td>0.778878</td><td>19.4657</td><td>1.78935</td><td>14.5111</td><td>6.22183</td></tr><tr><th>2</th><td>1</td><td>5</td><td>72</td><td>71.7047</td><td>20.9026</td><td>13.0832</td><td>0.823242</td><td>15.3921</td><td>1.48462</td><td>13.2485</td><td>5.92072</td></tr><tr><th>3</th><td>1</td><td>10</td><td>75</td><td>80.0657</td><td>15.1494</td><td>16.5341</td><td>0.797358</td><td>24.7569</td><td>1.80112</td><td>13.4583</td><td>7.32333</td></tr><tr><th>4</th><td>1</td><td>20</td><td>66</td><td>63.2708</td><td>15.3872</td><td>12.3502</td><td>0.767028</td><td>14.7524</td><td>1.57581</td><td>12.7741</td><td>5.34393</td></tr><tr><th>5</th><td>3</td><td>20</td><td>65</td><td>79.9944</td><td>19.5781</td><td>12.6351</td><td>0.82071</td><td>26.0249</td><td>1.45265</td><td>11.9443</td><td>6.74731</td></tr></tbody></table></div>"
      ],
      "text/latex": [
       "\\begin{tabular}{r|ccccccccccc}\n",
       "\t& ws\\_crew & ws\\_fire & iterations & time & lr\\_time & formulate\\_sp\\_time & fire\\_ws\\_time & crew\\_ws\\_time & mp\\_time & fire\\_sp\\_time & crew\\_sp\\_time\\\\\n",
       "\t\\hline\n",
       "\t& Any & Any & Any & Any & Any & Any & Any & Any & Any & Any & Any\\\\\n",
       "\t\\hline\n",
       "\t1 & 1 & 1 & 81 & 71.5189 & 15.0839 & 12.9986 & 0.778878 & 19.4657 & 1.78935 & 14.5111 & 6.22183 \\\\\n",
       "\t2 & 1 & 5 & 72 & 71.7047 & 20.9026 & 13.0832 & 0.823242 & 15.3921 & 1.48462 & 13.2485 & 5.92072 \\\\\n",
       "\t3 & 1 & 10 & 75 & 80.0657 & 15.1494 & 16.5341 & 0.797358 & 24.7569 & 1.80112 & 13.4583 & 7.32333 \\\\\n",
       "\t4 & 1 & 20 & 66 & 63.2708 & 15.3872 & 12.3502 & 0.767028 & 14.7524 & 1.57581 & 12.7741 & 5.34393 \\\\\n",
       "\t5 & 3 & 20 & 65 & 79.9944 & 19.5781 & 12.6351 & 0.82071 & 26.0249 & 1.45265 & 11.9443 & 6.74731 \\\\\n",
       "\\end{tabular}\n"
      ],
      "text/plain": [
       "\u001b[1m5×11 DataFrame\u001b[0m\n",
       "\u001b[1m Row \u001b[0m│\u001b[1m ws_crew \u001b[0m\u001b[1m ws_fire \u001b[0m\u001b[1m iterations \u001b[0m\u001b[1m time    \u001b[0m\u001b[1m lr_time \u001b[0m\u001b[1m formulate_sp_time \u001b[0m\u001b[1m fire_ws_time \u001b[0m\u001b[1m crew_ws_time \u001b[0m\u001b[1m mp_time \u001b[0m\u001b[1m fire_sp_time \u001b[0m\u001b[1m crew_sp_time \u001b[0m\n",
       "\u001b[1m     \u001b[0m│\u001b[90m Any     \u001b[0m\u001b[90m Any     \u001b[0m\u001b[90m Any        \u001b[0m\u001b[90m Any     \u001b[0m\u001b[90m Any     \u001b[0m\u001b[90m Any               \u001b[0m\u001b[90m Any          \u001b[0m\u001b[90m Any          \u001b[0m\u001b[90m Any     \u001b[0m\u001b[90m Any          \u001b[0m\u001b[90m Any          \u001b[0m\n",
       "─────┼────────────────────────────────────────────────────────────────────────────────────────────────────────────────────────────────────\n",
       "   1 │ 1        1        81          71.5189  15.0839  12.9986            0.778878      19.4657       1.78935  14.5111       6.22183\n",
       "   2 │ 1        5        72          71.7047  20.9026  13.0832            0.823242      15.3921       1.48462  13.2485       5.92072\n",
       "   3 │ 1        10       75          80.0657  15.1494  16.5341            0.797358      24.7569       1.80112  13.4583       7.32333\n",
       "   4 │ 1        20       66          63.2708  15.3872  12.3502            0.767028      14.7524       1.57581  12.7741       5.34393\n",
       "   5 │ 3        20       65          79.9944  19.5781  12.6351            0.82071       26.0249       1.45265  11.9443       6.74731"
      ]
     },
     "execution_count": 47,
     "metadata": {},
     "output_type": "execute_result"
    }
   ],
   "source": [
    "times"
   ]
  },
  {
   "cell_type": "code",
   "execution_count": 48,
   "id": "d953c7a8",
   "metadata": {},
   "outputs": [
    {
     "data": {
      "text/html": [
       "<div class=\"data-frame\"><p>5 rows × 12 columns</p><table class=\"data-frame\"><thead><tr><th></th><th>ws_crew</th><th>ws_fire</th><th>iterations</th><th>PB_IP_opt_gap</th><th>MP_LR_opt_gap</th><th>MPWS_MPLR_opt_gap</th><th>total_fire_plans_sp</th><th>total_crew_routes_sp</th><th>sp_fire_plans_used</th><th>ws_fire_plans_used</th><th>sp_crew_routes_used</th><th>ws_crew_routes_used</th></tr><tr><th></th><th title=\"Any\">Any</th><th title=\"Any\">Any</th><th title=\"Any\">Any</th><th title=\"Any\">Any</th><th title=\"Any\">Any</th><th title=\"Any\">Any</th><th title=\"Any\">Any</th><th title=\"Any\">Any</th><th title=\"Any\">Any</th><th title=\"Any\">Any</th><th title=\"Any\">Any</th><th title=\"Any\">Any</th></tr></thead><tbody><tr><th>1</th><td>1</td><td>1</td><td>81</td><td>0.295392</td><td>0.0232669</td><td>35.5805</td><td>335</td><td>1282</td><td>3</td><td>4</td><td>22</td><td>0</td></tr><tr><th>2</th><td>1</td><td>5</td><td>72</td><td>0.261829</td><td>0.0232669</td><td>35.5805</td><td>317</td><td>1244</td><td>1</td><td>6</td><td>22</td><td>0</td></tr><tr><th>3</th><td>1</td><td>10</td><td>75</td><td>0.0382317</td><td>0.0232669</td><td>35.5805</td><td>341</td><td>1331</td><td>0</td><td>7</td><td>22</td><td>0</td></tr><tr><th>4</th><td>1</td><td>20</td><td>66</td><td>0.0384242</td><td>0.0232669</td><td>35.5805</td><td>324</td><td>1274</td><td>0</td><td>7</td><td>22</td><td>0</td></tr><tr><th>5</th><td>3</td><td>20</td><td>65</td><td>0.0432197</td><td>0.0232669</td><td>0.744975</td><td>296</td><td>1268</td><td>0</td><td>7</td><td>12</td><td>10</td></tr></tbody></table></div>"
      ],
      "text/latex": [
       "\\begin{tabular}{r|cccccccccccc}\n",
       "\t& ws\\_crew & ws\\_fire & iterations & PB\\_IP\\_opt\\_gap & MP\\_LR\\_opt\\_gap & MPWS\\_MPLR\\_opt\\_gap & total\\_fire\\_plans\\_sp & total\\_crew\\_routes\\_sp & sp\\_fire\\_plans\\_used & ws\\_fire\\_plans\\_used & sp\\_crew\\_routes\\_used & ws\\_crew\\_routes\\_used\\\\\n",
       "\t\\hline\n",
       "\t& Any & Any & Any & Any & Any & Any & Any & Any & Any & Any & Any & Any\\\\\n",
       "\t\\hline\n",
       "\t1 & 1 & 1 & 81 & 0.295392 & 0.0232669 & 35.5805 & 335 & 1282 & 3 & 4 & 22 & 0 \\\\\n",
       "\t2 & 1 & 5 & 72 & 0.261829 & 0.0232669 & 35.5805 & 317 & 1244 & 1 & 6 & 22 & 0 \\\\\n",
       "\t3 & 1 & 10 & 75 & 0.0382317 & 0.0232669 & 35.5805 & 341 & 1331 & 0 & 7 & 22 & 0 \\\\\n",
       "\t4 & 1 & 20 & 66 & 0.0384242 & 0.0232669 & 35.5805 & 324 & 1274 & 0 & 7 & 22 & 0 \\\\\n",
       "\t5 & 3 & 20 & 65 & 0.0432197 & 0.0232669 & 0.744975 & 296 & 1268 & 0 & 7 & 12 & 10 \\\\\n",
       "\\end{tabular}\n"
      ],
      "text/plain": [
       "\u001b[1m5×12 DataFrame\u001b[0m\n",
       "\u001b[1m Row \u001b[0m│\u001b[1m ws_crew \u001b[0m\u001b[1m ws_fire \u001b[0m\u001b[1m iterations \u001b[0m\u001b[1m PB_IP_opt_gap \u001b[0m\u001b[1m MP_LR_opt_gap \u001b[0m\u001b[1m MPWS_MPLR_opt_gap \u001b[0m\u001b[1m total_fire_plans_sp \u001b[0m\u001b[1m total_crew_routes_sp \u001b[0m\u001b[1m sp_fire_plans_used \u001b[0m\u001b[1m ws_fire_plans_used \u001b[0m\u001b[1m sp_crew_routes_used \u001b[0m\u001b[1m ws_crew_\u001b[0m ⋯\n",
       "\u001b[1m     \u001b[0m│\u001b[90m Any     \u001b[0m\u001b[90m Any     \u001b[0m\u001b[90m Any        \u001b[0m\u001b[90m Any           \u001b[0m\u001b[90m Any           \u001b[0m\u001b[90m Any               \u001b[0m\u001b[90m Any                 \u001b[0m\u001b[90m Any                  \u001b[0m\u001b[90m Any                \u001b[0m\u001b[90m Any                \u001b[0m\u001b[90m Any                 \u001b[0m\u001b[90m Any     \u001b[0m ⋯\n",
       "─────┼──────────────────────────────────────────────────────────────────────────────────────────────────────────────────────────────────────────────────────────────────────────────────────────────────\n",
       "   1 │ 1        1        81          0.295392       0.0232669      35.5805            335                  1282                  3                   4                   22                   0        ⋯\n",
       "   2 │ 1        5        72          0.261829       0.0232669      35.5805            317                  1244                  1                   6                   22                   0\n",
       "   3 │ 1        10       75          0.0382317      0.0232669      35.5805            341                  1331                  0                   7                   22                   0\n",
       "   4 │ 1        20       66          0.0384242      0.0232669      35.5805            324                  1274                  0                   7                   22                   0\n",
       "   5 │ 3        20       65          0.0432197      0.0232669      0.744975           296                  1268                  0                   7                   12                   10       ⋯\n",
       "\u001b[36m                                                                                                                                                                                        1 column omitted\u001b[0m"
      ]
     },
     "execution_count": 48,
     "metadata": {},
     "output_type": "execute_result"
    }
   ],
   "source": [
    "plans"
   ]
  },
  {
   "cell_type": "code",
   "execution_count": 43,
   "id": "0df2c6ac",
   "metadata": {},
   "outputs": [
    {
     "data": {
      "text/plain": [
       "unsuppressed_damage (generic function with 1 method)"
      ]
     },
     "execution_count": 43,
     "metadata": {},
     "output_type": "execute_result"
    }
   ],
   "source": [
    "function unsuppressed_damage(current_perim, progs)\n",
    "    \n",
    "    perims = zeros(length(progs))\n",
    "    perims[1] = current_perim * progs[1]\n",
    "    for i in 2:length(progs)\n",
    "        perims[i] = perims[i-1] * progs[i]\n",
    "    end\n",
    "\n",
    "    sum(perims) - perims[1] / 2 - perims[length(progs)] / 2\n",
    "end"
   ]
  },
  {
   "cell_type": "code",
   "execution_count": 44,
   "id": "9856f1c2",
   "metadata": {},
   "outputs": [
    {
     "data": {
      "text/plain": [
       "myopic_unsuppressed_damage (generic function with 1 method)"
      ]
     },
     "execution_count": 44,
     "metadata": {},
     "output_type": "execute_result"
    }
   ],
   "source": [
    "function myopic_unsuppressed_damage(current_perim, progs)\n",
    "    return current_perim * (1 + progs[1])/2\n",
    "end "
   ]
  },
  {
   "cell_type": "code",
   "execution_count": 45,
   "id": "d2179a2f",
   "metadata": {},
   "outputs": [
    {
     "data": {
      "text/plain": [
       "unsuppressed_size (generic function with 1 method)"
      ]
     },
     "execution_count": 45,
     "metadata": {},
     "output_type": "execute_result"
    }
   ],
   "source": [
    "function unsuppressed_size(current_perim, progs)\n",
    "    \n",
    "    perims = zeros(length(progs))\n",
    "    perims[1] = current_perim * progs[1]\n",
    "    for i in 2:length(progs)\n",
    "        perims[i] = perims[i-1] * progs[i]\n",
    "    end\n",
    "    perims[length(progs)]\n",
    "end"
   ]
  },
  {
   "cell_type": "code",
   "execution_count": 46,
   "id": "1cfc7f95",
   "metadata": {},
   "outputs": [
    {
     "data": {
      "text/plain": [
       "myopic_unsuppressed_size (generic function with 1 method)"
      ]
     },
     "execution_count": 46,
     "metadata": {},
     "output_type": "execute_result"
    }
   ],
   "source": [
    "function myopic_unsuppressed_size(current_perim, progs)\n",
    "    current_perim\n",
    "end"
   ]
  },
  {
   "cell_type": "code",
   "execution_count": 47,
   "id": "2e750cd0",
   "metadata": {},
   "outputs": [
    {
     "data": {
      "text/plain": [
       "baseline (generic function with 1 method)"
      ]
     },
     "execution_count": 47,
     "metadata": {},
     "output_type": "execute_result"
    }
   ],
   "source": [
    "function baseline(func)\n",
    "    \n",
    "    rest_periods = [[rest_by[i] + j for j = 0:BREAK_LENGTH if rest_by[i] + 1 + j <= NUM_TIME_PERIODS] for i = 1:NUM_CREWS]\n",
    "\n",
    "    current_period = 0\n",
    "    current_locations = copy(current_fire)\n",
    "    current_perims = copy(start_perims)\n",
    "    current_progs = copy(progressions)\n",
    "    all_assignments = []\n",
    "\n",
    "    while (current_period < NUM_TIME_PERIODS)\n",
    "        # get priorities\n",
    "        priorities = [func(current_perims[f], current_progs[f, :]) for f = 1:NUM_FIRES] \n",
    "        if sum(priorities) > 0.00001\n",
    "            priorities = priorities / sum(priorities)\n",
    "        end\n",
    "\n",
    "        # get available crews\n",
    "        available_crews = [crew for crew in 1:NUM_CREWS if !(current_period+1 in rest_periods[crew])]\n",
    "\n",
    "        # make distance array\n",
    "        dists = zeros(NUM_CREWS, NUM_FIRES)\n",
    "        for crew in 1:NUM_CREWS\n",
    "            if current_locations[crew] > -1\n",
    "                dists[crew, :] = fire_dists[current_locations[crew], 1:NUM_FIRES]\n",
    "            else\n",
    "                dists[crew, :] = base_fire_dists[crew, 1:NUM_FIRES]\n",
    "            end\n",
    "        end\n",
    "\n",
    "\n",
    "        # get allocations\n",
    "        allocs = get_allocations(length(available_crews), priorities)\n",
    "        assignments = get_assignments(available_crews, dists, allocs)\n",
    "\n",
    "\n",
    "        # update variables\n",
    "        current_period += 1\n",
    "        new_locations = convert.(Int, zeros(NUM_CREWS)) .- 1\n",
    "        for fire in 1:NUM_FIRES\n",
    "            for crew in assignments[fire]\n",
    "                new_locations[crew] = fire    \n",
    "            end\n",
    "        end\n",
    "        for crew in 1:NUM_CREWS\n",
    "            push!(all_assignments, (crew, current_locations[crew], new_locations[crew], current_period))\n",
    "        end\n",
    "        current_locations = copy(new_locations)\n",
    "        current_perims = [(current_perims[fire] - length(assignments[fire]) * LINE_PER_CREW / 2) * \n",
    "                  current_progs[fire, 1] - length(assignments[fire]) * LINE_PER_CREW / 2 for fire=1:NUM_FIRES]\n",
    "        current_perims = max.(current_perims, 0)\n",
    "        if current_period > 1\n",
    "\n",
    "\n",
    "            current_progs = current_progs[:, 2:size(current_progs)[2]]\n",
    "        end\n",
    "    end\n",
    "    \n",
    "    supp = convert.(Int, zeros(NUM_FIRES, NUM_TIME_PERIODS))\n",
    "    for assignment in all_assignments\n",
    "        if (assignment[3] > 0)\n",
    "            supp[assignment[3], assignment[4]] += 1\n",
    "        end\n",
    "    end\n",
    "    \n",
    "    base_fire_cost = \n",
    "    sum([base_fire_dists[i[1], i[3]] for i in all_assignments if (i[2] == -1) & (i[3] > -1)]) + \n",
    "    sum([ALPHA + base_fire_dists[i[1], i[2]] for i in all_assignments if (i[3] == -1) & (i[2] > -1)])\n",
    "\n",
    "    fire_fire_cost = sum([ALPHA + fire_dists[i[2], i[3]] for i in all_assignments if (i[3] > -1) & (i[2] > -1)])\n",
    "\n",
    "    total_route_cost = base_fire_cost + fire_fire_cost\n",
    "\n",
    "    total_damage_cost = BETA * sum(fire_plan_cost(start_perims[fire], supp[fire, :] * LINE_PER_CREW, progressions[fire, :])\n",
    "                                      for fire in 1:NUM_FIRES)\n",
    "\n",
    "    total_cost = total_route_cost + total_damage_cost\n",
    "    \n",
    "    return supp, total_cost\n",
    "end"
   ]
  },
  {
   "cell_type": "code",
   "execution_count": 48,
   "id": "8feee867",
   "metadata": {},
   "outputs": [
    {
     "data": {
      "text/plain": [
       "get_assignments (generic function with 1 method)"
      ]
     },
     "execution_count": 48,
     "metadata": {},
     "output_type": "execute_result"
    }
   ],
   "source": [
    "function get_assignments(available_crews, distances, allocations)\n",
    "    \n",
    "    priority = reverse(sortperm(allocations))\n",
    "    d = Dict()\n",
    "    \n",
    "    for fire in priority\n",
    "        dists = distances[:, fire]\n",
    "        assignments = sortperm(dists)\n",
    "        assignments = [i for i in assignments if i in available_crews][1:allocations[fire]]\n",
    "        available_crews = [i for i in available_crews if !(i in assignments)]\n",
    "        d[fire] = assignments\n",
    "    end\n",
    "    \n",
    "    d\n",
    "end   "
   ]
  },
  {
   "cell_type": "code",
   "execution_count": 49,
   "id": "93afe4a9",
   "metadata": {},
   "outputs": [
    {
     "data": {
      "text/plain": [
       "get_allocations (generic function with 1 method)"
      ]
     },
     "execution_count": 49,
     "metadata": {},
     "output_type": "execute_result"
    }
   ],
   "source": [
    "function get_allocations(available_crews, proportions)\n",
    "    \n",
    "    priority = reverse(sortperm(proportions))\n",
    "    allocations = convert.(Int, zeros(length(proportions)))\n",
    "    \n",
    "    for fire in priority\n",
    "        allocations[fire] = round(available_crews * proportions[fire])\n",
    "        proportions[fire] = 0\n",
    "        if sum(proportions) > 0.00001\n",
    "            proportions = proportions / sum(proportions)\n",
    "        end\n",
    "        available_crews -= allocations[fire]\n",
    "    end\n",
    "    \n",
    "    allocations\n",
    "end"
   ]
  },
  {
   "cell_type": "code",
   "execution_count": null,
   "id": "e888155d",
   "metadata": {},
   "outputs": [],
   "source": []
  }
 ],
 "metadata": {
  "kernelspec": {
   "display_name": "Julia 1.7.1",
   "language": "julia",
   "name": "julia-1.7"
  },
  "language_info": {
   "file_extension": ".jl",
   "mimetype": "application/julia",
   "name": "julia",
   "version": "1.7.1"
  }
 },
 "nbformat": 4,
 "nbformat_minor": 5
}
