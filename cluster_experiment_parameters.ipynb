{
 "cells": [
  {
   "cell_type": "code",
   "execution_count": 29,
   "id": "e687564b",
   "metadata": {},
   "outputs": [],
   "source": [
    "import json\n",
    "import os"
   ]
  },
  {
   "cell_type": "code",
   "execution_count": 30,
   "id": "eff179f8",
   "metadata": {},
   "outputs": [],
   "source": [
    "in_path = 'data/experiment_inputs'\n",
    "out_path = 'data/experiment_outputs'\n",
    "date = \"20221123\"\n",
    "\n",
    "input_path = f'{in_path}/{date}'\n",
    "output_path = f'{out_path}/{date}'"
   ]
  },
  {
   "cell_type": "code",
   "execution_count": 31,
   "id": "b20a010f",
   "metadata": {},
   "outputs": [],
   "source": [
    "if not os.path.isdir(in_path):\n",
    "    os.mkdir(in_path)\n",
    "if not os.path.isdir(input_path):\n",
    "    os.mkdir(input_path)\n",
    "    \n",
    "if not os.path.isdir(out_path):\n",
    "    os.mkdir(out_path)\n",
    "if not os.path.isdir(output_path):\n",
    "    os.mkdir(output_path)"
   ]
  },
  {
   "cell_type": "code",
   "execution_count": 32,
   "id": "4ff37a04",
   "metadata": {},
   "outputs": [],
   "source": [
    "d = {\"dcg\" : {\"num_crews\" : 10, \"num_fires\" : 3, \"line_per_crew\" : 17}}"
   ]
  },
  {
   "cell_type": "code",
   "execution_count": 33,
   "id": "2c6b1471",
   "metadata": {},
   "outputs": [],
   "source": [
    "# Serializing json\n",
    "json_object = json.dumps(d, indent=4)\n",
    " \n",
    "# Writing to sample.json\n",
    "with open(f\"{input_path}/precompile.json\", \"w\") as outfile:\n",
    "    outfile.write(json_object)\n",
    "    \n",
    "with open(f\"{input_path}/1.json\", \"w\") as outfile:\n",
    "    outfile.write(json_object)"
   ]
  },
  {
   "cell_type": "code",
   "execution_count": 34,
   "id": "e9c7418c",
   "metadata": {},
   "outputs": [],
   "source": [
    "d = {\"dcg\" : {\"num_crews\" : 20, \"num_fires\" : 6, \"line_per_crew\" : 17}}"
   ]
  },
  {
   "cell_type": "code",
   "execution_count": 35,
   "id": "f499f30d",
   "metadata": {},
   "outputs": [],
   "source": [
    "# Serializing json\n",
    "json_object = json.dumps(d, indent=4)\n",
    " \n",
    "# Writing to sample.json\n",
    "with open(f\"{input_path}/2.json\", \"w\") as outfile:\n",
    "    outfile.write(json_object)"
   ]
  },
  {
   "cell_type": "code",
   "execution_count": 36,
   "id": "97513487",
   "metadata": {},
   "outputs": [],
   "source": [
    "d = {\"dcg\" : {\"num_crews\" : 30, \"num_fires\" : 9, \"line_per_crew\" : 17}}"
   ]
  },
  {
   "cell_type": "code",
   "execution_count": 37,
   "id": "75a1979a",
   "metadata": {},
   "outputs": [],
   "source": [
    "# Serializing json\n",
    "json_object = json.dumps(d, indent=4)\n",
    " \n",
    "# Writing to sample.json\n",
    "with open(f\"{input_path}/3.json\", \"w\") as outfile:\n",
    "    outfile.write(json_object)"
   ]
  },
  {
   "cell_type": "code",
   "execution_count": 38,
   "id": "3cfd6816",
   "metadata": {},
   "outputs": [],
   "source": [
    "d = {\"dcg\" : {\"num_crews\" : 40, \"num_fires\" : 12, \"line_per_crew\" : 17}}"
   ]
  },
  {
   "cell_type": "code",
   "execution_count": 39,
   "id": "7146d166",
   "metadata": {},
   "outputs": [],
   "source": [
    "# Serializing json\n",
    "json_object = json.dumps(d, indent=4)\n",
    " \n",
    "# Writing to sample.json\n",
    "with open(f\"{input_path}/4.json\", \"w\") as outfile:\n",
    "    outfile.write(json_object)"
   ]
  },
  {
   "cell_type": "code",
   "execution_count": 40,
   "id": "d5de2505",
   "metadata": {},
   "outputs": [],
   "source": [
    "d = {\"dcg\" : {\"num_crews\" : 50, \"num_fires\" : 15, \"line_per_crew\" : 17}}"
   ]
  },
  {
   "cell_type": "code",
   "execution_count": 41,
   "id": "c347f078",
   "metadata": {},
   "outputs": [],
   "source": [
    "# Serializing json\n",
    "json_object = json.dumps(d, indent=4)\n",
    " \n",
    "# Writing to sample.json\n",
    "with open(f\"{input_path}/5.json\", \"w\") as outfile:\n",
    "    outfile.write(json_object)"
   ]
  },
  {
   "cell_type": "code",
   "execution_count": null,
   "id": "346c8a62",
   "metadata": {},
   "outputs": [],
   "source": []
  }
 ],
 "metadata": {
  "kernelspec": {
   "display_name": "Python 3",
   "language": "python",
   "name": "python3"
  },
  "language_info": {
   "codemirror_mode": {
    "name": "ipython",
    "version": 3
   },
   "file_extension": ".py",
   "mimetype": "text/x-python",
   "name": "python",
   "nbconvert_exporter": "python",
   "pygments_lexer": "ipython3",
   "version": "3.8.8"
  }
 },
 "nbformat": 4,
 "nbformat_minor": 5
}
