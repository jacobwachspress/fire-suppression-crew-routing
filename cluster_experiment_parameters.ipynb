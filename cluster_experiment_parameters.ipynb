{
 "cells": [
  {
   "cell_type": "code",
   "execution_count": 11,
   "id": "e687564b",
   "metadata": {},
   "outputs": [],
   "source": [
    "import json\n",
    "import os"
   ]
  },
  {
   "cell_type": "code",
   "execution_count": 12,
   "id": "eff179f8",
   "metadata": {},
   "outputs": [],
   "source": [
    "path = 'data/experiment_inputs'\n",
    "date = \"20221122\"\n",
    "\n",
    "out_path = f'{path}/{date}'"
   ]
  },
  {
   "cell_type": "code",
   "execution_count": 13,
   "id": "b20a010f",
   "metadata": {},
   "outputs": [],
   "source": [
    "if not os.path.isdir(path):\n",
    "    os.mkdir(path)\n",
    "if not os.path.isdir(out_path):\n",
    "    os.mkdir(out_path)"
   ]
  },
  {
   "cell_type": "code",
   "execution_count": 14,
   "id": "4ff37a04",
   "metadata": {},
   "outputs": [],
   "source": [
    "d = {\"dcg\" : {\"num_crews\" : 10, \"num_fires\" : 3, \"line_per_crew\" : 17}}"
   ]
  },
  {
   "cell_type": "code",
   "execution_count": 15,
   "id": "2c6b1471",
   "metadata": {},
   "outputs": [],
   "source": [
    "# Serializing json\n",
    "json_object = json.dumps(d, indent=4)\n",
    " \n",
    "# Writing to sample.json\n",
    "with open(f\"{out_path}/1.json\", \"w\") as outfile:\n",
    "    outfile.write(json_object)"
   ]
  },
  {
   "cell_type": "code",
   "execution_count": null,
   "id": "f499f30d",
   "metadata": {},
   "outputs": [],
   "source": []
  }
 ],
 "metadata": {
  "kernelspec": {
   "display_name": "Python 3",
   "language": "python",
   "name": "python3"
  },
  "language_info": {
   "codemirror_mode": {
    "name": "ipython",
    "version": 3
   },
   "file_extension": ".py",
   "mimetype": "text/x-python",
   "name": "python",
   "nbconvert_exporter": "python",
   "pygments_lexer": "ipython3",
   "version": "3.8.8"
  }
 },
 "nbformat": 4,
 "nbformat_minor": 5
}
